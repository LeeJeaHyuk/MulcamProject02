{
 "cells": [
  {
   "cell_type": "code",
   "execution_count": 156,
   "id": "eb594ab9",
   "metadata": {},
   "outputs": [],
   "source": [
    "import pandas as pd\n",
    "import numpy as np\n",
    "import matplotlib.pyplot as plt\n",
    "import seaborn as sns\n",
    "\n",
    "from IPython.core.interactiveshell import InteractiveShell\n",
    "InteractiveShell.ast_node_interactivity=\"all\"\n",
    "\n",
    "%matplotlib inline"
   ]
  },
  {
   "cell_type": "markdown",
   "id": "ef583f57",
   "metadata": {},
   "source": [
    "<br/>\n",
    "<br/>\n",
    "\n",
    "## 1. 데이터 로드"
   ]
  },
  {
   "cell_type": "code",
   "execution_count": 157,
   "id": "17a0e1c2",
   "metadata": {},
   "outputs": [],
   "source": [
    "## 데이터 불러오기\n",
    "\n",
    "xlsx = pd.read_excel('../../data/Real estate valuation data set.xlsx')\n",
    "data = xlsx.to_csv('../../data/Real_Estate.csv')\n",
    "df = pd.read_csv('../../data/Real_Estate.csv')"
   ]
  },
  {
   "cell_type": "code",
   "execution_count": 158,
   "id": "6f37719c",
   "metadata": {},
   "outputs": [
    {
     "data": {
      "text/html": [
       "<div>\n",
       "<style scoped>\n",
       "    .dataframe tbody tr th:only-of-type {\n",
       "        vertical-align: middle;\n",
       "    }\n",
       "\n",
       "    .dataframe tbody tr th {\n",
       "        vertical-align: top;\n",
       "    }\n",
       "\n",
       "    .dataframe thead th {\n",
       "        text-align: right;\n",
       "    }\n",
       "</style>\n",
       "<table border=\"1\" class=\"dataframe\">\n",
       "  <thead>\n",
       "    <tr style=\"text-align: right;\">\n",
       "      <th></th>\n",
       "      <th>Unnamed: 0</th>\n",
       "      <th>No</th>\n",
       "      <th>X1 transaction date</th>\n",
       "      <th>X2 house age</th>\n",
       "      <th>X3 distance to the nearest MRT station</th>\n",
       "      <th>X4 number of convenience stores</th>\n",
       "      <th>X5 latitude</th>\n",
       "      <th>X6 longitude</th>\n",
       "      <th>Y house price of unit area</th>\n",
       "    </tr>\n",
       "  </thead>\n",
       "  <tbody>\n",
       "    <tr>\n",
       "      <th>0</th>\n",
       "      <td>0</td>\n",
       "      <td>1</td>\n",
       "      <td>2012.916667</td>\n",
       "      <td>32.0</td>\n",
       "      <td>84.87882</td>\n",
       "      <td>10</td>\n",
       "      <td>24.98298</td>\n",
       "      <td>121.54024</td>\n",
       "      <td>37.9</td>\n",
       "    </tr>\n",
       "    <tr>\n",
       "      <th>1</th>\n",
       "      <td>1</td>\n",
       "      <td>2</td>\n",
       "      <td>2012.916667</td>\n",
       "      <td>19.5</td>\n",
       "      <td>306.59470</td>\n",
       "      <td>9</td>\n",
       "      <td>24.98034</td>\n",
       "      <td>121.53951</td>\n",
       "      <td>42.2</td>\n",
       "    </tr>\n",
       "    <tr>\n",
       "      <th>2</th>\n",
       "      <td>2</td>\n",
       "      <td>3</td>\n",
       "      <td>2013.583333</td>\n",
       "      <td>13.3</td>\n",
       "      <td>561.98450</td>\n",
       "      <td>5</td>\n",
       "      <td>24.98746</td>\n",
       "      <td>121.54391</td>\n",
       "      <td>47.3</td>\n",
       "    </tr>\n",
       "    <tr>\n",
       "      <th>3</th>\n",
       "      <td>3</td>\n",
       "      <td>4</td>\n",
       "      <td>2013.500000</td>\n",
       "      <td>13.3</td>\n",
       "      <td>561.98450</td>\n",
       "      <td>5</td>\n",
       "      <td>24.98746</td>\n",
       "      <td>121.54391</td>\n",
       "      <td>54.8</td>\n",
       "    </tr>\n",
       "    <tr>\n",
       "      <th>4</th>\n",
       "      <td>4</td>\n",
       "      <td>5</td>\n",
       "      <td>2012.833333</td>\n",
       "      <td>5.0</td>\n",
       "      <td>390.56840</td>\n",
       "      <td>5</td>\n",
       "      <td>24.97937</td>\n",
       "      <td>121.54245</td>\n",
       "      <td>43.1</td>\n",
       "    </tr>\n",
       "    <tr>\n",
       "      <th>...</th>\n",
       "      <td>...</td>\n",
       "      <td>...</td>\n",
       "      <td>...</td>\n",
       "      <td>...</td>\n",
       "      <td>...</td>\n",
       "      <td>...</td>\n",
       "      <td>...</td>\n",
       "      <td>...</td>\n",
       "      <td>...</td>\n",
       "    </tr>\n",
       "    <tr>\n",
       "      <th>409</th>\n",
       "      <td>409</td>\n",
       "      <td>410</td>\n",
       "      <td>2013.000000</td>\n",
       "      <td>13.7</td>\n",
       "      <td>4082.01500</td>\n",
       "      <td>0</td>\n",
       "      <td>24.94155</td>\n",
       "      <td>121.50381</td>\n",
       "      <td>15.4</td>\n",
       "    </tr>\n",
       "    <tr>\n",
       "      <th>410</th>\n",
       "      <td>410</td>\n",
       "      <td>411</td>\n",
       "      <td>2012.666667</td>\n",
       "      <td>5.6</td>\n",
       "      <td>90.45606</td>\n",
       "      <td>9</td>\n",
       "      <td>24.97433</td>\n",
       "      <td>121.54310</td>\n",
       "      <td>50.0</td>\n",
       "    </tr>\n",
       "    <tr>\n",
       "      <th>411</th>\n",
       "      <td>411</td>\n",
       "      <td>412</td>\n",
       "      <td>2013.250000</td>\n",
       "      <td>18.8</td>\n",
       "      <td>390.96960</td>\n",
       "      <td>7</td>\n",
       "      <td>24.97923</td>\n",
       "      <td>121.53986</td>\n",
       "      <td>40.6</td>\n",
       "    </tr>\n",
       "    <tr>\n",
       "      <th>412</th>\n",
       "      <td>412</td>\n",
       "      <td>413</td>\n",
       "      <td>2013.000000</td>\n",
       "      <td>8.1</td>\n",
       "      <td>104.81010</td>\n",
       "      <td>5</td>\n",
       "      <td>24.96674</td>\n",
       "      <td>121.54067</td>\n",
       "      <td>52.5</td>\n",
       "    </tr>\n",
       "    <tr>\n",
       "      <th>413</th>\n",
       "      <td>413</td>\n",
       "      <td>414</td>\n",
       "      <td>2013.500000</td>\n",
       "      <td>6.5</td>\n",
       "      <td>90.45606</td>\n",
       "      <td>9</td>\n",
       "      <td>24.97433</td>\n",
       "      <td>121.54310</td>\n",
       "      <td>63.9</td>\n",
       "    </tr>\n",
       "  </tbody>\n",
       "</table>\n",
       "<p>414 rows × 9 columns</p>\n",
       "</div>"
      ],
      "text/plain": [
       "     Unnamed: 0   No  X1 transaction date  X2 house age  \\\n",
       "0             0    1          2012.916667          32.0   \n",
       "1             1    2          2012.916667          19.5   \n",
       "2             2    3          2013.583333          13.3   \n",
       "3             3    4          2013.500000          13.3   \n",
       "4             4    5          2012.833333           5.0   \n",
       "..          ...  ...                  ...           ...   \n",
       "409         409  410          2013.000000          13.7   \n",
       "410         410  411          2012.666667           5.6   \n",
       "411         411  412          2013.250000          18.8   \n",
       "412         412  413          2013.000000           8.1   \n",
       "413         413  414          2013.500000           6.5   \n",
       "\n",
       "     X3 distance to the nearest MRT station  X4 number of convenience stores  \\\n",
       "0                                  84.87882                               10   \n",
       "1                                 306.59470                                9   \n",
       "2                                 561.98450                                5   \n",
       "3                                 561.98450                                5   \n",
       "4                                 390.56840                                5   \n",
       "..                                      ...                              ...   \n",
       "409                              4082.01500                                0   \n",
       "410                                90.45606                                9   \n",
       "411                               390.96960                                7   \n",
       "412                               104.81010                                5   \n",
       "413                                90.45606                                9   \n",
       "\n",
       "     X5 latitude  X6 longitude  Y house price of unit area  \n",
       "0       24.98298     121.54024                        37.9  \n",
       "1       24.98034     121.53951                        42.2  \n",
       "2       24.98746     121.54391                        47.3  \n",
       "3       24.98746     121.54391                        54.8  \n",
       "4       24.97937     121.54245                        43.1  \n",
       "..           ...           ...                         ...  \n",
       "409     24.94155     121.50381                        15.4  \n",
       "410     24.97433     121.54310                        50.0  \n",
       "411     24.97923     121.53986                        40.6  \n",
       "412     24.96674     121.54067                        52.5  \n",
       "413     24.97433     121.54310                        63.9  \n",
       "\n",
       "[414 rows x 9 columns]"
      ]
     },
     "execution_count": 158,
     "metadata": {},
     "output_type": "execute_result"
    },
    {
     "name": "stdout",
     "output_type": "stream",
     "text": [
      "     Unnamed: 0   No  X1 transaction date  X2 house age  \\\n",
      "0             0    1          2012.916667          32.0   \n",
      "1             1    2          2012.916667          19.5   \n",
      "2             2    3          2013.583333          13.3   \n",
      "3             3    4          2013.500000          13.3   \n",
      "4             4    5          2012.833333           5.0   \n",
      "..          ...  ...                  ...           ...   \n",
      "409         409  410          2013.000000          13.7   \n",
      "410         410  411          2012.666667           5.6   \n",
      "411         411  412          2013.250000          18.8   \n",
      "412         412  413          2013.000000           8.1   \n",
      "413         413  414          2013.500000           6.5   \n",
      "\n",
      "     X3 distance to the nearest MRT station  X4 number of convenience stores  \\\n",
      "0                                  84.87882                               10   \n",
      "1                                 306.59470                                9   \n",
      "2                                 561.98450                                5   \n",
      "3                                 561.98450                                5   \n",
      "4                                 390.56840                                5   \n",
      "..                                      ...                              ...   \n",
      "409                              4082.01500                                0   \n",
      "410                                90.45606                                9   \n",
      "411                               390.96960                                7   \n",
      "412                               104.81010                                5   \n",
      "413                                90.45606                                9   \n",
      "\n",
      "     X5 latitude  X6 longitude  Y house price of unit area  \n",
      "0       24.98298     121.54024                        37.9  \n",
      "1       24.98034     121.53951                        42.2  \n",
      "2       24.98746     121.54391                        47.3  \n",
      "3       24.98746     121.54391                        54.8  \n",
      "4       24.97937     121.54245                        43.1  \n",
      "..           ...           ...                         ...  \n",
      "409     24.94155     121.50381                        15.4  \n",
      "410     24.97433     121.54310                        50.0  \n",
      "411     24.97923     121.53986                        40.6  \n",
      "412     24.96674     121.54067                        52.5  \n",
      "413     24.97433     121.54310                        63.9  \n",
      "\n",
      "[414 rows x 9 columns]\n",
      "Index(['Unnamed: 0', 'No', 'X1 transaction date', 'X2 house age',\n",
      "       'X3 distance to the nearest MRT station',\n",
      "       'X4 number of convenience stores', 'X5 latitude', 'X6 longitude',\n",
      "       'Y house price of unit area'],\n",
      "      dtype='object')\n"
     ]
    }
   ],
   "source": [
    "## 데이터 기본 정보 확인\n",
    "\n",
    "df\n",
    "print(df)\n",
    "print(df.keys())"
   ]
  },
  {
   "cell_type": "markdown",
   "id": "cbdf445c",
   "metadata": {},
   "source": [
    "<br/>\n",
    "<br/>\n",
    "\n",
    "### 변수 정리\n",
    "\n",
    "\n",
    "- 독립변수 : X1 ~ X6까지 6개 \n",
    "- 종속변수 : Y house price of unit area"
   ]
  },
  {
   "cell_type": "markdown",
   "id": "eb5b2f32",
   "metadata": {},
   "source": [
    "<br/>\n",
    "<br/>\n",
    "\n",
    "## 2. EDA작업"
   ]
  },
  {
   "cell_type": "code",
   "execution_count": 159,
   "id": "d76fa15f",
   "metadata": {},
   "outputs": [
    {
     "data": {
      "text/html": [
       "<div>\n",
       "<style scoped>\n",
       "    .dataframe tbody tr th:only-of-type {\n",
       "        vertical-align: middle;\n",
       "    }\n",
       "\n",
       "    .dataframe tbody tr th {\n",
       "        vertical-align: top;\n",
       "    }\n",
       "\n",
       "    .dataframe thead th {\n",
       "        text-align: right;\n",
       "    }\n",
       "</style>\n",
       "<table border=\"1\" class=\"dataframe\">\n",
       "  <thead>\n",
       "    <tr style=\"text-align: right;\">\n",
       "      <th></th>\n",
       "      <th>Unnamed: 0</th>\n",
       "      <th>No</th>\n",
       "      <th>transaction_date</th>\n",
       "      <th>house_age</th>\n",
       "      <th>distance_nearest_MRT</th>\n",
       "      <th>convenience_stores</th>\n",
       "      <th>latitude</th>\n",
       "      <th>longitude</th>\n",
       "      <th>house_price</th>\n",
       "    </tr>\n",
       "  </thead>\n",
       "  <tbody>\n",
       "    <tr>\n",
       "      <th>0</th>\n",
       "      <td>0</td>\n",
       "      <td>1</td>\n",
       "      <td>2012.916667</td>\n",
       "      <td>32.0</td>\n",
       "      <td>84.87882</td>\n",
       "      <td>10</td>\n",
       "      <td>24.98298</td>\n",
       "      <td>121.54024</td>\n",
       "      <td>37.9</td>\n",
       "    </tr>\n",
       "    <tr>\n",
       "      <th>1</th>\n",
       "      <td>1</td>\n",
       "      <td>2</td>\n",
       "      <td>2012.916667</td>\n",
       "      <td>19.5</td>\n",
       "      <td>306.59470</td>\n",
       "      <td>9</td>\n",
       "      <td>24.98034</td>\n",
       "      <td>121.53951</td>\n",
       "      <td>42.2</td>\n",
       "    </tr>\n",
       "    <tr>\n",
       "      <th>2</th>\n",
       "      <td>2</td>\n",
       "      <td>3</td>\n",
       "      <td>2013.583333</td>\n",
       "      <td>13.3</td>\n",
       "      <td>561.98450</td>\n",
       "      <td>5</td>\n",
       "      <td>24.98746</td>\n",
       "      <td>121.54391</td>\n",
       "      <td>47.3</td>\n",
       "    </tr>\n",
       "    <tr>\n",
       "      <th>3</th>\n",
       "      <td>3</td>\n",
       "      <td>4</td>\n",
       "      <td>2013.500000</td>\n",
       "      <td>13.3</td>\n",
       "      <td>561.98450</td>\n",
       "      <td>5</td>\n",
       "      <td>24.98746</td>\n",
       "      <td>121.54391</td>\n",
       "      <td>54.8</td>\n",
       "    </tr>\n",
       "    <tr>\n",
       "      <th>4</th>\n",
       "      <td>4</td>\n",
       "      <td>5</td>\n",
       "      <td>2012.833333</td>\n",
       "      <td>5.0</td>\n",
       "      <td>390.56840</td>\n",
       "      <td>5</td>\n",
       "      <td>24.97937</td>\n",
       "      <td>121.54245</td>\n",
       "      <td>43.1</td>\n",
       "    </tr>\n",
       "    <tr>\n",
       "      <th>...</th>\n",
       "      <td>...</td>\n",
       "      <td>...</td>\n",
       "      <td>...</td>\n",
       "      <td>...</td>\n",
       "      <td>...</td>\n",
       "      <td>...</td>\n",
       "      <td>...</td>\n",
       "      <td>...</td>\n",
       "      <td>...</td>\n",
       "    </tr>\n",
       "    <tr>\n",
       "      <th>409</th>\n",
       "      <td>409</td>\n",
       "      <td>410</td>\n",
       "      <td>2013.000000</td>\n",
       "      <td>13.7</td>\n",
       "      <td>4082.01500</td>\n",
       "      <td>0</td>\n",
       "      <td>24.94155</td>\n",
       "      <td>121.50381</td>\n",
       "      <td>15.4</td>\n",
       "    </tr>\n",
       "    <tr>\n",
       "      <th>410</th>\n",
       "      <td>410</td>\n",
       "      <td>411</td>\n",
       "      <td>2012.666667</td>\n",
       "      <td>5.6</td>\n",
       "      <td>90.45606</td>\n",
       "      <td>9</td>\n",
       "      <td>24.97433</td>\n",
       "      <td>121.54310</td>\n",
       "      <td>50.0</td>\n",
       "    </tr>\n",
       "    <tr>\n",
       "      <th>411</th>\n",
       "      <td>411</td>\n",
       "      <td>412</td>\n",
       "      <td>2013.250000</td>\n",
       "      <td>18.8</td>\n",
       "      <td>390.96960</td>\n",
       "      <td>7</td>\n",
       "      <td>24.97923</td>\n",
       "      <td>121.53986</td>\n",
       "      <td>40.6</td>\n",
       "    </tr>\n",
       "    <tr>\n",
       "      <th>412</th>\n",
       "      <td>412</td>\n",
       "      <td>413</td>\n",
       "      <td>2013.000000</td>\n",
       "      <td>8.1</td>\n",
       "      <td>104.81010</td>\n",
       "      <td>5</td>\n",
       "      <td>24.96674</td>\n",
       "      <td>121.54067</td>\n",
       "      <td>52.5</td>\n",
       "    </tr>\n",
       "    <tr>\n",
       "      <th>413</th>\n",
       "      <td>413</td>\n",
       "      <td>414</td>\n",
       "      <td>2013.500000</td>\n",
       "      <td>6.5</td>\n",
       "      <td>90.45606</td>\n",
       "      <td>9</td>\n",
       "      <td>24.97433</td>\n",
       "      <td>121.54310</td>\n",
       "      <td>63.9</td>\n",
       "    </tr>\n",
       "  </tbody>\n",
       "</table>\n",
       "<p>414 rows × 9 columns</p>\n",
       "</div>"
      ],
      "text/plain": [
       "     Unnamed: 0   No  transaction_date  house_age  distance_nearest_MRT  \\\n",
       "0             0    1       2012.916667       32.0              84.87882   \n",
       "1             1    2       2012.916667       19.5             306.59470   \n",
       "2             2    3       2013.583333       13.3             561.98450   \n",
       "3             3    4       2013.500000       13.3             561.98450   \n",
       "4             4    5       2012.833333        5.0             390.56840   \n",
       "..          ...  ...               ...        ...                   ...   \n",
       "409         409  410       2013.000000       13.7            4082.01500   \n",
       "410         410  411       2012.666667        5.6              90.45606   \n",
       "411         411  412       2013.250000       18.8             390.96960   \n",
       "412         412  413       2013.000000        8.1             104.81010   \n",
       "413         413  414       2013.500000        6.5              90.45606   \n",
       "\n",
       "     convenience_stores  latitude  longitude  house_price  \n",
       "0                    10  24.98298  121.54024         37.9  \n",
       "1                     9  24.98034  121.53951         42.2  \n",
       "2                     5  24.98746  121.54391         47.3  \n",
       "3                     5  24.98746  121.54391         54.8  \n",
       "4                     5  24.97937  121.54245         43.1  \n",
       "..                  ...       ...        ...          ...  \n",
       "409                   0  24.94155  121.50381         15.4  \n",
       "410                   9  24.97433  121.54310         50.0  \n",
       "411                   7  24.97923  121.53986         40.6  \n",
       "412                   5  24.96674  121.54067         52.5  \n",
       "413                   9  24.97433  121.54310         63.9  \n",
       "\n",
       "[414 rows x 9 columns]"
      ]
     },
     "execution_count": 159,
     "metadata": {},
     "output_type": "execute_result"
    }
   ],
   "source": [
    "# 1. DataFrame 변환\n",
    "# 1-1 먼저 공백을 제거한 키값(컬럼명)으로 바꾸자. \n",
    "\n",
    "df.rename({'X1 transaction date' : 'transaction_date',\n",
    "           'X2 house age': 'house_age',\n",
    "           'X3 distance to the nearest MRT station' : 'distance_nearest_MRT',\n",
    "           'X4 number of convenience stores': 'convenience_stores',\n",
    "           'X5 latitude' : 'latitude',\n",
    "           'X6 longitude' : 'longitude',\n",
    "           'Y house price of unit area' : 'house_price'},\n",
    "         axis = 1, inplace = True)\n",
    "\n",
    "df"
   ]
  },
  {
   "cell_type": "code",
   "execution_count": 160,
   "id": "ca85ebfb",
   "metadata": {},
   "outputs": [
    {
     "data": {
      "text/html": [
       "<div>\n",
       "<style scoped>\n",
       "    .dataframe tbody tr th:only-of-type {\n",
       "        vertical-align: middle;\n",
       "    }\n",
       "\n",
       "    .dataframe tbody tr th {\n",
       "        vertical-align: top;\n",
       "    }\n",
       "\n",
       "    .dataframe thead th {\n",
       "        text-align: right;\n",
       "    }\n",
       "</style>\n",
       "<table border=\"1\" class=\"dataframe\">\n",
       "  <thead>\n",
       "    <tr style=\"text-align: right;\">\n",
       "      <th></th>\n",
       "      <th>transaction_date</th>\n",
       "      <th>house_age</th>\n",
       "      <th>distance_nearest_MRT</th>\n",
       "      <th>convenience_stores</th>\n",
       "      <th>latitude</th>\n",
       "      <th>longitude</th>\n",
       "    </tr>\n",
       "  </thead>\n",
       "  <tbody>\n",
       "    <tr>\n",
       "      <th>0</th>\n",
       "      <td>2012.916667</td>\n",
       "      <td>32.0</td>\n",
       "      <td>84.87882</td>\n",
       "      <td>10</td>\n",
       "      <td>24.98298</td>\n",
       "      <td>121.54024</td>\n",
       "    </tr>\n",
       "    <tr>\n",
       "      <th>1</th>\n",
       "      <td>2012.916667</td>\n",
       "      <td>19.5</td>\n",
       "      <td>306.59470</td>\n",
       "      <td>9</td>\n",
       "      <td>24.98034</td>\n",
       "      <td>121.53951</td>\n",
       "    </tr>\n",
       "    <tr>\n",
       "      <th>2</th>\n",
       "      <td>2013.583333</td>\n",
       "      <td>13.3</td>\n",
       "      <td>561.98450</td>\n",
       "      <td>5</td>\n",
       "      <td>24.98746</td>\n",
       "      <td>121.54391</td>\n",
       "    </tr>\n",
       "    <tr>\n",
       "      <th>3</th>\n",
       "      <td>2013.500000</td>\n",
       "      <td>13.3</td>\n",
       "      <td>561.98450</td>\n",
       "      <td>5</td>\n",
       "      <td>24.98746</td>\n",
       "      <td>121.54391</td>\n",
       "    </tr>\n",
       "    <tr>\n",
       "      <th>4</th>\n",
       "      <td>2012.833333</td>\n",
       "      <td>5.0</td>\n",
       "      <td>390.56840</td>\n",
       "      <td>5</td>\n",
       "      <td>24.97937</td>\n",
       "      <td>121.54245</td>\n",
       "    </tr>\n",
       "    <tr>\n",
       "      <th>...</th>\n",
       "      <td>...</td>\n",
       "      <td>...</td>\n",
       "      <td>...</td>\n",
       "      <td>...</td>\n",
       "      <td>...</td>\n",
       "      <td>...</td>\n",
       "    </tr>\n",
       "    <tr>\n",
       "      <th>409</th>\n",
       "      <td>2013.000000</td>\n",
       "      <td>13.7</td>\n",
       "      <td>4082.01500</td>\n",
       "      <td>0</td>\n",
       "      <td>24.94155</td>\n",
       "      <td>121.50381</td>\n",
       "    </tr>\n",
       "    <tr>\n",
       "      <th>410</th>\n",
       "      <td>2012.666667</td>\n",
       "      <td>5.6</td>\n",
       "      <td>90.45606</td>\n",
       "      <td>9</td>\n",
       "      <td>24.97433</td>\n",
       "      <td>121.54310</td>\n",
       "    </tr>\n",
       "    <tr>\n",
       "      <th>411</th>\n",
       "      <td>2013.250000</td>\n",
       "      <td>18.8</td>\n",
       "      <td>390.96960</td>\n",
       "      <td>7</td>\n",
       "      <td>24.97923</td>\n",
       "      <td>121.53986</td>\n",
       "    </tr>\n",
       "    <tr>\n",
       "      <th>412</th>\n",
       "      <td>2013.000000</td>\n",
       "      <td>8.1</td>\n",
       "      <td>104.81010</td>\n",
       "      <td>5</td>\n",
       "      <td>24.96674</td>\n",
       "      <td>121.54067</td>\n",
       "    </tr>\n",
       "    <tr>\n",
       "      <th>413</th>\n",
       "      <td>2013.500000</td>\n",
       "      <td>6.5</td>\n",
       "      <td>90.45606</td>\n",
       "      <td>9</td>\n",
       "      <td>24.97433</td>\n",
       "      <td>121.54310</td>\n",
       "    </tr>\n",
       "  </tbody>\n",
       "</table>\n",
       "<p>414 rows × 6 columns</p>\n",
       "</div>"
      ],
      "text/plain": [
       "     transaction_date  house_age  distance_nearest_MRT  convenience_stores  \\\n",
       "0         2012.916667       32.0              84.87882                  10   \n",
       "1         2012.916667       19.5             306.59470                   9   \n",
       "2         2013.583333       13.3             561.98450                   5   \n",
       "3         2013.500000       13.3             561.98450                   5   \n",
       "4         2012.833333        5.0             390.56840                   5   \n",
       "..                ...        ...                   ...                 ...   \n",
       "409       2013.000000       13.7            4082.01500                   0   \n",
       "410       2012.666667        5.6              90.45606                   9   \n",
       "411       2013.250000       18.8             390.96960                   7   \n",
       "412       2013.000000        8.1             104.81010                   5   \n",
       "413       2013.500000        6.5              90.45606                   9   \n",
       "\n",
       "     latitude  longitude  \n",
       "0    24.98298  121.54024  \n",
       "1    24.98034  121.53951  \n",
       "2    24.98746  121.54391  \n",
       "3    24.98746  121.54391  \n",
       "4    24.97937  121.54245  \n",
       "..        ...        ...  \n",
       "409  24.94155  121.50381  \n",
       "410  24.97433  121.54310  \n",
       "411  24.97923  121.53986  \n",
       "412  24.96674  121.54067  \n",
       "413  24.97433  121.54310  \n",
       "\n",
       "[414 rows x 6 columns]"
      ]
     },
     "execution_count": 160,
     "metadata": {},
     "output_type": "execute_result"
    }
   ],
   "source": [
    "# 2-1. Feature 테이블 만들기 (독립변수 테이블 만들기)\n",
    "\n",
    "features = df.iloc[:, 2:8]\n",
    "features"
   ]
  },
  {
   "cell_type": "code",
   "execution_count": 161,
   "id": "40c040e8",
   "metadata": {},
   "outputs": [
    {
     "data": {
      "text/html": [
       "<div>\n",
       "<style scoped>\n",
       "    .dataframe tbody tr th:only-of-type {\n",
       "        vertical-align: middle;\n",
       "    }\n",
       "\n",
       "    .dataframe tbody tr th {\n",
       "        vertical-align: top;\n",
       "    }\n",
       "\n",
       "    .dataframe thead th {\n",
       "        text-align: right;\n",
       "    }\n",
       "</style>\n",
       "<table border=\"1\" class=\"dataframe\">\n",
       "  <thead>\n",
       "    <tr style=\"text-align: right;\">\n",
       "      <th></th>\n",
       "      <th>house_price</th>\n",
       "    </tr>\n",
       "  </thead>\n",
       "  <tbody>\n",
       "    <tr>\n",
       "      <th>0</th>\n",
       "      <td>37.9</td>\n",
       "    </tr>\n",
       "    <tr>\n",
       "      <th>1</th>\n",
       "      <td>42.2</td>\n",
       "    </tr>\n",
       "    <tr>\n",
       "      <th>2</th>\n",
       "      <td>47.3</td>\n",
       "    </tr>\n",
       "    <tr>\n",
       "      <th>3</th>\n",
       "      <td>54.8</td>\n",
       "    </tr>\n",
       "    <tr>\n",
       "      <th>4</th>\n",
       "      <td>43.1</td>\n",
       "    </tr>\n",
       "    <tr>\n",
       "      <th>...</th>\n",
       "      <td>...</td>\n",
       "    </tr>\n",
       "    <tr>\n",
       "      <th>409</th>\n",
       "      <td>15.4</td>\n",
       "    </tr>\n",
       "    <tr>\n",
       "      <th>410</th>\n",
       "      <td>50.0</td>\n",
       "    </tr>\n",
       "    <tr>\n",
       "      <th>411</th>\n",
       "      <td>40.6</td>\n",
       "    </tr>\n",
       "    <tr>\n",
       "      <th>412</th>\n",
       "      <td>52.5</td>\n",
       "    </tr>\n",
       "    <tr>\n",
       "      <th>413</th>\n",
       "      <td>63.9</td>\n",
       "    </tr>\n",
       "  </tbody>\n",
       "</table>\n",
       "<p>414 rows × 1 columns</p>\n",
       "</div>"
      ],
      "text/plain": [
       "     house_price\n",
       "0           37.9\n",
       "1           42.2\n",
       "2           47.3\n",
       "3           54.8\n",
       "4           43.1\n",
       "..           ...\n",
       "409         15.4\n",
       "410         50.0\n",
       "411         40.6\n",
       "412         52.5\n",
       "413         63.9\n",
       "\n",
       "[414 rows x 1 columns]"
      ]
     },
     "execution_count": 161,
     "metadata": {},
     "output_type": "execute_result"
    }
   ],
   "source": [
    "# 2-2. Target 테이블 만들기 (종속변수 테이블 만들기)\n",
    "\n",
    "targets = pd.DataFrame(df.house_price, columns = [\"house_price\"])\n",
    "targets"
   ]
  },
  {
   "cell_type": "code",
   "execution_count": 162,
   "id": "96c36866",
   "metadata": {},
   "outputs": [
    {
     "data": {
      "text/html": [
       "<div>\n",
       "<style scoped>\n",
       "    .dataframe tbody tr th:only-of-type {\n",
       "        vertical-align: middle;\n",
       "    }\n",
       "\n",
       "    .dataframe tbody tr th {\n",
       "        vertical-align: top;\n",
       "    }\n",
       "\n",
       "    .dataframe thead th {\n",
       "        text-align: right;\n",
       "    }\n",
       "</style>\n",
       "<table border=\"1\" class=\"dataframe\">\n",
       "  <thead>\n",
       "    <tr style=\"text-align: right;\">\n",
       "      <th></th>\n",
       "      <th>transaction_date</th>\n",
       "      <th>house_age</th>\n",
       "      <th>distance_nearest_MRT</th>\n",
       "      <th>convenience_stores</th>\n",
       "      <th>latitude</th>\n",
       "      <th>longitude</th>\n",
       "      <th>house_price</th>\n",
       "    </tr>\n",
       "  </thead>\n",
       "  <tbody>\n",
       "    <tr>\n",
       "      <th>0</th>\n",
       "      <td>2012.916667</td>\n",
       "      <td>32.0</td>\n",
       "      <td>84.87882</td>\n",
       "      <td>10</td>\n",
       "      <td>24.98298</td>\n",
       "      <td>121.54024</td>\n",
       "      <td>37.9</td>\n",
       "    </tr>\n",
       "    <tr>\n",
       "      <th>1</th>\n",
       "      <td>2012.916667</td>\n",
       "      <td>19.5</td>\n",
       "      <td>306.59470</td>\n",
       "      <td>9</td>\n",
       "      <td>24.98034</td>\n",
       "      <td>121.53951</td>\n",
       "      <td>42.2</td>\n",
       "    </tr>\n",
       "    <tr>\n",
       "      <th>2</th>\n",
       "      <td>2013.583333</td>\n",
       "      <td>13.3</td>\n",
       "      <td>561.98450</td>\n",
       "      <td>5</td>\n",
       "      <td>24.98746</td>\n",
       "      <td>121.54391</td>\n",
       "      <td>47.3</td>\n",
       "    </tr>\n",
       "    <tr>\n",
       "      <th>3</th>\n",
       "      <td>2013.500000</td>\n",
       "      <td>13.3</td>\n",
       "      <td>561.98450</td>\n",
       "      <td>5</td>\n",
       "      <td>24.98746</td>\n",
       "      <td>121.54391</td>\n",
       "      <td>54.8</td>\n",
       "    </tr>\n",
       "    <tr>\n",
       "      <th>4</th>\n",
       "      <td>2012.833333</td>\n",
       "      <td>5.0</td>\n",
       "      <td>390.56840</td>\n",
       "      <td>5</td>\n",
       "      <td>24.97937</td>\n",
       "      <td>121.54245</td>\n",
       "      <td>43.1</td>\n",
       "    </tr>\n",
       "    <tr>\n",
       "      <th>...</th>\n",
       "      <td>...</td>\n",
       "      <td>...</td>\n",
       "      <td>...</td>\n",
       "      <td>...</td>\n",
       "      <td>...</td>\n",
       "      <td>...</td>\n",
       "      <td>...</td>\n",
       "    </tr>\n",
       "    <tr>\n",
       "      <th>409</th>\n",
       "      <td>2013.000000</td>\n",
       "      <td>13.7</td>\n",
       "      <td>4082.01500</td>\n",
       "      <td>0</td>\n",
       "      <td>24.94155</td>\n",
       "      <td>121.50381</td>\n",
       "      <td>15.4</td>\n",
       "    </tr>\n",
       "    <tr>\n",
       "      <th>410</th>\n",
       "      <td>2012.666667</td>\n",
       "      <td>5.6</td>\n",
       "      <td>90.45606</td>\n",
       "      <td>9</td>\n",
       "      <td>24.97433</td>\n",
       "      <td>121.54310</td>\n",
       "      <td>50.0</td>\n",
       "    </tr>\n",
       "    <tr>\n",
       "      <th>411</th>\n",
       "      <td>2013.250000</td>\n",
       "      <td>18.8</td>\n",
       "      <td>390.96960</td>\n",
       "      <td>7</td>\n",
       "      <td>24.97923</td>\n",
       "      <td>121.53986</td>\n",
       "      <td>40.6</td>\n",
       "    </tr>\n",
       "    <tr>\n",
       "      <th>412</th>\n",
       "      <td>2013.000000</td>\n",
       "      <td>8.1</td>\n",
       "      <td>104.81010</td>\n",
       "      <td>5</td>\n",
       "      <td>24.96674</td>\n",
       "      <td>121.54067</td>\n",
       "      <td>52.5</td>\n",
       "    </tr>\n",
       "    <tr>\n",
       "      <th>413</th>\n",
       "      <td>2013.500000</td>\n",
       "      <td>6.5</td>\n",
       "      <td>90.45606</td>\n",
       "      <td>9</td>\n",
       "      <td>24.97433</td>\n",
       "      <td>121.54310</td>\n",
       "      <td>63.9</td>\n",
       "    </tr>\n",
       "  </tbody>\n",
       "</table>\n",
       "<p>414 rows × 7 columns</p>\n",
       "</div>"
      ],
      "text/plain": [
       "     transaction_date  house_age  distance_nearest_MRT  convenience_stores  \\\n",
       "0         2012.916667       32.0              84.87882                  10   \n",
       "1         2012.916667       19.5             306.59470                   9   \n",
       "2         2013.583333       13.3             561.98450                   5   \n",
       "3         2013.500000       13.3             561.98450                   5   \n",
       "4         2012.833333        5.0             390.56840                   5   \n",
       "..                ...        ...                   ...                 ...   \n",
       "409       2013.000000       13.7            4082.01500                   0   \n",
       "410       2012.666667        5.6              90.45606                   9   \n",
       "411       2013.250000       18.8             390.96960                   7   \n",
       "412       2013.000000        8.1             104.81010                   5   \n",
       "413       2013.500000        6.5              90.45606                   9   \n",
       "\n",
       "     latitude  longitude  house_price  \n",
       "0    24.98298  121.54024         37.9  \n",
       "1    24.98034  121.53951         42.2  \n",
       "2    24.98746  121.54391         47.3  \n",
       "3    24.98746  121.54391         54.8  \n",
       "4    24.97937  121.54245         43.1  \n",
       "..        ...        ...          ...  \n",
       "409  24.94155  121.50381         15.4  \n",
       "410  24.97433  121.54310         50.0  \n",
       "411  24.97923  121.53986         40.6  \n",
       "412  24.96674  121.54067         52.5  \n",
       "413  24.97433  121.54310         63.9  \n",
       "\n",
       "[414 rows x 7 columns]"
      ]
     },
     "execution_count": 162,
     "metadata": {},
     "output_type": "execute_result"
    }
   ],
   "source": [
    "# 2-3. features와 targets통합시키기\n",
    "\n",
    "estate = pd.concat([features, targets], axis = 1)\n",
    "estate"
   ]
  },
  {
   "cell_type": "code",
   "execution_count": 163,
   "id": "d27edfd0",
   "metadata": {},
   "outputs": [
    {
     "data": {
      "text/plain": [
       "transaction_date        0\n",
       "house_age               0\n",
       "distance_nearest_MRT    0\n",
       "convenience_stores      0\n",
       "latitude                0\n",
       "longitude               0\n",
       "dtype: int64"
      ]
     },
     "execution_count": 163,
     "metadata": {},
     "output_type": "execute_result"
    }
   ],
   "source": [
    "# 2-4. null값 확인\n",
    "\n",
    "features.isna().sum(axis = 0)"
   ]
  },
  {
   "cell_type": "code",
   "execution_count": 164,
   "id": "b19d2841",
   "metadata": {},
   "outputs": [
    {
     "name": "stdout",
     "output_type": "stream",
     "text": [
      "<class 'pandas.core.frame.DataFrame'>\n",
      "RangeIndex: 414 entries, 0 to 413\n",
      "Data columns (total 6 columns):\n",
      " #   Column                Non-Null Count  Dtype  \n",
      "---  ------                --------------  -----  \n",
      " 0   transaction_date      414 non-null    float64\n",
      " 1   house_age             414 non-null    float64\n",
      " 2   distance_nearest_MRT  414 non-null    float64\n",
      " 3   convenience_stores    414 non-null    int64  \n",
      " 4   latitude              414 non-null    float64\n",
      " 5   longitude             414 non-null    float64\n",
      "dtypes: float64(5), int64(1)\n",
      "memory usage: 19.5 KB\n"
     ]
    },
    {
     "data": {
      "text/html": [
       "<div>\n",
       "<style scoped>\n",
       "    .dataframe tbody tr th:only-of-type {\n",
       "        vertical-align: middle;\n",
       "    }\n",
       "\n",
       "    .dataframe tbody tr th {\n",
       "        vertical-align: top;\n",
       "    }\n",
       "\n",
       "    .dataframe thead th {\n",
       "        text-align: right;\n",
       "    }\n",
       "</style>\n",
       "<table border=\"1\" class=\"dataframe\">\n",
       "  <thead>\n",
       "    <tr style=\"text-align: right;\">\n",
       "      <th></th>\n",
       "      <th>transaction_date</th>\n",
       "      <th>house_age</th>\n",
       "      <th>distance_nearest_MRT</th>\n",
       "      <th>convenience_stores</th>\n",
       "      <th>latitude</th>\n",
       "      <th>longitude</th>\n",
       "    </tr>\n",
       "  </thead>\n",
       "  <tbody>\n",
       "    <tr>\n",
       "      <th>count</th>\n",
       "      <td>414.000000</td>\n",
       "      <td>414.000000</td>\n",
       "      <td>414.000000</td>\n",
       "      <td>414.000000</td>\n",
       "      <td>414.000000</td>\n",
       "      <td>414.000000</td>\n",
       "    </tr>\n",
       "    <tr>\n",
       "      <th>mean</th>\n",
       "      <td>2013.148953</td>\n",
       "      <td>17.712560</td>\n",
       "      <td>1083.885689</td>\n",
       "      <td>4.094203</td>\n",
       "      <td>24.969030</td>\n",
       "      <td>121.533361</td>\n",
       "    </tr>\n",
       "    <tr>\n",
       "      <th>std</th>\n",
       "      <td>0.281995</td>\n",
       "      <td>11.392485</td>\n",
       "      <td>1262.109595</td>\n",
       "      <td>2.945562</td>\n",
       "      <td>0.012410</td>\n",
       "      <td>0.015347</td>\n",
       "    </tr>\n",
       "    <tr>\n",
       "      <th>min</th>\n",
       "      <td>2012.666667</td>\n",
       "      <td>0.000000</td>\n",
       "      <td>23.382840</td>\n",
       "      <td>0.000000</td>\n",
       "      <td>24.932070</td>\n",
       "      <td>121.473530</td>\n",
       "    </tr>\n",
       "    <tr>\n",
       "      <th>25%</th>\n",
       "      <td>2012.916667</td>\n",
       "      <td>9.025000</td>\n",
       "      <td>289.324800</td>\n",
       "      <td>1.000000</td>\n",
       "      <td>24.963000</td>\n",
       "      <td>121.528085</td>\n",
       "    </tr>\n",
       "    <tr>\n",
       "      <th>50%</th>\n",
       "      <td>2013.166667</td>\n",
       "      <td>16.100000</td>\n",
       "      <td>492.231300</td>\n",
       "      <td>4.000000</td>\n",
       "      <td>24.971100</td>\n",
       "      <td>121.538630</td>\n",
       "    </tr>\n",
       "    <tr>\n",
       "      <th>75%</th>\n",
       "      <td>2013.416667</td>\n",
       "      <td>28.150000</td>\n",
       "      <td>1454.279000</td>\n",
       "      <td>6.000000</td>\n",
       "      <td>24.977455</td>\n",
       "      <td>121.543305</td>\n",
       "    </tr>\n",
       "    <tr>\n",
       "      <th>max</th>\n",
       "      <td>2013.583333</td>\n",
       "      <td>43.800000</td>\n",
       "      <td>6488.021000</td>\n",
       "      <td>10.000000</td>\n",
       "      <td>25.014590</td>\n",
       "      <td>121.566270</td>\n",
       "    </tr>\n",
       "  </tbody>\n",
       "</table>\n",
       "</div>"
      ],
      "text/plain": [
       "       transaction_date   house_age  distance_nearest_MRT  convenience_stores  \\\n",
       "count        414.000000  414.000000            414.000000          414.000000   \n",
       "mean        2013.148953   17.712560           1083.885689            4.094203   \n",
       "std            0.281995   11.392485           1262.109595            2.945562   \n",
       "min         2012.666667    0.000000             23.382840            0.000000   \n",
       "25%         2012.916667    9.025000            289.324800            1.000000   \n",
       "50%         2013.166667   16.100000            492.231300            4.000000   \n",
       "75%         2013.416667   28.150000           1454.279000            6.000000   \n",
       "max         2013.583333   43.800000           6488.021000           10.000000   \n",
       "\n",
       "         latitude   longitude  \n",
       "count  414.000000  414.000000  \n",
       "mean    24.969030  121.533361  \n",
       "std      0.012410    0.015347  \n",
       "min     24.932070  121.473530  \n",
       "25%     24.963000  121.528085  \n",
       "50%     24.971100  121.538630  \n",
       "75%     24.977455  121.543305  \n",
       "max     25.014590  121.566270  "
      ]
     },
     "execution_count": 164,
     "metadata": {},
     "output_type": "execute_result"
    }
   ],
   "source": [
    "# 2-5. 기초통계분석\n",
    "\n",
    "features.info()\n",
    "features.describe()"
   ]
  },
  {
   "cell_type": "code",
   "execution_count": 165,
   "id": "ab3de73c",
   "metadata": {},
   "outputs": [
    {
     "data": {
      "text/html": [
       "<div>\n",
       "<style scoped>\n",
       "    .dataframe tbody tr th:only-of-type {\n",
       "        vertical-align: middle;\n",
       "    }\n",
       "\n",
       "    .dataframe tbody tr th {\n",
       "        vertical-align: top;\n",
       "    }\n",
       "\n",
       "    .dataframe thead th {\n",
       "        text-align: right;\n",
       "    }\n",
       "</style>\n",
       "<table border=\"1\" class=\"dataframe\">\n",
       "  <thead>\n",
       "    <tr style=\"text-align: right;\">\n",
       "      <th></th>\n",
       "      <th>transaction_date</th>\n",
       "      <th>house_age</th>\n",
       "      <th>distance_nearest_MRT</th>\n",
       "      <th>convenience_stores</th>\n",
       "      <th>latitude</th>\n",
       "      <th>longitude</th>\n",
       "    </tr>\n",
       "  </thead>\n",
       "  <tbody>\n",
       "    <tr>\n",
       "      <th>transaction_date</th>\n",
       "      <td>1.000000</td>\n",
       "      <td>0.017542</td>\n",
       "      <td>0.060880</td>\n",
       "      <td>0.009544</td>\n",
       "      <td>0.035016</td>\n",
       "      <td>-0.041065</td>\n",
       "    </tr>\n",
       "    <tr>\n",
       "      <th>house_age</th>\n",
       "      <td>0.017542</td>\n",
       "      <td>1.000000</td>\n",
       "      <td>0.025622</td>\n",
       "      <td>0.049593</td>\n",
       "      <td>0.054420</td>\n",
       "      <td>-0.048520</td>\n",
       "    </tr>\n",
       "    <tr>\n",
       "      <th>distance_nearest_MRT</th>\n",
       "      <td>0.060880</td>\n",
       "      <td>0.025622</td>\n",
       "      <td>1.000000</td>\n",
       "      <td>-0.602519</td>\n",
       "      <td>-0.591067</td>\n",
       "      <td>-0.806317</td>\n",
       "    </tr>\n",
       "    <tr>\n",
       "      <th>convenience_stores</th>\n",
       "      <td>0.009544</td>\n",
       "      <td>0.049593</td>\n",
       "      <td>-0.602519</td>\n",
       "      <td>1.000000</td>\n",
       "      <td>0.444143</td>\n",
       "      <td>0.449099</td>\n",
       "    </tr>\n",
       "    <tr>\n",
       "      <th>latitude</th>\n",
       "      <td>0.035016</td>\n",
       "      <td>0.054420</td>\n",
       "      <td>-0.591067</td>\n",
       "      <td>0.444143</td>\n",
       "      <td>1.000000</td>\n",
       "      <td>0.412924</td>\n",
       "    </tr>\n",
       "    <tr>\n",
       "      <th>longitude</th>\n",
       "      <td>-0.041065</td>\n",
       "      <td>-0.048520</td>\n",
       "      <td>-0.806317</td>\n",
       "      <td>0.449099</td>\n",
       "      <td>0.412924</td>\n",
       "      <td>1.000000</td>\n",
       "    </tr>\n",
       "  </tbody>\n",
       "</table>\n",
       "</div>"
      ],
      "text/plain": [
       "                      transaction_date  house_age  distance_nearest_MRT  \\\n",
       "transaction_date              1.000000   0.017542              0.060880   \n",
       "house_age                     0.017542   1.000000              0.025622   \n",
       "distance_nearest_MRT          0.060880   0.025622              1.000000   \n",
       "convenience_stores            0.009544   0.049593             -0.602519   \n",
       "latitude                      0.035016   0.054420             -0.591067   \n",
       "longitude                    -0.041065  -0.048520             -0.806317   \n",
       "\n",
       "                      convenience_stores  latitude  longitude  \n",
       "transaction_date                0.009544  0.035016  -0.041065  \n",
       "house_age                       0.049593  0.054420  -0.048520  \n",
       "distance_nearest_MRT           -0.602519 -0.591067  -0.806317  \n",
       "convenience_stores              1.000000  0.444143   0.449099  \n",
       "latitude                        0.444143  1.000000   0.412924  \n",
       "longitude                       0.449099  0.412924   1.000000  "
      ]
     },
     "execution_count": 165,
     "metadata": {},
     "output_type": "execute_result"
    },
    {
     "data": {
      "text/html": [
       "<div>\n",
       "<style scoped>\n",
       "    .dataframe tbody tr th:only-of-type {\n",
       "        vertical-align: middle;\n",
       "    }\n",
       "\n",
       "    .dataframe tbody tr th {\n",
       "        vertical-align: top;\n",
       "    }\n",
       "\n",
       "    .dataframe thead th {\n",
       "        text-align: right;\n",
       "    }\n",
       "</style>\n",
       "<table border=\"1\" class=\"dataframe\">\n",
       "  <thead>\n",
       "    <tr style=\"text-align: right;\">\n",
       "      <th></th>\n",
       "      <th>transaction_date</th>\n",
       "      <th>house_age</th>\n",
       "      <th>distance_nearest_MRT</th>\n",
       "      <th>convenience_stores</th>\n",
       "      <th>latitude</th>\n",
       "      <th>longitude</th>\n",
       "      <th>house_price</th>\n",
       "    </tr>\n",
       "  </thead>\n",
       "  <tbody>\n",
       "    <tr>\n",
       "      <th>transaction_date</th>\n",
       "      <td>1.000000</td>\n",
       "      <td>0.017542</td>\n",
       "      <td>0.060880</td>\n",
       "      <td>0.009544</td>\n",
       "      <td>0.035016</td>\n",
       "      <td>-0.041065</td>\n",
       "      <td>0.087529</td>\n",
       "    </tr>\n",
       "    <tr>\n",
       "      <th>house_age</th>\n",
       "      <td>0.017542</td>\n",
       "      <td>1.000000</td>\n",
       "      <td>0.025622</td>\n",
       "      <td>0.049593</td>\n",
       "      <td>0.054420</td>\n",
       "      <td>-0.048520</td>\n",
       "      <td>-0.210567</td>\n",
       "    </tr>\n",
       "    <tr>\n",
       "      <th>distance_nearest_MRT</th>\n",
       "      <td>0.060880</td>\n",
       "      <td>0.025622</td>\n",
       "      <td>1.000000</td>\n",
       "      <td>-0.602519</td>\n",
       "      <td>-0.591067</td>\n",
       "      <td>-0.806317</td>\n",
       "      <td>-0.673613</td>\n",
       "    </tr>\n",
       "    <tr>\n",
       "      <th>convenience_stores</th>\n",
       "      <td>0.009544</td>\n",
       "      <td>0.049593</td>\n",
       "      <td>-0.602519</td>\n",
       "      <td>1.000000</td>\n",
       "      <td>0.444143</td>\n",
       "      <td>0.449099</td>\n",
       "      <td>0.571005</td>\n",
       "    </tr>\n",
       "    <tr>\n",
       "      <th>latitude</th>\n",
       "      <td>0.035016</td>\n",
       "      <td>0.054420</td>\n",
       "      <td>-0.591067</td>\n",
       "      <td>0.444143</td>\n",
       "      <td>1.000000</td>\n",
       "      <td>0.412924</td>\n",
       "      <td>0.546307</td>\n",
       "    </tr>\n",
       "    <tr>\n",
       "      <th>longitude</th>\n",
       "      <td>-0.041065</td>\n",
       "      <td>-0.048520</td>\n",
       "      <td>-0.806317</td>\n",
       "      <td>0.449099</td>\n",
       "      <td>0.412924</td>\n",
       "      <td>1.000000</td>\n",
       "      <td>0.523287</td>\n",
       "    </tr>\n",
       "    <tr>\n",
       "      <th>house_price</th>\n",
       "      <td>0.087529</td>\n",
       "      <td>-0.210567</td>\n",
       "      <td>-0.673613</td>\n",
       "      <td>0.571005</td>\n",
       "      <td>0.546307</td>\n",
       "      <td>0.523287</td>\n",
       "      <td>1.000000</td>\n",
       "    </tr>\n",
       "  </tbody>\n",
       "</table>\n",
       "</div>"
      ],
      "text/plain": [
       "                      transaction_date  house_age  distance_nearest_MRT  \\\n",
       "transaction_date              1.000000   0.017542              0.060880   \n",
       "house_age                     0.017542   1.000000              0.025622   \n",
       "distance_nearest_MRT          0.060880   0.025622              1.000000   \n",
       "convenience_stores            0.009544   0.049593             -0.602519   \n",
       "latitude                      0.035016   0.054420             -0.591067   \n",
       "longitude                    -0.041065  -0.048520             -0.806317   \n",
       "house_price                   0.087529  -0.210567             -0.673613   \n",
       "\n",
       "                      convenience_stores  latitude  longitude  house_price  \n",
       "transaction_date                0.009544  0.035016  -0.041065     0.087529  \n",
       "house_age                       0.049593  0.054420  -0.048520    -0.210567  \n",
       "distance_nearest_MRT           -0.602519 -0.591067  -0.806317    -0.673613  \n",
       "convenience_stores              1.000000  0.444143   0.449099     0.571005  \n",
       "latitude                        0.444143  1.000000   0.412924     0.546307  \n",
       "longitude                       0.449099  0.412924   1.000000     0.523287  \n",
       "house_price                     0.571005  0.546307   0.523287     1.000000  "
      ]
     },
     "execution_count": 165,
     "metadata": {},
     "output_type": "execute_result"
    }
   ],
   "source": [
    "# 2-6. 상관분석\n",
    "\n",
    "corr = features.corr()\n",
    "corr\n",
    "\n",
    "corr2 = estate.corr()\n",
    "corr2\n",
    "# house_age와 transaction_date 다중공선성 주의"
   ]
  },
  {
   "cell_type": "code",
   "execution_count": 166,
   "id": "cbcca93e",
   "metadata": {},
   "outputs": [
    {
     "data": {
      "text/plain": [
       "house_price\n",
       "7.6      1\n",
       "11.2     1\n",
       "11.6     1\n",
       "12.2     1\n",
       "12.8     2\n",
       "        ..\n",
       "71.0     1\n",
       "73.6     1\n",
       "78.0     1\n",
       "78.3     1\n",
       "117.5    1\n",
       "Length: 270, dtype: int64"
      ]
     },
     "execution_count": 166,
     "metadata": {},
     "output_type": "execute_result"
    }
   ],
   "source": [
    "# 2-7. 집계분석\n",
    "\n",
    "estate.groupby('house_price').size()"
   ]
  },
  {
   "cell_type": "code",
   "execution_count": 167,
   "id": "236b554a",
   "metadata": {},
   "outputs": [
    {
     "data": {
      "image/png": "[encoded data removed]",
      "text/plain": [
       "<Figure size 792x648 with 6 Axes>"
      ]
     },
     "metadata": {
      "needs_background": "light"
     },
     "output_type": "display_data"
    }
   ],
   "source": [
    "# 2-8. 이상치 탐지 그래프 -boxplot\n",
    "\n",
    "def boxplot_estate(feature_names, dataset):\n",
    "    i=1\n",
    "    plt.figure(figsize=(11,9)) #사이즈\n",
    "    \n",
    "    for col in features.columns: # X변수에 해당하는 그래프 개수를 그려내자.\n",
    "        plt.subplot(2,3,i) # 두 줄에 두칸을 만들어서 인덱스 순으로 그려내자.\n",
    "        plt.axis('on') # 축 표시해라\n",
    "        plt.tick_params(axis='both',left =True)\n",
    "        dataset[col].plot(kind='box', subplots=True) # 얘를 통으로 넣어줘도 위에서 feature_names만큼으로 정해서 species안들어온다. # 그래프 선택\n",
    "        plt.title(col)\n",
    "        i +=1\n",
    "\n",
    "    plt.show()\n",
    "boxplot_estate(estate.columns[:-1],estate)"
   ]
  },
  {
   "cell_type": "code",
   "execution_count": 168,
   "id": "77f37ff2",
   "metadata": {},
   "outputs": [
    {
     "data": {
      "image/png": "[encoded data removed]",
      "text/plain": [
       "<Figure size 792x648 with 6 Axes>"
      ]
     },
     "metadata": {
      "needs_background": "light"
     },
     "output_type": "display_data"
    }
   ],
   "source": [
    "# 2-8-2. 이상치 탐지 그래프 확인 - histogram\n",
    "\n",
    "def histogram_estate(feature_names, dataset):\n",
    "    i=1\n",
    "    plt.figure(figsize=(11,9)) #사이즈\n",
    "    \n",
    "    for col in features.columns: # X변수에 해당하는 그래프 개수를 그려내자.\n",
    "        plt.subplot(2,3,i) # 두 줄에 두칸을 만들어서 인덱스 순으로 그려내자.\n",
    "        plt.axis('on') # 축 표시해라\n",
    "        plt.tick_params(axis='both',left =True)\n",
    "        \n",
    "        dataset[col].hist()\n",
    "        plt.title(col)\n",
    "        i +=1\n",
    "\n",
    "    plt.show()\n",
    "histogram_estate(estate.columns[:-1], estate)"
   ]
  },
  {
   "cell_type": "code",
   "execution_count": 169,
   "id": "3ce70ab7",
   "metadata": {},
   "outputs": [
    {
     "data": {
      "text/plain": [
       "<Figure size 792x648 with 0 Axes>"
      ]
     },
     "execution_count": 169,
     "metadata": {},
     "output_type": "execute_result"
    },
    {
     "data": {
      "text/plain": [
       "<AxesSubplot:>"
      ]
     },
     "execution_count": 169,
     "metadata": {},
     "output_type": "execute_result"
    },
    {
     "data": {
      "image/png": "[encoded data removed]",
      "text/plain": [
       "<Figure size 792x648 with 2 Axes>"
      ]
     },
     "metadata": {
      "needs_background": "light"
     },
     "output_type": "display_data"
    }
   ],
   "source": [
    "# 2-8-3. 상관관계 시각화\n",
    "\n",
    "# corr위에 선언되어 있음\n",
    "\n",
    "cmap = sns.diverging_palette(220, 10, as_cmap = True)\n",
    "\n",
    "plt.figure(figsize = (11,9))\n",
    "sns.heatmap(corr, cmap = cmap, vmax = 1.0, vmin = -1.0, center = 0, square = True, linewidths = .5, cbar_kws = {'shrink' : .5})\n",
    "plt.show()"
   ]
  },
  {
   "cell_type": "code",
   "execution_count": 170,
   "id": "69a22876",
   "metadata": {},
   "outputs": [
    {
     "data": {
      "text/plain": [
       "<seaborn.axisgrid.PairGrid at 0x255ae083640>"
      ]
     },
     "execution_count": 170,
     "metadata": {},
     "output_type": "execute_result"
    },
    {
     "data": {
      "text/plain": [
       "Text(0.5, 1.0, 'House Price Multivariate Distribution')"
      ]
     },
     "execution_count": 170,
     "metadata": {},
     "output_type": "execute_result"
    },
    {
     "data": {
      "image/png": "[encoded data removed]",
      "text/plain": [
       "<Figure size 1148x1080 with 42 Axes>"
      ]
     },
     "metadata": {
      "needs_background": "light"
     },
     "output_type": "display_data"
    }
   ],
   "source": [
    "# 2-8-4. 상관관계 시각화 - pairplot\n",
    "\n",
    "sns.pairplot(estate, hue = 'house_price')\n",
    "plt.title(\"House Price Multivariate Distribution\")\n",
    "plt.show()"
   ]
  },
  {
   "cell_type": "code",
   "execution_count": 171,
   "id": "f748f597",
   "metadata": {},
   "outputs": [
    {
     "data": {
      "text/html": [
       "<div>\n",
       "<style scoped>\n",
       "    .dataframe tbody tr th:only-of-type {\n",
       "        vertical-align: middle;\n",
       "    }\n",
       "\n",
       "    .dataframe tbody tr th {\n",
       "        vertical-align: top;\n",
       "    }\n",
       "\n",
       "    .dataframe thead th {\n",
       "        text-align: right;\n",
       "    }\n",
       "</style>\n",
       "<table border=\"1\" class=\"dataframe\">\n",
       "  <thead>\n",
       "    <tr style=\"text-align: right;\">\n",
       "      <th></th>\n",
       "      <th>transaction_date</th>\n",
       "      <th>house_age</th>\n",
       "      <th>distance_nearest_MRT</th>\n",
       "      <th>convenience_stores</th>\n",
       "      <th>latitude</th>\n",
       "      <th>longitude</th>\n",
       "      <th>house_price</th>\n",
       "    </tr>\n",
       "  </thead>\n",
       "  <tbody>\n",
       "    <tr>\n",
       "      <th>0</th>\n",
       "      <td>2012.916667</td>\n",
       "      <td>32.0</td>\n",
       "      <td>84.87882</td>\n",
       "      <td>10</td>\n",
       "      <td>24.98298</td>\n",
       "      <td>121.54024</td>\n",
       "      <td>37</td>\n",
       "    </tr>\n",
       "    <tr>\n",
       "      <th>1</th>\n",
       "      <td>2012.916667</td>\n",
       "      <td>19.5</td>\n",
       "      <td>306.59470</td>\n",
       "      <td>9</td>\n",
       "      <td>24.98034</td>\n",
       "      <td>121.53951</td>\n",
       "      <td>42</td>\n",
       "    </tr>\n",
       "    <tr>\n",
       "      <th>2</th>\n",
       "      <td>2013.583333</td>\n",
       "      <td>13.3</td>\n",
       "      <td>561.98450</td>\n",
       "      <td>5</td>\n",
       "      <td>24.98746</td>\n",
       "      <td>121.54391</td>\n",
       "      <td>47</td>\n",
       "    </tr>\n",
       "    <tr>\n",
       "      <th>3</th>\n",
       "      <td>2013.500000</td>\n",
       "      <td>13.3</td>\n",
       "      <td>561.98450</td>\n",
       "      <td>5</td>\n",
       "      <td>24.98746</td>\n",
       "      <td>121.54391</td>\n",
       "      <td>54</td>\n",
       "    </tr>\n",
       "    <tr>\n",
       "      <th>4</th>\n",
       "      <td>2012.833333</td>\n",
       "      <td>5.0</td>\n",
       "      <td>390.56840</td>\n",
       "      <td>5</td>\n",
       "      <td>24.97937</td>\n",
       "      <td>121.54245</td>\n",
       "      <td>43</td>\n",
       "    </tr>\n",
       "    <tr>\n",
       "      <th>...</th>\n",
       "      <td>...</td>\n",
       "      <td>...</td>\n",
       "      <td>...</td>\n",
       "      <td>...</td>\n",
       "      <td>...</td>\n",
       "      <td>...</td>\n",
       "      <td>...</td>\n",
       "    </tr>\n",
       "    <tr>\n",
       "      <th>409</th>\n",
       "      <td>2013.000000</td>\n",
       "      <td>13.7</td>\n",
       "      <td>4082.01500</td>\n",
       "      <td>0</td>\n",
       "      <td>24.94155</td>\n",
       "      <td>121.50381</td>\n",
       "      <td>15</td>\n",
       "    </tr>\n",
       "    <tr>\n",
       "      <th>410</th>\n",
       "      <td>2012.666667</td>\n",
       "      <td>5.6</td>\n",
       "      <td>90.45606</td>\n",
       "      <td>9</td>\n",
       "      <td>24.97433</td>\n",
       "      <td>121.54310</td>\n",
       "      <td>50</td>\n",
       "    </tr>\n",
       "    <tr>\n",
       "      <th>411</th>\n",
       "      <td>2013.250000</td>\n",
       "      <td>18.8</td>\n",
       "      <td>390.96960</td>\n",
       "      <td>7</td>\n",
       "      <td>24.97923</td>\n",
       "      <td>121.53986</td>\n",
       "      <td>40</td>\n",
       "    </tr>\n",
       "    <tr>\n",
       "      <th>412</th>\n",
       "      <td>2013.000000</td>\n",
       "      <td>8.1</td>\n",
       "      <td>104.81010</td>\n",
       "      <td>5</td>\n",
       "      <td>24.96674</td>\n",
       "      <td>121.54067</td>\n",
       "      <td>52</td>\n",
       "    </tr>\n",
       "    <tr>\n",
       "      <th>413</th>\n",
       "      <td>2013.500000</td>\n",
       "      <td>6.5</td>\n",
       "      <td>90.45606</td>\n",
       "      <td>9</td>\n",
       "      <td>24.97433</td>\n",
       "      <td>121.54310</td>\n",
       "      <td>63</td>\n",
       "    </tr>\n",
       "  </tbody>\n",
       "</table>\n",
       "<p>414 rows × 7 columns</p>\n",
       "</div>"
      ],
      "text/plain": [
       "     transaction_date  house_age  distance_nearest_MRT  convenience_stores  \\\n",
       "0         2012.916667       32.0              84.87882                  10   \n",
       "1         2012.916667       19.5             306.59470                   9   \n",
       "2         2013.583333       13.3             561.98450                   5   \n",
       "3         2013.500000       13.3             561.98450                   5   \n",
       "4         2012.833333        5.0             390.56840                   5   \n",
       "..                ...        ...                   ...                 ...   \n",
       "409       2013.000000       13.7            4082.01500                   0   \n",
       "410       2012.666667        5.6              90.45606                   9   \n",
       "411       2013.250000       18.8             390.96960                   7   \n",
       "412       2013.000000        8.1             104.81010                   5   \n",
       "413       2013.500000        6.5              90.45606                   9   \n",
       "\n",
       "     latitude  longitude  house_price  \n",
       "0    24.98298  121.54024           37  \n",
       "1    24.98034  121.53951           42  \n",
       "2    24.98746  121.54391           47  \n",
       "3    24.98746  121.54391           54  \n",
       "4    24.97937  121.54245           43  \n",
       "..        ...        ...          ...  \n",
       "409  24.94155  121.50381           15  \n",
       "410  24.97433  121.54310           50  \n",
       "411  24.97923  121.53986           40  \n",
       "412  24.96674  121.54067           52  \n",
       "413  24.97433  121.54310           63  \n",
       "\n",
       "[414 rows x 7 columns]"
      ]
     },
     "execution_count": 171,
     "metadata": {},
     "output_type": "execute_result"
    }
   ],
   "source": [
    "# 2-9-0. train_test_split위한 타입변경\n",
    "\n",
    "typech = estate.astype({'house_price' : 'int'})\n",
    "typech"
   ]
  },
  {
   "cell_type": "code",
   "execution_count": 172,
   "id": "3e867b8a",
   "metadata": {},
   "outputs": [],
   "source": [
    "# 2-9 홀드아웃\n",
    "\n",
    "from sklearn.model_selection import train_test_split\n",
    "\n",
    "# 사용할 특징량 추출\n",
    "tych = estate.astype({'house_price' : 'int'})\n",
    "\n",
    "# transaction_date 컬럼 제외\n",
    "x = tych.iloc[:,1:5]\n",
    "y = tych.iloc[:,-1]\n",
    "\n",
    "\n",
    "X_train, X_test, y_train, y_test = train_test_split(x, y, test_size = 0.25, random_state = 42)"
   ]
  },
  {
   "cell_type": "markdown",
   "id": "5ca942f1",
   "metadata": {},
   "source": [
    "<br/>\n",
    "<br/>\n",
    "\n",
    "## 3. 정규화, 일반화"
   ]
  },
  {
   "cell_type": "code",
   "execution_count": 173,
   "id": "c6aacc27",
   "metadata": {},
   "outputs": [
    {
     "name": "stdout",
     "output_type": "stream",
     "text": [
      "x_train_std mean :  6.920306621656246e-14\n",
      "x_train_std std:  1.0\n",
      "x_test_std mean:  0.02615155757872515\n",
      "x_test_std std:  1.0096374097002767\n"
     ]
    }
   ],
   "source": [
    "# 3-1. 정규화\n",
    "\n",
    "from sklearn.preprocessing import StandardScaler\n",
    "stdsc = StandardScaler()\n",
    "\n",
    "x_train_std = stdsc.fit_transform(X_train)\n",
    "x_test_std = stdsc.transform(X_test)\n",
    "\n",
    "\n",
    "print(\"x_train_std mean : \",x_train_std.mean())\n",
    "print(\"x_train_std std: \",x_train_std.std())\n",
    "\n",
    "print(\"x_test_std mean: \",x_test_std.mean())\n",
    "print(\"x_test_std std: \",x_test_std.std())"
   ]
  },
  {
   "cell_type": "code",
   "execution_count": 174,
   "id": "374edf32",
   "metadata": {},
   "outputs": [],
   "source": [
    "# 3-2. 모형 구축\n",
    "\n",
    "from sklearn.linear_model import LinearRegression\n",
    "\n",
    "model = LinearRegression()"
   ]
  },
  {
   "cell_type": "code",
   "execution_count": 175,
   "id": "62f3b2d4",
   "metadata": {},
   "outputs": [
    {
     "data": {
      "text/plain": [
       "LinearRegression()"
      ]
     },
     "execution_count": 175,
     "metadata": {},
     "output_type": "execute_result"
    }
   ],
   "source": [
    "# 3-3. 모형 실행\n",
    "\n",
    "model.fit(x_train_std, y_train)"
   ]
  },
  {
   "cell_type": "code",
   "execution_count": 176,
   "id": "29f78f1b",
   "metadata": {},
   "outputs": [
    {
     "data": {
      "text/plain": [
       "0.5826556703815733"
      ]
     },
     "execution_count": 176,
     "metadata": {},
     "output_type": "execute_result"
    }
   ],
   "source": [
    "model.score(x_test_std, y_test)"
   ]
  },
  {
   "cell_type": "code",
   "execution_count": 177,
   "id": "8f7ae5fd",
   "metadata": {},
   "outputs": [
    {
     "data": {
      "text/plain": [
       "numpy.ndarray"
      ]
     },
     "execution_count": 177,
     "metadata": {},
     "output_type": "execute_result"
    },
    {
     "name": "stdout",
     "output_type": "stream",
     "text": [
      "0번째 교차 검증 정확도 : 0.2025007699696144\n",
      "1번째 교차 검증 정확도 : 0.5143902714878521\n",
      "2번째 교차 검증 정확도 : 0.5860030319260909\n",
      "3번째 교차 검증 정확도 : 0.4612258537858498\n",
      "4번째 교차 검증 정확도 : 0.7324701538110207\n",
      "5번째 교차 검증 정확도 : 0.7748720365770535\n",
      "6번째 교차 검증 정확도 : 0.7100604177134244\n",
      "7번째 교차 검증 정확도 : 0.4977472531543464\n",
      "8번째 교차 검증 정확도 : 0.6908402099692437\n",
      "9번째 교차 검증 정확도 : 0.5378341295664628\n",
      "최종 교차 검증 정확도 : 0.5707944127960959\n"
     ]
    }
   ],
   "source": [
    "# 3-4. 일반화작업 - 교차검증(corss validation) # 10Fold\n",
    "from sklearn.model_selection import cross_val_score, KFold\n",
    "\n",
    "cv = KFold(n_splits=10, shuffle=True, random_state=42)\n",
    "result = cross_val_score(model, x_train_std, y_train, cv=cv)\n",
    "fin_result = np.mean(result)\n",
    "\n",
    "type(result)\n",
    "for i, _ in enumerate(result):\n",
    "    print('{}번째 교차 검증 정확도 : {}'.format(i, _))\n",
    "\n",
    "print('최종 교차 검증 정확도 : {}'.format(fin_result))"
   ]
  },
  {
   "cell_type": "code",
   "execution_count": 178,
   "id": "03d0d825",
   "metadata": {},
   "outputs": [
    {
     "data": {
      "text/plain": [
       "<AxesSubplot:title={'center':'Learning Curve'}, xlabel='Training examples', ylabel='Score'>"
      ]
     },
     "execution_count": 178,
     "metadata": {},
     "output_type": "execute_result"
    },
    {
     "data": {
      "image/png": "[encoded data removed]",
      "text/plain": [
       "<Figure size 720x720 with 1 Axes>"
      ]
     },
     "metadata": {
      "needs_background": "light"
     },
     "output_type": "display_data"
    }
   ],
   "source": [
    "# 3-5-1. cv score 시각화 (cv = KFold(n_splits=10, shuffle=True, random_state=42)\n",
    "\n",
    "import scikitplot as skplt\n",
    "\n",
    "skplt.estimators.plot_learning_curve(model, x_train_std, y_train, figsize = (10,10), cv = cv)\n",
    "plt.show()"
   ]
  },
  {
   "cell_type": "code",
   "execution_count": 179,
   "id": "879f97c6",
   "metadata": {},
   "outputs": [
    {
     "data": {
      "text/plain": [
       "<AxesSubplot:title={'center':'Learning Curve'}, xlabel='Training examples', ylabel='Score'>"
      ]
     },
     "execution_count": 179,
     "metadata": {},
     "output_type": "execute_result"
    },
    {
     "data": {
      "image/png": "[encoded data removed]",
      "text/plain": [
       "<Figure size 720x720 with 1 Axes>"
      ]
     },
     "metadata": {
      "needs_background": "light"
     },
     "output_type": "display_data"
    }
   ],
   "source": [
    "# 3-5-2. cv score 시각화 (cv = 10)\n",
    "\n",
    "skplt.estimators.plot_learning_curve(model, x_train_std, y_train, figsize = (10,10), cv = 10)\n",
    "plt.show()"
   ]
  },
  {
   "cell_type": "code",
   "execution_count": 180,
   "id": "26ae059c",
   "metadata": {},
   "outputs": [
    {
     "data": {
      "text/plain": [
       "dict_keys(['copy_X', 'fit_intercept', 'n_jobs', 'normalize', 'positive'])"
      ]
     },
     "execution_count": 180,
     "metadata": {},
     "output_type": "execute_result"
    }
   ],
   "source": [
    "model.get_params().keys()"
   ]
  },
  {
   "cell_type": "code",
   "execution_count": 181,
   "id": "7f9cd997",
   "metadata": {},
   "outputs": [
    {
     "data": {
      "text/plain": [
       "array([47.53838562, 41.77927162, 43.89526122, 40.75047426, 29.8251794 ,\n",
       "       42.96476016, 45.93557005, 45.85668077, 24.52413552, 52.01145487,\n",
       "       31.80911997, 34.19520959, 38.95398382, 24.62775613, 35.71677467,\n",
       "       32.45727107, 42.12161179, 46.72416886, 31.07084081, 44.56388123,\n",
       "        1.80041717, 33.1442961 , 47.62841251, 43.52591333, 13.64325696,\n",
       "       40.7150743 , 14.29275036, 43.89526122, 36.17923135, 37.91124001,\n",
       "       11.20033634, 38.61961477, 37.95509237, 28.77462877, 45.9196403 ,\n",
       "       31.27400154, 52.19552985, 14.72970227, 46.99162978, 40.6770754 ,\n",
       "       36.118256  , 40.45289393, 48.54313346, 39.59846231, 41.83186447,\n",
       "       48.25564937, 45.22372802, 24.16857648, 49.79366417, 48.30063936,\n",
       "       47.53838562, 48.42758599, 41.02720897, 42.60147958, 36.26148476,\n",
       "       14.70340584, 35.14333732, 36.60894387, 29.74629012, 45.85668077,\n",
       "       33.14235582, 32.19990634, 14.70340584, 11.41372152,  8.12277346,\n",
       "       33.17059252, 29.93235392, 45.4643237 , 34.06236213, 30.64235741,\n",
       "       46.05100845, 35.82929103, 46.69787244, 45.18152579, 35.71922142,\n",
       "       39.05745031, 37.83075858, 39.90915382, 42.71884835, 31.63092019,\n",
       "       41.6978199 , 46.01445933, 30.77383953, 38.46950498, 33.29848777,\n",
       "       33.27383795, 40.25710477, 44.39010243, 32.78897291, 38.81664243,\n",
       "       14.21300411, 40.41046579, 44.25907075, 46.7141151 , 45.33733019,\n",
       "       39.68383279, 32.30541734, 43.20577337, 30.33193302, 45.43632433,\n",
       "       29.39809664, 35.75351696, 42.12529551, 31.90397547])"
      ]
     },
     "execution_count": 181,
     "metadata": {},
     "output_type": "execute_result"
    }
   ],
   "source": [
    "# 3-6. 모형활용\n",
    "\n",
    "pred = model.predict(x_test_std)\n",
    "pred"
   ]
  },
  {
   "cell_type": "markdown",
   "id": "c4debd75",
   "metadata": {},
   "source": [
    "<br/>\n",
    "<br/>\n",
    "\n",
    "## 모형평가"
   ]
  },
  {
   "cell_type": "code",
   "execution_count": 182,
   "id": "8247aada",
   "metadata": {},
   "outputs": [
    {
     "name": "stdout",
     "output_type": "stream",
     "text": [
      "66.5021751683685\n",
      "RMSE :  8.15488658218914\n"
     ]
    }
   ],
   "source": [
    "# 4-1. 모형 평가 - RMSE\n",
    "\n",
    "from sklearn.metrics import mean_squared_error, r2_score\n",
    "\n",
    "mse = mean_squared_error(y_test, pred)\n",
    "print(mse)\n",
    "RMSE = np.sqrt(mse)\n",
    "print('RMSE : ', RMSE)\n",
    "\n",
    "# RMSE가 너무 높다 -> 과대적합 가능성 존재"
   ]
  },
  {
   "cell_type": "code",
   "execution_count": 183,
   "id": "7fded6fe",
   "metadata": {},
   "outputs": [
    {
     "name": "stdout",
     "output_type": "stream",
     "text": [
      "결정계수 : 0.58\n"
     ]
    }
   ],
   "source": [
    "# 4-2. 모형평가 - r2 score\n",
    "\n",
    "print('결정계수 : %.2f' %r2_score(y_test, pred))"
   ]
  },
  {
   "cell_type": "code",
   "execution_count": 184,
   "id": "a9ed7b72",
   "metadata": {},
   "outputs": [
    {
     "data": {
      "text/plain": [
       "['1111_workshop']"
      ]
     },
     "execution_count": 184,
     "metadata": {},
     "output_type": "execute_result"
    }
   ],
   "source": [
    "# 4-3. 모형 저장\n",
    "import joblib\n",
    "\n",
    "joblib.dump(model, '1111_workshop')"
   ]
  },
  {
   "cell_type": "markdown",
   "id": "b7c8dd28",
   "metadata": {},
   "source": [
    "### 모형평가 결과\n",
    "- RMSE가 너무 높다. 따라서 과대적합 가능성이 존재\n",
    "- R2 score도 모형을 충분히 설명한다고 하기엔 낮다.\n",
    "- 다른 모델로 학습을 해보자."
   ]
  },
  {
   "cell_type": "markdown",
   "id": "6c8a3a7c",
   "metadata": {},
   "source": [
    "<br/>\n",
    "<br/>\n",
    "\n",
    "\n",
    "## 여기부터는 다양한 try\n",
    "\n",
    "<br/>\n",
    "<br/>\n",
    "<br/>\n",
    "<br/>\n",
    "<br/>\n",
    "<br/>\n",
    "\n",
    "## 다항회귀"
   ]
  },
  {
   "cell_type": "code",
   "execution_count": 188,
   "id": "adf08f51",
   "metadata": {},
   "outputs": [
    {
     "data": {
      "text/plain": [
       "'\\nfrom sklearn.preprocessing import StandardScaler\\nstdsc = StandardScaler()\\n\\nx_train_std = stdsc.fit_transform(X_train)\\nx_test_std = stdsc.transform(X_test)\\n\\n\\nprint(\"x_train_std mean : \",x_train_std.mean())\\nprint(\"x_train_std std: \",x_train_std.std())\\n\\nprint(\"x_test_std mean: \",x_test_std.mean())\\nprint(\"x_test_std std: \",x_test_std.std())\\n'"
      ]
     },
     "execution_count": 188,
     "metadata": {},
     "output_type": "execute_result"
    }
   ],
   "source": [
    "# 3-1. 정규화 - 이전 정규화 셋 그대로 사용\n",
    "'''\n",
    "from sklearn.preprocessing import StandardScaler\n",
    "stdsc = StandardScaler()\n",
    "\n",
    "x_train_std = stdsc.fit_transform(X_train)\n",
    "x_test_std = stdsc.transform(X_test)\n",
    "\n",
    "\n",
    "print(\"x_train_std mean : \",x_train_std.mean())\n",
    "print(\"x_train_std std: \",x_train_std.std())\n",
    "\n",
    "print(\"x_test_std mean: \",x_test_std.mean())\n",
    "print(\"x_test_std std: \",x_test_std.std())\n",
    "'''"
   ]
  },
  {
   "cell_type": "code",
   "execution_count": 137,
   "id": "5d520c05",
   "metadata": {},
   "outputs": [
    {
     "data": {
      "text/plain": [
       "array([[-1.15570946, -0.80949449,  0.9651532 , ...,  0.93152071,\n",
       "        -0.930527  ,  0.92953436],\n",
       "       [-1.02286601, -0.78195826,  1.6359996 , ...,  2.67649469,\n",
       "         0.63283621,  0.14962916],\n",
       "       [-0.96972863,  0.71656608, -1.04738599, ...,  1.09701741,\n",
       "         1.50324395,  2.05989655],\n",
       "       ...,\n",
       "       [-0.56234204, -0.65058374, -1.04738599, ...,  1.09701741,\n",
       "        -0.42776834,  0.16680296],\n",
       "       [-1.11142831, -0.64484787,  0.62973   , ...,  0.39655988,\n",
       "         0.32015231,  0.25846665],\n",
       "       [-1.42139636, -0.69839093,  0.62973   , ...,  0.39655988,\n",
       "        -0.19058747,  0.09159672]])"
      ]
     },
     "execution_count": 137,
     "metadata": {},
     "output_type": "execute_result"
    }
   ],
   "source": [
    "from sklearn.pipeline import Pipeline\n",
    "from sklearn.preprocessing import PolynomialFeatures\n",
    "\n",
    "poly_fts = PolynomialFeatures(degree = 2, include_bias = False)\n",
    "X_poly = poly_fts.fit_transform(x_train_std)\n",
    "X_poly"
   ]
  },
  {
   "cell_type": "code",
   "execution_count": 138,
   "id": "ebc1dce8",
   "metadata": {},
   "outputs": [
    {
     "data": {
      "text/plain": [
       "LinearRegression()"
      ]
     },
     "execution_count": 138,
     "metadata": {},
     "output_type": "execute_result"
    }
   ],
   "source": [
    "model5 = LinearRegression()\n",
    "\n",
    "model5.fit(X_poly, y_train)"
   ]
  },
  {
   "cell_type": "code",
   "execution_count": 139,
   "id": "f81c03dd",
   "metadata": {},
   "outputs": [
    {
     "data": {
      "text/plain": [
       "array([[-1.42139636e+00, -6.98390925e-01,  6.29730005e-01, ...,\n",
       "         3.96559879e-01, -1.90587473e-01,  9.15967213e-02],\n",
       "       [-3.49792520e-01, -4.56390597e-01,  2.94306806e-01, ...,\n",
       "         8.66164963e-02, -1.02254245e-01,  1.20715234e-01],\n",
       "       [-1.51881489e+00, -6.33216739e-01, -1.04738599e+00, ...,\n",
       "         1.09701741e+00, -4.44523326e-01,  1.80125662e-01],\n",
       "       ...,\n",
       "       [ 1.57200941e+00, -3.95775530e-01, -4.11163921e-02, ...,\n",
       "         1.69055770e-03, -1.76326588e-03,  1.83910112e-03],\n",
       "       [-2.08092838e-01, -5.36588817e-01,  6.29730005e-01, ...,\n",
       "         3.96559879e-01, -3.91559045e-01,  3.86621274e-01],\n",
       "       [ 1.63868825e-01, -3.74506815e-02, -1.38280919e+00, ...,\n",
       "         1.91216124e+00,  6.55198402e-01,  2.24502482e-01]])"
      ]
     },
     "execution_count": 139,
     "metadata": {},
     "output_type": "execute_result"
    }
   ],
   "source": [
    "x_test_poly = poly_fts.transform(x_test_std)\n",
    "x_test_poly"
   ]
  },
  {
   "cell_type": "code",
   "execution_count": 140,
   "id": "8b3c76c1",
   "metadata": {},
   "outputs": [
    {
     "data": {
      "text/plain": [
       "array([52.23983489, 38.99743931, 53.84788687, 43.41218979, 20.66844814,\n",
       "       41.72858842, 46.39558877, 46.25798536, 18.94966485, 54.51771077,\n",
       "       25.0271953 , 27.84563283, 38.2128633 , 19.08376142, 37.80003274,\n",
       "       25.56672355, 43.12926021, 52.46259542, 20.41924869, 42.68026499,\n",
       "       25.83329784, 24.59291793, 50.45970933, 42.2629214 , 20.850996  ,\n",
       "       43.41316482, 19.30225915, 53.84788687, 43.81561672, 45.40536632,\n",
       "       19.08400121, 34.4895322 , 39.85780465, 20.98338985, 44.20915827,\n",
       "       36.16986713, 55.02541825, 19.86257791, 41.17653594, 47.60289624,\n",
       "       41.90657361, 37.94479578, 47.77372844, 39.7172447 , 39.08794782,\n",
       "       47.827016  , 42.16496701, 19.54365482, 56.28589559, 47.88932353,\n",
       "       52.23983489, 52.648065  , 39.06211573, 40.80435751, 35.7088779 ,\n",
       "       19.84378387, 37.7554355 , 36.21309894, 20.63006395, 46.25798536,\n",
       "       25.28589919, 28.89481436, 19.84378387, 19.00163566, 11.11663487,\n",
       "       24.61909057, 22.08192768, 42.24213809, 39.18701274, 23.09345083,\n",
       "       46.59640756, 38.593191  , 52.38766396, 46.67495203, 40.35665245,\n",
       "       40.86133652, 41.37698177, 40.94941664, 35.66347363, 28.85885886,\n",
       "       38.21272929, 46.53646055, 23.30982208, 50.91586181, 24.38961729,\n",
       "       25.58561881, 42.7882465 , 42.75843634, 26.08756471, 36.2812341 ,\n",
       "       19.76153547, 38.41094021, 41.38354778, 46.10127404, 43.72534149,\n",
       "       43.33225978, 25.55028522, 44.16761805, 21.01698289, 48.59523104,\n",
       "       20.67685419, 36.7389947 , 40.436736  , 26.84804198])"
      ]
     },
     "execution_count": 140,
     "metadata": {},
     "output_type": "execute_result"
    }
   ],
   "source": [
    "poly_pred = model5.predict(x_test_poly)\n",
    "poly_pred"
   ]
  },
  {
   "cell_type": "code",
   "execution_count": 141,
   "id": "c8d3ba9d",
   "metadata": {},
   "outputs": [
    {
     "data": {
      "text/plain": [
       "0.6782296498633404"
      ]
     },
     "execution_count": 141,
     "metadata": {},
     "output_type": "execute_result"
    }
   ],
   "source": [
    "model5.score(x_test_poly, y_test)"
   ]
  },
  {
   "cell_type": "code",
   "execution_count": 147,
   "id": "d442bbd3",
   "metadata": {},
   "outputs": [
    {
     "data": {
      "text/plain": [
       "numpy.ndarray"
      ]
     },
     "execution_count": 147,
     "metadata": {},
     "output_type": "execute_result"
    },
    {
     "name": "stdout",
     "output_type": "stream",
     "text": [
      "0번째 교차 검증 정확도 : 0.27331196355315013\n",
      "1번째 교차 검증 정확도 : 0.6322879632533921\n",
      "2번째 교차 검증 정확도 : 0.7072531794611246\n",
      "3번째 교차 검증 정확도 : 0.6106558961226184\n",
      "4번째 교차 검증 정확도 : 0.7715190231028094\n",
      "5번째 교차 검증 정확도 : 0.7306729142556905\n",
      "6번째 교차 검증 정확도 : 0.8298589177468468\n",
      "7번째 교차 검증 정확도 : 0.6588539476849428\n",
      "8번째 교차 검증 정확도 : 0.7695672068327449\n",
      "9번째 교차 검증 정확도 : 0.6463492152091532\n",
      "최종 교차 검증 정확도 : 0.6630330227222474\n"
     ]
    }
   ],
   "source": [
    "# 3-4. 일반화작업 - 교차검증(corss validation) # 10Fold\n",
    "from sklearn.model_selection import cross_val_score, KFold\n",
    "\n",
    "cv = KFold(n_splits=10, shuffle=True, random_state=42)\n",
    "result = cross_val_score(model5, X_poly, y_train, cv=cv)\n",
    "fin_result = np.mean(result)\n",
    "\n",
    "type(result)\n",
    "for i, _ in enumerate(result):\n",
    "    print('{}번째 교차 검증 정확도 : {}'.format(i, _))\n",
    "\n",
    "print('최종 교차 검증 정확도 : {}'.format(fin_result))"
   ]
  },
  {
   "cell_type": "code",
   "execution_count": 155,
   "id": "f5d149b8",
   "metadata": {},
   "outputs": [
    {
     "data": {
      "text/plain": [
       "<AxesSubplot:title={'center':'Learning Curve'}, xlabel='Training examples', ylabel='Score'>"
      ]
     },
     "execution_count": 155,
     "metadata": {},
     "output_type": "execute_result"
    },
    {
     "data": {
      "text/plain": [
       "(-2.0, 1.0)"
      ]
     },
     "execution_count": 155,
     "metadata": {},
     "output_type": "execute_result"
    },
    {
     "data": {
      "image/png": "[encoded data removed]",
      "text/plain": [
       "<Figure size 720x720 with 1 Axes>"
      ]
     },
     "metadata": {
      "needs_background": "light"
     },
     "output_type": "display_data"
    }
   ],
   "source": [
    "# 3-5-2. cv score 시각화 (cv = 10)\n",
    "\n",
    "skplt.estimators.plot_learning_curve(model5, X_poly, y_train, figsize = (10,10), cv = cv)\n",
    "plt.ylim(-2, 1)\n",
    "plt.show()"
   ]
  },
  {
   "cell_type": "code",
   "execution_count": 186,
   "id": "c8abff16",
   "metadata": {},
   "outputs": [
    {
     "data": {
      "text/plain": [
       "array([52.23983489, 38.99743931, 53.84788687, 43.41218979, 20.66844814,\n",
       "       41.72858842, 46.39558877, 46.25798536, 18.94966485, 54.51771077,\n",
       "       25.0271953 , 27.84563283, 38.2128633 , 19.08376142, 37.80003274,\n",
       "       25.56672355, 43.12926021, 52.46259542, 20.41924869, 42.68026499,\n",
       "       25.83329784, 24.59291793, 50.45970933, 42.2629214 , 20.850996  ,\n",
       "       43.41316482, 19.30225915, 53.84788687, 43.81561672, 45.40536632,\n",
       "       19.08400121, 34.4895322 , 39.85780465, 20.98338985, 44.20915827,\n",
       "       36.16986713, 55.02541825, 19.86257791, 41.17653594, 47.60289624,\n",
       "       41.90657361, 37.94479578, 47.77372844, 39.7172447 , 39.08794782,\n",
       "       47.827016  , 42.16496701, 19.54365482, 56.28589559, 47.88932353,\n",
       "       52.23983489, 52.648065  , 39.06211573, 40.80435751, 35.7088779 ,\n",
       "       19.84378387, 37.7554355 , 36.21309894, 20.63006395, 46.25798536,\n",
       "       25.28589919, 28.89481436, 19.84378387, 19.00163566, 11.11663487,\n",
       "       24.61909057, 22.08192768, 42.24213809, 39.18701274, 23.09345083,\n",
       "       46.59640756, 38.593191  , 52.38766396, 46.67495203, 40.35665245,\n",
       "       40.86133652, 41.37698177, 40.94941664, 35.66347363, 28.85885886,\n",
       "       38.21272929, 46.53646055, 23.30982208, 50.91586181, 24.38961729,\n",
       "       25.58561881, 42.7882465 , 42.75843634, 26.08756471, 36.2812341 ,\n",
       "       19.76153547, 38.41094021, 41.38354778, 46.10127404, 43.72534149,\n",
       "       43.33225978, 25.55028522, 44.16761805, 21.01698289, 48.59523104,\n",
       "       20.67685419, 36.7389947 , 40.436736  , 26.84804198])"
      ]
     },
     "execution_count": 186,
     "metadata": {},
     "output_type": "execute_result"
    }
   ],
   "source": [
    "# 3-6. 모형활용\n",
    "\n",
    "pred2 = model5.predict(x_test_poly)\n",
    "pred2"
   ]
  },
  {
   "cell_type": "code",
   "execution_count": 187,
   "id": "999933bc",
   "metadata": {},
   "outputs": [
    {
     "name": "stdout",
     "output_type": "stream",
     "text": [
      "51.27283796652931\n",
      "RMSE :  7.160505426750915\n"
     ]
    }
   ],
   "source": [
    "# 4-1. 모형 평가 - RMSE\n",
    "\n",
    "from sklearn.metrics import mean_squared_error, r2_score\n",
    "\n",
    "mse = mean_squared_error(y_test, pred2)\n",
    "print(mse)\n",
    "RMSE = np.sqrt(mse)\n",
    "print('RMSE : ', RMSE)"
   ]
  },
  {
   "cell_type": "markdown",
   "id": "c18f12bc",
   "metadata": {},
   "source": [
    "### 이전보단 RMSE가 낮아졌지만 여전히 과대적합이 발생하고 있다.\n",
    "\n",
    "<br/>\n",
    "<br/>\n",
    "<br/>\n",
    "\n",
    "### L2정규화 - 릿지 회귀 사용해보자."
   ]
  },
  {
   "cell_type": "code",
   "execution_count": 195,
   "id": "20fbd6b6",
   "metadata": {},
   "outputs": [
    {
     "data": {
      "text/plain": [
       "Ridge(alpha=0.001, max_iter=1000)"
      ]
     },
     "execution_count": 195,
     "metadata": {},
     "output_type": "execute_result"
    }
   ],
   "source": [
    "model6 = Ridge(alpha = 0.001, max_iter = 1000)\n",
    "\n",
    "model6.fit(X_poly, y_train)"
   ]
  },
  {
   "cell_type": "code",
   "execution_count": 196,
   "id": "30467c58",
   "metadata": {},
   "outputs": [
    {
     "data": {
      "text/plain": [
       "array([[-1.42139636e+00, -6.98390925e-01,  6.29730005e-01, ...,\n",
       "         3.96559879e-01, -1.90587473e-01,  9.15967213e-02],\n",
       "       [-3.49792520e-01, -4.56390597e-01,  2.94306806e-01, ...,\n",
       "         8.66164963e-02, -1.02254245e-01,  1.20715234e-01],\n",
       "       [-1.51881489e+00, -6.33216739e-01, -1.04738599e+00, ...,\n",
       "         1.09701741e+00, -4.44523326e-01,  1.80125662e-01],\n",
       "       ...,\n",
       "       [ 1.57200941e+00, -3.95775530e-01, -4.11163921e-02, ...,\n",
       "         1.69055770e-03, -1.76326588e-03,  1.83910112e-03],\n",
       "       [-2.08092838e-01, -5.36588817e-01,  6.29730005e-01, ...,\n",
       "         3.96559879e-01, -3.91559045e-01,  3.86621274e-01],\n",
       "       [ 1.63868825e-01, -3.74506815e-02, -1.38280919e+00, ...,\n",
       "         1.91216124e+00,  6.55198402e-01,  2.24502482e-01]])"
      ]
     },
     "execution_count": 196,
     "metadata": {},
     "output_type": "execute_result"
    }
   ],
   "source": [
    "x_test_ridge = poly_fts.transform(x_test_std)\n",
    "x_test_ridge"
   ]
  },
  {
   "cell_type": "code",
   "execution_count": 197,
   "id": "489d9ce0",
   "metadata": {},
   "outputs": [
    {
     "data": {
      "text/plain": [
       "0.6782308819608318"
      ]
     },
     "execution_count": 197,
     "metadata": {},
     "output_type": "execute_result"
    }
   ],
   "source": [
    "model6.score(x_test_poly, y_test)"
   ]
  },
  {
   "cell_type": "markdown",
   "id": "c7f45e7f",
   "metadata": {},
   "source": [
    "### 여전히 설명력이 충분하지 않다.\n",
    "\n",
    "<br/>\n",
    "<br/>\n",
    "<br/>\n",
    "\n",
    "### 특성량을 줄여보자. - house age 제외( 상관계수 절댓값 가장 낮다)"
   ]
  },
  {
   "cell_type": "code",
   "execution_count": 207,
   "id": "2e6e95b4",
   "metadata": {},
   "outputs": [],
   "source": [
    "# 2-9 홀드아웃\n",
    "\n",
    "from sklearn.model_selection import train_test_split\n",
    "\n",
    "# 사용할 특징량 추출\n",
    "tych = estate.astype({'house_price' : 'int'})\n",
    "\n",
    "# transaction_date 컬럼 제외\n",
    "x2 = tych.iloc[:,2:5]\n",
    "y = tych.iloc[:,-1]\n",
    "\n",
    "\n",
    "X_train, X_test, y_train, y_test = train_test_split(x2, y, test_size = 0.25, random_state = 42)"
   ]
  },
  {
   "cell_type": "code",
   "execution_count": 208,
   "id": "d150f64a",
   "metadata": {},
   "outputs": [
    {
     "name": "stdout",
     "output_type": "stream",
     "text": [
      "x_train_std mean :  9.224640167616677e-14\n",
      "x_train_std std:  0.9999999999999999\n",
      "x_test_std mean:  -0.03127865148774662\n",
      "x_test_std std:  1.0009388140471398\n"
     ]
    }
   ],
   "source": [
    "# 3-1. 정규화\n",
    "\n",
    "from sklearn.preprocessing import StandardScaler\n",
    "stdsc = StandardScaler()\n",
    "\n",
    "x_train_std2 = stdsc.fit_transform(X_train)\n",
    "x_test_std2 = stdsc.transform(X_test)\n",
    "\n",
    "\n",
    "print(\"x_train_std mean : \",x_train_std2.mean())\n",
    "print(\"x_train_std std: \",x_train_std2.std())\n",
    "\n",
    "print(\"x_test_std mean: \",x_test_std2.mean())\n",
    "print(\"x_test_std std: \",x_test_std2.std())"
   ]
  },
  {
   "cell_type": "code",
   "execution_count": 209,
   "id": "b920d61e",
   "metadata": {},
   "outputs": [],
   "source": [
    "# 3-2. 모형 구축 - 단순선형회귀 선택\n",
    "\n",
    "from sklearn.linear_model import LinearRegression\n",
    "\n",
    "model7 = LinearRegression()"
   ]
  },
  {
   "cell_type": "code",
   "execution_count": 210,
   "id": "b267e087",
   "metadata": {},
   "outputs": [
    {
     "data": {
      "text/plain": [
       "LinearRegression()"
      ]
     },
     "execution_count": 210,
     "metadata": {},
     "output_type": "execute_result"
    }
   ],
   "source": [
    "# 3-3. 모형 실행\n",
    "\n",
    "model7.fit(x_train_std2, y_train)"
   ]
  },
  {
   "cell_type": "code",
   "execution_count": 211,
   "id": "195d6ee7",
   "metadata": {},
   "outputs": [
    {
     "data": {
      "text/plain": [
       "0.5126176593022478"
      ]
     },
     "execution_count": 211,
     "metadata": {},
     "output_type": "execute_result"
    }
   ],
   "source": [
    "model7.score(x_test_std2, y_test)"
   ]
  },
  {
   "cell_type": "code",
   "execution_count": 206,
   "id": "343eb467",
   "metadata": {},
   "outputs": [
    {
     "data": {
      "text/plain": [
       "numpy.ndarray"
      ]
     },
     "execution_count": 206,
     "metadata": {},
     "output_type": "execute_result"
    },
    {
     "name": "stdout",
     "output_type": "stream",
     "text": [
      "0번째 교차 검증 정확도 : 0.20970647457217806\n",
      "1번째 교차 검증 정확도 : 0.44927954919152735\n",
      "2번째 교차 검증 정확도 : 0.5422179727006896\n",
      "3번째 교차 검증 정확도 : 0.3230902561790575\n",
      "4번째 교차 검증 정확도 : 0.6192653479715837\n",
      "5번째 교차 검증 정확도 : 0.7537661297555888\n",
      "6번째 교차 검증 정확도 : 0.6142679776024308\n",
      "7번째 교차 검증 정확도 : 0.5196142655251454\n",
      "8번째 교차 검증 정확도 : 0.609133923923443\n",
      "9번째 교차 검증 정확도 : 0.5662020260990415\n",
      "최종 교차 검증 정확도 : 0.5206543923520686\n"
     ]
    }
   ],
   "source": [
    "# 3-4. 일반화작업 - 교차검증(corss validation) # 10Fold\n",
    "from sklearn.model_selection import cross_val_score, KFold\n",
    "\n",
    "cv = KFold(n_splits=10, shuffle=True, random_state=42)\n",
    "result = cross_val_score(model7, x_train_std2, y_train, cv=cv)\n",
    "fin_result = np.mean(result)\n",
    "\n",
    "type(result)\n",
    "for i, _ in enumerate(result):\n",
    "    print('{}번째 교차 검증 정확도 : {}'.format(i, _))\n",
    "\n",
    "print('최종 교차 검증 정확도 : {}'.format(fin_result))"
   ]
  },
  {
   "cell_type": "markdown",
   "id": "69f96576",
   "metadata": {},
   "source": [
    "### 여전히 설명력이 충분하지 않다.\n",
    "\n",
    "<br/>\n",
    "<br/>\n",
    "<br/>\n",
    "\n",
    "### 다른 특성량을 줄여보자. - distance_nearest_MRT 제외(다른 특성량과의 상관계수가 높은 편)"
   ]
  },
  {
   "cell_type": "code",
   "execution_count": 221,
   "id": "f7afd08a",
   "metadata": {},
   "outputs": [],
   "source": [
    "# 2-9 홀드아웃\n",
    "\n",
    "from sklearn.model_selection import train_test_split\n",
    "\n",
    "# 사용할 특징량 추출\n",
    "tych = estate.astype({'house_price' : 'int'})\n",
    "\n",
    "# transaction_date 컬럼 제외\n",
    "x3 = tych.iloc[:,[1,3,4]]\n",
    "y = tych.iloc[:,-1]\n",
    "\n",
    "\n",
    "X_train, X_test, y_train, y_test = train_test_split(x3, y, test_size = 0.25, random_state = 42)"
   ]
  },
  {
   "cell_type": "code",
   "execution_count": 222,
   "id": "9ef7b44a",
   "metadata": {},
   "outputs": [
    {
     "name": "stdout",
     "output_type": "stream",
     "text": [
      "x_train_std mean :  9.226168216510785e-14\n",
      "x_train_std std:  1.0\n",
      "x_test_std mean:  0.0042958013660406085\n",
      "x_test_std std:  0.984070540454913\n"
     ]
    }
   ],
   "source": [
    "# 3-1. 정규화\n",
    "\n",
    "from sklearn.preprocessing import StandardScaler\n",
    "stdsc = StandardScaler()\n",
    "\n",
    "x_train_std3 = stdsc.fit_transform(X_train)\n",
    "x_test_std3 = stdsc.transform(X_test)\n",
    "\n",
    "\n",
    "print(\"x_train_std mean : \",x_train_std3.mean())\n",
    "print(\"x_train_std std: \",x_train_std3.std())\n",
    "\n",
    "print(\"x_test_std mean: \",x_test_std3.mean())\n",
    "print(\"x_test_std std: \",x_test_std3.std())"
   ]
  },
  {
   "cell_type": "code",
   "execution_count": 223,
   "id": "8dbce65d",
   "metadata": {},
   "outputs": [],
   "source": [
    "# 3-2. 모형 구축 - 단순선형회귀 선택\n",
    "\n",
    "from sklearn.linear_model import LinearRegression\n",
    "\n",
    "model8 = LinearRegression()"
   ]
  },
  {
   "cell_type": "code",
   "execution_count": 224,
   "id": "d446e58d",
   "metadata": {},
   "outputs": [
    {
     "data": {
      "text/plain": [
       "LinearRegression()"
      ]
     },
     "execution_count": 224,
     "metadata": {},
     "output_type": "execute_result"
    }
   ],
   "source": [
    "# 3-3. 모형 실행\n",
    "\n",
    "model8.fit(x_train_std3, y_train)"
   ]
  },
  {
   "cell_type": "code",
   "execution_count": 225,
   "id": "be239b46",
   "metadata": {},
   "outputs": [
    {
     "data": {
      "text/plain": [
       "0.5146604640659334"
      ]
     },
     "execution_count": 225,
     "metadata": {},
     "output_type": "execute_result"
    }
   ],
   "source": [
    "model8.score(x_test_std3, y_test)"
   ]
  },
  {
   "cell_type": "markdown",
   "id": "3f9c2537",
   "metadata": {},
   "source": [
    "### 여전히 설명력이 충분하지 않다\n",
    "\n",
    "<br/>\n",
    "<br/>\n",
    "<br/>\n",
    "\n",
    "### 어떤 차원을 축소할지 알아보기 위해 PCA(주성분분석)를 해보자."
   ]
  },
  {
   "cell_type": "code",
   "execution_count": 239,
   "id": "cb9ad67a",
   "metadata": {},
   "outputs": [
    {
     "data": {
      "text/html": [
       "<div>\n",
       "<style scoped>\n",
       "    .dataframe tbody tr th:only-of-type {\n",
       "        vertical-align: middle;\n",
       "    }\n",
       "\n",
       "    .dataframe tbody tr th {\n",
       "        vertical-align: top;\n",
       "    }\n",
       "\n",
       "    .dataframe thead th {\n",
       "        text-align: right;\n",
       "    }\n",
       "</style>\n",
       "<table border=\"1\" class=\"dataframe\">\n",
       "  <thead>\n",
       "    <tr style=\"text-align: right;\">\n",
       "      <th></th>\n",
       "      <th>principal component1</th>\n",
       "      <th>principal component2</th>\n",
       "    </tr>\n",
       "  </thead>\n",
       "  <tbody>\n",
       "    <tr>\n",
       "      <th>0</th>\n",
       "      <td>-0.507397</td>\n",
       "      <td>-1.411934</td>\n",
       "    </tr>\n",
       "    <tr>\n",
       "      <th>1</th>\n",
       "      <td>-1.618504</td>\n",
       "      <td>-0.841661</td>\n",
       "    </tr>\n",
       "    <tr>\n",
       "      <th>2</th>\n",
       "      <td>1.825287</td>\n",
       "      <td>-0.335772</td>\n",
       "    </tr>\n",
       "    <tr>\n",
       "      <th>3</th>\n",
       "      <td>1.371303</td>\n",
       "      <td>-0.147650</td>\n",
       "    </tr>\n",
       "    <tr>\n",
       "      <th>4</th>\n",
       "      <td>-0.664113</td>\n",
       "      <td>0.064680</td>\n",
       "    </tr>\n",
       "    <tr>\n",
       "      <th>...</th>\n",
       "      <td>...</td>\n",
       "      <td>...</td>\n",
       "    </tr>\n",
       "    <tr>\n",
       "      <th>305</th>\n",
       "      <td>-0.263346</td>\n",
       "      <td>0.593635</td>\n",
       "    </tr>\n",
       "    <tr>\n",
       "      <th>306</th>\n",
       "      <td>-1.500719</td>\n",
       "      <td>-0.450991</td>\n",
       "    </tr>\n",
       "    <tr>\n",
       "      <th>307</th>\n",
       "      <td>-0.029518</td>\n",
       "      <td>0.953889</td>\n",
       "    </tr>\n",
       "    <tr>\n",
       "      <th>308</th>\n",
       "      <td>-1.031830</td>\n",
       "      <td>-0.077597</td>\n",
       "    </tr>\n",
       "    <tr>\n",
       "      <th>309</th>\n",
       "      <td>-0.615609</td>\n",
       "      <td>-0.688170</td>\n",
       "    </tr>\n",
       "  </tbody>\n",
       "</table>\n",
       "<p>310 rows × 2 columns</p>\n",
       "</div>"
      ],
      "text/plain": [
       "     principal component1  principal component2\n",
       "0               -0.507397             -1.411934\n",
       "1               -1.618504             -0.841661\n",
       "2                1.825287             -0.335772\n",
       "3                1.371303             -0.147650\n",
       "4               -0.664113              0.064680\n",
       "..                    ...                   ...\n",
       "305             -0.263346              0.593635\n",
       "306             -1.500719             -0.450991\n",
       "307             -0.029518              0.953889\n",
       "308             -1.031830             -0.077597\n",
       "309             -0.615609             -0.688170\n",
       "\n",
       "[310 rows x 2 columns]"
      ]
     },
     "execution_count": 239,
     "metadata": {},
     "output_type": "execute_result"
    }
   ],
   "source": [
    "from sklearn.decomposition import PCA\n",
    "pca = PCA(n_components=2) # 주성분을 몇개로 할지 결정\n",
    "printcipalComponents = pca.fit_transform(x_train_std)\n",
    "principalDf = pd.DataFrame(data=printcipalComponents, columns = ['principal component1', 'principal component2'])\n",
    "# 주성분으로 이루어진 데이터 프레임 구성\n",
    "\n",
    "principalDf"
   ]
  },
  {
   "cell_type": "code",
   "execution_count": 233,
   "id": "be15cf68",
   "metadata": {},
   "outputs": [
    {
     "data": {
      "text/plain": [
       "array([0.69297552, 0.18763272])"
      ]
     },
     "execution_count": 233,
     "metadata": {},
     "output_type": "execute_result"
    },
    {
     "data": {
      "text/plain": [
       "array([2.08565447, 0.56471985])"
      ]
     },
     "execution_count": 233,
     "metadata": {},
     "output_type": "execute_result"
    }
   ],
   "source": [
    "# 2개의 성분들이 모형을 얼마나 설명하는지\n",
    "pca.explained_variance_ratio_\n",
    "\n",
    "# 공분산 행렬의 eigenvalue\n",
    "pca.explained_variance_"
   ]
  },
  {
   "cell_type": "code",
   "execution_count": 230,
   "id": "421118ef",
   "metadata": {},
   "outputs": [
    {
     "data": {
      "text/plain": [
       "0.8806082429454687"
      ]
     },
     "execution_count": 230,
     "metadata": {},
     "output_type": "execute_result"
    }
   ],
   "source": [
    "sum(pca.explained_variance_ratio_)"
   ]
  },
  {
   "cell_type": "code",
   "execution_count": 240,
   "id": "1bc6e561",
   "metadata": {},
   "outputs": [],
   "source": [
    "X_train_pca = pca.transform(x_train_std)\n",
    "X_test_pca = pca.transform(x_test_std)"
   ]
  },
  {
   "cell_type": "code",
   "execution_count": 241,
   "id": "16034d4f",
   "metadata": {},
   "outputs": [],
   "source": [
    "# 3-2. 모형 구축 - 단순선형회귀 선택\n",
    "\n",
    "from sklearn.linear_model import LinearRegression\n",
    "\n",
    "model9 = LinearRegression()"
   ]
  },
  {
   "cell_type": "code",
   "execution_count": 243,
   "id": "398f2936",
   "metadata": {},
   "outputs": [
    {
     "data": {
      "text/plain": [
       "LinearRegression()"
      ]
     },
     "execution_count": 243,
     "metadata": {},
     "output_type": "execute_result"
    }
   ],
   "source": [
    "# 3-3. 모형 실행\n",
    "\n",
    "model9.fit(X_train_pca, y_train)"
   ]
  },
  {
   "cell_type": "code",
   "execution_count": 245,
   "id": "a32860b3",
   "metadata": {},
   "outputs": [
    {
     "data": {
      "text/plain": [
       "0.5122348795696876"
      ]
     },
     "execution_count": 245,
     "metadata": {},
     "output_type": "execute_result"
    }
   ],
   "source": [
    "model9.score(X_test_pca, y_test)"
   ]
  },
  {
   "cell_type": "code",
   "execution_count": 198,
   "id": "20533c74",
   "metadata": {},
   "outputs": [
    {
     "data": {
      "text/plain": [
       "array([52.23969437, 38.99739628, 53.84778841, 43.412102  , 20.66876825,\n",
       "       41.72868512, 46.39543282, 46.25782969, 18.94979607, 54.51761545,\n",
       "       25.02736805, 27.84594441, 38.21292488, 19.08388453, 37.80008653,\n",
       "       25.56680553, 43.12930331, 52.46244266, 20.4197852 , 42.68024709,\n",
       "       25.83358126, 24.59312765, 50.45959355, 42.26282797, 20.85089321,\n",
       "       43.41307606, 19.30212732, 53.84778841, 43.81543809, 45.40529939,\n",
       "       19.0837877 , 34.48967053, 39.85774564, 20.98348402, 44.20905013,\n",
       "       36.16988894, 55.02532427, 19.86245479, 41.17688936, 47.60288176,\n",
       "       41.90651554, 37.94471496, 47.77374582, 39.71715798, 39.08790498,\n",
       "       47.82693032, 42.16506742, 19.5435411 , 56.28566914, 47.88934456,\n",
       "       52.23969437, 52.64794696, 39.06228401, 40.80434348, 35.70878866,\n",
       "       19.84366071, 37.75541254, 36.21301517, 20.6303843 , 46.25782969,\n",
       "       25.28621491, 28.89486256, 19.84366071, 19.00142432, 11.11688298,\n",
       "       24.61930021, 22.08202209, 42.24234395, 39.18695626, 23.09354742,\n",
       "       46.59624143, 38.59314132, 52.38751086, 46.67474221, 40.35658558,\n",
       "       40.86124674, 41.37689791, 40.94925662, 35.66376076, 28.85904007,\n",
       "       38.2127394 , 46.53630432, 23.30991916, 50.91563396, 24.39014833,\n",
       "       25.58593474, 42.78837686, 42.75843794, 26.08764742, 36.28124853,\n",
       "       19.76160457, 38.4108757 , 41.38371967, 46.10126052, 43.72537886,\n",
       "       43.33228403, 25.55039665, 44.16774936, 21.01729924, 48.59514528,\n",
       "       20.6772148 , 36.73894858, 40.43669507, 26.84802497])"
      ]
     },
     "execution_count": 198,
     "metadata": {},
     "output_type": "execute_result"
    }
   ],
   "source": [
    "# 3-6. 모형활용\n",
    "\n",
    "pred3 = model6.predict(x_test_poly)\n",
    "pred3"
   ]
  },
  {
   "cell_type": "code",
   "execution_count": 199,
   "id": "21349892",
   "metadata": {},
   "outputs": [
    {
     "name": "stdout",
     "output_type": "stream",
     "text": [
      "51.2726416366468\n",
      "RMSE :  7.160491717518204\n"
     ]
    }
   ],
   "source": [
    "# 4-1. 모형 평가 - RMSE\n",
    "\n",
    "from sklearn.metrics import mean_squared_error, r2_score\n",
    "\n",
    "mse = mean_squared_error(y_test, pred3)\n",
    "print(mse)\n",
    "RMSE = np.sqrt(mse)\n",
    "print('RMSE : ', RMSE)"
   ]
  },
  {
   "cell_type": "code",
   "execution_count": 189,
   "id": "174cf3f8",
   "metadata": {},
   "outputs": [
    {
     "ename": "SyntaxError",
     "evalue": "invalid syntax (3869132243.py, line 25)",
     "output_type": "error",
     "traceback": [
      "\u001b[1;36m  Input \u001b[1;32mIn [189]\u001b[1;36m\u001b[0m\n\u001b[1;33m    plt.plot(X_poly, x_test_poly, label=\"True function\")\u001b[0m\n\u001b[1;37m    ^\u001b[0m\n\u001b[1;31mSyntaxError\u001b[0m\u001b[1;31m:\u001b[0m invalid syntax\n"
     ]
    }
   ],
   "source": [
    "from sklearn.pipeline import Pipeline\n",
    "from sklearn.preprocessing import PolynomialFeatures\n",
    "\n",
    "\n",
    "plt.figure(figsize=(14, 5))\n",
    "for i in range(len(degrees)):\n",
    "    ax = plt.subplot(1, len(degrees), i + 1)\n",
    "    plt.setp(ax, xticks=(), yticks=())\n",
    "\n",
    "    pipeline = Pipeline(\n",
    "        [\n",
    "            (\"polynomial_features\", poly_fts),\n",
    "            (\"linear_regression\", model5),\n",
    "        ]\n",
    "    )\n",
    "    pipeline.fit(X_poly, y_train)\n",
    "\n",
    "    # Evaluate the models using crossvalidation\n",
    "    scores = cross_val_score(\n",
    "        pipeline, X_poly, y_train, scoring=\"neg_mean_squared_error\", cv=10\n",
    "    )\n",
    "\n",
    "    X_test = np.linspace(0, 1, 100)\n",
    "    plt.plot(X_poly, pipeline.predict(x_test_poly, label=\"Model\")\n",
    "    plt.plot(X_poly, x_test_poly, label=\"True function\")\n",
    "    plt.scatter(X_poly, y_train, edgecolor=\"b\", s=20, label=\"Samples\")\n",
    "    plt.xlabel(\"x\")\n",
    "    plt.ylabel(\"y\")\n",
    "    plt.xlim((0, 1))\n",
    "    plt.ylim((-2, 2))\n",
    "    plt.legend(loc=\"best\")\n",
    "    plt.title(\n",
    "        \"Degree {}\\nMSE = {:.2e}(+/- {:.2e})\".format(\n",
    "            degrees[i], -scores.mean(), scores.std()\n",
    "        )\n",
    "    )\n",
    "plt.show()"
   ]
  },
  {
   "cell_type": "code",
   "execution_count": 116,
   "id": "01c9f94b",
   "metadata": {},
   "outputs": [
    {
     "data": {
      "text/plain": [
       "<Figure size 1008x360 with 0 Axes>"
      ]
     },
     "execution_count": 116,
     "metadata": {},
     "output_type": "execute_result"
    },
    {
     "data": {
      "text/plain": [
       "[]"
      ]
     },
     "execution_count": 116,
     "metadata": {},
     "output_type": "execute_result"
    },
    {
     "data": {
      "text/plain": [
       "Pipeline(steps=[('polynomial_features',\n",
       "                 PolynomialFeatures(degree=1, include_bias=False)),\n",
       "                ('linear_regression', LinearRegression())])"
      ]
     },
     "execution_count": 116,
     "metadata": {},
     "output_type": "execute_result"
    },
    {
     "data": {
      "text/plain": [
       "[<matplotlib.lines.Line2D at 0x255a977a370>]"
      ]
     },
     "execution_count": 116,
     "metadata": {},
     "output_type": "execute_result"
    },
    {
     "data": {
      "text/plain": [
       "[<matplotlib.lines.Line2D at 0x255a9a8f9d0>]"
      ]
     },
     "execution_count": 116,
     "metadata": {},
     "output_type": "execute_result"
    },
    {
     "data": {
      "text/plain": [
       "<matplotlib.collections.PathCollection at 0x255a3260f70>"
      ]
     },
     "execution_count": 116,
     "metadata": {},
     "output_type": "execute_result"
    },
    {
     "data": {
      "text/plain": [
       "Text(0.5, 0, 'x')"
      ]
     },
     "execution_count": 116,
     "metadata": {},
     "output_type": "execute_result"
    },
    {
     "data": {
      "text/plain": [
       "Text(0, 0.5, 'y')"
      ]
     },
     "execution_count": 116,
     "metadata": {},
     "output_type": "execute_result"
    },
    {
     "data": {
      "text/plain": [
       "(0.0, 1.0)"
      ]
     },
     "execution_count": 116,
     "metadata": {},
     "output_type": "execute_result"
    },
    {
     "data": {
      "text/plain": [
       "(-2.0, 2.0)"
      ]
     },
     "execution_count": 116,
     "metadata": {},
     "output_type": "execute_result"
    },
    {
     "data": {
      "text/plain": [
       "<matplotlib.legend.Legend at 0x255a9a9a490>"
      ]
     },
     "execution_count": 116,
     "metadata": {},
     "output_type": "execute_result"
    },
    {
     "data": {
      "text/plain": [
       "Text(0.5, 1.0, 'Degree 1\\nMSE = 4.08e-01(+/- 4.25e-01)')"
      ]
     },
     "execution_count": 116,
     "metadata": {},
     "output_type": "execute_result"
    },
    {
     "data": {
      "text/plain": [
       "[]"
      ]
     },
     "execution_count": 116,
     "metadata": {},
     "output_type": "execute_result"
    },
    {
     "data": {
      "text/plain": [
       "Pipeline(steps=[('polynomial_features',\n",
       "                 PolynomialFeatures(degree=4, include_bias=False)),\n",
       "                ('linear_regression', LinearRegression())])"
      ]
     },
     "execution_count": 116,
     "metadata": {},
     "output_type": "execute_result"
    },
    {
     "data": {
      "text/plain": [
       "[<matplotlib.lines.Line2D at 0x255a9ae6130>]"
      ]
     },
     "execution_count": 116,
     "metadata": {},
     "output_type": "execute_result"
    },
    {
     "data": {
      "text/plain": [
       "[<matplotlib.lines.Line2D at 0x255a9ae6670>]"
      ]
     },
     "execution_count": 116,
     "metadata": {},
     "output_type": "execute_result"
    },
    {
     "data": {
      "text/plain": [
       "<matplotlib.collections.PathCollection at 0x255a9ae6760>"
      ]
     },
     "execution_count": 116,
     "metadata": {},
     "output_type": "execute_result"
    },
    {
     "data": {
      "text/plain": [
       "Text(0.5, 0, 'x')"
      ]
     },
     "execution_count": 116,
     "metadata": {},
     "output_type": "execute_result"
    },
    {
     "data": {
      "text/plain": [
       "Text(0, 0.5, 'y')"
      ]
     },
     "execution_count": 116,
     "metadata": {},
     "output_type": "execute_result"
    },
    {
     "data": {
      "text/plain": [
       "(0.0, 1.0)"
      ]
     },
     "execution_count": 116,
     "metadata": {},
     "output_type": "execute_result"
    },
    {
     "data": {
      "text/plain": [
       "(-2.0, 2.0)"
      ]
     },
     "execution_count": 116,
     "metadata": {},
     "output_type": "execute_result"
    },
    {
     "data": {
      "text/plain": [
       "<matplotlib.legend.Legend at 0x255a9ae6430>"
      ]
     },
     "execution_count": 116,
     "metadata": {},
     "output_type": "execute_result"
    },
    {
     "data": {
      "text/plain": [
       "Text(0.5, 1.0, 'Degree 4\\nMSE = 4.32e-02(+/- 7.08e-02)')"
      ]
     },
     "execution_count": 116,
     "metadata": {},
     "output_type": "execute_result"
    },
    {
     "data": {
      "text/plain": [
       "[]"
      ]
     },
     "execution_count": 116,
     "metadata": {},
     "output_type": "execute_result"
    },
    {
     "data": {
      "text/plain": [
       "Pipeline(steps=[('polynomial_features',\n",
       "                 PolynomialFeatures(degree=15, include_bias=False)),\n",
       "                ('linear_regression', LinearRegression())])"
      ]
     },
     "execution_count": 116,
     "metadata": {},
     "output_type": "execute_result"
    },
    {
     "data": {
      "text/plain": [
       "[<matplotlib.lines.Line2D at 0x255a9b28ac0>]"
      ]
     },
     "execution_count": 116,
     "metadata": {},
     "output_type": "execute_result"
    },
    {
     "data": {
      "text/plain": [
       "[<matplotlib.lines.Line2D at 0x255a9b28df0>]"
      ]
     },
     "execution_count": 116,
     "metadata": {},
     "output_type": "execute_result"
    },
    {
     "data": {
      "text/plain": [
       "<matplotlib.collections.PathCollection at 0x255a9b28940>"
      ]
     },
     "execution_count": 116,
     "metadata": {},
     "output_type": "execute_result"
    },
    {
     "data": {
      "text/plain": [
       "Text(0.5, 0, 'x')"
      ]
     },
     "execution_count": 116,
     "metadata": {},
     "output_type": "execute_result"
    },
    {
     "data": {
      "text/plain": [
       "Text(0, 0.5, 'y')"
      ]
     },
     "execution_count": 116,
     "metadata": {},
     "output_type": "execute_result"
    },
    {
     "data": {
      "text/plain": [
       "(0.0, 1.0)"
      ]
     },
     "execution_count": 116,
     "metadata": {},
     "output_type": "execute_result"
    },
    {
     "data": {
      "text/plain": [
       "(-2.0, 2.0)"
      ]
     },
     "execution_count": 116,
     "metadata": {},
     "output_type": "execute_result"
    },
    {
     "data": {
      "text/plain": [
       "<matplotlib.legend.Legend at 0x255a9b28cd0>"
      ]
     },
     "execution_count": 116,
     "metadata": {},
     "output_type": "execute_result"
    },
    {
     "data": {
      "text/plain": [
       "Text(0.5, 1.0, 'Degree 15\\nMSE = 1.83e+08(+/- 5.48e+08)')"
      ]
     },
     "execution_count": 116,
     "metadata": {},
     "output_type": "execute_result"
    },
    {
     "data": {
      "image/png": "[encoded data removed]",
      "text/plain": [
       "<Figure size 1008x360 with 3 Axes>"
      ]
     },
     "metadata": {},
     "output_type": "display_data"
    }
   ],
   "source": [
    "from sklearn.pipeline import Pipeline\n",
    "from sklearn.preprocessing import PolynomialFeatures\n",
    "\n",
    "\n",
    "def true_fun(X):\n",
    "    return np.cos(1.5 * np.pi * X)\n",
    "\n",
    "\n",
    "np.random.seed(0)\n",
    "\n",
    "n_samples = 30\n",
    "degrees = [1, 4, 15]\n",
    "\n",
    "X = np.sort(np.random.rand(n_samples))\n",
    "y = true_fun(X) + np.random.randn(n_samples) * 0.1\n",
    "\n",
    "plt.figure(figsize=(14, 5))\n",
    "for i in range(len(degrees)):\n",
    "    ax = plt.subplot(1, len(degrees), i + 1)\n",
    "    plt.setp(ax, xticks=(), yticks=())\n",
    "\n",
    "    polynomial_features = PolynomialFeatures(degree=degrees[i], include_bias=False)\n",
    "    linear_regression = LinearRegression()\n",
    "    pipeline = Pipeline(\n",
    "        [\n",
    "            (\"polynomial_features\", polynomial_features),\n",
    "            (\"linear_regression\", linear_regression),\n",
    "        ]\n",
    "    )\n",
    "    pipeline.fit(X[:, np.newaxis], y)\n",
    "\n",
    "    # Evaluate the models using crossvalidation\n",
    "    scores = cross_val_score(\n",
    "        pipeline, X[:, np.newaxis], y, scoring=\"neg_mean_squared_error\", cv=10\n",
    "    )\n",
    "\n",
    "    X_test = np.linspace(0, 1, 100)\n",
    "    plt.plot(X_test, pipeline.predict(X_test[:, np.newaxis]), label=\"Model\")\n",
    "    plt.plot(X_test, true_fun(X_test), label=\"True function\")\n",
    "    plt.scatter(X, y, edgecolor=\"b\", s=20, label=\"Samples\")\n",
    "    plt.xlabel(\"x\")\n",
    "    plt.ylabel(\"y\")\n",
    "    plt.xlim((0, 1))\n",
    "    plt.ylim((-2, 2))\n",
    "    plt.legend(loc=\"best\")\n",
    "    plt.title(\n",
    "        \"Degree {}\\nMSE = {:.2e}(+/- {:.2e})\".format(\n",
    "            degrees[i], -scores.mean(), scores.std()\n",
    "        )\n",
    "    )\n",
    "plt.show()"
   ]
  },
  {
   "cell_type": "markdown",
   "id": "d782e3c9",
   "metadata": {},
   "source": [
    "<br/>\n",
    "<br/>\n",
    "<br/>\n",
    "<br/>\n",
    "<br/>\n",
    "\n",
    "## 그 외의 선형 모형들"
   ]
  },
  {
   "cell_type": "code",
   "execution_count": 103,
   "id": "8ead4684",
   "metadata": {},
   "outputs": [],
   "source": [
    "# 3-2. 모형 구축\n",
    "\n",
    "from sklearn.linear_model import Ridge\n",
    "\n",
    "model2 = Ridge()"
   ]
  },
  {
   "cell_type": "code",
   "execution_count": 104,
   "id": "77a99b51",
   "metadata": {},
   "outputs": [
    {
     "data": {
      "text/plain": [
       "Ridge()"
      ]
     },
     "execution_count": 104,
     "metadata": {},
     "output_type": "execute_result"
    }
   ],
   "source": [
    "# 3-3. 모형 실행\n",
    "\n",
    "model2.fit(x_train_std, y_train)"
   ]
  },
  {
   "cell_type": "code",
   "execution_count": 105,
   "id": "2e081142",
   "metadata": {},
   "outputs": [
    {
     "data": {
      "text/plain": [
       "0.5827473826725067"
      ]
     },
     "execution_count": 105,
     "metadata": {},
     "output_type": "execute_result"
    }
   ],
   "source": [
    "model2.score(x_test_std, y_test)"
   ]
  },
  {
   "cell_type": "code",
   "execution_count": 99,
   "id": "2cde8d86",
   "metadata": {},
   "outputs": [
    {
     "data": {
      "text/plain": [
       "numpy.ndarray"
      ]
     },
     "execution_count": 99,
     "metadata": {},
     "output_type": "execute_result"
    },
    {
     "name": "stdout",
     "output_type": "stream",
     "text": [
      "0번째 교차 검증 정확도 : 0.20233138322032473\n",
      "1번째 교차 검증 정확도 : 0.5149915361569068\n",
      "2번째 교차 검증 정확도 : 0.5862052991378639\n",
      "3번째 교차 검증 정확도 : 0.46175200571291874\n",
      "4번째 교차 검증 정확도 : 0.7324065956066095\n",
      "5번째 교차 검증 정확도 : 0.7746255694185978\n",
      "6번째 교차 검증 정확도 : 0.7097020462249775\n",
      "7번째 교차 검증 정확도 : 0.49805687333119997\n",
      "8번째 교차 검증 정확도 : 0.6909162249760517\n",
      "9번째 교차 검증 정확도 : 0.5378443750243425\n",
      "최종 교차 검증 정확도 : 0.5708831908809794\n"
     ]
    }
   ],
   "source": [
    "# 3-4. 일반화작업 - 교차검증(corss validation) # 10Fold\n",
    "from sklearn.model_selection import cross_val_score, KFold\n",
    "\n",
    "cv = KFold(n_splits=10, shuffle=True, random_state=42)\n",
    "result = cross_val_score(model2, x_train_std, y_train, cv=cv)\n",
    "fin_result = np.mean(result)\n",
    "\n",
    "type(result)\n",
    "for i, _ in enumerate(result):\n",
    "    print('{}번째 교차 검증 정확도 : {}'.format(i, _))\n",
    "\n",
    "print('최종 교차 검증 정확도 : {}'.format(fin_result))"
   ]
  },
  {
   "cell_type": "code",
   "execution_count": 101,
   "id": "d252d84f",
   "metadata": {},
   "outputs": [],
   "source": [
    "# 3-2. 모형 구축\n",
    "\n",
    "from sklearn.linear_model import ElasticNet\n",
    "\n",
    "model3 = ElasticNet()"
   ]
  },
  {
   "cell_type": "code",
   "execution_count": 102,
   "id": "5d2152bf",
   "metadata": {},
   "outputs": [
    {
     "data": {
      "text/plain": [
       "ElasticNet()"
      ]
     },
     "execution_count": 102,
     "metadata": {},
     "output_type": "execute_result"
    }
   ],
   "source": [
    "# 3-3. 모형 실행\n",
    "\n",
    "model3.fit(x_train_std, y_train)"
   ]
  },
  {
   "cell_type": "code",
   "execution_count": 106,
   "id": "0f4ffa8a",
   "metadata": {},
   "outputs": [
    {
     "data": {
      "text/plain": [
       "0.5441377522921227"
      ]
     },
     "execution_count": 106,
     "metadata": {},
     "output_type": "execute_result"
    }
   ],
   "source": [
    "model3.score(x_test_std, y_test)"
   ]
  },
  {
   "cell_type": "code",
   "execution_count": 107,
   "id": "1c35f54c",
   "metadata": {},
   "outputs": [
    {
     "data": {
      "text/plain": [
       "numpy.ndarray"
      ]
     },
     "execution_count": 107,
     "metadata": {},
     "output_type": "execute_result"
    },
    {
     "name": "stdout",
     "output_type": "stream",
     "text": [
      "0번째 교차 검증 정확도 : 0.16799914901818513\n",
      "1번째 교차 검증 정확도 : 0.5325652886716318\n",
      "2번째 교차 검증 정확도 : 0.5707311044293838\n",
      "3번째 교차 검증 정확도 : 0.45469410590150505\n",
      "4번째 교차 검증 정확도 : 0.6607585112474714\n",
      "5번째 교차 검증 정확도 : 0.6796826467427952\n",
      "6번째 교차 검증 정확도 : 0.623426671179532\n",
      "7번째 교차 검증 정확도 : 0.4962903559010534\n",
      "8번째 교차 검증 정확도 : 0.636814316567189\n",
      "9번째 교차 검증 정확도 : 0.4985931886176138\n",
      "최종 교차 검증 정확도 : 0.532155533827636\n"
     ]
    }
   ],
   "source": [
    "# 3-4. 일반화작업 - 교차검증(corss validation) # 10Fold\n",
    "from sklearn.model_selection import cross_val_score, KFold\n",
    "\n",
    "cv = KFold(n_splits=10, shuffle=True, random_state=42)\n",
    "result = cross_val_score(model3, x_train_std, y_train, cv=cv)\n",
    "fin_result = np.mean(result)\n",
    "\n",
    "type(result)\n",
    "for i, _ in enumerate(result):\n",
    "    print('{}번째 교차 검증 정확도 : {}'.format(i, _))\n",
    "\n",
    "print('최종 교차 검증 정확도 : {}'.format(fin_result))"
   ]
  },
  {
   "cell_type": "code",
   "execution_count": 112,
   "id": "5f24342b",
   "metadata": {},
   "outputs": [],
   "source": [
    "# 3-2. 모형 구축\n",
    "\n",
    "from sklearn.linear_model import Perceptron\n",
    "\n",
    "model4 = Perceptron(penalty = 'l2', max_iter = 10000)"
   ]
  },
  {
   "cell_type": "markdown",
   "id": "ed4ff2c6",
   "metadata": {},
   "source": [
    "Perceptron(*,\n",
    "penalty=None,\n",
    "alpha=0.0001,\n",
    "l1_ratio=0.15,\n",
    "fit_intercept=True,\n",
    "max_iter=1000,\n",
    "tol=0.001,\n",
    "shuffle=True,\n",
    "verbose=0,\n",
    "eta0=1.0,\n",
    "n_jobs=None,\n",
    "random_state=0,\n",
    "early_stopping=False,\n",
    "validation_fraction=0.1,\n",
    "n_iter_no_change=5,\n",
    "class_weight=None,\n",
    "warm_start=False)"
   ]
  },
  {
   "cell_type": "code",
   "execution_count": 113,
   "id": "4f370602",
   "metadata": {},
   "outputs": [
    {
     "data": {
      "text/plain": [
       "Perceptron(max_iter=10000, penalty='l2')"
      ]
     },
     "execution_count": 113,
     "metadata": {},
     "output_type": "execute_result"
    }
   ],
   "source": [
    "# 3-3. 모형 실행\n",
    "\n",
    "model4.fit(x_train_std, y_train)"
   ]
  },
  {
   "cell_type": "code",
   "execution_count": 121,
   "id": "35aa926f",
   "metadata": {},
   "outputs": [
    {
     "data": {
      "text/plain": [
       "0.057692307692307696"
      ]
     },
     "execution_count": 121,
     "metadata": {},
     "output_type": "execute_result"
    }
   ],
   "source": [
    "model4.score(x_test_std, y_test)"
   ]
  },
  {
   "cell_type": "code",
   "execution_count": 122,
   "id": "8996cbd1",
   "metadata": {},
   "outputs": [
    {
     "data": {
      "text/plain": [
       "numpy.ndarray"
      ]
     },
     "execution_count": 122,
     "metadata": {},
     "output_type": "execute_result"
    },
    {
     "name": "stdout",
     "output_type": "stream",
     "text": [
      "0번째 교차 검증 정확도 : 0.06451612903225806\n",
      "1번째 교차 검증 정확도 : 0.06451612903225806\n",
      "2번째 교차 검증 정확도 : 0.06451612903225806\n",
      "3번째 교차 검증 정확도 : 0.0\n",
      "4번째 교차 검증 정확도 : 0.03225806451612903\n",
      "5번째 교차 검증 정확도 : 0.0967741935483871\n",
      "6번째 교차 검증 정확도 : 0.03225806451612903\n",
      "7번째 교차 검증 정확도 : 0.0967741935483871\n",
      "8번째 교차 검증 정확도 : 0.03225806451612903\n",
      "9번째 교차 검증 정확도 : 0.12903225806451613\n",
      "최종 교차 검증 정확도 : 0.061290322580645165\n"
     ]
    }
   ],
   "source": [
    "# 3-4. 일반화작업 - 교차검증(corss validation) # 10Fold\n",
    "from sklearn.model_selection import cross_val_score, KFold\n",
    "\n",
    "cv = KFold(n_splits=10, shuffle=True, random_state=42)\n",
    "result = cross_val_score(model4, x_train_std, y_train, cv=cv)\n",
    "fin_result = np.mean(result)\n",
    "\n",
    "type(result)\n",
    "for i, _ in enumerate(result):\n",
    "    print('{}번째 교차 검증 정확도 : {}'.format(i, _))\n",
    "\n",
    "print('최종 교차 검증 정확도 : {}'.format(fin_result))"
   ]
  },
  {
   "cell_type": "code",
   "execution_count": null,
   "id": "80a84ee4",
   "metadata": {},
   "outputs": [],
   "source": []
  }
 ],
 "metadata": {
  "kernelspec": {
   "display_name": "Python 3 (ipykernel)",
   "language": "python",
   "name": "python3"
  },
  "language_info": {
   "codemirror_mode": {
    "name": "ipython",
    "version": 3
   },
   "file_extension": ".py",
   "mimetype": "text/x-python",
   "name": "python",
   "nbconvert_exporter": "python",
   "pygments_lexer": "ipython3",
   "version": "3.9.12"
  }
 },
 "nbformat": 4,
 "nbformat_minor": 5
}

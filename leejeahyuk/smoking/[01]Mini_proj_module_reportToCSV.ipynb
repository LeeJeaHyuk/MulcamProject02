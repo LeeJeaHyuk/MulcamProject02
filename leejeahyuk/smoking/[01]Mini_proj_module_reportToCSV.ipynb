{
 "cells": [
  {
   "cell_type": "markdown",
   "id": "7c6f8245",
   "metadata": {},
   "source": [
    "### Mini_proj_basic_DSCR\n",
    "1. EDA\n",
    "    1. 범주형 데이터 gender, oral, tartar 를 0과 1로 라벨링\n",
    "    2. object형 데이터 변환\n",
    "2. 훈련 \n",
    "    1. random_state = 42로 설정\n",
    "    2. model\n",
    "        - DecisionTreeClassifier\n",
    "        - RandomForestClassifier\n",
    "        - XGBoost\n",
    "        - LGBMClassifier\n",
    "        - Logistic Regression\n",
    "        - Support Vector Machine\n",
    "    3. 예측 후 confusion_matrix 확인\n",
    "    4. classification_report 확인"
   ]
  },
  {
   "cell_type": "markdown",
   "id": "4c665e39",
   "metadata": {},
   "source": [
    "### EDA"
   ]
  },
  {
   "cell_type": "markdown",
   "id": "8a0a5971",
   "metadata": {},
   "source": [
    "- gender 성별\n",
    "- age 나이\n",
    "- height 키\n",
    "- weight 몸무게\n",
    "- eyesight(left, right) 왼쪽 시력, 오른쪽 시력\n",
    "- hearing(left, right) 왼쪽 청력, 오른쪽 청력\n",
    "\n",
    "- systolic 최고혈압(대동맥 내로 보내지는 심실 수축기의 혈압)\n",
    "- relaxation 최저혈압\n",
    "- fasting blood sugar 공복혈당\n",
    "- Cholesterol 총 콜레스테롤\n",
    "- triglyceride 중성지방\n",
    "- HDL 고밀도지단백 (콜레스테롤)\n",
    "- LDL 저밀도지단백 (콜레스테롤)\n",
    "- hemoglobin 헤모글로빈 수치\n",
    "- Urine protein 단백뇨\n",
    "- serum creatinine 혈액 또는 소변에서 크레아티닌 양 측정 - *신장*관련\n",
    "\n",
    "- AST 아스파르테이트 아미노 전달효소 *간*\n",
    "- ALT 알라닌 아미노 전달효소 *간* \n",
    "    - AST, ALT의 정상 범위 ~40, 경도 40~ 200, 중등도 200~400, 중증 400~\n",
    "- Gtp 감마 Gtp간 기능 검사 *알코올 관련*\n",
    "    - 정상 ~50, 가벼운 증가 51~100, 중간정도의 증가 101~200, 고도의 증가 201~500, 초고도 증가 500~\n",
    "    - 술 마시지 않는 사람도 높게 나올 수 있다.\n",
    "    \n",
    "- oral 구강검사 여부\n",
    "- dental caries 충치 갯수\n",
    "- tartar 치석존재여부"
   ]
  },
  {
   "cell_type": "code",
   "execution_count": 1,
   "id": "2f92eacf",
   "metadata": {},
   "outputs": [],
   "source": [
    "from sklearn.model_selection import train_test_split\n",
    "from sklearn import metrics\n",
    "from sklearn.ensemble import RandomForestClassifier\n",
    "\n",
    "import seaborn as sns\n",
    "import pandas as pd\n",
    "import numpy as np\n",
    "import matplotlib.pyplot as plt"
   ]
  },
  {
   "cell_type": "code",
   "execution_count": 2,
   "id": "6e7e9384",
   "metadata": {},
   "outputs": [],
   "source": [
    "from IPython.core.interactiveshell import InteractiveShell\n",
    "InteractiveShell.ast_node_interactivity=\"all\""
   ]
  },
  {
   "cell_type": "code",
   "execution_count": 3,
   "id": "9a1ec6bb",
   "metadata": {},
   "outputs": [
    {
     "data": {
      "text/plain": [
       "(55692, 27)"
      ]
     },
     "execution_count": 3,
     "metadata": {},
     "output_type": "execute_result"
    }
   ],
   "source": [
    "df = pd.read_csv('../../ML_DATA/smoking.csv')\n",
    "df.shape  # (55693, 27)"
   ]
  },
  {
   "cell_type": "code",
   "execution_count": 4,
   "id": "c7913993",
   "metadata": {},
   "outputs": [],
   "source": [
    "# 범주형 데이터 변환\n",
    "df = df.replace({'N':0,'Y':1,'F':0,'M':1, })\n",
    "gender = {'F': 0, 'M': 1}\n",
    "oral = {'N': 0, 'T': 1}\n",
    "tartar = {'N': 0, 'T': 1}\n",
    "# df 전체 float형으로 바꾸기\n",
    "df = df.astype(float)"
   ]
  },
  {
   "cell_type": "code",
   "execution_count": null,
   "id": "fff6ad4e",
   "metadata": {},
   "outputs": [],
   "source": []
  },
  {
   "cell_type": "code",
   "execution_count": 5,
   "id": "e7fbe61a",
   "metadata": {},
   "outputs": [],
   "source": [
    "from sklearn.model_selection import train_test_split\n",
    "X_train, X_test, y_train, y_test = \\\n",
    "train_test_split(df.iloc[:,:-1],df.iloc[:,-1], test_size=0.2, random_state=42)"
   ]
  },
  {
   "cell_type": "markdown",
   "id": "8ec19625",
   "metadata": {},
   "source": [
    "### 3. 훈련01"
   ]
  },
  {
   "cell_type": "markdown",
   "id": "4c6fad67",
   "metadata": {},
   "source": [
    "### 분류성능평가지표\n",
    "- True Positive(TP) : 실제 True인 정답을 True라고 예측 (정답)\n",
    "- False Positive(FP) : 실제 False인 정답을 True라고 예측 (오답)\n",
    "- False Negative(FN) : 실제 True인 정답을 False라고 예측 (오답)\n",
    "- True Negative(TN) : 실제 False인 정답을 False라고 예측 (정답)\n",
    "\n",
    "\n",
    "1. Precision(정밀도)\n",
    "    - 정밀도란 **모델이 True라고 분류한 것 중에서 실제 True**인 것의 비율입니다. \n",
    "    - Positive 정답률, PPV(Positive Predictive Value)라고도 불립니다. \n",
    "    - 날씨 예측 모델이 맑다로 예측했는데, 실제 날씨가 맑았는지를 살펴보는 지표라고 할 수 있겠습니다.\n",
    "2. Recall(재현율)\n",
    "    - 재현율이란 **실제 True인 것 중에서 모델이 True**라고 예측한 것의 비율입니다. \n",
    "    - 통계학에서는 sensitivity으로, 그리고 다른 분야에서는 hit rate라는 용어로도 사용합니다\n",
    "    - 실제 날씨가 맑은 날 중에서 모델이 맑다고 예측한 비율을 나타낸 지표\n",
    "3. Accuracy(정확도)\n",
    "    - False를 False라고 예측한 경우\n",
    "    - 정확도는 가장 직관적으로 모델의 성능을 나타낼 수 있는 평가 지표\n",
    "    - domain의 편중(bias)\n",
    "        - 만약 우리가 예측하고자 하는 한달 동안이 특정 기후에 부합하여 비오는 날이 흔치 않다고 생각해보죠. 이 경우에는 해당 data의 domain이 불균형하게되므로 맑은 것을 예측하는 성능은 높지만, 비가 오는 것을 예측하는 성능은 매우 낮을 수 밖에 없습니다. 따라서 이를 보완할 지표가 필요합니다.\n",
    "4. F1 score\n",
    "    - F1 score는 Precision과 Recall의 조화평균\n",
    "    - F1 score는 **데이터 label이 불균형 구조**일 때, 모델의 성능을 정확하게 평가할 수 있으며, 성능을 하나의 숫자로 표현\n",
    "    - 산술평균을 이용하는 것보다, 큰 비중이 끼치는 bias가 줄어든다\n",
    "    \n",
    "\n",
    "- $Precision =\\frac{TP}{TP+FP}=\\frac{T를 T로 예측}{T를 T로 예측+F를 T로 예측} $\n",
    "- $Recall =\\frac{TP}{TP+FN}=\\frac{T를 T로 예측}{T를 T로 예측+T를 F로 예측} $\n",
    "- $Accuracy =\\frac{TP+TN}{TP+TN+FP+FN}=\\frac{T를 T로 예측 + F를 F로 예측}{모든 예측} $\n",
    "- $F1 score =2*\\frac{1}{\\frac{1}{Precision}+\\frac{1}{Recall}}=2*\\frac{Precision*Recall}{Precision+Recall}$\n",
    " \n",
    "reference[분류성능평가지표 - Precision(정밀도), Recall(재현율) and Accuracy(정확도)](https://sumniya.tistory.com/26)"
   ]
  },
  {
   "cell_type": "markdown",
   "id": "b602f754",
   "metadata": {},
   "source": [
    "#### DecisionTreeClassifier"
   ]
  },
  {
   "cell_type": "code",
   "execution_count": 63,
   "id": "15bec77b",
   "metadata": {},
   "outputs": [
    {
     "data": {
      "text/html": [
       "<style>#sk-container-id-6 {color: black;background-color: white;}#sk-container-id-6 pre{padding: 0;}#sk-container-id-6 div.sk-toggleable {background-color: white;}#sk-container-id-6 label.sk-toggleable__label {cursor: pointer;display: block;width: 100%;margin-bottom: 0;padding: 0.3em;box-sizing: border-box;text-align: center;}#sk-container-id-6 label.sk-toggleable__label-arrow:before {content: \"▸\";float: left;margin-right: 0.25em;color: #696969;}#sk-container-id-6 label.sk-toggleable__label-arrow:hover:before {color: black;}#sk-container-id-6 div.sk-estimator:hover label.sk-toggleable__label-arrow:before {color: black;}#sk-container-id-6 div.sk-toggleable__content {max-height: 0;max-width: 0;overflow: hidden;text-align: left;background-color: #f0f8ff;}#sk-container-id-6 div.sk-toggleable__content pre {margin: 0.2em;color: black;border-radius: 0.25em;background-color: #f0f8ff;}#sk-container-id-6 input.sk-toggleable__control:checked~div.sk-toggleable__content {max-height: 200px;max-width: 100%;overflow: auto;}#sk-container-id-6 input.sk-toggleable__control:checked~label.sk-toggleable__label-arrow:before {content: \"▾\";}#sk-container-id-6 div.sk-estimator input.sk-toggleable__control:checked~label.sk-toggleable__label {background-color: #d4ebff;}#sk-container-id-6 div.sk-label input.sk-toggleable__control:checked~label.sk-toggleable__label {background-color: #d4ebff;}#sk-container-id-6 input.sk-hidden--visually {border: 0;clip: rect(1px 1px 1px 1px);clip: rect(1px, 1px, 1px, 1px);height: 1px;margin: -1px;overflow: hidden;padding: 0;position: absolute;width: 1px;}#sk-container-id-6 div.sk-estimator {font-family: monospace;background-color: #f0f8ff;border: 1px dotted black;border-radius: 0.25em;box-sizing: border-box;margin-bottom: 0.5em;}#sk-container-id-6 div.sk-estimator:hover {background-color: #d4ebff;}#sk-container-id-6 div.sk-parallel-item::after {content: \"\";width: 100%;border-bottom: 1px solid gray;flex-grow: 1;}#sk-container-id-6 div.sk-label:hover label.sk-toggleable__label {background-color: #d4ebff;}#sk-container-id-6 div.sk-serial::before {content: \"\";position: absolute;border-left: 1px solid gray;box-sizing: border-box;top: 0;bottom: 0;left: 50%;z-index: 0;}#sk-container-id-6 div.sk-serial {display: flex;flex-direction: column;align-items: center;background-color: white;padding-right: 0.2em;padding-left: 0.2em;position: relative;}#sk-container-id-6 div.sk-item {position: relative;z-index: 1;}#sk-container-id-6 div.sk-parallel {display: flex;align-items: stretch;justify-content: center;background-color: white;position: relative;}#sk-container-id-6 div.sk-item::before, #sk-container-id-6 div.sk-parallel-item::before {content: \"\";position: absolute;border-left: 1px solid gray;box-sizing: border-box;top: 0;bottom: 0;left: 50%;z-index: -1;}#sk-container-id-6 div.sk-parallel-item {display: flex;flex-direction: column;z-index: 1;position: relative;background-color: white;}#sk-container-id-6 div.sk-parallel-item:first-child::after {align-self: flex-end;width: 50%;}#sk-container-id-6 div.sk-parallel-item:last-child::after {align-self: flex-start;width: 50%;}#sk-container-id-6 div.sk-parallel-item:only-child::after {width: 0;}#sk-container-id-6 div.sk-dashed-wrapped {border: 1px dashed gray;margin: 0 0.4em 0.5em 0.4em;box-sizing: border-box;padding-bottom: 0.4em;background-color: white;}#sk-container-id-6 div.sk-label label {font-family: monospace;font-weight: bold;display: inline-block;line-height: 1.2em;}#sk-container-id-6 div.sk-label-container {text-align: center;}#sk-container-id-6 div.sk-container {/* jupyter's `normalize.less` sets `[hidden] { display: none; }` but bootstrap.min.css set `[hidden] { display: none !important; }` so we also need the `!important` here to be able to override the default hidden behavior on the sphinx rendered scikit-learn.org. See: https://github.com/scikit-learn/scikit-learn/issues/21755 */display: inline-block !important;position: relative;}#sk-container-id-6 div.sk-text-repr-fallback {display: none;}</style><div id=\"sk-container-id-6\" class=\"sk-top-container\"><div class=\"sk-text-repr-fallback\"><pre>DecisionTreeClassifier()</pre><b>In a Jupyter environment, please rerun this cell to show the HTML representation or trust the notebook. <br />On GitHub, the HTML representation is unable to render, please try loading this page with nbviewer.org.</b></div><div class=\"sk-container\" hidden><div class=\"sk-item\"><div class=\"sk-estimator sk-toggleable\"><input class=\"sk-toggleable__control sk-hidden--visually\" id=\"sk-estimator-id-6\" type=\"checkbox\" checked><label for=\"sk-estimator-id-6\" class=\"sk-toggleable__label sk-toggleable__label-arrow\">DecisionTreeClassifier</label><div class=\"sk-toggleable__content\"><pre>DecisionTreeClassifier()</pre></div></div></div></div></div>"
      ],
      "text/plain": [
       "DecisionTreeClassifier()"
      ]
     },
     "execution_count": 63,
     "metadata": {},
     "output_type": "execute_result"
    },
    {
     "data": {
      "text/plain": [
       "0.766765418798815"
      ]
     },
     "execution_count": 63,
     "metadata": {},
     "output_type": "execute_result"
    },
    {
     "name": "stdout",
     "output_type": "stream",
     "text": [
      "confusion_matrix : \n",
      " [[5726 1301]\n",
      " [1297 2815]]\n"
     ]
    },
    {
     "data": {
      "text/plain": [
       "<AxesSubplot:title={'center':'Confusion Matrix'}, xlabel='Predicted label', ylabel='True label'>"
      ]
     },
     "execution_count": 63,
     "metadata": {},
     "output_type": "execute_result"
    },
    {
     "data": {
      "image/png": "[encoded data removed]",
      "text/plain": [
       "<Figure size 576x432 with 2 Axes>"
      ]
     },
     "metadata": {
      "needs_background": "light"
     },
     "output_type": "display_data"
    },
    {
     "name": "stdout",
     "output_type": "stream",
     "text": [
      "리포트:\n",
      " {'0.0': {'precision': 0.8153210878541933, 'recall': 0.8148569802191546, 'f1-score': 0.8150889679715303, 'support': 7027}, '1.0': {'precision': 0.6839164237123421, 'recall': 0.6845817120622568, 'f1-score': 0.6842489061740399, 'support': 4112}, 'accuracy': 0.766765418798815, 'macro avg': {'precision': 0.7496187557832676, 'recall': 0.7497193461407057, 'f1-score': 0.7496689370727851, 'support': 11139}, 'weighted avg': {'precision': 0.7668126060379359, 'recall': 0.766765418798815, 'f1-score': 0.7667889110444022, 'support': 11139}}\n"
     ]
    }
   ],
   "source": [
    "from sklearn.tree import DecisionTreeClassifier\n",
    "from sklearn.metrics import accuracy_score\n",
    "\n",
    "model = DecisionTreeClassifier()\n",
    "model.fit(X_train,y_train)\n",
    "\n",
    "pred = model.predict(X_test)\n",
    "acc = accuracy_score(y_test,pred)\n",
    "acc\n",
    "\n",
    "from sklearn.metrics import confusion_matrix\n",
    "import scikitplot as skplt\n",
    "\n",
    "pred = model.predict(X_test)\n",
    "# 실제 , 예측\n",
    "cm = confusion_matrix(y_test, pred)\n",
    "print('confusion_matrix : \\n', cm)\n",
    "\n",
    "skplt.metrics.plot_confusion_matrix(y_test,pred,figsize=(8,6))\n",
    "plt.show()\n",
    "\n",
    "cl_report = metrics.classification_report(y_test,pred,output_dict=True)\n",
    "print('리포트:\\n',cl_report)"
   ]
  },
  {
   "cell_type": "code",
   "execution_count": 85,
   "id": "95129c67",
   "metadata": {},
   "outputs": [
    {
     "data": {
      "text/html": [
       "<div>\n",
       "<style scoped>\n",
       "    .dataframe tbody tr th:only-of-type {\n",
       "        vertical-align: middle;\n",
       "    }\n",
       "\n",
       "    .dataframe tbody tr th {\n",
       "        vertical-align: top;\n",
       "    }\n",
       "\n",
       "    .dataframe thead th {\n",
       "        text-align: right;\n",
       "    }\n",
       "</style>\n",
       "<table border=\"1\" class=\"dataframe\">\n",
       "  <thead>\n",
       "    <tr style=\"text-align: right;\">\n",
       "      <th></th>\n",
       "      <th>model_name</th>\n",
       "      <th>scaler</th>\n",
       "      <th>report</th>\n",
       "      <th>precision</th>\n",
       "      <th>recall</th>\n",
       "      <th>f1-score</th>\n",
       "      <th>support</th>\n",
       "    </tr>\n",
       "  </thead>\n",
       "  <tbody>\n",
       "    <tr>\n",
       "      <th>0</th>\n",
       "      <td>DecisionTreeClassifier</td>\n",
       "      <td>MinMaxScaler</td>\n",
       "      <td>0.0</td>\n",
       "      <td>0.815321</td>\n",
       "      <td>0.814857</td>\n",
       "      <td>0.815089</td>\n",
       "      <td>7027.000000</td>\n",
       "    </tr>\n",
       "    <tr>\n",
       "      <th>1</th>\n",
       "      <td>DecisionTreeClassifier</td>\n",
       "      <td>MinMaxScaler</td>\n",
       "      <td>1.0</td>\n",
       "      <td>0.683916</td>\n",
       "      <td>0.684582</td>\n",
       "      <td>0.684249</td>\n",
       "      <td>4112.000000</td>\n",
       "    </tr>\n",
       "    <tr>\n",
       "      <th>2</th>\n",
       "      <td>DecisionTreeClassifier</td>\n",
       "      <td>MinMaxScaler</td>\n",
       "      <td>accuracy</td>\n",
       "      <td>0.766765</td>\n",
       "      <td>0.766765</td>\n",
       "      <td>0.766765</td>\n",
       "      <td>0.766765</td>\n",
       "    </tr>\n",
       "    <tr>\n",
       "      <th>3</th>\n",
       "      <td>DecisionTreeClassifier</td>\n",
       "      <td>MinMaxScaler</td>\n",
       "      <td>macro avg</td>\n",
       "      <td>0.749619</td>\n",
       "      <td>0.749719</td>\n",
       "      <td>0.749669</td>\n",
       "      <td>11139.000000</td>\n",
       "    </tr>\n",
       "    <tr>\n",
       "      <th>4</th>\n",
       "      <td>DecisionTreeClassifier</td>\n",
       "      <td>MinMaxScaler</td>\n",
       "      <td>weighted avg</td>\n",
       "      <td>0.766813</td>\n",
       "      <td>0.766765</td>\n",
       "      <td>0.766789</td>\n",
       "      <td>11139.000000</td>\n",
       "    </tr>\n",
       "  </tbody>\n",
       "</table>\n",
       "</div>"
      ],
      "text/plain": [
       "               model_name        scaler        report  precision    recall  \\\n",
       "0  DecisionTreeClassifier  MinMaxScaler           0.0   0.815321  0.814857   \n",
       "1  DecisionTreeClassifier  MinMaxScaler           1.0   0.683916  0.684582   \n",
       "2  DecisionTreeClassifier  MinMaxScaler      accuracy   0.766765  0.766765   \n",
       "3  DecisionTreeClassifier  MinMaxScaler     macro avg   0.749619  0.749719   \n",
       "4  DecisionTreeClassifier  MinMaxScaler  weighted avg   0.766813  0.766765   \n",
       "\n",
       "   f1-score       support  \n",
       "0  0.815089   7027.000000  \n",
       "1  0.684249   4112.000000  \n",
       "2  0.766765      0.766765  \n",
       "3  0.749669  11139.000000  \n",
       "4  0.766789  11139.000000  "
      ]
     },
     "execution_count": 85,
     "metadata": {},
     "output_type": "execute_result"
    }
   ],
   "source": [
    "# classification_report의 output_dict=True 이면 데이터프레임으로 바꿀 수 있다\n",
    "\n",
    "def test(data_name, scaler, model_name, report):\n",
    "\n",
    "    df = pd.DataFrame(report).transpose()\n",
    "\n",
    "    name_list = []\n",
    "    scaler_list = []\n",
    "    for i in range(5):\n",
    "        name_list.append(model_name)\n",
    "        scaler_list.append(scaler)\n",
    "        \n",
    "    df = df.reset_index().rename(columns={\"index\": \"report\"})\n",
    "    df = pd.concat([pd.Series(name_list),pd.Series(scaler_list),df], axis=1).rename(columns={0: \"model_name\",1:\"scaler\"})\n",
    "    return df\n",
    "\n",
    "df = test(data_name='a', scaler='MinMaxScaler', model_name='DecisionTreeClassifier', report=cl_report).head()\n",
    "df"
   ]
  },
  {
   "cell_type": "code",
   "execution_count": 93,
   "id": "f13dfdba",
   "metadata": {},
   "outputs": [],
   "source": [
    "def reportTocsv(data_name, scaler, model_name, report):\n",
    "    now = datetime.now()\n",
    "    # 폴더가 없으면 생성 있으면 통과\n",
    "    try:\n",
    "        if not os.path.exists('modeldata'):\n",
    "            os.makedirs('modeldata')\n",
    "    except OSError:\n",
    "        print ('Error: Creating directory. modeldata')\n",
    "    \n",
    "    # 파일 경로\n",
    "    file_path = './modeldata/' + data_name + 'report.csv'\n",
    "    # 시간 불러오기\n",
    "    date =  now.strftime('%Y-%m-%d %H:%M:%S')\n",
    "    \n",
    "    #리스트 파일 만들기\n",
    "    date_list = []    \n",
    "    name_list = []\n",
    "    scaler_list = []\n",
    "    for i in range(5):\n",
    "        name_list.append(model_name)\n",
    "        scaler_list.append(scaler)\n",
    "        date_list.append(date)\n",
    "        df = pd.DataFrame(report).transpose()\n",
    "        df = df.reset_index().rename(columns={\"index\": \"report\"})    \n",
    "    \n",
    "    # 파일이 없으면 생성 있으면 불러오기\n",
    "    if os.path.isfile('./modeldata/' + data_name + 'report.csv'): # 파일 존재\n",
    "        df_exist = pd.read_csv(file_path)\n",
    "        df_new = pd.concat([pd.Series(date_list),pd.Series(name_list),pd.Series(scaler_list),df], axis=1).rename(columns={0:\"datetime\", 1:\"model_name\", 2:\"scaler\"})\n",
    "        df = pd.concat([df_exist,df_new],axis=0)\n",
    "        df.to_csv(file_path, index=False)\n",
    "        \n",
    "    else: # 파일 존재하지 않음       \n",
    "        df = pd.concat([pd.Series(date_list),pd.Series(name_list),pd.Series(scaler_list),df], axis=1).rename(columns={0:\"datetime\", 1:\"model_name\", 2:\"scaler\"})\n",
    "        df.to_csv(file_path, index=False)\n",
    "        \n",
    "test(data_name='obesity', scaler='MinMaxScaler', model_name='RandomForestClassifier', report=cl_report)"
   ]
  },
  {
   "cell_type": "code",
   "execution_count": 92,
   "id": "af9c0075",
   "metadata": {},
   "outputs": [],
   "source": [
    "import pandas as pd\n",
    "from datetime import datetime\n",
    "import os\n",
    "\n",
    "            \n",
    "def paramsTocsv(data_name, scaler, model_name, best_params, best_score):\n",
    "    now = datetime.now()\n",
    "    # 폴더가 없으면 생성 있으면 통과\n",
    "    try:\n",
    "        if not os.path.exists('modeldata'):\n",
    "            os.makedirs('modeldata')\n",
    "    except OSError:\n",
    "        print ('Error: Creating directory. modeldata')\n",
    "    \n",
    "    # 파일 경로\n",
    "    file_path = './modeldata/' + data_name + '.csv'\n",
    "    # 시간 불러오기\n",
    "    date =  now.strftime('%Y-%m-%d %H:%M:%S')\n",
    "    \n",
    "    # 파일이 없으면 생성 있으면 불러오기\n",
    "    if os.path.isfile('./modeldata/' + data_name + '.csv'): # 파일 존재\n",
    "        df_exist = pd.read_csv(file_path)\n",
    "        df_nonparam = pd.DataFrame([{'date':date,'model_name':model_name,'scaler':scaler,'best_score':best_score}]) #시간 + score 데이터\n",
    "        new_param=pd.DataFrame([best_params])\n",
    "        \n",
    "        df_new = pd.concat([df_nonparam,new_param],axis=1)\n",
    "        df = pd.concat([df_exist,df_new],axis=0)\n",
    "        df.to_csv(file_path, index=False)\n",
    "        \n",
    "    else: # 파일 존재하지 않음\n",
    "        df_nonparam = pd.DataFrame([{'date':date,'model_name':model_name,'scaler':scaler,'best_score':best_score}]) #시간 + score 데이터\n",
    "        df_param=pd.DataFrame([best_params])\n",
    "        df = pd.concat([df_nonparam,df_param],axis=1)\n",
    "        df.to_csv(file_path, index=False)\n"
   ]
  },
  {
   "cell_type": "code",
   "execution_count": null,
   "id": "a6d826d6",
   "metadata": {},
   "outputs": [],
   "source": [
    "def reportTocsv(model_name, ):"
   ]
  }
 ],
 "metadata": {
  "kernelspec": {
   "display_name": "Python 3 (ipykernel)",
   "language": "python",
   "name": "python3"
  },
  "language_info": {
   "codemirror_mode": {
    "name": "ipython",
    "version": 3
   },
   "file_extension": ".py",
   "mimetype": "text/x-python",
   "name": "python",
   "nbconvert_exporter": "python",
   "pygments_lexer": "ipython3",
   "version": "3.10.8"
  },
  "vscode": {
   "interpreter": {
    "hash": "e0acaf148705ed9ed86cc5cad12259d7985e30670e5686e5f55604a9b3b84a55"
   }
  }
 },
 "nbformat": 4,
 "nbformat_minor": 5
}

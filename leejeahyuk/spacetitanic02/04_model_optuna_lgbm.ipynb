{
 "cells": [
  {
   "attachments": {},
   "cell_type": "markdown",
   "metadata": {},
   "source": [
    "참고\n",
    "- [kaggle 5등](https://www.kaggle.com/code/viktortaran/space-titanic/notebook##5.Modeling)"
   ]
  },
  {
   "cell_type": "code",
   "execution_count": 1,
   "metadata": {
    "id": "s5oX7oayKvPP"
   },
   "outputs": [],
   "source": [
    "from sklearn.model_selection import train_test_split, KFold, GridSearchCV\n",
    "\n",
    "from sklearn.ensemble import RandomForestClassifier\n",
    "from sklearn.ensemble import ExtraTreesClassifier\n",
    "from sklearn.neighbors import KNeighborsClassifier\n",
    "from sklearn.linear_model import LogisticRegression\n",
    "from sklearn.ensemble import GradientBoostingClassifier\n",
    "from sklearn.svm import SVC\n",
    "from sklearn.metrics import accuracy_score\n",
    "from lightgbm import LGBMClassifier\n",
    "from xgboost import XGBClassifier\n",
    "import catboost\n",
    "from catboost import CatBoostClassifier\n",
    "\n",
    "from sklearn.metrics import precision_score,recall_score\n",
    "from sklearn.metrics import f1_score"
   ]
  },
  {
   "cell_type": "code",
   "execution_count": 2,
   "metadata": {
    "id": "NTPNi19gLzeP"
   },
   "outputs": [],
   "source": [
    "import pandas as pd\n",
    "\n",
    "train_update = pd.read_csv('./kaggle/input/spaceship-titanic/train_update.csv')\n",
    "test_update = pd.read_csv('./kaggle/input/spaceship-titanic/test_update.csv')\n",
    "\n",
    "# train_update = pd.read_csv('./kaggle/input/spaceship-titanic/train_TotalSpend_update.csv')\n",
    "# test_update = pd.read_csv('./kaggle/input/spaceship-titanic/test_TotalSpend_update.csv')"
   ]
  },
  {
   "cell_type": "code",
   "execution_count": 3,
   "metadata": {},
   "outputs": [
    {
     "data": {
      "text/plain": [
       "Index(['PassengerId', 'HomePlanet', 'CryoSleep', 'Cabin_A', 'Cabin_B',\n",
       "       'Cabin_C', 'Cabin_D', 'Cabin_E', 'Cabin_F', 'Cabin_G', 'Cabin_T',\n",
       "       'Destination', 'Age', 'VIP', 'RoomService', 'FoodCourt', 'ShoppingMall',\n",
       "       'Spa', 'VRDeck', 'TotalSpend', 'Name', 'Transported', 'testset'],\n",
       "      dtype='object')"
      ]
     },
     "execution_count": 3,
     "metadata": {},
     "output_type": "execute_result"
    }
   ],
   "source": [
    "train_update.columns"
   ]
  },
  {
   "cell_type": "code",
   "execution_count": 6,
   "metadata": {
    "colab": {
     "base_uri": "https://localhost:8080/"
    },
    "id": "kLHW_SbbKxPf",
    "outputId": "7daf0bc6-5959-4cd3-e021-0de97b2336cb"
   },
   "outputs": [],
   "source": [
    "features = train_update.drop(['PassengerId','Transported','testset','Name'],axis=1)\n",
    "labels = train_update['Transported']\n",
    "X_train, X_test, y_train, y_test=train_test_split(features,labels,test_size=0.3,random_state=42)"
   ]
  },
  {
   "cell_type": "code",
   "execution_count": 7,
   "metadata": {},
   "outputs": [],
   "source": [
    "# models = [XGBClassifier(),CatBoostClassifier()]\n",
    "# scores = dict()\n",
    "\n",
    "# for m in models:\n",
    "#     m.fit(X_train, y_train)\n",
    "#     y_pred = m.predict(X_test)\n",
    "\n",
    "#     print(f'model: {str(m)}')\n",
    "#     print(f'Accuracy_score: {accuracy_score(y_test,y_pred)}')\n",
    "#     print(f'Precission_score: {precision_score(y_test,y_pred)}')\n",
    "#     print(f'Recall_score: {recall_score(y_test,y_pred)}')\n",
    "#     print(f'F1-score: {f1_score(y_test,y_pred)}')\n",
    "#     print('-'*30, '\\n')"
   ]
  },
  {
   "cell_type": "code",
   "execution_count": 8,
   "metadata": {},
   "outputs": [],
   "source": [
    "import numpy as np\n",
    "import optuna\n",
    "from optuna import Trial, visualization\n",
    "from optuna.samplers import TPESampler\n",
    "from sklearn.model_selection import cross_val_score\n",
    "\n",
    "def objective(trial):\n",
    "    data, target = features,labels\n",
    "    train_x, valid_x, train_y, valid_y = train_test_split(features,labels, test_size=0.3)\n",
    "\n",
    "\n",
    "    param = {\n",
    "        'objective': 'binary',\n",
    "        'metric': 'binary_logloss',\n",
    "        'lambda_l1': trial.suggest_float('lambda_l1', 1e-8, 10.0),\n",
    "        'lambda_l2': trial.suggest_float('lambda_l2', 1e-8, 10.0),\n",
    "        'learning_rate': trial.suggest_float('learning_rate', 0.0001,0.1),\n",
    "        'num_leaves': trial.suggest_int('num_leaves', 2, 512),\n",
    "        'feature_fraction': trial.suggest_float('feature_fraction', 0.4, 1.0),\n",
    "        'bagging_fraction': trial.suggest_float('bagging_fraction', 0.4, 1.0),\n",
    "        'bagging_freq': trial.suggest_int('bagging_freq', 1, 7),\n",
    "        'min_child_samples': trial.suggest_int('min_child_samples', 5, 100),\n",
    "        'n_estimators' : trial.suggest_int('n_estimators', 100, 20000),\n",
    "        'subsample':None,\n",
    "        'subsample_freq':None,\n",
    "        'reg_alpha':None,\n",
    "        'colsample_bytree':None,\n",
    "        'reg_lambda':None,\n",
    "    }\n",
    "\n",
    "\n",
    "    lgbm = LGBMClassifier(**param)\n",
    "\n",
    "    lgbm.fit(train_x, train_y, eval_set=[(valid_x, valid_y)], verbose=0, early_stopping_rounds=100)\n",
    "\n",
    "    preds = lgbm.predict(valid_x)\n",
    "    pred_labels = np.rint(preds)\n",
    "    accuracy = accuracy_score(valid_y, pred_labels)\n",
    "    return accuracy"
   ]
  },
  {
   "attachments": {},
   "cell_type": "markdown",
   "metadata": {},
   "source": [
    "### caution\n",
    "- max depth를 12 이상으로 주지 않는 것이 좋은 이유\n",
    "The default tree growing strategy in catboost is symmetric trees. If you set depth to 16, then every tree will have 2^16 leaves, which is probably not what you want. It is recommended to use depth up to 10 or 12.\n",
    "\n",
    "    - [catboost pararmeter training](https://catboost.ai/en/docs/concepts/parameter-tuning)"
   ]
  },
  {
   "attachments": {},
   "cell_type": "markdown",
   "metadata": {},
   "source": [
    "###\n",
    "1. 캐글 코드 참고\n",
    "    - https://www.kaggle.com/code/georgyzubkov/spaceship-eda-catboost-with-optuna\n",
    "2. 설명 블로그 참고\n",
    "    - https://ssoonidev.tistory.com/107\n",
    "3. catboost 주요 개념\n",
    "    - https://dailyheumsi.tistory.com/136"
   ]
  },
  {
   "cell_type": "code",
   "execution_count": 9,
   "metadata": {},
   "outputs": [
    {
     "name": "stderr",
     "output_type": "stream",
     "text": [
      "\u001b[32m[I 2022-12-10 22:35:20,593]\u001b[0m A new study created in memory with name: no-name-dbab6cdc-6ac5-4417-9425-4142d8d4b39d\u001b[0m\n",
      "C:\\Users\\deepBlue\\AppData\\Local\\Packages\\PythonSoftwareFoundation.Python.3.10_qbz5n2kfra8p0\\LocalCache\\local-packages\\Python310\\site-packages\\lightgbm\\sklearn.py:726: UserWarning: 'early_stopping_rounds' argument is deprecated and will be removed in a future release of LightGBM. Pass 'early_stopping()' callback via 'callbacks' argument instead.\n",
      "  _log_warning(\"'early_stopping_rounds' argument is deprecated and will be removed in a future release of LightGBM. \"\n",
      "C:\\Users\\deepBlue\\AppData\\Local\\Packages\\PythonSoftwareFoundation.Python.3.10_qbz5n2kfra8p0\\LocalCache\\local-packages\\Python310\\site-packages\\lightgbm\\sklearn.py:736: UserWarning: 'verbose' argument is deprecated and will be removed in a future release of LightGBM. Pass 'log_evaluation()' callback via 'callbacks' argument instead.\n",
      "  _log_warning(\"'verbose' argument is deprecated and will be removed in a future release of LightGBM. \"\n",
      "\u001b[32m[I 2022-12-10 22:35:21,267]\u001b[0m Trial 0 finished with value: 0.7963957055214724 and parameters: {'lambda_l1': 6.576761332533077, 'lambda_l2': 0.2080978037882557, 'learning_rate': 0.017013962894329923, 'num_leaves': 449, 'feature_fraction': 0.4500871929702745, 'bagging_fraction': 0.6076474245854047, 'bagging_freq': 1, 'min_child_samples': 68, 'n_estimators': 10926, 'early_stopping_round': 200}. Best is trial 0 with value: 0.7963957055214724.\u001b[0m\n",
      "C:\\Users\\deepBlue\\AppData\\Local\\Packages\\PythonSoftwareFoundation.Python.3.10_qbz5n2kfra8p0\\LocalCache\\local-packages\\Python310\\site-packages\\lightgbm\\sklearn.py:726: UserWarning: 'early_stopping_rounds' argument is deprecated and will be removed in a future release of LightGBM. Pass 'early_stopping()' callback via 'callbacks' argument instead.\n",
      "  _log_warning(\"'early_stopping_rounds' argument is deprecated and will be removed in a future release of LightGBM. \"\n",
      "C:\\Users\\deepBlue\\AppData\\Local\\Packages\\PythonSoftwareFoundation.Python.3.10_qbz5n2kfra8p0\\LocalCache\\local-packages\\Python310\\site-packages\\lightgbm\\sklearn.py:736: UserWarning: 'verbose' argument is deprecated and will be removed in a future release of LightGBM. Pass 'log_evaluation()' callback via 'callbacks' argument instead.\n",
      "  _log_warning(\"'verbose' argument is deprecated and will be removed in a future release of LightGBM. \"\n",
      "\u001b[32m[I 2022-12-10 22:35:21,617]\u001b[0m Trial 1 finished with value: 0.7998466257668712 and parameters: {'lambda_l1': 4.521460295643046, 'lambda_l2': 6.549796557468447, 'learning_rate': 0.06645332546131172, 'num_leaves': 45, 'feature_fraction': 0.6860704962039528, 'bagging_fraction': 0.7999360029684655, 'bagging_freq': 1, 'min_child_samples': 62, 'n_estimators': 5765, 'early_stopping_round': 200}. Best is trial 1 with value: 0.7998466257668712.\u001b[0m\n",
      "C:\\Users\\deepBlue\\AppData\\Local\\Packages\\PythonSoftwareFoundation.Python.3.10_qbz5n2kfra8p0\\LocalCache\\local-packages\\Python310\\site-packages\\lightgbm\\sklearn.py:726: UserWarning: 'early_stopping_rounds' argument is deprecated and will be removed in a future release of LightGBM. Pass 'early_stopping()' callback via 'callbacks' argument instead.\n",
      "  _log_warning(\"'early_stopping_rounds' argument is deprecated and will be removed in a future release of LightGBM. \"\n",
      "C:\\Users\\deepBlue\\AppData\\Local\\Packages\\PythonSoftwareFoundation.Python.3.10_qbz5n2kfra8p0\\LocalCache\\local-packages\\Python310\\site-packages\\lightgbm\\sklearn.py:736: UserWarning: 'verbose' argument is deprecated and will be removed in a future release of LightGBM. Pass 'log_evaluation()' callback via 'callbacks' argument instead.\n",
      "  _log_warning(\"'verbose' argument is deprecated and will be removed in a future release of LightGBM. \"\n",
      "\u001b[32m[I 2022-12-10 22:35:23,860]\u001b[0m Trial 2 finished with value: 0.7940950920245399 and parameters: {'lambda_l1': 9.40993353735787, 'lambda_l2': 7.572976744128105, 'learning_rate': 0.006948356912916525, 'num_leaves': 55, 'feature_fraction': 0.9475080135659172, 'bagging_fraction': 0.9456800523502797, 'bagging_freq': 2, 'min_child_samples': 78, 'n_estimators': 6998, 'early_stopping_round': 200}. Best is trial 1 with value: 0.7998466257668712.\u001b[0m\n",
      "C:\\Users\\deepBlue\\AppData\\Local\\Packages\\PythonSoftwareFoundation.Python.3.10_qbz5n2kfra8p0\\LocalCache\\local-packages\\Python310\\site-packages\\lightgbm\\sklearn.py:726: UserWarning: 'early_stopping_rounds' argument is deprecated and will be removed in a future release of LightGBM. Pass 'early_stopping()' callback via 'callbacks' argument instead.\n",
      "  _log_warning(\"'early_stopping_rounds' argument is deprecated and will be removed in a future release of LightGBM. \"\n",
      "C:\\Users\\deepBlue\\AppData\\Local\\Packages\\PythonSoftwareFoundation.Python.3.10_qbz5n2kfra8p0\\LocalCache\\local-packages\\Python310\\site-packages\\lightgbm\\sklearn.py:736: UserWarning: 'verbose' argument is deprecated and will be removed in a future release of LightGBM. Pass 'log_evaluation()' callback via 'callbacks' argument instead.\n",
      "  _log_warning(\"'verbose' argument is deprecated and will be removed in a future release of LightGBM. \"\n",
      "\u001b[32m[I 2022-12-10 22:35:24,387]\u001b[0m Trial 3 finished with value: 0.7894938650306749 and parameters: {'lambda_l1': 8.610499120033746, 'lambda_l2': 2.7571585080391596, 'learning_rate': 0.0698703579424167, 'num_leaves': 95, 'feature_fraction': 0.6079324806602551, 'bagging_fraction': 0.8800528471378797, 'bagging_freq': 1, 'min_child_samples': 86, 'n_estimators': 16237, 'early_stopping_round': 200}. Best is trial 1 with value: 0.7998466257668712.\u001b[0m\n",
      "C:\\Users\\deepBlue\\AppData\\Local\\Packages\\PythonSoftwareFoundation.Python.3.10_qbz5n2kfra8p0\\LocalCache\\local-packages\\Python310\\site-packages\\lightgbm\\sklearn.py:726: UserWarning: 'early_stopping_rounds' argument is deprecated and will be removed in a future release of LightGBM. Pass 'early_stopping()' callback via 'callbacks' argument instead.\n",
      "  _log_warning(\"'early_stopping_rounds' argument is deprecated and will be removed in a future release of LightGBM. \"\n",
      "C:\\Users\\deepBlue\\AppData\\Local\\Packages\\PythonSoftwareFoundation.Python.3.10_qbz5n2kfra8p0\\LocalCache\\local-packages\\Python310\\site-packages\\lightgbm\\sklearn.py:736: UserWarning: 'verbose' argument is deprecated and will be removed in a future release of LightGBM. Pass 'log_evaluation()' callback via 'callbacks' argument instead.\n",
      "  _log_warning(\"'verbose' argument is deprecated and will be removed in a future release of LightGBM. \"\n",
      "\u001b[32m[I 2022-12-10 22:35:24,608]\u001b[0m Trial 4 finished with value: 0.7875766871165644 and parameters: {'lambda_l1': 0.3959088790610157, 'lambda_l2': 9.43908698997273, 'learning_rate': 0.08402828617049925, 'num_leaves': 77, 'feature_fraction': 0.5365651465333658, 'bagging_fraction': 0.5716332816915254, 'bagging_freq': 1, 'min_child_samples': 30, 'n_estimators': 1813, 'early_stopping_round': 200}. Best is trial 1 with value: 0.7998466257668712.\u001b[0m\n",
      "C:\\Users\\deepBlue\\AppData\\Local\\Packages\\PythonSoftwareFoundation.Python.3.10_qbz5n2kfra8p0\\LocalCache\\local-packages\\Python310\\site-packages\\lightgbm\\sklearn.py:726: UserWarning: 'early_stopping_rounds' argument is deprecated and will be removed in a future release of LightGBM. Pass 'early_stopping()' callback via 'callbacks' argument instead.\n",
      "  _log_warning(\"'early_stopping_rounds' argument is deprecated and will be removed in a future release of LightGBM. \"\n",
      "C:\\Users\\deepBlue\\AppData\\Local\\Packages\\PythonSoftwareFoundation.Python.3.10_qbz5n2kfra8p0\\LocalCache\\local-packages\\Python310\\site-packages\\lightgbm\\sklearn.py:736: UserWarning: 'verbose' argument is deprecated and will be removed in a future release of LightGBM. Pass 'log_evaluation()' callback via 'callbacks' argument instead.\n",
      "  _log_warning(\"'verbose' argument is deprecated and will be removed in a future release of LightGBM. \"\n",
      "\u001b[32m[I 2022-12-10 22:35:24,819]\u001b[0m Trial 5 finished with value: 0.7983128834355828 and parameters: {'lambda_l1': 3.809254678585812, 'lambda_l2': 1.8344887273837314, 'learning_rate': 0.06396511346202094, 'num_leaves': 186, 'feature_fraction': 0.8434141931410297, 'bagging_fraction': 0.5417966556153592, 'bagging_freq': 1, 'min_child_samples': 75, 'n_estimators': 2884, 'early_stopping_round': 200}. Best is trial 1 with value: 0.7998466257668712.\u001b[0m\n",
      "C:\\Users\\deepBlue\\AppData\\Local\\Packages\\PythonSoftwareFoundation.Python.3.10_qbz5n2kfra8p0\\LocalCache\\local-packages\\Python310\\site-packages\\lightgbm\\sklearn.py:726: UserWarning: 'early_stopping_rounds' argument is deprecated and will be removed in a future release of LightGBM. Pass 'early_stopping()' callback via 'callbacks' argument instead.\n",
      "  _log_warning(\"'early_stopping_rounds' argument is deprecated and will be removed in a future release of LightGBM. \"\n",
      "C:\\Users\\deepBlue\\AppData\\Local\\Packages\\PythonSoftwareFoundation.Python.3.10_qbz5n2kfra8p0\\LocalCache\\local-packages\\Python310\\site-packages\\lightgbm\\sklearn.py:736: UserWarning: 'verbose' argument is deprecated and will be removed in a future release of LightGBM. Pass 'log_evaluation()' callback via 'callbacks' argument instead.\n",
      "  _log_warning(\"'verbose' argument is deprecated and will be removed in a future release of LightGBM. \"\n",
      "\u001b[32m[I 2022-12-10 22:35:25,057]\u001b[0m Trial 6 finished with value: 0.803680981595092 and parameters: {'lambda_l1': 9.231975279487177, 'lambda_l2': 0.050125252287614386, 'learning_rate': 0.06105065868370575, 'num_leaves': 200, 'feature_fraction': 0.8453139278872568, 'bagging_fraction': 0.8089081389791666, 'bagging_freq': 6, 'min_child_samples': 86, 'n_estimators': 12722, 'early_stopping_round': 200}. Best is trial 6 with value: 0.803680981595092.\u001b[0m\n",
      "C:\\Users\\deepBlue\\AppData\\Local\\Packages\\PythonSoftwareFoundation.Python.3.10_qbz5n2kfra8p0\\LocalCache\\local-packages\\Python310\\site-packages\\lightgbm\\sklearn.py:726: UserWarning: 'early_stopping_rounds' argument is deprecated and will be removed in a future release of LightGBM. Pass 'early_stopping()' callback via 'callbacks' argument instead.\n",
      "  _log_warning(\"'early_stopping_rounds' argument is deprecated and will be removed in a future release of LightGBM. \"\n",
      "C:\\Users\\deepBlue\\AppData\\Local\\Packages\\PythonSoftwareFoundation.Python.3.10_qbz5n2kfra8p0\\LocalCache\\local-packages\\Python310\\site-packages\\lightgbm\\sklearn.py:736: UserWarning: 'verbose' argument is deprecated and will be removed in a future release of LightGBM. Pass 'log_evaluation()' callback via 'callbacks' argument instead.\n",
      "  _log_warning(\"'verbose' argument is deprecated and will be removed in a future release of LightGBM. \"\n",
      "\u001b[32m[I 2022-12-10 22:35:25,451]\u001b[0m Trial 7 finished with value: 0.7802914110429447 and parameters: {'lambda_l1': 7.985502599754611, 'lambda_l2': 8.283378270136916, 'learning_rate': 0.0993112028196718, 'num_leaves': 407, 'feature_fraction': 0.4660563411817432, 'bagging_fraction': 0.5936446012173751, 'bagging_freq': 7, 'min_child_samples': 34, 'n_estimators': 4934, 'early_stopping_round': 200}. Best is trial 6 with value: 0.803680981595092.\u001b[0m\n",
      "C:\\Users\\deepBlue\\AppData\\Local\\Packages\\PythonSoftwareFoundation.Python.3.10_qbz5n2kfra8p0\\LocalCache\\local-packages\\Python310\\site-packages\\lightgbm\\sklearn.py:726: UserWarning: 'early_stopping_rounds' argument is deprecated and will be removed in a future release of LightGBM. Pass 'early_stopping()' callback via 'callbacks' argument instead.\n",
      "  _log_warning(\"'early_stopping_rounds' argument is deprecated and will be removed in a future release of LightGBM. \"\n",
      "C:\\Users\\deepBlue\\AppData\\Local\\Packages\\PythonSoftwareFoundation.Python.3.10_qbz5n2kfra8p0\\LocalCache\\local-packages\\Python310\\site-packages\\lightgbm\\sklearn.py:736: UserWarning: 'verbose' argument is deprecated and will be removed in a future release of LightGBM. Pass 'log_evaluation()' callback via 'callbacks' argument instead.\n",
      "  _log_warning(\"'verbose' argument is deprecated and will be removed in a future release of LightGBM. \"\n",
      "\u001b[32m[I 2022-12-10 22:35:25,810]\u001b[0m Trial 8 finished with value: 0.8055981595092024 and parameters: {'lambda_l1': 6.765305475475027, 'lambda_l2': 0.2436377050927806, 'learning_rate': 0.06729309447641996, 'num_leaves': 348, 'feature_fraction': 0.4821733502128828, 'bagging_fraction': 0.5406838299658683, 'bagging_freq': 7, 'min_child_samples': 48, 'n_estimators': 7665, 'early_stopping_round': 200}. Best is trial 8 with value: 0.8055981595092024.\u001b[0m\n",
      "C:\\Users\\deepBlue\\AppData\\Local\\Packages\\PythonSoftwareFoundation.Python.3.10_qbz5n2kfra8p0\\LocalCache\\local-packages\\Python310\\site-packages\\lightgbm\\sklearn.py:726: UserWarning: 'early_stopping_rounds' argument is deprecated and will be removed in a future release of LightGBM. Pass 'early_stopping()' callback via 'callbacks' argument instead.\n",
      "  _log_warning(\"'early_stopping_rounds' argument is deprecated and will be removed in a future release of LightGBM. \"\n",
      "C:\\Users\\deepBlue\\AppData\\Local\\Packages\\PythonSoftwareFoundation.Python.3.10_qbz5n2kfra8p0\\LocalCache\\local-packages\\Python310\\site-packages\\lightgbm\\sklearn.py:736: UserWarning: 'verbose' argument is deprecated and will be removed in a future release of LightGBM. Pass 'log_evaluation()' callback via 'callbacks' argument instead.\n",
      "  _log_warning(\"'verbose' argument is deprecated and will be removed in a future release of LightGBM. \"\n",
      "\u001b[32m[I 2022-12-10 22:35:26,291]\u001b[0m Trial 9 finished with value: 0.8040644171779141 and parameters: {'lambda_l1': 3.417786393277068, 'lambda_l2': 3.832687720131313, 'learning_rate': 0.024214446687971795, 'num_leaves': 255, 'feature_fraction': 0.6758504704139248, 'bagging_fraction': 0.7599686402374004, 'bagging_freq': 6, 'min_child_samples': 99, 'n_estimators': 6035, 'early_stopping_round': 200}. Best is trial 8 with value: 0.8055981595092024.\u001b[0m\n",
      "C:\\Users\\deepBlue\\AppData\\Local\\Packages\\PythonSoftwareFoundation.Python.3.10_qbz5n2kfra8p0\\LocalCache\\local-packages\\Python310\\site-packages\\lightgbm\\sklearn.py:726: UserWarning: 'early_stopping_rounds' argument is deprecated and will be removed in a future release of LightGBM. Pass 'early_stopping()' callback via 'callbacks' argument instead.\n",
      "  _log_warning(\"'early_stopping_rounds' argument is deprecated and will be removed in a future release of LightGBM. \"\n",
      "C:\\Users\\deepBlue\\AppData\\Local\\Packages\\PythonSoftwareFoundation.Python.3.10_qbz5n2kfra8p0\\LocalCache\\local-packages\\Python310\\site-packages\\lightgbm\\sklearn.py:736: UserWarning: 'verbose' argument is deprecated and will be removed in a future release of LightGBM. Pass 'log_evaluation()' callback via 'callbacks' argument instead.\n",
      "  _log_warning(\"'verbose' argument is deprecated and will be removed in a future release of LightGBM. \"\n",
      "\u001b[32m[I 2022-12-10 22:35:26,786]\u001b[0m Trial 10 finished with value: 0.8090490797546013 and parameters: {'lambda_l1': 6.270345632290827, 'lambda_l2': 5.050738332585254, 'learning_rate': 0.040696957411396374, 'num_leaves': 347, 'feature_fraction': 0.4115802152465609, 'bagging_fraction': 0.4009719198968467, 'bagging_freq': 4, 'min_child_samples': 6, 'n_estimators': 19525, 'early_stopping_round': 200}. Best is trial 10 with value: 0.8090490797546013.\u001b[0m\n",
      "C:\\Users\\deepBlue\\AppData\\Local\\Packages\\PythonSoftwareFoundation.Python.3.10_qbz5n2kfra8p0\\LocalCache\\local-packages\\Python310\\site-packages\\lightgbm\\sklearn.py:726: UserWarning: 'early_stopping_rounds' argument is deprecated and will be removed in a future release of LightGBM. Pass 'early_stopping()' callback via 'callbacks' argument instead.\n",
      "  _log_warning(\"'early_stopping_rounds' argument is deprecated and will be removed in a future release of LightGBM. \"\n",
      "C:\\Users\\deepBlue\\AppData\\Local\\Packages\\PythonSoftwareFoundation.Python.3.10_qbz5n2kfra8p0\\LocalCache\\local-packages\\Python310\\site-packages\\lightgbm\\sklearn.py:736: UserWarning: 'verbose' argument is deprecated and will be removed in a future release of LightGBM. Pass 'log_evaluation()' callback via 'callbacks' argument instead.\n",
      "  _log_warning(\"'verbose' argument is deprecated and will be removed in a future release of LightGBM. \"\n",
      "\u001b[32m[I 2022-12-10 22:35:27,255]\u001b[0m Trial 11 finished with value: 0.8136503067484663 and parameters: {'lambda_l1': 6.342125218538641, 'lambda_l2': 4.952876696165546, 'learning_rate': 0.038816386806631235, 'num_leaves': 355, 'feature_fraction': 0.4085304214789881, 'bagging_fraction': 0.4157415989360179, 'bagging_freq': 4, 'min_child_samples': 6, 'n_estimators': 19880, 'early_stopping_round': 200}. Best is trial 11 with value: 0.8136503067484663.\u001b[0m\n",
      "C:\\Users\\deepBlue\\AppData\\Local\\Packages\\PythonSoftwareFoundation.Python.3.10_qbz5n2kfra8p0\\LocalCache\\local-packages\\Python310\\site-packages\\lightgbm\\sklearn.py:726: UserWarning: 'early_stopping_rounds' argument is deprecated and will be removed in a future release of LightGBM. Pass 'early_stopping()' callback via 'callbacks' argument instead.\n",
      "  _log_warning(\"'early_stopping_rounds' argument is deprecated and will be removed in a future release of LightGBM. \"\n",
      "C:\\Users\\deepBlue\\AppData\\Local\\Packages\\PythonSoftwareFoundation.Python.3.10_qbz5n2kfra8p0\\LocalCache\\local-packages\\Python310\\site-packages\\lightgbm\\sklearn.py:736: UserWarning: 'verbose' argument is deprecated and will be removed in a future release of LightGBM. Pass 'log_evaluation()' callback via 'callbacks' argument instead.\n",
      "  _log_warning(\"'verbose' argument is deprecated and will be removed in a future release of LightGBM. \"\n",
      "\u001b[32m[I 2022-12-10 22:35:27,985]\u001b[0m Trial 12 finished with value: 0.8025306748466258 and parameters: {'lambda_l1': 6.126234888261901, 'lambda_l2': 5.342283309143845, 'learning_rate': 0.037112413431959625, 'num_leaves': 512, 'feature_fraction': 0.5583562427723903, 'bagging_fraction': 0.4098215281826841, 'bagging_freq': 4, 'min_child_samples': 6, 'n_estimators': 19646, 'early_stopping_round': 200}. Best is trial 11 with value: 0.8136503067484663.\u001b[0m\n",
      "C:\\Users\\deepBlue\\AppData\\Local\\Packages\\PythonSoftwareFoundation.Python.3.10_qbz5n2kfra8p0\\LocalCache\\local-packages\\Python310\\site-packages\\lightgbm\\sklearn.py:726: UserWarning: 'early_stopping_rounds' argument is deprecated and will be removed in a future release of LightGBM. Pass 'early_stopping()' callback via 'callbacks' argument instead.\n",
      "  _log_warning(\"'early_stopping_rounds' argument is deprecated and will be removed in a future release of LightGBM. \"\n",
      "C:\\Users\\deepBlue\\AppData\\Local\\Packages\\PythonSoftwareFoundation.Python.3.10_qbz5n2kfra8p0\\LocalCache\\local-packages\\Python310\\site-packages\\lightgbm\\sklearn.py:736: UserWarning: 'verbose' argument is deprecated and will be removed in a future release of LightGBM. Pass 'log_evaluation()' callback via 'callbacks' argument instead.\n",
      "  _log_warning(\"'verbose' argument is deprecated and will be removed in a future release of LightGBM. \"\n",
      "\u001b[32m[I 2022-12-10 22:35:28,521]\u001b[0m Trial 13 finished with value: 0.7933282208588958 and parameters: {'lambda_l1': 2.526645795552286, 'lambda_l2': 5.0428168710841375, 'learning_rate': 0.04314910616633898, 'num_leaves': 329, 'feature_fraction': 0.40660737869084257, 'bagging_fraction': 0.4375724277320018, 'bagging_freq': 4, 'min_child_samples': 5, 'n_estimators': 18512, 'early_stopping_round': 200}. Best is trial 11 with value: 0.8136503067484663.\u001b[0m\n",
      "C:\\Users\\deepBlue\\AppData\\Local\\Packages\\PythonSoftwareFoundation.Python.3.10_qbz5n2kfra8p0\\LocalCache\\local-packages\\Python310\\site-packages\\lightgbm\\sklearn.py:726: UserWarning: 'early_stopping_rounds' argument is deprecated and will be removed in a future release of LightGBM. Pass 'early_stopping()' callback via 'callbacks' argument instead.\n",
      "  _log_warning(\"'early_stopping_rounds' argument is deprecated and will be removed in a future release of LightGBM. \"\n",
      "C:\\Users\\deepBlue\\AppData\\Local\\Packages\\PythonSoftwareFoundation.Python.3.10_qbz5n2kfra8p0\\LocalCache\\local-packages\\Python310\\site-packages\\lightgbm\\sklearn.py:736: UserWarning: 'verbose' argument is deprecated and will be removed in a future release of LightGBM. Pass 'log_evaluation()' callback via 'callbacks' argument instead.\n",
      "  _log_warning(\"'verbose' argument is deprecated and will be removed in a future release of LightGBM. \"\n",
      "\u001b[32m[I 2022-12-10 22:35:29,067]\u001b[0m Trial 14 finished with value: 0.8002300613496932 and parameters: {'lambda_l1': 5.475898066601118, 'lambda_l2': 6.403591453432735, 'learning_rate': 0.030864735645554437, 'num_leaves': 326, 'feature_fraction': 0.5942879200274155, 'bagging_fraction': 0.4668233445937252, 'bagging_freq': 3, 'min_child_samples': 20, 'n_estimators': 15353, 'early_stopping_round': 200}. Best is trial 11 with value: 0.8136503067484663.\u001b[0m\n",
      "C:\\Users\\deepBlue\\AppData\\Local\\Packages\\PythonSoftwareFoundation.Python.3.10_qbz5n2kfra8p0\\LocalCache\\local-packages\\Python310\\site-packages\\lightgbm\\sklearn.py:726: UserWarning: 'early_stopping_rounds' argument is deprecated and will be removed in a future release of LightGBM. Pass 'early_stopping()' callback via 'callbacks' argument instead.\n",
      "  _log_warning(\"'early_stopping_rounds' argument is deprecated and will be removed in a future release of LightGBM. \"\n",
      "C:\\Users\\deepBlue\\AppData\\Local\\Packages\\PythonSoftwareFoundation.Python.3.10_qbz5n2kfra8p0\\LocalCache\\local-packages\\Python310\\site-packages\\lightgbm\\sklearn.py:736: UserWarning: 'verbose' argument is deprecated and will be removed in a future release of LightGBM. Pass 'log_evaluation()' callback via 'callbacks' argument instead.\n",
      "  _log_warning(\"'verbose' argument is deprecated and will be removed in a future release of LightGBM. \"\n",
      "\u001b[32m[I 2022-12-10 22:35:29,675]\u001b[0m Trial 15 finished with value: 0.7868098159509203 and parameters: {'lambda_l1': 7.609374310414851, 'lambda_l2': 3.6722413925719364, 'learning_rate': 0.050171849449111475, 'num_leaves': 394, 'feature_fraction': 0.40501171989148843, 'bagging_fraction': 0.6940290871709265, 'bagging_freq': 5, 'min_child_samples': 18, 'n_estimators': 16079, 'early_stopping_round': 200}. Best is trial 11 with value: 0.8136503067484663.\u001b[0m\n",
      "C:\\Users\\deepBlue\\AppData\\Local\\Packages\\PythonSoftwareFoundation.Python.3.10_qbz5n2kfra8p0\\LocalCache\\local-packages\\Python310\\site-packages\\lightgbm\\sklearn.py:726: UserWarning: 'early_stopping_rounds' argument is deprecated and will be removed in a future release of LightGBM. Pass 'early_stopping()' callback via 'callbacks' argument instead.\n",
      "  _log_warning(\"'early_stopping_rounds' argument is deprecated and will be removed in a future release of LightGBM. \"\n",
      "C:\\Users\\deepBlue\\AppData\\Local\\Packages\\PythonSoftwareFoundation.Python.3.10_qbz5n2kfra8p0\\LocalCache\\local-packages\\Python310\\site-packages\\lightgbm\\sklearn.py:736: UserWarning: 'verbose' argument is deprecated and will be removed in a future release of LightGBM. Pass 'log_evaluation()' callback via 'callbacks' argument instead.\n",
      "  _log_warning(\"'verbose' argument is deprecated and will be removed in a future release of LightGBM. \"\n",
      "\u001b[32m[I 2022-12-10 22:35:29,921]\u001b[0m Trial 16 finished with value: 0.8002300613496932 and parameters: {'lambda_l1': 1.2623573074405448, 'lambda_l2': 4.356545309940859, 'learning_rate': 0.051003380271371586, 'num_leaves': 251, 'feature_fraction': 0.7807745589521808, 'bagging_fraction': 0.48054130954117424, 'bagging_freq': 3, 'min_child_samples': 40, 'n_estimators': 13588, 'early_stopping_round': 200}. Best is trial 11 with value: 0.8136503067484663.\u001b[0m\n",
      "C:\\Users\\deepBlue\\AppData\\Local\\Packages\\PythonSoftwareFoundation.Python.3.10_qbz5n2kfra8p0\\LocalCache\\local-packages\\Python310\\site-packages\\lightgbm\\sklearn.py:726: UserWarning: 'early_stopping_rounds' argument is deprecated and will be removed in a future release of LightGBM. Pass 'early_stopping()' callback via 'callbacks' argument instead.\n",
      "  _log_warning(\"'early_stopping_rounds' argument is deprecated and will be removed in a future release of LightGBM. \"\n",
      "C:\\Users\\deepBlue\\AppData\\Local\\Packages\\PythonSoftwareFoundation.Python.3.10_qbz5n2kfra8p0\\LocalCache\\local-packages\\Python310\\site-packages\\lightgbm\\sklearn.py:736: UserWarning: 'verbose' argument is deprecated and will be removed in a future release of LightGBM. Pass 'log_evaluation()' callback via 'callbacks' argument instead.\n",
      "  _log_warning(\"'verbose' argument is deprecated and will be removed in a future release of LightGBM. \"\n",
      "\u001b[32m[I 2022-12-10 22:35:31,663]\u001b[0m Trial 17 finished with value: 0.803680981595092 and parameters: {'lambda_l1': 5.093562344732634, 'lambda_l2': 6.011219110051436, 'learning_rate': 0.009579102719309208, 'num_leaves': 472, 'feature_fraction': 0.5279600742668384, 'bagging_fraction': 0.6867071832300622, 'bagging_freq': 5, 'min_child_samples': 19, 'n_estimators': 19969, 'early_stopping_round': 200}. Best is trial 11 with value: 0.8136503067484663.\u001b[0m\n",
      "C:\\Users\\deepBlue\\AppData\\Local\\Packages\\PythonSoftwareFoundation.Python.3.10_qbz5n2kfra8p0\\LocalCache\\local-packages\\Python310\\site-packages\\lightgbm\\sklearn.py:726: UserWarning: 'early_stopping_rounds' argument is deprecated and will be removed in a future release of LightGBM. Pass 'early_stopping()' callback via 'callbacks' argument instead.\n",
      "  _log_warning(\"'early_stopping_rounds' argument is deprecated and will be removed in a future release of LightGBM. \"\n",
      "C:\\Users\\deepBlue\\AppData\\Local\\Packages\\PythonSoftwareFoundation.Python.3.10_qbz5n2kfra8p0\\LocalCache\\local-packages\\Python310\\site-packages\\lightgbm\\sklearn.py:736: UserWarning: 'verbose' argument is deprecated and will be removed in a future release of LightGBM. Pass 'log_evaluation()' callback via 'callbacks' argument instead.\n",
      "  _log_warning(\"'verbose' argument is deprecated and will be removed in a future release of LightGBM. \"\n",
      "\u001b[32m[I 2022-12-10 22:35:32,282]\u001b[0m Trial 18 finished with value: 0.8059815950920245 and parameters: {'lambda_l1': 7.282036543570934, 'lambda_l2': 1.997048620468068, 'learning_rate': 0.024771878830306085, 'num_leaves': 372, 'feature_fraction': 0.6249592269471619, 'bagging_fraction': 0.4962126585925475, 'bagging_freq': 3, 'min_child_samples': 14, 'n_estimators': 17570, 'early_stopping_round': 200}. Best is trial 11 with value: 0.8136503067484663.\u001b[0m\n",
      "C:\\Users\\deepBlue\\AppData\\Local\\Packages\\PythonSoftwareFoundation.Python.3.10_qbz5n2kfra8p0\\LocalCache\\local-packages\\Python310\\site-packages\\lightgbm\\sklearn.py:726: UserWarning: 'early_stopping_rounds' argument is deprecated and will be removed in a future release of LightGBM. Pass 'early_stopping()' callback via 'callbacks' argument instead.\n",
      "  _log_warning(\"'early_stopping_rounds' argument is deprecated and will be removed in a future release of LightGBM. \"\n",
      "C:\\Users\\deepBlue\\AppData\\Local\\Packages\\PythonSoftwareFoundation.Python.3.10_qbz5n2kfra8p0\\LocalCache\\local-packages\\Python310\\site-packages\\lightgbm\\sklearn.py:736: UserWarning: 'verbose' argument is deprecated and will be removed in a future release of LightGBM. Pass 'log_evaluation()' callback via 'callbacks' argument instead.\n",
      "  _log_warning(\"'verbose' argument is deprecated and will be removed in a future release of LightGBM. \"\n",
      "\u001b[32m[I 2022-12-10 22:35:32,792]\u001b[0m Trial 19 finished with value: 0.7868098159509203 and parameters: {'lambda_l1': 5.267401074589532, 'lambda_l2': 7.168763052287609, 'learning_rate': 0.04168995662218822, 'num_leaves': 311, 'feature_fraction': 0.4922896059834059, 'bagging_fraction': 0.41185121524437757, 'bagging_freq': 4, 'min_child_samples': 26, 'n_estimators': 10017, 'early_stopping_round': 200}. Best is trial 11 with value: 0.8136503067484663.\u001b[0m\n",
      "C:\\Users\\deepBlue\\AppData\\Local\\Packages\\PythonSoftwareFoundation.Python.3.10_qbz5n2kfra8p0\\LocalCache\\local-packages\\Python310\\site-packages\\lightgbm\\sklearn.py:726: UserWarning: 'early_stopping_rounds' argument is deprecated and will be removed in a future release of LightGBM. Pass 'early_stopping()' callback via 'callbacks' argument instead.\n",
      "  _log_warning(\"'early_stopping_rounds' argument is deprecated and will be removed in a future release of LightGBM. \"\n",
      "C:\\Users\\deepBlue\\AppData\\Local\\Packages\\PythonSoftwareFoundation.Python.3.10_qbz5n2kfra8p0\\LocalCache\\local-packages\\Python310\\site-packages\\lightgbm\\sklearn.py:736: UserWarning: 'verbose' argument is deprecated and will be removed in a future release of LightGBM. Pass 'log_evaluation()' callback via 'callbacks' argument instead.\n",
      "  _log_warning(\"'verbose' argument is deprecated and will be removed in a future release of LightGBM. \"\n",
      "\u001b[32m[I 2022-12-10 22:35:33,079]\u001b[0m Trial 20 finished with value: 0.7952453987730062 and parameters: {'lambda_l1': 2.5308673725408823, 'lambda_l2': 2.974161020729109, 'learning_rate': 0.05455313529692715, 'num_leaves': 171, 'feature_fraction': 0.757019983356219, 'bagging_fraction': 0.6518537081732068, 'bagging_freq': 5, 'min_child_samples': 50, 'n_estimators': 14051, 'early_stopping_round': 200}. Best is trial 11 with value: 0.8136503067484663.\u001b[0m\n",
      "C:\\Users\\deepBlue\\AppData\\Local\\Packages\\PythonSoftwareFoundation.Python.3.10_qbz5n2kfra8p0\\LocalCache\\local-packages\\Python310\\site-packages\\lightgbm\\sklearn.py:726: UserWarning: 'early_stopping_rounds' argument is deprecated and will be removed in a future release of LightGBM. Pass 'early_stopping()' callback via 'callbacks' argument instead.\n",
      "  _log_warning(\"'early_stopping_rounds' argument is deprecated and will be removed in a future release of LightGBM. \"\n",
      "C:\\Users\\deepBlue\\AppData\\Local\\Packages\\PythonSoftwareFoundation.Python.3.10_qbz5n2kfra8p0\\LocalCache\\local-packages\\Python310\\site-packages\\lightgbm\\sklearn.py:736: UserWarning: 'verbose' argument is deprecated and will be removed in a future release of LightGBM. Pass 'log_evaluation()' callback via 'callbacks' argument instead.\n",
      "  _log_warning(\"'verbose' argument is deprecated and will be removed in a future release of LightGBM. \"\n",
      "\u001b[32m[I 2022-12-10 22:35:33,950]\u001b[0m Trial 21 finished with value: 0.8059815950920245 and parameters: {'lambda_l1': 7.471644949619204, 'lambda_l2': 1.6634424922171092, 'learning_rate': 0.026908084621302345, 'num_leaves': 387, 'feature_fraction': 0.6199404879903849, 'bagging_fraction': 0.5036338575612181, 'bagging_freq': 3, 'min_child_samples': 12, 'n_estimators': 17523, 'early_stopping_round': 200}. Best is trial 11 with value: 0.8136503067484663.\u001b[0m\n",
      "C:\\Users\\deepBlue\\AppData\\Local\\Packages\\PythonSoftwareFoundation.Python.3.10_qbz5n2kfra8p0\\LocalCache\\local-packages\\Python310\\site-packages\\lightgbm\\sklearn.py:726: UserWarning: 'early_stopping_rounds' argument is deprecated and will be removed in a future release of LightGBM. Pass 'early_stopping()' callback via 'callbacks' argument instead.\n",
      "  _log_warning(\"'early_stopping_rounds' argument is deprecated and will be removed in a future release of LightGBM. \"\n",
      "C:\\Users\\deepBlue\\AppData\\Local\\Packages\\PythonSoftwareFoundation.Python.3.10_qbz5n2kfra8p0\\LocalCache\\local-packages\\Python310\\site-packages\\lightgbm\\sklearn.py:736: UserWarning: 'verbose' argument is deprecated and will be removed in a future release of LightGBM. Pass 'log_evaluation()' callback via 'callbacks' argument instead.\n",
      "  _log_warning(\"'verbose' argument is deprecated and will be removed in a future release of LightGBM. \"\n",
      "\u001b[32m[I 2022-12-10 22:35:34,807]\u001b[0m Trial 22 finished with value: 0.8090490797546013 and parameters: {'lambda_l1': 6.0727021981953335, 'lambda_l2': 2.1596515628848607, 'learning_rate': 0.018185077696881016, 'num_leaves': 293, 'feature_fraction': 0.9949763314720086, 'bagging_fraction': 0.4009200681347467, 'bagging_freq': 3, 'min_child_samples': 13, 'n_estimators': 17789, 'early_stopping_round': 200}. Best is trial 11 with value: 0.8136503067484663.\u001b[0m\n",
      "C:\\Users\\deepBlue\\AppData\\Local\\Packages\\PythonSoftwareFoundation.Python.3.10_qbz5n2kfra8p0\\LocalCache\\local-packages\\Python310\\site-packages\\lightgbm\\sklearn.py:726: UserWarning: 'early_stopping_rounds' argument is deprecated and will be removed in a future release of LightGBM. Pass 'early_stopping()' callback via 'callbacks' argument instead.\n",
      "  _log_warning(\"'early_stopping_rounds' argument is deprecated and will be removed in a future release of LightGBM. \"\n",
      "C:\\Users\\deepBlue\\AppData\\Local\\Packages\\PythonSoftwareFoundation.Python.3.10_qbz5n2kfra8p0\\LocalCache\\local-packages\\Python310\\site-packages\\lightgbm\\sklearn.py:736: UserWarning: 'verbose' argument is deprecated and will be removed in a future release of LightGBM. Pass 'log_evaluation()' callback via 'callbacks' argument instead.\n",
      "  _log_warning(\"'verbose' argument is deprecated and will be removed in a future release of LightGBM. \"\n",
      "\u001b[32m[I 2022-12-10 22:35:35,729]\u001b[0m Trial 23 finished with value: 0.7986963190184049 and parameters: {'lambda_l1': 5.788141965612102, 'lambda_l2': 4.387765885017697, 'learning_rate': 0.014792827010507105, 'num_leaves': 290, 'feature_fraction': 0.9921978383003226, 'bagging_fraction': 0.4064303694762193, 'bagging_freq': 2, 'min_child_samples': 5, 'n_estimators': 18442, 'early_stopping_round': 200}. Best is trial 11 with value: 0.8136503067484663.\u001b[0m\n",
      "C:\\Users\\deepBlue\\AppData\\Local\\Packages\\PythonSoftwareFoundation.Python.3.10_qbz5n2kfra8p0\\LocalCache\\local-packages\\Python310\\site-packages\\lightgbm\\sklearn.py:726: UserWarning: 'early_stopping_rounds' argument is deprecated and will be removed in a future release of LightGBM. Pass 'early_stopping()' callback via 'callbacks' argument instead.\n",
      "  _log_warning(\"'early_stopping_rounds' argument is deprecated and will be removed in a future release of LightGBM. \"\n",
      "C:\\Users\\deepBlue\\AppData\\Local\\Packages\\PythonSoftwareFoundation.Python.3.10_qbz5n2kfra8p0\\LocalCache\\local-packages\\Python310\\site-packages\\lightgbm\\sklearn.py:736: UserWarning: 'verbose' argument is deprecated and will be removed in a future release of LightGBM. Pass 'log_evaluation()' callback via 'callbacks' argument instead.\n",
      "  _log_warning(\"'verbose' argument is deprecated and will be removed in a future release of LightGBM. \"\n",
      "\u001b[32m[I 2022-12-10 22:35:40,814]\u001b[0m Trial 24 finished with value: 0.8013803680981595 and parameters: {'lambda_l1': 4.26847316106322, 'lambda_l2': 5.676097869867238, 'learning_rate': 0.0021461147317278495, 'num_leaves': 283, 'feature_fraction': 0.8940589185780036, 'bagging_fraction': 0.4635678037473756, 'bagging_freq': 2, 'min_child_samples': 26, 'n_estimators': 16870, 'early_stopping_round': 200}. Best is trial 11 with value: 0.8136503067484663.\u001b[0m\n",
      "C:\\Users\\deepBlue\\AppData\\Local\\Packages\\PythonSoftwareFoundation.Python.3.10_qbz5n2kfra8p0\\LocalCache\\local-packages\\Python310\\site-packages\\lightgbm\\sklearn.py:726: UserWarning: 'early_stopping_rounds' argument is deprecated and will be removed in a future release of LightGBM. Pass 'early_stopping()' callback via 'callbacks' argument instead.\n",
      "  _log_warning(\"'early_stopping_rounds' argument is deprecated and will be removed in a future release of LightGBM. \"\n",
      "C:\\Users\\deepBlue\\AppData\\Local\\Packages\\PythonSoftwareFoundation.Python.3.10_qbz5n2kfra8p0\\LocalCache\\local-packages\\Python310\\site-packages\\lightgbm\\sklearn.py:736: UserWarning: 'verbose' argument is deprecated and will be removed in a future release of LightGBM. Pass 'log_evaluation()' callback via 'callbacks' argument instead.\n",
      "  _log_warning(\"'verbose' argument is deprecated and will be removed in a future release of LightGBM. \"\n",
      "\u001b[32m[I 2022-12-10 22:35:41,411]\u001b[0m Trial 25 finished with value: 0.8101993865030674 and parameters: {'lambda_l1': 6.176612797339483, 'lambda_l2': 1.0642299168862603, 'learning_rate': 0.03561924569457349, 'num_leaves': 436, 'feature_fraction': 0.7759962320779141, 'bagging_fraction': 0.5275212079460185, 'bagging_freq': 4, 'min_child_samples': 39, 'n_estimators': 19808, 'early_stopping_round': 200}. Best is trial 11 with value: 0.8136503067484663.\u001b[0m\n",
      "C:\\Users\\deepBlue\\AppData\\Local\\Packages\\PythonSoftwareFoundation.Python.3.10_qbz5n2kfra8p0\\LocalCache\\local-packages\\Python310\\site-packages\\lightgbm\\sklearn.py:726: UserWarning: 'early_stopping_rounds' argument is deprecated and will be removed in a future release of LightGBM. Pass 'early_stopping()' callback via 'callbacks' argument instead.\n",
      "  _log_warning(\"'early_stopping_rounds' argument is deprecated and will be removed in a future release of LightGBM. \"\n",
      "C:\\Users\\deepBlue\\AppData\\Local\\Packages\\PythonSoftwareFoundation.Python.3.10_qbz5n2kfra8p0\\LocalCache\\local-packages\\Python310\\site-packages\\lightgbm\\sklearn.py:736: UserWarning: 'verbose' argument is deprecated and will be removed in a future release of LightGBM. Pass 'log_evaluation()' callback via 'callbacks' argument instead.\n",
      "  _log_warning(\"'verbose' argument is deprecated and will be removed in a future release of LightGBM. \"\n",
      "\u001b[32m[I 2022-12-10 22:35:41,964]\u001b[0m Trial 26 finished with value: 0.7998466257668712 and parameters: {'lambda_l1': 8.403237459889812, 'lambda_l2': 1.141895815520127, 'learning_rate': 0.031389732572800026, 'num_leaves': 436, 'feature_fraction': 0.7443895875862212, 'bagging_fraction': 0.532964170100947, 'bagging_freq': 5, 'min_child_samples': 42, 'n_estimators': 14818, 'early_stopping_round': 200}. Best is trial 11 with value: 0.8136503067484663.\u001b[0m\n",
      "C:\\Users\\deepBlue\\AppData\\Local\\Packages\\PythonSoftwareFoundation.Python.3.10_qbz5n2kfra8p0\\LocalCache\\local-packages\\Python310\\site-packages\\lightgbm\\sklearn.py:726: UserWarning: 'early_stopping_rounds' argument is deprecated and will be removed in a future release of LightGBM. Pass 'early_stopping()' callback via 'callbacks' argument instead.\n",
      "  _log_warning(\"'early_stopping_rounds' argument is deprecated and will be removed in a future release of LightGBM. \"\n",
      "C:\\Users\\deepBlue\\AppData\\Local\\Packages\\PythonSoftwareFoundation.Python.3.10_qbz5n2kfra8p0\\LocalCache\\local-packages\\Python310\\site-packages\\lightgbm\\sklearn.py:736: UserWarning: 'verbose' argument is deprecated and will be removed in a future release of LightGBM. Pass 'log_evaluation()' callback via 'callbacks' argument instead.\n",
      "  _log_warning(\"'verbose' argument is deprecated and will be removed in a future release of LightGBM. \"\n",
      "\u001b[32m[I 2022-12-10 22:35:42,730]\u001b[0m Trial 27 finished with value: 0.7956288343558282 and parameters: {'lambda_l1': 7.057705392557837, 'lambda_l2': 2.8477334228385804, 'learning_rate': 0.018256968545771815, 'num_leaves': 483, 'feature_fraction': 0.8218397048822462, 'bagging_fraction': 0.4466205819556858, 'bagging_freq': 3, 'min_child_samples': 57, 'n_estimators': 18325, 'early_stopping_round': 200}. Best is trial 11 with value: 0.8136503067484663.\u001b[0m\n",
      "C:\\Users\\deepBlue\\AppData\\Local\\Packages\\PythonSoftwareFoundation.Python.3.10_qbz5n2kfra8p0\\LocalCache\\local-packages\\Python310\\site-packages\\lightgbm\\sklearn.py:726: UserWarning: 'early_stopping_rounds' argument is deprecated and will be removed in a future release of LightGBM. Pass 'early_stopping()' callback via 'callbacks' argument instead.\n",
      "  _log_warning(\"'early_stopping_rounds' argument is deprecated and will be removed in a future release of LightGBM. \"\n",
      "C:\\Users\\deepBlue\\AppData\\Local\\Packages\\PythonSoftwareFoundation.Python.3.10_qbz5n2kfra8p0\\LocalCache\\local-packages\\Python310\\site-packages\\lightgbm\\sklearn.py:736: UserWarning: 'verbose' argument is deprecated and will be removed in a future release of LightGBM. Pass 'log_evaluation()' callback via 'callbacks' argument instead.\n",
      "  _log_warning(\"'verbose' argument is deprecated and will be removed in a future release of LightGBM. \"\n",
      "\u001b[32m[I 2022-12-10 22:35:43,119]\u001b[0m Trial 28 finished with value: 0.790260736196319 and parameters: {'lambda_l1': 6.366356690085083, 'lambda_l2': 9.93311255563134, 'learning_rate': 0.04066351378674096, 'num_leaves': 416, 'feature_fraction': 0.4100157334888517, 'bagging_fraction': 0.6337015233807456, 'bagging_freq': 4, 'min_child_samples': 36, 'n_estimators': 19721, 'early_stopping_round': 200}. Best is trial 11 with value: 0.8136503067484663.\u001b[0m\n",
      "C:\\Users\\deepBlue\\AppData\\Local\\Packages\\PythonSoftwareFoundation.Python.3.10_qbz5n2kfra8p0\\LocalCache\\local-packages\\Python310\\site-packages\\lightgbm\\sklearn.py:726: UserWarning: 'early_stopping_rounds' argument is deprecated and will be removed in a future release of LightGBM. Pass 'early_stopping()' callback via 'callbacks' argument instead.\n",
      "  _log_warning(\"'early_stopping_rounds' argument is deprecated and will be removed in a future release of LightGBM. \"\n",
      "C:\\Users\\deepBlue\\AppData\\Local\\Packages\\PythonSoftwareFoundation.Python.3.10_qbz5n2kfra8p0\\LocalCache\\local-packages\\Python310\\site-packages\\lightgbm\\sklearn.py:736: UserWarning: 'verbose' argument is deprecated and will be removed in a future release of LightGBM. Pass 'log_evaluation()' callback via 'callbacks' argument instead.\n",
      "  _log_warning(\"'verbose' argument is deprecated and will be removed in a future release of LightGBM. \"\n",
      "\u001b[32m[I 2022-12-10 22:35:43,642]\u001b[0m Trial 29 finished with value: 0.8059815950920245 and parameters: {'lambda_l1': 9.925113895223944, 'lambda_l2': 0.882061142493672, 'learning_rate': 0.033095303931576, 'num_leaves': 225, 'feature_fraction': 0.9007860930062837, 'bagging_fraction': 0.5202242155741745, 'bagging_freq': 6, 'min_child_samples': 24, 'n_estimators': 11373, 'early_stopping_round': 200}. Best is trial 11 with value: 0.8136503067484663.\u001b[0m\n",
      "C:\\Users\\deepBlue\\AppData\\Local\\Packages\\PythonSoftwareFoundation.Python.3.10_qbz5n2kfra8p0\\LocalCache\\local-packages\\Python310\\site-packages\\lightgbm\\sklearn.py:726: UserWarning: 'early_stopping_rounds' argument is deprecated and will be removed in a future release of LightGBM. Pass 'early_stopping()' callback via 'callbacks' argument instead.\n",
      "  _log_warning(\"'early_stopping_rounds' argument is deprecated and will be removed in a future release of LightGBM. \"\n",
      "C:\\Users\\deepBlue\\AppData\\Local\\Packages\\PythonSoftwareFoundation.Python.3.10_qbz5n2kfra8p0\\LocalCache\\local-packages\\Python310\\site-packages\\lightgbm\\sklearn.py:736: UserWarning: 'verbose' argument is deprecated and will be removed in a future release of LightGBM. Pass 'log_evaluation()' callback via 'callbacks' argument instead.\n",
      "  _log_warning(\"'verbose' argument is deprecated and will be removed in a future release of LightGBM. \"\n",
      "\u001b[32m[I 2022-12-10 22:35:44,164]\u001b[0m Trial 30 finished with value: 0.7948619631901841 and parameters: {'lambda_l1': 4.744619326665868, 'lambda_l2': 0.7372144268583241, 'learning_rate': 0.018868052695481516, 'num_leaves': 435, 'feature_fraction': 0.9756435832129865, 'bagging_fraction': 0.5734985145104803, 'bagging_freq': 2, 'min_child_samples': 14, 'n_estimators': 11682, 'early_stopping_round': 200}. Best is trial 11 with value: 0.8136503067484663.\u001b[0m\n",
      "C:\\Users\\deepBlue\\AppData\\Local\\Packages\\PythonSoftwareFoundation.Python.3.10_qbz5n2kfra8p0\\LocalCache\\local-packages\\Python310\\site-packages\\lightgbm\\sklearn.py:726: UserWarning: 'early_stopping_rounds' argument is deprecated and will be removed in a future release of LightGBM. Pass 'early_stopping()' callback via 'callbacks' argument instead.\n",
      "  _log_warning(\"'early_stopping_rounds' argument is deprecated and will be removed in a future release of LightGBM. \"\n",
      "C:\\Users\\deepBlue\\AppData\\Local\\Packages\\PythonSoftwareFoundation.Python.3.10_qbz5n2kfra8p0\\LocalCache\\local-packages\\Python310\\site-packages\\lightgbm\\sklearn.py:736: UserWarning: 'verbose' argument is deprecated and will be removed in a future release of LightGBM. Pass 'log_evaluation()' callback via 'callbacks' argument instead.\n",
      "  _log_warning(\"'verbose' argument is deprecated and will be removed in a future release of LightGBM. \"\n",
      "\u001b[32m[I 2022-12-10 22:35:44,835]\u001b[0m Trial 31 finished with value: 0.7940950920245399 and parameters: {'lambda_l1': 6.422002024030125, 'lambda_l2': 2.3032925356004696, 'learning_rate': 0.0426642778658699, 'num_leaves': 358, 'feature_fraction': 0.4496663315901137, 'bagging_fraction': 0.4021455958178305, 'bagging_freq': 4, 'min_child_samples': 11, 'n_estimators': 18751, 'early_stopping_round': 200}. Best is trial 11 with value: 0.8136503067484663.\u001b[0m\n",
      "C:\\Users\\deepBlue\\AppData\\Local\\Packages\\PythonSoftwareFoundation.Python.3.10_qbz5n2kfra8p0\\LocalCache\\local-packages\\Python310\\site-packages\\lightgbm\\sklearn.py:726: UserWarning: 'early_stopping_rounds' argument is deprecated and will be removed in a future release of LightGBM. Pass 'early_stopping()' callback via 'callbacks' argument instead.\n",
      "  _log_warning(\"'early_stopping_rounds' argument is deprecated and will be removed in a future release of LightGBM. \"\n",
      "C:\\Users\\deepBlue\\AppData\\Local\\Packages\\PythonSoftwareFoundation.Python.3.10_qbz5n2kfra8p0\\LocalCache\\local-packages\\Python310\\site-packages\\lightgbm\\sklearn.py:736: UserWarning: 'verbose' argument is deprecated and will be removed in a future release of LightGBM. Pass 'log_evaluation()' callback via 'callbacks' argument instead.\n",
      "  _log_warning(\"'verbose' argument is deprecated and will be removed in a future release of LightGBM. \"\n",
      "\u001b[32m[I 2022-12-10 22:35:45,459]\u001b[0m Trial 32 finished with value: 0.8086656441717791 and parameters: {'lambda_l1': 5.7790701117422145, 'lambda_l2': 3.503691158688897, 'learning_rate': 0.035439658542666265, 'num_leaves': 300, 'feature_fraction': 0.7053483814445167, 'bagging_fraction': 0.4555609804534105, 'bagging_freq': 3, 'min_child_samples': 12, 'n_estimators': 17062, 'early_stopping_round': 200}. Best is trial 11 with value: 0.8136503067484663.\u001b[0m\n",
      "C:\\Users\\deepBlue\\AppData\\Local\\Packages\\PythonSoftwareFoundation.Python.3.10_qbz5n2kfra8p0\\LocalCache\\local-packages\\Python310\\site-packages\\lightgbm\\sklearn.py:726: UserWarning: 'early_stopping_rounds' argument is deprecated and will be removed in a future release of LightGBM. Pass 'early_stopping()' callback via 'callbacks' argument instead.\n",
      "  _log_warning(\"'early_stopping_rounds' argument is deprecated and will be removed in a future release of LightGBM. \"\n",
      "C:\\Users\\deepBlue\\AppData\\Local\\Packages\\PythonSoftwareFoundation.Python.3.10_qbz5n2kfra8p0\\LocalCache\\local-packages\\Python310\\site-packages\\lightgbm\\sklearn.py:736: UserWarning: 'verbose' argument is deprecated and will be removed in a future release of LightGBM. Pass 'log_evaluation()' callback via 'callbacks' argument instead.\n",
      "  _log_warning(\"'verbose' argument is deprecated and will be removed in a future release of LightGBM. \"\n",
      "\u001b[32m[I 2022-12-10 22:35:45,820]\u001b[0m Trial 33 finished with value: 0.7998466257668712 and parameters: {'lambda_l1': 6.52036600557755, 'lambda_l2': 4.427034864139377, 'learning_rate': 0.05671013165433302, 'num_leaves': 139, 'feature_fraction': 0.9297162956245499, 'bagging_fraction': 0.43812507099937753, 'bagging_freq': 4, 'min_child_samples': 64, 'n_estimators': 19951, 'early_stopping_round': 200}. Best is trial 11 with value: 0.8136503067484663.\u001b[0m\n",
      "C:\\Users\\deepBlue\\AppData\\Local\\Packages\\PythonSoftwareFoundation.Python.3.10_qbz5n2kfra8p0\\LocalCache\\local-packages\\Python310\\site-packages\\lightgbm\\sklearn.py:726: UserWarning: 'early_stopping_rounds' argument is deprecated and will be removed in a future release of LightGBM. Pass 'early_stopping()' callback via 'callbacks' argument instead.\n",
      "  _log_warning(\"'early_stopping_rounds' argument is deprecated and will be removed in a future release of LightGBM. \"\n",
      "C:\\Users\\deepBlue\\AppData\\Local\\Packages\\PythonSoftwareFoundation.Python.3.10_qbz5n2kfra8p0\\LocalCache\\local-packages\\Python310\\site-packages\\lightgbm\\sklearn.py:736: UserWarning: 'verbose' argument is deprecated and will be removed in a future release of LightGBM. Pass 'log_evaluation()' callback via 'callbacks' argument instead.\n",
      "  _log_warning(\"'verbose' argument is deprecated and will be removed in a future release of LightGBM. \"\n",
      "\u001b[32m[I 2022-12-10 22:35:46,251]\u001b[0m Trial 34 finished with value: 0.8013803680981595 and parameters: {'lambda_l1': 4.42384240996501, 'lambda_l2': 1.2424392045242965, 'learning_rate': 0.045044780908481574, 'num_leaves': 10, 'feature_fraction': 0.433482916829641, 'bagging_fraction': 0.492186809057079, 'bagging_freq': 4, 'min_child_samples': 21, 'n_estimators': 15754, 'early_stopping_round': 200}. Best is trial 11 with value: 0.8136503067484663.\u001b[0m\n",
      "C:\\Users\\deepBlue\\AppData\\Local\\Packages\\PythonSoftwareFoundation.Python.3.10_qbz5n2kfra8p0\\LocalCache\\local-packages\\Python310\\site-packages\\lightgbm\\sklearn.py:726: UserWarning: 'early_stopping_rounds' argument is deprecated and will be removed in a future release of LightGBM. Pass 'early_stopping()' callback via 'callbacks' argument instead.\n",
      "  _log_warning(\"'early_stopping_rounds' argument is deprecated and will be removed in a future release of LightGBM. \"\n",
      "C:\\Users\\deepBlue\\AppData\\Local\\Packages\\PythonSoftwareFoundation.Python.3.10_qbz5n2kfra8p0\\LocalCache\\local-packages\\Python310\\site-packages\\lightgbm\\sklearn.py:736: UserWarning: 'verbose' argument is deprecated and will be removed in a future release of LightGBM. Pass 'log_evaluation()' callback via 'callbacks' argument instead.\n",
      "  _log_warning(\"'verbose' argument is deprecated and will be removed in a future release of LightGBM. \"\n",
      "\u001b[32m[I 2022-12-10 22:35:46,525]\u001b[0m Trial 35 finished with value: 0.8021472392638037 and parameters: {'lambda_l1': 8.154529184069492, 'lambda_l2': 7.607711118651713, 'learning_rate': 0.07483980478925463, 'num_leaves': 353, 'feature_fraction': 0.661639559083727, 'bagging_fraction': 0.9554607648698499, 'bagging_freq': 5, 'min_child_samples': 8, 'n_estimators': 9493, 'early_stopping_round': 200}. Best is trial 11 with value: 0.8136503067484663.\u001b[0m\n",
      "C:\\Users\\deepBlue\\AppData\\Local\\Packages\\PythonSoftwareFoundation.Python.3.10_qbz5n2kfra8p0\\LocalCache\\local-packages\\Python310\\site-packages\\lightgbm\\sklearn.py:726: UserWarning: 'early_stopping_rounds' argument is deprecated and will be removed in a future release of LightGBM. Pass 'early_stopping()' callback via 'callbacks' argument instead.\n",
      "  _log_warning(\"'early_stopping_rounds' argument is deprecated and will be removed in a future release of LightGBM. \"\n",
      "C:\\Users\\deepBlue\\AppData\\Local\\Packages\\PythonSoftwareFoundation.Python.3.10_qbz5n2kfra8p0\\LocalCache\\local-packages\\Python310\\site-packages\\lightgbm\\sklearn.py:736: UserWarning: 'verbose' argument is deprecated and will be removed in a future release of LightGBM. Pass 'log_evaluation()' callback via 'callbacks' argument instead.\n",
      "  _log_warning(\"'verbose' argument is deprecated and will be removed in a future release of LightGBM. \"\n",
      "\u001b[32m[I 2022-12-10 22:35:48,081]\u001b[0m Trial 36 finished with value: 0.7967791411042945 and parameters: {'lambda_l1': 5.882129626588788, 'lambda_l2': 2.378311207895951, 'learning_rate': 0.01202701413562695, 'num_leaves': 273, 'feature_fraction': 0.5173265414905862, 'bagging_fraction': 0.4288023165446968, 'bagging_freq': 3, 'min_child_samples': 29, 'n_estimators': 18752, 'early_stopping_round': 200}. Best is trial 11 with value: 0.8136503067484663.\u001b[0m\n",
      "C:\\Users\\deepBlue\\AppData\\Local\\Packages\\PythonSoftwareFoundation.Python.3.10_qbz5n2kfra8p0\\LocalCache\\local-packages\\Python310\\site-packages\\lightgbm\\sklearn.py:726: UserWarning: 'early_stopping_rounds' argument is deprecated and will be removed in a future release of LightGBM. Pass 'early_stopping()' callback via 'callbacks' argument instead.\n",
      "  _log_warning(\"'early_stopping_rounds' argument is deprecated and will be removed in a future release of LightGBM. \"\n",
      "C:\\Users\\deepBlue\\AppData\\Local\\Packages\\PythonSoftwareFoundation.Python.3.10_qbz5n2kfra8p0\\LocalCache\\local-packages\\Python310\\site-packages\\lightgbm\\sklearn.py:736: UserWarning: 'verbose' argument is deprecated and will be removed in a future release of LightGBM. Pass 'log_evaluation()' callback via 'callbacks' argument instead.\n",
      "  _log_warning(\"'verbose' argument is deprecated and will be removed in a future release of LightGBM. \"\n",
      "\u001b[32m[I 2022-12-10 22:35:48,871]\u001b[0m Trial 37 finished with value: 0.7994631901840491 and parameters: {'lambda_l1': 7.020333604507402, 'lambda_l2': 3.2593257646728464, 'learning_rate': 0.022718643033324822, 'num_leaves': 464, 'feature_fraction': 0.5674469432750249, 'bagging_fraction': 0.4722741071951879, 'bagging_freq': 4, 'min_child_samples': 44, 'n_estimators': 17201, 'early_stopping_round': 200}. Best is trial 11 with value: 0.8136503067484663.\u001b[0m\n",
      "C:\\Users\\deepBlue\\AppData\\Local\\Packages\\PythonSoftwareFoundation.Python.3.10_qbz5n2kfra8p0\\LocalCache\\local-packages\\Python310\\site-packages\\lightgbm\\sklearn.py:726: UserWarning: 'early_stopping_rounds' argument is deprecated and will be removed in a future release of LightGBM. Pass 'early_stopping()' callback via 'callbacks' argument instead.\n",
      "  _log_warning(\"'early_stopping_rounds' argument is deprecated and will be removed in a future release of LightGBM. \"\n",
      "C:\\Users\\deepBlue\\AppData\\Local\\Packages\\PythonSoftwareFoundation.Python.3.10_qbz5n2kfra8p0\\LocalCache\\local-packages\\Python310\\site-packages\\lightgbm\\sklearn.py:736: UserWarning: 'verbose' argument is deprecated and will be removed in a future release of LightGBM. Pass 'log_evaluation()' callback via 'callbacks' argument instead.\n",
      "  _log_warning(\"'verbose' argument is deprecated and will be removed in a future release of LightGBM. \"\n",
      "\u001b[32m[I 2022-12-10 22:35:51,105]\u001b[0m Trial 38 finished with value: 0.8017638036809815 and parameters: {'lambda_l1': 8.91006365580393, 'lambda_l2': 8.936199118929977, 'learning_rate': 0.004795183755881506, 'num_leaves': 222, 'feature_fraction': 0.8693195842510815, 'bagging_fraction': 0.8952123859277443, 'bagging_freq': 5, 'min_child_samples': 32, 'n_estimators': 14557, 'early_stopping_round': 200}. Best is trial 11 with value: 0.8136503067484663.\u001b[0m\n",
      "C:\\Users\\deepBlue\\AppData\\Local\\Packages\\PythonSoftwareFoundation.Python.3.10_qbz5n2kfra8p0\\LocalCache\\local-packages\\Python310\\site-packages\\lightgbm\\sklearn.py:726: UserWarning: 'early_stopping_rounds' argument is deprecated and will be removed in a future release of LightGBM. Pass 'early_stopping()' callback via 'callbacks' argument instead.\n",
      "  _log_warning(\"'early_stopping_rounds' argument is deprecated and will be removed in a future release of LightGBM. \"\n",
      "C:\\Users\\deepBlue\\AppData\\Local\\Packages\\PythonSoftwareFoundation.Python.3.10_qbz5n2kfra8p0\\LocalCache\\local-packages\\Python310\\site-packages\\lightgbm\\sklearn.py:736: UserWarning: 'verbose' argument is deprecated and will be removed in a future release of LightGBM. Pass 'log_evaluation()' callback via 'callbacks' argument instead.\n",
      "  _log_warning(\"'verbose' argument is deprecated and will be removed in a future release of LightGBM. \"\n",
      "\u001b[32m[I 2022-12-10 22:35:51,582]\u001b[0m Trial 39 finished with value: 0.8136503067484663 and parameters: {'lambda_l1': 3.504799376714105, 'lambda_l2': 7.018323943193014, 'learning_rate': 0.047393700479157794, 'num_leaves': 417, 'feature_fraction': 0.7950801972001089, 'bagging_fraction': 0.5549782306166252, 'bagging_freq': 2, 'min_child_samples': 15, 'n_estimators': 12557, 'early_stopping_round': 200}. Best is trial 11 with value: 0.8136503067484663.\u001b[0m\n",
      "C:\\Users\\deepBlue\\AppData\\Local\\Packages\\PythonSoftwareFoundation.Python.3.10_qbz5n2kfra8p0\\LocalCache\\local-packages\\Python310\\site-packages\\lightgbm\\sklearn.py:726: UserWarning: 'early_stopping_rounds' argument is deprecated and will be removed in a future release of LightGBM. Pass 'early_stopping()' callback via 'callbacks' argument instead.\n",
      "  _log_warning(\"'early_stopping_rounds' argument is deprecated and will be removed in a future release of LightGBM. \"\n",
      "C:\\Users\\deepBlue\\AppData\\Local\\Packages\\PythonSoftwareFoundation.Python.3.10_qbz5n2kfra8p0\\LocalCache\\local-packages\\Python310\\site-packages\\lightgbm\\sklearn.py:736: UserWarning: 'verbose' argument is deprecated and will be removed in a future release of LightGBM. Pass 'log_evaluation()' callback via 'callbacks' argument instead.\n",
      "  _log_warning(\"'verbose' argument is deprecated and will be removed in a future release of LightGBM. \"\n",
      "\u001b[32m[I 2022-12-10 22:35:51,839]\u001b[0m Trial 40 finished with value: 0.799079754601227 and parameters: {'lambda_l1': 3.35401387840595, 'lambda_l2': 7.102782050415202, 'learning_rate': 0.047421260618966274, 'num_leaves': 424, 'feature_fraction': 0.8084630985256324, 'bagging_fraction': 0.5695050237153333, 'bagging_freq': 1, 'min_child_samples': 75, 'n_estimators': 304, 'early_stopping_round': 200}. Best is trial 11 with value: 0.8136503067484663.\u001b[0m\n",
      "C:\\Users\\deepBlue\\AppData\\Local\\Packages\\PythonSoftwareFoundation.Python.3.10_qbz5n2kfra8p0\\LocalCache\\local-packages\\Python310\\site-packages\\lightgbm\\sklearn.py:726: UserWarning: 'early_stopping_rounds' argument is deprecated and will be removed in a future release of LightGBM. Pass 'early_stopping()' callback via 'callbacks' argument instead.\n",
      "  _log_warning(\"'early_stopping_rounds' argument is deprecated and will be removed in a future release of LightGBM. \"\n",
      "C:\\Users\\deepBlue\\AppData\\Local\\Packages\\PythonSoftwareFoundation.Python.3.10_qbz5n2kfra8p0\\LocalCache\\local-packages\\Python310\\site-packages\\lightgbm\\sklearn.py:736: UserWarning: 'verbose' argument is deprecated and will be removed in a future release of LightGBM. Pass 'log_evaluation()' callback via 'callbacks' argument instead.\n",
      "  _log_warning(\"'verbose' argument is deprecated and will be removed in a future release of LightGBM. \"\n",
      "\u001b[32m[I 2022-12-10 22:35:52,345]\u001b[0m Trial 41 finished with value: 0.7975460122699386 and parameters: {'lambda_l1': 3.902528903846486, 'lambda_l2': 8.128525442160317, 'learning_rate': 0.0594410143846377, 'num_leaves': 374, 'feature_fraction': 0.7497126085182565, 'bagging_fraction': 0.6238402248135375, 'bagging_freq': 2, 'min_child_samples': 16, 'n_estimators': 19189, 'early_stopping_round': 200}. Best is trial 11 with value: 0.8136503067484663.\u001b[0m\n",
      "C:\\Users\\deepBlue\\AppData\\Local\\Packages\\PythonSoftwareFoundation.Python.3.10_qbz5n2kfra8p0\\LocalCache\\local-packages\\Python310\\site-packages\\lightgbm\\sklearn.py:726: UserWarning: 'early_stopping_rounds' argument is deprecated and will be removed in a future release of LightGBM. Pass 'early_stopping()' callback via 'callbacks' argument instead.\n",
      "  _log_warning(\"'early_stopping_rounds' argument is deprecated and will be removed in a future release of LightGBM. \"\n",
      "C:\\Users\\deepBlue\\AppData\\Local\\Packages\\PythonSoftwareFoundation.Python.3.10_qbz5n2kfra8p0\\LocalCache\\local-packages\\Python310\\site-packages\\lightgbm\\sklearn.py:736: UserWarning: 'verbose' argument is deprecated and will be removed in a future release of LightGBM. Pass 'log_evaluation()' callback via 'callbacks' argument instead.\n",
      "  _log_warning(\"'verbose' argument is deprecated and will be removed in a future release of LightGBM. \"\n",
      "\u001b[32m[I 2022-12-10 22:35:52,785]\u001b[0m Trial 42 finished with value: 0.7937116564417178 and parameters: {'lambda_l1': 5.1583108403369495, 'lambda_l2': 6.48950319412681, 'learning_rate': 0.03917436478155758, 'num_leaves': 339, 'feature_fraction': 0.7116657537957, 'bagging_fraction': 0.9988383471947762, 'bagging_freq': 3, 'min_child_samples': 10, 'n_estimators': 12772, 'early_stopping_round': 200}. Best is trial 11 with value: 0.8136503067484663.\u001b[0m\n",
      "C:\\Users\\deepBlue\\AppData\\Local\\Packages\\PythonSoftwareFoundation.Python.3.10_qbz5n2kfra8p0\\LocalCache\\local-packages\\Python310\\site-packages\\lightgbm\\sklearn.py:726: UserWarning: 'early_stopping_rounds' argument is deprecated and will be removed in a future release of LightGBM. Pass 'early_stopping()' callback via 'callbacks' argument instead.\n",
      "  _log_warning(\"'early_stopping_rounds' argument is deprecated and will be removed in a future release of LightGBM. \"\n",
      "C:\\Users\\deepBlue\\AppData\\Local\\Packages\\PythonSoftwareFoundation.Python.3.10_qbz5n2kfra8p0\\LocalCache\\local-packages\\Python310\\site-packages\\lightgbm\\sklearn.py:736: UserWarning: 'verbose' argument is deprecated and will be removed in a future release of LightGBM. Pass 'log_evaluation()' callback via 'callbacks' argument instead.\n",
      "  _log_warning(\"'verbose' argument is deprecated and will be removed in a future release of LightGBM. \"\n",
      "\u001b[32m[I 2022-12-10 22:35:53,486]\u001b[0m Trial 43 finished with value: 0.8025306748466258 and parameters: {'lambda_l1': 2.091399914059636, 'lambda_l2': 4.937597562520378, 'learning_rate': 0.028701405403469344, 'num_leaves': 511, 'feature_fraction': 0.7943579626925569, 'bagging_fraction': 0.7453069702340327, 'bagging_freq': 2, 'min_child_samples': 23, 'n_estimators': 17700, 'early_stopping_round': 200}. Best is trial 11 with value: 0.8136503067484663.\u001b[0m\n",
      "C:\\Users\\deepBlue\\AppData\\Local\\Packages\\PythonSoftwareFoundation.Python.3.10_qbz5n2kfra8p0\\LocalCache\\local-packages\\Python310\\site-packages\\lightgbm\\sklearn.py:726: UserWarning: 'early_stopping_rounds' argument is deprecated and will be removed in a future release of LightGBM. Pass 'early_stopping()' callback via 'callbacks' argument instead.\n",
      "  _log_warning(\"'early_stopping_rounds' argument is deprecated and will be removed in a future release of LightGBM. \"\n",
      "C:\\Users\\deepBlue\\AppData\\Local\\Packages\\PythonSoftwareFoundation.Python.3.10_qbz5n2kfra8p0\\LocalCache\\local-packages\\Python310\\site-packages\\lightgbm\\sklearn.py:736: UserWarning: 'verbose' argument is deprecated and will be removed in a future release of LightGBM. Pass 'log_evaluation()' callback via 'callbacks' argument instead.\n",
      "  _log_warning(\"'verbose' argument is deprecated and will be removed in a future release of LightGBM. \"\n",
      "\u001b[32m[I 2022-12-10 22:35:53,826]\u001b[0m Trial 44 finished with value: 0.7998466257668712 and parameters: {'lambda_l1': 7.702512209513765, 'lambda_l2': 0.5768902225685952, 'learning_rate': 0.07268043962517327, 'num_leaves': 450, 'feature_fraction': 0.853452327691639, 'bagging_fraction': 0.5722104957194665, 'bagging_freq': 3, 'min_child_samples': 5, 'n_estimators': 16097, 'early_stopping_round': 200}. Best is trial 11 with value: 0.8136503067484663.\u001b[0m\n",
      "C:\\Users\\deepBlue\\AppData\\Local\\Packages\\PythonSoftwareFoundation.Python.3.10_qbz5n2kfra8p0\\LocalCache\\local-packages\\Python310\\site-packages\\lightgbm\\sklearn.py:726: UserWarning: 'early_stopping_rounds' argument is deprecated and will be removed in a future release of LightGBM. Pass 'early_stopping()' callback via 'callbacks' argument instead.\n",
      "  _log_warning(\"'early_stopping_rounds' argument is deprecated and will be removed in a future release of LightGBM. \"\n",
      "C:\\Users\\deepBlue\\AppData\\Local\\Packages\\PythonSoftwareFoundation.Python.3.10_qbz5n2kfra8p0\\LocalCache\\local-packages\\Python310\\site-packages\\lightgbm\\sklearn.py:736: UserWarning: 'verbose' argument is deprecated and will be removed in a future release of LightGBM. Pass 'log_evaluation()' callback via 'callbacks' argument instead.\n",
      "  _log_warning(\"'verbose' argument is deprecated and will be removed in a future release of LightGBM. \"\n",
      "\u001b[32m[I 2022-12-10 22:35:54,409]\u001b[0m Trial 45 finished with value: 0.799079754601227 and parameters: {'lambda_l1': 6.749011776117033, 'lambda_l2': 6.03431429169655, 'learning_rate': 0.04819905051369208, 'num_leaves': 401, 'feature_fraction': 0.9463317483139653, 'bagging_fraction': 0.5100757056368008, 'bagging_freq': 1, 'min_child_samples': 17, 'n_estimators': 8738, 'early_stopping_round': 200}. Best is trial 11 with value: 0.8136503067484663.\u001b[0m\n",
      "C:\\Users\\deepBlue\\AppData\\Local\\Packages\\PythonSoftwareFoundation.Python.3.10_qbz5n2kfra8p0\\LocalCache\\local-packages\\Python310\\site-packages\\lightgbm\\sklearn.py:726: UserWarning: 'early_stopping_rounds' argument is deprecated and will be removed in a future release of LightGBM. Pass 'early_stopping()' callback via 'callbacks' argument instead.\n",
      "  _log_warning(\"'early_stopping_rounds' argument is deprecated and will be removed in a future release of LightGBM. \"\n",
      "C:\\Users\\deepBlue\\AppData\\Local\\Packages\\PythonSoftwareFoundation.Python.3.10_qbz5n2kfra8p0\\LocalCache\\local-packages\\Python310\\site-packages\\lightgbm\\sklearn.py:736: UserWarning: 'verbose' argument is deprecated and will be removed in a future release of LightGBM. Pass 'log_evaluation()' callback via 'callbacks' argument instead.\n",
      "  _log_warning(\"'verbose' argument is deprecated and will be removed in a future release of LightGBM. \"\n",
      "\u001b[32m[I 2022-12-10 22:35:54,745]\u001b[0m Trial 46 finished with value: 0.7925613496932515 and parameters: {'lambda_l1': 4.731803401178639, 'lambda_l2': 1.5792669808053565, 'learning_rate': 0.035861533785678607, 'num_leaves': 316, 'feature_fraction': 0.6494126086570845, 'bagging_fraction': 0.544447751206627, 'bagging_freq': 4, 'min_child_samples': 58, 'n_estimators': 4433, 'early_stopping_round': 200}. Best is trial 11 with value: 0.8136503067484663.\u001b[0m\n",
      "C:\\Users\\deepBlue\\AppData\\Local\\Packages\\PythonSoftwareFoundation.Python.3.10_qbz5n2kfra8p0\\LocalCache\\local-packages\\Python310\\site-packages\\lightgbm\\sklearn.py:726: UserWarning: 'early_stopping_rounds' argument is deprecated and will be removed in a future release of LightGBM. Pass 'early_stopping()' callback via 'callbacks' argument instead.\n",
      "  _log_warning(\"'early_stopping_rounds' argument is deprecated and will be removed in a future release of LightGBM. \"\n",
      "C:\\Users\\deepBlue\\AppData\\Local\\Packages\\PythonSoftwareFoundation.Python.3.10_qbz5n2kfra8p0\\LocalCache\\local-packages\\Python310\\site-packages\\lightgbm\\sklearn.py:736: UserWarning: 'verbose' argument is deprecated and will be removed in a future release of LightGBM. Pass 'log_evaluation()' callback via 'callbacks' argument instead.\n",
      "  _log_warning(\"'verbose' argument is deprecated and will be removed in a future release of LightGBM. \"\n",
      "\u001b[32m[I 2022-12-10 22:35:55,029]\u001b[0m Trial 47 finished with value: 0.7883435582822086 and parameters: {'lambda_l1': 6.10819071656091, 'lambda_l2': 3.9393146651741415, 'learning_rate': 0.0641404014744069, 'num_leaves': 368, 'feature_fraction': 0.7270339997885326, 'bagging_fraction': 0.42942168409917825, 'bagging_freq': 4, 'min_child_samples': 38, 'n_estimators': 16578, 'early_stopping_round': 200}. Best is trial 11 with value: 0.8136503067484663.\u001b[0m\n",
      "C:\\Users\\deepBlue\\AppData\\Local\\Packages\\PythonSoftwareFoundation.Python.3.10_qbz5n2kfra8p0\\LocalCache\\local-packages\\Python310\\site-packages\\lightgbm\\sklearn.py:726: UserWarning: 'early_stopping_rounds' argument is deprecated and will be removed in a future release of LightGBM. Pass 'early_stopping()' callback via 'callbacks' argument instead.\n",
      "  _log_warning(\"'early_stopping_rounds' argument is deprecated and will be removed in a future release of LightGBM. \"\n",
      "C:\\Users\\deepBlue\\AppData\\Local\\Packages\\PythonSoftwareFoundation.Python.3.10_qbz5n2kfra8p0\\LocalCache\\local-packages\\Python310\\site-packages\\lightgbm\\sklearn.py:736: UserWarning: 'verbose' argument is deprecated and will be removed in a future release of LightGBM. Pass 'log_evaluation()' callback via 'callbacks' argument instead.\n",
      "  _log_warning(\"'verbose' argument is deprecated and will be removed in a future release of LightGBM. \"\n",
      "\u001b[32m[I 2022-12-10 22:35:55,506]\u001b[0m Trial 48 finished with value: 0.7914110429447853 and parameters: {'lambda_l1': 3.2177878689200954, 'lambda_l2': 4.930246362512535, 'learning_rate': 0.051815820698737795, 'num_leaves': 391, 'feature_fraction': 0.49579660164175593, 'bagging_fraction': 0.47781013955490004, 'bagging_freq': 3, 'min_child_samples': 29, 'n_estimators': 18103, 'early_stopping_round': 200}. Best is trial 11 with value: 0.8136503067484663.\u001b[0m\n",
      "C:\\Users\\deepBlue\\AppData\\Local\\Packages\\PythonSoftwareFoundation.Python.3.10_qbz5n2kfra8p0\\LocalCache\\local-packages\\Python310\\site-packages\\lightgbm\\sklearn.py:726: UserWarning: 'early_stopping_rounds' argument is deprecated and will be removed in a future release of LightGBM. Pass 'early_stopping()' callback via 'callbacks' argument instead.\n",
      "  _log_warning(\"'early_stopping_rounds' argument is deprecated and will be removed in a future release of LightGBM. \"\n",
      "C:\\Users\\deepBlue\\AppData\\Local\\Packages\\PythonSoftwareFoundation.Python.3.10_qbz5n2kfra8p0\\LocalCache\\local-packages\\Python310\\site-packages\\lightgbm\\sklearn.py:736: UserWarning: 'verbose' argument is deprecated and will be removed in a future release of LightGBM. Pass 'log_evaluation()' callback via 'callbacks' argument instead.\n",
      "  _log_warning(\"'verbose' argument is deprecated and will be removed in a future release of LightGBM. \"\n",
      "\u001b[32m[I 2022-12-10 22:35:55,750]\u001b[0m Trial 49 finished with value: 0.7960122699386503 and parameters: {'lambda_l1': 5.538672284904528, 'lambda_l2': 6.92253703212803, 'learning_rate': 0.08639112714429648, 'num_leaves': 337, 'feature_fraction': 0.44055127691413204, 'bagging_fraction': 0.6041573766084014, 'bagging_freq': 2, 'min_child_samples': 9, 'n_estimators': 19103, 'early_stopping_round': 200}. Best is trial 11 with value: 0.8136503067484663.\u001b[0m\n",
      "C:\\Users\\deepBlue\\AppData\\Local\\Packages\\PythonSoftwareFoundation.Python.3.10_qbz5n2kfra8p0\\LocalCache\\local-packages\\Python310\\site-packages\\lightgbm\\sklearn.py:726: UserWarning: 'early_stopping_rounds' argument is deprecated and will be removed in a future release of LightGBM. Pass 'early_stopping()' callback via 'callbacks' argument instead.\n",
      "  _log_warning(\"'early_stopping_rounds' argument is deprecated and will be removed in a future release of LightGBM. \"\n",
      "C:\\Users\\deepBlue\\AppData\\Local\\Packages\\PythonSoftwareFoundation.Python.3.10_qbz5n2kfra8p0\\LocalCache\\local-packages\\Python310\\site-packages\\lightgbm\\sklearn.py:736: UserWarning: 'verbose' argument is deprecated and will be removed in a future release of LightGBM. Pass 'log_evaluation()' callback via 'callbacks' argument instead.\n",
      "  _log_warning(\"'verbose' argument is deprecated and will be removed in a future release of LightGBM. \"\n",
      "\u001b[32m[I 2022-12-10 22:35:56,113]\u001b[0m Trial 50 finished with value: 0.790260736196319 and parameters: {'lambda_l1': 3.844437337761263, 'lambda_l2': 0.26505216204675874, 'learning_rate': 0.04585985169366124, 'num_leaves': 492, 'feature_fraction': 0.8281215900390253, 'bagging_fraction': 0.8310318111365707, 'bagging_freq': 4, 'min_child_samples': 17, 'n_estimators': 7832, 'early_stopping_round': 200}. Best is trial 11 with value: 0.8136503067484663.\u001b[0m\n",
      "C:\\Users\\deepBlue\\AppData\\Local\\Packages\\PythonSoftwareFoundation.Python.3.10_qbz5n2kfra8p0\\LocalCache\\local-packages\\Python310\\site-packages\\lightgbm\\sklearn.py:726: UserWarning: 'early_stopping_rounds' argument is deprecated and will be removed in a future release of LightGBM. Pass 'early_stopping()' callback via 'callbacks' argument instead.\n",
      "  _log_warning(\"'early_stopping_rounds' argument is deprecated and will be removed in a future release of LightGBM. \"\n",
      "C:\\Users\\deepBlue\\AppData\\Local\\Packages\\PythonSoftwareFoundation.Python.3.10_qbz5n2kfra8p0\\LocalCache\\local-packages\\Python310\\site-packages\\lightgbm\\sklearn.py:736: UserWarning: 'verbose' argument is deprecated and will be removed in a future release of LightGBM. Pass 'log_evaluation()' callback via 'callbacks' argument instead.\n",
      "  _log_warning(\"'verbose' argument is deprecated and will be removed in a future release of LightGBM. \"\n",
      "\u001b[32m[I 2022-12-10 22:35:56,520]\u001b[0m Trial 51 finished with value: 0.7891104294478528 and parameters: {'lambda_l1': 5.668921886033202, 'lambda_l2': 3.583106101798534, 'learning_rate': 0.03526306089553631, 'num_leaves': 298, 'feature_fraction': 0.7012160137116102, 'bagging_fraction': 0.4650382735829435, 'bagging_freq': 3, 'min_child_samples': 12, 'n_estimators': 16913, 'early_stopping_round': 200}. Best is trial 11 with value: 0.8136503067484663.\u001b[0m\n",
      "C:\\Users\\deepBlue\\AppData\\Local\\Packages\\PythonSoftwareFoundation.Python.3.10_qbz5n2kfra8p0\\LocalCache\\local-packages\\Python310\\site-packages\\lightgbm\\sklearn.py:726: UserWarning: 'early_stopping_rounds' argument is deprecated and will be removed in a future release of LightGBM. Pass 'early_stopping()' callback via 'callbacks' argument instead.\n",
      "  _log_warning(\"'early_stopping_rounds' argument is deprecated and will be removed in a future release of LightGBM. \"\n",
      "C:\\Users\\deepBlue\\AppData\\Local\\Packages\\PythonSoftwareFoundation.Python.3.10_qbz5n2kfra8p0\\LocalCache\\local-packages\\Python310\\site-packages\\lightgbm\\sklearn.py:736: UserWarning: 'verbose' argument is deprecated and will be removed in a future release of LightGBM. Pass 'log_evaluation()' callback via 'callbacks' argument instead.\n",
      "  _log_warning(\"'verbose' argument is deprecated and will be removed in a future release of LightGBM. \"\n",
      "\u001b[32m[I 2022-12-10 22:35:57,428]\u001b[0m Trial 52 finished with value: 0.7940950920245399 and parameters: {'lambda_l1': 6.2492954206777585, 'lambda_l2': 2.4578104269752274, 'learning_rate': 0.022269068704952148, 'num_leaves': 263, 'feature_fraction': 0.7679115632601589, 'bagging_fraction': 0.45019365719959586, 'bagging_freq': 3, 'min_child_samples': 8, 'n_estimators': 15150, 'early_stopping_round': 200}. Best is trial 11 with value: 0.8136503067484663.\u001b[0m\n",
      "C:\\Users\\deepBlue\\AppData\\Local\\Packages\\PythonSoftwareFoundation.Python.3.10_qbz5n2kfra8p0\\LocalCache\\local-packages\\Python310\\site-packages\\lightgbm\\sklearn.py:726: UserWarning: 'early_stopping_rounds' argument is deprecated and will be removed in a future release of LightGBM. Pass 'early_stopping()' callback via 'callbacks' argument instead.\n",
      "  _log_warning(\"'early_stopping_rounds' argument is deprecated and will be removed in a future release of LightGBM. \"\n",
      "C:\\Users\\deepBlue\\AppData\\Local\\Packages\\PythonSoftwareFoundation.Python.3.10_qbz5n2kfra8p0\\LocalCache\\local-packages\\Python310\\site-packages\\lightgbm\\sklearn.py:736: UserWarning: 'verbose' argument is deprecated and will be removed in a future release of LightGBM. Pass 'log_evaluation()' callback via 'callbacks' argument instead.\n",
      "  _log_warning(\"'verbose' argument is deprecated and will be removed in a future release of LightGBM. \"\n",
      "\u001b[32m[I 2022-12-10 22:35:58,079]\u001b[0m Trial 53 finished with value: 0.8009969325153374 and parameters: {'lambda_l1': 6.850046055700709, 'lambda_l2': 5.4155196572321325, 'learning_rate': 0.03614572204992062, 'num_leaves': 317, 'feature_fraction': 0.6890762804174444, 'bagging_fraction': 0.4216238105423602, 'bagging_freq': 4, 'min_child_samples': 14, 'n_estimators': 19158, 'early_stopping_round': 200}. Best is trial 11 with value: 0.8136503067484663.\u001b[0m\n",
      "C:\\Users\\deepBlue\\AppData\\Local\\Packages\\PythonSoftwareFoundation.Python.3.10_qbz5n2kfra8p0\\LocalCache\\local-packages\\Python310\\site-packages\\lightgbm\\sklearn.py:726: UserWarning: 'early_stopping_rounds' argument is deprecated and will be removed in a future release of LightGBM. Pass 'early_stopping()' callback via 'callbacks' argument instead.\n",
      "  _log_warning(\"'early_stopping_rounds' argument is deprecated and will be removed in a future release of LightGBM. \"\n",
      "C:\\Users\\deepBlue\\AppData\\Local\\Packages\\PythonSoftwareFoundation.Python.3.10_qbz5n2kfra8p0\\LocalCache\\local-packages\\Python310\\site-packages\\lightgbm\\sklearn.py:736: UserWarning: 'verbose' argument is deprecated and will be removed in a future release of LightGBM. Pass 'log_evaluation()' callback via 'callbacks' argument instead.\n",
      "  _log_warning(\"'verbose' argument is deprecated and will be removed in a future release of LightGBM. \"\n",
      "\u001b[32m[I 2022-12-10 22:35:58,658]\u001b[0m Trial 54 finished with value: 0.7994631901840491 and parameters: {'lambda_l1': 5.997530930494683, 'lambda_l2': 4.188368527135416, 'learning_rate': 0.02870388930222819, 'num_leaves': 240, 'feature_fraction': 0.5813161055385793, 'bagging_fraction': 0.44978499765665736, 'bagging_freq': 2, 'min_child_samples': 100, 'n_estimators': 17822, 'early_stopping_round': 200}. Best is trial 11 with value: 0.8136503067484663.\u001b[0m\n",
      "C:\\Users\\deepBlue\\AppData\\Local\\Packages\\PythonSoftwareFoundation.Python.3.10_qbz5n2kfra8p0\\LocalCache\\local-packages\\Python310\\site-packages\\lightgbm\\sklearn.py:726: UserWarning: 'early_stopping_rounds' argument is deprecated and will be removed in a future release of LightGBM. Pass 'early_stopping()' callback via 'callbacks' argument instead.\n",
      "  _log_warning(\"'early_stopping_rounds' argument is deprecated and will be removed in a future release of LightGBM. \"\n",
      "C:\\Users\\deepBlue\\AppData\\Local\\Packages\\PythonSoftwareFoundation.Python.3.10_qbz5n2kfra8p0\\LocalCache\\local-packages\\Python310\\site-packages\\lightgbm\\sklearn.py:736: UserWarning: 'verbose' argument is deprecated and will be removed in a future release of LightGBM. Pass 'log_evaluation()' callback via 'callbacks' argument instead.\n",
      "  _log_warning(\"'verbose' argument is deprecated and will be removed in a future release of LightGBM. \"\n",
      "\u001b[32m[I 2022-12-10 22:35:59,239]\u001b[0m Trial 55 finished with value: 0.8025306748466258 and parameters: {'lambda_l1': 5.288863470010306, 'lambda_l2': 3.423766984118269, 'learning_rate': 0.05304038845209784, 'num_leaves': 295, 'feature_fraction': 0.46416430225549576, 'bagging_fraction': 0.4048410121547561, 'bagging_freq': 3, 'min_child_samples': 21, 'n_estimators': 13420, 'early_stopping_round': 200}. Best is trial 11 with value: 0.8136503067484663.\u001b[0m\n",
      "C:\\Users\\deepBlue\\AppData\\Local\\Packages\\PythonSoftwareFoundation.Python.3.10_qbz5n2kfra8p0\\LocalCache\\local-packages\\Python310\\site-packages\\lightgbm\\sklearn.py:726: UserWarning: 'early_stopping_rounds' argument is deprecated and will be removed in a future release of LightGBM. Pass 'early_stopping()' callback via 'callbacks' argument instead.\n",
      "  _log_warning(\"'early_stopping_rounds' argument is deprecated and will be removed in a future release of LightGBM. \"\n",
      "C:\\Users\\deepBlue\\AppData\\Local\\Packages\\PythonSoftwareFoundation.Python.3.10_qbz5n2kfra8p0\\LocalCache\\local-packages\\Python310\\site-packages\\lightgbm\\sklearn.py:736: UserWarning: 'verbose' argument is deprecated and will be removed in a future release of LightGBM. Pass 'log_evaluation()' callback via 'callbacks' argument instead.\n",
      "  _log_warning(\"'verbose' argument is deprecated and will be removed in a future release of LightGBM. \"\n",
      "\u001b[32m[I 2022-12-10 22:35:59,991]\u001b[0m Trial 56 finished with value: 0.8086656441717791 and parameters: {'lambda_l1': 4.944934836082064, 'lambda_l2': 1.9454020105501226, 'learning_rate': 0.03848293356994058, 'num_leaves': 379, 'feature_fraction': 0.7295755212427878, 'bagging_fraction': 0.5460263114280954, 'bagging_freq': 5, 'min_child_samples': 5, 'n_estimators': 19920, 'early_stopping_round': 200}. Best is trial 11 with value: 0.8136503067484663.\u001b[0m\n",
      "C:\\Users\\deepBlue\\AppData\\Local\\Packages\\PythonSoftwareFoundation.Python.3.10_qbz5n2kfra8p0\\LocalCache\\local-packages\\Python310\\site-packages\\lightgbm\\sklearn.py:726: UserWarning: 'early_stopping_rounds' argument is deprecated and will be removed in a future release of LightGBM. Pass 'early_stopping()' callback via 'callbacks' argument instead.\n",
      "  _log_warning(\"'early_stopping_rounds' argument is deprecated and will be removed in a future release of LightGBM. \"\n",
      "C:\\Users\\deepBlue\\AppData\\Local\\Packages\\PythonSoftwareFoundation.Python.3.10_qbz5n2kfra8p0\\LocalCache\\local-packages\\Python310\\site-packages\\lightgbm\\sklearn.py:736: UserWarning: 'verbose' argument is deprecated and will be removed in a future release of LightGBM. Pass 'log_evaluation()' callback via 'callbacks' argument instead.\n",
      "  _log_warning(\"'verbose' argument is deprecated and will be removed in a future release of LightGBM. \"\n",
      "\u001b[32m[I 2022-12-10 22:36:00,335]\u001b[0m Trial 57 finished with value: 0.7994631901840491 and parameters: {'lambda_l1': 2.8980803882880313, 'lambda_l2': 1.9683459668117478, 'learning_rate': 0.03965915272750868, 'num_leaves': 418, 'feature_fraction': 0.7877227871277235, 'bagging_fraction': 0.6516312208878328, 'bagging_freq': 6, 'min_child_samples': 87, 'n_estimators': 19985, 'early_stopping_round': 200}. Best is trial 11 with value: 0.8136503067484663.\u001b[0m\n",
      "C:\\Users\\deepBlue\\AppData\\Local\\Packages\\PythonSoftwareFoundation.Python.3.10_qbz5n2kfra8p0\\LocalCache\\local-packages\\Python310\\site-packages\\lightgbm\\sklearn.py:726: UserWarning: 'early_stopping_rounds' argument is deprecated and will be removed in a future release of LightGBM. Pass 'early_stopping()' callback via 'callbacks' argument instead.\n",
      "  _log_warning(\"'early_stopping_rounds' argument is deprecated and will be removed in a future release of LightGBM. \"\n",
      "C:\\Users\\deepBlue\\AppData\\Local\\Packages\\PythonSoftwareFoundation.Python.3.10_qbz5n2kfra8p0\\LocalCache\\local-packages\\Python310\\site-packages\\lightgbm\\sklearn.py:736: UserWarning: 'verbose' argument is deprecated and will be removed in a future release of LightGBM. Pass 'log_evaluation()' callback via 'callbacks' argument instead.\n",
      "  _log_warning(\"'verbose' argument is deprecated and will be removed in a future release of LightGBM. \"\n",
      "\u001b[32m[I 2022-12-10 22:36:01,116]\u001b[0m Trial 58 finished with value: 0.7956288343558282 and parameters: {'lambda_l1': 1.5929477069819966, 'lambda_l2': 1.4779510809189575, 'learning_rate': 0.03102593685159996, 'num_leaves': 383, 'feature_fraction': 0.7251501932844714, 'bagging_fraction': 0.5482467233592474, 'bagging_freq': 5, 'min_child_samples': 6, 'n_estimators': 19252, 'early_stopping_round': 200}. Best is trial 11 with value: 0.8136503067484663.\u001b[0m\n",
      "C:\\Users\\deepBlue\\AppData\\Local\\Packages\\PythonSoftwareFoundation.Python.3.10_qbz5n2kfra8p0\\LocalCache\\local-packages\\Python310\\site-packages\\lightgbm\\sklearn.py:726: UserWarning: 'early_stopping_rounds' argument is deprecated and will be removed in a future release of LightGBM. Pass 'early_stopping()' callback via 'callbacks' argument instead.\n",
      "  _log_warning(\"'early_stopping_rounds' argument is deprecated and will be removed in a future release of LightGBM. \"\n",
      "C:\\Users\\deepBlue\\AppData\\Local\\Packages\\PythonSoftwareFoundation.Python.3.10_qbz5n2kfra8p0\\LocalCache\\local-packages\\Python310\\site-packages\\lightgbm\\sklearn.py:736: UserWarning: 'verbose' argument is deprecated and will be removed in a future release of LightGBM. Pass 'log_evaluation()' callback via 'callbacks' argument instead.\n",
      "  _log_warning(\"'verbose' argument is deprecated and will be removed in a future release of LightGBM. \"\n",
      "\u001b[32m[I 2022-12-10 22:36:02,093]\u001b[0m Trial 59 finished with value: 0.7963957055214724 and parameters: {'lambda_l1': 4.143065707705858, 'lambda_l2': 3.0688284765162575, 'learning_rate': 0.02533602768579903, 'num_leaves': 349, 'feature_fraction': 0.6435258480724709, 'bagging_fraction': 0.4924597660665926, 'bagging_freq': 1, 'min_child_samples': 12, 'n_estimators': 16386, 'early_stopping_round': 200}. Best is trial 11 with value: 0.8136503067484663.\u001b[0m\n",
      "C:\\Users\\deepBlue\\AppData\\Local\\Packages\\PythonSoftwareFoundation.Python.3.10_qbz5n2kfra8p0\\LocalCache\\local-packages\\Python310\\site-packages\\lightgbm\\sklearn.py:726: UserWarning: 'early_stopping_rounds' argument is deprecated and will be removed in a future release of LightGBM. Pass 'early_stopping()' callback via 'callbacks' argument instead.\n",
      "  _log_warning(\"'early_stopping_rounds' argument is deprecated and will be removed in a future release of LightGBM. \"\n",
      "C:\\Users\\deepBlue\\AppData\\Local\\Packages\\PythonSoftwareFoundation.Python.3.10_qbz5n2kfra8p0\\LocalCache\\local-packages\\Python310\\site-packages\\lightgbm\\sklearn.py:736: UserWarning: 'verbose' argument is deprecated and will be removed in a future release of LightGBM. Pass 'log_evaluation()' callback via 'callbacks' argument instead.\n",
      "  _log_warning(\"'verbose' argument is deprecated and will be removed in a future release of LightGBM. \"\n",
      "\u001b[32m[I 2022-12-10 22:36:02,659]\u001b[0m Trial 60 finished with value: 0.8055981595092024 and parameters: {'lambda_l1': 7.484981352789727, 'lambda_l2': 4.630617955758632, 'learning_rate': 0.05676926689328708, 'num_leaves': 453, 'feature_fraction': 0.6790876674920339, 'bagging_fraction': 0.5146165572552791, 'bagging_freq': 4, 'min_child_samples': 24, 'n_estimators': 18210, 'early_stopping_round': 200}. Best is trial 11 with value: 0.8136503067484663.\u001b[0m\n",
      "C:\\Users\\deepBlue\\AppData\\Local\\Packages\\PythonSoftwareFoundation.Python.3.10_qbz5n2kfra8p0\\LocalCache\\local-packages\\Python310\\site-packages\\lightgbm\\sklearn.py:726: UserWarning: 'early_stopping_rounds' argument is deprecated and will be removed in a future release of LightGBM. Pass 'early_stopping()' callback via 'callbacks' argument instead.\n",
      "  _log_warning(\"'early_stopping_rounds' argument is deprecated and will be removed in a future release of LightGBM. \"\n",
      "C:\\Users\\deepBlue\\AppData\\Local\\Packages\\PythonSoftwareFoundation.Python.3.10_qbz5n2kfra8p0\\LocalCache\\local-packages\\Python310\\site-packages\\lightgbm\\sklearn.py:736: UserWarning: 'verbose' argument is deprecated and will be removed in a future release of LightGBM. Pass 'log_evaluation()' callback via 'callbacks' argument instead.\n",
      "  _log_warning(\"'verbose' argument is deprecated and will be removed in a future release of LightGBM. \"\n",
      "\u001b[32m[I 2022-12-10 22:36:03,222]\u001b[0m Trial 61 finished with value: 0.8071319018404908 and parameters: {'lambda_l1': 4.780306212285383, 'lambda_l2': 2.704235730894838, 'learning_rate': 0.04358488197156924, 'num_leaves': 405, 'feature_fraction': 0.7696861904106073, 'bagging_fraction': 0.4515407577249612, 'bagging_freq': 5, 'min_child_samples': 9, 'n_estimators': 17282, 'early_stopping_round': 200}. Best is trial 11 with value: 0.8136503067484663.\u001b[0m\n",
      "C:\\Users\\deepBlue\\AppData\\Local\\Packages\\PythonSoftwareFoundation.Python.3.10_qbz5n2kfra8p0\\LocalCache\\local-packages\\Python310\\site-packages\\lightgbm\\sklearn.py:726: UserWarning: 'early_stopping_rounds' argument is deprecated and will be removed in a future release of LightGBM. Pass 'early_stopping()' callback via 'callbacks' argument instead.\n",
      "  _log_warning(\"'early_stopping_rounds' argument is deprecated and will be removed in a future release of LightGBM. \"\n",
      "C:\\Users\\deepBlue\\AppData\\Local\\Packages\\PythonSoftwareFoundation.Python.3.10_qbz5n2kfra8p0\\LocalCache\\local-packages\\Python310\\site-packages\\lightgbm\\sklearn.py:736: UserWarning: 'verbose' argument is deprecated and will be removed in a future release of LightGBM. Pass 'log_evaluation()' callback via 'callbacks' argument instead.\n",
      "  _log_warning(\"'verbose' argument is deprecated and will be removed in a future release of LightGBM. \"\n",
      "\u001b[32m[I 2022-12-10 22:36:03,817]\u001b[0m Trial 62 finished with value: 0.8006134969325154 and parameters: {'lambda_l1': 5.540109499306824, 'lambda_l2': 2.086720664596146, 'learning_rate': 0.0341133849282918, 'num_leaves': 304, 'feature_fraction': 0.41914820076406323, 'bagging_fraction': 0.5280899320742937, 'bagging_freq': 5, 'min_child_samples': 15, 'n_estimators': 19324, 'early_stopping_round': 200}. Best is trial 11 with value: 0.8136503067484663.\u001b[0m\n",
      "C:\\Users\\deepBlue\\AppData\\Local\\Packages\\PythonSoftwareFoundation.Python.3.10_qbz5n2kfra8p0\\LocalCache\\local-packages\\Python310\\site-packages\\lightgbm\\sklearn.py:726: UserWarning: 'early_stopping_rounds' argument is deprecated and will be removed in a future release of LightGBM. Pass 'early_stopping()' callback via 'callbacks' argument instead.\n",
      "  _log_warning(\"'early_stopping_rounds' argument is deprecated and will be removed in a future release of LightGBM. \"\n",
      "C:\\Users\\deepBlue\\AppData\\Local\\Packages\\PythonSoftwareFoundation.Python.3.10_qbz5n2kfra8p0\\LocalCache\\local-packages\\Python310\\site-packages\\lightgbm\\sklearn.py:736: UserWarning: 'verbose' argument is deprecated and will be removed in a future release of LightGBM. Pass 'log_evaluation()' callback via 'callbacks' argument instead.\n",
      "  _log_warning(\"'verbose' argument is deprecated and will be removed in a future release of LightGBM. \"\n",
      "\u001b[32m[I 2022-12-10 22:36:04,378]\u001b[0m Trial 63 finished with value: 0.80329754601227 and parameters: {'lambda_l1': 6.686249766906382, 'lambda_l2': 6.0409663677681475, 'learning_rate': 0.04031252257785981, 'num_leaves': 363, 'feature_fraction': 0.7185990977306186, 'bagging_fraction': 0.42231707801142737, 'bagging_freq': 4, 'min_child_samples': 5, 'n_estimators': 19958, 'early_stopping_round': 200}. Best is trial 11 with value: 0.8136503067484663.\u001b[0m\n",
      "C:\\Users\\deepBlue\\AppData\\Local\\Packages\\PythonSoftwareFoundation.Python.3.10_qbz5n2kfra8p0\\LocalCache\\local-packages\\Python310\\site-packages\\lightgbm\\sklearn.py:726: UserWarning: 'early_stopping_rounds' argument is deprecated and will be removed in a future release of LightGBM. Pass 'early_stopping()' callback via 'callbacks' argument instead.\n",
      "  _log_warning(\"'early_stopping_rounds' argument is deprecated and will be removed in a future release of LightGBM. \"\n",
      "C:\\Users\\deepBlue\\AppData\\Local\\Packages\\PythonSoftwareFoundation.Python.3.10_qbz5n2kfra8p0\\LocalCache\\local-packages\\Python310\\site-packages\\lightgbm\\sklearn.py:736: UserWarning: 'verbose' argument is deprecated and will be removed in a future release of LightGBM. Pass 'log_evaluation()' callback via 'callbacks' argument instead.\n",
      "  _log_warning(\"'verbose' argument is deprecated and will be removed in a future release of LightGBM. \"\n",
      "\u001b[32m[I 2022-12-10 22:36:04,795]\u001b[0m Trial 64 finished with value: 0.8098159509202454 and parameters: {'lambda_l1': 7.192343670702348, 'lambda_l2': 1.1284859214051182, 'learning_rate': 0.049054509410575785, 'num_leaves': 331, 'feature_fraction': 0.7463785548506244, 'bagging_fraction': 0.4012180202812087, 'bagging_freq': 6, 'min_child_samples': 20, 'n_estimators': 18603, 'early_stopping_round': 200}. Best is trial 11 with value: 0.8136503067484663.\u001b[0m\n",
      "C:\\Users\\deepBlue\\AppData\\Local\\Packages\\PythonSoftwareFoundation.Python.3.10_qbz5n2kfra8p0\\LocalCache\\local-packages\\Python310\\site-packages\\lightgbm\\sklearn.py:726: UserWarning: 'early_stopping_rounds' argument is deprecated and will be removed in a future release of LightGBM. Pass 'early_stopping()' callback via 'callbacks' argument instead.\n",
      "  _log_warning(\"'early_stopping_rounds' argument is deprecated and will be removed in a future release of LightGBM. \"\n",
      "C:\\Users\\deepBlue\\AppData\\Local\\Packages\\PythonSoftwareFoundation.Python.3.10_qbz5n2kfra8p0\\LocalCache\\local-packages\\Python310\\site-packages\\lightgbm\\sklearn.py:736: UserWarning: 'verbose' argument is deprecated and will be removed in a future release of LightGBM. Pass 'log_evaluation()' callback via 'callbacks' argument instead.\n",
      "  _log_warning(\"'verbose' argument is deprecated and will be removed in a future release of LightGBM. \"\n",
      "\u001b[32m[I 2022-12-10 22:36:05,302]\u001b[0m Trial 65 finished with value: 0.8025306748466258 and parameters: {'lambda_l1': 7.225019410051004, 'lambda_l2': 1.0866720044277733, 'learning_rate': 0.050248387801275246, 'num_leaves': 329, 'feature_fraction': 0.7375175259060772, 'bagging_fraction': 0.7359986396546727, 'bagging_freq': 7, 'min_child_samples': 19, 'n_estimators': 18604, 'early_stopping_round': 200}. Best is trial 11 with value: 0.8136503067484663.\u001b[0m\n",
      "C:\\Users\\deepBlue\\AppData\\Local\\Packages\\PythonSoftwareFoundation.Python.3.10_qbz5n2kfra8p0\\LocalCache\\local-packages\\Python310\\site-packages\\lightgbm\\sklearn.py:726: UserWarning: 'early_stopping_rounds' argument is deprecated and will be removed in a future release of LightGBM. Pass 'early_stopping()' callback via 'callbacks' argument instead.\n",
      "  _log_warning(\"'early_stopping_rounds' argument is deprecated and will be removed in a future release of LightGBM. \"\n",
      "C:\\Users\\deepBlue\\AppData\\Local\\Packages\\PythonSoftwareFoundation.Python.3.10_qbz5n2kfra8p0\\LocalCache\\local-packages\\Python310\\site-packages\\lightgbm\\sklearn.py:736: UserWarning: 'verbose' argument is deprecated and will be removed in a future release of LightGBM. Pass 'log_evaluation()' callback via 'callbacks' argument instead.\n",
      "  _log_warning(\"'verbose' argument is deprecated and will be removed in a future release of LightGBM. \"\n",
      "\u001b[32m[I 2022-12-10 22:36:05,599]\u001b[0m Trial 66 finished with value: 0.7925613496932515 and parameters: {'lambda_l1': 7.753235637301239, 'lambda_l2': 0.379481397783049, 'learning_rate': 0.04510905336620861, 'num_leaves': 264, 'feature_fraction': 0.8959007488188528, 'bagging_fraction': 0.4032404006245798, 'bagging_freq': 3, 'min_child_samples': 26, 'n_estimators': 15613, 'early_stopping_round': 200}. Best is trial 11 with value: 0.8136503067484663.\u001b[0m\n",
      "C:\\Users\\deepBlue\\AppData\\Local\\Packages\\PythonSoftwareFoundation.Python.3.10_qbz5n2kfra8p0\\LocalCache\\local-packages\\Python310\\site-packages\\lightgbm\\sklearn.py:726: UserWarning: 'early_stopping_rounds' argument is deprecated and will be removed in a future release of LightGBM. Pass 'early_stopping()' callback via 'callbacks' argument instead.\n",
      "  _log_warning(\"'early_stopping_rounds' argument is deprecated and will be removed in a future release of LightGBM. \"\n",
      "C:\\Users\\deepBlue\\AppData\\Local\\Packages\\PythonSoftwareFoundation.Python.3.10_qbz5n2kfra8p0\\LocalCache\\local-packages\\Python310\\site-packages\\lightgbm\\sklearn.py:736: UserWarning: 'verbose' argument is deprecated and will be removed in a future release of LightGBM. Pass 'log_evaluation()' callback via 'callbacks' argument instead.\n",
      "  _log_warning(\"'verbose' argument is deprecated and will be removed in a future release of LightGBM. \"\n",
      "\u001b[32m[I 2022-12-10 22:36:05,928]\u001b[0m Trial 67 finished with value: 0.7994631901840491 and parameters: {'lambda_l1': 0.2033585236719455, 'lambda_l2': 0.8373795863863925, 'learning_rate': 0.03813560531956538, 'num_leaves': 434, 'feature_fraction': 0.824557919725953, 'bagging_fraction': 0.5842311022304082, 'bagging_freq': 6, 'min_child_samples': 48, 'n_estimators': 18120, 'early_stopping_round': 200}. Best is trial 11 with value: 0.8136503067484663.\u001b[0m\n",
      "C:\\Users\\deepBlue\\AppData\\Local\\Packages\\PythonSoftwareFoundation.Python.3.10_qbz5n2kfra8p0\\LocalCache\\local-packages\\Python310\\site-packages\\lightgbm\\sklearn.py:726: UserWarning: 'early_stopping_rounds' argument is deprecated and will be removed in a future release of LightGBM. Pass 'early_stopping()' callback via 'callbacks' argument instead.\n",
      "  _log_warning(\"'early_stopping_rounds' argument is deprecated and will be removed in a future release of LightGBM. \"\n",
      "C:\\Users\\deepBlue\\AppData\\Local\\Packages\\PythonSoftwareFoundation.Python.3.10_qbz5n2kfra8p0\\LocalCache\\local-packages\\Python310\\site-packages\\lightgbm\\sklearn.py:736: UserWarning: 'verbose' argument is deprecated and will be removed in a future release of LightGBM. Pass 'log_evaluation()' callback via 'callbacks' argument instead.\n",
      "  _log_warning(\"'verbose' argument is deprecated and will be removed in a future release of LightGBM. \"\n",
      "\u001b[32m[I 2022-12-10 22:36:06,452]\u001b[0m Trial 68 finished with value: 0.8025306748466258 and parameters: {'lambda_l1': 6.416861244401189, 'lambda_l2': 0.037279510516388115, 'learning_rate': 0.020445332148942896, 'num_leaves': 240, 'feature_fraction': 0.5430323529442129, 'bagging_fraction': 0.4298129863621386, 'bagging_freq': 2, 'min_child_samples': 12, 'n_estimators': 17338, 'early_stopping_round': 200}. Best is trial 11 with value: 0.8136503067484663.\u001b[0m\n",
      "C:\\Users\\deepBlue\\AppData\\Local\\Packages\\PythonSoftwareFoundation.Python.3.10_qbz5n2kfra8p0\\LocalCache\\local-packages\\Python310\\site-packages\\lightgbm\\sklearn.py:726: UserWarning: 'early_stopping_rounds' argument is deprecated and will be removed in a future release of LightGBM. Pass 'early_stopping()' callback via 'callbacks' argument instead.\n",
      "  _log_warning(\"'early_stopping_rounds' argument is deprecated and will be removed in a future release of LightGBM. \"\n",
      "C:\\Users\\deepBlue\\AppData\\Local\\Packages\\PythonSoftwareFoundation.Python.3.10_qbz5n2kfra8p0\\LocalCache\\local-packages\\Python310\\site-packages\\lightgbm\\sklearn.py:736: UserWarning: 'verbose' argument is deprecated and will be removed in a future release of LightGBM. Pass 'log_evaluation()' callback via 'callbacks' argument instead.\n",
      "  _log_warning(\"'verbose' argument is deprecated and will be removed in a future release of LightGBM. \"\n",
      "\u001b[32m[I 2022-12-10 22:36:07,106]\u001b[0m Trial 69 finished with value: 0.799079754601227 and parameters: {'lambda_l1': 5.910701576425204, 'lambda_l2': 4.006158601064341, 'learning_rate': 0.012313110582744511, 'num_leaves': 274, 'feature_fraction': 0.8696970377262605, 'bagging_fraction': 0.48682738361029537, 'bagging_freq': 7, 'min_child_samples': 35, 'n_estimators': 14253, 'early_stopping_round': 200}. Best is trial 11 with value: 0.8136503067484663.\u001b[0m\n",
      "C:\\Users\\deepBlue\\AppData\\Local\\Packages\\PythonSoftwareFoundation.Python.3.10_qbz5n2kfra8p0\\LocalCache\\local-packages\\Python310\\site-packages\\lightgbm\\sklearn.py:726: UserWarning: 'early_stopping_rounds' argument is deprecated and will be removed in a future release of LightGBM. Pass 'early_stopping()' callback via 'callbacks' argument instead.\n",
      "  _log_warning(\"'early_stopping_rounds' argument is deprecated and will be removed in a future release of LightGBM. \"\n",
      "C:\\Users\\deepBlue\\AppData\\Local\\Packages\\PythonSoftwareFoundation.Python.3.10_qbz5n2kfra8p0\\LocalCache\\local-packages\\Python310\\site-packages\\lightgbm\\sklearn.py:736: UserWarning: 'verbose' argument is deprecated and will be removed in a future release of LightGBM. Pass 'log_evaluation()' callback via 'callbacks' argument instead.\n",
      "  _log_warning(\"'verbose' argument is deprecated and will be removed in a future release of LightGBM. \"\n",
      "\u001b[32m[I 2022-12-10 22:36:07,526]\u001b[0m Trial 70 finished with value: 0.8006134969325154 and parameters: {'lambda_l1': 4.885499560486002, 'lambda_l2': 1.3155177628568056, 'learning_rate': 0.04880931562703261, 'num_leaves': 380, 'feature_fraction': 0.8085089998686747, 'bagging_fraction': 0.5578562068437383, 'bagging_freq': 6, 'min_child_samples': 20, 'n_estimators': 18905, 'early_stopping_round': 200}. Best is trial 11 with value: 0.8136503067484663.\u001b[0m\n",
      "C:\\Users\\deepBlue\\AppData\\Local\\Packages\\PythonSoftwareFoundation.Python.3.10_qbz5n2kfra8p0\\LocalCache\\local-packages\\Python310\\site-packages\\lightgbm\\sklearn.py:726: UserWarning: 'early_stopping_rounds' argument is deprecated and will be removed in a future release of LightGBM. Pass 'early_stopping()' callback via 'callbacks' argument instead.\n",
      "  _log_warning(\"'early_stopping_rounds' argument is deprecated and will be removed in a future release of LightGBM. \"\n",
      "C:\\Users\\deepBlue\\AppData\\Local\\Packages\\PythonSoftwareFoundation.Python.3.10_qbz5n2kfra8p0\\LocalCache\\local-packages\\Python310\\site-packages\\lightgbm\\sklearn.py:736: UserWarning: 'verbose' argument is deprecated and will be removed in a future release of LightGBM. Pass 'log_evaluation()' callback via 'callbacks' argument instead.\n",
      "  _log_warning(\"'verbose' argument is deprecated and will be removed in a future release of LightGBM. \"\n",
      "\u001b[32m[I 2022-12-10 22:36:07,999]\u001b[0m Trial 71 finished with value: 0.7917944785276073 and parameters: {'lambda_l1': 7.16001550632622, 'lambda_l2': 2.6050653225005584, 'learning_rate': 0.03195597372720806, 'num_leaves': 344, 'feature_fraction': 0.7589515845710808, 'bagging_fraction': 0.46240604355136905, 'bagging_freq': 5, 'min_child_samples': 8, 'n_estimators': 19340, 'early_stopping_round': 200}. Best is trial 11 with value: 0.8136503067484663.\u001b[0m\n",
      "C:\\Users\\deepBlue\\AppData\\Local\\Packages\\PythonSoftwareFoundation.Python.3.10_qbz5n2kfra8p0\\LocalCache\\local-packages\\Python310\\site-packages\\lightgbm\\sklearn.py:726: UserWarning: 'early_stopping_rounds' argument is deprecated and will be removed in a future release of LightGBM. Pass 'early_stopping()' callback via 'callbacks' argument instead.\n",
      "  _log_warning(\"'early_stopping_rounds' argument is deprecated and will be removed in a future release of LightGBM. \"\n",
      "C:\\Users\\deepBlue\\AppData\\Local\\Packages\\PythonSoftwareFoundation.Python.3.10_qbz5n2kfra8p0\\LocalCache\\local-packages\\Python310\\site-packages\\lightgbm\\sklearn.py:736: UserWarning: 'verbose' argument is deprecated and will be removed in a future release of LightGBM. Pass 'log_evaluation()' callback via 'callbacks' argument instead.\n",
      "  _log_warning(\"'verbose' argument is deprecated and will be removed in a future release of LightGBM. \"\n",
      "\u001b[32m[I 2022-12-10 22:36:08,318]\u001b[0m Trial 72 finished with value: 0.7910276073619632 and parameters: {'lambda_l1': 6.127983607049492, 'lambda_l2': 1.774871095556918, 'learning_rate': 0.04310644333500861, 'num_leaves': 317, 'feature_fraction': 0.7040234102836189, 'bagging_fraction': 0.41464422714160604, 'bagging_freq': 6, 'min_child_samples': 14, 'n_estimators': 18635, 'early_stopping_round': 200}. Best is trial 11 with value: 0.8136503067484663.\u001b[0m\n",
      "C:\\Users\\deepBlue\\AppData\\Local\\Packages\\PythonSoftwareFoundation.Python.3.10_qbz5n2kfra8p0\\LocalCache\\local-packages\\Python310\\site-packages\\lightgbm\\sklearn.py:726: UserWarning: 'early_stopping_rounds' argument is deprecated and will be removed in a future release of LightGBM. Pass 'early_stopping()' callback via 'callbacks' argument instead.\n",
      "  _log_warning(\"'early_stopping_rounds' argument is deprecated and will be removed in a future release of LightGBM. \"\n",
      "C:\\Users\\deepBlue\\AppData\\Local\\Packages\\PythonSoftwareFoundation.Python.3.10_qbz5n2kfra8p0\\LocalCache\\local-packages\\Python310\\site-packages\\lightgbm\\sklearn.py:736: UserWarning: 'verbose' argument is deprecated and will be removed in a future release of LightGBM. Pass 'log_evaluation()' callback via 'callbacks' argument instead.\n",
      "  _log_warning(\"'verbose' argument is deprecated and will be removed in a future release of LightGBM. \"\n",
      "\u001b[32m[I 2022-12-10 22:36:08,696]\u001b[0m Trial 73 finished with value: 0.8048312883435583 and parameters: {'lambda_l1': 5.298982930802347, 'lambda_l2': 2.1214327302026206, 'learning_rate': 0.0571127888330425, 'num_leaves': 360, 'feature_fraction': 0.6645906816645647, 'bagging_fraction': 0.4389367010883758, 'bagging_freq': 4, 'min_child_samples': 10, 'n_estimators': 11947, 'early_stopping_round': 200}. Best is trial 11 with value: 0.8136503067484663.\u001b[0m\n",
      "C:\\Users\\deepBlue\\AppData\\Local\\Packages\\PythonSoftwareFoundation.Python.3.10_qbz5n2kfra8p0\\LocalCache\\local-packages\\Python310\\site-packages\\lightgbm\\sklearn.py:726: UserWarning: 'early_stopping_rounds' argument is deprecated and will be removed in a future release of LightGBM. Pass 'early_stopping()' callback via 'callbacks' argument instead.\n",
      "  _log_warning(\"'early_stopping_rounds' argument is deprecated and will be removed in a future release of LightGBM. \"\n",
      "C:\\Users\\deepBlue\\AppData\\Local\\Packages\\PythonSoftwareFoundation.Python.3.10_qbz5n2kfra8p0\\LocalCache\\local-packages\\Python310\\site-packages\\lightgbm\\sklearn.py:736: UserWarning: 'verbose' argument is deprecated and will be removed in a future release of LightGBM. Pass 'log_evaluation()' callback via 'callbacks' argument instead.\n",
      "  _log_warning(\"'verbose' argument is deprecated and will be removed in a future release of LightGBM. \"\n",
      "\u001b[32m[I 2022-12-10 22:36:09,214]\u001b[0m Trial 74 finished with value: 0.8013803680981595 and parameters: {'lambda_l1': 6.579669709923688, 'lambda_l2': 5.683795430478137, 'learning_rate': 0.03817607739977141, 'num_leaves': 286, 'feature_fraction': 0.7411161348855595, 'bagging_fraction': 0.499032074084062, 'bagging_freq': 5, 'min_child_samples': 7, 'n_estimators': 17876, 'early_stopping_round': 200}. Best is trial 11 with value: 0.8136503067484663.\u001b[0m\n",
      "C:\\Users\\deepBlue\\AppData\\Local\\Packages\\PythonSoftwareFoundation.Python.3.10_qbz5n2kfra8p0\\LocalCache\\local-packages\\Python310\\site-packages\\lightgbm\\sklearn.py:726: UserWarning: 'early_stopping_rounds' argument is deprecated and will be removed in a future release of LightGBM. Pass 'early_stopping()' callback via 'callbacks' argument instead.\n",
      "  _log_warning(\"'early_stopping_rounds' argument is deprecated and will be removed in a future release of LightGBM. \"\n",
      "C:\\Users\\deepBlue\\AppData\\Local\\Packages\\PythonSoftwareFoundation.Python.3.10_qbz5n2kfra8p0\\LocalCache\\local-packages\\Python310\\site-packages\\lightgbm\\sklearn.py:736: UserWarning: 'verbose' argument is deprecated and will be removed in a future release of LightGBM. Pass 'log_evaluation()' callback via 'callbacks' argument instead.\n",
      "  _log_warning(\"'verbose' argument is deprecated and will be removed in a future release of LightGBM. \"\n",
      "\u001b[32m[I 2022-12-10 22:36:09,899]\u001b[0m Trial 75 finished with value: 0.7910276073619632 and parameters: {'lambda_l1': 8.117568780377027, 'lambda_l2': 3.1333860079511653, 'learning_rate': 0.02870325683848468, 'num_leaves': 329, 'feature_fraction': 0.6346793835923781, 'bagging_fraction': 0.4639433145747731, 'bagging_freq': 4, 'min_child_samples': 17, 'n_estimators': 19463, 'early_stopping_round': 200}. Best is trial 11 with value: 0.8136503067484663.\u001b[0m\n",
      "C:\\Users\\deepBlue\\AppData\\Local\\Packages\\PythonSoftwareFoundation.Python.3.10_qbz5n2kfra8p0\\LocalCache\\local-packages\\Python310\\site-packages\\lightgbm\\sklearn.py:726: UserWarning: 'early_stopping_rounds' argument is deprecated and will be removed in a future release of LightGBM. Pass 'early_stopping()' callback via 'callbacks' argument instead.\n",
      "  _log_warning(\"'early_stopping_rounds' argument is deprecated and will be removed in a future release of LightGBM. \"\n",
      "C:\\Users\\deepBlue\\AppData\\Local\\Packages\\PythonSoftwareFoundation.Python.3.10_qbz5n2kfra8p0\\LocalCache\\local-packages\\Python310\\site-packages\\lightgbm\\sklearn.py:736: UserWarning: 'verbose' argument is deprecated and will be removed in a future release of LightGBM. Pass 'log_evaluation()' callback via 'callbacks' argument instead.\n",
      "  _log_warning(\"'verbose' argument is deprecated and will be removed in a future release of LightGBM. \"\n",
      "\u001b[32m[I 2022-12-10 22:36:10,566]\u001b[0m Trial 76 finished with value: 0.8075153374233128 and parameters: {'lambda_l1': 5.686045825701242, 'lambda_l2': 0.5574007547701438, 'learning_rate': 0.016092628899998622, 'num_leaves': 406, 'feature_fraction': 0.601437880874799, 'bagging_fraction': 0.40077994948809087, 'bagging_freq': 5, 'min_child_samples': 12, 'n_estimators': 16898, 'early_stopping_round': 200}. Best is trial 11 with value: 0.8136503067484663.\u001b[0m\n",
      "C:\\Users\\deepBlue\\AppData\\Local\\Packages\\PythonSoftwareFoundation.Python.3.10_qbz5n2kfra8p0\\LocalCache\\local-packages\\Python310\\site-packages\\lightgbm\\sklearn.py:726: UserWarning: 'early_stopping_rounds' argument is deprecated and will be removed in a future release of LightGBM. Pass 'early_stopping()' callback via 'callbacks' argument instead.\n",
      "  _log_warning(\"'early_stopping_rounds' argument is deprecated and will be removed in a future release of LightGBM. \"\n",
      "C:\\Users\\deepBlue\\AppData\\Local\\Packages\\PythonSoftwareFoundation.Python.3.10_qbz5n2kfra8p0\\LocalCache\\local-packages\\Python310\\site-packages\\lightgbm\\sklearn.py:736: UserWarning: 'verbose' argument is deprecated and will be removed in a future release of LightGBM. Pass 'log_evaluation()' callback via 'callbacks' argument instead.\n",
      "  _log_warning(\"'verbose' argument is deprecated and will be removed in a future release of LightGBM. \"\n",
      "\u001b[32m[I 2022-12-10 22:36:11,009]\u001b[0m Trial 77 finished with value: 0.8017638036809815 and parameters: {'lambda_l1': 4.388522937185457, 'lambda_l2': 7.8687267992213155, 'learning_rate': 0.04771949774530578, 'num_leaves': 387, 'feature_fraction': 0.7814706621837307, 'bagging_fraction': 0.4419777205778916, 'bagging_freq': 3, 'min_child_samples': 22, 'n_estimators': 18527, 'early_stopping_round': 200}. Best is trial 11 with value: 0.8136503067484663.\u001b[0m\n",
      "C:\\Users\\deepBlue\\AppData\\Local\\Packages\\PythonSoftwareFoundation.Python.3.10_qbz5n2kfra8p0\\LocalCache\\local-packages\\Python310\\site-packages\\lightgbm\\sklearn.py:726: UserWarning: 'early_stopping_rounds' argument is deprecated and will be removed in a future release of LightGBM. Pass 'early_stopping()' callback via 'callbacks' argument instead.\n",
      "  _log_warning(\"'early_stopping_rounds' argument is deprecated and will be removed in a future release of LightGBM. \"\n",
      "C:\\Users\\deepBlue\\AppData\\Local\\Packages\\PythonSoftwareFoundation.Python.3.10_qbz5n2kfra8p0\\LocalCache\\local-packages\\Python310\\site-packages\\lightgbm\\sklearn.py:736: UserWarning: 'verbose' argument is deprecated and will be removed in a future release of LightGBM. Pass 'log_evaluation()' callback via 'callbacks' argument instead.\n",
      "  _log_warning(\"'verbose' argument is deprecated and will be removed in a future release of LightGBM. \"\n",
      "\u001b[32m[I 2022-12-10 22:36:11,308]\u001b[0m Trial 78 finished with value: 0.80329754601227 and parameters: {'lambda_l1': 0.794141101615728, 'lambda_l2': 1.0789796307826456, 'learning_rate': 0.05392591622000088, 'num_leaves': 425, 'feature_fraction': 0.4240612243525651, 'bagging_fraction': 0.4785687555401633, 'bagging_freq': 4, 'min_child_samples': 32, 'n_estimators': 19768, 'early_stopping_round': 200}. Best is trial 11 with value: 0.8136503067484663.\u001b[0m\n",
      "C:\\Users\\deepBlue\\AppData\\Local\\Packages\\PythonSoftwareFoundation.Python.3.10_qbz5n2kfra8p0\\LocalCache\\local-packages\\Python310\\site-packages\\lightgbm\\sklearn.py:726: UserWarning: 'early_stopping_rounds' argument is deprecated and will be removed in a future release of LightGBM. Pass 'early_stopping()' callback via 'callbacks' argument instead.\n",
      "  _log_warning(\"'early_stopping_rounds' argument is deprecated and will be removed in a future release of LightGBM. \"\n",
      "C:\\Users\\deepBlue\\AppData\\Local\\Packages\\PythonSoftwareFoundation.Python.3.10_qbz5n2kfra8p0\\LocalCache\\local-packages\\Python310\\site-packages\\lightgbm\\sklearn.py:736: UserWarning: 'verbose' argument is deprecated and will be removed in a future release of LightGBM. Pass 'log_evaluation()' callback via 'callbacks' argument instead.\n",
      "  _log_warning(\"'verbose' argument is deprecated and will be removed in a future release of LightGBM. \"\n",
      "\u001b[32m[I 2022-12-10 22:36:12,039]\u001b[0m Trial 79 finished with value: 0.8029141104294478 and parameters: {'lambda_l1': 6.944370021485198, 'lambda_l2': 8.78107551714571, 'learning_rate': 0.04199434223383909, 'num_leaves': 472, 'feature_fraction': 0.9926883976351163, 'bagging_fraction': 0.6752833754578169, 'bagging_freq': 7, 'min_child_samples': 5, 'n_estimators': 17593, 'early_stopping_round': 200}. Best is trial 11 with value: 0.8136503067484663.\u001b[0m\n",
      "C:\\Users\\deepBlue\\AppData\\Local\\Packages\\PythonSoftwareFoundation.Python.3.10_qbz5n2kfra8p0\\LocalCache\\local-packages\\Python310\\site-packages\\lightgbm\\sklearn.py:726: UserWarning: 'early_stopping_rounds' argument is deprecated and will be removed in a future release of LightGBM. Pass 'early_stopping()' callback via 'callbacks' argument instead.\n",
      "  _log_warning(\"'early_stopping_rounds' argument is deprecated and will be removed in a future release of LightGBM. \"\n",
      "C:\\Users\\deepBlue\\AppData\\Local\\Packages\\PythonSoftwareFoundation.Python.3.10_qbz5n2kfra8p0\\LocalCache\\local-packages\\Python310\\site-packages\\lightgbm\\sklearn.py:736: UserWarning: 'verbose' argument is deprecated and will be removed in a future release of LightGBM. Pass 'log_evaluation()' callback via 'callbacks' argument instead.\n",
      "  _log_warning(\"'verbose' argument is deprecated and will be removed in a future release of LightGBM. \"\n",
      "\u001b[32m[I 2022-12-10 22:36:12,528]\u001b[0m Trial 80 finished with value: 0.7994631901840491 and parameters: {'lambda_l1': 5.085558033988777, 'lambda_l2': 1.4752337687283654, 'learning_rate': 0.03315381532078237, 'num_leaves': 306, 'feature_fraction': 0.47411324398409416, 'bagging_fraction': 0.526733253589777, 'bagging_freq': 4, 'min_child_samples': 16, 'n_estimators': 10479, 'early_stopping_round': 200}. Best is trial 11 with value: 0.8136503067484663.\u001b[0m\n",
      "C:\\Users\\deepBlue\\AppData\\Local\\Packages\\PythonSoftwareFoundation.Python.3.10_qbz5n2kfra8p0\\LocalCache\\local-packages\\Python310\\site-packages\\lightgbm\\sklearn.py:726: UserWarning: 'early_stopping_rounds' argument is deprecated and will be removed in a future release of LightGBM. Pass 'early_stopping()' callback via 'callbacks' argument instead.\n",
      "  _log_warning(\"'early_stopping_rounds' argument is deprecated and will be removed in a future release of LightGBM. \"\n",
      "C:\\Users\\deepBlue\\AppData\\Local\\Packages\\PythonSoftwareFoundation.Python.3.10_qbz5n2kfra8p0\\LocalCache\\local-packages\\Python310\\site-packages\\lightgbm\\sklearn.py:736: UserWarning: 'verbose' argument is deprecated and will be removed in a future release of LightGBM. Pass 'log_evaluation()' callback via 'callbacks' argument instead.\n",
      "  _log_warning(\"'verbose' argument is deprecated and will be removed in a future release of LightGBM. \"\n",
      "\u001b[32m[I 2022-12-10 22:36:13,104]\u001b[0m Trial 81 finished with value: 0.8021472392638037 and parameters: {'lambda_l1': 5.724956856251543, 'lambda_l2': 0.424907376548616, 'learning_rate': 0.017274663488395098, 'num_leaves': 396, 'feature_fraction': 0.5970319698647125, 'bagging_fraction': 0.4008697348681063, 'bagging_freq': 5, 'min_child_samples': 10, 'n_estimators': 16721, 'early_stopping_round': 200}. Best is trial 11 with value: 0.8136503067484663.\u001b[0m\n",
      "C:\\Users\\deepBlue\\AppData\\Local\\Packages\\PythonSoftwareFoundation.Python.3.10_qbz5n2kfra8p0\\LocalCache\\local-packages\\Python310\\site-packages\\lightgbm\\sklearn.py:726: UserWarning: 'early_stopping_rounds' argument is deprecated and will be removed in a future release of LightGBM. Pass 'early_stopping()' callback via 'callbacks' argument instead.\n",
      "  _log_warning(\"'early_stopping_rounds' argument is deprecated and will be removed in a future release of LightGBM. \"\n",
      "C:\\Users\\deepBlue\\AppData\\Local\\Packages\\PythonSoftwareFoundation.Python.3.10_qbz5n2kfra8p0\\LocalCache\\local-packages\\Python310\\site-packages\\lightgbm\\sklearn.py:736: UserWarning: 'verbose' argument is deprecated and will be removed in a future release of LightGBM. Pass 'log_evaluation()' callback via 'callbacks' argument instead.\n",
      "  _log_warning(\"'verbose' argument is deprecated and will be removed in a future release of LightGBM. \"\n",
      "\u001b[32m[I 2022-12-10 22:36:14,093]\u001b[0m Trial 82 finished with value: 0.7983128834355828 and parameters: {'lambda_l1': 6.282225717442014, 'lambda_l2': 0.69403673398364, 'learning_rate': 0.01436818754154858, 'num_leaves': 411, 'feature_fraction': 0.6890817781800237, 'bagging_fraction': 0.41904137480448295, 'bagging_freq': 5, 'min_child_samples': 12, 'n_estimators': 17077, 'early_stopping_round': 200}. Best is trial 11 with value: 0.8136503067484663.\u001b[0m\n",
      "C:\\Users\\deepBlue\\AppData\\Local\\Packages\\PythonSoftwareFoundation.Python.3.10_qbz5n2kfra8p0\\LocalCache\\local-packages\\Python310\\site-packages\\lightgbm\\sklearn.py:726: UserWarning: 'early_stopping_rounds' argument is deprecated and will be removed in a future release of LightGBM. Pass 'early_stopping()' callback via 'callbacks' argument instead.\n",
      "  _log_warning(\"'early_stopping_rounds' argument is deprecated and will be removed in a future release of LightGBM. \"\n",
      "C:\\Users\\deepBlue\\AppData\\Local\\Packages\\PythonSoftwareFoundation.Python.3.10_qbz5n2kfra8p0\\LocalCache\\local-packages\\Python310\\site-packages\\lightgbm\\sklearn.py:736: UserWarning: 'verbose' argument is deprecated and will be removed in a future release of LightGBM. Pass 'log_evaluation()' callback via 'callbacks' argument instead.\n",
      "  _log_warning(\"'verbose' argument is deprecated and will be removed in a future release of LightGBM. \"\n",
      "\u001b[32m[I 2022-12-10 22:36:15,422]\u001b[0m Trial 83 finished with value: 0.8052147239263804 and parameters: {'lambda_l1': 5.388982897450942, 'lambda_l2': 1.7785741271899989, 'learning_rate': 0.007832120130336703, 'num_leaves': 447, 'feature_fraction': 0.9213275814653406, 'bagging_fraction': 0.43210611066367205, 'bagging_freq': 5, 'min_child_samples': 14, 'n_estimators': 16208, 'early_stopping_round': 200}. Best is trial 11 with value: 0.8136503067484663.\u001b[0m\n",
      "C:\\Users\\deepBlue\\AppData\\Local\\Packages\\PythonSoftwareFoundation.Python.3.10_qbz5n2kfra8p0\\LocalCache\\local-packages\\Python310\\site-packages\\lightgbm\\sklearn.py:726: UserWarning: 'early_stopping_rounds' argument is deprecated and will be removed in a future release of LightGBM. Pass 'early_stopping()' callback via 'callbacks' argument instead.\n",
      "  _log_warning(\"'early_stopping_rounds' argument is deprecated and will be removed in a future release of LightGBM. \"\n",
      "C:\\Users\\deepBlue\\AppData\\Local\\Packages\\PythonSoftwareFoundation.Python.3.10_qbz5n2kfra8p0\\LocalCache\\local-packages\\Python310\\site-packages\\lightgbm\\sklearn.py:736: UserWarning: 'verbose' argument is deprecated and will be removed in a future release of LightGBM. Pass 'log_evaluation()' callback via 'callbacks' argument instead.\n",
      "  _log_warning(\"'verbose' argument is deprecated and will be removed in a future release of LightGBM. \"\n",
      "\u001b[32m[I 2022-12-10 22:36:16,324]\u001b[0m Trial 84 finished with value: 0.7921779141104295 and parameters: {'lambda_l1': 6.569900360039365, 'lambda_l2': 6.725589126427855, 'learning_rate': 0.02695775640596293, 'num_leaves': 366, 'feature_fraction': 0.40238503568906414, 'bagging_fraction': 0.41393941793523975, 'bagging_freq': 6, 'min_child_samples': 19, 'n_estimators': 18839, 'early_stopping_round': 200}. Best is trial 11 with value: 0.8136503067484663.\u001b[0m\n",
      "C:\\Users\\deepBlue\\AppData\\Local\\Packages\\PythonSoftwareFoundation.Python.3.10_qbz5n2kfra8p0\\LocalCache\\local-packages\\Python310\\site-packages\\lightgbm\\sklearn.py:726: UserWarning: 'early_stopping_rounds' argument is deprecated and will be removed in a future release of LightGBM. Pass 'early_stopping()' callback via 'callbacks' argument instead.\n",
      "  _log_warning(\"'early_stopping_rounds' argument is deprecated and will be removed in a future release of LightGBM. \"\n",
      "C:\\Users\\deepBlue\\AppData\\Local\\Packages\\PythonSoftwareFoundation.Python.3.10_qbz5n2kfra8p0\\LocalCache\\local-packages\\Python310\\site-packages\\lightgbm\\sklearn.py:736: UserWarning: 'verbose' argument is deprecated and will be removed in a future release of LightGBM. Pass 'log_evaluation()' callback via 'callbacks' argument instead.\n",
      "  _log_warning(\"'verbose' argument is deprecated and will be removed in a future release of LightGBM. \"\n",
      "\u001b[32m[I 2022-12-10 22:36:18,402]\u001b[0m Trial 85 finished with value: 0.7956288343558282 and parameters: {'lambda_l1': 5.759633981887744, 'lambda_l2': 4.7312813238857, 'learning_rate': 0.004315151475916537, 'num_leaves': 100, 'feature_fraction': 0.45567501106470154, 'bagging_fraction': 0.4493917956937627, 'bagging_freq': 4, 'min_child_samples': 44, 'n_estimators': 15171, 'early_stopping_round': 200}. Best is trial 11 with value: 0.8136503067484663.\u001b[0m\n",
      "C:\\Users\\deepBlue\\AppData\\Local\\Packages\\PythonSoftwareFoundation.Python.3.10_qbz5n2kfra8p0\\LocalCache\\local-packages\\Python310\\site-packages\\lightgbm\\sklearn.py:726: UserWarning: 'early_stopping_rounds' argument is deprecated and will be removed in a future release of LightGBM. Pass 'early_stopping()' callback via 'callbacks' argument instead.\n",
      "  _log_warning(\"'early_stopping_rounds' argument is deprecated and will be removed in a future release of LightGBM. \"\n",
      "C:\\Users\\deepBlue\\AppData\\Local\\Packages\\PythonSoftwareFoundation.Python.3.10_qbz5n2kfra8p0\\LocalCache\\local-packages\\Python310\\site-packages\\lightgbm\\sklearn.py:736: UserWarning: 'verbose' argument is deprecated and will be removed in a future release of LightGBM. Pass 'log_evaluation()' callback via 'callbacks' argument instead.\n",
      "  _log_warning(\"'verbose' argument is deprecated and will be removed in a future release of LightGBM. \"\n",
      "\u001b[32m[I 2022-12-10 22:36:18,956]\u001b[0m Trial 86 finished with value: 0.8021472392638037 and parameters: {'lambda_l1': 6.007913116393495, 'lambda_l2': 5.209228155081783, 'learning_rate': 0.04598947332244245, 'num_leaves': 341, 'feature_fraction': 0.8061500334140645, 'bagging_fraction': 0.6024128387949018, 'bagging_freq': 3, 'min_child_samples': 7, 'n_estimators': 18134, 'early_stopping_round': 200}. Best is trial 11 with value: 0.8136503067484663.\u001b[0m\n",
      "C:\\Users\\deepBlue\\AppData\\Local\\Packages\\PythonSoftwareFoundation.Python.3.10_qbz5n2kfra8p0\\LocalCache\\local-packages\\Python310\\site-packages\\lightgbm\\sklearn.py:726: UserWarning: 'early_stopping_rounds' argument is deprecated and will be removed in a future release of LightGBM. Pass 'early_stopping()' callback via 'callbacks' argument instead.\n",
      "  _log_warning(\"'early_stopping_rounds' argument is deprecated and will be removed in a future release of LightGBM. \"\n",
      "C:\\Users\\deepBlue\\AppData\\Local\\Packages\\PythonSoftwareFoundation.Python.3.10_qbz5n2kfra8p0\\LocalCache\\local-packages\\Python310\\site-packages\\lightgbm\\sklearn.py:736: UserWarning: 'verbose' argument is deprecated and will be removed in a future release of LightGBM. Pass 'log_evaluation()' callback via 'callbacks' argument instead.\n",
      "  _log_warning(\"'verbose' argument is deprecated and will be removed in a future release of LightGBM. \"\n",
      "\u001b[32m[I 2022-12-10 22:36:19,632]\u001b[0m Trial 87 finished with value: 0.8025306748466258 and parameters: {'lambda_l1': 4.96972628255494, 'lambda_l2': 1.0178439855848818, 'learning_rate': 0.03611861031576706, 'num_leaves': 354, 'feature_fraction': 0.5077088745953072, 'bagging_fraction': 0.6187121096983816, 'bagging_freq': 3, 'min_child_samples': 54, 'n_estimators': 6443, 'early_stopping_round': 200}. Best is trial 11 with value: 0.8136503067484663.\u001b[0m\n",
      "C:\\Users\\deepBlue\\AppData\\Local\\Packages\\PythonSoftwareFoundation.Python.3.10_qbz5n2kfra8p0\\LocalCache\\local-packages\\Python310\\site-packages\\lightgbm\\sklearn.py:726: UserWarning: 'early_stopping_rounds' argument is deprecated and will be removed in a future release of LightGBM. Pass 'early_stopping()' callback via 'callbacks' argument instead.\n",
      "  _log_warning(\"'early_stopping_rounds' argument is deprecated and will be removed in a future release of LightGBM. \"\n",
      "C:\\Users\\deepBlue\\AppData\\Local\\Packages\\PythonSoftwareFoundation.Python.3.10_qbz5n2kfra8p0\\LocalCache\\local-packages\\Python310\\site-packages\\lightgbm\\sklearn.py:736: UserWarning: 'verbose' argument is deprecated and will be removed in a future release of LightGBM. Pass 'log_evaluation()' callback via 'callbacks' argument instead.\n",
      "  _log_warning(\"'verbose' argument is deprecated and will be removed in a future release of LightGBM. \"\n",
      "\u001b[32m[I 2022-12-10 22:36:20,733]\u001b[0m Trial 88 finished with value: 0.8044478527607362 and parameters: {'lambda_l1': 4.544782207797343, 'lambda_l2': 3.713390376600645, 'learning_rate': 0.02069083039873584, 'num_leaves': 404, 'feature_fraction': 0.6097642578483726, 'bagging_fraction': 0.4579272686290124, 'bagging_freq': 6, 'min_child_samples': 10, 'n_estimators': 19420, 'early_stopping_round': 200}. Best is trial 11 with value: 0.8136503067484663.\u001b[0m\n",
      "C:\\Users\\deepBlue\\AppData\\Local\\Packages\\PythonSoftwareFoundation.Python.3.10_qbz5n2kfra8p0\\LocalCache\\local-packages\\Python310\\site-packages\\lightgbm\\sklearn.py:726: UserWarning: 'early_stopping_rounds' argument is deprecated and will be removed in a future release of LightGBM. Pass 'early_stopping()' callback via 'callbacks' argument instead.\n",
      "  _log_warning(\"'early_stopping_rounds' argument is deprecated and will be removed in a future release of LightGBM. \"\n",
      "C:\\Users\\deepBlue\\AppData\\Local\\Packages\\PythonSoftwareFoundation.Python.3.10_qbz5n2kfra8p0\\LocalCache\\local-packages\\Python310\\site-packages\\lightgbm\\sklearn.py:736: UserWarning: 'verbose' argument is deprecated and will be removed in a future release of LightGBM. Pass 'log_evaluation()' callback via 'callbacks' argument instead.\n",
      "  _log_warning(\"'verbose' argument is deprecated and will be removed in a future release of LightGBM. \"\n",
      "\u001b[32m[I 2022-12-10 22:36:21,257]\u001b[0m Trial 89 finished with value: 0.7956288343558282 and parameters: {'lambda_l1': 6.268966896873368, 'lambda_l2': 6.278523886196178, 'learning_rate': 0.06110378860120062, 'num_leaves': 427, 'feature_fraction': 0.7319344574248732, 'bagging_fraction': 0.4200750035346751, 'bagging_freq': 4, 'min_child_samples': 12, 'n_estimators': 15793, 'early_stopping_round': 200}. Best is trial 11 with value: 0.8136503067484663.\u001b[0m\n",
      "C:\\Users\\deepBlue\\AppData\\Local\\Packages\\PythonSoftwareFoundation.Python.3.10_qbz5n2kfra8p0\\LocalCache\\local-packages\\Python310\\site-packages\\lightgbm\\sklearn.py:726: UserWarning: 'early_stopping_rounds' argument is deprecated and will be removed in a future release of LightGBM. Pass 'early_stopping()' callback via 'callbacks' argument instead.\n",
      "  _log_warning(\"'early_stopping_rounds' argument is deprecated and will be removed in a future release of LightGBM. \"\n",
      "C:\\Users\\deepBlue\\AppData\\Local\\Packages\\PythonSoftwareFoundation.Python.3.10_qbz5n2kfra8p0\\LocalCache\\local-packages\\Python310\\site-packages\\lightgbm\\sklearn.py:736: UserWarning: 'verbose' argument is deprecated and will be removed in a future release of LightGBM. Pass 'log_evaluation()' callback via 'callbacks' argument instead.\n",
      "  _log_warning(\"'verbose' argument is deprecated and will be removed in a future release of LightGBM. \"\n",
      "\u001b[32m[I 2022-12-10 22:36:21,729]\u001b[0m Trial 90 finished with value: 0.8098159509202454 and parameters: {'lambda_l1': 3.6093925770019673, 'lambda_l2': 7.3900290102700374, 'learning_rate': 0.040799524349944216, 'num_leaves': 380, 'feature_fraction': 0.7576087015081557, 'bagging_fraction': 0.505951884334952, 'bagging_freq': 1, 'min_child_samples': 26, 'n_estimators': 3741, 'early_stopping_round': 200}. Best is trial 11 with value: 0.8136503067484663.\u001b[0m\n",
      "C:\\Users\\deepBlue\\AppData\\Local\\Packages\\PythonSoftwareFoundation.Python.3.10_qbz5n2kfra8p0\\LocalCache\\local-packages\\Python310\\site-packages\\lightgbm\\sklearn.py:726: UserWarning: 'early_stopping_rounds' argument is deprecated and will be removed in a future release of LightGBM. Pass 'early_stopping()' callback via 'callbacks' argument instead.\n",
      "  _log_warning(\"'early_stopping_rounds' argument is deprecated and will be removed in a future release of LightGBM. \"\n",
      "C:\\Users\\deepBlue\\AppData\\Local\\Packages\\PythonSoftwareFoundation.Python.3.10_qbz5n2kfra8p0\\LocalCache\\local-packages\\Python310\\site-packages\\lightgbm\\sklearn.py:736: UserWarning: 'verbose' argument is deprecated and will be removed in a future release of LightGBM. Pass 'log_evaluation()' callback via 'callbacks' argument instead.\n",
      "  _log_warning(\"'verbose' argument is deprecated and will be removed in a future release of LightGBM. \"\n",
      "\u001b[32m[I 2022-12-10 22:36:24,483]\u001b[0m Trial 91 finished with value: 0.7906441717791411 and parameters: {'lambda_l1': 3.014185512428902, 'lambda_l2': 7.678707995329695, 'learning_rate': 0.00010304969242155154, 'num_leaves': 371, 'feature_fraction': 0.7470635786369897, 'bagging_fraction': 0.509352416339921, 'bagging_freq': 1, 'min_child_samples': 26, 'n_estimators': 3445, 'early_stopping_round': 200}. Best is trial 11 with value: 0.8136503067484663.\u001b[0m\n",
      "C:\\Users\\deepBlue\\AppData\\Local\\Packages\\PythonSoftwareFoundation.Python.3.10_qbz5n2kfra8p0\\LocalCache\\local-packages\\Python310\\site-packages\\lightgbm\\sklearn.py:726: UserWarning: 'early_stopping_rounds' argument is deprecated and will be removed in a future release of LightGBM. Pass 'early_stopping()' callback via 'callbacks' argument instead.\n",
      "  _log_warning(\"'early_stopping_rounds' argument is deprecated and will be removed in a future release of LightGBM. \"\n",
      "C:\\Users\\deepBlue\\AppData\\Local\\Packages\\PythonSoftwareFoundation.Python.3.10_qbz5n2kfra8p0\\LocalCache\\local-packages\\Python310\\site-packages\\lightgbm\\sklearn.py:736: UserWarning: 'verbose' argument is deprecated and will be removed in a future release of LightGBM. Pass 'log_evaluation()' callback via 'callbacks' argument instead.\n",
      "  _log_warning(\"'verbose' argument is deprecated and will be removed in a future release of LightGBM. \"\n",
      "\u001b[32m[I 2022-12-10 22:36:25,397]\u001b[0m Trial 92 finished with value: 0.7998466257668712 and parameters: {'lambda_l1': 4.0588978467138705, 'lambda_l2': 7.399804264211863, 'learning_rate': 0.04141310063349716, 'num_leaves': 443, 'feature_fraction': 0.7655900442858534, 'bagging_fraction': 0.4002820528357293, 'bagging_freq': 1, 'min_child_samples': 18, 'n_estimators': 9235, 'early_stopping_round': 200}. Best is trial 11 with value: 0.8136503067484663.\u001b[0m\n",
      "C:\\Users\\deepBlue\\AppData\\Local\\Packages\\PythonSoftwareFoundation.Python.3.10_qbz5n2kfra8p0\\LocalCache\\local-packages\\Python310\\site-packages\\lightgbm\\sklearn.py:726: UserWarning: 'early_stopping_rounds' argument is deprecated and will be removed in a future release of LightGBM. Pass 'early_stopping()' callback via 'callbacks' argument instead.\n",
      "  _log_warning(\"'early_stopping_rounds' argument is deprecated and will be removed in a future release of LightGBM. \"\n",
      "C:\\Users\\deepBlue\\AppData\\Local\\Packages\\PythonSoftwareFoundation.Python.3.10_qbz5n2kfra8p0\\LocalCache\\local-packages\\Python310\\site-packages\\lightgbm\\sklearn.py:736: UserWarning: 'verbose' argument is deprecated and will be removed in a future release of LightGBM. Pass 'log_evaluation()' callback via 'callbacks' argument instead.\n",
      "  _log_warning(\"'verbose' argument is deprecated and will be removed in a future release of LightGBM. \"\n",
      "\u001b[32m[I 2022-12-10 22:36:26,202]\u001b[0m Trial 93 finished with value: 0.7948619631901841 and parameters: {'lambda_l1': 3.6080817109754975, 'lambda_l2': 8.255894128559, 'learning_rate': 0.03772707661494968, 'num_leaves': 393, 'feature_fraction': 0.7140693810015778, 'bagging_fraction': 0.47553782969679786, 'bagging_freq': 2, 'min_child_samples': 28, 'n_estimators': 7781, 'early_stopping_round': 200}. Best is trial 11 with value: 0.8136503067484663.\u001b[0m\n",
      "C:\\Users\\deepBlue\\AppData\\Local\\Packages\\PythonSoftwareFoundation.Python.3.10_qbz5n2kfra8p0\\LocalCache\\local-packages\\Python310\\site-packages\\lightgbm\\sklearn.py:726: UserWarning: 'early_stopping_rounds' argument is deprecated and will be removed in a future release of LightGBM. Pass 'early_stopping()' callback via 'callbacks' argument instead.\n",
      "  _log_warning(\"'early_stopping_rounds' argument is deprecated and will be removed in a future release of LightGBM. \"\n",
      "C:\\Users\\deepBlue\\AppData\\Local\\Packages\\PythonSoftwareFoundation.Python.3.10_qbz5n2kfra8p0\\LocalCache\\local-packages\\Python310\\site-packages\\lightgbm\\sklearn.py:736: UserWarning: 'verbose' argument is deprecated and will be removed in a future release of LightGBM. Pass 'log_evaluation()' callback via 'callbacks' argument instead.\n",
      "  _log_warning(\"'verbose' argument is deprecated and will be removed in a future release of LightGBM. \"\n",
      "\u001b[32m[I 2022-12-10 22:36:26,773]\u001b[0m Trial 94 finished with value: 0.8136503067484663 and parameters: {'lambda_l1': 2.768796875586987, 'lambda_l2': 1.3808823270199828, 'learning_rate': 0.05125366152745762, 'num_leaves': 325, 'feature_fraction': 0.9643522406434892, 'bagging_fraction': 0.5403641590968985, 'bagging_freq': 2, 'min_child_samples': 15, 'n_estimators': 12622, 'early_stopping_round': 200}. Best is trial 11 with value: 0.8136503067484663.\u001b[0m\n",
      "C:\\Users\\deepBlue\\AppData\\Local\\Packages\\PythonSoftwareFoundation.Python.3.10_qbz5n2kfra8p0\\LocalCache\\local-packages\\Python310\\site-packages\\lightgbm\\sklearn.py:726: UserWarning: 'early_stopping_rounds' argument is deprecated and will be removed in a future release of LightGBM. Pass 'early_stopping()' callback via 'callbacks' argument instead.\n",
      "  _log_warning(\"'early_stopping_rounds' argument is deprecated and will be removed in a future release of LightGBM. \"\n",
      "C:\\Users\\deepBlue\\AppData\\Local\\Packages\\PythonSoftwareFoundation.Python.3.10_qbz5n2kfra8p0\\LocalCache\\local-packages\\Python310\\site-packages\\lightgbm\\sklearn.py:736: UserWarning: 'verbose' argument is deprecated and will be removed in a future release of LightGBM. Pass 'log_evaluation()' callback via 'callbacks' argument instead.\n",
      "  _log_warning(\"'verbose' argument is deprecated and will be removed in a future release of LightGBM. \"\n",
      "\u001b[32m[I 2022-12-10 22:36:27,233]\u001b[0m Trial 95 finished with value: 0.7925613496932515 and parameters: {'lambda_l1': 2.4862211572664954, 'lambda_l2': 1.3680599455026128, 'learning_rate': 0.05160276433321764, 'num_leaves': 324, 'feature_fraction': 0.9733476642990243, 'bagging_fraction': 0.5619570588139456, 'bagging_freq': 2, 'min_child_samples': 22, 'n_estimators': 13851, 'early_stopping_round': 200}. Best is trial 11 with value: 0.8136503067484663.\u001b[0m\n",
      "C:\\Users\\deepBlue\\AppData\\Local\\Packages\\PythonSoftwareFoundation.Python.3.10_qbz5n2kfra8p0\\LocalCache\\local-packages\\Python310\\site-packages\\lightgbm\\sklearn.py:726: UserWarning: 'early_stopping_rounds' argument is deprecated and will be removed in a future release of LightGBM. Pass 'early_stopping()' callback via 'callbacks' argument instead.\n",
      "  _log_warning(\"'early_stopping_rounds' argument is deprecated and will be removed in a future release of LightGBM. \"\n",
      "C:\\Users\\deepBlue\\AppData\\Local\\Packages\\PythonSoftwareFoundation.Python.3.10_qbz5n2kfra8p0\\LocalCache\\local-packages\\Python310\\site-packages\\lightgbm\\sklearn.py:736: UserWarning: 'verbose' argument is deprecated and will be removed in a future release of LightGBM. Pass 'log_evaluation()' callback via 'callbacks' argument instead.\n",
      "  _log_warning(\"'verbose' argument is deprecated and will be removed in a future release of LightGBM. \"\n",
      "\u001b[32m[I 2022-12-10 22:36:27,692]\u001b[0m Trial 96 finished with value: 0.7967791411042945 and parameters: {'lambda_l1': 1.9768152057901742, 'lambda_l2': 2.808709025847463, 'learning_rate': 0.044659718831974164, 'num_leaves': 283, 'feature_fraction': 0.9609870540066823, 'bagging_fraction': 0.5502641582364602, 'bagging_freq': 1, 'min_child_samples': 15, 'n_estimators': 12959, 'early_stopping_round': 200}. Best is trial 11 with value: 0.8136503067484663.\u001b[0m\n",
      "C:\\Users\\deepBlue\\AppData\\Local\\Packages\\PythonSoftwareFoundation.Python.3.10_qbz5n2kfra8p0\\LocalCache\\local-packages\\Python310\\site-packages\\lightgbm\\sklearn.py:726: UserWarning: 'early_stopping_rounds' argument is deprecated and will be removed in a future release of LightGBM. Pass 'early_stopping()' callback via 'callbacks' argument instead.\n",
      "  _log_warning(\"'early_stopping_rounds' argument is deprecated and will be removed in a future release of LightGBM. \"\n",
      "C:\\Users\\deepBlue\\AppData\\Local\\Packages\\PythonSoftwareFoundation.Python.3.10_qbz5n2kfra8p0\\LocalCache\\local-packages\\Python310\\site-packages\\lightgbm\\sklearn.py:736: UserWarning: 'verbose' argument is deprecated and will be removed in a future release of LightGBM. Pass 'log_evaluation()' callback via 'callbacks' argument instead.\n",
      "  _log_warning(\"'verbose' argument is deprecated and will be removed in a future release of LightGBM. \"\n",
      "\u001b[32m[I 2022-12-10 22:36:28,081]\u001b[0m Trial 97 finished with value: 0.7917944785276073 and parameters: {'lambda_l1': 2.6220301826348758, 'lambda_l2': 2.3087861155283336, 'learning_rate': 0.049291175574535495, 'num_leaves': 336, 'feature_fraction': 0.9318802485733646, 'bagging_fraction': 0.5348562451273272, 'bagging_freq': 2, 'min_child_samples': 24, 'n_estimators': 872, 'early_stopping_round': 200}. Best is trial 11 with value: 0.8136503067484663.\u001b[0m\n",
      "C:\\Users\\deepBlue\\AppData\\Local\\Packages\\PythonSoftwareFoundation.Python.3.10_qbz5n2kfra8p0\\LocalCache\\local-packages\\Python310\\site-packages\\lightgbm\\sklearn.py:726: UserWarning: 'early_stopping_rounds' argument is deprecated and will be removed in a future release of LightGBM. Pass 'early_stopping()' callback via 'callbacks' argument instead.\n",
      "  _log_warning(\"'early_stopping_rounds' argument is deprecated and will be removed in a future release of LightGBM. \"\n",
      "C:\\Users\\deepBlue\\AppData\\Local\\Packages\\PythonSoftwareFoundation.Python.3.10_qbz5n2kfra8p0\\LocalCache\\local-packages\\Python310\\site-packages\\lightgbm\\sklearn.py:736: UserWarning: 'verbose' argument is deprecated and will be removed in a future release of LightGBM. Pass 'log_evaluation()' callback via 'callbacks' argument instead.\n",
      "  _log_warning(\"'verbose' argument is deprecated and will be removed in a future release of LightGBM. \"\n",
      "\u001b[32m[I 2022-12-10 22:36:28,403]\u001b[0m Trial 98 finished with value: 0.7875766871165644 and parameters: {'lambda_l1': 3.531311612143977, 'lambda_l2': 5.663631642892583, 'learning_rate': 0.055223618133718504, 'num_leaves': 303, 'feature_fraction': 0.8593419284000363, 'bagging_fraction': 0.5191496348204446, 'bagging_freq': 2, 'min_child_samples': 32, 'n_estimators': 12125, 'early_stopping_round': 200}. Best is trial 11 with value: 0.8136503067484663.\u001b[0m\n",
      "C:\\Users\\deepBlue\\AppData\\Local\\Packages\\PythonSoftwareFoundation.Python.3.10_qbz5n2kfra8p0\\LocalCache\\local-packages\\Python310\\site-packages\\lightgbm\\sklearn.py:726: UserWarning: 'early_stopping_rounds' argument is deprecated and will be removed in a future release of LightGBM. Pass 'early_stopping()' callback via 'callbacks' argument instead.\n",
      "  _log_warning(\"'early_stopping_rounds' argument is deprecated and will be removed in a future release of LightGBM. \"\n",
      "C:\\Users\\deepBlue\\AppData\\Local\\Packages\\PythonSoftwareFoundation.Python.3.10_qbz5n2kfra8p0\\LocalCache\\local-packages\\Python310\\site-packages\\lightgbm\\sklearn.py:736: UserWarning: 'verbose' argument is deprecated and will be removed in a future release of LightGBM. Pass 'log_evaluation()' callback via 'callbacks' argument instead.\n",
      "  _log_warning(\"'verbose' argument is deprecated and will be removed in a future release of LightGBM. \"\n",
      "\u001b[32m[I 2022-12-10 22:36:28,780]\u001b[0m Trial 99 finished with value: 0.799079754601227 and parameters: {'lambda_l1': 3.0874139126446845, 'lambda_l2': 7.231656957373462, 'learning_rate': 0.03988787073157518, 'num_leaves': 376, 'feature_fraction': 0.8385792090953113, 'bagging_fraction': 0.4829969546915984, 'bagging_freq': 1, 'min_child_samples': 39, 'n_estimators': 10755, 'early_stopping_round': 200}. Best is trial 11 with value: 0.8136503067484663.\u001b[0m\n"
     ]
    },
    {
     "name": "stdout",
     "output_type": "stream",
     "text": [
      "Number of finished trials: 100\n",
      "Best trial:\n",
      "  Value: 0.8136503067484663\n",
      "  Params: \n",
      "    lambda_l1: 6.342125218538641\n",
      "    lambda_l2: 4.952876696165546\n",
      "    learning_rate: 0.038816386806631235\n",
      "    num_leaves: 355\n",
      "    feature_fraction: 0.4085304214789881\n",
      "    bagging_fraction: 0.4157415989360179\n",
      "    bagging_freq: 4\n",
      "    min_child_samples: 6\n",
      "    n_estimators: 19880\n",
      "    early_stopping_round: 200\n"
     ]
    }
   ],
   "source": [
    "if __name__ == \"__main__\":\n",
    "    study = optuna.create_study(direction=\"maximize\")\n",
    "    study.optimize(objective, n_trials=100, timeout=600)\n",
    "\n",
    "    print(\"Number of finished trials: {}\".format(len(study.trials)))\n",
    "\n",
    "    print(\"Best trial:\")\n",
    "    trial = study.best_trial\n",
    "\n",
    "    print(\"  Value: {}\".format(trial.value))\n",
    "\n",
    "    print(\"  Params: \")\n",
    "    for key, value in trial.params.items():\n",
    "        print(\"    {}: {}\".format(key, value))"
   ]
  },
  {
   "cell_type": "code",
   "execution_count": 10,
   "metadata": {},
   "outputs": [
    {
     "name": "stdout",
     "output_type": "stream",
     "text": [
      "Best trial: score 0.8136503067484663,\n",
      "params {'lambda_l1': 6.342125218538641, 'lambda_l2': 4.952876696165546, 'learning_rate': 0.038816386806631235, 'num_leaves': 355, 'feature_fraction': 0.4085304214789881, 'bagging_fraction': 0.4157415989360179, 'bagging_freq': 4, 'min_child_samples': 6, 'n_estimators': 19880, 'early_stopping_round': 200}\n"
     ]
    },
    {
     "data": {
      "text/html": [
       "<div>\n",
       "<style scoped>\n",
       "    .dataframe tbody tr th:only-of-type {\n",
       "        vertical-align: middle;\n",
       "    }\n",
       "\n",
       "    .dataframe tbody tr th {\n",
       "        vertical-align: top;\n",
       "    }\n",
       "\n",
       "    .dataframe thead th {\n",
       "        text-align: right;\n",
       "    }\n",
       "</style>\n",
       "<table border=\"1\" class=\"dataframe\">\n",
       "  <thead>\n",
       "    <tr style=\"text-align: right;\">\n",
       "      <th></th>\n",
       "      <th>number</th>\n",
       "      <th>value</th>\n",
       "      <th>datetime_start</th>\n",
       "      <th>datetime_complete</th>\n",
       "      <th>duration</th>\n",
       "      <th>params_bagging_fraction</th>\n",
       "      <th>params_bagging_freq</th>\n",
       "      <th>params_early_stopping_round</th>\n",
       "      <th>params_feature_fraction</th>\n",
       "      <th>params_lambda_l1</th>\n",
       "      <th>params_lambda_l2</th>\n",
       "      <th>params_learning_rate</th>\n",
       "      <th>params_min_child_samples</th>\n",
       "      <th>params_n_estimators</th>\n",
       "      <th>params_num_leaves</th>\n",
       "      <th>state</th>\n",
       "    </tr>\n",
       "  </thead>\n",
       "  <tbody>\n",
       "    <tr>\n",
       "      <th>0</th>\n",
       "      <td>0</td>\n",
       "      <td>0.796396</td>\n",
       "      <td>2022-12-10 22:35:20.594993</td>\n",
       "      <td>2022-12-10 22:35:21.266164</td>\n",
       "      <td>0 days 00:00:00.671171</td>\n",
       "      <td>0.607647</td>\n",
       "      <td>1</td>\n",
       "      <td>200</td>\n",
       "      <td>0.450087</td>\n",
       "      <td>6.576761</td>\n",
       "      <td>0.208098</td>\n",
       "      <td>0.017014</td>\n",
       "      <td>68</td>\n",
       "      <td>10926</td>\n",
       "      <td>449</td>\n",
       "      <td>COMPLETE</td>\n",
       "    </tr>\n",
       "    <tr>\n",
       "      <th>1</th>\n",
       "      <td>1</td>\n",
       "      <td>0.799847</td>\n",
       "      <td>2022-12-10 22:35:21.268169</td>\n",
       "      <td>2022-12-10 22:35:21.617454</td>\n",
       "      <td>0 days 00:00:00.349285</td>\n",
       "      <td>0.799936</td>\n",
       "      <td>1</td>\n",
       "      <td>200</td>\n",
       "      <td>0.686070</td>\n",
       "      <td>4.521460</td>\n",
       "      <td>6.549797</td>\n",
       "      <td>0.066453</td>\n",
       "      <td>62</td>\n",
       "      <td>5765</td>\n",
       "      <td>45</td>\n",
       "      <td>COMPLETE</td>\n",
       "    </tr>\n",
       "    <tr>\n",
       "      <th>2</th>\n",
       "      <td>2</td>\n",
       "      <td>0.794095</td>\n",
       "      <td>2022-12-10 22:35:21.619007</td>\n",
       "      <td>2022-12-10 22:35:23.860227</td>\n",
       "      <td>0 days 00:00:02.241220</td>\n",
       "      <td>0.945680</td>\n",
       "      <td>2</td>\n",
       "      <td>200</td>\n",
       "      <td>0.947508</td>\n",
       "      <td>9.409934</td>\n",
       "      <td>7.572977</td>\n",
       "      <td>0.006948</td>\n",
       "      <td>78</td>\n",
       "      <td>6998</td>\n",
       "      <td>55</td>\n",
       "      <td>COMPLETE</td>\n",
       "    </tr>\n",
       "    <tr>\n",
       "      <th>3</th>\n",
       "      <td>3</td>\n",
       "      <td>0.789494</td>\n",
       "      <td>2022-12-10 22:35:23.861230</td>\n",
       "      <td>2022-12-10 22:35:24.387500</td>\n",
       "      <td>0 days 00:00:00.526270</td>\n",
       "      <td>0.880053</td>\n",
       "      <td>1</td>\n",
       "      <td>200</td>\n",
       "      <td>0.607932</td>\n",
       "      <td>8.610499</td>\n",
       "      <td>2.757159</td>\n",
       "      <td>0.069870</td>\n",
       "      <td>86</td>\n",
       "      <td>16237</td>\n",
       "      <td>95</td>\n",
       "      <td>COMPLETE</td>\n",
       "    </tr>\n",
       "    <tr>\n",
       "      <th>4</th>\n",
       "      <td>4</td>\n",
       "      <td>0.787577</td>\n",
       "      <td>2022-12-10 22:35:24.388502</td>\n",
       "      <td>2022-12-10 22:35:24.608390</td>\n",
       "      <td>0 days 00:00:00.219888</td>\n",
       "      <td>0.571633</td>\n",
       "      <td>1</td>\n",
       "      <td>200</td>\n",
       "      <td>0.536565</td>\n",
       "      <td>0.395909</td>\n",
       "      <td>9.439087</td>\n",
       "      <td>0.084028</td>\n",
       "      <td>30</td>\n",
       "      <td>1813</td>\n",
       "      <td>77</td>\n",
       "      <td>COMPLETE</td>\n",
       "    </tr>\n",
       "  </tbody>\n",
       "</table>\n",
       "</div>"
      ],
      "text/plain": [
       "   number     value             datetime_start          datetime_complete  \\\n",
       "0       0  0.796396 2022-12-10 22:35:20.594993 2022-12-10 22:35:21.266164   \n",
       "1       1  0.799847 2022-12-10 22:35:21.268169 2022-12-10 22:35:21.617454   \n",
       "2       2  0.794095 2022-12-10 22:35:21.619007 2022-12-10 22:35:23.860227   \n",
       "3       3  0.789494 2022-12-10 22:35:23.861230 2022-12-10 22:35:24.387500   \n",
       "4       4  0.787577 2022-12-10 22:35:24.388502 2022-12-10 22:35:24.608390   \n",
       "\n",
       "                duration  params_bagging_fraction  params_bagging_freq  \\\n",
       "0 0 days 00:00:00.671171                 0.607647                    1   \n",
       "1 0 days 00:00:00.349285                 0.799936                    1   \n",
       "2 0 days 00:00:02.241220                 0.945680                    2   \n",
       "3 0 days 00:00:00.526270                 0.880053                    1   \n",
       "4 0 days 00:00:00.219888                 0.571633                    1   \n",
       "\n",
       "   params_early_stopping_round  params_feature_fraction  params_lambda_l1  \\\n",
       "0                          200                 0.450087          6.576761   \n",
       "1                          200                 0.686070          4.521460   \n",
       "2                          200                 0.947508          9.409934   \n",
       "3                          200                 0.607932          8.610499   \n",
       "4                          200                 0.536565          0.395909   \n",
       "\n",
       "   params_lambda_l2  params_learning_rate  params_min_child_samples  \\\n",
       "0          0.208098              0.017014                        68   \n",
       "1          6.549797              0.066453                        62   \n",
       "2          7.572977              0.006948                        78   \n",
       "3          2.757159              0.069870                        86   \n",
       "4          9.439087              0.084028                        30   \n",
       "\n",
       "   params_n_estimators  params_num_leaves     state  \n",
       "0                10926                449  COMPLETE  \n",
       "1                 5765                 45  COMPLETE  \n",
       "2                 6998                 55  COMPLETE  \n",
       "3                16237                 95  COMPLETE  \n",
       "4                 1813                 77  COMPLETE  "
      ]
     },
     "execution_count": 10,
     "metadata": {},
     "output_type": "execute_result"
    }
   ],
   "source": [
    "from optuna import visualization\n",
    "print('Best trial: score {},\\nparams {}'.format(study.best_trial.value,study.best_trial.params))\n",
    "hist = study.trials_dataframe()\n",
    "hist.head()"
   ]
  },
  {
   "cell_type": "code",
   "execution_count": 20,
   "metadata": {},
   "outputs": [],
   "source": [
    "# optuna.visualization.plot_slice(study)"
   ]
  },
  {
   "cell_type": "code",
   "execution_count": 23,
   "metadata": {},
   "outputs": [],
   "source": [
    "# optuna.visualization.plot_optimization_history(study)"
   ]
  },
  {
   "cell_type": "code",
   "execution_count": 11,
   "metadata": {},
   "outputs": [
    {
     "ename": "ValueError",
     "evalue": "Mime type rendering requires nbformat>=4.2.0 but it is not installed",
     "output_type": "error",
     "traceback": [
      "\u001b[1;31m---------------------------------------------------------------------------\u001b[0m",
      "\u001b[1;31mValueError\u001b[0m                                Traceback (most recent call last)",
      "File \u001b[1;32m~\\AppData\\Local\\Packages\\PythonSoftwareFoundation.Python.3.10_qbz5n2kfra8p0\\LocalCache\\local-packages\\Python310\\site-packages\\IPython\\core\\formatters.py:920\u001b[0m, in \u001b[0;36mIPythonDisplayFormatter.__call__\u001b[1;34m(self, obj)\u001b[0m\n\u001b[0;32m    918\u001b[0m method \u001b[39m=\u001b[39m get_real_method(obj, \u001b[39mself\u001b[39m\u001b[39m.\u001b[39mprint_method)\n\u001b[0;32m    919\u001b[0m \u001b[39mif\u001b[39;00m method \u001b[39mis\u001b[39;00m \u001b[39mnot\u001b[39;00m \u001b[39mNone\u001b[39;00m:\n\u001b[1;32m--> 920\u001b[0m     method()\n\u001b[0;32m    921\u001b[0m     \u001b[39mreturn\u001b[39;00m \u001b[39mTrue\u001b[39;00m\n",
      "File \u001b[1;32m~\\AppData\\Local\\Packages\\PythonSoftwareFoundation.Python.3.10_qbz5n2kfra8p0\\LocalCache\\local-packages\\Python310\\site-packages\\plotly\\basedatatypes.py:842\u001b[0m, in \u001b[0;36mBaseFigure._ipython_display_\u001b[1;34m(self)\u001b[0m\n\u001b[0;32m    839\u001b[0m \u001b[39mimport\u001b[39;00m \u001b[39mplotly\u001b[39;00m\u001b[39m.\u001b[39;00m\u001b[39mio\u001b[39;00m \u001b[39mas\u001b[39;00m \u001b[39mpio\u001b[39;00m\n\u001b[0;32m    841\u001b[0m \u001b[39mif\u001b[39;00m pio\u001b[39m.\u001b[39mrenderers\u001b[39m.\u001b[39mrender_on_display \u001b[39mand\u001b[39;00m pio\u001b[39m.\u001b[39mrenderers\u001b[39m.\u001b[39mdefault:\n\u001b[1;32m--> 842\u001b[0m     pio\u001b[39m.\u001b[39;49mshow(\u001b[39mself\u001b[39;49m)\n\u001b[0;32m    843\u001b[0m \u001b[39melse\u001b[39;00m:\n\u001b[0;32m    844\u001b[0m     \u001b[39mprint\u001b[39m(\u001b[39mrepr\u001b[39m(\u001b[39mself\u001b[39m))\n",
      "File \u001b[1;32m~\\AppData\\Local\\Packages\\PythonSoftwareFoundation.Python.3.10_qbz5n2kfra8p0\\LocalCache\\local-packages\\Python310\\site-packages\\plotly\\io\\_renderers.py:396\u001b[0m, in \u001b[0;36mshow\u001b[1;34m(fig, renderer, validate, **kwargs)\u001b[0m\n\u001b[0;32m    391\u001b[0m         \u001b[39mraise\u001b[39;00m \u001b[39mValueError\u001b[39;00m(\n\u001b[0;32m    392\u001b[0m             \u001b[39m\"\u001b[39m\u001b[39mMime type rendering requires ipython but it is not installed\u001b[39m\u001b[39m\"\u001b[39m\n\u001b[0;32m    393\u001b[0m         )\n\u001b[0;32m    395\u001b[0m     \u001b[39mif\u001b[39;00m \u001b[39mnot\u001b[39;00m nbformat \u001b[39mor\u001b[39;00m LooseVersion(nbformat\u001b[39m.\u001b[39m__version__) \u001b[39m<\u001b[39m LooseVersion(\u001b[39m\"\u001b[39m\u001b[39m4.2.0\u001b[39m\u001b[39m\"\u001b[39m):\n\u001b[1;32m--> 396\u001b[0m         \u001b[39mraise\u001b[39;00m \u001b[39mValueError\u001b[39;00m(\n\u001b[0;32m    397\u001b[0m             \u001b[39m\"\u001b[39m\u001b[39mMime type rendering requires nbformat>=4.2.0 but it is not installed\u001b[39m\u001b[39m\"\u001b[39m\n\u001b[0;32m    398\u001b[0m         )\n\u001b[0;32m    400\u001b[0m     ipython_display\u001b[39m.\u001b[39mdisplay(bundle, raw\u001b[39m=\u001b[39m\u001b[39mTrue\u001b[39;00m)\n\u001b[0;32m    402\u001b[0m \u001b[39m# external renderers\u001b[39;00m\n",
      "\u001b[1;31mValueError\u001b[0m: Mime type rendering requires nbformat>=4.2.0 but it is not installed"
     ]
    },
    {
     "data": {
      "application/vnd.plotly.v1+json": {
       "config": {
        "plotlyServerURL": "https://plot.ly"
       },
       "data": [
        {
         "cliponaxis": false,
         "hovertemplate": [
          "early_stopping_round (IntDistribution): 0.0<extra></extra>",
          "bagging_fraction (FloatDistribution): 0.032611977598941876<extra></extra>",
          "lambda_l1 (FloatDistribution): 0.05770409840310311<extra></extra>",
          "num_leaves (IntDistribution): 0.06349789268645102<extra></extra>",
          "bagging_freq (IntDistribution): 0.0731394581700177<extra></extra>",
          "n_estimators (IntDistribution): 0.07435030171766167<extra></extra>",
          "min_child_samples (IntDistribution): 0.09361873243093845<extra></extra>",
          "feature_fraction (FloatDistribution): 0.0993000842752956<extra></extra>",
          "lambda_l2 (FloatDistribution): 0.09969126716912804<extra></extra>",
          "learning_rate (FloatDistribution): 0.40608618754846265<extra></extra>"
         ],
         "marker": {
          "color": "rgb(66,146,198)"
         },
         "orientation": "h",
         "text": [
          "<0.01",
          "0.03",
          "0.06",
          "0.06",
          "0.07",
          "0.07",
          "0.09",
          "0.10",
          "0.10",
          "0.41"
         ],
         "textposition": "outside",
         "type": "bar",
         "x": [
          0,
          0.032611977598941876,
          0.05770409840310311,
          0.06349789268645102,
          0.0731394581700177,
          0.07435030171766167,
          0.09361873243093845,
          0.0993000842752956,
          0.09969126716912804,
          0.40608618754846265
         ],
         "y": [
          "early_stopping_round",
          "bagging_fraction",
          "lambda_l1",
          "num_leaves",
          "bagging_freq",
          "n_estimators",
          "min_child_samples",
          "feature_fraction",
          "lambda_l2",
          "learning_rate"
         ]
        }
       ],
       "layout": {
        "showlegend": false,
        "template": {
         "data": {
          "bar": [
           {
            "error_x": {
             "color": "#2a3f5f"
            },
            "error_y": {
             "color": "#2a3f5f"
            },
            "marker": {
             "line": {
              "color": "#E5ECF6",
              "width": 0.5
             },
             "pattern": {
              "fillmode": "overlay",
              "size": 10,
              "solidity": 0.2
             }
            },
            "type": "bar"
           }
          ],
          "barpolar": [
           {
            "marker": {
             "line": {
              "color": "#E5ECF6",
              "width": 0.5
             },
             "pattern": {
              "fillmode": "overlay",
              "size": 10,
              "solidity": 0.2
             }
            },
            "type": "barpolar"
           }
          ],
          "carpet": [
           {
            "aaxis": {
             "endlinecolor": "#2a3f5f",
             "gridcolor": "white",
             "linecolor": "white",
             "minorgridcolor": "white",
             "startlinecolor": "#2a3f5f"
            },
            "baxis": {
             "endlinecolor": "#2a3f5f",
             "gridcolor": "white",
             "linecolor": "white",
             "minorgridcolor": "white",
             "startlinecolor": "#2a3f5f"
            },
            "type": "carpet"
           }
          ],
          "choropleth": [
           {
            "colorbar": {
             "outlinewidth": 0,
             "ticks": ""
            },
            "type": "choropleth"
           }
          ],
          "contour": [
           {
            "colorbar": {
             "outlinewidth": 0,
             "ticks": ""
            },
            "colorscale": [
             [
              0,
              "#0d0887"
             ],
             [
              0.1111111111111111,
              "#46039f"
             ],
             [
              0.2222222222222222,
              "#7201a8"
             ],
             [
              0.3333333333333333,
              "#9c179e"
             ],
             [
              0.4444444444444444,
              "#bd3786"
             ],
             [
              0.5555555555555556,
              "#d8576b"
             ],
             [
              0.6666666666666666,
              "#ed7953"
             ],
             [
              0.7777777777777778,
              "#fb9f3a"
             ],
             [
              0.8888888888888888,
              "#fdca26"
             ],
             [
              1,
              "#f0f921"
             ]
            ],
            "type": "contour"
           }
          ],
          "contourcarpet": [
           {
            "colorbar": {
             "outlinewidth": 0,
             "ticks": ""
            },
            "type": "contourcarpet"
           }
          ],
          "heatmap": [
           {
            "colorbar": {
             "outlinewidth": 0,
             "ticks": ""
            },
            "colorscale": [
             [
              0,
              "#0d0887"
             ],
             [
              0.1111111111111111,
              "#46039f"
             ],
             [
              0.2222222222222222,
              "#7201a8"
             ],
             [
              0.3333333333333333,
              "#9c179e"
             ],
             [
              0.4444444444444444,
              "#bd3786"
             ],
             [
              0.5555555555555556,
              "#d8576b"
             ],
             [
              0.6666666666666666,
              "#ed7953"
             ],
             [
              0.7777777777777778,
              "#fb9f3a"
             ],
             [
              0.8888888888888888,
              "#fdca26"
             ],
             [
              1,
              "#f0f921"
             ]
            ],
            "type": "heatmap"
           }
          ],
          "heatmapgl": [
           {
            "colorbar": {
             "outlinewidth": 0,
             "ticks": ""
            },
            "colorscale": [
             [
              0,
              "#0d0887"
             ],
             [
              0.1111111111111111,
              "#46039f"
             ],
             [
              0.2222222222222222,
              "#7201a8"
             ],
             [
              0.3333333333333333,
              "#9c179e"
             ],
             [
              0.4444444444444444,
              "#bd3786"
             ],
             [
              0.5555555555555556,
              "#d8576b"
             ],
             [
              0.6666666666666666,
              "#ed7953"
             ],
             [
              0.7777777777777778,
              "#fb9f3a"
             ],
             [
              0.8888888888888888,
              "#fdca26"
             ],
             [
              1,
              "#f0f921"
             ]
            ],
            "type": "heatmapgl"
           }
          ],
          "histogram": [
           {
            "marker": {
             "pattern": {
              "fillmode": "overlay",
              "size": 10,
              "solidity": 0.2
             }
            },
            "type": "histogram"
           }
          ],
          "histogram2d": [
           {
            "colorbar": {
             "outlinewidth": 0,
             "ticks": ""
            },
            "colorscale": [
             [
              0,
              "#0d0887"
             ],
             [
              0.1111111111111111,
              "#46039f"
             ],
             [
              0.2222222222222222,
              "#7201a8"
             ],
             [
              0.3333333333333333,
              "#9c179e"
             ],
             [
              0.4444444444444444,
              "#bd3786"
             ],
             [
              0.5555555555555556,
              "#d8576b"
             ],
             [
              0.6666666666666666,
              "#ed7953"
             ],
             [
              0.7777777777777778,
              "#fb9f3a"
             ],
             [
              0.8888888888888888,
              "#fdca26"
             ],
             [
              1,
              "#f0f921"
             ]
            ],
            "type": "histogram2d"
           }
          ],
          "histogram2dcontour": [
           {
            "colorbar": {
             "outlinewidth": 0,
             "ticks": ""
            },
            "colorscale": [
             [
              0,
              "#0d0887"
             ],
             [
              0.1111111111111111,
              "#46039f"
             ],
             [
              0.2222222222222222,
              "#7201a8"
             ],
             [
              0.3333333333333333,
              "#9c179e"
             ],
             [
              0.4444444444444444,
              "#bd3786"
             ],
             [
              0.5555555555555556,
              "#d8576b"
             ],
             [
              0.6666666666666666,
              "#ed7953"
             ],
             [
              0.7777777777777778,
              "#fb9f3a"
             ],
             [
              0.8888888888888888,
              "#fdca26"
             ],
             [
              1,
              "#f0f921"
             ]
            ],
            "type": "histogram2dcontour"
           }
          ],
          "mesh3d": [
           {
            "colorbar": {
             "outlinewidth": 0,
             "ticks": ""
            },
            "type": "mesh3d"
           }
          ],
          "parcoords": [
           {
            "line": {
             "colorbar": {
              "outlinewidth": 0,
              "ticks": ""
             }
            },
            "type": "parcoords"
           }
          ],
          "pie": [
           {
            "automargin": true,
            "type": "pie"
           }
          ],
          "scatter": [
           {
            "fillpattern": {
             "fillmode": "overlay",
             "size": 10,
             "solidity": 0.2
            },
            "type": "scatter"
           }
          ],
          "scatter3d": [
           {
            "line": {
             "colorbar": {
              "outlinewidth": 0,
              "ticks": ""
             }
            },
            "marker": {
             "colorbar": {
              "outlinewidth": 0,
              "ticks": ""
             }
            },
            "type": "scatter3d"
           }
          ],
          "scattercarpet": [
           {
            "marker": {
             "colorbar": {
              "outlinewidth": 0,
              "ticks": ""
             }
            },
            "type": "scattercarpet"
           }
          ],
          "scattergeo": [
           {
            "marker": {
             "colorbar": {
              "outlinewidth": 0,
              "ticks": ""
             }
            },
            "type": "scattergeo"
           }
          ],
          "scattergl": [
           {
            "marker": {
             "colorbar": {
              "outlinewidth": 0,
              "ticks": ""
             }
            },
            "type": "scattergl"
           }
          ],
          "scattermapbox": [
           {
            "marker": {
             "colorbar": {
              "outlinewidth": 0,
              "ticks": ""
             }
            },
            "type": "scattermapbox"
           }
          ],
          "scatterpolar": [
           {
            "marker": {
             "colorbar": {
              "outlinewidth": 0,
              "ticks": ""
             }
            },
            "type": "scatterpolar"
           }
          ],
          "scatterpolargl": [
           {
            "marker": {
             "colorbar": {
              "outlinewidth": 0,
              "ticks": ""
             }
            },
            "type": "scatterpolargl"
           }
          ],
          "scatterternary": [
           {
            "marker": {
             "colorbar": {
              "outlinewidth": 0,
              "ticks": ""
             }
            },
            "type": "scatterternary"
           }
          ],
          "surface": [
           {
            "colorbar": {
             "outlinewidth": 0,
             "ticks": ""
            },
            "colorscale": [
             [
              0,
              "#0d0887"
             ],
             [
              0.1111111111111111,
              "#46039f"
             ],
             [
              0.2222222222222222,
              "#7201a8"
             ],
             [
              0.3333333333333333,
              "#9c179e"
             ],
             [
              0.4444444444444444,
              "#bd3786"
             ],
             [
              0.5555555555555556,
              "#d8576b"
             ],
             [
              0.6666666666666666,
              "#ed7953"
             ],
             [
              0.7777777777777778,
              "#fb9f3a"
             ],
             [
              0.8888888888888888,
              "#fdca26"
             ],
             [
              1,
              "#f0f921"
             ]
            ],
            "type": "surface"
           }
          ],
          "table": [
           {
            "cells": {
             "fill": {
              "color": "#EBF0F8"
             },
             "line": {
              "color": "white"
             }
            },
            "header": {
             "fill": {
              "color": "#C8D4E3"
             },
             "line": {
              "color": "white"
             }
            },
            "type": "table"
           }
          ]
         },
         "layout": {
          "annotationdefaults": {
           "arrowcolor": "#2a3f5f",
           "arrowhead": 0,
           "arrowwidth": 1
          },
          "autotypenumbers": "strict",
          "coloraxis": {
           "colorbar": {
            "outlinewidth": 0,
            "ticks": ""
           }
          },
          "colorscale": {
           "diverging": [
            [
             0,
             "#8e0152"
            ],
            [
             0.1,
             "#c51b7d"
            ],
            [
             0.2,
             "#de77ae"
            ],
            [
             0.3,
             "#f1b6da"
            ],
            [
             0.4,
             "#fde0ef"
            ],
            [
             0.5,
             "#f7f7f7"
            ],
            [
             0.6,
             "#e6f5d0"
            ],
            [
             0.7,
             "#b8e186"
            ],
            [
             0.8,
             "#7fbc41"
            ],
            [
             0.9,
             "#4d9221"
            ],
            [
             1,
             "#276419"
            ]
           ],
           "sequential": [
            [
             0,
             "#0d0887"
            ],
            [
             0.1111111111111111,
             "#46039f"
            ],
            [
             0.2222222222222222,
             "#7201a8"
            ],
            [
             0.3333333333333333,
             "#9c179e"
            ],
            [
             0.4444444444444444,
             "#bd3786"
            ],
            [
             0.5555555555555556,
             "#d8576b"
            ],
            [
             0.6666666666666666,
             "#ed7953"
            ],
            [
             0.7777777777777778,
             "#fb9f3a"
            ],
            [
             0.8888888888888888,
             "#fdca26"
            ],
            [
             1,
             "#f0f921"
            ]
           ],
           "sequentialminus": [
            [
             0,
             "#0d0887"
            ],
            [
             0.1111111111111111,
             "#46039f"
            ],
            [
             0.2222222222222222,
             "#7201a8"
            ],
            [
             0.3333333333333333,
             "#9c179e"
            ],
            [
             0.4444444444444444,
             "#bd3786"
            ],
            [
             0.5555555555555556,
             "#d8576b"
            ],
            [
             0.6666666666666666,
             "#ed7953"
            ],
            [
             0.7777777777777778,
             "#fb9f3a"
            ],
            [
             0.8888888888888888,
             "#fdca26"
            ],
            [
             1,
             "#f0f921"
            ]
           ]
          },
          "colorway": [
           "#636efa",
           "#EF553B",
           "#00cc96",
           "#ab63fa",
           "#FFA15A",
           "#19d3f3",
           "#FF6692",
           "#B6E880",
           "#FF97FF",
           "#FECB52"
          ],
          "font": {
           "color": "#2a3f5f"
          },
          "geo": {
           "bgcolor": "white",
           "lakecolor": "white",
           "landcolor": "#E5ECF6",
           "showlakes": true,
           "showland": true,
           "subunitcolor": "white"
          },
          "hoverlabel": {
           "align": "left"
          },
          "hovermode": "closest",
          "mapbox": {
           "style": "light"
          },
          "paper_bgcolor": "white",
          "plot_bgcolor": "#E5ECF6",
          "polar": {
           "angularaxis": {
            "gridcolor": "white",
            "linecolor": "white",
            "ticks": ""
           },
           "bgcolor": "#E5ECF6",
           "radialaxis": {
            "gridcolor": "white",
            "linecolor": "white",
            "ticks": ""
           }
          },
          "scene": {
           "xaxis": {
            "backgroundcolor": "#E5ECF6",
            "gridcolor": "white",
            "gridwidth": 2,
            "linecolor": "white",
            "showbackground": true,
            "ticks": "",
            "zerolinecolor": "white"
           },
           "yaxis": {
            "backgroundcolor": "#E5ECF6",
            "gridcolor": "white",
            "gridwidth": 2,
            "linecolor": "white",
            "showbackground": true,
            "ticks": "",
            "zerolinecolor": "white"
           },
           "zaxis": {
            "backgroundcolor": "#E5ECF6",
            "gridcolor": "white",
            "gridwidth": 2,
            "linecolor": "white",
            "showbackground": true,
            "ticks": "",
            "zerolinecolor": "white"
           }
          },
          "shapedefaults": {
           "line": {
            "color": "#2a3f5f"
           }
          },
          "ternary": {
           "aaxis": {
            "gridcolor": "white",
            "linecolor": "white",
            "ticks": ""
           },
           "baxis": {
            "gridcolor": "white",
            "linecolor": "white",
            "ticks": ""
           },
           "bgcolor": "#E5ECF6",
           "caxis": {
            "gridcolor": "white",
            "linecolor": "white",
            "ticks": ""
           }
          },
          "title": {
           "x": 0.05
          },
          "xaxis": {
           "automargin": true,
           "gridcolor": "white",
           "linecolor": "white",
           "ticks": "",
           "title": {
            "standoff": 15
           },
           "zerolinecolor": "white",
           "zerolinewidth": 2
          },
          "yaxis": {
           "automargin": true,
           "gridcolor": "white",
           "linecolor": "white",
           "ticks": "",
           "title": {
            "standoff": 15
           },
           "zerolinecolor": "white",
           "zerolinewidth": 2
          }
         }
        },
        "title": {
         "text": "Hyperparameter Importances"
        },
        "xaxis": {
         "title": {
          "text": "Importance for Objective Value"
         }
        },
        "yaxis": {
         "title": {
          "text": "Hyperparameter"
         }
        }
       }
      },
      "text/html": [
       "<div>                        <script type=\"text/javascript\">window.PlotlyConfig = {MathJaxConfig: 'local'};</script>\n",
       "        <script src=\"https://cdn.plot.ly/plotly-2.16.1.min.js\"></script>                <div id=\"c9a6c8af-005a-4cf8-bbc1-f1acc6e7a8ec\" class=\"plotly-graph-div\" style=\"height:100%; width:100%;\"></div>            <script type=\"text/javascript\">                                    window.PLOTLYENV=window.PLOTLYENV || {};                                    if (document.getElementById(\"c9a6c8af-005a-4cf8-bbc1-f1acc6e7a8ec\")) {                    Plotly.newPlot(                        \"c9a6c8af-005a-4cf8-bbc1-f1acc6e7a8ec\",                        [{\"cliponaxis\":false,\"hovertemplate\":[\"early_stopping_round (IntDistribution): 0.0<extra></extra>\",\"bagging_fraction (FloatDistribution): 0.032611977598941876<extra></extra>\",\"lambda_l1 (FloatDistribution): 0.05770409840310311<extra></extra>\",\"num_leaves (IntDistribution): 0.06349789268645102<extra></extra>\",\"bagging_freq (IntDistribution): 0.0731394581700177<extra></extra>\",\"n_estimators (IntDistribution): 0.07435030171766167<extra></extra>\",\"min_child_samples (IntDistribution): 0.09361873243093845<extra></extra>\",\"feature_fraction (FloatDistribution): 0.0993000842752956<extra></extra>\",\"lambda_l2 (FloatDistribution): 0.09969126716912804<extra></extra>\",\"learning_rate (FloatDistribution): 0.40608618754846265<extra></extra>\"],\"marker\":{\"color\":\"rgb(66,146,198)\"},\"orientation\":\"h\",\"text\":[\"<0.01\",\"0.03\",\"0.06\",\"0.06\",\"0.07\",\"0.07\",\"0.09\",\"0.10\",\"0.10\",\"0.41\"],\"textposition\":\"outside\",\"x\":[0.0,0.032611977598941876,0.05770409840310311,0.06349789268645102,0.0731394581700177,0.07435030171766167,0.09361873243093845,0.0993000842752956,0.09969126716912804,0.40608618754846265],\"y\":[\"early_stopping_round\",\"bagging_fraction\",\"lambda_l1\",\"num_leaves\",\"bagging_freq\",\"n_estimators\",\"min_child_samples\",\"feature_fraction\",\"lambda_l2\",\"learning_rate\"],\"type\":\"bar\"}],                        {\"showlegend\":false,\"title\":{\"text\":\"Hyperparameter Importances\"},\"xaxis\":{\"title\":{\"text\":\"Importance for Objective Value\"}},\"yaxis\":{\"title\":{\"text\":\"Hyperparameter\"}},\"template\":{\"data\":{\"histogram2dcontour\":[{\"type\":\"histogram2dcontour\",\"colorbar\":{\"outlinewidth\":0,\"ticks\":\"\"},\"colorscale\":[[0.0,\"#0d0887\"],[0.1111111111111111,\"#46039f\"],[0.2222222222222222,\"#7201a8\"],[0.3333333333333333,\"#9c179e\"],[0.4444444444444444,\"#bd3786\"],[0.5555555555555556,\"#d8576b\"],[0.6666666666666666,\"#ed7953\"],[0.7777777777777778,\"#fb9f3a\"],[0.8888888888888888,\"#fdca26\"],[1.0,\"#f0f921\"]]}],\"choropleth\":[{\"type\":\"choropleth\",\"colorbar\":{\"outlinewidth\":0,\"ticks\":\"\"}}],\"histogram2d\":[{\"type\":\"histogram2d\",\"colorbar\":{\"outlinewidth\":0,\"ticks\":\"\"},\"colorscale\":[[0.0,\"#0d0887\"],[0.1111111111111111,\"#46039f\"],[0.2222222222222222,\"#7201a8\"],[0.3333333333333333,\"#9c179e\"],[0.4444444444444444,\"#bd3786\"],[0.5555555555555556,\"#d8576b\"],[0.6666666666666666,\"#ed7953\"],[0.7777777777777778,\"#fb9f3a\"],[0.8888888888888888,\"#fdca26\"],[1.0,\"#f0f921\"]]}],\"heatmap\":[{\"type\":\"heatmap\",\"colorbar\":{\"outlinewidth\":0,\"ticks\":\"\"},\"colorscale\":[[0.0,\"#0d0887\"],[0.1111111111111111,\"#46039f\"],[0.2222222222222222,\"#7201a8\"],[0.3333333333333333,\"#9c179e\"],[0.4444444444444444,\"#bd3786\"],[0.5555555555555556,\"#d8576b\"],[0.6666666666666666,\"#ed7953\"],[0.7777777777777778,\"#fb9f3a\"],[0.8888888888888888,\"#fdca26\"],[1.0,\"#f0f921\"]]}],\"heatmapgl\":[{\"type\":\"heatmapgl\",\"colorbar\":{\"outlinewidth\":0,\"ticks\":\"\"},\"colorscale\":[[0.0,\"#0d0887\"],[0.1111111111111111,\"#46039f\"],[0.2222222222222222,\"#7201a8\"],[0.3333333333333333,\"#9c179e\"],[0.4444444444444444,\"#bd3786\"],[0.5555555555555556,\"#d8576b\"],[0.6666666666666666,\"#ed7953\"],[0.7777777777777778,\"#fb9f3a\"],[0.8888888888888888,\"#fdca26\"],[1.0,\"#f0f921\"]]}],\"contourcarpet\":[{\"type\":\"contourcarpet\",\"colorbar\":{\"outlinewidth\":0,\"ticks\":\"\"}}],\"contour\":[{\"type\":\"contour\",\"colorbar\":{\"outlinewidth\":0,\"ticks\":\"\"},\"colorscale\":[[0.0,\"#0d0887\"],[0.1111111111111111,\"#46039f\"],[0.2222222222222222,\"#7201a8\"],[0.3333333333333333,\"#9c179e\"],[0.4444444444444444,\"#bd3786\"],[0.5555555555555556,\"#d8576b\"],[0.6666666666666666,\"#ed7953\"],[0.7777777777777778,\"#fb9f3a\"],[0.8888888888888888,\"#fdca26\"],[1.0,\"#f0f921\"]]}],\"surface\":[{\"type\":\"surface\",\"colorbar\":{\"outlinewidth\":0,\"ticks\":\"\"},\"colorscale\":[[0.0,\"#0d0887\"],[0.1111111111111111,\"#46039f\"],[0.2222222222222222,\"#7201a8\"],[0.3333333333333333,\"#9c179e\"],[0.4444444444444444,\"#bd3786\"],[0.5555555555555556,\"#d8576b\"],[0.6666666666666666,\"#ed7953\"],[0.7777777777777778,\"#fb9f3a\"],[0.8888888888888888,\"#fdca26\"],[1.0,\"#f0f921\"]]}],\"mesh3d\":[{\"type\":\"mesh3d\",\"colorbar\":{\"outlinewidth\":0,\"ticks\":\"\"}}],\"scatter\":[{\"fillpattern\":{\"fillmode\":\"overlay\",\"size\":10,\"solidity\":0.2},\"type\":\"scatter\"}],\"parcoords\":[{\"type\":\"parcoords\",\"line\":{\"colorbar\":{\"outlinewidth\":0,\"ticks\":\"\"}}}],\"scatterpolargl\":[{\"type\":\"scatterpolargl\",\"marker\":{\"colorbar\":{\"outlinewidth\":0,\"ticks\":\"\"}}}],\"bar\":[{\"error_x\":{\"color\":\"#2a3f5f\"},\"error_y\":{\"color\":\"#2a3f5f\"},\"marker\":{\"line\":{\"color\":\"#E5ECF6\",\"width\":0.5},\"pattern\":{\"fillmode\":\"overlay\",\"size\":10,\"solidity\":0.2}},\"type\":\"bar\"}],\"scattergeo\":[{\"type\":\"scattergeo\",\"marker\":{\"colorbar\":{\"outlinewidth\":0,\"ticks\":\"\"}}}],\"scatterpolar\":[{\"type\":\"scatterpolar\",\"marker\":{\"colorbar\":{\"outlinewidth\":0,\"ticks\":\"\"}}}],\"histogram\":[{\"marker\":{\"pattern\":{\"fillmode\":\"overlay\",\"size\":10,\"solidity\":0.2}},\"type\":\"histogram\"}],\"scattergl\":[{\"type\":\"scattergl\",\"marker\":{\"colorbar\":{\"outlinewidth\":0,\"ticks\":\"\"}}}],\"scatter3d\":[{\"type\":\"scatter3d\",\"line\":{\"colorbar\":{\"outlinewidth\":0,\"ticks\":\"\"}},\"marker\":{\"colorbar\":{\"outlinewidth\":0,\"ticks\":\"\"}}}],\"scattermapbox\":[{\"type\":\"scattermapbox\",\"marker\":{\"colorbar\":{\"outlinewidth\":0,\"ticks\":\"\"}}}],\"scatterternary\":[{\"type\":\"scatterternary\",\"marker\":{\"colorbar\":{\"outlinewidth\":0,\"ticks\":\"\"}}}],\"scattercarpet\":[{\"type\":\"scattercarpet\",\"marker\":{\"colorbar\":{\"outlinewidth\":0,\"ticks\":\"\"}}}],\"carpet\":[{\"aaxis\":{\"endlinecolor\":\"#2a3f5f\",\"gridcolor\":\"white\",\"linecolor\":\"white\",\"minorgridcolor\":\"white\",\"startlinecolor\":\"#2a3f5f\"},\"baxis\":{\"endlinecolor\":\"#2a3f5f\",\"gridcolor\":\"white\",\"linecolor\":\"white\",\"minorgridcolor\":\"white\",\"startlinecolor\":\"#2a3f5f\"},\"type\":\"carpet\"}],\"table\":[{\"cells\":{\"fill\":{\"color\":\"#EBF0F8\"},\"line\":{\"color\":\"white\"}},\"header\":{\"fill\":{\"color\":\"#C8D4E3\"},\"line\":{\"color\":\"white\"}},\"type\":\"table\"}],\"barpolar\":[{\"marker\":{\"line\":{\"color\":\"#E5ECF6\",\"width\":0.5},\"pattern\":{\"fillmode\":\"overlay\",\"size\":10,\"solidity\":0.2}},\"type\":\"barpolar\"}],\"pie\":[{\"automargin\":true,\"type\":\"pie\"}]},\"layout\":{\"autotypenumbers\":\"strict\",\"colorway\":[\"#636efa\",\"#EF553B\",\"#00cc96\",\"#ab63fa\",\"#FFA15A\",\"#19d3f3\",\"#FF6692\",\"#B6E880\",\"#FF97FF\",\"#FECB52\"],\"font\":{\"color\":\"#2a3f5f\"},\"hovermode\":\"closest\",\"hoverlabel\":{\"align\":\"left\"},\"paper_bgcolor\":\"white\",\"plot_bgcolor\":\"#E5ECF6\",\"polar\":{\"bgcolor\":\"#E5ECF6\",\"angularaxis\":{\"gridcolor\":\"white\",\"linecolor\":\"white\",\"ticks\":\"\"},\"radialaxis\":{\"gridcolor\":\"white\",\"linecolor\":\"white\",\"ticks\":\"\"}},\"ternary\":{\"bgcolor\":\"#E5ECF6\",\"aaxis\":{\"gridcolor\":\"white\",\"linecolor\":\"white\",\"ticks\":\"\"},\"baxis\":{\"gridcolor\":\"white\",\"linecolor\":\"white\",\"ticks\":\"\"},\"caxis\":{\"gridcolor\":\"white\",\"linecolor\":\"white\",\"ticks\":\"\"}},\"coloraxis\":{\"colorbar\":{\"outlinewidth\":0,\"ticks\":\"\"}},\"colorscale\":{\"sequential\":[[0.0,\"#0d0887\"],[0.1111111111111111,\"#46039f\"],[0.2222222222222222,\"#7201a8\"],[0.3333333333333333,\"#9c179e\"],[0.4444444444444444,\"#bd3786\"],[0.5555555555555556,\"#d8576b\"],[0.6666666666666666,\"#ed7953\"],[0.7777777777777778,\"#fb9f3a\"],[0.8888888888888888,\"#fdca26\"],[1.0,\"#f0f921\"]],\"sequentialminus\":[[0.0,\"#0d0887\"],[0.1111111111111111,\"#46039f\"],[0.2222222222222222,\"#7201a8\"],[0.3333333333333333,\"#9c179e\"],[0.4444444444444444,\"#bd3786\"],[0.5555555555555556,\"#d8576b\"],[0.6666666666666666,\"#ed7953\"],[0.7777777777777778,\"#fb9f3a\"],[0.8888888888888888,\"#fdca26\"],[1.0,\"#f0f921\"]],\"diverging\":[[0,\"#8e0152\"],[0.1,\"#c51b7d\"],[0.2,\"#de77ae\"],[0.3,\"#f1b6da\"],[0.4,\"#fde0ef\"],[0.5,\"#f7f7f7\"],[0.6,\"#e6f5d0\"],[0.7,\"#b8e186\"],[0.8,\"#7fbc41\"],[0.9,\"#4d9221\"],[1,\"#276419\"]]},\"xaxis\":{\"gridcolor\":\"white\",\"linecolor\":\"white\",\"ticks\":\"\",\"title\":{\"standoff\":15},\"zerolinecolor\":\"white\",\"automargin\":true,\"zerolinewidth\":2},\"yaxis\":{\"gridcolor\":\"white\",\"linecolor\":\"white\",\"ticks\":\"\",\"title\":{\"standoff\":15},\"zerolinecolor\":\"white\",\"automargin\":true,\"zerolinewidth\":2},\"scene\":{\"xaxis\":{\"backgroundcolor\":\"#E5ECF6\",\"gridcolor\":\"white\",\"linecolor\":\"white\",\"showbackground\":true,\"ticks\":\"\",\"zerolinecolor\":\"white\",\"gridwidth\":2},\"yaxis\":{\"backgroundcolor\":\"#E5ECF6\",\"gridcolor\":\"white\",\"linecolor\":\"white\",\"showbackground\":true,\"ticks\":\"\",\"zerolinecolor\":\"white\",\"gridwidth\":2},\"zaxis\":{\"backgroundcolor\":\"#E5ECF6\",\"gridcolor\":\"white\",\"linecolor\":\"white\",\"showbackground\":true,\"ticks\":\"\",\"zerolinecolor\":\"white\",\"gridwidth\":2}},\"shapedefaults\":{\"line\":{\"color\":\"#2a3f5f\"}},\"annotationdefaults\":{\"arrowcolor\":\"#2a3f5f\",\"arrowhead\":0,\"arrowwidth\":1},\"geo\":{\"bgcolor\":\"white\",\"landcolor\":\"#E5ECF6\",\"subunitcolor\":\"white\",\"showland\":true,\"showlakes\":true,\"lakecolor\":\"white\"},\"title\":{\"x\":0.05},\"mapbox\":{\"style\":\"light\"}}}},                        {\"responsive\": true}                    )                };                            </script>        </div>"
      ],
      "text/plain": [
       "Figure({\n",
       "    'data': [{'cliponaxis': False,\n",
       "              'hovertemplate': [early_stopping_round (IntDistribution):\n",
       "                                0.0<extra></extra>, bagging_fraction\n",
       "                                (FloatDistribution):\n",
       "                                0.032611977598941876<extra></extra>, lambda_l1\n",
       "                                (FloatDistribution):\n",
       "                                0.05770409840310311<extra></extra>, num_leaves\n",
       "                                (IntDistribution):\n",
       "                                0.06349789268645102<extra></extra>, bagging_freq\n",
       "                                (IntDistribution):\n",
       "                                0.0731394581700177<extra></extra>, n_estimators\n",
       "                                (IntDistribution):\n",
       "                                0.07435030171766167<extra></extra>,\n",
       "                                min_child_samples (IntDistribution):\n",
       "                                0.09361873243093845<extra></extra>,\n",
       "                                feature_fraction (FloatDistribution):\n",
       "                                0.0993000842752956<extra></extra>, lambda_l2\n",
       "                                (FloatDistribution):\n",
       "                                0.09969126716912804<extra></extra>, learning_rate\n",
       "                                (FloatDistribution):\n",
       "                                0.40608618754846265<extra></extra>],\n",
       "              'marker': {'color': 'rgb(66,146,198)'},\n",
       "              'orientation': 'h',\n",
       "              'text': [<0.01, 0.03, 0.06, 0.06, 0.07, 0.07, 0.09, 0.10, 0.10,\n",
       "                       0.41],\n",
       "              'textposition': 'outside',\n",
       "              'type': 'bar',\n",
       "              'x': [0.0, 0.032611977598941876, 0.05770409840310311,\n",
       "                    0.06349789268645102, 0.0731394581700177, 0.07435030171766167,\n",
       "                    0.09361873243093845, 0.0993000842752956, 0.09969126716912804,\n",
       "                    0.40608618754846265],\n",
       "              'y': [early_stopping_round, bagging_fraction, lambda_l1, num_leaves,\n",
       "                    bagging_freq, n_estimators, min_child_samples,\n",
       "                    feature_fraction, lambda_l2, learning_rate]}],\n",
       "    'layout': {'showlegend': False,\n",
       "               'template': '...',\n",
       "               'title': {'text': 'Hyperparameter Importances'},\n",
       "               'xaxis': {'title': {'text': 'Importance for Objective Value'}},\n",
       "               'yaxis': {'title': {'text': 'Hyperparameter'}}}\n",
       "})"
      ]
     },
     "execution_count": 11,
     "metadata": {},
     "output_type": "execute_result"
    }
   ],
   "source": [
    "optuna.visualization.plot_param_importances(study)"
   ]
  },
  {
   "cell_type": "code",
   "execution_count": 10,
   "metadata": {},
   "outputs": [
    {
     "name": "stdout",
     "output_type": "stream",
     "text": [
      "Accuracy_score: 0.7975460122699386\n"
     ]
    }
   ],
   "source": [
    "# {'lambda_l1': 6.342125218538641, 'lambda_l2': 4.952876696165546, 'learning_rate': 0.038816386806631235, \n",
    "# 'num_leaves': 355, 'feature_fraction': 0.4085304214789881, 'bagging_fraction': 0.4157415989360179, \n",
    "# 'bagging_freq': 4, 'min_child_samples': 6, 'n_estimators': 19880}\n",
    "\n",
    "clf=LGBMClassifier()\n",
    "parametres={'lambda': [4.765956631322167], 'alpha': [7.278969272081835], 'colsample_bytree': [0.6641875700915917],\n",
    "'subsample': [0.688162062678529], 'learning_rate': [0.02715737843456302], 'n_estimators': [2865],\n",
    "'max_depth': [8], 'min_child_weight': [4], 'num_parallel_tree': [1]}\n",
    "grid_search_cv_clf=GridSearchCV(clf,parametres,cv=5)\n",
    "grid_search_cv_clf.fit(X_train,y_train)\n",
    "best_clf2=grid_search_cv_clf.best_estimator_\n",
    "y_pred2=best_clf2.predict(X_test)\n",
    "print(f'Accuracy_score: {accuracy_score(y_test,y_pred2)}')"
   ]
  },
  {
   "cell_type": "code",
   "execution_count": 18,
   "metadata": {},
   "outputs": [],
   "source": [
    "import joblib\n",
    "model_path = './' + 'model/' + 'optunaXGB' +'.model'\n",
    "# model.save_model(model_path)\n",
    "joblib.dump(best_clf2, open(model_path, 'wb'))"
   ]
  },
  {
   "cell_type": "code",
   "execution_count": 11,
   "metadata": {},
   "outputs": [
    {
     "data": {
      "text/plain": [
       "Text(0.5, 1.0, 'Feature Importance')"
      ]
     },
     "execution_count": 11,
     "metadata": {},
     "output_type": "execute_result"
    },
    {
     "data": {
      "image/png": "[encoded data removed]",
      "text/plain": [
       "<Figure size 1200x600 with 1 Axes>"
      ]
     },
     "metadata": {},
     "output_type": "display_data"
    }
   ],
   "source": [
    "import matplotlib.pyplot as plt\n",
    "\n",
    "feature_importance = best_clf2.feature_importances_\n",
    "sorted_idx = np.argsort(feature_importance)\n",
    "fig = plt.figure(figsize=(12, 6))\n",
    "plt.barh(range(len(sorted_idx)), feature_importance[sorted_idx], align='center')\n",
    "plt.yticks(range(len(sorted_idx)), np.array(X_test.columns)[sorted_idx])\n",
    "plt.title('Feature Importance')\n"
   ]
  },
  {
   "cell_type": "code",
   "execution_count": 12,
   "metadata": {},
   "outputs": [
    {
     "data": {
      "image/png": "[encoded data removed]",
      "text/plain": [
       "<Figure size 640x480 with 1 Axes>"
      ]
     },
     "metadata": {},
     "output_type": "display_data"
    }
   ],
   "source": [
    "from sklearn.metrics import roc_curve, auc\n",
    "import matplotlib.pyplot as plt\n",
    "fpr, tpr, thresholds = roc_curve(y_test, y_pred2)\n",
    "roc_auc= auc(fpr, tpr)\n",
    "plt.figure()\n",
    "plt.plot(fpr, tpr, color='darkorange',\n",
    "          label='ROC curve (area = %0.2f)' % roc_auc)\n",
    "plt.plot([0, 1], [0, 1], color='navy', linestyle='--')\n",
    "plt.xlim([0.0, 1.0])\n",
    "plt.ylim([0.0, 1.05])\n",
    "plt.xlabel('False Positive Rate')\n",
    "plt.ylabel('True Positive Rate')\n",
    "plt.title('Receiver operating characteristic example')\n",
    "plt.legend(loc=\"lower right\")\n",
    "plt.show()"
   ]
  },
  {
   "cell_type": "code",
   "execution_count": 13,
   "metadata": {},
   "outputs": [],
   "source": [
    "# test_update = pd.read_csv('./kaggle/input/spaceship-titanic/test_AgeGroup_update.csv')\n",
    "test01 = test_update.drop(['PassengerId','Transported','testset','Name'],axis=1)\n",
    "y_predicted=best_clf2.predict(test01)"
   ]
  },
  {
   "cell_type": "code",
   "execution_count": 14,
   "metadata": {},
   "outputs": [],
   "source": [
    "submissions = pd.concat([test_update.PassengerId,pd.Series(y_predicted).map(bool)],axis=1)"
   ]
  },
  {
   "cell_type": "code",
   "execution_count": 15,
   "metadata": {},
   "outputs": [],
   "source": [
    "# pred = model.predict(test_update.drop(['Transported','testset','Name','PassengerId'],axis=1))"
   ]
  },
  {
   "cell_type": "code",
   "execution_count": 16,
   "metadata": {},
   "outputs": [],
   "source": [
    "submissions=submissions.rename(columns={0:'Transported'})"
   ]
  },
  {
   "cell_type": "code",
   "execution_count": 17,
   "metadata": {},
   "outputs": [],
   "source": [
    "submissions.to_csv('submissionXGB.csv',index=False)"
   ]
  },
  {
   "cell_type": "code",
   "execution_count": null,
   "metadata": {},
   "outputs": [],
   "source": []
  }
 ],
 "metadata": {
  "colab": {
   "provenance": []
  },
  "kernelspec": {
   "display_name": "Python 3",
   "language": "python",
   "name": "python3"
  },
  "language_info": {
   "codemirror_mode": {
    "name": "ipython",
    "version": 3
   },
   "file_extension": ".py",
   "mimetype": "text/x-python",
   "name": "python",
   "nbconvert_exporter": "python",
   "pygments_lexer": "ipython3",
   "version": "3.10.9"
  },
  "vscode": {
   "interpreter": {
    "hash": "cc2a200e1e6dab10c4dc3986f0e7a998296447c993c26561a1bd050a849d8214"
   }
  }
 },
 "nbformat": 4,
 "nbformat_minor": 1
}

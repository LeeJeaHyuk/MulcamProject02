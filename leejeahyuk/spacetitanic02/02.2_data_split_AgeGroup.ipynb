{
 "cells": [
  {
   "cell_type": "code",
   "execution_count": 19,
   "metadata": {},
   "outputs": [],
   "source": [
    "from IPython.core.interactiveshell import InteractiveShell\n",
    "InteractiveShell.ast_node_interactivity=\"all\""
   ]
  },
  {
   "attachments": {},
   "cell_type": "markdown",
   "metadata": {},
   "source": [
    "### 범주형 수치형 데이터 나누기\n",
    "1. catboost가 범주형데이터를 잘 분석한다\n",
    "    - totalspend를 그룹화 한 후 돈 관련 전부 삭제하고 catboost 돌려보기\n",
    "    - 수치형 데이터를 전부 범주형으로 바꾼 후 catboost 돌려보기"
   ]
  },
  {
   "cell_type": "code",
   "execution_count": 2,
   "metadata": {},
   "outputs": [],
   "source": [
    "import pandas as pd  \n",
    "df = pd.read_csv('./kaggle/input/spaceship-titanic/concat_TotalSpendGroup.csv')"
   ]
  },
  {
   "cell_type": "code",
   "execution_count": 3,
   "metadata": {},
   "outputs": [
    {
     "data": {
      "text/plain": [
       "Index(['PassengerId', 'HomePlanet', 'CryoSleep', 'Cabin', 'Destination', 'Age',\n",
       "       'VIP', 'RoomService', 'FoodCourt', 'ShoppingMall', 'Spa', 'VRDeck',\n",
       "       'TotalSpend', 'Name', 'TotalSpendGroup', 'Transported', 'testset'],\n",
       "      dtype='object')"
      ]
     },
     "execution_count": 3,
     "metadata": {},
     "output_type": "execute_result"
    }
   ],
   "source": [
    "df.columns"
   ]
  },
  {
   "cell_type": "code",
   "execution_count": 6,
   "metadata": {},
   "outputs": [
    {
     "data": {
      "text/plain": [
       "Index(['PassengerId', 'HomePlanet', 'CryoSleep', 'Cabin', 'Destination', 'Age',\n",
       "       'VIP', 'Name', 'TotalSpendGroup', 'Transported', 'testset'],\n",
       "      dtype='object')"
      ]
     },
     "execution_count": 6,
     "metadata": {},
     "output_type": "execute_result"
    }
   ],
   "source": [
    "df = df.drop(['RoomService', 'FoodCourt', 'ShoppingMall', 'Spa', 'VRDeck','TotalSpend',],axis=1)\n",
    "df.columns"
   ]
  },
  {
   "cell_type": "code",
   "execution_count": 28,
   "metadata": {},
   "outputs": [],
   "source": [
    "# Cabin 방 등급만 나누기\n",
    "df['Cabin'] = df['Cabin'].str[0]"
   ]
  },
  {
   "cell_type": "code",
   "execution_count": 29,
   "metadata": {},
   "outputs": [],
   "source": [
    "categorical = df[['PassengerId','HomePlanet','CryoSleep','Cabin','Destination','VIP','TotalSpendGroup','Transported','testset']]\n",
    "numerical = df[['PassengerId','Age','testset']]\n",
    "\n",
    "# categorical.isnull().sum()\n",
    "# numerical.isnull().sum()"
   ]
  },
  {
   "cell_type": "code",
   "execution_count": 20,
   "metadata": {},
   "outputs": [],
   "source": [
    "# df.info()"
   ]
  },
  {
   "cell_type": "code",
   "execution_count": 7,
   "metadata": {},
   "outputs": [],
   "source": [
    "# 범주형 데이터 변환\n",
    "def df_replace(dataframe):\n",
    "    \n",
    "    global df_train,df\n",
    "    df_temp = df\n",
    "    df = dataframe\n",
    "    df = df.replace({'55 Cancri e':0,'PSO J318.5-22':1,'TRAPPIST-1e':2})\n",
    "    df = df.replace({'Earth':0,'Europa':1,'Mars':2})\n",
    "    df = df.replace({False:0,True:1})\n",
    "\n",
    "    # Cabin : 번호  \n",
    "    df['Cabin'] = df['Cabin'].str[0]\n",
    "    df = df.replace({'A':0,'B':1,'C':2,'D':3,'E':4,'F':5,'G':6,'T':7})\n",
    "    \n",
    "    # df = pd.get_dummies(df, columns = ['Cabin'], dummy_na=False)\n",
    "\n",
    "\n",
    "    # col1 = df.columns[-8:].to_list()\n",
    "    # col2 = df.columns[3:-8].to_list()\n",
    "    # col3 = df.columns[:3].to_list()\n",
    "    # df_col = col3 + col1 + col2\n",
    "    # df = df[df_col]\n",
    "\n",
    "    # Cabin = {'A':0,'B':1,'C':2,'D':3,'E':4,'F':5,'G':6,'T':7}\n",
    "    Cabin_port = {'P':0, 'S':1} #P : 배의 좌현(port side) S: 배의 우현(starboard side) \n",
    "    Destination = {'55 Cancri e': 0, 'PSO J318.5-22': 1,'TRAPPIST-1e':2}\n",
    "    HomePlanet = {'Earth':0,'Europa':1,'Mars':2}\n",
    "    CryoSleep = {'False':0,'True':1}\n",
    "    VIP = {'False':0,'True':1}\n",
    "    Transported = {'False':0,'True':1}\n",
    "\n",
    "\n",
    "    df = df.astype({'HomePlanet':'float','CryoSleep':'float','Destination':'float',\n",
    "    'VIP':'float',    \n",
    "    })\n",
    "    \n",
    "# 'Cabin_A':'float','Cabin_B':'float','Cabin_C':'float','Cabin_D':'float','Cabin_E':'float','Cabin_F':'float',\n",
    "#     'Cabin_G':'float','Cabin_T':'float',\n",
    "# 'Transported':'float',\n",
    "df_replace(df)\n",
    "\n",
    "df_train = df"
   ]
  },
  {
   "cell_type": "code",
   "execution_count": 8,
   "metadata": {},
   "outputs": [
    {
     "name": "stdout",
     "output_type": "stream",
     "text": [
      "<class 'pandas.core.frame.DataFrame'>\n",
      "RangeIndex: 12970 entries, 0 to 12969\n",
      "Data columns (total 11 columns):\n",
      " #   Column           Non-Null Count  Dtype  \n",
      "---  ------           --------------  -----  \n",
      " 0   PassengerId      12970 non-null  object \n",
      " 1   HomePlanet       12682 non-null  float64\n",
      " 2   CryoSleep        12660 non-null  float64\n",
      " 3   Cabin            12671 non-null  float64\n",
      " 4   Destination      12696 non-null  float64\n",
      " 5   Age              12970 non-null  float64\n",
      " 6   VIP              12674 non-null  float64\n",
      " 7   Name             12676 non-null  object \n",
      " 8   TotalSpendGroup  12970 non-null  float64\n",
      " 9   Transported      8693 non-null   float64\n",
      " 10  testset          12970 non-null  int64  \n",
      "dtypes: float64(8), int64(1), object(2)\n",
      "memory usage: 1.1+ MB\n"
     ]
    }
   ],
   "source": [
    "# df.info()"
   ]
  },
  {
   "cell_type": "code",
   "execution_count": 52,
   "metadata": {},
   "outputs": [],
   "source": [
    "# from sklearn.preprocessing import StandardScaler\n",
    "# from sklearn.model_selection import train_test_split\n",
    "# import xgboost as xgb\n",
    "# import pandas as pd\n",
    "# import seaborn as sns\n",
    "# from xgboost import XGBClassifier\n",
    "# from sklearn.metrics import accuracy_score\n",
    "# import joblib\n",
    "\n",
    "# column_name = 'HomePlanet'\n",
    "# global df_update\n",
    "\n",
    "\n",
    "# df_column_name = df[df[column_name].isnull()]\n",
    "# df_dropna = df.dropna(subset=[column_name])\n",
    "# categorical01 = df_dropna[['PassengerId','HomePlanet','CryoSleep','Cabin','Destination','VIP','Transported','testset']]\n",
    "# numerical01 = df_dropna[['PassengerId','Age','RoomService','FoodCourt','ShoppingMall','Spa','VRDeck','TotalSpend','testset']]\n",
    "\n",
    "\n",
    "# X_train, X_test, y_train, y_test = train_test_split(categorical01.drop(['PassengerId',column_name,'testset'],axis=1)+numerical01.drop(['PassengerId','testset'], axis=1),categorical01[column_name], test_size=0.2, random_state=42)\n",
    "\n",
    "# model = xgb.XGBClassifier(early_stopping_rounds=10)\n",
    "# eval_set = [(X_test, y_test)]\n",
    "# model.fit(X_train, y_train, eval_set=eval_set, verbose=False)#, verbose=True\n",
    "\n",
    "# pred = model.predict(X_test)\n",
    "# acc = accuracy_score(y_test,pred)\n",
    "# print(acc)"
   ]
  },
  {
   "cell_type": "code",
   "execution_count": 9,
   "metadata": {},
   "outputs": [
    {
     "data": {
      "text/plain": [
       "Index(['PassengerId', 'HomePlanet', 'CryoSleep', 'Cabin', 'Destination', 'Age',\n",
       "       'VIP', 'Name', 'TotalSpendGroup', 'Transported', 'testset'],\n",
       "      dtype='object')"
      ]
     },
     "execution_count": 9,
     "metadata": {},
     "output_type": "execute_result"
    }
   ],
   "source": [
    "df.columns"
   ]
  },
  {
   "cell_type": "code",
   "execution_count": 10,
   "metadata": {},
   "outputs": [],
   "source": [
    "df = pd.get_dummies(df, columns = ['Cabin'], dummy_na=False)\n",
    "df = pd.get_dummies(df, columns = ['TotalSpendGroup'], dummy_na=False)"
   ]
  },
  {
   "cell_type": "code",
   "execution_count": 11,
   "metadata": {},
   "outputs": [
    {
     "data": {
      "text/plain": [
       "Index(['PassengerId', 'HomePlanet', 'CryoSleep', 'Destination', 'Age', 'VIP',\n",
       "       'Name', 'Transported', 'testset', 'Cabin_0.0', 'Cabin_1.0', 'Cabin_2.0',\n",
       "       'Cabin_3.0', 'Cabin_4.0', 'Cabin_5.0', 'Cabin_6.0', 'Cabin_7.0',\n",
       "       'TotalSpendGroup_0.0', 'TotalSpendGroup_1000.0',\n",
       "       'TotalSpendGroup_2500.0', 'TotalSpendGroup_5000.0',\n",
       "       'TotalSpendGroup_10000.0', 'TotalSpendGroup_15000.0'],\n",
       "      dtype='object')"
      ]
     },
     "execution_count": 11,
     "metadata": {},
     "output_type": "execute_result"
    }
   ],
   "source": [
    "df.columns"
   ]
  },
  {
   "cell_type": "code",
   "execution_count": 32,
   "metadata": {},
   "outputs": [
    {
     "data": {
      "text/plain": [
       "['Name', 'Transported', 'testset']"
      ]
     },
     "execution_count": 32,
     "metadata": {},
     "output_type": "execute_result"
    }
   ],
   "source": [
    "col2 = df.columns[6:-14].to_list()\n",
    "col2"
   ]
  },
  {
   "cell_type": "code",
   "execution_count": 34,
   "metadata": {},
   "outputs": [
    {
     "data": {
      "text/plain": [
       "23"
      ]
     },
     "execution_count": 34,
     "metadata": {},
     "output_type": "execute_result"
    },
    {
     "data": {
      "text/plain": [
       "23"
      ]
     },
     "execution_count": 34,
     "metadata": {},
     "output_type": "execute_result"
    }
   ],
   "source": [
    "col1 = df.columns[-14:-6].to_list()\n",
    "col2 = df.columns[6:-14].to_list()\n",
    "col3 = df.columns[:6].to_list()\n",
    "col4 = df.columns[-6:].to_list()\n",
    "\n",
    "df_col = col3 + col1 +col4 + col2 \n",
    "len(df.columns)\n",
    "len(df_col)\n",
    "\n",
    "df = df[df_col]\n",
    "df.rename(columns={'Cabin_0.0':'Cabin_A','Cabin_1.0':'Cabin_B','Cabin_2.0':'Cabin_C','Cabin_3.0':'Cabin_D',\n",
    "'Cabin_4.0':'Cabin_E','Cabin_5.0':'Cabin_F','Cabin_6.0':'Cabin_G','Cabin_7.0':'Cabin_T'}, inplace = True)\n",
    "df.rename(columns={'TotalSpendGroup_0.0':'Spend_0', 'TotalSpendGroup_1000.0':'Spend_0to1k',\n",
    "       'TotalSpendGroup_2500.0', 'TotalSpendGroup_5000.0',\n",
    "       'TotalSpendGroup_10000.0', 'TotalSpendGroup_15000.0'}, inplace = True)"
   ]
  },
  {
   "cell_type": "code",
   "execution_count": 66,
   "metadata": {},
   "outputs": [],
   "source": [
    "col1 = df.columns[-14:-6].to_list()\n",
    "col2 = df.columns[3:-14].to_list()\n",
    "col3 = df.columns[:3].to_list()\n",
    "df_col = col3 + col1 + col2\n",
    "df = df[df_col]\n",
    "df.rename(columns={'Cabin_0.0':'Cabin_A','Cabin_1.0':'Cabin_B','Cabin_2.0':'Cabin_C','Cabin_3.0':'Cabin_D',\n",
    "'Cabin_4.0':'Cabin_E','Cabin_5.0':'Cabin_F','Cabin_6.0':'Cabin_G','Cabin_7.0':'Cabin_T'}, inplace = True)"
   ]
  },
  {
   "cell_type": "code",
   "execution_count": 51,
   "metadata": {},
   "outputs": [
    {
     "data": {
      "text/plain": [
       "PassengerId        0\n",
       "HomePlanet         0\n",
       "CryoSleep          0\n",
       "Cabin              0\n",
       "Destination      274\n",
       "Age                0\n",
       "VIP                0\n",
       "RoomService        0\n",
       "FoodCourt          0\n",
       "ShoppingMall       0\n",
       "Spa                0\n",
       "VRDeck             0\n",
       "TotalSpend         0\n",
       "Name             294\n",
       "Transported     4277\n",
       "testset            0\n",
       "dtype: int64"
      ]
     },
     "execution_count": 51,
     "metadata": {},
     "output_type": "execute_result"
    }
   ],
   "source": [
    "df_update.isnull().sum()\n",
    "df_train = df_update"
   ]
  },
  {
   "cell_type": "code",
   "execution_count": 43,
   "metadata": {},
   "outputs": [
    {
     "data": {
      "text/plain": [
       "Index(['PassengerId', 'HomePlanet', 'CryoSleep', 'Cabin', 'Destination', 'Age',\n",
       "       'VIP', 'RoomService', 'FoodCourt', 'ShoppingMall', 'Spa', 'VRDeck',\n",
       "       'TotalSpend', 'Name', 'Transported', 'testset'],\n",
       "      dtype='object')"
      ]
     },
     "execution_count": 43,
     "metadata": {},
     "output_type": "execute_result"
    }
   ],
   "source": [
    "df_train.columns"
   ]
  },
  {
   "cell_type": "code",
   "execution_count": 53,
   "metadata": {},
   "outputs": [
    {
     "name": "stdout",
     "output_type": "stream",
     "text": [
      "0.7114173228346456\n"
     ]
    },
    {
     "name": "stderr",
     "output_type": "stream",
     "text": [
      "C:\\Users\\deepBlue\\AppData\\Local\\Temp\\ipykernel_5452\\3358964935.py:36: SettingWithCopyWarning: \n",
      "A value is trying to be set on a copy of a slice from a DataFrame.\n",
      "Try using .loc[row_indexer,col_indexer] = value instead\n",
      "\n",
      "See the caveats in the documentation: https://pandas.pydata.org/pandas-docs/stable/user_guide/indexing.html#returning-a-view-versus-a-copy\n",
      "  df_column_name[column_name] = pred\n"
     ]
    }
   ],
   "source": [
    "from sklearn.preprocessing import StandardScaler\n",
    "from sklearn.model_selection import train_test_split\n",
    "import xgboost as xgb\n",
    "import pandas as pd\n",
    "import seaborn as sns\n",
    "from xgboost import XGBClassifier\n",
    "from sklearn.metrics import accuracy_score\n",
    "import joblib\n",
    "\n",
    "def fillnullclassifier(column_name):\n",
    "\n",
    "    global df_update\n",
    "\n",
    "    df_column_name = df_train[df_train[column_name].isnull()]\n",
    "\n",
    "    df_train01 = df_train.dropna(subset=[column_name])\n",
    "\n",
    "    X_train, X_test, y_train, y_test = train_test_split(df_train01.drop(['PassengerId',column_name,'Name'],axis=1),df_train01[column_name], test_size=0.2, random_state=42)\n",
    "    model = xgb.XGBClassifier(early_stopping_rounds=10)\n",
    "    eval_set = [(X_test, y_test)]\n",
    "    model.fit(X_train, y_train, eval_set=eval_set, verbose=False)#, verbose=True\n",
    "\n",
    "    # 모델 저장\n",
    "    model_path = './' + 'xgb_model/' +column_name +'.model'\n",
    "    # model.save_model(model_path)\n",
    "    joblib.dump(model, open(model_path, 'wb'))\n",
    "\n",
    "    pred = model.predict(X_test)\n",
    "    acc = accuracy_score(y_test,pred)\n",
    "    print(acc)\n",
    "    \n",
    "    df_column_name_null = df_column_name.drop(column_name,axis=1)\n",
    "\n",
    "    pred = model.predict(df_column_name_null.drop(['PassengerId','Name'],axis=1))\n",
    "\n",
    "    df_column_name[column_name] = pred\n",
    "\n",
    "    df_update = pd.concat([df_train01,df_column_name],axis=0)\n",
    "\n",
    "fillnullclassifier('Destination')"
   ]
  },
  {
   "cell_type": "code",
   "execution_count": 64,
   "metadata": {},
   "outputs": [],
   "source": [
    "df_update.to_csv('./kaggle/input/spaceship-titanic/df_concat_categorical_update')"
   ]
  },
  {
   "cell_type": "code",
   "execution_count": 77,
   "metadata": {},
   "outputs": [
    {
     "data": {
      "text/plain": [
       "Index(['PassengerId', 'HomePlanet', 'CryoSleep', 'Cabin_A', 'Cabin_B',\n",
       "       'Cabin_C', 'Cabin_D', 'Cabin_E', 'Cabin_F', 'Cabin_G', 'Cabin_T',\n",
       "       'Destination', 'Age', 'VIP', 'RoomService', 'FoodCourt', 'ShoppingMall',\n",
       "       'Spa', 'VRDeck', 'TotalSpend', 'Name', 'Transported', 'testset'],\n",
       "      dtype='object')"
      ]
     },
     "execution_count": 77,
     "metadata": {},
     "output_type": "execute_result"
    },
    {
     "data": {
      "text/plain": [
       "PassengerId        0\n",
       "HomePlanet         0\n",
       "CryoSleep          0\n",
       "Cabin_A            0\n",
       "Cabin_B            0\n",
       "Cabin_C            0\n",
       "Cabin_D            0\n",
       "Cabin_E            0\n",
       "Cabin_F            0\n",
       "Cabin_G            0\n",
       "Cabin_T            0\n",
       "Destination        0\n",
       "Age                0\n",
       "VIP                0\n",
       "RoomService        0\n",
       "FoodCourt          0\n",
       "ShoppingMall       0\n",
       "Spa                0\n",
       "VRDeck             0\n",
       "TotalSpend         0\n",
       "Name             294\n",
       "Transported     4277\n",
       "testset            0\n",
       "dtype: int64"
      ]
     },
     "execution_count": 77,
     "metadata": {},
     "output_type": "execute_result"
    }
   ],
   "source": [
    "df.columns\n",
    "df.isnull().sum()"
   ]
  },
  {
   "cell_type": "code",
   "execution_count": 78,
   "metadata": {},
   "outputs": [],
   "source": [
    "df.loc[(df['testset']==0)].to_csv('./kaggle/input/spaceship-titanic/train_update.csv',index=False)\n",
    "df.loc[(df['testset']==1)].to_csv('./kaggle/input/spaceship-titanic/test_update.csv',index=False)"
   ]
  },
  {
   "cell_type": "code",
   "execution_count": null,
   "metadata": {},
   "outputs": [],
   "source": []
  }
 ],
 "metadata": {
  "kernelspec": {
   "display_name": "Python 3",
   "language": "python",
   "name": "python3"
  },
  "language_info": {
   "codemirror_mode": {
    "name": "ipython",
    "version": 3
   },
   "file_extension": ".py",
   "mimetype": "text/x-python",
   "name": "python",
   "nbconvert_exporter": "python",
   "pygments_lexer": "ipython3",
   "version": "3.10.9"
  },
  "orig_nbformat": 4,
  "vscode": {
   "interpreter": {
    "hash": "cc2a200e1e6dab10c4dc3986f0e7a998296447c993c26561a1bd050a849d8214"
   }
  }
 },
 "nbformat": 4,
 "nbformat_minor": 2
}

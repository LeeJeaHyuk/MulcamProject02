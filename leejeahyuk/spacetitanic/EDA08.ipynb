{
 "cells": [
  {
   "cell_type": "markdown",
   "metadata": {},
   "source": [
    "### Totalspend 추가"
   ]
  },
  {
   "cell_type": "code",
   "execution_count": 1,
   "metadata": {},
   "outputs": [],
   "source": [
    "from IPython.core.interactiveshell import InteractiveShell\n",
    "InteractiveShell.ast_node_interactivity=\"all\""
   ]
  },
  {
   "cell_type": "code",
   "execution_count": 1,
   "metadata": {},
   "outputs": [],
   "source": [
    "import numpy as np\n",
    "import pandas as pd\n",
    "\n",
    "df = pd.read_csv('./kaggle/input/spaceship-titanic/train_update.csv')"
   ]
  },
  {
   "cell_type": "code",
   "execution_count": 6,
   "metadata": {},
   "outputs": [],
   "source": [
    "df = df.astype({'HomePlanet':'float','CryoSleep':'float','Cabin_num':'float','Cabin_port':'float',\n",
    "'Destination':'float','Age':'float','VIP':'float','RoomService':'float','FoodCourt':'float'\n",
    ",'ShoppingMall':'float','Spa':'float','VRDeck':'float','Transported':'float',\n",
    "'Cabin_A':'float','Cabin_B':'float','Cabin_C':'float','Cabin_D':'float','Cabin_E':'float','Cabin_F':'float',\n",
    "'Cabin_G':'float','Cabin_T':'float','TotalSpend':'float'\n",
    "})"
   ]
  },
  {
   "cell_type": "code",
   "execution_count": 7,
   "metadata": {},
   "outputs": [
    {
     "name": "stdout",
     "output_type": "stream",
     "text": [
      "<class 'pandas.core.frame.DataFrame'>\n",
      "RangeIndex: 8494 entries, 0 to 8493\n",
      "Data columns (total 21 columns):\n",
      " #   Column        Non-Null Count  Dtype  \n",
      "---  ------        --------------  -----  \n",
      " 0   HomePlanet    8494 non-null   float64\n",
      " 1   CryoSleep     8494 non-null   float64\n",
      " 2   Cabin_A       8494 non-null   float64\n",
      " 3   Cabin_B       8494 non-null   float64\n",
      " 4   Cabin_C       8494 non-null   float64\n",
      " 5   Cabin_D       8494 non-null   float64\n",
      " 6   Cabin_E       8494 non-null   float64\n",
      " 7   Cabin_F       8494 non-null   float64\n",
      " 8   Cabin_G       8494 non-null   float64\n",
      " 9   Cabin_T       8494 non-null   float64\n",
      " 10  Cabin_num     8494 non-null   float64\n",
      " 11  Cabin_port    8494 non-null   float64\n",
      " 12  Destination   8494 non-null   float64\n",
      " 13  Age           8494 non-null   float64\n",
      " 14  VIP           8494 non-null   float64\n",
      " 15  RoomService   8494 non-null   float64\n",
      " 16  FoodCourt     8494 non-null   float64\n",
      " 17  ShoppingMall  8494 non-null   float64\n",
      " 18  Spa           8494 non-null   float64\n",
      " 19  VRDeck        8494 non-null   float64\n",
      " 20  TotalSpend    8494 non-null   float64\n",
      "dtypes: float64(21)\n",
      "memory usage: 1.4 MB\n"
     ]
    }
   ],
   "source": [
    "# df.info()\n",
    "df.drop(['PassengerId','Transported','Name'],axis=1).info()"
   ]
  },
  {
   "cell_type": "code",
   "execution_count": 4,
   "metadata": {},
   "outputs": [
    {
     "data": {
      "text/plain": [
       "Index(['PassengerId', 'HomePlanet', 'CryoSleep', 'Cabin_A', 'Cabin_B',\n",
       "       'Cabin_C', 'Cabin_D', 'Cabin_E', 'Cabin_F', 'Cabin_G', 'Cabin_T',\n",
       "       'Cabin_num', 'Cabin_port', 'Destination', 'Age', 'VIP', 'RoomService',\n",
       "       'FoodCourt', 'ShoppingMall', 'Spa', 'VRDeck', 'Name', 'Transported'],\n",
       "      dtype='object')"
      ]
     },
     "execution_count": 4,
     "metadata": {},
     "output_type": "execute_result"
    }
   ],
   "source": [
    "df.columns"
   ]
  },
  {
   "cell_type": "code",
   "execution_count": 5,
   "metadata": {},
   "outputs": [],
   "source": [
    "df['TotalSpend'] = df['RoomService'] + df['FoodCourt']+ df['ShoppingMall'] + df['Spa'] + df['VRDeck']"
   ]
  },
  {
   "cell_type": "code",
   "execution_count": 8,
   "metadata": {},
   "outputs": [],
   "source": [
    "df.columns\n",
    "df = df[['PassengerId', 'HomePlanet', 'CryoSleep', 'Cabin_A', 'Cabin_B',\n",
    "       'Cabin_C', 'Cabin_D', 'Cabin_E', 'Cabin_F', 'Cabin_G', 'Cabin_T',\n",
    "       'Cabin_num', 'Cabin_port', 'Destination', 'Age', 'VIP', 'RoomService',\n",
    "       'FoodCourt', 'ShoppingMall', 'Spa', 'VRDeck', 'TotalSpend','Name','Transported']]\n",
    "\n",
    "df.to_csv('./kaggle/input/spaceship-titanic/train_update.csv', index=False)"
   ]
  },
  {
   "cell_type": "code",
   "execution_count": null,
   "metadata": {},
   "outputs": [],
   "source": []
  }
 ],
 "metadata": {
  "kernelspec": {
   "display_name": "Python 3.10.8 64-bit (microsoft store)",
   "language": "python",
   "name": "python3"
  },
  "language_info": {
   "codemirror_mode": {
    "name": "ipython",
    "version": 3
   },
   "file_extension": ".py",
   "mimetype": "text/x-python",
   "name": "python",
   "nbconvert_exporter": "python",
   "pygments_lexer": "ipython3",
   "version": "3.10.8"
  },
  "orig_nbformat": 4,
  "vscode": {
   "interpreter": {
    "hash": "e0acaf148705ed9ed86cc5cad12259d7985e30670e5686e5f55604a9b3b84a55"
   }
  }
 },
 "nbformat": 4,
 "nbformat_minor": 2
}

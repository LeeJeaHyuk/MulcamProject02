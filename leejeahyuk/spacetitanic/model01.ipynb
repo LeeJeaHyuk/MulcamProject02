{
 "cells": [
  {
   "cell_type": "code",
   "execution_count": 28,
   "id": "2f92eacf",
   "metadata": {},
   "outputs": [],
   "source": [
    "from sklearn.model_selection import train_test_split\n",
    "from sklearn import metrics\n",
    "from sklearn.ensemble import RandomForestClassifier\n",
    "\n",
    "import seaborn as sns\n",
    "import pandas as pd\n",
    "import numpy as np\n",
    "import matplotlib.pyplot as plt"
   ]
  },
  {
   "cell_type": "code",
   "execution_count": 29,
   "id": "6e7e9384",
   "metadata": {},
   "outputs": [],
   "source": [
    "from IPython.core.interactiveshell import InteractiveShell\n",
    "InteractiveShell.ast_node_interactivity=\"all\""
   ]
  },
  {
   "cell_type": "code",
   "execution_count": 30,
   "id": "9a1ec6bb",
   "metadata": {},
   "outputs": [
    {
     "data": {
      "text/plain": [
       "(8494, 24)"
      ]
     },
     "execution_count": 30,
     "metadata": {},
     "output_type": "execute_result"
    }
   ],
   "source": [
    "df = pd.read_csv('./kaggle/input/spaceship-titanic/train_update.csv')\n",
    "df.shape  "
   ]
  },
  {
   "cell_type": "code",
   "execution_count": 31,
   "id": "69272625",
   "metadata": {},
   "outputs": [
    {
     "data": {
      "text/plain": [
       "Index(['PassengerId', 'HomePlanet', 'CryoSleep', 'Cabin_A', 'Cabin_B',\n",
       "       'Cabin_C', 'Cabin_D', 'Cabin_E', 'Cabin_F', 'Cabin_G', 'Cabin_T',\n",
       "       'Cabin_num', 'Cabin_port', 'Destination', 'Age', 'VIP', 'RoomService',\n",
       "       'FoodCourt', 'ShoppingMall', 'Spa', 'VRDeck', 'TotalSpend', 'Name',\n",
       "       'Transported'],\n",
       "      dtype='object')"
      ]
     },
     "execution_count": 31,
     "metadata": {},
     "output_type": "execute_result"
    }
   ],
   "source": [
    "df.columns"
   ]
  },
  {
   "cell_type": "markdown",
   "id": "73816df1",
   "metadata": {},
   "source": [
    "#### scaler"
   ]
  },
  {
   "cell_type": "code",
   "execution_count": 32,
   "id": "e7fbe61a",
   "metadata": {},
   "outputs": [],
   "source": [
    "# from sklearn.model_selection import train_test_split\n",
    "# X_train, X_test, y_train, y_test = \\\n",
    "# train_test_split(df.drop(['PassengerId','Transported','Name'],axis=1),df['Transported'], test_size=0.2, random_state=42)\n"
   ]
  },
  {
   "cell_type": "code",
   "execution_count": 39,
   "id": "f60e0f09",
   "metadata": {},
   "outputs": [
    {
     "name": "stdout",
     "output_type": "stream",
     "text": [
      "<class 'pandas.core.frame.DataFrame'>\n",
      "RangeIndex: 8494 entries, 0 to 8493\n",
      "Data columns (total 20 columns):\n",
      " #   Column        Non-Null Count  Dtype  \n",
      "---  ------        --------------  -----  \n",
      " 0   HomePlanet    8494 non-null   float64\n",
      " 1   CryoSleep     8494 non-null   float64\n",
      " 2   Cabin_A       8494 non-null   float64\n",
      " 3   Cabin_B       8494 non-null   float64\n",
      " 4   Cabin_C       8494 non-null   float64\n",
      " 5   Cabin_D       8494 non-null   float64\n",
      " 6   Cabin_E       8494 non-null   float64\n",
      " 7   Cabin_F       8494 non-null   float64\n",
      " 8   Cabin_G       8494 non-null   float64\n",
      " 9   Cabin_T       8494 non-null   float64\n",
      " 10  Cabin_num     8494 non-null   float64\n",
      " 11  Cabin_port    8494 non-null   float64\n",
      " 12  Destination   8494 non-null   float64\n",
      " 13  Age           8494 non-null   float64\n",
      " 14  RoomService   8494 non-null   float64\n",
      " 15  FoodCourt     8494 non-null   float64\n",
      " 16  ShoppingMall  8494 non-null   float64\n",
      " 17  Spa           8494 non-null   float64\n",
      " 18  VRDeck        8494 non-null   float64\n",
      " 19  TotalSpend    8494 non-null   float64\n",
      "dtypes: float64(20)\n",
      "memory usage: 1.3 MB\n"
     ]
    }
   ],
   "source": [
    "# df.info()\n",
    "df.drop(['PassengerId','Transported','Name','VIP'],axis=1).info()"
   ]
  },
  {
   "cell_type": "markdown",
   "id": "28742e8a",
   "metadata": {},
   "source": [
    "#### minxax scaler"
   ]
  },
  {
   "cell_type": "code",
   "execution_count": 40,
   "id": "5035b360",
   "metadata": {},
   "outputs": [
    {
     "name": "stdout",
     "output_type": "stream",
     "text": [
      "MinMaxScaler Results\n"
     ]
    }
   ],
   "source": [
    "from sklearn.preprocessing import StandardScaler\n",
    "from sklearn.preprocessing import MinMaxScaler\n",
    "from sklearn.preprocessing import RobustScaler\n",
    "\n",
    "from sklearn.model_selection import train_test_split\n",
    "\n",
    "df = pd.read_csv('./kaggle/input/spaceship-titanic/train_update.csv')\n",
    "\n",
    "def selectscaler(scaler_name):\n",
    "    global X_train,X_test,y_train,y_test\n",
    "    \n",
    "    X_train, X_test, y_train, y_test = \\\n",
    "    train_test_split(df.drop(['PassengerId','Transported','Name','VIP'],axis=1),df['Transported'], test_size=0.2, random_state=42)\n",
    "\n",
    "    if scaler_name == 'StandardScaler':\n",
    "        #StandardScaler\n",
    "        scaler = StandardScaler()\n",
    "        columns = list(X_train.columns)\n",
    "\n",
    "        X_train_minmax = scaler.fit_transform(X_train)\n",
    "        X_train = pd.DataFrame(X_train_minmax, columns = columns)\n",
    "\n",
    "        X_test_minmax = scaler.transform(X_test)\n",
    "        X_test = pd.DataFrame(X_test_minmax, columns = columns)\n",
    "        return print('StandardScaler Results')\n",
    "    \n",
    "    elif scaler_name == \"MinMaxScaler\":\n",
    "        # MinMaxScaler\n",
    "        scaler = MinMaxScaler()\n",
    "        columns = list(X_train.columns)\n",
    "\n",
    "        X_train_minmax = scaler.fit_transform(X_train)\n",
    "        X_train = pd.DataFrame(X_train_minmax, columns = columns)\n",
    "\n",
    "        X_test_minmax = scaler.transform(X_test)\n",
    "        X_test = pd.DataFrame(X_test_minmax, columns = columns)\n",
    "        return print('MinMaxScaler Results')\n",
    "\n",
    "    elif scaler_name == \"RobustScaler\":\n",
    "        # RobustScaler\n",
    "        scaler = RobustScaler()\n",
    "        columns = list(X_train.columns)\n",
    "\n",
    "        X_train_minmax = scaler.fit_transform(X_train)\n",
    "        X_train = pd.DataFrame(X_train_minmax, columns = columns)\n",
    "\n",
    "        X_test_minmax = scaler.transform(X_test)\n",
    "        X_test = pd.DataFrame(X_test_minmax, columns = columns)\n",
    "        \n",
    "        return print('RobustScaler Results')\n",
    "    else:\n",
    "        return print('Results not scaled, Please use : StandardScaler,MinMaxScaler,RobustScaler')\n",
    "\n",
    "selectscaler('MinMaxScaler')"
   ]
  },
  {
   "cell_type": "markdown",
   "id": "ef7a3a34",
   "metadata": {},
   "source": [
    "#### 3-2 모델"
   ]
  },
  {
   "cell_type": "code",
   "execution_count": 41,
   "id": "15bec77b",
   "metadata": {},
   "outputs": [
    {
     "name": "stdout",
     "output_type": "stream",
     "text": [
      "Fitting 5 folds for each of 19440 candidates, totalling 97200 fits\n"
     ]
    },
    {
     "data": {
      "text/html": [
       "<style>#sk-container-id-3 {color: black;background-color: white;}#sk-container-id-3 pre{padding: 0;}#sk-container-id-3 div.sk-toggleable {background-color: white;}#sk-container-id-3 label.sk-toggleable__label {cursor: pointer;display: block;width: 100%;margin-bottom: 0;padding: 0.3em;box-sizing: border-box;text-align: center;}#sk-container-id-3 label.sk-toggleable__label-arrow:before {content: \"▸\";float: left;margin-right: 0.25em;color: #696969;}#sk-container-id-3 label.sk-toggleable__label-arrow:hover:before {color: black;}#sk-container-id-3 div.sk-estimator:hover label.sk-toggleable__label-arrow:before {color: black;}#sk-container-id-3 div.sk-toggleable__content {max-height: 0;max-width: 0;overflow: hidden;text-align: left;background-color: #f0f8ff;}#sk-container-id-3 div.sk-toggleable__content pre {margin: 0.2em;color: black;border-radius: 0.25em;background-color: #f0f8ff;}#sk-container-id-3 input.sk-toggleable__control:checked~div.sk-toggleable__content {max-height: 200px;max-width: 100%;overflow: auto;}#sk-container-id-3 input.sk-toggleable__control:checked~label.sk-toggleable__label-arrow:before {content: \"▾\";}#sk-container-id-3 div.sk-estimator input.sk-toggleable__control:checked~label.sk-toggleable__label {background-color: #d4ebff;}#sk-container-id-3 div.sk-label input.sk-toggleable__control:checked~label.sk-toggleable__label {background-color: #d4ebff;}#sk-container-id-3 input.sk-hidden--visually {border: 0;clip: rect(1px 1px 1px 1px);clip: rect(1px, 1px, 1px, 1px);height: 1px;margin: -1px;overflow: hidden;padding: 0;position: absolute;width: 1px;}#sk-container-id-3 div.sk-estimator {font-family: monospace;background-color: #f0f8ff;border: 1px dotted black;border-radius: 0.25em;box-sizing: border-box;margin-bottom: 0.5em;}#sk-container-id-3 div.sk-estimator:hover {background-color: #d4ebff;}#sk-container-id-3 div.sk-parallel-item::after {content: \"\";width: 100%;border-bottom: 1px solid gray;flex-grow: 1;}#sk-container-id-3 div.sk-label:hover label.sk-toggleable__label {background-color: #d4ebff;}#sk-container-id-3 div.sk-serial::before {content: \"\";position: absolute;border-left: 1px solid gray;box-sizing: border-box;top: 0;bottom: 0;left: 50%;z-index: 0;}#sk-container-id-3 div.sk-serial {display: flex;flex-direction: column;align-items: center;background-color: white;padding-right: 0.2em;padding-left: 0.2em;position: relative;}#sk-container-id-3 div.sk-item {position: relative;z-index: 1;}#sk-container-id-3 div.sk-parallel {display: flex;align-items: stretch;justify-content: center;background-color: white;position: relative;}#sk-container-id-3 div.sk-item::before, #sk-container-id-3 div.sk-parallel-item::before {content: \"\";position: absolute;border-left: 1px solid gray;box-sizing: border-box;top: 0;bottom: 0;left: 50%;z-index: -1;}#sk-container-id-3 div.sk-parallel-item {display: flex;flex-direction: column;z-index: 1;position: relative;background-color: white;}#sk-container-id-3 div.sk-parallel-item:first-child::after {align-self: flex-end;width: 50%;}#sk-container-id-3 div.sk-parallel-item:last-child::after {align-self: flex-start;width: 50%;}#sk-container-id-3 div.sk-parallel-item:only-child::after {width: 0;}#sk-container-id-3 div.sk-dashed-wrapped {border: 1px dashed gray;margin: 0 0.4em 0.5em 0.4em;box-sizing: border-box;padding-bottom: 0.4em;background-color: white;}#sk-container-id-3 div.sk-label label {font-family: monospace;font-weight: bold;display: inline-block;line-height: 1.2em;}#sk-container-id-3 div.sk-label-container {text-align: center;}#sk-container-id-3 div.sk-container {/* jupyter's `normalize.less` sets `[hidden] { display: none; }` but bootstrap.min.css set `[hidden] { display: none !important; }` so we also need the `!important` here to be able to override the default hidden behavior on the sphinx rendered scikit-learn.org. See: https://github.com/scikit-learn/scikit-learn/issues/21755 */display: inline-block !important;position: relative;}#sk-container-id-3 div.sk-text-repr-fallback {display: none;}</style><div id=\"sk-container-id-3\" class=\"sk-top-container\"><div class=\"sk-text-repr-fallback\"><pre>GridSearchCV(cv=5, estimator=DecisionTreeClassifier(), n_jobs=-1,\n",
       "             param_grid={&#x27;criterion&#x27;: [&#x27;gini&#x27;, &#x27;entropy&#x27;],\n",
       "                         &#x27;max_depth&#x27;: array([ 2,  3,  4,  5,  6,  7,  8,  9, 10, 11, 12, 13, 14, 15, 16, 17, 18,\n",
       "       19]),\n",
       "                         &#x27;min_impurity_decrease&#x27;: array([0. , 0.3, 0.4]),\n",
       "                         &#x27;min_samples_split&#x27;: array([ 2,  3,  4,  5,  6,  7,  8,  9, 10, 11, 12, 13, 14, 15, 16, 17, 18,\n",
       "       19]),\n",
       "                         &#x27;min_weight_fraction_leaf&#x27;: array([0. , 0.1, 0.2, 0.3, 0.4]),\n",
       "                         &#x27;random_state&#x27;: [42], &#x27;splitter&#x27;: [&#x27;best&#x27;, &#x27;random&#x27;]},\n",
       "             verbose=1)</pre><b>In a Jupyter environment, please rerun this cell to show the HTML representation or trust the notebook. <br />On GitHub, the HTML representation is unable to render, please try loading this page with nbviewer.org.</b></div><div class=\"sk-container\" hidden><div class=\"sk-item sk-dashed-wrapped\"><div class=\"sk-label-container\"><div class=\"sk-label sk-toggleable\"><input class=\"sk-toggleable__control sk-hidden--visually\" id=\"sk-estimator-id-5\" type=\"checkbox\" ><label for=\"sk-estimator-id-5\" class=\"sk-toggleable__label sk-toggleable__label-arrow\">GridSearchCV</label><div class=\"sk-toggleable__content\"><pre>GridSearchCV(cv=5, estimator=DecisionTreeClassifier(), n_jobs=-1,\n",
       "             param_grid={&#x27;criterion&#x27;: [&#x27;gini&#x27;, &#x27;entropy&#x27;],\n",
       "                         &#x27;max_depth&#x27;: array([ 2,  3,  4,  5,  6,  7,  8,  9, 10, 11, 12, 13, 14, 15, 16, 17, 18,\n",
       "       19]),\n",
       "                         &#x27;min_impurity_decrease&#x27;: array([0. , 0.3, 0.4]),\n",
       "                         &#x27;min_samples_split&#x27;: array([ 2,  3,  4,  5,  6,  7,  8,  9, 10, 11, 12, 13, 14, 15, 16, 17, 18,\n",
       "       19]),\n",
       "                         &#x27;min_weight_fraction_leaf&#x27;: array([0. , 0.1, 0.2, 0.3, 0.4]),\n",
       "                         &#x27;random_state&#x27;: [42], &#x27;splitter&#x27;: [&#x27;best&#x27;, &#x27;random&#x27;]},\n",
       "             verbose=1)</pre></div></div></div><div class=\"sk-parallel\"><div class=\"sk-parallel-item\"><div class=\"sk-item\"><div class=\"sk-label-container\"><div class=\"sk-label sk-toggleable\"><input class=\"sk-toggleable__control sk-hidden--visually\" id=\"sk-estimator-id-6\" type=\"checkbox\" ><label for=\"sk-estimator-id-6\" class=\"sk-toggleable__label sk-toggleable__label-arrow\">estimator: DecisionTreeClassifier</label><div class=\"sk-toggleable__content\"><pre>DecisionTreeClassifier()</pre></div></div></div><div class=\"sk-serial\"><div class=\"sk-item\"><div class=\"sk-estimator sk-toggleable\"><input class=\"sk-toggleable__control sk-hidden--visually\" id=\"sk-estimator-id-7\" type=\"checkbox\" ><label for=\"sk-estimator-id-7\" class=\"sk-toggleable__label sk-toggleable__label-arrow\">DecisionTreeClassifier</label><div class=\"sk-toggleable__content\"><pre>DecisionTreeClassifier()</pre></div></div></div></div></div></div></div></div></div></div>"
      ],
      "text/plain": [
       "GridSearchCV(cv=5, estimator=DecisionTreeClassifier(), n_jobs=-1,\n",
       "             param_grid={'criterion': ['gini', 'entropy'],\n",
       "                         'max_depth': array([ 2,  3,  4,  5,  6,  7,  8,  9, 10, 11, 12, 13, 14, 15, 16, 17, 18,\n",
       "       19]),\n",
       "                         'min_impurity_decrease': array([0. , 0.3, 0.4]),\n",
       "                         'min_samples_split': array([ 2,  3,  4,  5,  6,  7,  8,  9, 10, 11, 12, 13, 14, 15, 16, 17, 18,\n",
       "       19]),\n",
       "                         'min_weight_fraction_leaf': array([0. , 0.1, 0.2, 0.3, 0.4]),\n",
       "                         'random_state': [42], 'splitter': ['best', 'random']},\n",
       "             verbose=1)"
      ]
     },
     "execution_count": 41,
     "metadata": {},
     "output_type": "execute_result"
    },
    {
     "name": "stdout",
     "output_type": "stream",
     "text": [
      "best_params :  {'criterion': 'gini', 'max_depth': 7, 'min_impurity_decrease': 0.0, 'min_samples_split': 15, 'min_weight_fraction_leaf': 0.0, 'random_state': 42, 'splitter': 'best'}\n",
      "best_score_ :  0.7907284768211921\n"
     ]
    }
   ],
   "source": [
    "from sklearn.tree import DecisionTreeClassifier\n",
    "from sklearn.metrics import accuracy_score\n",
    "from sklearn.model_selection import GridSearchCV\n",
    "import pandas as pd\n",
    "\n",
    "from MyModule import girdcvconv as gc\n",
    "\n",
    "\n",
    "estimator = DecisionTreeClassifier()\n",
    "\n",
    "criterion_list =  ['gini','entropy'] \n",
    "splitter_list =  ['best','random']\n",
    "max_depth_list =  np.arange(2, 20)\n",
    "min_samples_split_list = np.arange(2, 20)                                   # 노드 분할 위한 최소 표본수 작으면 과적합, 반대의 경우 과소적합\n",
    "min_weight_fraction_leaf_list =  np.append(0.0,np.arange(0.1, 0.5, 0.1))    # 비율 커지면 과대적합 줄어듬 0,5보다 작게 해야한다\n",
    "min_impurity_decrease_list = np.append(0.0,np.arange(0.3, 0.5, 0.1))        # 비율 노드분할 관련\n",
    "\n",
    "parameter={\n",
    "    'criterion' : criterion_list ,\n",
    "    'splitter'  : splitter_list,\n",
    "    'max_depth' : max_depth_list,\n",
    "    'min_samples_split' : min_samples_split_list,\n",
    "    'min_weight_fraction_leaf' : min_weight_fraction_leaf_list,    \n",
    "    'min_impurity_decrease' :min_impurity_decrease_list,\n",
    "    'random_state': [42]\n",
    "}\n",
    "\n",
    "model = GridSearchCV(estimator, param_grid=parameter, cv=5, verbose=1, n_jobs=-1, refit=True)\n",
    "# verbose 출력 실행 모듈\n",
    "model.fit(X_train,y_train)\n",
    "\n",
    "print('best_params : ', model.best_params_)\n",
    "print('best_score_ : ', model.best_score_)\n",
    "\n",
    "gc.paramsTocsv(data_name='space01', scaler='MinMaxScaler', model_name='DecisionTreeClassifier', best_params=model.best_params_, best_score=model.best_score_)"
   ]
  },
  {
   "cell_type": "code",
   "execution_count": 7,
   "id": "07e54f84",
   "metadata": {},
   "outputs": [],
   "source": [
    "## 예시\n",
    "# from MyModule import girdcvconv as gc\n",
    "# best_params =  {'criterion': 'gini', 'max_depth': 19, 'min_impurity_decrease': 0.0, 'min_samples_split': 2, 'min_weight_fraction_leaf': 0.0, 'random_state': 42, 'splitter': 'best'}\n",
    "# best_score_ =  0.7113550153749467\n",
    "# gc.paramsTocsv(data_name='obesity', scaler='StandardScaler', model_name='DecisionTreeClassifier', best_params=best_params, best_score=best_score_)"
   ]
  },
  {
   "cell_type": "code",
   "execution_count": 67,
   "id": "b1f5f583",
   "metadata": {},
   "outputs": [
    {
     "data": {
      "text/html": [
       "<div>\n",
       "<style scoped>\n",
       "    .dataframe tbody tr th:only-of-type {\n",
       "        vertical-align: middle;\n",
       "    }\n",
       "\n",
       "    .dataframe tbody tr th {\n",
       "        vertical-align: top;\n",
       "    }\n",
       "\n",
       "    .dataframe thead th {\n",
       "        text-align: right;\n",
       "    }\n",
       "</style>\n",
       "<table border=\"1\" class=\"dataframe\">\n",
       "  <thead>\n",
       "    <tr style=\"text-align: right;\">\n",
       "      <th></th>\n",
       "      <th>date</th>\n",
       "      <th>model_name</th>\n",
       "      <th>scaler</th>\n",
       "      <th>best_score</th>\n",
       "      <th>criterion</th>\n",
       "      <th>max_depth</th>\n",
       "      <th>min_impurity_decrease</th>\n",
       "      <th>min_samples_split</th>\n",
       "      <th>min_weight_fraction_leaf</th>\n",
       "      <th>random_state</th>\n",
       "      <th>splitter</th>\n",
       "    </tr>\n",
       "  </thead>\n",
       "  <tbody>\n",
       "    <tr>\n",
       "      <th>0</th>\n",
       "      <td>2022-11-21 13:42:55</td>\n",
       "      <td>DecisionTreeClassifier</td>\n",
       "      <td>StandardScaler</td>\n",
       "      <td>0.711355</td>\n",
       "      <td>gini</td>\n",
       "      <td>19</td>\n",
       "      <td>0.0</td>\n",
       "      <td>2</td>\n",
       "      <td>0.0</td>\n",
       "      <td>42</td>\n",
       "      <td>best</td>\n",
       "    </tr>\n",
       "    <tr>\n",
       "      <th>1</th>\n",
       "      <td>2022-11-21 13:43:08</td>\n",
       "      <td>DecisionTreeClassifier</td>\n",
       "      <td>StandardScaler</td>\n",
       "      <td>0.711355</td>\n",
       "      <td>gini</td>\n",
       "      <td>19</td>\n",
       "      <td>0.0</td>\n",
       "      <td>2</td>\n",
       "      <td>0.0</td>\n",
       "      <td>42</td>\n",
       "      <td>best</td>\n",
       "    </tr>\n",
       "    <tr>\n",
       "      <th>2</th>\n",
       "      <td>2022-11-21 14:53:29</td>\n",
       "      <td>DecisionTreeClassifier</td>\n",
       "      <td>StandardScaler</td>\n",
       "      <td>0.711377</td>\n",
       "      <td>gini</td>\n",
       "      <td>19</td>\n",
       "      <td>0.0</td>\n",
       "      <td>2</td>\n",
       "      <td>0.0</td>\n",
       "      <td>42</td>\n",
       "      <td>best</td>\n",
       "    </tr>\n",
       "  </tbody>\n",
       "</table>\n",
       "</div>"
      ],
      "text/plain": [
       "                  date              model_name          scaler  best_score  \\\n",
       "0  2022-11-21 13:42:55  DecisionTreeClassifier  StandardScaler    0.711355   \n",
       "1  2022-11-21 13:43:08  DecisionTreeClassifier  StandardScaler    0.711355   \n",
       "2  2022-11-21 14:53:29  DecisionTreeClassifier  StandardScaler    0.711377   \n",
       "\n",
       "  criterion  max_depth  min_impurity_decrease  min_samples_split  \\\n",
       "0      gini         19                    0.0                  2   \n",
       "1      gini         19                    0.0                  2   \n",
       "2      gini         19                    0.0                  2   \n",
       "\n",
       "   min_weight_fraction_leaf  random_state splitter  \n",
       "0                       0.0            42     best  \n",
       "1                       0.0            42     best  \n",
       "2                       0.0            42     best  "
      ]
     },
     "execution_count": 67,
     "metadata": {},
     "output_type": "execute_result"
    }
   ],
   "source": [
    "# 생성된 dataframe 확인\n",
    "import pandas as pd\n",
    "df = pd.read_csv('./modeldata/space01.csv')\n",
    "df"
   ]
  },
  {
   "cell_type": "code",
   "execution_count": 10,
   "id": "4a1850ea",
   "metadata": {},
   "outputs": [
    {
     "name": "stdout",
     "output_type": "stream",
     "text": [
      "{'criterion': ['gini'], 'max_depth': [19], 'min_impurity_decrease': [0.0], 'min_samples_split': [2], 'min_weight_fraction_leaf': [0.0], 'random_state': [42], 'splitter': ['best']}\n"
     ]
    }
   ],
   "source": [
    "# 특정 데이터프레임 선택\n",
    "import pandas as pd\n",
    "from MyModule import selectparameter as sp\n",
    "\n",
    "bestparams = sp.selectparam('obesity',0)\n",
    "print(bestparams)"
   ]
  },
  {
   "cell_type": "code",
   "execution_count": null,
   "id": "c1fb18db",
   "metadata": {},
   "outputs": [],
   "source": [
    "#DecisionTreeClassifier 최적의 파라미터를 바로 삽입\n",
    "from sklearn.tree import DecisionTreeClassifier\n",
    "from sklearn.metrics import accuracy_score\n",
    "from sklearn.model_selection import GridSearchCV\n",
    "\n",
    "estimator = DecisionTreeClassifier()\n",
    "model = GridSearchCV(estimator, param_grid=bestparams, cv=3, verbose=1, n_jobs=-1, refit=True)\n",
    "# verbose 출력 실행 모듈\n",
    "model.fit(X_train,y_train)\n",
    "\n",
    "from sklearn.metrics import confusion_matrix\n",
    "import scikitplot as skplt\n",
    "\n",
    "pred = model.predict(X_test)\n",
    "# 실제 , 예측\n",
    "cm = confusion_matrix(y_test, pred)\n",
    "print('confusion_matrix : \\n', cm)\n",
    "\n",
    "skplt.metrics.plot_confusion_matrix(y_test,pred,figsize=(8,6))\n",
    "plt.show()\n",
    "\n",
    "cl_report = metrics.classification_report(y_test,pred)\n",
    "print('리포트:\\n',cl_report)"
   ]
  },
  {
   "cell_type": "markdown",
   "id": "9915103e",
   "metadata": {},
   "source": []
  },
  {
   "cell_type": "code",
   "execution_count": 38,
   "id": "119e429e",
   "metadata": {},
   "outputs": [
    {
     "name": "stdout",
     "output_type": "stream",
     "text": [
      "[0]\tvalidation_0-logloss:0.59062\n",
      "[1]\tvalidation_0-logloss:0.53494\n",
      "[2]\tvalidation_0-logloss:0.50013\n",
      "[3]\tvalidation_0-logloss:0.47849\n",
      "[4]\tvalidation_0-logloss:0.46413\n",
      "[5]\tvalidation_0-logloss:0.45035\n",
      "[6]\tvalidation_0-logloss:0.44229\n",
      "[7]\tvalidation_0-logloss:0.43393\n",
      "[8]\tvalidation_0-logloss:0.42835\n",
      "[9]\tvalidation_0-logloss:0.42488\n",
      "[10]\tvalidation_0-logloss:0.42497\n",
      "[11]\tvalidation_0-logloss:0.42023\n",
      "[12]\tvalidation_0-logloss:0.41666\n",
      "[13]\tvalidation_0-logloss:0.41368\n",
      "[14]\tvalidation_0-logloss:0.41444\n",
      "[15]\tvalidation_0-logloss:0.41325\n",
      "[16]\tvalidation_0-logloss:0.41297\n",
      "[17]\tvalidation_0-logloss:0.41257\n",
      "[18]\tvalidation_0-logloss:0.41065\n",
      "[19]\tvalidation_0-logloss:0.40907\n",
      "[20]\tvalidation_0-logloss:0.40831\n",
      "[21]\tvalidation_0-logloss:0.40740\n",
      "[22]\tvalidation_0-logloss:0.40822\n",
      "[23]\tvalidation_0-logloss:0.40785\n",
      "[24]\tvalidation_0-logloss:0.40757\n",
      "[25]\tvalidation_0-logloss:0.40687\n",
      "[26]\tvalidation_0-logloss:0.40629\n",
      "[27]\tvalidation_0-logloss:0.40646\n",
      "[28]\tvalidation_0-logloss:0.40672\n",
      "[29]\tvalidation_0-logloss:0.40731\n",
      "[30]\tvalidation_0-logloss:0.40725\n",
      "[31]\tvalidation_0-logloss:0.40564\n",
      "[32]\tvalidation_0-logloss:0.40580\n",
      "[33]\tvalidation_0-logloss:0.40646\n",
      "[34]\tvalidation_0-logloss:0.40487\n",
      "[35]\tvalidation_0-logloss:0.40450\n",
      "[36]\tvalidation_0-logloss:0.40416\n",
      "[37]\tvalidation_0-logloss:0.40344\n",
      "[38]\tvalidation_0-logloss:0.40337\n",
      "[39]\tvalidation_0-logloss:0.40401\n",
      "[40]\tvalidation_0-logloss:0.40442\n",
      "[41]\tvalidation_0-logloss:0.40525\n",
      "[42]\tvalidation_0-logloss:0.40519\n",
      "[43]\tvalidation_0-logloss:0.40549\n",
      "[44]\tvalidation_0-logloss:0.40522\n",
      "[45]\tvalidation_0-logloss:0.40570\n",
      "[46]\tvalidation_0-logloss:0.40590\n",
      "[47]\tvalidation_0-logloss:0.40812\n",
      "[48]\tvalidation_0-logloss:0.40946\n"
     ]
    },
    {
     "data": {
      "text/html": [
       "<style>#sk-container-id-2 {color: black;background-color: white;}#sk-container-id-2 pre{padding: 0;}#sk-container-id-2 div.sk-toggleable {background-color: white;}#sk-container-id-2 label.sk-toggleable__label {cursor: pointer;display: block;width: 100%;margin-bottom: 0;padding: 0.3em;box-sizing: border-box;text-align: center;}#sk-container-id-2 label.sk-toggleable__label-arrow:before {content: \"▸\";float: left;margin-right: 0.25em;color: #696969;}#sk-container-id-2 label.sk-toggleable__label-arrow:hover:before {color: black;}#sk-container-id-2 div.sk-estimator:hover label.sk-toggleable__label-arrow:before {color: black;}#sk-container-id-2 div.sk-toggleable__content {max-height: 0;max-width: 0;overflow: hidden;text-align: left;background-color: #f0f8ff;}#sk-container-id-2 div.sk-toggleable__content pre {margin: 0.2em;color: black;border-radius: 0.25em;background-color: #f0f8ff;}#sk-container-id-2 input.sk-toggleable__control:checked~div.sk-toggleable__content {max-height: 200px;max-width: 100%;overflow: auto;}#sk-container-id-2 input.sk-toggleable__control:checked~label.sk-toggleable__label-arrow:before {content: \"▾\";}#sk-container-id-2 div.sk-estimator input.sk-toggleable__control:checked~label.sk-toggleable__label {background-color: #d4ebff;}#sk-container-id-2 div.sk-label input.sk-toggleable__control:checked~label.sk-toggleable__label {background-color: #d4ebff;}#sk-container-id-2 input.sk-hidden--visually {border: 0;clip: rect(1px 1px 1px 1px);clip: rect(1px, 1px, 1px, 1px);height: 1px;margin: -1px;overflow: hidden;padding: 0;position: absolute;width: 1px;}#sk-container-id-2 div.sk-estimator {font-family: monospace;background-color: #f0f8ff;border: 1px dotted black;border-radius: 0.25em;box-sizing: border-box;margin-bottom: 0.5em;}#sk-container-id-2 div.sk-estimator:hover {background-color: #d4ebff;}#sk-container-id-2 div.sk-parallel-item::after {content: \"\";width: 100%;border-bottom: 1px solid gray;flex-grow: 1;}#sk-container-id-2 div.sk-label:hover label.sk-toggleable__label {background-color: #d4ebff;}#sk-container-id-2 div.sk-serial::before {content: \"\";position: absolute;border-left: 1px solid gray;box-sizing: border-box;top: 0;bottom: 0;left: 50%;z-index: 0;}#sk-container-id-2 div.sk-serial {display: flex;flex-direction: column;align-items: center;background-color: white;padding-right: 0.2em;padding-left: 0.2em;position: relative;}#sk-container-id-2 div.sk-item {position: relative;z-index: 1;}#sk-container-id-2 div.sk-parallel {display: flex;align-items: stretch;justify-content: center;background-color: white;position: relative;}#sk-container-id-2 div.sk-item::before, #sk-container-id-2 div.sk-parallel-item::before {content: \"\";position: absolute;border-left: 1px solid gray;box-sizing: border-box;top: 0;bottom: 0;left: 50%;z-index: -1;}#sk-container-id-2 div.sk-parallel-item {display: flex;flex-direction: column;z-index: 1;position: relative;background-color: white;}#sk-container-id-2 div.sk-parallel-item:first-child::after {align-self: flex-end;width: 50%;}#sk-container-id-2 div.sk-parallel-item:last-child::after {align-self: flex-start;width: 50%;}#sk-container-id-2 div.sk-parallel-item:only-child::after {width: 0;}#sk-container-id-2 div.sk-dashed-wrapped {border: 1px dashed gray;margin: 0 0.4em 0.5em 0.4em;box-sizing: border-box;padding-bottom: 0.4em;background-color: white;}#sk-container-id-2 div.sk-label label {font-family: monospace;font-weight: bold;display: inline-block;line-height: 1.2em;}#sk-container-id-2 div.sk-label-container {text-align: center;}#sk-container-id-2 div.sk-container {/* jupyter's `normalize.less` sets `[hidden] { display: none; }` but bootstrap.min.css set `[hidden] { display: none !important; }` so we also need the `!important` here to be able to override the default hidden behavior on the sphinx rendered scikit-learn.org. See: https://github.com/scikit-learn/scikit-learn/issues/21755 */display: inline-block !important;position: relative;}#sk-container-id-2 div.sk-text-repr-fallback {display: none;}</style><div id=\"sk-container-id-2\" class=\"sk-top-container\"><div class=\"sk-text-repr-fallback\"><pre>XGBClassifier(base_score=0.5, booster=&#x27;gbtree&#x27;, callbacks=None,\n",
       "              colsample_bylevel=1, colsample_bynode=1, colsample_bytree=1,\n",
       "              early_stopping_rounds=10, enable_categorical=False,\n",
       "              eval_metric=None, feature_types=None, gamma=0, gpu_id=-1,\n",
       "              grow_policy=&#x27;depthwise&#x27;, importance_type=None,\n",
       "              interaction_constraints=&#x27;&#x27;, learning_rate=0.300000012,\n",
       "              max_bin=256, max_cat_threshold=64, max_cat_to_onehot=4,\n",
       "              max_delta_step=0, max_depth=6, max_leaves=0, min_child_weight=1,\n",
       "              missing=nan, monotone_constraints=&#x27;()&#x27;, n_estimators=100,\n",
       "              n_jobs=0, num_parallel_tree=1, predictor=&#x27;auto&#x27;, random_state=0, ...)</pre><b>In a Jupyter environment, please rerun this cell to show the HTML representation or trust the notebook. <br />On GitHub, the HTML representation is unable to render, please try loading this page with nbviewer.org.</b></div><div class=\"sk-container\" hidden><div class=\"sk-item\"><div class=\"sk-estimator sk-toggleable\"><input class=\"sk-toggleable__control sk-hidden--visually\" id=\"sk-estimator-id-4\" type=\"checkbox\" checked><label for=\"sk-estimator-id-4\" class=\"sk-toggleable__label sk-toggleable__label-arrow\">XGBClassifier</label><div class=\"sk-toggleable__content\"><pre>XGBClassifier(base_score=0.5, booster=&#x27;gbtree&#x27;, callbacks=None,\n",
       "              colsample_bylevel=1, colsample_bynode=1, colsample_bytree=1,\n",
       "              early_stopping_rounds=10, enable_categorical=False,\n",
       "              eval_metric=None, feature_types=None, gamma=0, gpu_id=-1,\n",
       "              grow_policy=&#x27;depthwise&#x27;, importance_type=None,\n",
       "              interaction_constraints=&#x27;&#x27;, learning_rate=0.300000012,\n",
       "              max_bin=256, max_cat_threshold=64, max_cat_to_onehot=4,\n",
       "              max_delta_step=0, max_depth=6, max_leaves=0, min_child_weight=1,\n",
       "              missing=nan, monotone_constraints=&#x27;()&#x27;, n_estimators=100,\n",
       "              n_jobs=0, num_parallel_tree=1, predictor=&#x27;auto&#x27;, random_state=0, ...)</pre></div></div></div></div></div>"
      ],
      "text/plain": [
       "XGBClassifier(base_score=0.5, booster='gbtree', callbacks=None,\n",
       "              colsample_bylevel=1, colsample_bynode=1, colsample_bytree=1,\n",
       "              early_stopping_rounds=10, enable_categorical=False,\n",
       "              eval_metric=None, feature_types=None, gamma=0, gpu_id=-1,\n",
       "              grow_policy='depthwise', importance_type=None,\n",
       "              interaction_constraints='', learning_rate=0.300000012,\n",
       "              max_bin=256, max_cat_threshold=64, max_cat_to_onehot=4,\n",
       "              max_delta_step=0, max_depth=6, max_leaves=0, min_child_weight=1,\n",
       "              missing=nan, monotone_constraints='()', n_estimators=100,\n",
       "              n_jobs=0, num_parallel_tree=1, predictor='auto', random_state=0, ...)"
      ]
     },
     "execution_count": 38,
     "metadata": {},
     "output_type": "execute_result"
    },
    {
     "data": {
      "text/plain": [
       "0.7987051206592113"
      ]
     },
     "execution_count": 38,
     "metadata": {},
     "output_type": "execute_result"
    },
    {
     "name": "stdout",
     "output_type": "stream",
     "text": [
      "confusion_matrix : \n",
      " [[682 169]\n",
      " [173 675]]\n"
     ]
    },
    {
     "data": {
      "text/plain": [
       "<AxesSubplot: title={'center': 'Confusion Matrix'}, xlabel='Predicted label', ylabel='True label'>"
      ]
     },
     "execution_count": 38,
     "metadata": {},
     "output_type": "execute_result"
    },
    {
     "data": {
      "image/png": "[encoded data removed]",
      "text/plain": [
       "<Figure size 800x600 with 2 Axes>"
      ]
     },
     "metadata": {},
     "output_type": "display_data"
    }
   ],
   "source": [
    "import xgboost as xgb\n",
    "import pandas as pd\n",
    "import seaborn as sns\n",
    "from xgboost import XGBClassifier\n",
    "from sklearn.metrics import accuracy_score\n",
    "import matplotlib.pyplot as plt\n",
    "\n",
    "model = xgb.XGBClassifier(early_stopping_rounds=10)\n",
    "eval_set = [(X_test, y_test)]\n",
    "model.fit(X_train, y_train, eval_set=eval_set)#, verbose=True\n",
    "\n",
    "pred = model.predict(X_test)\n",
    "acc = accuracy_score(y_test,pred)\n",
    "acc\n",
    "\n",
    "from sklearn.metrics import confusion_matrix\n",
    "import scikitplot as skplt\n",
    "\n",
    "pred = model.predict(X_test)\n",
    "# 실제 , 예측\n",
    "cm = confusion_matrix(y_test, pred)\n",
    "print('confusion_matrix : \\n', cm)\n",
    "\n",
    "skplt.metrics.plot_confusion_matrix(y_test,pred,figsize=(8,6))\n",
    "plt.show()"
   ]
  },
  {
   "cell_type": "code",
   "execution_count": null,
   "id": "0314d313",
   "metadata": {},
   "outputs": [],
   "source": []
  }
 ],
 "metadata": {
  "kernelspec": {
   "display_name": "Python 3 (ipykernel)",
   "language": "python",
   "name": "python3"
  },
  "language_info": {
   "codemirror_mode": {
    "name": "ipython",
    "version": 3
   },
   "file_extension": ".py",
   "mimetype": "text/x-python",
   "name": "python",
   "nbconvert_exporter": "python",
   "pygments_lexer": "ipython3",
   "version": "3.10.8"
  },
  "vscode": {
   "interpreter": {
    "hash": "e0acaf148705ed9ed86cc5cad12259d7985e30670e5686e5f55604a9b3b84a55"
   }
  }
 },
 "nbformat": 4,
 "nbformat_minor": 5
}

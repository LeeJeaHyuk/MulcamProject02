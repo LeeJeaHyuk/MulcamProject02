{
 "cells": [
  {
   "cell_type": "code",
   "execution_count": 25,
   "id": "2f92eacf",
   "metadata": {},
   "outputs": [],
   "source": [
    "from sklearn.model_selection import train_test_split\n",
    "from sklearn import metrics\n",
    "import seaborn as sns\n",
    "import pandas as pd\n",
    "import numpy as np\n",
    "import matplotlib.pyplot as plt"
   ]
  },
  {
   "cell_type": "code",
   "execution_count": 26,
   "id": "6e7e9384",
   "metadata": {},
   "outputs": [],
   "source": [
    "from IPython.core.interactiveshell import InteractiveShell\n",
    "InteractiveShell.ast_node_interactivity=\"all\""
   ]
  },
  {
   "cell_type": "code",
   "execution_count": 27,
   "id": "9a1ec6bb",
   "metadata": {},
   "outputs": [
    {
     "data": {
      "text/plain": [
       "(8494, 23)"
      ]
     },
     "execution_count": 27,
     "metadata": {},
     "output_type": "execute_result"
    }
   ],
   "source": [
    "df = pd.read_csv('./kaggle/input/spaceship-titanic/train_update_median.csv')\n",
    "df.shape  "
   ]
  },
  {
   "cell_type": "code",
   "execution_count": 28,
   "id": "69272625",
   "metadata": {},
   "outputs": [
    {
     "data": {
      "text/plain": [
       "Index(['PassengerId', 'HomePlanet', 'CryoSleep', 'Cabin_A', 'Cabin_B',\n",
       "       'Cabin_C', 'Cabin_D', 'Cabin_E', 'Cabin_F', 'Cabin_G', 'Cabin_T',\n",
       "       'Cabin_num', 'Cabin_port', 'Destination', 'Age', 'VIP', 'RoomService',\n",
       "       'FoodCourt', 'ShoppingMall', 'Spa', 'VRDeck', 'Name', 'Transported'],\n",
       "      dtype='object')"
      ]
     },
     "execution_count": 28,
     "metadata": {},
     "output_type": "execute_result"
    }
   ],
   "source": [
    "df.columns"
   ]
  },
  {
   "cell_type": "markdown",
   "id": "73816df1",
   "metadata": {},
   "source": [
    "#### scaler"
   ]
  },
  {
   "cell_type": "code",
   "execution_count": 29,
   "id": "e7fbe61a",
   "metadata": {},
   "outputs": [],
   "source": [
    "# from sklearn.model_selection import train_test_split\n",
    "# X_train, X_test, y_train, y_test = \\\n",
    "# train_test_split(df.drop(['PassengerId','Transported','Name'],axis=1),df['Transported'], test_size=0.2, random_state=42)\n"
   ]
  },
  {
   "cell_type": "markdown",
   "id": "28742e8a",
   "metadata": {},
   "source": [
    "#### minxax scaler"
   ]
  },
  {
   "cell_type": "code",
   "execution_count": 30,
   "id": "5035b360",
   "metadata": {},
   "outputs": [
    {
     "name": "stdout",
     "output_type": "stream",
     "text": [
      "MinMaxScaler Results\n"
     ]
    }
   ],
   "source": [
    "from sklearn.preprocessing import StandardScaler\n",
    "from sklearn.preprocessing import MinMaxScaler\n",
    "from sklearn.preprocessing import RobustScaler\n",
    "\n",
    "import pandas as pd\n",
    "from sklearn.model_selection import train_test_split\n",
    "\n",
    "df = pd.read_csv('./kaggle/input/spaceship-titanic/train_update_median.csv')\n",
    "\n",
    "def selectscaler(scaler_name):\n",
    "    global X_train,X_test,y_train,y_test\n",
    "    \n",
    "    X_train, X_test, y_train, y_test = \\\n",
    "    train_test_split(df.drop(['PassengerId','Transported','Name'],axis=1),df['Transported'], test_size=0.2, random_state=42)\n",
    "\n",
    "    if scaler_name == 'StandardScaler':\n",
    "        #StandardScaler\n",
    "        scaler = StandardScaler()\n",
    "        columns = list(X_train.columns)\n",
    "\n",
    "        X_train_minmax = scaler.fit_transform(X_train)\n",
    "        X_train = pd.DataFrame(X_train_minmax, columns = columns)\n",
    "\n",
    "        X_test_minmax = scaler.transform(X_test)\n",
    "        X_test = pd.DataFrame(X_test_minmax, columns = columns)\n",
    "        return print('StandardScaler Results')\n",
    "    \n",
    "    elif scaler_name == \"MinMaxScaler\":\n",
    "        # MinMaxScaler\n",
    "        scaler = MinMaxScaler()\n",
    "        columns = list(X_train.columns)\n",
    "\n",
    "        X_train_minmax = scaler.fit_transform(X_train)\n",
    "        X_train = pd.DataFrame(X_train_minmax, columns = columns)\n",
    "\n",
    "        X_test_minmax = scaler.transform(X_test)\n",
    "        X_test = pd.DataFrame(X_test_minmax, columns = columns)\n",
    "        return print('MinMaxScaler Results')\n",
    "\n",
    "    elif scaler_name == \"RobustScaler\":\n",
    "        # RobustScaler\n",
    "        scaler = RobustScaler()\n",
    "        columns = list(X_train.columns)\n",
    "\n",
    "        X_train_minmax = scaler.fit_transform(X_train)\n",
    "        X_train = pd.DataFrame(X_train_minmax, columns = columns)\n",
    "\n",
    "        X_test_minmax = scaler.transform(X_test)\n",
    "        X_test = pd.DataFrame(X_test_minmax, columns = columns)\n",
    "        \n",
    "        return print('RobustScaler Results')\n",
    "    else:\n",
    "        return print('Results not scaled, Please use : StandardScaler,MinMaxScaler,RobustScaler')\n",
    "\n",
    "selectscaler('MinMaxScaler')"
   ]
  },
  {
   "cell_type": "markdown",
   "id": "ef7a3a34",
   "metadata": {},
   "source": [
    "#### 3-2 모델"
   ]
  },
  {
   "cell_type": "code",
   "execution_count": 8,
   "id": "5f7c9b70",
   "metadata": {},
   "outputs": [],
   "source": [
    "# from xgboost import XGBClassifier\n",
    "# model = XGBClassifier()\n",
    "# model.get_params()"
   ]
  },
  {
   "cell_type": "markdown",
   "id": "0e6b25f9",
   "metadata": {},
   "source": [
    "### XGboost guide\n",
    "[kaggle guide](https://www.kaggle.com/code/azminetoushikwasi/xgboost-wrangling-with-hyperparameters-guide)"
   ]
  },
  {
   "cell_type": "code",
   "execution_count": 31,
   "id": "15bec77b",
   "metadata": {},
   "outputs": [
    {
     "name": "stdout",
     "output_type": "stream",
     "text": [
      "Fitting 5 folds for each of 1872 candidates, totalling 9360 fits\n"
     ]
    },
    {
     "data": {
      "text/html": [
       "<style>#sk-container-id-4 {color: black;background-color: white;}#sk-container-id-4 pre{padding: 0;}#sk-container-id-4 div.sk-toggleable {background-color: white;}#sk-container-id-4 label.sk-toggleable__label {cursor: pointer;display: block;width: 100%;margin-bottom: 0;padding: 0.3em;box-sizing: border-box;text-align: center;}#sk-container-id-4 label.sk-toggleable__label-arrow:before {content: \"▸\";float: left;margin-right: 0.25em;color: #696969;}#sk-container-id-4 label.sk-toggleable__label-arrow:hover:before {color: black;}#sk-container-id-4 div.sk-estimator:hover label.sk-toggleable__label-arrow:before {color: black;}#sk-container-id-4 div.sk-toggleable__content {max-height: 0;max-width: 0;overflow: hidden;text-align: left;background-color: #f0f8ff;}#sk-container-id-4 div.sk-toggleable__content pre {margin: 0.2em;color: black;border-radius: 0.25em;background-color: #f0f8ff;}#sk-container-id-4 input.sk-toggleable__control:checked~div.sk-toggleable__content {max-height: 200px;max-width: 100%;overflow: auto;}#sk-container-id-4 input.sk-toggleable__control:checked~label.sk-toggleable__label-arrow:before {content: \"▾\";}#sk-container-id-4 div.sk-estimator input.sk-toggleable__control:checked~label.sk-toggleable__label {background-color: #d4ebff;}#sk-container-id-4 div.sk-label input.sk-toggleable__control:checked~label.sk-toggleable__label {background-color: #d4ebff;}#sk-container-id-4 input.sk-hidden--visually {border: 0;clip: rect(1px 1px 1px 1px);clip: rect(1px, 1px, 1px, 1px);height: 1px;margin: -1px;overflow: hidden;padding: 0;position: absolute;width: 1px;}#sk-container-id-4 div.sk-estimator {font-family: monospace;background-color: #f0f8ff;border: 1px dotted black;border-radius: 0.25em;box-sizing: border-box;margin-bottom: 0.5em;}#sk-container-id-4 div.sk-estimator:hover {background-color: #d4ebff;}#sk-container-id-4 div.sk-parallel-item::after {content: \"\";width: 100%;border-bottom: 1px solid gray;flex-grow: 1;}#sk-container-id-4 div.sk-label:hover label.sk-toggleable__label {background-color: #d4ebff;}#sk-container-id-4 div.sk-serial::before {content: \"\";position: absolute;border-left: 1px solid gray;box-sizing: border-box;top: 0;bottom: 0;left: 50%;z-index: 0;}#sk-container-id-4 div.sk-serial {display: flex;flex-direction: column;align-items: center;background-color: white;padding-right: 0.2em;padding-left: 0.2em;position: relative;}#sk-container-id-4 div.sk-item {position: relative;z-index: 1;}#sk-container-id-4 div.sk-parallel {display: flex;align-items: stretch;justify-content: center;background-color: white;position: relative;}#sk-container-id-4 div.sk-item::before, #sk-container-id-4 div.sk-parallel-item::before {content: \"\";position: absolute;border-left: 1px solid gray;box-sizing: border-box;top: 0;bottom: 0;left: 50%;z-index: -1;}#sk-container-id-4 div.sk-parallel-item {display: flex;flex-direction: column;z-index: 1;position: relative;background-color: white;}#sk-container-id-4 div.sk-parallel-item:first-child::after {align-self: flex-end;width: 50%;}#sk-container-id-4 div.sk-parallel-item:last-child::after {align-self: flex-start;width: 50%;}#sk-container-id-4 div.sk-parallel-item:only-child::after {width: 0;}#sk-container-id-4 div.sk-dashed-wrapped {border: 1px dashed gray;margin: 0 0.4em 0.5em 0.4em;box-sizing: border-box;padding-bottom: 0.4em;background-color: white;}#sk-container-id-4 div.sk-label label {font-family: monospace;font-weight: bold;display: inline-block;line-height: 1.2em;}#sk-container-id-4 div.sk-label-container {text-align: center;}#sk-container-id-4 div.sk-container {/* jupyter's `normalize.less` sets `[hidden] { display: none; }` but bootstrap.min.css set `[hidden] { display: none !important; }` so we also need the `!important` here to be able to override the default hidden behavior on the sphinx rendered scikit-learn.org. See: https://github.com/scikit-learn/scikit-learn/issues/21755 */display: inline-block !important;position: relative;}#sk-container-id-4 div.sk-text-repr-fallback {display: none;}</style><div id=\"sk-container-id-4\" class=\"sk-top-container\"><div class=\"sk-text-repr-fallback\"><pre>GridSearchCV(cv=5,\n",
       "             estimator=XGBClassifier(base_score=None, booster=None,\n",
       "                                     callbacks=None, colsample_bylevel=None,\n",
       "                                     colsample_bynode=None,\n",
       "                                     colsample_bytree=None,\n",
       "                                     early_stopping_rounds=None,\n",
       "                                     enable_categorical=False, eval_metric=None,\n",
       "                                     feature_types=None, gamma=None,\n",
       "                                     gpu_id=None, grow_policy=None,\n",
       "                                     importance_type=None,\n",
       "                                     interaction_constraints=None,\n",
       "                                     learning_rate=None,...\n",
       "                                     num_parallel_tree=None, predictor=None,\n",
       "                                     random_state=None, ...),\n",
       "             n_jobs=-1,\n",
       "             param_grid={&#x27;colsample_bytree&#x27;: array([0.6, 0.7, 0.8]),\n",
       "                         &#x27;gamma&#x27;: [0.5, 1, 1.5],\n",
       "                         &#x27;learning_rate&#x27;: array([0.05, 0.06, 0.07, 0.08, 0.09, 0.1 , 0.11, 0.12, 0.13, 0.14, 0.15,\n",
       "       0.16, 0.17]),\n",
       "                         &#x27;max_depth&#x27;: array([5, 6, 7, 8]),\n",
       "                         &#x27;n_estimators&#x27;: [100, 130],\n",
       "                         &#x27;objective&#x27;: [&#x27;binary:logistic&#x27;], &#x27;random_state&#x27;: [42],\n",
       "                         &#x27;subsample&#x27;: array([0.7, 0.8])},\n",
       "             verbose=2)</pre><b>In a Jupyter environment, please rerun this cell to show the HTML representation or trust the notebook. <br />On GitHub, the HTML representation is unable to render, please try loading this page with nbviewer.org.</b></div><div class=\"sk-container\" hidden><div class=\"sk-item sk-dashed-wrapped\"><div class=\"sk-label-container\"><div class=\"sk-label sk-toggleable\"><input class=\"sk-toggleable__control sk-hidden--visually\" id=\"sk-estimator-id-10\" type=\"checkbox\" ><label for=\"sk-estimator-id-10\" class=\"sk-toggleable__label sk-toggleable__label-arrow\">GridSearchCV</label><div class=\"sk-toggleable__content\"><pre>GridSearchCV(cv=5,\n",
       "             estimator=XGBClassifier(base_score=None, booster=None,\n",
       "                                     callbacks=None, colsample_bylevel=None,\n",
       "                                     colsample_bynode=None,\n",
       "                                     colsample_bytree=None,\n",
       "                                     early_stopping_rounds=None,\n",
       "                                     enable_categorical=False, eval_metric=None,\n",
       "                                     feature_types=None, gamma=None,\n",
       "                                     gpu_id=None, grow_policy=None,\n",
       "                                     importance_type=None,\n",
       "                                     interaction_constraints=None,\n",
       "                                     learning_rate=None,...\n",
       "                                     num_parallel_tree=None, predictor=None,\n",
       "                                     random_state=None, ...),\n",
       "             n_jobs=-1,\n",
       "             param_grid={&#x27;colsample_bytree&#x27;: array([0.6, 0.7, 0.8]),\n",
       "                         &#x27;gamma&#x27;: [0.5, 1, 1.5],\n",
       "                         &#x27;learning_rate&#x27;: array([0.05, 0.06, 0.07, 0.08, 0.09, 0.1 , 0.11, 0.12, 0.13, 0.14, 0.15,\n",
       "       0.16, 0.17]),\n",
       "                         &#x27;max_depth&#x27;: array([5, 6, 7, 8]),\n",
       "                         &#x27;n_estimators&#x27;: [100, 130],\n",
       "                         &#x27;objective&#x27;: [&#x27;binary:logistic&#x27;], &#x27;random_state&#x27;: [42],\n",
       "                         &#x27;subsample&#x27;: array([0.7, 0.8])},\n",
       "             verbose=2)</pre></div></div></div><div class=\"sk-parallel\"><div class=\"sk-parallel-item\"><div class=\"sk-item\"><div class=\"sk-label-container\"><div class=\"sk-label sk-toggleable\"><input class=\"sk-toggleable__control sk-hidden--visually\" id=\"sk-estimator-id-11\" type=\"checkbox\" ><label for=\"sk-estimator-id-11\" class=\"sk-toggleable__label sk-toggleable__label-arrow\">estimator: XGBClassifier</label><div class=\"sk-toggleable__content\"><pre>XGBClassifier(base_score=None, booster=None, callbacks=None,\n",
       "              colsample_bylevel=None, colsample_bynode=None,\n",
       "              colsample_bytree=None, early_stopping_rounds=None,\n",
       "              enable_categorical=False, eval_metric=None, feature_types=None,\n",
       "              gamma=None, gpu_id=None, grow_policy=None, importance_type=None,\n",
       "              interaction_constraints=None, learning_rate=None, max_bin=None,\n",
       "              max_cat_threshold=None, max_cat_to_onehot=None,\n",
       "              max_delta_step=None, max_depth=None, max_leaves=None,\n",
       "              min_child_weight=None, missing=nan, monotone_constraints=None,\n",
       "              n_estimators=100, n_jobs=None, num_parallel_tree=None,\n",
       "              predictor=None, random_state=None, ...)</pre></div></div></div><div class=\"sk-serial\"><div class=\"sk-item\"><div class=\"sk-estimator sk-toggleable\"><input class=\"sk-toggleable__control sk-hidden--visually\" id=\"sk-estimator-id-12\" type=\"checkbox\" ><label for=\"sk-estimator-id-12\" class=\"sk-toggleable__label sk-toggleable__label-arrow\">XGBClassifier</label><div class=\"sk-toggleable__content\"><pre>XGBClassifier(base_score=None, booster=None, callbacks=None,\n",
       "              colsample_bylevel=None, colsample_bynode=None,\n",
       "              colsample_bytree=None, early_stopping_rounds=None,\n",
       "              enable_categorical=False, eval_metric=None, feature_types=None,\n",
       "              gamma=None, gpu_id=None, grow_policy=None, importance_type=None,\n",
       "              interaction_constraints=None, learning_rate=None, max_bin=None,\n",
       "              max_cat_threshold=None, max_cat_to_onehot=None,\n",
       "              max_delta_step=None, max_depth=None, max_leaves=None,\n",
       "              min_child_weight=None, missing=nan, monotone_constraints=None,\n",
       "              n_estimators=100, n_jobs=None, num_parallel_tree=None,\n",
       "              predictor=None, random_state=None, ...)</pre></div></div></div></div></div></div></div></div></div></div>"
      ],
      "text/plain": [
       "GridSearchCV(cv=5,\n",
       "             estimator=XGBClassifier(base_score=None, booster=None,\n",
       "                                     callbacks=None, colsample_bylevel=None,\n",
       "                                     colsample_bynode=None,\n",
       "                                     colsample_bytree=None,\n",
       "                                     early_stopping_rounds=None,\n",
       "                                     enable_categorical=False, eval_metric=None,\n",
       "                                     feature_types=None, gamma=None,\n",
       "                                     gpu_id=None, grow_policy=None,\n",
       "                                     importance_type=None,\n",
       "                                     interaction_constraints=None,\n",
       "                                     learning_rate=None,...\n",
       "                                     num_parallel_tree=None, predictor=None,\n",
       "                                     random_state=None, ...),\n",
       "             n_jobs=-1,\n",
       "             param_grid={'colsample_bytree': array([0.6, 0.7, 0.8]),\n",
       "                         'gamma': [0.5, 1, 1.5],\n",
       "                         'learning_rate': array([0.05, 0.06, 0.07, 0.08, 0.09, 0.1 , 0.11, 0.12, 0.13, 0.14, 0.15,\n",
       "       0.16, 0.17]),\n",
       "                         'max_depth': array([5, 6, 7, 8]),\n",
       "                         'n_estimators': [100, 130],\n",
       "                         'objective': ['binary:logistic'], 'random_state': [42],\n",
       "                         'subsample': array([0.7, 0.8])},\n",
       "             verbose=2)"
      ]
     },
     "execution_count": 31,
     "metadata": {},
     "output_type": "execute_result"
    },
    {
     "name": "stdout",
     "output_type": "stream",
     "text": [
      "best_params :  {'colsample_bytree': 0.6, 'gamma': 1.5, 'learning_rate': 0.060000000000000005, 'max_depth': 7, 'n_estimators': 130, 'objective': 'binary:logistic', 'random_state': 42, 'subsample': 0.7999999999999999}\n",
      "best_score_ :  0.809860191317145\n",
      "              precision    recall  f1-score   support\n",
      "\n",
      "           0       0.82      0.81      0.81       861\n",
      "           1       0.80      0.81      0.81       838\n",
      "\n",
      "    accuracy                           0.81      1699\n",
      "   macro avg       0.81      0.81      0.81      1699\n",
      "weighted avg       0.81      0.81      0.81      1699\n",
      "\n"
     ]
    },
    {
     "name": "stderr",
     "output_type": "stream",
     "text": [
      "C:\\Users\\deepBlue\\AppData\\Local\\Packages\\PythonSoftwareFoundation.Python.3.10_qbz5n2kfra8p0\\LocalCache\\local-packages\\Python310\\site-packages\\sklearn\\utils\\deprecation.py:87: FutureWarning: Function plot_roc_curve is deprecated; Function :func:`plot_roc_curve` is deprecated in 1.0 and will be removed in 1.2. Use one of the class methods: :meth:`sklearn.metrics.RocCurveDisplay.from_predictions` or :meth:`sklearn.metrics.RocCurveDisplay.from_estimator`.\n",
      "  warnings.warn(msg, category=FutureWarning)\n"
     ]
    },
    {
     "data": {
      "text/plain": [
       "<sklearn.metrics._plot.roc_curve.RocCurveDisplay at 0x2d69599baf0>"
      ]
     },
     "execution_count": 31,
     "metadata": {},
     "output_type": "execute_result"
    },
    {
     "data": {
      "image/png": "[encoded data removed]",
      "text/plain": [
       "<Figure size 640x480 with 1 Axes>"
      ]
     },
     "metadata": {},
     "output_type": "display_data"
    }
   ],
   "source": [
    "import xgboost as xgb\n",
    "import pandas as pd\n",
    "import numpy as np\n",
    "import seaborn as sns\n",
    "from xgboost import XGBClassifier\n",
    "from sklearn.metrics import accuracy_score\n",
    "import matplotlib.pyplot as plt\n",
    "from sklearn.model_selection import GridSearchCV\n",
    "from sklearn.metrics import roc_auc_score\n",
    "from sklearn.metrics import plot_roc_curve\n",
    "from sklearn.metrics import classification_report\n",
    "\n",
    "from MyModule import girdcvconv as gc\n",
    "\n",
    "\n",
    "estimator = XGBClassifier()\n",
    "\n",
    "learning_rate_list = np.arange(0.05,0.18,0.01)\n",
    "max_depth_list =  np.arange(5, 9)\n",
    "subsample_list = np.arange(0.7, 0.8, 0.1)\n",
    "colsample_bytree_list = np.arange(0.6, 0.8, 0.1)\n",
    "\n",
    "objective_list =  ['binary:logistic'] \n",
    "\n",
    "n_estimators_list = [100, 130]\n",
    "gamma_list =  [0.5, 1, 1.5]\n",
    "\n",
    "parameter={\n",
    "    \n",
    "    'learning_rate' : learning_rate_list,\n",
    "    'max_depth' : max_depth_list,\n",
    "    'subsample' : subsample_list,\n",
    "    'colsample_bytree' : colsample_bytree_list,\n",
    "\n",
    "    'objective' : objective_list,\n",
    "\n",
    "    'n_estimators' : n_estimators_list,\n",
    "    \"gamma\" : gamma_list,\n",
    "\n",
    "    'random_state': [42]\n",
    "}\n",
    "\n",
    "model = GridSearchCV(estimator, param_grid=parameter, cv=5, verbose=2, n_jobs=-1, refit=True)\n",
    "# verbose 출력 실행 모듈\n",
    "\n",
    "model.fit(X_train, y_train)\n",
    "\n",
    "print('best_params : ', model.best_params_)\n",
    "print('best_score_ : ', model.best_score_)\n",
    "\n",
    "\n",
    "pred = model.predict(X_test)\n",
    "test_score = roc_auc_score(y_test,pred)\n",
    "\n",
    "print(classification_report(y_test, pred, target_names=[\"0\",\"1\"]))\n",
    "\n",
    "plot_roc_curve(model, X_test, y_test)\n",
    "\n",
    "gc.paramsTocsv(data_name='train_update_median', scaler='MinMaxScaler', model_name='XGBClassifier', best_params=model.best_params_, best_score=model.best_score_, testset_score=test_score)"
   ]
  },
  {
   "cell_type": "code",
   "execution_count": 32,
   "id": "2d4a6a5e",
   "metadata": {},
   "outputs": [],
   "source": [
    "import joblib\n",
    "# model save\n",
    "# 모델 저장\n",
    "model_path = './' + 'modelsave/' +'train_update_median' +'.model'\n",
    "# model.save_model(model_path)\n",
    "joblib.dump(model, open(model_path, 'wb'))"
   ]
  },
  {
   "cell_type": "code",
   "execution_count": null,
   "id": "7e363be8",
   "metadata": {},
   "outputs": [],
   "source": [
    "from sklearn.preprocessing import StandardScaler\n",
    "from sklearn.model_selection import train_test_split\n",
    "import xgboost as xgb\n",
    "import pandas as pd\n",
    "import seaborn as sns\n",
    "from xgboost import XGBClassifier\n",
    "from sklearn.metrics import accuracy_score\n",
    "import joblib\n",
    "\n",
    "def fillnullclassifier(column_name):\n",
    "\n",
    "    global df_update\n",
    "\n",
    "    df_column_name = df_train[df_train[column_name].isnull()]\n",
    "\n",
    "    df_train01 = df_train.dropna(subset=[column_name])\n",
    "\n",
    "    X_train, X_test, y_train, y_test = train_test_split(df_train01.drop(['PassengerId',column_name,'Name'],axis=1),df_train01[column_name], test_size=0.2, random_state=42)\n",
    "    \n",
    "    model_path = './' + 'xgb_model/' +column_name +'.model'\n",
    "    model = joblib.load(open(model_path,'rb'))\n",
    "    \n",
    "    # eval_set = [(X_test, y_test)]\n",
    "    # model.fit(X_train, y_train, eval_set=eval_set, verbose=False)#, verbose=True\n",
    "\n",
    "    pred = model.predict(X_test)\n",
    "    acc = accuracy_score(y_test,pred)\n",
    "    print(acc)\n",
    "    \n",
    "    df_column_name_null = df_column_name.drop(column_name,axis=1)\n",
    "\n",
    "    pred = model.predict(df_column_name_null.drop(['PassengerId','Name'],axis=1))\n",
    "\n",
    "    df_column_name[column_name] = pred\n",
    "\n",
    "    df_update = pd.concat([df_train01,df_column_name],axis=0)\n",
    "\n",
    "fillnullclassifier('Destination')\n",
    "\n",
    "\n"
   ]
  },
  {
   "cell_type": "code",
   "execution_count": 10,
   "id": "253bbce3",
   "metadata": {},
   "outputs": [
    {
     "name": "stdout",
     "output_type": "stream",
     "text": [
      "              precision    recall  f1-score   support\n",
      "\n",
      "           0       0.81      0.80      0.80       851\n",
      "           1       0.80      0.81      0.80       848\n",
      "\n",
      "    accuracy                           0.80      1699\n",
      "   macro avg       0.80      0.80      0.80      1699\n",
      "weighted avg       0.80      0.80      0.80      1699\n",
      "\n"
     ]
    },
    {
     "name": "stderr",
     "output_type": "stream",
     "text": [
      "C:\\Users\\deepBlue\\AppData\\Local\\Packages\\PythonSoftwareFoundation.Python.3.10_qbz5n2kfra8p0\\LocalCache\\local-packages\\Python310\\site-packages\\sklearn\\utils\\deprecation.py:87: FutureWarning: Function plot_roc_curve is deprecated; Function :func:`plot_roc_curve` is deprecated in 1.0 and will be removed in 1.2. Use one of the class methods: :meth:`sklearn.metrics.RocCurveDisplay.from_predictions` or :meth:`sklearn.metrics.RocCurveDisplay.from_estimator`.\n",
      "  warnings.warn(msg, category=FutureWarning)\n"
     ]
    },
    {
     "data": {
      "text/plain": [
       "<sklearn.metrics._plot.roc_curve.RocCurveDisplay at 0x2d69599b730>"
      ]
     },
     "execution_count": 10,
     "metadata": {},
     "output_type": "execute_result"
    },
    {
     "data": {
      "image/png": "[encoded data removed]",
      "text/plain": [
       "<Figure size 640x480 with 1 Axes>"
      ]
     },
     "metadata": {},
     "output_type": "display_data"
    }
   ],
   "source": [
    "# test_score = roc_auc_score(y_test,pred)\n",
    "\n",
    "# print(classification_report(y_test, pred, target_names=[\"0\",\"1\"]))\n",
    "\n",
    "# plot_roc_curve(model, X_test, y_test)\n",
    "\n",
    "# gc.paramsTocsv(data_name='train_update', scaler='StandardScaler', model_name='XGBClassifier', best_params=model.best_params_, best_score=model.best_score_, testset_score=test_score)"
   ]
  },
  {
   "cell_type": "code",
   "execution_count": 7,
   "id": "07e54f84",
   "metadata": {},
   "outputs": [],
   "source": [
    "## 예시\n",
    "# from MyModule import girdcvconv as gc\n",
    "# best_params =  {'criterion': 'gini', 'max_depth': 19, 'min_impurity_decrease': 0.0, 'min_samples_split': 2, 'min_weight_fraction_leaf': 0.0, 'random_state': 42, 'splitter': 'best'}\n",
    "# best_score_ =  0.7113550153749467\n",
    "# gc.paramsTocsv(data_name='obesity', scaler='StandardScaler', model_name='DecisionTreeClassifier', best_params=best_params, best_score=best_score_)"
   ]
  },
  {
   "cell_type": "code",
   "execution_count": 42,
   "id": "b1f5f583",
   "metadata": {},
   "outputs": [
    {
     "data": {
      "text/html": [
       "<div>\n",
       "<style scoped>\n",
       "    .dataframe tbody tr th:only-of-type {\n",
       "        vertical-align: middle;\n",
       "    }\n",
       "\n",
       "    .dataframe tbody tr th {\n",
       "        vertical-align: top;\n",
       "    }\n",
       "\n",
       "    .dataframe thead th {\n",
       "        text-align: right;\n",
       "    }\n",
       "</style>\n",
       "<table border=\"1\" class=\"dataframe\">\n",
       "  <thead>\n",
       "    <tr style=\"text-align: right;\">\n",
       "      <th></th>\n",
       "      <th>date</th>\n",
       "      <th>model_name</th>\n",
       "      <th>scaler</th>\n",
       "      <th>best_score</th>\n",
       "      <th>criterion</th>\n",
       "      <th>max_depth</th>\n",
       "      <th>min_impurity_decrease</th>\n",
       "      <th>min_samples_split</th>\n",
       "      <th>min_weight_fraction_leaf</th>\n",
       "      <th>random_state</th>\n",
       "      <th>splitter</th>\n",
       "    </tr>\n",
       "  </thead>\n",
       "  <tbody>\n",
       "    <tr>\n",
       "      <th>0</th>\n",
       "      <td>2022-12-06 14:59:29</td>\n",
       "      <td>DecisionTreeClassifier</td>\n",
       "      <td>MinMaxScaler</td>\n",
       "      <td>0.790728</td>\n",
       "      <td>gini</td>\n",
       "      <td>7</td>\n",
       "      <td>0.0</td>\n",
       "      <td>15</td>\n",
       "      <td>0.0</td>\n",
       "      <td>42</td>\n",
       "      <td>best</td>\n",
       "    </tr>\n",
       "  </tbody>\n",
       "</table>\n",
       "</div>"
      ],
      "text/plain": [
       "                  date              model_name        scaler  best_score  \\\n",
       "0  2022-12-06 14:59:29  DecisionTreeClassifier  MinMaxScaler    0.790728   \n",
       "\n",
       "  criterion  max_depth  min_impurity_decrease  min_samples_split  \\\n",
       "0      gini          7                    0.0                 15   \n",
       "\n",
       "   min_weight_fraction_leaf  random_state splitter  \n",
       "0                       0.0            42     best  "
      ]
     },
     "execution_count": 42,
     "metadata": {},
     "output_type": "execute_result"
    }
   ],
   "source": [
    "# 생성된 dataframe 확인\n",
    "import pandas as pd\n",
    "df = pd.read_csv('./modeldata/space01.csv')\n",
    "df "
   ]
  },
  {
   "cell_type": "code",
   "execution_count": 10,
   "id": "4a1850ea",
   "metadata": {},
   "outputs": [
    {
     "name": "stdout",
     "output_type": "stream",
     "text": [
      "{'criterion': ['gini'], 'max_depth': [19], 'min_impurity_decrease': [0.0], 'min_samples_split': [2], 'min_weight_fraction_leaf': [0.0], 'random_state': [42], 'splitter': ['best']}\n"
     ]
    }
   ],
   "source": [
    "# 특정 데이터프레임 선택\n",
    "import pandas as pd\n",
    "from MyModule import selectparameter as sp\n",
    "\n",
    "bestparams = sp.selectparam('obesity',0)\n",
    "print(bestparams)"
   ]
  },
  {
   "cell_type": "code",
   "execution_count": null,
   "id": "c1fb18db",
   "metadata": {},
   "outputs": [],
   "source": [
    "#DecisionTreeClassifier 최적의 파라미터를 바로 삽입\n",
    "from sklearn.tree import DecisionTreeClassifier\n",
    "from sklearn.metrics import accuracy_score\n",
    "from sklearn.model_selection import GridSearchCV\n",
    "\n",
    "estimator = DecisionTreeClassifier()\n",
    "model = GridSearchCV(estimator, param_grid=bestparams, cv=3, verbose=1, n_jobs=-1, refit=True)\n",
    "# verbose 출력 실행 모듈\n",
    "model.fit(X_train,y_train)\n",
    "\n",
    "from sklearn.metrics import confusion_matrix\n",
    "import scikitplot as skplt\n",
    "\n",
    "pred = model.predict(X_test)\n",
    "# 실제 , 예측\n",
    "cm = confusion_matrix(y_test, pred)\n",
    "print('confusion_matrix : \\n', cm)\n",
    "\n",
    "skplt.metrics.plot_confusion_matrix(y_test,pred,figsize=(8,6))\n",
    "plt.show()\n",
    "\n",
    "cl_report = metrics.classification_report(y_test,pred)\n",
    "print('리포트:\\n',cl_report)"
   ]
  },
  {
   "cell_type": "markdown",
   "id": "9915103e",
   "metadata": {},
   "source": []
  },
  {
   "cell_type": "code",
   "execution_count": 43,
   "id": "119e429e",
   "metadata": {},
   "outputs": [
    {
     "name": "stdout",
     "output_type": "stream",
     "text": [
      "[0]\tvalidation_0-logloss:0.59062\n",
      "[1]\tvalidation_0-logloss:0.53494\n",
      "[2]\tvalidation_0-logloss:0.50013\n",
      "[3]\tvalidation_0-logloss:0.47849\n",
      "[4]\tvalidation_0-logloss:0.46413\n",
      "[5]\tvalidation_0-logloss:0.45035\n",
      "[6]\tvalidation_0-logloss:0.44229\n",
      "[7]\tvalidation_0-logloss:0.43393\n",
      "[8]\tvalidation_0-logloss:0.42835\n",
      "[9]\tvalidation_0-logloss:0.42488\n",
      "[10]\tvalidation_0-logloss:0.42497\n",
      "[11]\tvalidation_0-logloss:0.42037\n",
      "[12]\tvalidation_0-logloss:0.41680\n",
      "[13]\tvalidation_0-logloss:0.41381\n",
      "[14]\tvalidation_0-logloss:0.41457\n",
      "[15]\tvalidation_0-logloss:0.41332\n",
      "[16]\tvalidation_0-logloss:0.41302\n",
      "[17]\tvalidation_0-logloss:0.41301\n",
      "[18]\tvalidation_0-logloss:0.41362\n",
      "[19]\tvalidation_0-logloss:0.41224\n",
      "[20]\tvalidation_0-logloss:0.41118\n",
      "[21]\tvalidation_0-logloss:0.41054\n",
      "[22]\tvalidation_0-logloss:0.41003\n",
      "[23]\tvalidation_0-logloss:0.41013\n",
      "[24]\tvalidation_0-logloss:0.40962\n",
      "[25]\tvalidation_0-logloss:0.40966\n",
      "[26]\tvalidation_0-logloss:0.40947\n",
      "[27]\tvalidation_0-logloss:0.40973\n",
      "[28]\tvalidation_0-logloss:0.40913\n",
      "[29]\tvalidation_0-logloss:0.40984\n",
      "[30]\tvalidation_0-logloss:0.40971\n",
      "[31]\tvalidation_0-logloss:0.41006\n",
      "[32]\tvalidation_0-logloss:0.40987\n",
      "[33]\tvalidation_0-logloss:0.40977\n",
      "[34]\tvalidation_0-logloss:0.40935\n",
      "[35]\tvalidation_0-logloss:0.40844\n",
      "[36]\tvalidation_0-logloss:0.40886\n",
      "[37]\tvalidation_0-logloss:0.40817\n",
      "[38]\tvalidation_0-logloss:0.40871\n",
      "[39]\tvalidation_0-logloss:0.40831\n",
      "[40]\tvalidation_0-logloss:0.40899\n",
      "[41]\tvalidation_0-logloss:0.40873\n",
      "[42]\tvalidation_0-logloss:0.41052\n",
      "[43]\tvalidation_0-logloss:0.40917\n",
      "[44]\tvalidation_0-logloss:0.40921\n",
      "[45]\tvalidation_0-logloss:0.40949\n",
      "[46]\tvalidation_0-logloss:0.40932\n",
      "[47]\tvalidation_0-logloss:0.41034\n"
     ]
    },
    {
     "data": {
      "text/html": [
       "<style>#sk-container-id-4 {color: black;background-color: white;}#sk-container-id-4 pre{padding: 0;}#sk-container-id-4 div.sk-toggleable {background-color: white;}#sk-container-id-4 label.sk-toggleable__label {cursor: pointer;display: block;width: 100%;margin-bottom: 0;padding: 0.3em;box-sizing: border-box;text-align: center;}#sk-container-id-4 label.sk-toggleable__label-arrow:before {content: \"▸\";float: left;margin-right: 0.25em;color: #696969;}#sk-container-id-4 label.sk-toggleable__label-arrow:hover:before {color: black;}#sk-container-id-4 div.sk-estimator:hover label.sk-toggleable__label-arrow:before {color: black;}#sk-container-id-4 div.sk-toggleable__content {max-height: 0;max-width: 0;overflow: hidden;text-align: left;background-color: #f0f8ff;}#sk-container-id-4 div.sk-toggleable__content pre {margin: 0.2em;color: black;border-radius: 0.25em;background-color: #f0f8ff;}#sk-container-id-4 input.sk-toggleable__control:checked~div.sk-toggleable__content {max-height: 200px;max-width: 100%;overflow: auto;}#sk-container-id-4 input.sk-toggleable__control:checked~label.sk-toggleable__label-arrow:before {content: \"▾\";}#sk-container-id-4 div.sk-estimator input.sk-toggleable__control:checked~label.sk-toggleable__label {background-color: #d4ebff;}#sk-container-id-4 div.sk-label input.sk-toggleable__control:checked~label.sk-toggleable__label {background-color: #d4ebff;}#sk-container-id-4 input.sk-hidden--visually {border: 0;clip: rect(1px 1px 1px 1px);clip: rect(1px, 1px, 1px, 1px);height: 1px;margin: -1px;overflow: hidden;padding: 0;position: absolute;width: 1px;}#sk-container-id-4 div.sk-estimator {font-family: monospace;background-color: #f0f8ff;border: 1px dotted black;border-radius: 0.25em;box-sizing: border-box;margin-bottom: 0.5em;}#sk-container-id-4 div.sk-estimator:hover {background-color: #d4ebff;}#sk-container-id-4 div.sk-parallel-item::after {content: \"\";width: 100%;border-bottom: 1px solid gray;flex-grow: 1;}#sk-container-id-4 div.sk-label:hover label.sk-toggleable__label {background-color: #d4ebff;}#sk-container-id-4 div.sk-serial::before {content: \"\";position: absolute;border-left: 1px solid gray;box-sizing: border-box;top: 0;bottom: 0;left: 50%;z-index: 0;}#sk-container-id-4 div.sk-serial {display: flex;flex-direction: column;align-items: center;background-color: white;padding-right: 0.2em;padding-left: 0.2em;position: relative;}#sk-container-id-4 div.sk-item {position: relative;z-index: 1;}#sk-container-id-4 div.sk-parallel {display: flex;align-items: stretch;justify-content: center;background-color: white;position: relative;}#sk-container-id-4 div.sk-item::before, #sk-container-id-4 div.sk-parallel-item::before {content: \"\";position: absolute;border-left: 1px solid gray;box-sizing: border-box;top: 0;bottom: 0;left: 50%;z-index: -1;}#sk-container-id-4 div.sk-parallel-item {display: flex;flex-direction: column;z-index: 1;position: relative;background-color: white;}#sk-container-id-4 div.sk-parallel-item:first-child::after {align-self: flex-end;width: 50%;}#sk-container-id-4 div.sk-parallel-item:last-child::after {align-self: flex-start;width: 50%;}#sk-container-id-4 div.sk-parallel-item:only-child::after {width: 0;}#sk-container-id-4 div.sk-dashed-wrapped {border: 1px dashed gray;margin: 0 0.4em 0.5em 0.4em;box-sizing: border-box;padding-bottom: 0.4em;background-color: white;}#sk-container-id-4 div.sk-label label {font-family: monospace;font-weight: bold;display: inline-block;line-height: 1.2em;}#sk-container-id-4 div.sk-label-container {text-align: center;}#sk-container-id-4 div.sk-container {/* jupyter's `normalize.less` sets `[hidden] { display: none; }` but bootstrap.min.css set `[hidden] { display: none !important; }` so we also need the `!important` here to be able to override the default hidden behavior on the sphinx rendered scikit-learn.org. See: https://github.com/scikit-learn/scikit-learn/issues/21755 */display: inline-block !important;position: relative;}#sk-container-id-4 div.sk-text-repr-fallback {display: none;}</style><div id=\"sk-container-id-4\" class=\"sk-top-container\"><div class=\"sk-text-repr-fallback\"><pre>XGBClassifier(base_score=0.5, booster=&#x27;gbtree&#x27;, callbacks=None,\n",
       "              colsample_bylevel=1, colsample_bynode=1, colsample_bytree=1,\n",
       "              early_stopping_rounds=10, enable_categorical=False,\n",
       "              eval_metric=None, feature_types=None, gamma=0, gpu_id=-1,\n",
       "              grow_policy=&#x27;depthwise&#x27;, importance_type=None,\n",
       "              interaction_constraints=&#x27;&#x27;, learning_rate=0.300000012,\n",
       "              max_bin=256, max_cat_threshold=64, max_cat_to_onehot=4,\n",
       "              max_delta_step=0, max_depth=6, max_leaves=0, min_child_weight=1,\n",
       "              missing=nan, monotone_constraints=&#x27;()&#x27;, n_estimators=100,\n",
       "              n_jobs=0, num_parallel_tree=1, predictor=&#x27;auto&#x27;, random_state=0, ...)</pre><b>In a Jupyter environment, please rerun this cell to show the HTML representation or trust the notebook. <br />On GitHub, the HTML representation is unable to render, please try loading this page with nbviewer.org.</b></div><div class=\"sk-container\" hidden><div class=\"sk-item\"><div class=\"sk-estimator sk-toggleable\"><input class=\"sk-toggleable__control sk-hidden--visually\" id=\"sk-estimator-id-8\" type=\"checkbox\" checked><label for=\"sk-estimator-id-8\" class=\"sk-toggleable__label sk-toggleable__label-arrow\">XGBClassifier</label><div class=\"sk-toggleable__content\"><pre>XGBClassifier(base_score=0.5, booster=&#x27;gbtree&#x27;, callbacks=None,\n",
       "              colsample_bylevel=1, colsample_bynode=1, colsample_bytree=1,\n",
       "              early_stopping_rounds=10, enable_categorical=False,\n",
       "              eval_metric=None, feature_types=None, gamma=0, gpu_id=-1,\n",
       "              grow_policy=&#x27;depthwise&#x27;, importance_type=None,\n",
       "              interaction_constraints=&#x27;&#x27;, learning_rate=0.300000012,\n",
       "              max_bin=256, max_cat_threshold=64, max_cat_to_onehot=4,\n",
       "              max_delta_step=0, max_depth=6, max_leaves=0, min_child_weight=1,\n",
       "              missing=nan, monotone_constraints=&#x27;()&#x27;, n_estimators=100,\n",
       "              n_jobs=0, num_parallel_tree=1, predictor=&#x27;auto&#x27;, random_state=0, ...)</pre></div></div></div></div></div>"
      ],
      "text/plain": [
       "XGBClassifier(base_score=0.5, booster='gbtree', callbacks=None,\n",
       "              colsample_bylevel=1, colsample_bynode=1, colsample_bytree=1,\n",
       "              early_stopping_rounds=10, enable_categorical=False,\n",
       "              eval_metric=None, feature_types=None, gamma=0, gpu_id=-1,\n",
       "              grow_policy='depthwise', importance_type=None,\n",
       "              interaction_constraints='', learning_rate=0.300000012,\n",
       "              max_bin=256, max_cat_threshold=64, max_cat_to_onehot=4,\n",
       "              max_delta_step=0, max_depth=6, max_leaves=0, min_child_weight=1,\n",
       "              missing=nan, monotone_constraints='()', n_estimators=100,\n",
       "              n_jobs=0, num_parallel_tree=1, predictor='auto', random_state=0, ...)"
      ]
     },
     "execution_count": 43,
     "metadata": {},
     "output_type": "execute_result"
    },
    {
     "data": {
      "text/plain": [
       "0.7975279576221307"
      ]
     },
     "execution_count": 43,
     "metadata": {},
     "output_type": "execute_result"
    },
    {
     "name": "stdout",
     "output_type": "stream",
     "text": [
      "confusion_matrix : \n",
      " [[688 163]\n",
      " [181 667]]\n"
     ]
    },
    {
     "data": {
      "text/plain": [
       "<AxesSubplot: title={'center': 'Confusion Matrix'}, xlabel='Predicted label', ylabel='True label'>"
      ]
     },
     "execution_count": 43,
     "metadata": {},
     "output_type": "execute_result"
    },
    {
     "data": {
      "image/png": "[encoded data removed]",
      "text/plain": [
       "<Figure size 800x600 with 2 Axes>"
      ]
     },
     "metadata": {},
     "output_type": "display_data"
    }
   ],
   "source": [
    "import xgboost as xgb\n",
    "import pandas as pd\n",
    "import seaborn as sns\n",
    "from xgboost import XGBClassifier\n",
    "from sklearn.metrics import accuracy_score\n",
    "import matplotlib.pyplot as plt\n",
    "\n",
    "model = xgb.XGBClassifier(early_stopping_rounds=10)\n",
    "eval_set = [(X_test, y_test)]\n",
    "model.fit(X_train, y_train, eval_set=eval_set)#, verbose=True\n",
    "\n",
    "pred = model.predict(X_test)\n",
    "acc = accuracy_score(y_test,pred)\n",
    "acc\n",
    "\n",
    "from sklearn.metrics import confusion_matrix\n",
    "import scikitplot as skplt\n",
    "\n",
    "pred = model.predict(X_test)\n",
    "# 실제 , 예측\n",
    "cm = confusion_matrix(y_test, pred)\n",
    "print('confusion_matrix : \\n', cm)\n",
    "\n",
    "skplt.metrics.plot_confusion_matrix(y_test,pred,figsize=(8,6))\n",
    "plt.show()"
   ]
  },
  {
   "cell_type": "code",
   "execution_count": null,
   "id": "0314d313",
   "metadata": {},
   "outputs": [],
   "source": []
  }
 ],
 "metadata": {
  "kernelspec": {
   "display_name": "Python 3 (ipykernel)",
   "language": "python",
   "name": "python3"
  },
  "language_info": {
   "codemirror_mode": {
    "name": "ipython",
    "version": 3
   },
   "file_extension": ".py",
   "mimetype": "text/x-python",
   "name": "python",
   "nbconvert_exporter": "python",
   "pygments_lexer": "ipython3",
   "version": "3.10.8"
  },
  "vscode": {
   "interpreter": {
    "hash": "e0acaf148705ed9ed86cc5cad12259d7985e30670e5686e5f55604a9b3b84a55"
   }
  }
 },
 "nbformat": 4,
 "nbformat_minor": 5
}

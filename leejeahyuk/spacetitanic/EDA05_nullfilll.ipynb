{
 "cells": [
  {
   "cell_type": "code",
   "execution_count": 14,
   "metadata": {},
   "outputs": [],
   "source": [
    "from IPython.core.interactiveshell import InteractiveShell\n",
    "InteractiveShell.ast_node_interactivity=\"all\""
   ]
  },
  {
   "cell_type": "code",
   "execution_count": 6,
   "metadata": {},
   "outputs": [],
   "source": [
    "import numpy as np\n",
    "import pandas as pd\n",
    "\n",
    "# df = pd.read_csv('./kaggle/input/spaceship-titanic/train_update.csv')\n",
    "# df = pd.read_csv('./kaggle/input/spaceship-titanic/train.csv')\n",
    "df = pd.read_csv('./kaggle/input/spaceship-titanic/test_update01.csv')\n"
   ]
  },
  {
   "cell_type": "code",
   "execution_count": 8,
   "metadata": {},
   "outputs": [
    {
     "data": {
      "text/plain": [
       "Index(['PassengerId', 'HomePlanet', 'CryoSleep', 'Cabin_A', 'Cabin_B',\n",
       "       'Cabin_C', 'Cabin_D', 'Cabin_E', 'Cabin_F', 'Cabin_G', 'Cabin_T',\n",
       "       'Cabin_num', 'Cabin_port', 'Destination', 'Age', 'VIP', 'RoomService',\n",
       "       'FoodCourt', 'ShoppingMall', 'Spa', 'VRDeck', 'Name'],\n",
       "      dtype='object')"
      ]
     },
     "execution_count": 8,
     "metadata": {},
     "output_type": "execute_result"
    }
   ],
   "source": [
    "df.columns"
   ]
  },
  {
   "cell_type": "markdown",
   "metadata": {},
   "source": [
    "### CryoSleep==1 인 경우에 돈을 사용하지 않음"
   ]
  },
  {
   "cell_type": "code",
   "execution_count": 9,
   "metadata": {},
   "outputs": [],
   "source": [
    "df.loc[(df['CryoSleep']==1) & (df['RoomService'] != 0 ), 'RoomService'] = 0\n",
    "df.loc[(df['CryoSleep']==1) & (df['FoodCourt'] != 0 ), 'FoodCourt'] = 0\n",
    "df.loc[(df['CryoSleep']==1) & (df['ShoppingMall'] != 0 ), 'ShoppingMall'] = 0\n",
    "df.loc[(df['CryoSleep']==1) & (df['Spa'] != 0 ), 'Spa'] = 0\n",
    "df.loc[(df['CryoSleep']==1) & (df['VRDeck'] != 0 ), 'VRDeck'] = 0\n",
    "\n",
    "df.to_csv('./kaggle/input/spaceship-titanic/test_CryoSleep_0.csv', index=False)"
   ]
  },
  {
   "cell_type": "code",
   "execution_count": 10,
   "metadata": {},
   "outputs": [
    {
     "data": {
      "text/html": [
       "<div>\n",
       "<style scoped>\n",
       "    .dataframe tbody tr th:only-of-type {\n",
       "        vertical-align: middle;\n",
       "    }\n",
       "\n",
       "    .dataframe tbody tr th {\n",
       "        vertical-align: top;\n",
       "    }\n",
       "\n",
       "    .dataframe thead th {\n",
       "        text-align: right;\n",
       "    }\n",
       "</style>\n",
       "<table border=\"1\" class=\"dataframe\">\n",
       "  <thead>\n",
       "    <tr style=\"text-align: right;\">\n",
       "      <th></th>\n",
       "      <th>PassengerId</th>\n",
       "      <th>HomePlanet</th>\n",
       "      <th>CryoSleep</th>\n",
       "      <th>Cabin_A</th>\n",
       "      <th>Cabin_B</th>\n",
       "      <th>Cabin_C</th>\n",
       "      <th>Cabin_D</th>\n",
       "      <th>Cabin_E</th>\n",
       "      <th>Cabin_F</th>\n",
       "      <th>Cabin_G</th>\n",
       "      <th>...</th>\n",
       "      <th>Cabin_num</th>\n",
       "      <th>Cabin_port</th>\n",
       "      <th>Destination</th>\n",
       "      <th>Age</th>\n",
       "      <th>VIP</th>\n",
       "      <th>FoodCourt</th>\n",
       "      <th>ShoppingMall</th>\n",
       "      <th>Spa</th>\n",
       "      <th>VRDeck</th>\n",
       "      <th>Name</th>\n",
       "    </tr>\n",
       "    <tr>\n",
       "      <th>RoomService</th>\n",
       "      <th></th>\n",
       "      <th></th>\n",
       "      <th></th>\n",
       "      <th></th>\n",
       "      <th></th>\n",
       "      <th></th>\n",
       "      <th></th>\n",
       "      <th></th>\n",
       "      <th></th>\n",
       "      <th></th>\n",
       "      <th></th>\n",
       "      <th></th>\n",
       "      <th></th>\n",
       "      <th></th>\n",
       "      <th></th>\n",
       "      <th></th>\n",
       "      <th></th>\n",
       "      <th></th>\n",
       "      <th></th>\n",
       "      <th></th>\n",
       "      <th></th>\n",
       "    </tr>\n",
       "  </thead>\n",
       "  <tbody>\n",
       "    <tr>\n",
       "      <th>0.0</th>\n",
       "      <td>1544</td>\n",
       "      <td>1516</td>\n",
       "      <td>1544</td>\n",
       "      <td>1544</td>\n",
       "      <td>1544</td>\n",
       "      <td>1544</td>\n",
       "      <td>1544</td>\n",
       "      <td>1544</td>\n",
       "      <td>1544</td>\n",
       "      <td>1544</td>\n",
       "      <td>...</td>\n",
       "      <td>1544</td>\n",
       "      <td>1544</td>\n",
       "      <td>1512</td>\n",
       "      <td>1512</td>\n",
       "      <td>1515</td>\n",
       "      <td>1544</td>\n",
       "      <td>1544</td>\n",
       "      <td>1544</td>\n",
       "      <td>1544</td>\n",
       "      <td>1508</td>\n",
       "    </tr>\n",
       "  </tbody>\n",
       "</table>\n",
       "<p>1 rows × 21 columns</p>\n",
       "</div>"
      ],
      "text/plain": [
       "             PassengerId  HomePlanet  CryoSleep  Cabin_A  Cabin_B  Cabin_C  \\\n",
       "RoomService                                                                  \n",
       "0.0                 1544        1516       1544     1544     1544     1544   \n",
       "\n",
       "             Cabin_D  Cabin_E  Cabin_F  Cabin_G  ...  Cabin_num  Cabin_port  \\\n",
       "RoomService                                      ...                          \n",
       "0.0             1544     1544     1544     1544  ...       1544        1544   \n",
       "\n",
       "             Destination   Age   VIP  FoodCourt  ShoppingMall   Spa  VRDeck  \\\n",
       "RoomService                                                                   \n",
       "0.0                 1512  1512  1515       1544          1544  1544    1544   \n",
       "\n",
       "             Name  \n",
       "RoomService        \n",
       "0.0          1508  \n",
       "\n",
       "[1 rows x 21 columns]"
      ]
     },
     "execution_count": 10,
     "metadata": {},
     "output_type": "execute_result"
    }
   ],
   "source": [
    "df = pd.read_csv('./kaggle/input/spaceship-titanic/test_CryoSleep_0.csv')\n",
    "\n",
    "df.loc[df['CryoSleep']==1].groupby('RoomService').count()\n",
    "# df.loc[df['CryoSleep']==1].groupby('FoodCourt').count()\n",
    "# df.loc[df['CryoSleep']==1].groupby('ShoppingMall').count()\n",
    "# df.loc[df['CryoSleep']==1].groupby('Spa').count()\n",
    "# df.loc[df['CryoSleep']==1].groupby('VRDeck').count()"
   ]
  },
  {
   "cell_type": "markdown",
   "metadata": {},
   "source": [
    "### Age<=12 인 경우에 돈을 사용하지 않음"
   ]
  },
  {
   "cell_type": "code",
   "execution_count": 11,
   "metadata": {},
   "outputs": [],
   "source": [
    "df = pd.read_csv('./kaggle/input/spaceship-titanic/test_CryoSleep_0.csv')\n",
    "df.loc[(df['Age']==1) & (df['RoomService'] != 0 ), 'RoomService'] = 0\n",
    "# df.loc[(df['Age']<=12) & (df['RoomService'] != 0 )].groupby('RoomService').count()\n",
    "# df.loc[(df['Age']<=12) & (df['FoodCourt'] != 0 )].groupby('FoodCourt').count()\n",
    "# df.loc[(df['Age']<=12) & (df['ShoppingMall'] != 0 )].groupby('ShoppingMall').count()\n",
    "# df.loc[(df['Age']<=12) & (df['Spa'] != 0 )].groupby('Spa').count()\n",
    "# df.loc[(df['Age']<=12) & (df['VRDeck'] != 0 )].groupby('VRDeck').count()"
   ]
  },
  {
   "cell_type": "code",
   "execution_count": 12,
   "metadata": {},
   "outputs": [],
   "source": [
    "df.loc[(df['Age']<=12) & (df['RoomService'] != 0 ), 'RoomService'] = 0\n",
    "df.loc[(df['Age']<=12) & (df['FoodCourt'] != 0 ), 'FoodCourt'] = 0\n",
    "df.loc[(df['Age']<=12) & (df['ShoppingMall'] != 0 ), 'ShoppingMall'] = 0\n",
    "df.loc[(df['Age']<=12) & (df['Spa'] != 0 ), 'Spa'] = 0\n",
    "df.loc[(df['Age']<=12) & (df['VRDeck'] != 0 ), 'VRDeck'] = 0\n",
    "\n",
    "df.to_csv('./kaggle/input/spaceship-titanic/test_Agelow12.csv', index=False)"
   ]
  },
  {
   "cell_type": "code",
   "execution_count": 15,
   "metadata": {},
   "outputs": [
    {
     "data": {
      "text/plain": [
       "PassengerId      0\n",
       "HomePlanet      87\n",
       "CryoSleep       93\n",
       "Cabin_A          0\n",
       "Cabin_B          0\n",
       "Cabin_C          0\n",
       "Cabin_D          0\n",
       "Cabin_E          0\n",
       "Cabin_F          0\n",
       "Cabin_G          0\n",
       "Cabin_T          0\n",
       "Cabin_num        0\n",
       "Cabin_port       0\n",
       "Destination     92\n",
       "Age             91\n",
       "VIP             93\n",
       "RoomService     55\n",
       "FoodCourt       65\n",
       "ShoppingMall    60\n",
       "Spa             52\n",
       "VRDeck          43\n",
       "Name            94\n",
       "dtype: int64"
      ]
     },
     "execution_count": 15,
     "metadata": {},
     "output_type": "execute_result"
    },
    {
     "data": {
      "text/plain": [
       "PassengerId       0\n",
       "HomePlanet       87\n",
       "CryoSleep        93\n",
       "Cabin           100\n",
       "Destination      92\n",
       "Age              91\n",
       "VIP              93\n",
       "RoomService      82\n",
       "FoodCourt       106\n",
       "ShoppingMall     98\n",
       "Spa             101\n",
       "VRDeck           80\n",
       "Name             94\n",
       "dtype: int64"
      ]
     },
     "execution_count": 15,
     "metadata": {},
     "output_type": "execute_result"
    }
   ],
   "source": [
    "df = pd.read_csv('./kaggle/input/spaceship-titanic/test_Agelow12.csv')\n",
    "df01 = pd.read_csv('./kaggle/input/spaceship-titanic/test.csv')\n",
    "# df.loc[(df['Age']<=12)].groupby('RoomService').count()\n",
    "# df.loc[(df['Age']<=12)].groupby('FoodCourt').count()\n",
    "# df.loc[(df['Age']<=12)].groupby('ShoppingMall').count()\n",
    "# df.loc[(df['Age']<=12)].groupby('Spa').count()\n",
    "# df.loc[(df['Age']<=12)].groupby('VRDeck').count()\n",
    "df.isnull().sum()\n",
    "df01.isnull().sum()\n",
    "# null값 감소"
   ]
  },
  {
   "cell_type": "code",
   "execution_count": null,
   "metadata": {},
   "outputs": [],
   "source": []
  }
 ],
 "metadata": {
  "kernelspec": {
   "display_name": "Python 3.10.8 64-bit (microsoft store)",
   "language": "python",
   "name": "python3"
  },
  "language_info": {
   "codemirror_mode": {
    "name": "ipython",
    "version": 3
   },
   "file_extension": ".py",
   "mimetype": "text/x-python",
   "name": "python",
   "nbconvert_exporter": "python",
   "pygments_lexer": "ipython3",
   "version": "3.10.8"
  },
  "orig_nbformat": 4,
  "vscode": {
   "interpreter": {
    "hash": "e0acaf148705ed9ed86cc5cad12259d7985e30670e5686e5f55604a9b3b84a55"
   }
  }
 },
 "nbformat": 4,
 "nbformat_minor": 2
}

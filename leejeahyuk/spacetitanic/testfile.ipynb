{
 "cells": [
  {
   "cell_type": "code",
   "execution_count": null,
   "metadata": {},
   "outputs": [],
   "source": [
    "import os\n",
    "os.makedirs(('testdata'),)\n",
    "# try:\n",
    "#     if not os.path.exists('modeldata'):\n",
    "#         os.makedirs('modeldata')\n",
    "# except OSError:\n",
    "#     print ('Error: Creating directory. modeldata')"
   ]
  }
 ],
 "metadata": {
  "language_info": {
   "name": "python"
  },
  "orig_nbformat": 4
 },
 "nbformat": 4,
 "nbformat_minor": 2
}

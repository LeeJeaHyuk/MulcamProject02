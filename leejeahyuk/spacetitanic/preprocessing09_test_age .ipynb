{
 "cells": [
  {
   "cell_type": "code",
   "execution_count": 1,
   "metadata": {},
   "outputs": [],
   "source": [
    "from IPython.core.interactiveshell import InteractiveShell\n",
    "InteractiveShell.ast_node_interactivity=\"all\""
   ]
  },
  {
   "cell_type": "code",
   "execution_count": 5,
   "metadata": {},
   "outputs": [],
   "source": [
    "import numpy as np\n",
    "import pandas as pd\n",
    "\n",
    "# # 정확도 0.7013221153846154\n",
    "df = pd.read_csv('./kaggle/input/spaceship-titanic/test_Destination_update.csv')"
   ]
  },
  {
   "cell_type": "code",
   "execution_count": 6,
   "metadata": {},
   "outputs": [
    {
     "data": {
      "text/plain": [
       "PassengerId      0\n",
       "HomePlanet       0\n",
       "CryoSleep        0\n",
       "Cabin_A          0\n",
       "Cabin_B          0\n",
       "Cabin_C          0\n",
       "Cabin_D          0\n",
       "Cabin_E          0\n",
       "Cabin_F          0\n",
       "Cabin_G          0\n",
       "Cabin_T          0\n",
       "Cabin_num        0\n",
       "Cabin_port       0\n",
       "Destination      0\n",
       "Age             91\n",
       "VIP              0\n",
       "RoomService     55\n",
       "FoodCourt       65\n",
       "ShoppingMall    60\n",
       "Spa             52\n",
       "VRDeck          43\n",
       "Name            94\n",
       "dtype: int64"
      ]
     },
     "execution_count": 6,
     "metadata": {},
     "output_type": "execute_result"
    }
   ],
   "source": [
    "df.isnull().sum()"
   ]
  },
  {
   "cell_type": "code",
   "execution_count": 4,
   "metadata": {},
   "outputs": [],
   "source": [
    "# df['Age'].median()\n",
    "# df['Age'][df['Age']<61].median()\n",
    "# df[df['Age']<61].groupby('Age').count()\n",
    "# df['Age'].fillna(df[df['Age']<61].median(), inplace=True)\n",
    "\n",
    "\n",
    "df.loc[df['Age'] != df['Age'], 'Age'] = df['Age'][df['Age']<61].median()\n",
    "\n",
    "\n",
    "df.to_csv('./kaggle/input/spaceship-titanic/test_Age_update.csv', index=False)"
   ]
  },
  {
   "cell_type": "code",
   "execution_count": null,
   "metadata": {},
   "outputs": [],
   "source": []
  }
 ],
 "metadata": {
  "kernelspec": {
   "display_name": "Python 3.10.8 64-bit (microsoft store)",
   "language": "python",
   "name": "python3"
  },
  "language_info": {
   "codemirror_mode": {
    "name": "ipython",
    "version": 3
   },
   "file_extension": ".py",
   "mimetype": "text/x-python",
   "name": "python",
   "nbconvert_exporter": "python",
   "pygments_lexer": "ipython3",
   "version": "3.10.8"
  },
  "orig_nbformat": 4,
  "vscode": {
   "interpreter": {
    "hash": "e0acaf148705ed9ed86cc5cad12259d7985e30670e5686e5f55604a9b3b84a55"
   }
  }
 },
 "nbformat": 4,
 "nbformat_minor": 2
}

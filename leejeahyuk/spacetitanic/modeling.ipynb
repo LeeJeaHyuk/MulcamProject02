{
 "cells": [
  {
   "cell_type": "markdown",
   "id": "254603fb",
   "metadata": {},
   "source": [
    "# 원본데이터 그대로 모델링(NaN 삭제 X)"
   ]
  },
  {
   "cell_type": "code",
   "execution_count": 1,
   "id": "282904ea",
   "metadata": {},
   "outputs": [],
   "source": [
    "from IPython.core.interactiveshell import InteractiveShell\n",
    "InteractiveShell.ast_node_interactivity=\"all\""
   ]
  },
  {
   "cell_type": "code",
   "execution_count": 2,
   "id": "12ddda9f",
   "metadata": {},
   "outputs": [],
   "source": [
    "import numpy as np\n",
    "import pandas as pd\n",
    "\n",
    "df = pd.read_csv('C:/ds_work/source_code/Project_DS/data/train.csv')"
   ]
  },
  {
   "cell_type": "code",
   "execution_count": 3,
   "id": "f2fe36d4",
   "metadata": {},
   "outputs": [
    {
     "data": {
      "text/html": [
       "<div>\n",
       "<style scoped>\n",
       "    .dataframe tbody tr th:only-of-type {\n",
       "        vertical-align: middle;\n",
       "    }\n",
       "\n",
       "    .dataframe tbody tr th {\n",
       "        vertical-align: top;\n",
       "    }\n",
       "\n",
       "    .dataframe thead th {\n",
       "        text-align: right;\n",
       "    }\n",
       "</style>\n",
       "<table border=\"1\" class=\"dataframe\">\n",
       "  <thead>\n",
       "    <tr style=\"text-align: right;\">\n",
       "      <th></th>\n",
       "      <th>PassengerId</th>\n",
       "      <th>HomePlanet</th>\n",
       "      <th>CryoSleep</th>\n",
       "      <th>Cabin</th>\n",
       "      <th>Age</th>\n",
       "      <th>VIP</th>\n",
       "      <th>RoomService</th>\n",
       "      <th>FoodCourt</th>\n",
       "      <th>ShoppingMall</th>\n",
       "      <th>Spa</th>\n",
       "      <th>VRDeck</th>\n",
       "      <th>Name</th>\n",
       "      <th>Transported</th>\n",
       "    </tr>\n",
       "    <tr>\n",
       "      <th>Destination</th>\n",
       "      <th></th>\n",
       "      <th></th>\n",
       "      <th></th>\n",
       "      <th></th>\n",
       "      <th></th>\n",
       "      <th></th>\n",
       "      <th></th>\n",
       "      <th></th>\n",
       "      <th></th>\n",
       "      <th></th>\n",
       "      <th></th>\n",
       "      <th></th>\n",
       "      <th></th>\n",
       "    </tr>\n",
       "  </thead>\n",
       "  <tbody>\n",
       "    <tr>\n",
       "      <th>55 Cancri e</th>\n",
       "      <td>1800</td>\n",
       "      <td>1769</td>\n",
       "      <td>1756</td>\n",
       "      <td>1750</td>\n",
       "      <td>1766</td>\n",
       "      <td>1757</td>\n",
       "      <td>1771</td>\n",
       "      <td>1763</td>\n",
       "      <td>1752</td>\n",
       "      <td>1761</td>\n",
       "      <td>1760</td>\n",
       "      <td>1757</td>\n",
       "      <td>1800</td>\n",
       "    </tr>\n",
       "    <tr>\n",
       "      <th>PSO J318.5-22</th>\n",
       "      <td>796</td>\n",
       "      <td>780</td>\n",
       "      <td>777</td>\n",
       "      <td>778</td>\n",
       "      <td>782</td>\n",
       "      <td>774</td>\n",
       "      <td>775</td>\n",
       "      <td>780</td>\n",
       "      <td>778</td>\n",
       "      <td>780</td>\n",
       "      <td>784</td>\n",
       "      <td>779</td>\n",
       "      <td>796</td>\n",
       "    </tr>\n",
       "    <tr>\n",
       "      <th>TRAPPIST-1e</th>\n",
       "      <td>5915</td>\n",
       "      <td>5765</td>\n",
       "      <td>5765</td>\n",
       "      <td>5788</td>\n",
       "      <td>5787</td>\n",
       "      <td>5781</td>\n",
       "      <td>5787</td>\n",
       "      <td>5791</td>\n",
       "      <td>5778</td>\n",
       "      <td>5790</td>\n",
       "      <td>5781</td>\n",
       "      <td>5779</td>\n",
       "      <td>5915</td>\n",
       "    </tr>\n",
       "  </tbody>\n",
       "</table>\n",
       "</div>"
      ],
      "text/plain": [
       "               PassengerId  HomePlanet  CryoSleep  Cabin   Age   VIP  \\\n",
       "Destination                                                            \n",
       "55 Cancri e           1800        1769       1756   1750  1766  1757   \n",
       "PSO J318.5-22          796         780        777    778   782   774   \n",
       "TRAPPIST-1e           5915        5765       5765   5788  5787  5781   \n",
       "\n",
       "               RoomService  FoodCourt  ShoppingMall   Spa  VRDeck  Name  \\\n",
       "Destination                                                               \n",
       "55 Cancri e           1771       1763          1752  1761    1760  1757   \n",
       "PSO J318.5-22          775        780           778   780     784   779   \n",
       "TRAPPIST-1e           5787       5791          5778  5790    5781  5779   \n",
       "\n",
       "               Transported  \n",
       "Destination                 \n",
       "55 Cancri e           1800  \n",
       "PSO J318.5-22          796  \n",
       "TRAPPIST-1e           5915  "
      ]
     },
     "execution_count": 3,
     "metadata": {},
     "output_type": "execute_result"
    },
    {
     "data": {
      "text/html": [
       "<div>\n",
       "<style scoped>\n",
       "    .dataframe tbody tr th:only-of-type {\n",
       "        vertical-align: middle;\n",
       "    }\n",
       "\n",
       "    .dataframe tbody tr th {\n",
       "        vertical-align: top;\n",
       "    }\n",
       "\n",
       "    .dataframe thead th {\n",
       "        text-align: right;\n",
       "    }\n",
       "</style>\n",
       "<table border=\"1\" class=\"dataframe\">\n",
       "  <thead>\n",
       "    <tr style=\"text-align: right;\">\n",
       "      <th></th>\n",
       "      <th>PassengerId</th>\n",
       "      <th>CryoSleep</th>\n",
       "      <th>Cabin</th>\n",
       "      <th>Destination</th>\n",
       "      <th>Age</th>\n",
       "      <th>VIP</th>\n",
       "      <th>RoomService</th>\n",
       "      <th>FoodCourt</th>\n",
       "      <th>ShoppingMall</th>\n",
       "      <th>Spa</th>\n",
       "      <th>VRDeck</th>\n",
       "      <th>Name</th>\n",
       "      <th>Transported</th>\n",
       "    </tr>\n",
       "    <tr>\n",
       "      <th>HomePlanet</th>\n",
       "      <th></th>\n",
       "      <th></th>\n",
       "      <th></th>\n",
       "      <th></th>\n",
       "      <th></th>\n",
       "      <th></th>\n",
       "      <th></th>\n",
       "      <th></th>\n",
       "      <th></th>\n",
       "      <th></th>\n",
       "      <th></th>\n",
       "      <th></th>\n",
       "      <th></th>\n",
       "    </tr>\n",
       "  </thead>\n",
       "  <tbody>\n",
       "    <tr>\n",
       "      <th>Earth</th>\n",
       "      <td>4602</td>\n",
       "      <td>4488</td>\n",
       "      <td>4507</td>\n",
       "      <td>4503</td>\n",
       "      <td>4514</td>\n",
       "      <td>4487</td>\n",
       "      <td>4499</td>\n",
       "      <td>4505</td>\n",
       "      <td>4490</td>\n",
       "      <td>4503</td>\n",
       "      <td>4491</td>\n",
       "      <td>4496</td>\n",
       "      <td>4602</td>\n",
       "    </tr>\n",
       "    <tr>\n",
       "      <th>Europa</th>\n",
       "      <td>2131</td>\n",
       "      <td>2073</td>\n",
       "      <td>2070</td>\n",
       "      <td>2094</td>\n",
       "      <td>2085</td>\n",
       "      <td>2089</td>\n",
       "      <td>2095</td>\n",
       "      <td>2085</td>\n",
       "      <td>2078</td>\n",
       "      <td>2086</td>\n",
       "      <td>2094</td>\n",
       "      <td>2085</td>\n",
       "      <td>2131</td>\n",
       "    </tr>\n",
       "    <tr>\n",
       "      <th>Mars</th>\n",
       "      <td>1759</td>\n",
       "      <td>1716</td>\n",
       "      <td>1722</td>\n",
       "      <td>1717</td>\n",
       "      <td>1716</td>\n",
       "      <td>1716</td>\n",
       "      <td>1723</td>\n",
       "      <td>1721</td>\n",
       "      <td>1723</td>\n",
       "      <td>1723</td>\n",
       "      <td>1720</td>\n",
       "      <td>1718</td>\n",
       "      <td>1759</td>\n",
       "    </tr>\n",
       "  </tbody>\n",
       "</table>\n",
       "</div>"
      ],
      "text/plain": [
       "            PassengerId  CryoSleep  Cabin  Destination   Age   VIP  \\\n",
       "HomePlanet                                                           \n",
       "Earth              4602       4488   4507         4503  4514  4487   \n",
       "Europa             2131       2073   2070         2094  2085  2089   \n",
       "Mars               1759       1716   1722         1717  1716  1716   \n",
       "\n",
       "            RoomService  FoodCourt  ShoppingMall   Spa  VRDeck  Name  \\\n",
       "HomePlanet                                                             \n",
       "Earth              4499       4505          4490  4503    4491  4496   \n",
       "Europa             2095       2085          2078  2086    2094  2085   \n",
       "Mars               1723       1721          1723  1723    1720  1718   \n",
       "\n",
       "            Transported  \n",
       "HomePlanet               \n",
       "Earth              4602  \n",
       "Europa             2131  \n",
       "Mars               1759  "
      ]
     },
     "execution_count": 3,
     "metadata": {},
     "output_type": "execute_result"
    },
    {
     "name": "stdout",
     "output_type": "stream",
     "text": [
      "Cabin의 개수 6560\n"
     ]
    }
   ],
   "source": [
    "df.groupby('Destination').count()\n",
    "df.groupby('HomePlanet').count()\n",
    "print('Cabin의 개수',len(df.groupby('Cabin').count()))"
   ]
  },
  {
   "cell_type": "code",
   "execution_count": 20,
   "id": "146c50ba",
   "metadata": {},
   "outputs": [],
   "source": [
    "# 범주형 데이터 변환\n",
    "df = pd.read_csv('C:/ds_work/source_code/Project_DS/data/train.csv')\n",
    "\n",
    "def df_replace(dataframe):\n",
    "    \n",
    "    global df_train,df\n",
    "    df_temp = df\n",
    "    df = dataframe\n",
    "    df = df.replace({'55 Cancri e':0,'PSO J318.5-22':1,'TRAPPIST-1e':2})\n",
    "    df = df.replace({'Earth':0,'Europa':1,'Mars':2})\n",
    "    df = df.replace({False:0,True:1})\n",
    "\n",
    "    # Cabin : 번호  \n",
    "    df['Cabin'] = df['Cabin'].str[0]\n",
    "    df.insert(4, 'Cabin_num', df_temp['Cabin'].str[2:-2])\n",
    "    df.insert(5, 'Cabin_port', df_temp['Cabin'].str[-1])\n",
    "    df = df.replace({'A':0,'B':1,'C':2,'D':3,'E':4,'F':5,'G':6,'T':7})\n",
    "    df = df.replace({'P':0,'S':1})\n",
    "\n",
    "\n",
    "    ## 범주형 데이터 확인할 수 있게 dict로 만들어 놓은 것\n",
    "    Cabin = {'A':0,'B':1,'C':2,'D':3,'E':4,'F':5,'G':6,'T':7}\n",
    "    Cabin_port = {'P':0, 'S':1} #P : 배의 좌현(port side) S: 배의 우현(starboard side) \n",
    "    Destination = {'55 Cancri e': 0, 'PSO J318.5-22': 1,'TRAPPIST-1e':2}\n",
    "    HomePlanet = {'Earth':0,'Europa':1,'Mars':2}\n",
    "    CryoSleep = {'False':0,'True':1}\n",
    "    VIP = {'False':0,'True':1}\n",
    "    Transported = {'False':0,'True':1}\n",
    "\n",
    "\n",
    "    df = df.astype({'HomePlanet':'float','CryoSleep':'float','Cabin':'float','Cabin_num':'float','Destination':'float'\n",
    "    ,'Age':'float','VIP':'float','RoomService':'float','FoodCourt':'float','Cabin_port':'float'\n",
    "    ,'ShoppingMall':'float','Spa':'float','VRDeck':'float','Transported':'float'})\n",
    "    \n",
    "df_replace(df)\n",
    "df_train = df"
   ]
  },
  {
   "cell_type": "code",
   "execution_count": 21,
   "id": "4ed78bad",
   "metadata": {},
   "outputs": [],
   "source": [
    "df = df.drop(['PassengerId','Name'],axis=1)"
   ]
  },
  {
   "cell_type": "code",
   "execution_count": 22,
   "id": "b0006686",
   "metadata": {},
   "outputs": [
    {
     "data": {
      "text/plain": [
       "0       0.0\n",
       "1       1.0\n",
       "2       0.0\n",
       "3       0.0\n",
       "4       1.0\n",
       "       ... \n",
       "8688    0.0\n",
       "8689    0.0\n",
       "8690    1.0\n",
       "8691    0.0\n",
       "8692    1.0\n",
       "Name: Transported, Length: 8693, dtype: float64"
      ]
     },
     "execution_count": 22,
     "metadata": {},
     "output_type": "execute_result"
    }
   ],
   "source": [
    "target = df.loc[:, 'Transported']\n",
    "target"
   ]
  },
  {
   "cell_type": "code",
   "execution_count": 23,
   "id": "1c7c8fb7",
   "metadata": {},
   "outputs": [
    {
     "data": {
      "text/html": [
       "<div>\n",
       "<style scoped>\n",
       "    .dataframe tbody tr th:only-of-type {\n",
       "        vertical-align: middle;\n",
       "    }\n",
       "\n",
       "    .dataframe tbody tr th {\n",
       "        vertical-align: top;\n",
       "    }\n",
       "\n",
       "    .dataframe thead th {\n",
       "        text-align: right;\n",
       "    }\n",
       "</style>\n",
       "<table border=\"1\" class=\"dataframe\">\n",
       "  <thead>\n",
       "    <tr style=\"text-align: right;\">\n",
       "      <th></th>\n",
       "      <th>HomePlanet</th>\n",
       "      <th>CryoSleep</th>\n",
       "      <th>Cabin</th>\n",
       "      <th>Cabin_num</th>\n",
       "      <th>Cabin_port</th>\n",
       "      <th>Destination</th>\n",
       "      <th>Age</th>\n",
       "      <th>VIP</th>\n",
       "      <th>RoomService</th>\n",
       "      <th>FoodCourt</th>\n",
       "      <th>ShoppingMall</th>\n",
       "      <th>Spa</th>\n",
       "      <th>VRDeck</th>\n",
       "    </tr>\n",
       "  </thead>\n",
       "  <tbody>\n",
       "    <tr>\n",
       "      <th>0</th>\n",
       "      <td>1.0</td>\n",
       "      <td>0.0</td>\n",
       "      <td>1.0</td>\n",
       "      <td>0.0</td>\n",
       "      <td>0.0</td>\n",
       "      <td>2.0</td>\n",
       "      <td>39.0</td>\n",
       "      <td>0.0</td>\n",
       "      <td>0.0</td>\n",
       "      <td>0.0</td>\n",
       "      <td>0.0</td>\n",
       "      <td>0.0</td>\n",
       "      <td>0.0</td>\n",
       "    </tr>\n",
       "    <tr>\n",
       "      <th>1</th>\n",
       "      <td>0.0</td>\n",
       "      <td>0.0</td>\n",
       "      <td>5.0</td>\n",
       "      <td>0.0</td>\n",
       "      <td>1.0</td>\n",
       "      <td>2.0</td>\n",
       "      <td>24.0</td>\n",
       "      <td>0.0</td>\n",
       "      <td>109.0</td>\n",
       "      <td>9.0</td>\n",
       "      <td>25.0</td>\n",
       "      <td>549.0</td>\n",
       "      <td>44.0</td>\n",
       "    </tr>\n",
       "    <tr>\n",
       "      <th>2</th>\n",
       "      <td>1.0</td>\n",
       "      <td>0.0</td>\n",
       "      <td>0.0</td>\n",
       "      <td>0.0</td>\n",
       "      <td>1.0</td>\n",
       "      <td>2.0</td>\n",
       "      <td>58.0</td>\n",
       "      <td>1.0</td>\n",
       "      <td>43.0</td>\n",
       "      <td>3576.0</td>\n",
       "      <td>0.0</td>\n",
       "      <td>6715.0</td>\n",
       "      <td>49.0</td>\n",
       "    </tr>\n",
       "    <tr>\n",
       "      <th>3</th>\n",
       "      <td>1.0</td>\n",
       "      <td>0.0</td>\n",
       "      <td>0.0</td>\n",
       "      <td>0.0</td>\n",
       "      <td>1.0</td>\n",
       "      <td>2.0</td>\n",
       "      <td>33.0</td>\n",
       "      <td>0.0</td>\n",
       "      <td>0.0</td>\n",
       "      <td>1283.0</td>\n",
       "      <td>371.0</td>\n",
       "      <td>3329.0</td>\n",
       "      <td>193.0</td>\n",
       "    </tr>\n",
       "    <tr>\n",
       "      <th>4</th>\n",
       "      <td>0.0</td>\n",
       "      <td>0.0</td>\n",
       "      <td>5.0</td>\n",
       "      <td>1.0</td>\n",
       "      <td>1.0</td>\n",
       "      <td>2.0</td>\n",
       "      <td>16.0</td>\n",
       "      <td>0.0</td>\n",
       "      <td>303.0</td>\n",
       "      <td>70.0</td>\n",
       "      <td>151.0</td>\n",
       "      <td>565.0</td>\n",
       "      <td>2.0</td>\n",
       "    </tr>\n",
       "    <tr>\n",
       "      <th>...</th>\n",
       "      <td>...</td>\n",
       "      <td>...</td>\n",
       "      <td>...</td>\n",
       "      <td>...</td>\n",
       "      <td>...</td>\n",
       "      <td>...</td>\n",
       "      <td>...</td>\n",
       "      <td>...</td>\n",
       "      <td>...</td>\n",
       "      <td>...</td>\n",
       "      <td>...</td>\n",
       "      <td>...</td>\n",
       "      <td>...</td>\n",
       "    </tr>\n",
       "    <tr>\n",
       "      <th>8688</th>\n",
       "      <td>1.0</td>\n",
       "      <td>0.0</td>\n",
       "      <td>0.0</td>\n",
       "      <td>98.0</td>\n",
       "      <td>0.0</td>\n",
       "      <td>0.0</td>\n",
       "      <td>41.0</td>\n",
       "      <td>1.0</td>\n",
       "      <td>0.0</td>\n",
       "      <td>6819.0</td>\n",
       "      <td>0.0</td>\n",
       "      <td>1643.0</td>\n",
       "      <td>74.0</td>\n",
       "    </tr>\n",
       "    <tr>\n",
       "      <th>8689</th>\n",
       "      <td>0.0</td>\n",
       "      <td>1.0</td>\n",
       "      <td>6.0</td>\n",
       "      <td>1499.0</td>\n",
       "      <td>1.0</td>\n",
       "      <td>1.0</td>\n",
       "      <td>18.0</td>\n",
       "      <td>0.0</td>\n",
       "      <td>0.0</td>\n",
       "      <td>0.0</td>\n",
       "      <td>0.0</td>\n",
       "      <td>0.0</td>\n",
       "      <td>0.0</td>\n",
       "    </tr>\n",
       "    <tr>\n",
       "      <th>8690</th>\n",
       "      <td>0.0</td>\n",
       "      <td>0.0</td>\n",
       "      <td>6.0</td>\n",
       "      <td>1500.0</td>\n",
       "      <td>1.0</td>\n",
       "      <td>2.0</td>\n",
       "      <td>26.0</td>\n",
       "      <td>0.0</td>\n",
       "      <td>0.0</td>\n",
       "      <td>0.0</td>\n",
       "      <td>1872.0</td>\n",
       "      <td>1.0</td>\n",
       "      <td>0.0</td>\n",
       "    </tr>\n",
       "    <tr>\n",
       "      <th>8691</th>\n",
       "      <td>1.0</td>\n",
       "      <td>0.0</td>\n",
       "      <td>4.0</td>\n",
       "      <td>608.0</td>\n",
       "      <td>1.0</td>\n",
       "      <td>0.0</td>\n",
       "      <td>32.0</td>\n",
       "      <td>0.0</td>\n",
       "      <td>0.0</td>\n",
       "      <td>1049.0</td>\n",
       "      <td>0.0</td>\n",
       "      <td>353.0</td>\n",
       "      <td>3235.0</td>\n",
       "    </tr>\n",
       "    <tr>\n",
       "      <th>8692</th>\n",
       "      <td>1.0</td>\n",
       "      <td>0.0</td>\n",
       "      <td>4.0</td>\n",
       "      <td>608.0</td>\n",
       "      <td>1.0</td>\n",
       "      <td>2.0</td>\n",
       "      <td>44.0</td>\n",
       "      <td>0.0</td>\n",
       "      <td>126.0</td>\n",
       "      <td>4688.0</td>\n",
       "      <td>0.0</td>\n",
       "      <td>0.0</td>\n",
       "      <td>12.0</td>\n",
       "    </tr>\n",
       "  </tbody>\n",
       "</table>\n",
       "<p>8693 rows × 13 columns</p>\n",
       "</div>"
      ],
      "text/plain": [
       "      HomePlanet  CryoSleep  Cabin  Cabin_num  Cabin_port  Destination   Age  \\\n",
       "0            1.0        0.0    1.0        0.0         0.0          2.0  39.0   \n",
       "1            0.0        0.0    5.0        0.0         1.0          2.0  24.0   \n",
       "2            1.0        0.0    0.0        0.0         1.0          2.0  58.0   \n",
       "3            1.0        0.0    0.0        0.0         1.0          2.0  33.0   \n",
       "4            0.0        0.0    5.0        1.0         1.0          2.0  16.0   \n",
       "...          ...        ...    ...        ...         ...          ...   ...   \n",
       "8688         1.0        0.0    0.0       98.0         0.0          0.0  41.0   \n",
       "8689         0.0        1.0    6.0     1499.0         1.0          1.0  18.0   \n",
       "8690         0.0        0.0    6.0     1500.0         1.0          2.0  26.0   \n",
       "8691         1.0        0.0    4.0      608.0         1.0          0.0  32.0   \n",
       "8692         1.0        0.0    4.0      608.0         1.0          2.0  44.0   \n",
       "\n",
       "      VIP  RoomService  FoodCourt  ShoppingMall     Spa  VRDeck  \n",
       "0     0.0          0.0        0.0           0.0     0.0     0.0  \n",
       "1     0.0        109.0        9.0          25.0   549.0    44.0  \n",
       "2     1.0         43.0     3576.0           0.0  6715.0    49.0  \n",
       "3     0.0          0.0     1283.0         371.0  3329.0   193.0  \n",
       "4     0.0        303.0       70.0         151.0   565.0     2.0  \n",
       "...   ...          ...        ...           ...     ...     ...  \n",
       "8688  1.0          0.0     6819.0           0.0  1643.0    74.0  \n",
       "8689  0.0          0.0        0.0           0.0     0.0     0.0  \n",
       "8690  0.0          0.0        0.0        1872.0     1.0     0.0  \n",
       "8691  0.0          0.0     1049.0           0.0   353.0  3235.0  \n",
       "8692  0.0        126.0     4688.0           0.0     0.0    12.0  \n",
       "\n",
       "[8693 rows x 13 columns]"
      ]
     },
     "execution_count": 23,
     "metadata": {},
     "output_type": "execute_result"
    }
   ],
   "source": [
    "df.iloc[:,:-1]"
   ]
  },
  {
   "cell_type": "code",
   "execution_count": 24,
   "id": "30ddd2c1",
   "metadata": {},
   "outputs": [
    {
     "data": {
      "text/plain": [
       "0       0.0\n",
       "1       1.0\n",
       "2       0.0\n",
       "3       0.0\n",
       "4       1.0\n",
       "       ... \n",
       "8688    0.0\n",
       "8689    0.0\n",
       "8690    1.0\n",
       "8691    0.0\n",
       "8692    1.0\n",
       "Name: Transported, Length: 8693, dtype: float64"
      ]
     },
     "execution_count": 24,
     "metadata": {},
     "output_type": "execute_result"
    }
   ],
   "source": [
    "df.iloc[:,-1]"
   ]
  },
  {
   "cell_type": "code",
   "execution_count": 25,
   "id": "4a63d584",
   "metadata": {},
   "outputs": [],
   "source": [
    "#데이터 분리\n",
    "from sklearn.model_selection import train_test_split\n",
    "X_train, X_test, y_train, y_test = train_test_split(df.iloc[:,:-1],df.iloc[:,-1], test_size=0.2, random_state=42)"
   ]
  },
  {
   "cell_type": "markdown",
   "id": "07eda6e5",
   "metadata": {},
   "source": [
    "## XGboost"
   ]
  },
  {
   "cell_type": "code",
   "execution_count": 30,
   "id": "1d48bc06",
   "metadata": {},
   "outputs": [
    {
     "name": "stdout",
     "output_type": "stream",
     "text": [
      "[0]\tvalidation_0-logloss:0.58861\n",
      "[1]\tvalidation_0-logloss:0.53275\n",
      "[2]\tvalidation_0-logloss:0.49770\n",
      "[3]\tvalidation_0-logloss:0.47197\n",
      "[4]\tvalidation_0-logloss:0.45451\n",
      "[5]\tvalidation_0-logloss:0.44411\n",
      "[6]\tvalidation_0-logloss:0.43176\n",
      "[7]\tvalidation_0-logloss:0.42819\n",
      "[8]\tvalidation_0-logloss:0.42272\n",
      "[9]\tvalidation_0-logloss:0.41983\n",
      "[10]\tvalidation_0-logloss:0.41641\n",
      "[11]\tvalidation_0-logloss:0.41599\n",
      "[12]\tvalidation_0-logloss:0.41420\n",
      "[13]\tvalidation_0-logloss:0.41011\n",
      "[14]\tvalidation_0-logloss:0.40980\n",
      "[15]\tvalidation_0-logloss:0.40926\n",
      "[16]\tvalidation_0-logloss:0.40869\n",
      "[17]\tvalidation_0-logloss:0.40703\n",
      "[18]\tvalidation_0-logloss:0.40461\n",
      "[19]\tvalidation_0-logloss:0.40491\n",
      "[20]\tvalidation_0-logloss:0.40510\n",
      "[21]\tvalidation_0-logloss:0.40551\n",
      "[22]\tvalidation_0-logloss:0.40684\n",
      "[23]\tvalidation_0-logloss:0.40680\n",
      "[24]\tvalidation_0-logloss:0.40863\n",
      "[25]\tvalidation_0-logloss:0.40802\n",
      "[26]\tvalidation_0-logloss:0.40710\n",
      "[27]\tvalidation_0-logloss:0.40695\n"
     ]
    },
    {
     "data": {
      "text/plain": [
       "XGBClassifier(base_score=0.5, booster='gbtree', callbacks=None,\n",
       "              colsample_bylevel=1, colsample_bynode=1, colsample_bytree=1,\n",
       "              early_stopping_rounds=10, enable_categorical=False,\n",
       "              eval_metric=None, feature_types=None, gamma=0, gpu_id=-1,\n",
       "              grow_policy='depthwise', importance_type=None,\n",
       "              interaction_constraints='', learning_rate=0.300000012,\n",
       "              max_bin=256, max_cat_threshold=64, max_cat_to_onehot=4,\n",
       "              max_delta_step=0, max_depth=6, max_leaves=0, min_child_weight=1,\n",
       "              missing=nan, monotone_constraints='()', n_estimators=100,\n",
       "              n_jobs=0, num_parallel_tree=1, predictor='auto', random_state=0, ...)"
      ]
     },
     "execution_count": 30,
     "metadata": {},
     "output_type": "execute_result"
    },
    {
     "data": {
      "text/plain": [
       "0.7901092581943646"
      ]
     },
     "execution_count": 30,
     "metadata": {},
     "output_type": "execute_result"
    },
    {
     "name": "stdout",
     "output_type": "stream",
     "text": [
      "confusion_matrix : \n",
      " [[678 183]\n",
      " [182 696]]\n"
     ]
    },
    {
     "data": {
      "text/plain": [
       "<AxesSubplot:title={'center':'Confusion Matrix'}, xlabel='Predicted label', ylabel='True label'>"
      ]
     },
     "execution_count": 30,
     "metadata": {},
     "output_type": "execute_result"
    },
    {
     "data": {
      "image/png": "[encoded data removed]",
      "text/plain": [
       "<Figure size 576x432 with 2 Axes>"
      ]
     },
     "metadata": {
      "needs_background": "light"
     },
     "output_type": "display_data"
    }
   ],
   "source": [
    "import xgboost as xgb\n",
    "import pandas as pd\n",
    "import seaborn as sns\n",
    "from xgboost import XGBClassifier\n",
    "from sklearn.metrics import accuracy_score\n",
    "import matplotlib.pyplot as plt\n",
    "\n",
    "model = xgb.XGBClassifier(early_stopping_rounds=10)\n",
    "eval_set = [(X_test, y_test)]\n",
    "model.fit(X_train, y_train, eval_set=eval_set)#, verbose=True\n",
    "\n",
    "pred = model.predict(X_test)\n",
    "acc = accuracy_score(y_test,pred)\n",
    "acc\n",
    "\n",
    "from sklearn.metrics import confusion_matrix\n",
    "import scikitplot as skplt\n",
    "\n",
    "pred = model.predict(X_test)\n",
    "# 실제 , 예측\n",
    "cm = confusion_matrix(y_test, pred)\n",
    "print('confusion_matrix : \\n', cm)\n",
    "\n",
    "skplt.metrics.plot_confusion_matrix(y_test,pred,figsize=(8,6))\n",
    "plt.show()"
   ]
  },
  {
   "cell_type": "code",
   "execution_count": 31,
   "id": "d701859d",
   "metadata": {},
   "outputs": [
    {
     "name": "stdout",
     "output_type": "stream",
     "text": [
      "18\n",
      "0.4046081318894895\n"
     ]
    },
    {
     "data": {
      "text/plain": [
       "0.4046081333049499"
      ]
     },
     "execution_count": 31,
     "metadata": {},
     "output_type": "execute_result"
    },
    {
     "data": {
      "text/plain": [
       "array([0.06782953, 0.7065104 , 0.024158  , 0.01562964, 0.02233012,\n",
       "       0.01091842, 0.01138891, 0.00875717, 0.03212795, 0.02237078,\n",
       "       0.01583974, 0.03032388, 0.0318154 ], dtype=float32)"
      ]
     },
     "execution_count": 31,
     "metadata": {},
     "output_type": "execute_result"
    },
    {
     "data": {
      "text/plain": [
       "<BarContainer object of 13 artists>"
      ]
     },
     "execution_count": 31,
     "metadata": {},
     "output_type": "execute_result"
    },
    {
     "data": {
      "image/png": "[encoded data removed]",
      "text/plain": [
       "<Figure size 432x288 with 1 Axes>"
      ]
     },
     "metadata": {
      "needs_background": "light"
     },
     "output_type": "display_data"
    }
   ],
   "source": [
    "# best_iteration\n",
    "print(model.best_iteration)\n",
    "print(model.best_score)\n",
    "\n",
    "from sklearn import metrics\n",
    "y_pred = model.predict_proba(X_test)\n",
    "metrics.log_loss(y_test, y_pred)\n",
    "\n",
    "# feature_importances_\n",
    "import matplotlib.pyplot as plt \n",
    "model.feature_importances_\n",
    "plt.barh(df.iloc[:,:-1].columns, model.feature_importances_)"
   ]
  },
  {
   "cell_type": "markdown",
   "id": "296e6290",
   "metadata": {},
   "source": [
    "## LGBMClassifier"
   ]
  },
  {
   "cell_type": "code",
   "execution_count": 32,
   "id": "1fffd844",
   "metadata": {},
   "outputs": [
    {
     "name": "stdout",
     "output_type": "stream",
     "text": [
      "[1]\tvalid_0's binary_logloss: 0.654422\n",
      "Training until validation scores don't improve for 10 rounds\n",
      "[2]\tvalid_0's binary_logloss: 0.622\n",
      "[3]\tvalid_0's binary_logloss: 0.595886\n",
      "[4]\tvalid_0's binary_logloss: 0.5742\n",
      "[5]\tvalid_0's binary_logloss: 0.556117\n",
      "[6]\tvalid_0's binary_logloss: 0.539815\n",
      "[7]\tvalid_0's binary_logloss: 0.526158\n",
      "[8]\tvalid_0's binary_logloss: 0.51408\n",
      "[9]\tvalid_0's binary_logloss: 0.503575\n",
      "[10]\tvalid_0's binary_logloss: 0.494004\n",
      "[11]\tvalid_0's binary_logloss: 0.486519\n",
      "[12]\tvalid_0's binary_logloss: 0.478199\n",
      "[13]\tvalid_0's binary_logloss: 0.471636\n",
      "[14]\tvalid_0's binary_logloss: 0.466067\n",
      "[15]\tvalid_0's binary_logloss: 0.460849\n",
      "[16]\tvalid_0's binary_logloss: 0.456198\n",
      "[17]\tvalid_0's binary_logloss: 0.452993\n",
      "[18]\tvalid_0's binary_logloss: 0.451086\n",
      "[19]\tvalid_0's binary_logloss: 0.446959\n",
      "[20]\tvalid_0's binary_logloss: 0.444228\n",
      "[21]\tvalid_0's binary_logloss: 0.442172\n",
      "[22]\tvalid_0's binary_logloss: 0.439095\n",
      "[23]\tvalid_0's binary_logloss: 0.437704\n",
      "[24]\tvalid_0's binary_logloss: 0.434737\n",
      "[25]\tvalid_0's binary_logloss: 0.431671\n",
      "[26]\tvalid_0's binary_logloss: 0.428873\n",
      "[27]\tvalid_0's binary_logloss: 0.427431\n",
      "[28]\tvalid_0's binary_logloss: 0.425553\n",
      "[29]\tvalid_0's binary_logloss: 0.424606\n",
      "[30]\tvalid_0's binary_logloss: 0.42363\n",
      "[31]\tvalid_0's binary_logloss: 0.422512\n",
      "[32]\tvalid_0's binary_logloss: 0.419224\n",
      "[33]\tvalid_0's binary_logloss: 0.417761\n",
      "[34]\tvalid_0's binary_logloss: 0.416884\n",
      "[35]\tvalid_0's binary_logloss: 0.416045\n",
      "[36]\tvalid_0's binary_logloss: 0.416244\n",
      "[37]\tvalid_0's binary_logloss: 0.415891\n",
      "[38]\tvalid_0's binary_logloss: 0.415146\n",
      "[39]\tvalid_0's binary_logloss: 0.41631\n",
      "[40]\tvalid_0's binary_logloss: 0.415759\n",
      "[41]\tvalid_0's binary_logloss: 0.41545\n",
      "[42]\tvalid_0's binary_logloss: 0.41584\n",
      "[43]\tvalid_0's binary_logloss: 0.414724\n",
      "[44]\tvalid_0's binary_logloss: 0.413753\n",
      "[45]\tvalid_0's binary_logloss: 0.412855\n",
      "[46]\tvalid_0's binary_logloss: 0.413138\n",
      "[47]\tvalid_0's binary_logloss: 0.412732\n",
      "[48]\tvalid_0's binary_logloss: 0.412746\n",
      "[49]\tvalid_0's binary_logloss: 0.413439\n",
      "[50]\tvalid_0's binary_logloss: 0.412214\n",
      "[51]\tvalid_0's binary_logloss: 0.411798\n",
      "[52]\tvalid_0's binary_logloss: 0.41148\n",
      "[53]\tvalid_0's binary_logloss: 0.410367\n",
      "[54]\tvalid_0's binary_logloss: 0.410761\n",
      "[55]\tvalid_0's binary_logloss: 0.411496\n",
      "[56]\tvalid_0's binary_logloss: 0.411034\n",
      "[57]\tvalid_0's binary_logloss: 0.411001\n",
      "[58]\tvalid_0's binary_logloss: 0.410092\n",
      "[59]\tvalid_0's binary_logloss: 0.409275\n",
      "[60]\tvalid_0's binary_logloss: 0.409361\n",
      "[61]\tvalid_0's binary_logloss: 0.408482\n",
      "[62]\tvalid_0's binary_logloss: 0.407951\n",
      "[63]\tvalid_0's binary_logloss: 0.408109\n",
      "[64]\tvalid_0's binary_logloss: 0.407296\n",
      "[65]\tvalid_0's binary_logloss: 0.40736\n",
      "[66]\tvalid_0's binary_logloss: 0.407555\n",
      "[67]\tvalid_0's binary_logloss: 0.406466\n",
      "[68]\tvalid_0's binary_logloss: 0.407026\n",
      "[69]\tvalid_0's binary_logloss: 0.407025\n",
      "[70]\tvalid_0's binary_logloss: 0.406761\n",
      "[71]\tvalid_0's binary_logloss: 0.407587\n",
      "[72]\tvalid_0's binary_logloss: 0.407602\n",
      "[73]\tvalid_0's binary_logloss: 0.407643\n",
      "[74]\tvalid_0's binary_logloss: 0.407776\n",
      "[75]\tvalid_0's binary_logloss: 0.408904\n",
      "[76]\tvalid_0's binary_logloss: 0.409272\n",
      "[77]\tvalid_0's binary_logloss: 0.409091\n",
      "Early stopping, best iteration is:\n",
      "[67]\tvalid_0's binary_logloss: 0.406466\n"
     ]
    },
    {
     "data": {
      "text/plain": [
       "LGBMClassifier(boosting_type='goss', max_depth=5, random_state=0)"
      ]
     },
     "execution_count": 32,
     "metadata": {},
     "output_type": "execute_result"
    },
    {
     "data": {
      "text/plain": [
       "0.7964347326049454"
      ]
     },
     "execution_count": 32,
     "metadata": {},
     "output_type": "execute_result"
    },
    {
     "name": "stdout",
     "output_type": "stream",
     "text": [
      "confusion_matrix : \n",
      " [[667 194]\n",
      " [160 718]]\n"
     ]
    },
    {
     "data": {
      "text/plain": [
       "<AxesSubplot:title={'center':'Confusion Matrix'}, xlabel='Predicted label', ylabel='True label'>"
      ]
     },
     "execution_count": 32,
     "metadata": {},
     "output_type": "execute_result"
    },
    {
     "data": {
      "image/png": "[encoded data removed]",
      "text/plain": [
       "<Figure size 576x432 with 2 Axes>"
      ]
     },
     "metadata": {
      "needs_background": "light"
     },
     "output_type": "display_data"
    }
   ],
   "source": [
    "import lightgbm as lgb # 분류 회귀 다 됨\n",
    "model = lgb.LGBMClassifier(boosting_type='goss',max_depth=5, random_state=0)\n",
    "eval_set = [(X_test, y_test)]\n",
    "callbacks = []  # 리스트 객체 사용자함수를 담을 곳\n",
    "callbacks.append(lgb.early_stopping(stopping_rounds=10)) # 부스팅 반복 횟수 제어\n",
    "callbacks.append(lgb.log_evaluation())\n",
    "model.fit(X_train, y_train, eval_set=eval_set, callbacks=callbacks)\n",
    "\n",
    "pred = model.predict(X_test)\n",
    "acc = accuracy_score(y_test,pred)\n",
    "acc\n",
    "\n",
    "from sklearn.metrics import confusion_matrix\n",
    "import scikitplot as skplt\n",
    "\n",
    "pred = model.predict(X_test)\n",
    "# 실제 , 예측\n",
    "cm = confusion_matrix(y_test, pred)\n",
    "print('confusion_matrix : \\n', cm)\n",
    "\n",
    "skplt.metrics.plot_confusion_matrix(y_test,pred,figsize=(8,6))\n",
    "plt.show()"
   ]
  },
  {
   "cell_type": "code",
   "execution_count": 33,
   "id": "6b2ae31e",
   "metadata": {},
   "outputs": [
    {
     "name": "stdout",
     "output_type": "stream",
     "text": [
      "67\n",
      "defaultdict(<class 'collections.OrderedDict'>, {'valid_0': OrderedDict([('binary_logloss', 0.4064655206158589)])})\n"
     ]
    }
   ],
   "source": [
    "print(model.best_iteration_)\n",
    "print(model.best_score_)"
   ]
  },
  {
   "cell_type": "code",
   "execution_count": 34,
   "id": "e6513294",
   "metadata": {},
   "outputs": [
    {
     "data": {
      "text/plain": [
       "0.40646552061585906"
      ]
     },
     "execution_count": 34,
     "metadata": {},
     "output_type": "execute_result"
    }
   ],
   "source": [
    "from sklearn import metrics\n",
    "y_pred = model.predict_proba(X_test)\n",
    "metrics.log_loss(y_test, y_pred)"
   ]
  },
  {
   "cell_type": "code",
   "execution_count": 35,
   "id": "00e16a78",
   "metadata": {},
   "outputs": [
    {
     "data": {
      "text/plain": [
       "<AxesSubplot:title={'center':'Metric during training'}, xlabel='Iterations', ylabel='binary_logloss'>"
      ]
     },
     "execution_count": 35,
     "metadata": {},
     "output_type": "execute_result"
    },
    {
     "data": {
      "image/png": "[encoded data removed]",
      "text/plain": [
       "<Figure size 432x288 with 1 Axes>"
      ]
     },
     "metadata": {
      "needs_background": "light"
     },
     "output_type": "display_data"
    }
   ],
   "source": [
    "lgb.plot_metric(model)"
   ]
  },
  {
   "cell_type": "code",
   "execution_count": 36,
   "id": "5ec09b85",
   "metadata": {},
   "outputs": [
    {
     "data": {
      "text/plain": [
       "<AxesSubplot:title={'center':'Feature importance'}, xlabel='Feature importance', ylabel='Features'>"
      ]
     },
     "execution_count": 36,
     "metadata": {},
     "output_type": "execute_result"
    },
    {
     "data": {
      "image/png": "[encoded data removed]",
      "text/plain": [
       "<Figure size 432x288 with 1 Axes>"
      ]
     },
     "metadata": {
      "needs_background": "light"
     },
     "output_type": "display_data"
    }
   ],
   "source": [
    "lgb.plot_importance(model)"
   ]
  },
  {
   "cell_type": "code",
   "execution_count": null,
   "id": "feb8ff4c",
   "metadata": {},
   "outputs": [],
   "source": []
  }
 ],
 "metadata": {
  "kernelspec": {
   "display_name": "Python 3.10.x 64-bit (microsoft store)",
   "language": "python",
   "name": "python3"
  },
  "language_info": {
   "codemirror_mode": {
    "name": "ipython",
    "version": 3
   },
   "file_extension": ".py",
   "mimetype": "text/x-python",
   "name": "python",
   "nbconvert_exporter": "python",
   "pygments_lexer": "ipython3",
   "version": "3.10"
  },
  "vscode": {
   "interpreter": {
    "hash": "d86e5f3e65a370f4f0c7c6c157476db0f2576129ce19971a1015c727da11cca3"
   }
  }
 },
 "nbformat": 4,
 "nbformat_minor": 5
}

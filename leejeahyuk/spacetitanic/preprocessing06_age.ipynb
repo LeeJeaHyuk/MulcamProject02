{
 "cells": [
  {
   "cell_type": "code",
   "execution_count": 1,
   "metadata": {},
   "outputs": [],
   "source": [
    "from IPython.core.interactiveshell import InteractiveShell\n",
    "InteractiveShell.ast_node_interactivity=\"all\""
   ]
  },
  {
   "cell_type": "code",
   "execution_count": 43,
   "metadata": {},
   "outputs": [],
   "source": [
    "import numpy as np\n",
    "import pandas as pd\n",
    "\n",
    "# # 정확도 0.7013221153846154\n",
    "df = pd.read_csv('./kaggle/input/spaceship-titanic/train_Destination_update.csv')\n",
    "df02 = pd.read_csv('./kaggle/input/spaceship-titanic/train_update.csv')"
   ]
  },
  {
   "cell_type": "markdown",
   "metadata": {},
   "source": [
    "### age null값 처리\n",
    "Age가 61보다 작은 값의 중앙값으로 fillna()\n"
   ]
  },
  {
   "cell_type": "code",
   "execution_count": 42,
   "metadata": {},
   "outputs": [
    {
     "data": {
      "text/plain": [
       "PassengerId       0\n",
       "HomePlanet        0\n",
       "CryoSleep         0\n",
       "Cabin_A           0\n",
       "Cabin_B           0\n",
       "Cabin_C           0\n",
       "Cabin_D           0\n",
       "Cabin_E           0\n",
       "Cabin_F           0\n",
       "Cabin_G           0\n",
       "Cabin_T           0\n",
       "Cabin_num         0\n",
       "Cabin_port        0\n",
       "Destination       0\n",
       "Age               0\n",
       "VIP               0\n",
       "RoomService     158\n",
       "FoodCourt       166\n",
       "ShoppingMall    186\n",
       "Spa             167\n",
       "VRDeck          160\n",
       "Name            198\n",
       "Transported       0\n",
       "dtype: int64"
      ]
     },
     "execution_count": 42,
     "metadata": {},
     "output_type": "execute_result"
    }
   ],
   "source": [
    "# df['Age'].median()\n",
    "# df['Age'][df['Age']<61].median()\n",
    "# df[df['Age']<61].groupby('Age').count()\n",
    "# df['Age'].fillna(df[df['Age']<61].median(), inplace=True)\n",
    "\n",
    "\n",
    "df.loc[df['Age'] != df['Age'], 'Age'] = df['Age'][df['Age']<61].median()\n",
    "df.isnull().sum()\n",
    "\n",
    "df.to_csv('./kaggle/input/spaceship-titanic/train_Age_update.csv', index=False)"
   ]
  },
  {
   "cell_type": "code",
   "execution_count": null,
   "metadata": {},
   "outputs": [],
   "source": []
  }
 ],
 "metadata": {
  "kernelspec": {
   "display_name": "Python 3.10.8 64-bit (microsoft store)",
   "language": "python",
   "name": "python3"
  },
  "language_info": {
   "codemirror_mode": {
    "name": "ipython",
    "version": 3
   },
   "file_extension": ".py",
   "mimetype": "text/x-python",
   "name": "python",
   "nbconvert_exporter": "python",
   "pygments_lexer": "ipython3",
   "version": "3.10.8"
  },
  "orig_nbformat": 4,
  "vscode": {
   "interpreter": {
    "hash": "e0acaf148705ed9ed86cc5cad12259d7985e30670e5686e5f55604a9b3b84a55"
   }
  }
 },
 "nbformat": 4,
 "nbformat_minor": 2
}

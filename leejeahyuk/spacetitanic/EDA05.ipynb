{
 "cells": [
  {
   "cell_type": "code",
   "execution_count": 29,
   "metadata": {},
   "outputs": [],
   "source": [
    "from IPython.core.interactiveshell import InteractiveShell\n",
    "InteractiveShell.ast_node_interactivity=\"all\""
   ]
  },
  {
   "cell_type": "code",
   "execution_count": 1,
   "metadata": {},
   "outputs": [],
   "source": [
    "import numpy as np\n",
    "import pandas as pd\n",
    "\n",
    "# df = pd.read_csv('./kaggle/input/spaceship-titanic/train_update.csv')\n",
    "df = pd.read_csv('./kaggle/input/spaceship-titanic/train.csv')"
   ]
  },
  {
   "cell_type": "code",
   "execution_count": 2,
   "metadata": {},
   "outputs": [
    {
     "data": {
      "text/plain": [
       "Index(['PassengerId', 'HomePlanet', 'CryoSleep', 'Cabin', 'Destination', 'Age',\n",
       "       'VIP', 'RoomService', 'FoodCourt', 'ShoppingMall', 'Spa', 'VRDeck',\n",
       "       'Name', 'Transported'],\n",
       "      dtype='object')"
      ]
     },
     "execution_count": 2,
     "metadata": {},
     "output_type": "execute_result"
    }
   ],
   "source": [
    "df.columns"
   ]
  },
  {
   "cell_type": "markdown",
   "metadata": {},
   "source": [
    "### CryoSleep==1 인 경우에 돈을 사용하지 않음"
   ]
  },
  {
   "cell_type": "code",
   "execution_count": 12,
   "metadata": {},
   "outputs": [],
   "source": [
    "df.loc[(df['CryoSleep']==1) & (df['RoomService'] != 0 ), 'RoomService'] = 0\n",
    "df.loc[(df['CryoSleep']==1) & (df['FoodCourt'] != 0 ), 'FoodCourt'] = 0\n",
    "df.loc[(df['CryoSleep']==1) & (df['ShoppingMall'] != 0 ), 'ShoppingMall'] = 0\n",
    "df.loc[(df['CryoSleep']==1) & (df['Spa'] != 0 ), 'Spa'] = 0\n",
    "df.loc[(df['CryoSleep']==1) & (df['VRDeck'] != 0 ), 'VRDeck'] = 0\n",
    "\n",
    "df.to_csv('./kaggle/input/spaceship-titanic/train_CryoSleep_0.csv', index=False)"
   ]
  },
  {
   "cell_type": "code",
   "execution_count": 18,
   "metadata": {},
   "outputs": [
    {
     "data": {
      "text/html": [
       "<div>\n",
       "<style scoped>\n",
       "    .dataframe tbody tr th:only-of-type {\n",
       "        vertical-align: middle;\n",
       "    }\n",
       "\n",
       "    .dataframe tbody tr th {\n",
       "        vertical-align: top;\n",
       "    }\n",
       "\n",
       "    .dataframe thead th {\n",
       "        text-align: right;\n",
       "    }\n",
       "</style>\n",
       "<table border=\"1\" class=\"dataframe\">\n",
       "  <thead>\n",
       "    <tr style=\"text-align: right;\">\n",
       "      <th></th>\n",
       "      <th>PassengerId</th>\n",
       "      <th>HomePlanet</th>\n",
       "      <th>CryoSleep</th>\n",
       "      <th>Cabin</th>\n",
       "      <th>Destination</th>\n",
       "      <th>Age</th>\n",
       "      <th>VIP</th>\n",
       "      <th>RoomService</th>\n",
       "      <th>FoodCourt</th>\n",
       "      <th>ShoppingMall</th>\n",
       "      <th>Spa</th>\n",
       "      <th>Name</th>\n",
       "      <th>Transported</th>\n",
       "    </tr>\n",
       "    <tr>\n",
       "      <th>VRDeck</th>\n",
       "      <th></th>\n",
       "      <th></th>\n",
       "      <th></th>\n",
       "      <th></th>\n",
       "      <th></th>\n",
       "      <th></th>\n",
       "      <th></th>\n",
       "      <th></th>\n",
       "      <th></th>\n",
       "      <th></th>\n",
       "      <th></th>\n",
       "      <th></th>\n",
       "      <th></th>\n",
       "    </tr>\n",
       "  </thead>\n",
       "  <tbody>\n",
       "    <tr>\n",
       "      <th>0.0</th>\n",
       "      <td>3037</td>\n",
       "      <td>2962</td>\n",
       "      <td>3037</td>\n",
       "      <td>2953</td>\n",
       "      <td>2989</td>\n",
       "      <td>2955</td>\n",
       "      <td>2962</td>\n",
       "      <td>3037</td>\n",
       "      <td>3037</td>\n",
       "      <td>3037</td>\n",
       "      <td>3037</td>\n",
       "      <td>2975</td>\n",
       "      <td>3037</td>\n",
       "    </tr>\n",
       "  </tbody>\n",
       "</table>\n",
       "</div>"
      ],
      "text/plain": [
       "        PassengerId  HomePlanet  CryoSleep  Cabin  Destination   Age   VIP  \\\n",
       "VRDeck                                                                       \n",
       "0.0            3037        2962       3037   2953         2989  2955  2962   \n",
       "\n",
       "        RoomService  FoodCourt  ShoppingMall   Spa  Name  Transported  \n",
       "VRDeck                                                                 \n",
       "0.0            3037       3037          3037  3037  2975         3037  "
      ]
     },
     "execution_count": 18,
     "metadata": {},
     "output_type": "execute_result"
    }
   ],
   "source": [
    "df = pd.read_csv('./kaggle/input/spaceship-titanic/train_CryoSleep_0.csv')\n",
    "\n",
    "# df.loc[df['CryoSleep']==1].groupby('RoomService').count()\n",
    "# df.loc[df['CryoSleep']==1].groupby('FoodCourt').count()\n",
    "# df.loc[df['CryoSleep']==1].groupby('ShoppingMall').count()\n",
    "# df.loc[df['CryoSleep']==1].groupby('Spa').count()\n",
    "# df.loc[df['CryoSleep']==1].groupby('VRDeck').count()"
   ]
  },
  {
   "cell_type": "markdown",
   "metadata": {},
   "source": [
    "### Age<=12 인 경우에 돈을 사용하지 않음"
   ]
  },
  {
   "cell_type": "code",
   "execution_count": 36,
   "metadata": {},
   "outputs": [],
   "source": [
    "df = pd.read_csv('./kaggle/input/spaceship-titanic/train.csv')\n",
    "# df.loc[(df['Age']==1) & (df['RoomService'] != 0 ), 'RoomService'] = 0\n",
    "# df.loc[(df['Age']<=12) & (df['RoomService'] != 0 )].groupby('RoomService').count()\n",
    "# df.loc[(df['Age']<=12) & (df['FoodCourt'] != 0 )].groupby('FoodCourt').count()\n",
    "# df.loc[(df['Age']<=12) & (df['ShoppingMall'] != 0 )].groupby('ShoppingMall').count()\n",
    "# df.loc[(df['Age']<=12) & (df['Spa'] != 0 )].groupby('Spa').count()\n",
    "# df.loc[(df['Age']<=12) & (df['VRDeck'] != 0 )].groupby('VRDeck').count()"
   ]
  },
  {
   "cell_type": "code",
   "execution_count": 37,
   "metadata": {},
   "outputs": [],
   "source": [
    "df.loc[(df['Age']<=12) & (df['RoomService'] != 0 ), 'RoomService'] = 0\n",
    "df.loc[(df['Age']<=12) & (df['FoodCourt'] != 0 ), 'FoodCourt'] = 0\n",
    "df.loc[(df['Age']<=12) & (df['ShoppingMall'] != 0 ), 'ShoppingMall'] = 0\n",
    "df.loc[(df['Age']<=12) & (df['Spa'] != 0 ), 'Spa'] = 0\n",
    "df.loc[(df['Age']<=12) & (df['VRDeck'] != 0 ), 'VRDeck'] = 0\n",
    "\n",
    "df.to_csv('./kaggle/input/spaceship-titanic/train_Agelow12.csv', index=False)"
   ]
  },
  {
   "cell_type": "code",
   "execution_count": 41,
   "metadata": {},
   "outputs": [
    {
     "data": {
      "text/plain": [
       "PassengerId       0\n",
       "HomePlanet      201\n",
       "CryoSleep       217\n",
       "Cabin           199\n",
       "Destination     182\n",
       "Age             179\n",
       "VIP             203\n",
       "RoomService     161\n",
       "FoodCourt       171\n",
       "ShoppingMall    188\n",
       "Spa             169\n",
       "VRDeck          164\n",
       "Name            200\n",
       "Transported       0\n",
       "dtype: int64"
      ]
     },
     "execution_count": 41,
     "metadata": {},
     "output_type": "execute_result"
    },
    {
     "data": {
      "text/plain": [
       "PassengerId       0\n",
       "HomePlanet      201\n",
       "CryoSleep       217\n",
       "Cabin           199\n",
       "Destination     182\n",
       "Age             179\n",
       "VIP             203\n",
       "RoomService     181\n",
       "FoodCourt       183\n",
       "ShoppingMall    208\n",
       "Spa             183\n",
       "VRDeck          188\n",
       "Name            200\n",
       "Transported       0\n",
       "dtype: int64"
      ]
     },
     "execution_count": 41,
     "metadata": {},
     "output_type": "execute_result"
    }
   ],
   "source": [
    "df = pd.read_csv('./kaggle/input/spaceship-titanic/train_Agelow12.csv')\n",
    "df01 = pd.read_csv('./kaggle/input/spaceship-titanic/train.csv')\n",
    "# df.loc[(df['Age']<=12)].groupby('RoomService').count()\n",
    "# df.loc[(df['Age']<=12)].groupby('FoodCourt').count()\n",
    "# df.loc[(df['Age']<=12)].groupby('ShoppingMall').count()\n",
    "# df.loc[(df['Age']<=12)].groupby('Spa').count()\n",
    "# df.loc[(df['Age']<=12)].groupby('VRDeck').count()\n",
    "df.isnull().sum()\n",
    "df01.isnull().sum()\n",
    "# null값 감소"
   ]
  },
  {
   "cell_type": "code",
   "execution_count": null,
   "metadata": {},
   "outputs": [],
   "source": []
  }
 ],
 "metadata": {
  "kernelspec": {
   "display_name": "Python 3.10.8 64-bit (microsoft store)",
   "language": "python",
   "name": "python3"
  },
  "language_info": {
   "codemirror_mode": {
    "name": "ipython",
    "version": 3
   },
   "file_extension": ".py",
   "mimetype": "text/x-python",
   "name": "python",
   "nbconvert_exporter": "python",
   "pygments_lexer": "ipython3",
   "version": "3.10.8"
  },
  "orig_nbformat": 4,
  "vscode": {
   "interpreter": {
    "hash": "e0acaf148705ed9ed86cc5cad12259d7985e30670e5686e5f55604a9b3b84a55"
   }
  }
 },
 "nbformat": 4,
 "nbformat_minor": 2
}

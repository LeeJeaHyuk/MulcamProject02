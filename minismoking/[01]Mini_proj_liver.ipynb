{
 "cells": [
  {
   "cell_type": "markdown",
   "id": "8a0a5971",
   "metadata": {},
   "source": [
    "- gender 성별\n",
    "- age 나이\n",
    "- height 키\n",
    "- weight 몸무게\n",
    "- eyesight(left, right) 왼쪽 시력, 오른쪽 시력\n",
    "- hearing(left, right) 왼쪽 청력, 오른쪽 청력\n",
    "\n",
    "- systolic 최고혈압(대동맥 내로 보내지는 심실 수축기의 혈압)\n",
    "- relaxation 최저혈압\n",
    "- fasting blood sugar 공복혈당\n",
    "- Cholesterol 총 콜레스테롤\n",
    "- triglyceride 중성지방\n",
    "- HDL 고밀도지단백 (콜레스테롤)\n",
    "- LDL 저밀도지단백 (콜레스테롤)\n",
    "- hemoglobin 헤모글로빈 수치\n",
    "- Urine protein 단백뇨\n",
    "- serum creatinine 혈액 또는 소변에서 크레아티닌 양 측정 - *신장*관련\n",
    "\n",
    "- AST 아스파르테이트 아미노 전달효소 *간*\n",
    "- ALT 알라닌 아미노 전달효소 *간* \n",
    "    - AST, ALT의 정상 범위 ~40, 경도 40~ 200, 중등도 200~400, 중증 400~\n",
    "- Gtp 감마 Gtp간 기능 검사 *알코올 관련*\n",
    "    - 정상 ~50, 가벼운 증가 51~100, 중간정도의 증가 101~200, 고도의 증가 201~500, 초고도 증가 500~\n",
    "    - 술 마시지 않는 사람도 높게 나올 수 있다.\n",
    "    \n",
    "- oral 구강검사 여부\n",
    "- dental caries 충치 갯수\n",
    "- tartar 치석존재여부"
   ]
  },
  {
   "cell_type": "code",
   "execution_count": 1,
   "id": "2f92eacf",
   "metadata": {},
   "outputs": [],
   "source": [
    "from sklearn.model_selection import train_test_split\n",
    "from sklearn import metrics\n",
    "from sklearn.ensemble import RandomForestClassifier\n",
    "\n",
    "import seaborn as sns\n",
    "import pandas as pd\n",
    "import numpy as np\n",
    "import matplotlib.pyplot as plt"
   ]
  },
  {
   "cell_type": "code",
   "execution_count": 2,
   "id": "6e7e9384",
   "metadata": {},
   "outputs": [],
   "source": [
    "from IPython.core.interactiveshell import InteractiveShell\n",
    "InteractiveShell.ast_node_interactivity=\"all\""
   ]
  },
  {
   "cell_type": "code",
   "execution_count": 8,
   "id": "9a1ec6bb",
   "metadata": {},
   "outputs": [
    {
     "data": {
      "text/plain": [
       "(55692, 27)"
      ]
     },
     "execution_count": 8,
     "metadata": {},
     "output_type": "execute_result"
    }
   ],
   "source": [
    "df = pd.read_csv('C:/ds_work/ML_DATA/smoking.csv')\n",
    "df.shape  # (55693, 27)"
   ]
  },
  {
   "cell_type": "code",
   "execution_count": 9,
   "id": "c7913993",
   "metadata": {},
   "outputs": [],
   "source": [
    "# 범주형 데이터 변환\n",
    "df = df.replace({'N':0,'Y':1,'F':0,'M':1, })\n",
    "gender = {'F': 0, 'M': 1}\n",
    "oral = {'N': 0, 'T': 1}\n",
    "tartar = {'N': 0, 'T': 1}\n",
    "# df 전체 float형으로 바꾸기\n",
    "df = df.astype(float)"
   ]
  },
  {
   "cell_type": "code",
   "execution_count": 10,
   "id": "40cf86fd",
   "metadata": {},
   "outputs": [
    {
     "data": {
      "text/plain": [
       "0        0.0\n",
       "1        0.0\n",
       "2        1.0\n",
       "3        0.0\n",
       "4        0.0\n",
       "        ... \n",
       "55687    0.0\n",
       "55688    0.0\n",
       "55689    0.0\n",
       "55690    0.0\n",
       "55691    1.0\n",
       "Name: smoking, Length: 55692, dtype: float64"
      ]
     },
     "execution_count": 10,
     "metadata": {},
     "output_type": "execute_result"
    }
   ],
   "source": [
    "target = df.loc[:, 'smoking']\n",
    "target"
   ]
  },
  {
   "cell_type": "code",
   "execution_count": 11,
   "id": "09e7b5a7",
   "metadata": {},
   "outputs": [
    {
     "data": {
      "text/html": [
       "<div>\n",
       "<style scoped>\n",
       "    .dataframe tbody tr th:only-of-type {\n",
       "        vertical-align: middle;\n",
       "    }\n",
       "\n",
       "    .dataframe tbody tr th {\n",
       "        vertical-align: top;\n",
       "    }\n",
       "\n",
       "    .dataframe thead th {\n",
       "        text-align: right;\n",
       "    }\n",
       "</style>\n",
       "<table border=\"1\" class=\"dataframe\">\n",
       "  <thead>\n",
       "    <tr style=\"text-align: right;\">\n",
       "      <th></th>\n",
       "      <th>AST</th>\n",
       "      <th>ALT</th>\n",
       "      <th>Gtp</th>\n",
       "      <th>smoking</th>\n",
       "    </tr>\n",
       "  </thead>\n",
       "  <tbody>\n",
       "    <tr>\n",
       "      <th>0</th>\n",
       "      <td>18.0</td>\n",
       "      <td>19.0</td>\n",
       "      <td>27.0</td>\n",
       "      <td>0.0</td>\n",
       "    </tr>\n",
       "    <tr>\n",
       "      <th>1</th>\n",
       "      <td>22.0</td>\n",
       "      <td>19.0</td>\n",
       "      <td>18.0</td>\n",
       "      <td>0.0</td>\n",
       "    </tr>\n",
       "    <tr>\n",
       "      <th>2</th>\n",
       "      <td>21.0</td>\n",
       "      <td>16.0</td>\n",
       "      <td>22.0</td>\n",
       "      <td>1.0</td>\n",
       "    </tr>\n",
       "    <tr>\n",
       "      <th>3</th>\n",
       "      <td>19.0</td>\n",
       "      <td>26.0</td>\n",
       "      <td>18.0</td>\n",
       "      <td>0.0</td>\n",
       "    </tr>\n",
       "    <tr>\n",
       "      <th>4</th>\n",
       "      <td>16.0</td>\n",
       "      <td>14.0</td>\n",
       "      <td>22.0</td>\n",
       "      <td>0.0</td>\n",
       "    </tr>\n",
       "    <tr>\n",
       "      <th>...</th>\n",
       "      <td>...</td>\n",
       "      <td>...</td>\n",
       "      <td>...</td>\n",
       "      <td>...</td>\n",
       "    </tr>\n",
       "    <tr>\n",
       "      <th>55687</th>\n",
       "      <td>14.0</td>\n",
       "      <td>7.0</td>\n",
       "      <td>10.0</td>\n",
       "      <td>0.0</td>\n",
       "    </tr>\n",
       "    <tr>\n",
       "      <th>55688</th>\n",
       "      <td>20.0</td>\n",
       "      <td>12.0</td>\n",
       "      <td>14.0</td>\n",
       "      <td>0.0</td>\n",
       "    </tr>\n",
       "    <tr>\n",
       "      <th>55689</th>\n",
       "      <td>17.0</td>\n",
       "      <td>11.0</td>\n",
       "      <td>12.0</td>\n",
       "      <td>0.0</td>\n",
       "    </tr>\n",
       "    <tr>\n",
       "      <th>55690</th>\n",
       "      <td>20.0</td>\n",
       "      <td>19.0</td>\n",
       "      <td>18.0</td>\n",
       "      <td>0.0</td>\n",
       "    </tr>\n",
       "    <tr>\n",
       "      <th>55691</th>\n",
       "      <td>26.0</td>\n",
       "      <td>29.0</td>\n",
       "      <td>41.0</td>\n",
       "      <td>1.0</td>\n",
       "    </tr>\n",
       "  </tbody>\n",
       "</table>\n",
       "<p>55692 rows × 4 columns</p>\n",
       "</div>"
      ],
      "text/plain": [
       "        AST   ALT   Gtp  smoking\n",
       "0      18.0  19.0  27.0      0.0\n",
       "1      22.0  19.0  18.0      0.0\n",
       "2      21.0  16.0  22.0      1.0\n",
       "3      19.0  26.0  18.0      0.0\n",
       "4      16.0  14.0  22.0      0.0\n",
       "...     ...   ...   ...      ...\n",
       "55687  14.0   7.0  10.0      0.0\n",
       "55688  20.0  12.0  14.0      0.0\n",
       "55689  17.0  11.0  12.0      0.0\n",
       "55690  20.0  19.0  18.0      0.0\n",
       "55691  26.0  29.0  41.0      1.0\n",
       "\n",
       "[55692 rows x 4 columns]"
      ]
     },
     "execution_count": 11,
     "metadata": {},
     "output_type": "execute_result"
    }
   ],
   "source": [
    "### 간 데이터프레임 ###\n",
    "\n",
    "df_li = df.iloc[:, 20:23]\n",
    "#df_li\n",
    "\n",
    "liver=pd.concat([df_li,target], axis=1)\n",
    "liver"
   ]
  },
  {
   "cell_type": "code",
   "execution_count": 17,
   "id": "ce2a86dd",
   "metadata": {},
   "outputs": [
    {
     "data": {
      "text/html": [
       "<div>\n",
       "<style scoped>\n",
       "    .dataframe tbody tr th:only-of-type {\n",
       "        vertical-align: middle;\n",
       "    }\n",
       "\n",
       "    .dataframe tbody tr th {\n",
       "        vertical-align: top;\n",
       "    }\n",
       "\n",
       "    .dataframe thead th {\n",
       "        text-align: right;\n",
       "    }\n",
       "</style>\n",
       "<table border=\"1\" class=\"dataframe\">\n",
       "  <thead>\n",
       "    <tr style=\"text-align: right;\">\n",
       "      <th></th>\n",
       "      <th>systolic</th>\n",
       "      <th>relaxation</th>\n",
       "      <th>fasting blood sugar</th>\n",
       "      <th>Cholesterol</th>\n",
       "      <th>triglyceride</th>\n",
       "      <th>HDL</th>\n",
       "      <th>LDL</th>\n",
       "      <th>hemoglobin</th>\n",
       "    </tr>\n",
       "  </thead>\n",
       "  <tbody>\n",
       "    <tr>\n",
       "      <th>0</th>\n",
       "      <td>114.0</td>\n",
       "      <td>73.0</td>\n",
       "      <td>94.0</td>\n",
       "      <td>215.0</td>\n",
       "      <td>82.0</td>\n",
       "      <td>73.0</td>\n",
       "      <td>126.0</td>\n",
       "      <td>12.9</td>\n",
       "    </tr>\n",
       "    <tr>\n",
       "      <th>1</th>\n",
       "      <td>119.0</td>\n",
       "      <td>70.0</td>\n",
       "      <td>130.0</td>\n",
       "      <td>192.0</td>\n",
       "      <td>115.0</td>\n",
       "      <td>42.0</td>\n",
       "      <td>127.0</td>\n",
       "      <td>12.7</td>\n",
       "    </tr>\n",
       "    <tr>\n",
       "      <th>2</th>\n",
       "      <td>138.0</td>\n",
       "      <td>86.0</td>\n",
       "      <td>89.0</td>\n",
       "      <td>242.0</td>\n",
       "      <td>182.0</td>\n",
       "      <td>55.0</td>\n",
       "      <td>151.0</td>\n",
       "      <td>15.8</td>\n",
       "    </tr>\n",
       "    <tr>\n",
       "      <th>3</th>\n",
       "      <td>100.0</td>\n",
       "      <td>60.0</td>\n",
       "      <td>96.0</td>\n",
       "      <td>322.0</td>\n",
       "      <td>254.0</td>\n",
       "      <td>45.0</td>\n",
       "      <td>226.0</td>\n",
       "      <td>14.7</td>\n",
       "    </tr>\n",
       "    <tr>\n",
       "      <th>4</th>\n",
       "      <td>120.0</td>\n",
       "      <td>74.0</td>\n",
       "      <td>80.0</td>\n",
       "      <td>184.0</td>\n",
       "      <td>74.0</td>\n",
       "      <td>62.0</td>\n",
       "      <td>107.0</td>\n",
       "      <td>12.5</td>\n",
       "    </tr>\n",
       "    <tr>\n",
       "      <th>...</th>\n",
       "      <td>...</td>\n",
       "      <td>...</td>\n",
       "      <td>...</td>\n",
       "      <td>...</td>\n",
       "      <td>...</td>\n",
       "      <td>...</td>\n",
       "      <td>...</td>\n",
       "      <td>...</td>\n",
       "    </tr>\n",
       "    <tr>\n",
       "      <th>55687</th>\n",
       "      <td>110.0</td>\n",
       "      <td>68.0</td>\n",
       "      <td>89.0</td>\n",
       "      <td>213.0</td>\n",
       "      <td>99.0</td>\n",
       "      <td>75.0</td>\n",
       "      <td>118.0</td>\n",
       "      <td>12.3</td>\n",
       "    </tr>\n",
       "    <tr>\n",
       "      <th>55688</th>\n",
       "      <td>101.0</td>\n",
       "      <td>62.0</td>\n",
       "      <td>89.0</td>\n",
       "      <td>166.0</td>\n",
       "      <td>69.0</td>\n",
       "      <td>73.0</td>\n",
       "      <td>79.0</td>\n",
       "      <td>14.0</td>\n",
       "    </tr>\n",
       "    <tr>\n",
       "      <th>55689</th>\n",
       "      <td>117.0</td>\n",
       "      <td>72.0</td>\n",
       "      <td>88.0</td>\n",
       "      <td>158.0</td>\n",
       "      <td>77.0</td>\n",
       "      <td>79.0</td>\n",
       "      <td>63.0</td>\n",
       "      <td>12.4</td>\n",
       "    </tr>\n",
       "    <tr>\n",
       "      <th>55690</th>\n",
       "      <td>133.0</td>\n",
       "      <td>76.0</td>\n",
       "      <td>107.0</td>\n",
       "      <td>210.0</td>\n",
       "      <td>79.0</td>\n",
       "      <td>48.0</td>\n",
       "      <td>146.0</td>\n",
       "      <td>14.4</td>\n",
       "    </tr>\n",
       "    <tr>\n",
       "      <th>55691</th>\n",
       "      <td>124.0</td>\n",
       "      <td>75.0</td>\n",
       "      <td>82.0</td>\n",
       "      <td>213.0</td>\n",
       "      <td>142.0</td>\n",
       "      <td>34.0</td>\n",
       "      <td>150.0</td>\n",
       "      <td>15.0</td>\n",
       "    </tr>\n",
       "  </tbody>\n",
       "</table>\n",
       "<p>55692 rows × 8 columns</p>\n",
       "</div>"
      ],
      "text/plain": [
       "       systolic  relaxation  fasting blood sugar  Cholesterol  triglyceride  \\\n",
       "0         114.0        73.0                 94.0        215.0          82.0   \n",
       "1         119.0        70.0                130.0        192.0         115.0   \n",
       "2         138.0        86.0                 89.0        242.0         182.0   \n",
       "3         100.0        60.0                 96.0        322.0         254.0   \n",
       "4         120.0        74.0                 80.0        184.0          74.0   \n",
       "...         ...         ...                  ...          ...           ...   \n",
       "55687     110.0        68.0                 89.0        213.0          99.0   \n",
       "55688     101.0        62.0                 89.0        166.0          69.0   \n",
       "55689     117.0        72.0                 88.0        158.0          77.0   \n",
       "55690     133.0        76.0                107.0        210.0          79.0   \n",
       "55691     124.0        75.0                 82.0        213.0         142.0   \n",
       "\n",
       "        HDL    LDL  hemoglobin  \n",
       "0      73.0  126.0        12.9  \n",
       "1      42.0  127.0        12.7  \n",
       "2      55.0  151.0        15.8  \n",
       "3      45.0  226.0        14.7  \n",
       "4      62.0  107.0        12.5  \n",
       "...     ...    ...         ...  \n",
       "55687  75.0  118.0        12.3  \n",
       "55688  73.0   79.0        14.0  \n",
       "55689  79.0   63.0        12.4  \n",
       "55690  48.0  146.0        14.4  \n",
       "55691  34.0  150.0        15.0  \n",
       "\n",
       "[55692 rows x 8 columns]"
      ]
     },
     "execution_count": 17,
     "metadata": {},
     "output_type": "execute_result"
    },
    {
     "data": {
      "text/html": [
       "<div>\n",
       "<style scoped>\n",
       "    .dataframe tbody tr th:only-of-type {\n",
       "        vertical-align: middle;\n",
       "    }\n",
       "\n",
       "    .dataframe tbody tr th {\n",
       "        vertical-align: top;\n",
       "    }\n",
       "\n",
       "    .dataframe thead th {\n",
       "        text-align: right;\n",
       "    }\n",
       "</style>\n",
       "<table border=\"1\" class=\"dataframe\">\n",
       "  <thead>\n",
       "    <tr style=\"text-align: right;\">\n",
       "      <th></th>\n",
       "      <th>systolic</th>\n",
       "      <th>relaxation</th>\n",
       "      <th>fasting blood sugar</th>\n",
       "      <th>Cholesterol</th>\n",
       "      <th>triglyceride</th>\n",
       "      <th>HDL</th>\n",
       "      <th>LDL</th>\n",
       "      <th>hemoglobin</th>\n",
       "      <th>smoking</th>\n",
       "    </tr>\n",
       "  </thead>\n",
       "  <tbody>\n",
       "    <tr>\n",
       "      <th>0</th>\n",
       "      <td>114.0</td>\n",
       "      <td>73.0</td>\n",
       "      <td>94.0</td>\n",
       "      <td>215.0</td>\n",
       "      <td>82.0</td>\n",
       "      <td>73.0</td>\n",
       "      <td>126.0</td>\n",
       "      <td>12.9</td>\n",
       "      <td>0.0</td>\n",
       "    </tr>\n",
       "    <tr>\n",
       "      <th>1</th>\n",
       "      <td>119.0</td>\n",
       "      <td>70.0</td>\n",
       "      <td>130.0</td>\n",
       "      <td>192.0</td>\n",
       "      <td>115.0</td>\n",
       "      <td>42.0</td>\n",
       "      <td>127.0</td>\n",
       "      <td>12.7</td>\n",
       "      <td>0.0</td>\n",
       "    </tr>\n",
       "    <tr>\n",
       "      <th>2</th>\n",
       "      <td>138.0</td>\n",
       "      <td>86.0</td>\n",
       "      <td>89.0</td>\n",
       "      <td>242.0</td>\n",
       "      <td>182.0</td>\n",
       "      <td>55.0</td>\n",
       "      <td>151.0</td>\n",
       "      <td>15.8</td>\n",
       "      <td>1.0</td>\n",
       "    </tr>\n",
       "    <tr>\n",
       "      <th>3</th>\n",
       "      <td>100.0</td>\n",
       "      <td>60.0</td>\n",
       "      <td>96.0</td>\n",
       "      <td>322.0</td>\n",
       "      <td>254.0</td>\n",
       "      <td>45.0</td>\n",
       "      <td>226.0</td>\n",
       "      <td>14.7</td>\n",
       "      <td>0.0</td>\n",
       "    </tr>\n",
       "    <tr>\n",
       "      <th>4</th>\n",
       "      <td>120.0</td>\n",
       "      <td>74.0</td>\n",
       "      <td>80.0</td>\n",
       "      <td>184.0</td>\n",
       "      <td>74.0</td>\n",
       "      <td>62.0</td>\n",
       "      <td>107.0</td>\n",
       "      <td>12.5</td>\n",
       "      <td>0.0</td>\n",
       "    </tr>\n",
       "    <tr>\n",
       "      <th>...</th>\n",
       "      <td>...</td>\n",
       "      <td>...</td>\n",
       "      <td>...</td>\n",
       "      <td>...</td>\n",
       "      <td>...</td>\n",
       "      <td>...</td>\n",
       "      <td>...</td>\n",
       "      <td>...</td>\n",
       "      <td>...</td>\n",
       "    </tr>\n",
       "    <tr>\n",
       "      <th>55687</th>\n",
       "      <td>110.0</td>\n",
       "      <td>68.0</td>\n",
       "      <td>89.0</td>\n",
       "      <td>213.0</td>\n",
       "      <td>99.0</td>\n",
       "      <td>75.0</td>\n",
       "      <td>118.0</td>\n",
       "      <td>12.3</td>\n",
       "      <td>0.0</td>\n",
       "    </tr>\n",
       "    <tr>\n",
       "      <th>55688</th>\n",
       "      <td>101.0</td>\n",
       "      <td>62.0</td>\n",
       "      <td>89.0</td>\n",
       "      <td>166.0</td>\n",
       "      <td>69.0</td>\n",
       "      <td>73.0</td>\n",
       "      <td>79.0</td>\n",
       "      <td>14.0</td>\n",
       "      <td>0.0</td>\n",
       "    </tr>\n",
       "    <tr>\n",
       "      <th>55689</th>\n",
       "      <td>117.0</td>\n",
       "      <td>72.0</td>\n",
       "      <td>88.0</td>\n",
       "      <td>158.0</td>\n",
       "      <td>77.0</td>\n",
       "      <td>79.0</td>\n",
       "      <td>63.0</td>\n",
       "      <td>12.4</td>\n",
       "      <td>0.0</td>\n",
       "    </tr>\n",
       "    <tr>\n",
       "      <th>55690</th>\n",
       "      <td>133.0</td>\n",
       "      <td>76.0</td>\n",
       "      <td>107.0</td>\n",
       "      <td>210.0</td>\n",
       "      <td>79.0</td>\n",
       "      <td>48.0</td>\n",
       "      <td>146.0</td>\n",
       "      <td>14.4</td>\n",
       "      <td>0.0</td>\n",
       "    </tr>\n",
       "    <tr>\n",
       "      <th>55691</th>\n",
       "      <td>124.0</td>\n",
       "      <td>75.0</td>\n",
       "      <td>82.0</td>\n",
       "      <td>213.0</td>\n",
       "      <td>142.0</td>\n",
       "      <td>34.0</td>\n",
       "      <td>150.0</td>\n",
       "      <td>15.0</td>\n",
       "      <td>1.0</td>\n",
       "    </tr>\n",
       "  </tbody>\n",
       "</table>\n",
       "<p>55692 rows × 9 columns</p>\n",
       "</div>"
      ],
      "text/plain": [
       "       systolic  relaxation  fasting blood sugar  Cholesterol  triglyceride  \\\n",
       "0         114.0        73.0                 94.0        215.0          82.0   \n",
       "1         119.0        70.0                130.0        192.0         115.0   \n",
       "2         138.0        86.0                 89.0        242.0         182.0   \n",
       "3         100.0        60.0                 96.0        322.0         254.0   \n",
       "4         120.0        74.0                 80.0        184.0          74.0   \n",
       "...         ...         ...                  ...          ...           ...   \n",
       "55687     110.0        68.0                 89.0        213.0          99.0   \n",
       "55688     101.0        62.0                 89.0        166.0          69.0   \n",
       "55689     117.0        72.0                 88.0        158.0          77.0   \n",
       "55690     133.0        76.0                107.0        210.0          79.0   \n",
       "55691     124.0        75.0                 82.0        213.0         142.0   \n",
       "\n",
       "        HDL    LDL  hemoglobin  smoking  \n",
       "0      73.0  126.0        12.9      0.0  \n",
       "1      42.0  127.0        12.7      0.0  \n",
       "2      55.0  151.0        15.8      1.0  \n",
       "3      45.0  226.0        14.7      0.0  \n",
       "4      62.0  107.0        12.5      0.0  \n",
       "...     ...    ...         ...      ...  \n",
       "55687  75.0  118.0        12.3      0.0  \n",
       "55688  73.0   79.0        14.0      0.0  \n",
       "55689  79.0   63.0        12.4      0.0  \n",
       "55690  48.0  146.0        14.4      0.0  \n",
       "55691  34.0  150.0        15.0      1.0  \n",
       "\n",
       "[55692 rows x 9 columns]"
      ]
     },
     "execution_count": 17,
     "metadata": {},
     "output_type": "execute_result"
    }
   ],
   "source": [
    "### 심혈관 및 호흡 데이터프레임 ###\n",
    "\n",
    "df_bl = df.iloc[:, 10:18]\n",
    "df_bl\n",
    "blood = pd.concat([df_bl, target], axis = 1)\n",
    "blood"
   ]
  },
  {
   "cell_type": "code",
   "execution_count": 12,
   "id": "e7fbe61a",
   "metadata": {},
   "outputs": [],
   "source": [
    "from sklearn.model_selection import train_test_split\n",
    "X_train, X_test, y_train, y_test = \\\n",
    "train_test_split(liver.iloc[:,:-1],liver.iloc[:,-1], test_size=0.2, random_state=42)"
   ]
  },
  {
   "cell_type": "code",
   "execution_count": 79,
   "id": "6857d5ae",
   "metadata": {},
   "outputs": [],
   "source": [
    "from sklearn.preprocessing import RobustScaler\n",
    "rbs = RobustScaler()\n",
    "\n",
    "X_train = rbs.fit_transform(X_train)\n",
    "X_test = rbs.transform(X_test)"
   ]
  },
  {
   "cell_type": "markdown",
   "id": "8ec19625",
   "metadata": {},
   "source": [
    "### 3. 훈련01 : 전체 모델 구현으로 정확도 확인"
   ]
  },
  {
   "cell_type": "code",
   "execution_count": 75,
   "id": "1005e3c5",
   "metadata": {},
   "outputs": [
    {
     "data": {
      "text/plain": [
       "{'whiskers': [<matplotlib.lines.Line2D at 0x23274b2ed30>,\n",
       "  <matplotlib.lines.Line2D at 0x23274b3b040>],\n",
       " 'caps': [<matplotlib.lines.Line2D at 0x23274b3b310>,\n",
       "  <matplotlib.lines.Line2D at 0x23274b3b5e0>],\n",
       " 'boxes': [<matplotlib.lines.Line2D at 0x23274b2ea60>],\n",
       " 'medians': [<matplotlib.lines.Line2D at 0x23274b3b8b0>],\n",
       " 'fliers': [<matplotlib.lines.Line2D at 0x23274b3bbb0>],\n",
       " 'means': []}"
      ]
     },
     "execution_count": 75,
     "metadata": {},
     "output_type": "execute_result"
    },
    {
     "data": {
      "text/plain": [
       "Text(0.5, 1.0, 'systolic')"
      ]
     },
     "execution_count": 75,
     "metadata": {},
     "output_type": "execute_result"
    },
    {
     "data": {
      "text/plain": [
       "{'whiskers': [<matplotlib.lines.Line2D at 0x23274e24af0>,\n",
       "  <matplotlib.lines.Line2D at 0x23274e24ca0>],\n",
       " 'caps': [<matplotlib.lines.Line2D at 0x23274e24f70>,\n",
       "  <matplotlib.lines.Line2D at 0x23274e2e280>],\n",
       " 'boxes': [<matplotlib.lines.Line2D at 0x23274e24820>],\n",
       " 'medians': [<matplotlib.lines.Line2D at 0x23274e2e550>],\n",
       " 'fliers': [<matplotlib.lines.Line2D at 0x23274e2e820>],\n",
       " 'means': []}"
      ]
     },
     "execution_count": 75,
     "metadata": {},
     "output_type": "execute_result"
    },
    {
     "data": {
      "text/plain": [
       "Text(0.5, 1.0, 'relaxation')"
      ]
     },
     "execution_count": 75,
     "metadata": {},
     "output_type": "execute_result"
    },
    {
     "data": {
      "text/plain": [
       "{'whiskers': [<matplotlib.lines.Line2D at 0x23274e6b550>,\n",
       "  <matplotlib.lines.Line2D at 0x23274e6b820>],\n",
       " 'caps': [<matplotlib.lines.Line2D at 0x23274e6baf0>,\n",
       "  <matplotlib.lines.Line2D at 0x23274e6bdc0>],\n",
       " 'boxes': [<matplotlib.lines.Line2D at 0x23274e6b280>],\n",
       " 'medians': [<matplotlib.lines.Line2D at 0x23274e760d0>],\n",
       " 'fliers': [<matplotlib.lines.Line2D at 0x23274e763a0>],\n",
       " 'means': []}"
      ]
     },
     "execution_count": 75,
     "metadata": {},
     "output_type": "execute_result"
    },
    {
     "data": {
      "text/plain": [
       "Text(0.5, 1.0, 'fastingbloodsugar')"
      ]
     },
     "execution_count": 75,
     "metadata": {},
     "output_type": "execute_result"
    },
    {
     "data": {
      "text/plain": [
       "{'whiskers': [<matplotlib.lines.Line2D at 0x23275e92130>,\n",
       "  <matplotlib.lines.Line2D at 0x23275e922e0>],\n",
       " 'caps': [<matplotlib.lines.Line2D at 0x23275e925b0>,\n",
       "  <matplotlib.lines.Line2D at 0x23275e92880>],\n",
       " 'boxes': [<matplotlib.lines.Line2D at 0x23274ea6e20>],\n",
       " 'medians': [<matplotlib.lines.Line2D at 0x23275e92b50>],\n",
       " 'fliers': [<matplotlib.lines.Line2D at 0x23275e92e20>],\n",
       " 'means': []}"
      ]
     },
     "execution_count": 75,
     "metadata": {},
     "output_type": "execute_result"
    },
    {
     "data": {
      "text/plain": [
       "Text(0.5, 1.0, 'Cholesterol')"
      ]
     },
     "execution_count": 75,
     "metadata": {},
     "output_type": "execute_result"
    },
    {
     "data": {
      "text/plain": [
       "{'whiskers': [<matplotlib.lines.Line2D at 0x23275ecfdc0>,\n",
       "  <matplotlib.lines.Line2D at 0x23275edb0d0>],\n",
       " 'caps': [<matplotlib.lines.Line2D at 0x23275edb280>,\n",
       "  <matplotlib.lines.Line2D at 0x23275edb550>],\n",
       " 'boxes': [<matplotlib.lines.Line2D at 0x23275ecfaf0>],\n",
       " 'medians': [<matplotlib.lines.Line2D at 0x23275edb820>],\n",
       " 'fliers': [<matplotlib.lines.Line2D at 0x23275edbaf0>],\n",
       " 'means': []}"
      ]
     },
     "execution_count": 75,
     "metadata": {},
     "output_type": "execute_result"
    },
    {
     "data": {
      "text/plain": [
       "Text(0.5, 1.0, 'triglyceride')"
      ]
     },
     "execution_count": 75,
     "metadata": {},
     "output_type": "execute_result"
    },
    {
     "data": {
      "image/png": "[encoded data removed]",
      "text/plain": [
       "<Figure size 1440x720 with 5 Axes>"
      ]
     },
     "metadata": {
      "needs_background": "light"
     },
     "output_type": "display_data"
    }
   ],
   "source": [
    "#이상치 확인\n",
    "\n",
    "import matplotlib.pyplot as plt\n",
    "import numpy as np\n",
    "\n",
    "systolic = df['systolic']\n",
    "relaxation = df['relaxation']\n",
    "fastingbloodsugar = df['fasting blood sugar']\n",
    "Cholesterol = df['Cholesterol']\n",
    "triglyceride = df['triglyceride']\n",
    "\n",
    "fig = plt.figure(figsize=(20, 10))\n",
    "ax01 = fig.add_subplot(2, 5, 1)\n",
    "\n",
    "ax01.boxplot(systolic)\n",
    "plt.title(\"systolic\", fontsize = 15)\n",
    "\n",
    "ax02 = fig.add_subplot(2, 5, 2)\n",
    "\n",
    "ax02.boxplot(relaxation)\n",
    "plt.title(\"relaxation\", fontsize = 15)\n",
    "\n",
    "ax03 = fig.add_subplot(2, 5, 3)\n",
    "\n",
    "ax03.boxplot(fastingbloodsugar)\n",
    "plt.title(\"fastingbloodsugar\", fontsize = 15)\n",
    "\n",
    "ax04 = fig.add_subplot(2, 5, 4)\n",
    "\n",
    "ax04.boxplot(Cholesterol)\n",
    "plt.title(\"Cholesterol\", fontsize = 15)\n",
    "\n",
    "ax05 = fig.add_subplot(2, 5, 5)\n",
    "\n",
    "ax05.boxplot(triglyceride)\n",
    "plt.title(\"triglyceride\", fontsize = 15)"
   ]
  },
  {
   "cell_type": "code",
   "execution_count": 76,
   "id": "77c1258f",
   "metadata": {},
   "outputs": [
    {
     "data": {
      "text/plain": [
       "{'whiskers': [<matplotlib.lines.Line2D at 0x23276389130>,\n",
       "  <matplotlib.lines.Line2D at 0x23276389400>],\n",
       " 'caps': [<matplotlib.lines.Line2D at 0x232763896d0>,\n",
       "  <matplotlib.lines.Line2D at 0x232763899d0>],\n",
       " 'boxes': [<matplotlib.lines.Line2D at 0x2327637de20>],\n",
       " 'medians': [<matplotlib.lines.Line2D at 0x23276389ca0>],\n",
       " 'fliers': [<matplotlib.lines.Line2D at 0x23276389f70>],\n",
       " 'means': []}"
      ]
     },
     "execution_count": 76,
     "metadata": {},
     "output_type": "execute_result"
    },
    {
     "data": {
      "text/plain": [
       "Text(0.5, 1.0, 'HDL')"
      ]
     },
     "execution_count": 76,
     "metadata": {},
     "output_type": "execute_result"
    },
    {
     "data": {
      "text/plain": [
       "{'whiskers': [<matplotlib.lines.Line2D at 0x23275f7fe50>,\n",
       "  <matplotlib.lines.Line2D at 0x23275f8c160>],\n",
       " 'caps': [<matplotlib.lines.Line2D at 0x23275f8c310>,\n",
       "  <matplotlib.lines.Line2D at 0x23275f8c5e0>],\n",
       " 'boxes': [<matplotlib.lines.Line2D at 0x23275f7fb80>],\n",
       " 'medians': [<matplotlib.lines.Line2D at 0x23275f8c8b0>],\n",
       " 'fliers': [<matplotlib.lines.Line2D at 0x23275f8cb80>],\n",
       " 'means': []}"
      ]
     },
     "execution_count": 76,
     "metadata": {},
     "output_type": "execute_result"
    },
    {
     "data": {
      "text/plain": [
       "Text(0.5, 1.0, 'LDL')"
      ]
     },
     "execution_count": 76,
     "metadata": {},
     "output_type": "execute_result"
    },
    {
     "data": {
      "text/plain": [
       "{'whiskers': [<matplotlib.lines.Line2D at 0x23275fc4af0>,\n",
       "  <matplotlib.lines.Line2D at 0x23275fc4dc0>],\n",
       " 'caps': [<matplotlib.lines.Line2D at 0x23275fd20d0>,\n",
       "  <matplotlib.lines.Line2D at 0x23275fd23a0>],\n",
       " 'boxes': [<matplotlib.lines.Line2D at 0x23275fc4820>],\n",
       " 'medians': [<matplotlib.lines.Line2D at 0x23275fd2670>],\n",
       " 'fliers': [<matplotlib.lines.Line2D at 0x23275fd2940>],\n",
       " 'means': []}"
      ]
     },
     "execution_count": 76,
     "metadata": {},
     "output_type": "execute_result"
    },
    {
     "data": {
      "text/plain": [
       "Text(0.5, 1.0, 'hemoglobin')"
      ]
     },
     "execution_count": 76,
     "metadata": {},
     "output_type": "execute_result"
    },
    {
     "data": {
      "image/png": "[encoded data removed]",
      "text/plain": [
       "<Figure size 1440x720 with 3 Axes>"
      ]
     },
     "metadata": {
      "needs_background": "light"
     },
     "output_type": "display_data"
    }
   ],
   "source": [
    "HDL = df['HDL']\n",
    "LDL = df['LDL']\n",
    "hemoglobin = df['hemoglobin']\n",
    "\n",
    "fig = plt.figure(figsize=(20, 10))\n",
    "ax01 = fig.add_subplot(2, 5, 1)\n",
    "\n",
    "ax01.boxplot(HDL)\n",
    "plt.title(\"HDL\", fontsize = 15)\n",
    "\n",
    "ax02 = fig.add_subplot(2, 5, 2)\n",
    "\n",
    "ax02.boxplot(LDL)\n",
    "plt.title(\"LDL\", fontsize = 15)\n",
    "\n",
    "ax03 = fig.add_subplot(2, 5, 3)\n",
    "ax03.boxplot(hemoglobin)\n",
    "plt.title(\"hemoglobin\", fontsize = 15)"
   ]
  },
  {
   "cell_type": "code",
   "execution_count": 77,
   "id": "3a05d957",
   "metadata": {},
   "outputs": [
    {
     "data": {
      "text/plain": [
       "{'whiskers': [<matplotlib.lines.Line2D at 0x2327604b2b0>,\n",
       "  <matplotlib.lines.Line2D at 0x2327604b580>],\n",
       " 'caps': [<matplotlib.lines.Line2D at 0x2327604b850>,\n",
       "  <matplotlib.lines.Line2D at 0x2327604bb20>],\n",
       " 'boxes': [<matplotlib.lines.Line2D at 0x23276041f70>],\n",
       " 'medians': [<matplotlib.lines.Line2D at 0x2327604bdf0>],\n",
       " 'fliers': [<matplotlib.lines.Line2D at 0x23276055100>],\n",
       " 'means': []}"
      ]
     },
     "execution_count": 77,
     "metadata": {},
     "output_type": "execute_result"
    },
    {
     "data": {
      "text/plain": [
       "Text(0.5, 1.0, 'AST')"
      ]
     },
     "execution_count": 77,
     "metadata": {},
     "output_type": "execute_result"
    },
    {
     "data": {
      "text/plain": [
       "{'whiskers': [<matplotlib.lines.Line2D at 0x23276088070>,\n",
       "  <matplotlib.lines.Line2D at 0x23276088340>],\n",
       " 'caps': [<matplotlib.lines.Line2D at 0x23276088610>,\n",
       "  <matplotlib.lines.Line2D at 0x232760888e0>],\n",
       " 'boxes': [<matplotlib.lines.Line2D at 0x2327607cd60>],\n",
       " 'medians': [<matplotlib.lines.Line2D at 0x23276088bb0>],\n",
       " 'fliers': [<matplotlib.lines.Line2D at 0x23276088e80>],\n",
       " 'means': []}"
      ]
     },
     "execution_count": 77,
     "metadata": {},
     "output_type": "execute_result"
    },
    {
     "data": {
      "text/plain": [
       "Text(0.5, 1.0, 'ALT')"
      ]
     },
     "execution_count": 77,
     "metadata": {},
     "output_type": "execute_result"
    },
    {
     "data": {
      "text/plain": [
       "{'whiskers': [<matplotlib.lines.Line2D at 0x232760b9cd0>,\n",
       "  <matplotlib.lines.Line2D at 0x232760b9fa0>],\n",
       " 'caps': [<matplotlib.lines.Line2D at 0x232760c7190>,\n",
       "  <matplotlib.lines.Line2D at 0x232760c7460>],\n",
       " 'boxes': [<matplotlib.lines.Line2D at 0x232760b9a00>],\n",
       " 'medians': [<matplotlib.lines.Line2D at 0x232760c7730>],\n",
       " 'fliers': [<matplotlib.lines.Line2D at 0x232760c7a00>],\n",
       " 'means': []}"
      ]
     },
     "execution_count": 77,
     "metadata": {},
     "output_type": "execute_result"
    },
    {
     "data": {
      "text/plain": [
       "Text(0.5, 1.0, 'Gtp')"
      ]
     },
     "execution_count": 77,
     "metadata": {},
     "output_type": "execute_result"
    },
    {
     "data": {
      "image/png": "[encoded data removed]",
      "text/plain": [
       "<Figure size 1440x720 with 3 Axes>"
      ]
     },
     "metadata": {
      "needs_background": "light"
     },
     "output_type": "display_data"
    }
   ],
   "source": [
    "AST = df['AST']\n",
    "ALT = df['ALT']\n",
    "Gtp = df['Gtp']\n",
    "\n",
    "fig = plt.figure(figsize=(20, 10))\n",
    "ax01 = fig.add_subplot(2, 5, 1)\n",
    "\n",
    "ax01.boxplot(AST)\n",
    "plt.title(\"AST\", fontsize = 15)\n",
    "\n",
    "ax02 = fig.add_subplot(2, 5, 2)\n",
    "\n",
    "ax02.boxplot(ALT)\n",
    "plt.title(\"ALT\", fontsize = 15)\n",
    "\n",
    "ax03 = fig.add_subplot(2, 5, 3)\n",
    "ax03.boxplot(Gtp)\n",
    "plt.title(\"Gtp\", fontsize = 15)"
   ]
  },
  {
   "cell_type": "code",
   "execution_count": 84,
   "id": "ef1d5146",
   "metadata": {},
   "outputs": [
    {
     "name": "stdout",
     "output_type": "stream",
     "text": [
      "AST    19.0\n",
      "ALT    15.0\n",
      "Gtp    17.0\n",
      "Name: 0.25, dtype: float64\n",
      "AST    28.0\n",
      "ALT    31.0\n",
      "Gtp    43.0\n",
      "Name: 0.75, dtype: float64\n"
     ]
    },
    {
     "data": {
      "text/plain": [
       "AST     9.0\n",
       "ALT    16.0\n",
       "Gtp    26.0\n",
       "dtype: float64"
      ]
     },
     "execution_count": 84,
     "metadata": {},
     "output_type": "execute_result"
    }
   ],
   "source": [
    "Q1 = df[['AST','ALT','Gtp']].quantile(q=0.25)\n",
    "Q3 = df[['AST','ALT','Gtp']].quantile(q=0.75)\n",
    "print(Q1)\n",
    "print(Q3)\n",
    "\n",
    "IQR = Q3-Q1\n",
    "IQR"
   ]
  },
  {
   "cell_type": "code",
   "execution_count": 85,
   "id": "dbc83126",
   "metadata": {},
   "outputs": [
    {
     "name": "stdout",
     "output_type": "stream",
     "text": [
      "df : 55692\n",
      "IQR_df : 47533\n"
     ]
    }
   ],
   "source": [
    "IQR_df = df[(df['AST'] <= Q3['AST']+1.5*IQR['AST'])&(df['AST']>=Q1['AST']-1.5*IQR['AST'])]\n",
    "IQR_df = IQR_df[(IQR_df['ALT'] <= Q3['ALT']+1.5*IQR['ALT']) & (IQR_df['ALT'] >= Q1['ALT']-1.5*IQR['ALT'])]\n",
    "IQR_df = IQR_df[(IQR_df['Gtp'] <= Q3['Gtp']+1.5*IQR['Gtp']) & (IQR_df['Gtp'] >= Q1['Gtp']-1.5*IQR['Gtp'])]\n",
    "IQR_df = IQR_df[['AST','ALT','Gtp']]\n",
    "\n",
    "print('df :', len(df))\n",
    "print('IQR_df :', len(IQR_df))"
   ]
  },
  {
   "cell_type": "code",
   "execution_count": 86,
   "id": "db75afd1",
   "metadata": {},
   "outputs": [
    {
     "data": {
      "text/plain": [
       "<AxesSubplot:>"
      ]
     },
     "execution_count": 86,
     "metadata": {},
     "output_type": "execute_result"
    },
    {
     "data": {
      "image/png": "[encoded data removed]",
      "text/plain": [
       "<Figure size 432x288 with 1 Axes>"
      ]
     },
     "metadata": {
      "needs_background": "light"
     },
     "output_type": "display_data"
    }
   ],
   "source": [
    "IQR_df.boxplot()"
   ]
  },
  {
   "cell_type": "code",
   "execution_count": 87,
   "id": "436aafc9",
   "metadata": {},
   "outputs": [
    {
     "data": {
      "text/html": [
       "<div>\n",
       "<style scoped>\n",
       "    .dataframe tbody tr th:only-of-type {\n",
       "        vertical-align: middle;\n",
       "    }\n",
       "\n",
       "    .dataframe tbody tr th {\n",
       "        vertical-align: top;\n",
       "    }\n",
       "\n",
       "    .dataframe thead th {\n",
       "        text-align: right;\n",
       "    }\n",
       "</style>\n",
       "<table border=\"1\" class=\"dataframe\">\n",
       "  <thead>\n",
       "    <tr style=\"text-align: right;\">\n",
       "      <th></th>\n",
       "      <th>AST</th>\n",
       "      <th>ALT</th>\n",
       "      <th>Gtp</th>\n",
       "      <th>smoking</th>\n",
       "    </tr>\n",
       "  </thead>\n",
       "  <tbody>\n",
       "    <tr>\n",
       "      <th>0</th>\n",
       "      <td>18.0</td>\n",
       "      <td>19.0</td>\n",
       "      <td>27.0</td>\n",
       "      <td>0.0</td>\n",
       "    </tr>\n",
       "    <tr>\n",
       "      <th>1</th>\n",
       "      <td>22.0</td>\n",
       "      <td>19.0</td>\n",
       "      <td>18.0</td>\n",
       "      <td>0.0</td>\n",
       "    </tr>\n",
       "    <tr>\n",
       "      <th>2</th>\n",
       "      <td>21.0</td>\n",
       "      <td>16.0</td>\n",
       "      <td>22.0</td>\n",
       "      <td>1.0</td>\n",
       "    </tr>\n",
       "    <tr>\n",
       "      <th>3</th>\n",
       "      <td>19.0</td>\n",
       "      <td>26.0</td>\n",
       "      <td>18.0</td>\n",
       "      <td>0.0</td>\n",
       "    </tr>\n",
       "    <tr>\n",
       "      <th>4</th>\n",
       "      <td>16.0</td>\n",
       "      <td>14.0</td>\n",
       "      <td>22.0</td>\n",
       "      <td>0.0</td>\n",
       "    </tr>\n",
       "    <tr>\n",
       "      <th>...</th>\n",
       "      <td>...</td>\n",
       "      <td>...</td>\n",
       "      <td>...</td>\n",
       "      <td>...</td>\n",
       "    </tr>\n",
       "    <tr>\n",
       "      <th>55654</th>\n",
       "      <td>NaN</td>\n",
       "      <td>NaN</td>\n",
       "      <td>NaN</td>\n",
       "      <td>1.0</td>\n",
       "    </tr>\n",
       "    <tr>\n",
       "      <th>55657</th>\n",
       "      <td>NaN</td>\n",
       "      <td>NaN</td>\n",
       "      <td>NaN</td>\n",
       "      <td>0.0</td>\n",
       "    </tr>\n",
       "    <tr>\n",
       "      <th>55668</th>\n",
       "      <td>NaN</td>\n",
       "      <td>NaN</td>\n",
       "      <td>NaN</td>\n",
       "      <td>1.0</td>\n",
       "    </tr>\n",
       "    <tr>\n",
       "      <th>55671</th>\n",
       "      <td>NaN</td>\n",
       "      <td>NaN</td>\n",
       "      <td>NaN</td>\n",
       "      <td>0.0</td>\n",
       "    </tr>\n",
       "    <tr>\n",
       "      <th>55673</th>\n",
       "      <td>NaN</td>\n",
       "      <td>NaN</td>\n",
       "      <td>NaN</td>\n",
       "      <td>1.0</td>\n",
       "    </tr>\n",
       "  </tbody>\n",
       "</table>\n",
       "<p>55692 rows × 4 columns</p>\n",
       "</div>"
      ],
      "text/plain": [
       "        AST   ALT   Gtp  smoking\n",
       "0      18.0  19.0  27.0      0.0\n",
       "1      22.0  19.0  18.0      0.0\n",
       "2      21.0  16.0  22.0      1.0\n",
       "3      19.0  26.0  18.0      0.0\n",
       "4      16.0  14.0  22.0      0.0\n",
       "...     ...   ...   ...      ...\n",
       "55654   NaN   NaN   NaN      1.0\n",
       "55657   NaN   NaN   NaN      0.0\n",
       "55668   NaN   NaN   NaN      1.0\n",
       "55671   NaN   NaN   NaN      0.0\n",
       "55673   NaN   NaN   NaN      1.0\n",
       "\n",
       "[55692 rows x 4 columns]"
      ]
     },
     "execution_count": 87,
     "metadata": {},
     "output_type": "execute_result"
    }
   ],
   "source": [
    "liver = pd.concat([IQR_df, target], axis = 1)\n",
    "liver"
   ]
  },
  {
   "cell_type": "code",
   "execution_count": 97,
   "id": "508f22eb",
   "metadata": {},
   "outputs": [
    {
     "data": {
      "text/html": [
       "<div>\n",
       "<style scoped>\n",
       "    .dataframe tbody tr th:only-of-type {\n",
       "        vertical-align: middle;\n",
       "    }\n",
       "\n",
       "    .dataframe tbody tr th {\n",
       "        vertical-align: top;\n",
       "    }\n",
       "\n",
       "    .dataframe thead th {\n",
       "        text-align: right;\n",
       "    }\n",
       "</style>\n",
       "<table border=\"1\" class=\"dataframe\">\n",
       "  <thead>\n",
       "    <tr style=\"text-align: right;\">\n",
       "      <th></th>\n",
       "      <th>AST</th>\n",
       "      <th>ALT</th>\n",
       "      <th>Gtp</th>\n",
       "      <th>smoking</th>\n",
       "    </tr>\n",
       "  </thead>\n",
       "  <tbody>\n",
       "    <tr>\n",
       "      <th>0</th>\n",
       "      <td>18.0</td>\n",
       "      <td>19.0</td>\n",
       "      <td>27.0</td>\n",
       "      <td>0.0</td>\n",
       "    </tr>\n",
       "    <tr>\n",
       "      <th>1</th>\n",
       "      <td>22.0</td>\n",
       "      <td>19.0</td>\n",
       "      <td>18.0</td>\n",
       "      <td>0.0</td>\n",
       "    </tr>\n",
       "    <tr>\n",
       "      <th>2</th>\n",
       "      <td>21.0</td>\n",
       "      <td>16.0</td>\n",
       "      <td>22.0</td>\n",
       "      <td>1.0</td>\n",
       "    </tr>\n",
       "    <tr>\n",
       "      <th>3</th>\n",
       "      <td>19.0</td>\n",
       "      <td>26.0</td>\n",
       "      <td>18.0</td>\n",
       "      <td>0.0</td>\n",
       "    </tr>\n",
       "    <tr>\n",
       "      <th>4</th>\n",
       "      <td>16.0</td>\n",
       "      <td>14.0</td>\n",
       "      <td>22.0</td>\n",
       "      <td>0.0</td>\n",
       "    </tr>\n",
       "    <tr>\n",
       "      <th>...</th>\n",
       "      <td>...</td>\n",
       "      <td>...</td>\n",
       "      <td>...</td>\n",
       "      <td>...</td>\n",
       "    </tr>\n",
       "    <tr>\n",
       "      <th>55687</th>\n",
       "      <td>14.0</td>\n",
       "      <td>7.0</td>\n",
       "      <td>10.0</td>\n",
       "      <td>0.0</td>\n",
       "    </tr>\n",
       "    <tr>\n",
       "      <th>55688</th>\n",
       "      <td>20.0</td>\n",
       "      <td>12.0</td>\n",
       "      <td>14.0</td>\n",
       "      <td>0.0</td>\n",
       "    </tr>\n",
       "    <tr>\n",
       "      <th>55689</th>\n",
       "      <td>17.0</td>\n",
       "      <td>11.0</td>\n",
       "      <td>12.0</td>\n",
       "      <td>0.0</td>\n",
       "    </tr>\n",
       "    <tr>\n",
       "      <th>55690</th>\n",
       "      <td>20.0</td>\n",
       "      <td>19.0</td>\n",
       "      <td>18.0</td>\n",
       "      <td>0.0</td>\n",
       "    </tr>\n",
       "    <tr>\n",
       "      <th>55691</th>\n",
       "      <td>26.0</td>\n",
       "      <td>29.0</td>\n",
       "      <td>41.0</td>\n",
       "      <td>1.0</td>\n",
       "    </tr>\n",
       "  </tbody>\n",
       "</table>\n",
       "<p>47533 rows × 4 columns</p>\n",
       "</div>"
      ],
      "text/plain": [
       "        AST   ALT   Gtp  smoking\n",
       "0      18.0  19.0  27.0      0.0\n",
       "1      22.0  19.0  18.0      0.0\n",
       "2      21.0  16.0  22.0      1.0\n",
       "3      19.0  26.0  18.0      0.0\n",
       "4      16.0  14.0  22.0      0.0\n",
       "...     ...   ...   ...      ...\n",
       "55687  14.0   7.0  10.0      0.0\n",
       "55688  20.0  12.0  14.0      0.0\n",
       "55689  17.0  11.0  12.0      0.0\n",
       "55690  20.0  19.0  18.0      0.0\n",
       "55691  26.0  29.0  41.0      1.0\n",
       "\n",
       "[47533 rows x 4 columns]"
      ]
     },
     "execution_count": 97,
     "metadata": {},
     "output_type": "execute_result"
    },
    {
     "data": {
      "text/plain": [
       "AST        0\n",
       "ALT        0\n",
       "Gtp        0\n",
       "smoking    0\n",
       "dtype: int64"
      ]
     },
     "execution_count": 97,
     "metadata": {},
     "output_type": "execute_result"
    }
   ],
   "source": [
    "liver = liver.dropna(axis=0)\n",
    "liver\n",
    "liver.isnull().sum()"
   ]
  },
  {
   "cell_type": "code",
   "execution_count": 98,
   "id": "8413eebd",
   "metadata": {},
   "outputs": [],
   "source": [
    "from sklearn.model_selection import train_test_split\n",
    "X_train, X_test, y_train, y_test = \\\n",
    "train_test_split(liver.iloc[:,:-1],liver.iloc[:,-1], test_size=0.2, random_state=42)"
   ]
  },
  {
   "cell_type": "code",
   "execution_count": 99,
   "id": "61a6635d",
   "metadata": {},
   "outputs": [],
   "source": [
    "from sklearn.preprocessing import RobustScaler\n",
    "rbs = RobustScaler()\n",
    "\n",
    "X_train = rbs.fit_transform(X_train)\n",
    "X_test = rbs.transform(X_test)"
   ]
  },
  {
   "cell_type": "code",
   "execution_count": 100,
   "id": "9b178b88",
   "metadata": {},
   "outputs": [
    {
     "name": "stdout",
     "output_type": "stream",
     "text": [
      "Fitting 3 folds for each of 2430 candidates, totalling 7290 fits\n"
     ]
    },
    {
     "name": "stderr",
     "output_type": "stream",
     "text": [
      "C:\\Anaconda3\\lib\\site-packages\\sklearn\\model_selection\\_validation.py:372: FitFailedWarning: \n",
      "2430 fits failed out of a total of 7290.\n",
      "The score on these train-test partitions for these parameters will be set to nan.\n",
      "If these failures are not expected, you can try to debug them by setting error_score='raise'.\n",
      "\n",
      "Below are more details about the failures:\n",
      "--------------------------------------------------------------------------------\n",
      "2430 fits failed with the following error:\n",
      "Traceback (most recent call last):\n",
      "  File \"C:\\Anaconda3\\lib\\site-packages\\sklearn\\model_selection\\_validation.py\", line 680, in _fit_and_score\n",
      "    estimator.fit(X_train, y_train, **fit_params)\n",
      "  File \"C:\\Anaconda3\\lib\\site-packages\\sklearn\\ensemble\\_forest.py\", line 450, in fit\n",
      "    trees = Parallel(\n",
      "  File \"C:\\Anaconda3\\lib\\site-packages\\joblib\\parallel.py\", line 1043, in __call__\n",
      "    if self.dispatch_one_batch(iterator):\n",
      "  File \"C:\\Anaconda3\\lib\\site-packages\\joblib\\parallel.py\", line 861, in dispatch_one_batch\n",
      "    self._dispatch(tasks)\n",
      "  File \"C:\\Anaconda3\\lib\\site-packages\\joblib\\parallel.py\", line 779, in _dispatch\n",
      "    job = self._backend.apply_async(batch, callback=cb)\n",
      "  File \"C:\\Anaconda3\\lib\\site-packages\\joblib\\_parallel_backends.py\", line 208, in apply_async\n",
      "    result = ImmediateResult(func)\n",
      "  File \"C:\\Anaconda3\\lib\\site-packages\\joblib\\_parallel_backends.py\", line 572, in __init__\n",
      "    self.results = batch()\n",
      "  File \"C:\\Anaconda3\\lib\\site-packages\\joblib\\parallel.py\", line 262, in __call__\n",
      "    return [func(*args, **kwargs)\n",
      "  File \"C:\\Anaconda3\\lib\\site-packages\\joblib\\parallel.py\", line 262, in <listcomp>\n",
      "    return [func(*args, **kwargs)\n",
      "  File \"C:\\Anaconda3\\lib\\site-packages\\sklearn\\utils\\fixes.py\", line 216, in __call__\n",
      "    return self.function(*args, **kwargs)\n",
      "  File \"C:\\Anaconda3\\lib\\site-packages\\sklearn\\ensemble\\_forest.py\", line 185, in _parallel_build_trees\n",
      "    tree.fit(X, y, sample_weight=curr_sample_weight, check_input=False)\n",
      "  File \"C:\\Anaconda3\\lib\\site-packages\\sklearn\\tree\\_classes.py\", line 937, in fit\n",
      "    super().fit(\n",
      "  File \"C:\\Anaconda3\\lib\\site-packages\\sklearn\\tree\\_classes.py\", line 352, in fit\n",
      "    criterion = CRITERIA_CLF[self.criterion](\n",
      "KeyError: 'log_loss'\n",
      "\n",
      "  warnings.warn(some_fits_failed_message, FitFailedWarning)\n",
      "C:\\Anaconda3\\lib\\site-packages\\sklearn\\model_selection\\_search.py:969: UserWarning: One or more of the test scores are non-finite: [0.69610266 0.6714353  0.66662284 ...        nan        nan        nan]\n",
      "  warnings.warn(\n"
     ]
    },
    {
     "data": {
      "text/plain": [
       "GridSearchCV(cv=3, estimator=RandomForestClassifier(), n_jobs=-1,\n",
       "             param_grid={'criterion': ['gini', 'entropy', 'log_loss'],\n",
       "                         'max_features': ['auto', 'sqrt', 'log2'],\n",
       "                         'min_impurity_decrease': array([0. , 0.3, 0.4]),\n",
       "                         'min_samples_split': array([ 2,  3,  4,  5,  6,  7,  8,  9, 10, 11, 12, 13, 14, 15, 16, 17, 18,\n",
       "       19]),\n",
       "                         'min_weight_fraction_leaf': array([0. , 0.1, 0.2, 0.3, 0.4]),\n",
       "                         'random_state': [42]},\n",
       "             verbose=1)"
      ]
     },
     "execution_count": 100,
     "metadata": {},
     "output_type": "execute_result"
    },
    {
     "name": "stdout",
     "output_type": "stream",
     "text": [
      "best_params :  {'criterion': 'entropy', 'max_features': 'auto', 'min_impurity_decrease': 0.0, 'min_samples_split': 19, 'min_weight_fraction_leaf': 0.0, 'random_state': 42}\n",
      "best_score_ :  0.703176801729609\n"
     ]
    }
   ],
   "source": [
    "#이상치 IQR을 활용해 제거, 결측치 제거\n",
    "from sklearn.model_selection import GridSearchCV\n",
    "\n",
    "from MyModule import girdcvconv as gc\n",
    "\n",
    "estimator = RandomForestClassifier()\n",
    "\n",
    "#n_estimators_list = np.arange(100,110)\n",
    "criterion_list =  ['gini','entropy','log_loss'] \n",
    "#splitter_list =  ['best','random']\n",
    "#max_depth_list =  np.arange(10, 15)\n",
    "max_features_list = ['auto', 'sqrt', 'log2']\n",
    "min_samples_split_list = np.arange(2, 20)                                   # 노드 분할 위한 최소 표본수 작으면 과적합, 반대의 경우 과소적합\n",
    "min_weight_fraction_leaf_list =  np.append(0.0,np.arange(0.1, 0.5, 0.1))    # 비율 커지면 과대적합 줄어듬 0,5보다 작게 해야한다\n",
    "min_impurity_decrease_list = np.append(0.0,np.arange(0.3, 0.5, 0.1))        # 비율 노드분할 관련\n",
    "\n",
    "parameter={\n",
    "    'criterion' : criterion_list ,\n",
    "    'max_features' : max_features_list,\n",
    "    'min_samples_split' : min_samples_split_list,\n",
    "    'min_weight_fraction_leaf' : min_weight_fraction_leaf_list,    \n",
    "    'min_impurity_decrease' :min_impurity_decrease_list,\n",
    "    'random_state':[42]\n",
    "\n",
    "}\n",
    "\n",
    "model = GridSearchCV(estimator, param_grid=parameter, cv=3, verbose=1, n_jobs=-1, refit=True)\n",
    "# verbose 출력 실행 모듈\n",
    "model.fit(X_train,y_train)\n",
    "\n",
    "print('best_params : ', model.best_params_)\n",
    "print('best_score_ : ', model.best_score_)\n",
    "\n",
    "gc.paramsTocsv(data_name='liver_IQR', scaler='RoburtScaler', model_name='RandomForestClassifierr', best_params=model.best_params_, best_score=model.best_score_)"
   ]
  },
  {
   "cell_type": "code",
   "execution_count": 78,
   "id": "e197fa4d",
   "metadata": {},
   "outputs": [
    {
     "data": {
      "text/plain": [
       "{'whiskers': [<matplotlib.lines.Line2D at 0x23276149bb0>,\n",
       "  <matplotlib.lines.Line2D at 0x23276149e80>],\n",
       " 'caps': [<matplotlib.lines.Line2D at 0x23276159190>,\n",
       "  <matplotlib.lines.Line2D at 0x23276159460>],\n",
       " 'boxes': [<matplotlib.lines.Line2D at 0x232761498e0>],\n",
       " 'medians': [<matplotlib.lines.Line2D at 0x23276159730>],\n",
       " 'fliers': [<matplotlib.lines.Line2D at 0x23276159a00>],\n",
       " 'means': []}"
      ]
     },
     "execution_count": 78,
     "metadata": {},
     "output_type": "execute_result"
    },
    {
     "data": {
      "text/plain": [
       "Text(0.5, 1.0, 'dentalcaries')"
      ]
     },
     "execution_count": 78,
     "metadata": {},
     "output_type": "execute_result"
    },
    {
     "data": {
      "text/plain": [
       "{'whiskers': [<matplotlib.lines.Line2D at 0x23276191850>,\n",
       "  <matplotlib.lines.Line2D at 0x23276191b20>],\n",
       " 'caps': [<matplotlib.lines.Line2D at 0x23276191cd0>,\n",
       "  <matplotlib.lines.Line2D at 0x23276191fa0>],\n",
       " 'boxes': [<matplotlib.lines.Line2D at 0x23276191580>],\n",
       " 'medians': [<matplotlib.lines.Line2D at 0x2327619d2b0>],\n",
       " 'fliers': [<matplotlib.lines.Line2D at 0x2327619d580>],\n",
       " 'means': []}"
      ]
     },
     "execution_count": 78,
     "metadata": {},
     "output_type": "execute_result"
    },
    {
     "data": {
      "text/plain": [
       "Text(0.5, 1.0, 'tartar')"
      ]
     },
     "execution_count": 78,
     "metadata": {},
     "output_type": "execute_result"
    },
    {
     "data": {
      "text/plain": [
       "{'whiskers': [<matplotlib.lines.Line2D at 0x232761d93d0>,\n",
       "  <matplotlib.lines.Line2D at 0x232761d96a0>],\n",
       " 'caps': [<matplotlib.lines.Line2D at 0x232761d9970>,\n",
       "  <matplotlib.lines.Line2D at 0x232761d9c40>],\n",
       " 'boxes': [<matplotlib.lines.Line2D at 0x232761d9100>],\n",
       " 'medians': [<matplotlib.lines.Line2D at 0x232761d9f10>],\n",
       " 'fliers': [<matplotlib.lines.Line2D at 0x232761e8220>],\n",
       " 'means': []}"
      ]
     },
     "execution_count": 78,
     "metadata": {},
     "output_type": "execute_result"
    },
    {
     "data": {
      "text/plain": [
       "Text(0.5, 1.0, 'smoking')"
      ]
     },
     "execution_count": 78,
     "metadata": {},
     "output_type": "execute_result"
    },
    {
     "data": {
      "image/png": "[encoded data removed]",
      "text/plain": [
       "<Figure size 1440x720 with 3 Axes>"
      ]
     },
     "metadata": {
      "needs_background": "light"
     },
     "output_type": "display_data"
    }
   ],
   "source": [
    "dentalcaries = df['dental caries']\n",
    "tartar = df['tartar']\n",
    "smoking = df['smoking']\n",
    "\n",
    "fig = plt.figure(figsize=(20, 10))\n",
    "ax01 = fig.add_subplot(2, 5, 1)\n",
    "\n",
    "ax01.boxplot(dentalcaries)\n",
    "plt.title(\"dentalcaries\", fontsize = 15)\n",
    "\n",
    "ax02 = fig.add_subplot(2, 5, 2)\n",
    "\n",
    "ax02.boxplot(tartar)\n",
    "plt.title(\"tartar\", fontsize = 15)\n",
    "\n",
    "ax03 = fig.add_subplot(2, 5, 3)\n",
    "ax03.boxplot(smoking)\n",
    "plt.title(\"smoking\", fontsize = 15)"
   ]
  },
  {
   "cell_type": "code",
   "execution_count": 101,
   "id": "24cb7595",
   "metadata": {},
   "outputs": [
    {
     "name": "stdout",
     "output_type": "stream",
     "text": [
      "dental caries    0.0\n",
      "Name: 0.25, dtype: float64\n",
      "dental caries    0.0\n",
      "Name: 0.75, dtype: float64\n"
     ]
    },
    {
     "data": {
      "text/plain": [
       "dental caries    0.0\n",
       "dtype: float64"
      ]
     },
     "execution_count": 101,
     "metadata": {},
     "output_type": "execute_result"
    }
   ],
   "source": [
    "Q1 = df[['dental caries']].quantile(q=0.25)\n",
    "Q3 = df[['dental caries']].quantile(q=0.75)\n",
    "print(Q1)\n",
    "print(Q3)\n",
    "\n",
    "IQR = Q3-Q1\n",
    "IQR"
   ]
  },
  {
   "cell_type": "code",
   "execution_count": 105,
   "id": "77e1ff98",
   "metadata": {},
   "outputs": [
    {
     "name": "stdout",
     "output_type": "stream",
     "text": [
      "df : 55692\n",
      "IQR_df : 43811\n",
      "df : 55692\n",
      "IQR_df : 43811\n"
     ]
    }
   ],
   "source": [
    "IQR_df = df[(df['dental caries'] <= Q3['dental caries']+1.5*IQR['dental caries'])&(df['dental caries']>=Q1['dental caries']-1.5*IQR['dental caries'])]\n",
    "IQR_df = IQR_df[['dental caries']]\n",
    "\n",
    "print('df :', len(df))\n",
    "print('IQR_df :', len(IQR_df))\n",
    "print('df :', len(df))\n",
    "print('IQR_df :', len(IQR_df))"
   ]
  },
  {
   "cell_type": "code",
   "execution_count": 106,
   "id": "133311d0",
   "metadata": {},
   "outputs": [
    {
     "data": {
      "text/plain": [
       "<AxesSubplot:>"
      ]
     },
     "execution_count": 106,
     "metadata": {},
     "output_type": "execute_result"
    },
    {
     "data": {
      "image/png": "[encoded data removed]",
      "text/plain": [
       "<Figure size 432x288 with 1 Axes>"
      ]
     },
     "metadata": {
      "needs_background": "light"
     },
     "output_type": "display_data"
    }
   ],
   "source": [
    "IQR_df.boxplot()"
   ]
  },
  {
   "cell_type": "code",
   "execution_count": 82,
   "id": "fe351613",
   "metadata": {},
   "outputs": [
    {
     "name": "stdout",
     "output_type": "stream",
     "text": [
      "Fitting 3 folds for each of 2430 candidates, totalling 7290 fits\n"
     ]
    },
    {
     "name": "stderr",
     "output_type": "stream",
     "text": [
      "C:\\Anaconda3\\lib\\site-packages\\sklearn\\model_selection\\_validation.py:372: FitFailedWarning: \n",
      "2430 fits failed out of a total of 7290.\n",
      "The score on these train-test partitions for these parameters will be set to nan.\n",
      "If these failures are not expected, you can try to debug them by setting error_score='raise'.\n",
      "\n",
      "Below are more details about the failures:\n",
      "--------------------------------------------------------------------------------\n",
      "2430 fits failed with the following error:\n",
      "Traceback (most recent call last):\n",
      "  File \"C:\\Anaconda3\\lib\\site-packages\\sklearn\\model_selection\\_validation.py\", line 680, in _fit_and_score\n",
      "    estimator.fit(X_train, y_train, **fit_params)\n",
      "  File \"C:\\Anaconda3\\lib\\site-packages\\sklearn\\ensemble\\_forest.py\", line 450, in fit\n",
      "    trees = Parallel(\n",
      "  File \"C:\\Anaconda3\\lib\\site-packages\\joblib\\parallel.py\", line 1043, in __call__\n",
      "    if self.dispatch_one_batch(iterator):\n",
      "  File \"C:\\Anaconda3\\lib\\site-packages\\joblib\\parallel.py\", line 861, in dispatch_one_batch\n",
      "    self._dispatch(tasks)\n",
      "  File \"C:\\Anaconda3\\lib\\site-packages\\joblib\\parallel.py\", line 779, in _dispatch\n",
      "    job = self._backend.apply_async(batch, callback=cb)\n",
      "  File \"C:\\Anaconda3\\lib\\site-packages\\joblib\\_parallel_backends.py\", line 208, in apply_async\n",
      "    result = ImmediateResult(func)\n",
      "  File \"C:\\Anaconda3\\lib\\site-packages\\joblib\\_parallel_backends.py\", line 572, in __init__\n",
      "    self.results = batch()\n",
      "  File \"C:\\Anaconda3\\lib\\site-packages\\joblib\\parallel.py\", line 262, in __call__\n",
      "    return [func(*args, **kwargs)\n",
      "  File \"C:\\Anaconda3\\lib\\site-packages\\joblib\\parallel.py\", line 262, in <listcomp>\n",
      "    return [func(*args, **kwargs)\n",
      "  File \"C:\\Anaconda3\\lib\\site-packages\\sklearn\\utils\\fixes.py\", line 216, in __call__\n",
      "    return self.function(*args, **kwargs)\n",
      "  File \"C:\\Anaconda3\\lib\\site-packages\\sklearn\\ensemble\\_forest.py\", line 185, in _parallel_build_trees\n",
      "    tree.fit(X, y, sample_weight=curr_sample_weight, check_input=False)\n",
      "  File \"C:\\Anaconda3\\lib\\site-packages\\sklearn\\tree\\_classes.py\", line 937, in fit\n",
      "    super().fit(\n",
      "  File \"C:\\Anaconda3\\lib\\site-packages\\sklearn\\tree\\_classes.py\", line 352, in fit\n",
      "    criterion = CRITERIA_CLF[self.criterion](\n",
      "KeyError: 'log_loss'\n",
      "\n",
      "  warnings.warn(some_fits_failed_message, FitFailedWarning)\n",
      "C:\\Anaconda3\\lib\\site-packages\\sklearn\\model_selection\\_search.py:969: UserWarning: One or more of the test scores are non-finite: [0.69265818 0.67678944 0.64680268 ...        nan        nan        nan]\n",
      "  warnings.warn(\n"
     ]
    },
    {
     "data": {
      "text/plain": [
       "GridSearchCV(cv=3, estimator=RandomForestClassifier(), n_jobs=-1,\n",
       "             param_grid={'criterion': ['gini', 'entropy', 'log_loss'],\n",
       "                         'max_features': ['auto', 'sqrt', 'log2'],\n",
       "                         'min_impurity_decrease': array([0. , 0.3, 0.4]),\n",
       "                         'min_samples_split': array([ 2,  3,  4,  5,  6,  7,  8,  9, 10, 11, 12, 13, 14, 15, 16, 17, 18,\n",
       "       19]),\n",
       "                         'min_weight_fraction_leaf': array([0. , 0.1, 0.2, 0.3, 0.4]),\n",
       "                         'random_state': [42]},\n",
       "             verbose=1)"
      ]
     },
     "execution_count": 82,
     "metadata": {},
     "output_type": "execute_result"
    },
    {
     "name": "stdout",
     "output_type": "stream",
     "text": [
      "best_params :  {'criterion': 'entropy', 'max_features': 'auto', 'min_impurity_decrease': 0.0, 'min_samples_split': 17, 'min_weight_fraction_leaf': 0.0, 'random_state': 42}\n",
      "best_score_ :  0.6999528651269274\n"
     ]
    }
   ],
   "source": [
    "from sklearn.model_selection import GridSearchCV\n",
    "\n",
    "from MyModule import girdcvconv as gc\n",
    "\n",
    "estimator = RandomForestClassifier()\n",
    "\n",
    "#n_estimators_list = np.arange(100,110)\n",
    "criterion_list =  ['gini','entropy','log_loss'] \n",
    "#splitter_list =  ['best','random']\n",
    "#max_depth_list =  np.arange(10, 15)\n",
    "max_features_list = ['auto', 'sqrt', 'log2']\n",
    "min_samples_split_list = np.arange(2, 20)                                   # 노드 분할 위한 최소 표본수 작으면 과적합, 반대의 경우 과소적합\n",
    "min_weight_fraction_leaf_list =  np.append(0.0,np.arange(0.1, 0.5, 0.1))    # 비율 커지면 과대적합 줄어듬 0,5보다 작게 해야한다\n",
    "min_impurity_decrease_list = np.append(0.0,np.arange(0.3, 0.5, 0.1))        # 비율 노드분할 관련\n",
    "\n",
    "parameter={\n",
    "    'criterion' : criterion_list ,\n",
    "    'max_features' : max_features_list,\n",
    "    'min_samples_split' : min_samples_split_list,\n",
    "    'min_weight_fraction_leaf' : min_weight_fraction_leaf_list,    \n",
    "    'min_impurity_decrease' :min_impurity_decrease_list,\n",
    "    'random_state':[42]\n",
    "\n",
    "}\n",
    "\n",
    "model = GridSearchCV(estimator, param_grid=parameter, cv=3, verbose=1, n_jobs=-1, refit=True)\n",
    "# verbose 출력 실행 모듈\n",
    "model.fit(X_train,y_train)\n",
    "\n",
    "print('best_params : ', model.best_params_)\n",
    "print('best_score_ : ', model.best_score_)\n",
    "\n",
    "gc.paramsTocsv(data_name='liver', scaler='RoburtScaler', model_name='RandomForestClassifierr', best_params=model.best_params_, best_score=model.best_score_)"
   ]
  },
  {
   "cell_type": "code",
   "execution_count": null,
   "id": "637e7da1",
   "metadata": {},
   "outputs": [],
   "source": [
    "Q1 = df[['']]"
   ]
  },
  {
   "cell_type": "markdown",
   "id": "b602f754",
   "metadata": {},
   "source": [
    "#### DecisionTreeClassifier"
   ]
  },
  {
   "cell_type": "code",
   "execution_count": 17,
   "id": "15bec77b",
   "metadata": {},
   "outputs": [
    {
     "data": {
      "text/plain": [
       "DecisionTreeClassifier()"
      ]
     },
     "execution_count": 17,
     "metadata": {},
     "output_type": "execute_result"
    },
    {
     "data": {
      "text/plain": [
       "0.7003321662626807"
      ]
     },
     "execution_count": 17,
     "metadata": {},
     "output_type": "execute_result"
    },
    {
     "name": "stdout",
     "output_type": "stream",
     "text": [
      "confusion_matrix : \n",
      " [[5752 1275]\n",
      " [2063 2049]]\n"
     ]
    },
    {
     "data": {
      "text/plain": [
       "<AxesSubplot:title={'center':'Confusion Matrix'}, xlabel='Predicted label', ylabel='True label'>"
      ]
     },
     "execution_count": 17,
     "metadata": {},
     "output_type": "execute_result"
    },
    {
     "data": {
      "image/png": "[encoded data removed]",
      "text/plain": [
       "<Figure size 576x432 with 2 Axes>"
      ]
     },
     "metadata": {
      "needs_background": "light"
     },
     "output_type": "display_data"
    }
   ],
   "source": [
    "from sklearn.tree import DecisionTreeClassifier\n",
    "from sklearn.metrics import accuracy_score\n",
    "\n",
    "model = DecisionTreeClassifier()\n",
    "model.fit(X_train,y_train)\n",
    "\n",
    "pred = model.predict(X_test)\n",
    "acc = accuracy_score(y_test,pred)\n",
    "acc\n",
    "\n",
    "from sklearn.metrics import confusion_matrix\n",
    "import scikitplot as skplt\n",
    "\n",
    "pred = model.predict(X_test)\n",
    "# 실제 , 예측\n",
    "cm = confusion_matrix(y_test, pred)\n",
    "print('confusion_matrix : \\n', cm)\n",
    "\n",
    "skplt.metrics.plot_confusion_matrix(y_test,pred,figsize=(8,6))\n",
    "plt.show()"
   ]
  },
  {
   "cell_type": "markdown",
   "id": "462073ec",
   "metadata": {},
   "source": [
    "#### RandomForestClassifier"
   ]
  },
  {
   "cell_type": "code",
   "execution_count": 28,
   "id": "8076c95e",
   "metadata": {},
   "outputs": [
    {
     "data": {
      "text/plain": [
       "RandomForestClassifier()"
      ]
     },
     "execution_count": 28,
     "metadata": {},
     "output_type": "execute_result"
    },
    {
     "data": {
      "text/plain": [
       "0.7095789568183859"
      ]
     },
     "execution_count": 28,
     "metadata": {},
     "output_type": "execute_result"
    },
    {
     "name": "stdout",
     "output_type": "stream",
     "text": [
      "confusion_matrix : \n",
      " [[5647 1380]\n",
      " [1855 2257]]\n"
     ]
    },
    {
     "data": {
      "text/plain": [
       "<AxesSubplot:title={'center':'Confusion Matrix'}, xlabel='Predicted label', ylabel='True label'>"
      ]
     },
     "execution_count": 28,
     "metadata": {},
     "output_type": "execute_result"
    },
    {
     "data": {
      "image/png": "[encoded data removed]",
      "text/plain": [
       "<Figure size 576x432 with 2 Axes>"
      ]
     },
     "metadata": {
      "needs_background": "light"
     },
     "output_type": "display_data"
    }
   ],
   "source": [
    "from sklearn.ensemble import RandomForestClassifier\n",
    "from sklearn.metrics import accuracy_score\n",
    "\n",
    "model = RandomForestClassifier()\n",
    "model.fit(X_train,y_train)\n",
    "\n",
    "pred = model.predict(X_test)\n",
    "acc = accuracy_score(y_test,pred)\n",
    "acc\n",
    "\n",
    "from sklearn.metrics import confusion_matrix\n",
    "import scikitplot as skplt\n",
    "\n",
    "pred = model.predict(X_test)\n",
    "# 실제 , 예측\n",
    "cm = confusion_matrix(y_test, pred)\n",
    "print('confusion_matrix : \\n', cm)\n",
    "\n",
    "skplt.metrics.plot_confusion_matrix(y_test,pred,figsize=(8,6))\n",
    "plt.show()"
   ]
  },
  {
   "cell_type": "markdown",
   "id": "e2a703d5",
   "metadata": {},
   "source": [
    "### XGBoost"
   ]
  },
  {
   "cell_type": "code",
   "execution_count": 29,
   "id": "b0927eb3",
   "metadata": {},
   "outputs": [
    {
     "name": "stdout",
     "output_type": "stream",
     "text": [
      "[0]\tvalidation_0-logloss:0.64137\n",
      "[1]\tvalidation_0-logloss:0.61444\n",
      "[2]\tvalidation_0-logloss:0.59967\n",
      "[3]\tvalidation_0-logloss:0.59146\n",
      "[4]\tvalidation_0-logloss:0.58667\n",
      "[5]\tvalidation_0-logloss:0.58406\n",
      "[6]\tvalidation_0-logloss:0.58265\n",
      "[7]\tvalidation_0-logloss:0.58204\n",
      "[8]\tvalidation_0-logloss:0.58166\n",
      "[9]\tvalidation_0-logloss:0.58143\n",
      "[10]\tvalidation_0-logloss:0.58133\n",
      "[11]\tvalidation_0-logloss:0.58130\n",
      "[12]\tvalidation_0-logloss:0.58122\n",
      "[13]\tvalidation_0-logloss:0.58123\n",
      "[14]\tvalidation_0-logloss:0.58119\n",
      "[15]\tvalidation_0-logloss:0.58118\n",
      "[16]\tvalidation_0-logloss:0.58093\n",
      "[17]\tvalidation_0-logloss:0.58101\n",
      "[18]\tvalidation_0-logloss:0.58081\n",
      "[19]\tvalidation_0-logloss:0.58086\n",
      "[20]\tvalidation_0-logloss:0.58090\n",
      "[21]\tvalidation_0-logloss:0.58087\n",
      "[22]\tvalidation_0-logloss:0.58091\n",
      "[23]\tvalidation_0-logloss:0.58085\n",
      "[24]\tvalidation_0-logloss:0.58084\n",
      "[25]\tvalidation_0-logloss:0.58073\n",
      "[26]\tvalidation_0-logloss:0.58074\n",
      "[27]\tvalidation_0-logloss:0.58068\n",
      "[28]\tvalidation_0-logloss:0.58042\n",
      "[29]\tvalidation_0-logloss:0.58031\n",
      "[30]\tvalidation_0-logloss:0.58031\n",
      "[31]\tvalidation_0-logloss:0.58020\n",
      "[32]\tvalidation_0-logloss:0.58018\n",
      "[33]\tvalidation_0-logloss:0.58017\n",
      "[34]\tvalidation_0-logloss:0.58020\n",
      "[35]\tvalidation_0-logloss:0.58036\n",
      "[36]\tvalidation_0-logloss:0.58036\n",
      "[37]\tvalidation_0-logloss:0.58039\n",
      "[38]\tvalidation_0-logloss:0.58037\n",
      "[39]\tvalidation_0-logloss:0.58022\n",
      "[40]\tvalidation_0-logloss:0.58020\n",
      "[41]\tvalidation_0-logloss:0.58020\n",
      "[42]\tvalidation_0-logloss:0.58024\n"
     ]
    },
    {
     "data": {
      "text/plain": [
       "XGBClassifier(base_score=0.5, booster='gbtree', callbacks=None,\n",
       "              colsample_bylevel=1, colsample_bynode=1, colsample_bytree=1,\n",
       "              early_stopping_rounds=10, enable_categorical=False,\n",
       "              eval_metric=None, feature_types=None, gamma=0, gpu_id=-1,\n",
       "              grow_policy='depthwise', importance_type=None,\n",
       "              interaction_constraints='', learning_rate=0.300000012,\n",
       "              max_bin=256, max_cat_threshold=64, max_cat_to_onehot=4,\n",
       "              max_delta_step=0, max_depth=6, max_leaves=0, min_child_weight=1,\n",
       "              missing=nan, monotone_constraints='()', n_estimators=100,\n",
       "              n_jobs=0, num_parallel_tree=1, predictor='auto', random_state=0, ...)"
      ]
     },
     "execution_count": 29,
     "metadata": {},
     "output_type": "execute_result"
    },
    {
     "data": {
      "text/plain": [
       "0.6866864170930963"
      ]
     },
     "execution_count": 29,
     "metadata": {},
     "output_type": "execute_result"
    },
    {
     "name": "stdout",
     "output_type": "stream",
     "text": [
      "confusion_matrix : \n",
      " [[5739 1288]\n",
      " [2202 1910]]\n"
     ]
    },
    {
     "data": {
      "text/plain": [
       "<AxesSubplot:title={'center':'Confusion Matrix'}, xlabel='Predicted label', ylabel='True label'>"
      ]
     },
     "execution_count": 29,
     "metadata": {},
     "output_type": "execute_result"
    },
    {
     "data": {
      "image/png": "[encoded data removed]",
      "text/plain": [
       "<Figure size 576x432 with 2 Axes>"
      ]
     },
     "metadata": {
      "needs_background": "light"
     },
     "output_type": "display_data"
    }
   ],
   "source": [
    "import xgboost as xgb\n",
    "import pandas as pd\n",
    "import seaborn as sns\n",
    "from xgboost import XGBClassifier\n",
    "from sklearn.metrics import accuracy_score\n",
    "\n",
    "model = xgb.XGBClassifier(early_stopping_rounds=10)\n",
    "eval_set = [(X_test, y_test)]\n",
    "model.fit(X_train, y_train, eval_set=eval_set)#, verbose=True\n",
    "\n",
    "pred = model.predict(X_test)\n",
    "acc = accuracy_score(y_test,pred)\n",
    "acc\n",
    "\n",
    "from sklearn.metrics import confusion_matrix\n",
    "import scikitplot as skplt\n",
    "\n",
    "pred = model.predict(X_test)\n",
    "# 실제 , 예측\n",
    "cm = confusion_matrix(y_test, pred)\n",
    "print('confusion_matrix : \\n', cm)\n",
    "\n",
    "skplt.metrics.plot_confusion_matrix(y_test,pred,figsize=(8,6))\n",
    "plt.show()"
   ]
  },
  {
   "cell_type": "code",
   "execution_count": 30,
   "id": "a88397be",
   "metadata": {},
   "outputs": [
    {
     "name": "stdout",
     "output_type": "stream",
     "text": [
      "33\n",
      "0.5801704771299943\n"
     ]
    },
    {
     "data": {
      "text/plain": [
       "0.5801704792629478"
      ]
     },
     "execution_count": 30,
     "metadata": {},
     "output_type": "execute_result"
    }
   ],
   "source": [
    "# best_iteration\n",
    "print(model.best_iteration)\n",
    "print(model.best_score)\n",
    "\n",
    "from sklearn import metrics\n",
    "y_pred = model.predict_proba(X_test)\n",
    "metrics.log_loss(y_test, y_pred)\n",
    "\n",
    "# feature_importances_\n",
    "#import matplotlib.pyplot as plt \n",
    "#model.feature_importances_\n",
    "#plt.barh(df.iloc[:,:-1].columns, model.feature_importances_)"
   ]
  },
  {
   "cell_type": "markdown",
   "id": "7d6268f4",
   "metadata": {},
   "source": [
    "### LGBMClassifier"
   ]
  },
  {
   "cell_type": "code",
   "execution_count": 31,
   "id": "e834087a",
   "metadata": {},
   "outputs": [
    {
     "name": "stdout",
     "output_type": "stream",
     "text": [
      "[1]\tvalid_0's binary_logloss: 0.644913\n",
      "Training until validation scores don't improve for 10 rounds\n",
      "[2]\tvalid_0's binary_logloss: 0.633826\n",
      "[3]\tvalid_0's binary_logloss: 0.624773\n",
      "[4]\tvalid_0's binary_logloss: 0.617308\n",
      "[5]\tvalid_0's binary_logloss: 0.611228\n",
      "[6]\tvalid_0's binary_logloss: 0.606232\n",
      "[7]\tvalid_0's binary_logloss: 0.602132\n",
      "[8]\tvalid_0's binary_logloss: 0.598714\n",
      "[9]\tvalid_0's binary_logloss: 0.595801\n",
      "[10]\tvalid_0's binary_logloss: 0.593503\n",
      "[11]\tvalid_0's binary_logloss: 0.591989\n",
      "[12]\tvalid_0's binary_logloss: 0.590457\n",
      "[13]\tvalid_0's binary_logloss: 0.58889\n",
      "[14]\tvalid_0's binary_logloss: 0.587697\n",
      "[15]\tvalid_0's binary_logloss: 0.586661\n",
      "[16]\tvalid_0's binary_logloss: 0.586013\n",
      "[17]\tvalid_0's binary_logloss: 0.585389\n",
      "[18]\tvalid_0's binary_logloss: 0.584906\n",
      "[19]\tvalid_0's binary_logloss: 0.584529\n",
      "[20]\tvalid_0's binary_logloss: 0.584296\n",
      "[21]\tvalid_0's binary_logloss: 0.583995\n",
      "[22]\tvalid_0's binary_logloss: 0.583711\n",
      "[23]\tvalid_0's binary_logloss: 0.58359\n",
      "[24]\tvalid_0's binary_logloss: 0.583427\n",
      "[25]\tvalid_0's binary_logloss: 0.583081\n",
      "[26]\tvalid_0's binary_logloss: 0.583096\n",
      "[27]\tvalid_0's binary_logloss: 0.583099\n",
      "[28]\tvalid_0's binary_logloss: 0.58305\n",
      "[29]\tvalid_0's binary_logloss: 0.582886\n",
      "[30]\tvalid_0's binary_logloss: 0.582969\n",
      "[31]\tvalid_0's binary_logloss: 0.582837\n",
      "[32]\tvalid_0's binary_logloss: 0.582799\n",
      "[33]\tvalid_0's binary_logloss: 0.582783\n",
      "[34]\tvalid_0's binary_logloss: 0.582755\n",
      "[35]\tvalid_0's binary_logloss: 0.582804\n",
      "[36]\tvalid_0's binary_logloss: 0.58285\n",
      "[37]\tvalid_0's binary_logloss: 0.582732\n",
      "[38]\tvalid_0's binary_logloss: 0.582678\n",
      "[39]\tvalid_0's binary_logloss: 0.582678\n",
      "[40]\tvalid_0's binary_logloss: 0.582628\n",
      "[41]\tvalid_0's binary_logloss: 0.582858\n",
      "[42]\tvalid_0's binary_logloss: 0.582912\n",
      "[43]\tvalid_0's binary_logloss: 0.582839\n",
      "[44]\tvalid_0's binary_logloss: 0.582954\n",
      "[45]\tvalid_0's binary_logloss: 0.582946\n",
      "[46]\tvalid_0's binary_logloss: 0.582968\n",
      "[47]\tvalid_0's binary_logloss: 0.582968\n",
      "[48]\tvalid_0's binary_logloss: 0.582962\n",
      "[49]\tvalid_0's binary_logloss: 0.582771\n",
      "[50]\tvalid_0's binary_logloss: 0.58265\n",
      "Early stopping, best iteration is:\n",
      "[40]\tvalid_0's binary_logloss: 0.582628\n"
     ]
    },
    {
     "data": {
      "text/plain": [
       "LGBMClassifier(boosting_type='goss', max_depth=5, random_state=0)"
      ]
     },
     "execution_count": 31,
     "metadata": {},
     "output_type": "execute_result"
    },
    {
     "data": {
      "text/plain": [
       "0.6831852051351108"
      ]
     },
     "execution_count": 31,
     "metadata": {},
     "output_type": "execute_result"
    },
    {
     "name": "stdout",
     "output_type": "stream",
     "text": [
      "confusion_matrix : \n",
      " [[5768 1259]\n",
      " [2270 1842]]\n"
     ]
    },
    {
     "data": {
      "text/plain": [
       "<AxesSubplot:title={'center':'Confusion Matrix'}, xlabel='Predicted label', ylabel='True label'>"
      ]
     },
     "execution_count": 31,
     "metadata": {},
     "output_type": "execute_result"
    },
    {
     "data": {
      "image/png": "[encoded data removed]",
      "text/plain": [
       "<Figure size 576x432 with 2 Axes>"
      ]
     },
     "metadata": {
      "needs_background": "light"
     },
     "output_type": "display_data"
    }
   ],
   "source": [
    "import lightgbm as lgb # 분류 회귀 다 됨\n",
    "model = lgb.LGBMClassifier(boosting_type='goss',max_depth=5, random_state=0)\n",
    "eval_set = [(X_test, y_test)]\n",
    "callbacks = []  # 리스트 객체 사용자함수를 담을 곳\n",
    "callbacks.append(lgb.early_stopping(stopping_rounds=10)) # 부스팅 반복 횟수 제어\n",
    "callbacks.append(lgb.log_evaluation())\n",
    "model.fit(X_train, y_train, eval_set=eval_set, callbacks=callbacks)\n",
    "\n",
    "pred = model.predict(X_test)\n",
    "acc = accuracy_score(y_test,pred)\n",
    "acc\n",
    "\n",
    "from sklearn.metrics import confusion_matrix\n",
    "import scikitplot as skplt\n",
    "\n",
    "pred = model.predict(X_test)\n",
    "# 실제 , 예측\n",
    "cm = confusion_matrix(y_test, pred)\n",
    "print('confusion_matrix : \\n', cm)\n",
    "\n",
    "skplt.metrics.plot_confusion_matrix(y_test,pred,figsize=(8,6))\n",
    "plt.show()"
   ]
  },
  {
   "cell_type": "code",
   "execution_count": 32,
   "id": "29caa8e5",
   "metadata": {},
   "outputs": [
    {
     "name": "stdout",
     "output_type": "stream",
     "text": [
      "40\n",
      "defaultdict(<class 'collections.OrderedDict'>, {'valid_0': OrderedDict([('binary_logloss', 0.5826276601015187)])})\n"
     ]
    }
   ],
   "source": [
    "print(model.best_iteration_)\n",
    "print(model.best_score_)"
   ]
  },
  {
   "cell_type": "code",
   "execution_count": 33,
   "id": "8e66feb6",
   "metadata": {},
   "outputs": [
    {
     "data": {
      "text/plain": [
       "0.5826276601015187"
      ]
     },
     "execution_count": 33,
     "metadata": {},
     "output_type": "execute_result"
    }
   ],
   "source": [
    "from sklearn import metrics\n",
    "y_pred = model.predict_proba(X_test)\n",
    "metrics.log_loss(y_test, y_pred)"
   ]
  },
  {
   "cell_type": "code",
   "execution_count": 34,
   "id": "d75338bd",
   "metadata": {},
   "outputs": [
    {
     "data": {
      "text/plain": [
       "<AxesSubplot:title={'center':'Metric during training'}, xlabel='Iterations', ylabel='binary_logloss'>"
      ]
     },
     "execution_count": 34,
     "metadata": {},
     "output_type": "execute_result"
    },
    {
     "data": {
      "image/png": "[encoded data removed]",
      "text/plain": [
       "<Figure size 432x288 with 1 Axes>"
      ]
     },
     "metadata": {
      "needs_background": "light"
     },
     "output_type": "display_data"
    }
   ],
   "source": [
    "lgb.plot_metric(model)"
   ]
  },
  {
   "cell_type": "code",
   "execution_count": 35,
   "id": "a9c8f9ad",
   "metadata": {},
   "outputs": [
    {
     "data": {
      "text/plain": [
       "<AxesSubplot:title={'center':'Feature importance'}, xlabel='Feature importance', ylabel='Features'>"
      ]
     },
     "execution_count": 35,
     "metadata": {},
     "output_type": "execute_result"
    },
    {
     "data": {
      "image/png": "[encoded data removed]",
      "text/plain": [
       "<Figure size 432x288 with 1 Axes>"
      ]
     },
     "metadata": {
      "needs_background": "light"
     },
     "output_type": "display_data"
    }
   ],
   "source": [
    "lgb.plot_importance(model)"
   ]
  },
  {
   "cell_type": "markdown",
   "id": "bb8db083",
   "metadata": {},
   "source": [
    "### Logistic Regression"
   ]
  },
  {
   "cell_type": "code",
   "execution_count": 37,
   "id": "d2481f6d",
   "metadata": {},
   "outputs": [
    {
     "data": {
      "text/plain": [
       "LogisticRegression(max_iter=10000)"
      ]
     },
     "execution_count": 37,
     "metadata": {},
     "output_type": "execute_result"
    },
    {
     "data": {
      "text/plain": [
       "0.6661280186731304"
      ]
     },
     "execution_count": 37,
     "metadata": {},
     "output_type": "execute_result"
    },
    {
     "data": {
      "text/plain": [
       "0.6661280186731304"
      ]
     },
     "execution_count": 37,
     "metadata": {},
     "output_type": "execute_result"
    },
    {
     "name": "stdout",
     "output_type": "stream",
     "text": [
      "confusion_matrix : \n",
      " [[5768 1259]\n",
      " [2270 1842]]\n"
     ]
    },
    {
     "data": {
      "text/plain": [
       "<AxesSubplot:title={'center':'Confusion Matrix'}, xlabel='Predicted label', ylabel='True label'>"
      ]
     },
     "execution_count": 37,
     "metadata": {},
     "output_type": "execute_result"
    },
    {
     "data": {
      "image/png": "[encoded data removed]",
      "text/plain": [
       "<Figure size 576x432 with 2 Axes>"
      ]
     },
     "metadata": {
      "needs_background": "light"
     },
     "output_type": "display_data"
    }
   ],
   "source": [
    "#Logistic Regression\n",
    "from sklearn.linear_model import LogisticRegression\n",
    "model2 = LogisticRegression(max_iter = 10000)\n",
    "\n",
    "model2.fit(X_train,y_train)\n",
    "\n",
    "model2.score(X_test,y_test)\n",
    "pred_2 = model2.predict(X_test)\n",
    "acc2 = accuracy_score(y_test,pred_2)\n",
    "acc2\n",
    "\n",
    "# 실제 , 예측\n",
    "cm_2 = confusion_matrix(y_test, pred)\n",
    "print('confusion_matrix : \\n', cm_2)\n",
    "\n",
    "skplt.metrics.plot_confusion_matrix(y_test,pred_2,figsize=(8,6))\n",
    "plt.show()"
   ]
  },
  {
   "cell_type": "markdown",
   "id": "80cb08d4",
   "metadata": {},
   "source": [
    "### Support Vector Machine"
   ]
  },
  {
   "cell_type": "code",
   "execution_count": 38,
   "id": "079802af",
   "metadata": {},
   "outputs": [
    {
     "data": {
      "text/plain": [
       "SVC()"
      ]
     },
     "execution_count": 38,
     "metadata": {},
     "output_type": "execute_result"
    },
    {
     "data": {
      "text/plain": [
       "0.6823772331448066"
      ]
     },
     "execution_count": 38,
     "metadata": {},
     "output_type": "execute_result"
    },
    {
     "name": "stdout",
     "output_type": "stream",
     "text": [
      "confusion_matrix : \n",
      " [[6101  926]\n",
      " [2612 1500]]\n"
     ]
    },
    {
     "data": {
      "text/plain": [
       "<AxesSubplot:title={'center':'Confusion Matrix'}, xlabel='Predicted label', ylabel='True label'>"
      ]
     },
     "execution_count": 38,
     "metadata": {},
     "output_type": "execute_result"
    },
    {
     "data": {
      "image/png": "[encoded data removed]",
      "text/plain": [
       "<Figure size 576x432 with 2 Axes>"
      ]
     },
     "metadata": {
      "needs_background": "light"
     },
     "output_type": "display_data"
    }
   ],
   "source": [
    "### 모델 - svm ###\n",
    "\n",
    "from sklearn import svm\n",
    "from sklearn.metrics import accuracy_score\n",
    "\n",
    "\n",
    "model = svm.SVC()\n",
    "model.fit(X_train, y_train)\n",
    "pred = model.predict(X_test)\n",
    "acc = accuracy_score(y_test, pred) \n",
    "acc \n",
    "\n",
    "from sklearn.metrics import confusion_matrix \n",
    "import scikitplot as skplt \n",
    "pred = model.predict(X_test) # 실제 , 예측 \n",
    "cm = confusion_matrix(y_test, pred) \n",
    "print('confusion_matrix : \\n', cm) \n",
    "skplt.metrics.plot_confusion_matrix(y_test,pred,figsize=(8,6)) \n",
    "plt.show()"
   ]
  }
 ],
 "metadata": {
  "kernelspec": {
   "display_name": "Python 3 (ipykernel)",
   "language": "python",
   "name": "python3"
  },
  "language_info": {
   "codemirror_mode": {
    "name": "ipython",
    "version": 3
   },
   "file_extension": ".py",
   "mimetype": "text/x-python",
   "name": "python",
   "nbconvert_exporter": "python",
   "pygments_lexer": "ipython3",
   "version": "3.9.12"
  }
 },
 "nbformat": 4,
 "nbformat_minor": 5
}

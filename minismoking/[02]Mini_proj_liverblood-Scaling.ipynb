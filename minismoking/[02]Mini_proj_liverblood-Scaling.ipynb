{
 "cells": [
  {
   "cell_type": "markdown",
   "id": "8a0a5971",
   "metadata": {},
   "source": [
    "- gender 성별\n",
    "- age 나이\n",
    "- height 키\n",
    "- weight 몸무게\n",
    "- eyesight(left, right) 왼쪽 시력, 오른쪽 시력\n",
    "- hearing(left, right) 왼쪽 청력, 오른쪽 청력\n",
    "\n",
    "- systolic 최고혈압(대동맥 내로 보내지는 심실 수축기의 혈압)\n",
    "- relaxation 최저혈압\n",
    "- fasting blood sugar 공복혈당\n",
    "- Cholesterol 총 콜레스테롤\n",
    "- triglyceride 중성지방\n",
    "- HDL 고밀도지단백 (콜레스테롤)\n",
    "- LDL 저밀도지단백 (콜레스테롤)\n",
    "- hemoglobin 헤모글로빈 수치\n",
    "- Urine protein 단백뇨\n",
    "- serum creatinine 혈액 또는 소변에서 크레아티닌 양 측정 - *신장*관련\n",
    "\n",
    "- AST 아스파르테이트 아미노 전달효소 *간*\n",
    "- ALT 알라닌 아미노 전달효소 *간* \n",
    "    - AST, ALT의 정상 범위 ~40, 경도 40~ 200, 중등도 200~400, 중증 400~\n",
    "- Gtp 감마 Gtp간 기능 검사 *알코올 관련*\n",
    "    - 정상 ~50, 가벼운 증가 51~100, 중간정도의 증가 101~200, 고도의 증가 201~500, 초고도 증가 500~\n",
    "    - 술 마시지 않는 사람도 높게 나올 수 있다.\n",
    "    \n",
    "- oral 구강검사 여부\n",
    "- dental caries 충치 갯수\n",
    "- tartar 치석존재여부"
   ]
  },
  {
   "cell_type": "code",
   "execution_count": 2,
   "id": "2f92eacf",
   "metadata": {},
   "outputs": [],
   "source": [
    "from sklearn.model_selection import train_test_split\n",
    "from sklearn import metrics\n",
    "from sklearn.ensemble import RandomForestClassifier\n",
    "\n",
    "import seaborn as sns\n",
    "import pandas as pd\n",
    "import numpy as np\n",
    "import matplotlib.pyplot as plt"
   ]
  },
  {
   "cell_type": "code",
   "execution_count": 3,
   "id": "6e7e9384",
   "metadata": {},
   "outputs": [],
   "source": [
    "from IPython.core.interactiveshell import InteractiveShell\n",
    "InteractiveShell.ast_node_interactivity=\"all\""
   ]
  },
  {
   "cell_type": "code",
   "execution_count": 4,
   "id": "9a1ec6bb",
   "metadata": {},
   "outputs": [
    {
     "data": {
      "text/plain": [
       "(55692, 27)"
      ]
     },
     "execution_count": 4,
     "metadata": {},
     "output_type": "execute_result"
    }
   ],
   "source": [
    "df = pd.read_csv('C:/ds_work/ML_DATA/smoking.csv')\n",
    "df.shape  # (55693, 27)"
   ]
  },
  {
   "cell_type": "code",
   "execution_count": 5,
   "id": "c7913993",
   "metadata": {},
   "outputs": [],
   "source": [
    "# 범주형 데이터 변환\n",
    "df = df.replace({'N':0,'Y':1,'F':0,'M':1, })\n",
    "gender = {'F': 0, 'M': 1}\n",
    "oral = {'N': 0, 'T': 1}\n",
    "tartar = {'N': 0, 'T': 1}\n",
    "# df 전체 float형으로 바꾸기\n",
    "df = df.astype(float)"
   ]
  },
  {
   "cell_type": "code",
   "execution_count": 6,
   "id": "245a2f84",
   "metadata": {},
   "outputs": [
    {
     "data": {
      "text/plain": [
       "0.12057465854691066"
      ]
     },
     "execution_count": 6,
     "metadata": {},
     "output_type": "execute_result"
    },
    {
     "data": {
      "text/plain": [
       "0.20202543629421119"
      ]
     },
     "execution_count": 6,
     "metadata": {},
     "output_type": "execute_result"
    },
    {
     "data": {
      "text/plain": [
       "0.22384448057497006"
      ]
     },
     "execution_count": 6,
     "metadata": {},
     "output_type": "execute_result"
    },
    {
     "data": {
      "text/plain": [
       "0.05925321019953094"
      ]
     },
     "execution_count": 6,
     "metadata": {},
     "output_type": "execute_result"
    },
    {
     "data": {
      "text/plain": [
       "0.09733797459025938"
      ]
     },
     "execution_count": 6,
     "metadata": {},
     "output_type": "execute_result"
    },
    {
     "data": {
      "text/plain": [
       "0.2366189192879358"
      ]
     },
     "execution_count": 6,
     "metadata": {},
     "output_type": "execute_result"
    },
    {
     "data": {
      "text/plain": [
       "0.08320382157223719"
      ]
     },
     "execution_count": 6,
     "metadata": {},
     "output_type": "execute_result"
    }
   ],
   "source": [
    "#흡연과 간 건강에 대한 상관 관계\n",
    "#2p -> 간접 독성 효과로 2차적인 적혈구증가증을 초래, 적혈구 생성과 파괴\n",
    "\n",
    "#AST와 hemoglobin\n",
    "df['AST'].corr(df['hemoglobin'],method = 'pearson')\n",
    "#0.12057465854691066\n",
    "\n",
    "#ALT와 hemoglobin\n",
    "df['ALT'].corr(df['hemoglobin'],method = 'pearson')\n",
    "#0.20202543629421119\n",
    "\n",
    "#감마-GTP와 hemoglobin\n",
    "df['Gtp'].corr(df['hemoglobin'],method = 'pearson')\n",
    "\n",
    "#AST와 smoking\n",
    "df['AST'].corr(df['smoking'],method = 'pearson')\n",
    "\n",
    "#ALT와 smoking\n",
    "df['ALT'].corr(df['smoking'],method = 'pearson')\n",
    "\n",
    "df['Gtp'].corr(df['smoking'],method = 'pearson')\n",
    "\n",
    "df['AST'].corr(df['systolic'],method = 'pearson')"
   ]
  },
  {
   "cell_type": "code",
   "execution_count": 6,
   "id": "5e8c49d3",
   "metadata": {},
   "outputs": [
    {
     "data": {
      "text/plain": [
       "0        0.0\n",
       "1        0.0\n",
       "2        1.0\n",
       "3        0.0\n",
       "4        0.0\n",
       "        ... \n",
       "55687    0.0\n",
       "55688    0.0\n",
       "55689    0.0\n",
       "55690    0.0\n",
       "55691    1.0\n",
       "Name: smoking, Length: 55692, dtype: float64"
      ]
     },
     "execution_count": 6,
     "metadata": {},
     "output_type": "execute_result"
    }
   ],
   "source": [
    "target = df.loc[:, 'smoking']\n",
    "target"
   ]
  },
  {
   "cell_type": "code",
   "execution_count": 7,
   "id": "7a2643f8",
   "metadata": {},
   "outputs": [
    {
     "data": {
      "text/html": [
       "<div>\n",
       "<style scoped>\n",
       "    .dataframe tbody tr th:only-of-type {\n",
       "        vertical-align: middle;\n",
       "    }\n",
       "\n",
       "    .dataframe tbody tr th {\n",
       "        vertical-align: top;\n",
       "    }\n",
       "\n",
       "    .dataframe thead th {\n",
       "        text-align: right;\n",
       "    }\n",
       "</style>\n",
       "<table border=\"1\" class=\"dataframe\">\n",
       "  <thead>\n",
       "    <tr style=\"text-align: right;\">\n",
       "      <th></th>\n",
       "      <th>systolic</th>\n",
       "      <th>relaxation</th>\n",
       "      <th>fasting blood sugar</th>\n",
       "      <th>Cholesterol</th>\n",
       "      <th>triglyceride</th>\n",
       "      <th>HDL</th>\n",
       "      <th>LDL</th>\n",
       "      <th>hemoglobin</th>\n",
       "      <th>AST</th>\n",
       "      <th>ALT</th>\n",
       "      <th>Gtp</th>\n",
       "      <th>smoking</th>\n",
       "    </tr>\n",
       "  </thead>\n",
       "  <tbody>\n",
       "    <tr>\n",
       "      <th>0</th>\n",
       "      <td>114.0</td>\n",
       "      <td>73.0</td>\n",
       "      <td>94.0</td>\n",
       "      <td>215.0</td>\n",
       "      <td>82.0</td>\n",
       "      <td>73.0</td>\n",
       "      <td>126.0</td>\n",
       "      <td>12.9</td>\n",
       "      <td>18.0</td>\n",
       "      <td>19.0</td>\n",
       "      <td>27.0</td>\n",
       "      <td>0.0</td>\n",
       "    </tr>\n",
       "    <tr>\n",
       "      <th>1</th>\n",
       "      <td>119.0</td>\n",
       "      <td>70.0</td>\n",
       "      <td>130.0</td>\n",
       "      <td>192.0</td>\n",
       "      <td>115.0</td>\n",
       "      <td>42.0</td>\n",
       "      <td>127.0</td>\n",
       "      <td>12.7</td>\n",
       "      <td>22.0</td>\n",
       "      <td>19.0</td>\n",
       "      <td>18.0</td>\n",
       "      <td>0.0</td>\n",
       "    </tr>\n",
       "    <tr>\n",
       "      <th>2</th>\n",
       "      <td>138.0</td>\n",
       "      <td>86.0</td>\n",
       "      <td>89.0</td>\n",
       "      <td>242.0</td>\n",
       "      <td>182.0</td>\n",
       "      <td>55.0</td>\n",
       "      <td>151.0</td>\n",
       "      <td>15.8</td>\n",
       "      <td>21.0</td>\n",
       "      <td>16.0</td>\n",
       "      <td>22.0</td>\n",
       "      <td>1.0</td>\n",
       "    </tr>\n",
       "    <tr>\n",
       "      <th>3</th>\n",
       "      <td>100.0</td>\n",
       "      <td>60.0</td>\n",
       "      <td>96.0</td>\n",
       "      <td>322.0</td>\n",
       "      <td>254.0</td>\n",
       "      <td>45.0</td>\n",
       "      <td>226.0</td>\n",
       "      <td>14.7</td>\n",
       "      <td>19.0</td>\n",
       "      <td>26.0</td>\n",
       "      <td>18.0</td>\n",
       "      <td>0.0</td>\n",
       "    </tr>\n",
       "    <tr>\n",
       "      <th>4</th>\n",
       "      <td>120.0</td>\n",
       "      <td>74.0</td>\n",
       "      <td>80.0</td>\n",
       "      <td>184.0</td>\n",
       "      <td>74.0</td>\n",
       "      <td>62.0</td>\n",
       "      <td>107.0</td>\n",
       "      <td>12.5</td>\n",
       "      <td>16.0</td>\n",
       "      <td>14.0</td>\n",
       "      <td>22.0</td>\n",
       "      <td>0.0</td>\n",
       "    </tr>\n",
       "    <tr>\n",
       "      <th>...</th>\n",
       "      <td>...</td>\n",
       "      <td>...</td>\n",
       "      <td>...</td>\n",
       "      <td>...</td>\n",
       "      <td>...</td>\n",
       "      <td>...</td>\n",
       "      <td>...</td>\n",
       "      <td>...</td>\n",
       "      <td>...</td>\n",
       "      <td>...</td>\n",
       "      <td>...</td>\n",
       "      <td>...</td>\n",
       "    </tr>\n",
       "    <tr>\n",
       "      <th>55687</th>\n",
       "      <td>110.0</td>\n",
       "      <td>68.0</td>\n",
       "      <td>89.0</td>\n",
       "      <td>213.0</td>\n",
       "      <td>99.0</td>\n",
       "      <td>75.0</td>\n",
       "      <td>118.0</td>\n",
       "      <td>12.3</td>\n",
       "      <td>14.0</td>\n",
       "      <td>7.0</td>\n",
       "      <td>10.0</td>\n",
       "      <td>0.0</td>\n",
       "    </tr>\n",
       "    <tr>\n",
       "      <th>55688</th>\n",
       "      <td>101.0</td>\n",
       "      <td>62.0</td>\n",
       "      <td>89.0</td>\n",
       "      <td>166.0</td>\n",
       "      <td>69.0</td>\n",
       "      <td>73.0</td>\n",
       "      <td>79.0</td>\n",
       "      <td>14.0</td>\n",
       "      <td>20.0</td>\n",
       "      <td>12.0</td>\n",
       "      <td>14.0</td>\n",
       "      <td>0.0</td>\n",
       "    </tr>\n",
       "    <tr>\n",
       "      <th>55689</th>\n",
       "      <td>117.0</td>\n",
       "      <td>72.0</td>\n",
       "      <td>88.0</td>\n",
       "      <td>158.0</td>\n",
       "      <td>77.0</td>\n",
       "      <td>79.0</td>\n",
       "      <td>63.0</td>\n",
       "      <td>12.4</td>\n",
       "      <td>17.0</td>\n",
       "      <td>11.0</td>\n",
       "      <td>12.0</td>\n",
       "      <td>0.0</td>\n",
       "    </tr>\n",
       "    <tr>\n",
       "      <th>55690</th>\n",
       "      <td>133.0</td>\n",
       "      <td>76.0</td>\n",
       "      <td>107.0</td>\n",
       "      <td>210.0</td>\n",
       "      <td>79.0</td>\n",
       "      <td>48.0</td>\n",
       "      <td>146.0</td>\n",
       "      <td>14.4</td>\n",
       "      <td>20.0</td>\n",
       "      <td>19.0</td>\n",
       "      <td>18.0</td>\n",
       "      <td>0.0</td>\n",
       "    </tr>\n",
       "    <tr>\n",
       "      <th>55691</th>\n",
       "      <td>124.0</td>\n",
       "      <td>75.0</td>\n",
       "      <td>82.0</td>\n",
       "      <td>213.0</td>\n",
       "      <td>142.0</td>\n",
       "      <td>34.0</td>\n",
       "      <td>150.0</td>\n",
       "      <td>15.0</td>\n",
       "      <td>26.0</td>\n",
       "      <td>29.0</td>\n",
       "      <td>41.0</td>\n",
       "      <td>1.0</td>\n",
       "    </tr>\n",
       "  </tbody>\n",
       "</table>\n",
       "<p>55692 rows × 12 columns</p>\n",
       "</div>"
      ],
      "text/plain": [
       "       systolic  relaxation  fasting blood sugar  Cholesterol  triglyceride  \\\n",
       "0         114.0        73.0                 94.0        215.0          82.0   \n",
       "1         119.0        70.0                130.0        192.0         115.0   \n",
       "2         138.0        86.0                 89.0        242.0         182.0   \n",
       "3         100.0        60.0                 96.0        322.0         254.0   \n",
       "4         120.0        74.0                 80.0        184.0          74.0   \n",
       "...         ...         ...                  ...          ...           ...   \n",
       "55687     110.0        68.0                 89.0        213.0          99.0   \n",
       "55688     101.0        62.0                 89.0        166.0          69.0   \n",
       "55689     117.0        72.0                 88.0        158.0          77.0   \n",
       "55690     133.0        76.0                107.0        210.0          79.0   \n",
       "55691     124.0        75.0                 82.0        213.0         142.0   \n",
       "\n",
       "        HDL    LDL  hemoglobin   AST   ALT   Gtp  smoking  \n",
       "0      73.0  126.0        12.9  18.0  19.0  27.0      0.0  \n",
       "1      42.0  127.0        12.7  22.0  19.0  18.0      0.0  \n",
       "2      55.0  151.0        15.8  21.0  16.0  22.0      1.0  \n",
       "3      45.0  226.0        14.7  19.0  26.0  18.0      0.0  \n",
       "4      62.0  107.0        12.5  16.0  14.0  22.0      0.0  \n",
       "...     ...    ...         ...   ...   ...   ...      ...  \n",
       "55687  75.0  118.0        12.3  14.0   7.0  10.0      0.0  \n",
       "55688  73.0   79.0        14.0  20.0  12.0  14.0      0.0  \n",
       "55689  79.0   63.0        12.4  17.0  11.0  12.0      0.0  \n",
       "55690  48.0  146.0        14.4  20.0  19.0  18.0      0.0  \n",
       "55691  34.0  150.0        15.0  26.0  29.0  41.0      1.0  \n",
       "\n",
       "[55692 rows x 12 columns]"
      ]
     },
     "execution_count": 7,
     "metadata": {},
     "output_type": "execute_result"
    }
   ],
   "source": [
    "df_li = df.iloc[:, 10:18]\n",
    "#df_li\n",
    "\n",
    "df_bl = df.iloc[:, 20:23]\n",
    "#df_bl\n",
    "\n",
    "li_bl = pd.concat([df_li,df_bl],axis=1)\n",
    "liver_blood = pd.concat([li_bl,target], axis=1)\n",
    "liver_blood"
   ]
  },
  {
   "cell_type": "code",
   "execution_count": 8,
   "id": "9bc12927",
   "metadata": {},
   "outputs": [],
   "source": [
    "from sklearn.model_selection import train_test_split\n",
    "X_train, X_test, y_train, y_test = train_test_split(liver_blood.iloc[:,:-1],liver_blood.iloc[:,-1], test_size=0.2, random_state=42)"
   ]
  },
  {
   "cell_type": "markdown",
   "id": "09dead4f",
   "metadata": {},
   "source": [
    "### 스케일링(정규화 표준화)\n",
    "- 스케일링 할 때에, sklearn 모듈을 사용하면 데이터프레임 전체를 한번에 변환가능하나, 특성에 따라 각기 다른 스케일링을 적용하는게 유리할 경우가 있습니다.\n",
    "- 로지스틱 회귀나 트리 기반 모델인 의사결정나무, 랜덤 포레스트 , 그래디언트 부스팅은 변수의 크기에 민감하지 않으므로 표준화를 수행해줄 필요가 없다. \n",
    "- 4. 서포트벡터머신(SVM) \n",
    "    - 서포트벡터 머신은 서포트벡터와 분류기(hyperplane) 사이 거리인 마진(margin)을 최대로 만들어주는 분류기를 찾는 알고리즘이다. 따라서, 큰 값을 가지는 변수가 거리 계산을 할 때 영향력을 많이 미치게 된다. "
   ]
  },
  {
   "cell_type": "markdown",
   "id": "9f0abe58",
   "metadata": {},
   "source": [
    "#### StandardScaler\n",
    "- 모든 피처들을 평균이 0, 분산이 1인 정규분포를 갖도록 만들어줌(표준화)\n",
    "- 이상치가 있는 경우 데이터 평균과 분산에 크게 영향을 주기 때문에 스케일링 방법으로 적절 X\n",
    "- 회귀보다 분류에 유용"
   ]
  },
  {
   "cell_type": "code",
   "execution_count": 8,
   "id": "86eda220",
   "metadata": {},
   "outputs": [
    {
     "name": "stdout",
     "output_type": "stream",
     "text": [
      "x_train_std mean :  9.879220869667633e-17\n",
      "x_train_std std:  1.0\n",
      "x_test_std mean:  0.0006574639658312238\n",
      "x_test_std std:  0.9622086564307376\n"
     ]
    }
   ],
   "source": [
    "from sklearn.preprocessing import StandardScaler\n",
    "stdsc = StandardScaler()\n",
    "\n",
    "x_train_std = stdsc.fit_transform(X_train)\n",
    "x_test_std = stdsc.transform(X_test)\n",
    "\n",
    "print(\"x_train_std mean : \",x_train_std.mean())\n",
    "print(\"x_train_std std: \",x_train_std.std())\n",
    "\n",
    "print(\"x_test_std mean: \",x_test_std.mean())\n",
    "print(\"x_test_std std: \",x_test_std.std())"
   ]
  },
  {
   "cell_type": "markdown",
   "id": "6422740f",
   "metadata": {},
   "source": [
    "#### MinMaxScaler\n",
    "- 모든 피처들이 0과 1사이의 데이터값을 갖도록 만들어줌(최솟값 0, 최댓값 1)\n",
    "- 이상치가 존재할 땐 스케일링 방법으로 적합 X(이상치가 극값이 되기 때문)\n"
   ]
  },
  {
   "cell_type": "code",
   "execution_count": 9,
   "id": "6f3082fd",
   "metadata": {},
   "outputs": [
    {
     "name": "stdout",
     "output_type": "stream",
     "text": [
      "x_train_t max :  1.0000000000000002\n",
      "x_train_t min:  0.0\n",
      "x_test_t max :  1.2175066312997347\n",
      "x_test_t min:  0.0\n"
     ]
    },
    {
     "data": {
      "text/plain": [
       "numpy.ndarray"
      ]
     },
     "execution_count": 9,
     "metadata": {},
     "output_type": "execute_result"
    }
   ],
   "source": [
    "from sklearn.preprocessing import MinMaxScaler\n",
    "mms = MinMaxScaler()\n",
    "\n",
    "x_train_t = mms.fit_transform(X_train)\n",
    "x_test_t = mms.transform(X_test)\n",
    "\n",
    "print(\"x_train_t max : \",x_train_t.max())\n",
    "print(\"x_train_t min: \",x_train_t.min())\n",
    "\n",
    "print(\"x_test_t max : \",x_test_t.max())\n",
    "print(\"x_test_t min: \",x_test_t.min())\n"
   ]
  },
  {
   "cell_type": "markdown",
   "id": "d829fe41",
   "metadata": {},
   "source": [
    "#### Robust Scaler\n",
    "- StandardScaler와 비슷\n",
    "- 중간값과 사분위값 사용(이상치의 영향 최소화)\n",
    "- 활용하면 데이터가 더 넓게 분포\n"
   ]
  },
  {
   "cell_type": "code",
   "execution_count": 15,
   "id": "ae1d3078",
   "metadata": {},
   "outputs": [
    {
     "name": "stdout",
     "output_type": "stream",
     "text": [
      "x_train_r mean :  0.1742637262222954\n",
      "x_test_r mean :  0.17066809358091725\n"
     ]
    }
   ],
   "source": [
    "from sklearn.preprocessing import RobustScaler\n",
    "rbs = RobustScaler()\n",
    "\n",
    "x_train_r = rbs.fit_transform(X_train)\n",
    "x_test_r = rbs.transform(X_test)\n",
    "\n",
    "print(\"x_train_r mean : \",x_train_r.mean())\n",
    "print(\"x_test_r mean : \",x_test_r.mean())"
   ]
  },
  {
   "cell_type": "markdown",
   "id": "698f1260",
   "metadata": {},
   "source": [
    "#### log Scaler"
   ]
  },
  {
   "cell_type": "markdown",
   "id": "8ec19625",
   "metadata": {},
   "source": [
    "### 3. 훈련01 : 전체 모델 구현으로 정확도 확인"
   ]
  },
  {
   "cell_type": "markdown",
   "id": "b602f754",
   "metadata": {},
   "source": [
    "#### DecisionTreeClassifier"
   ]
  },
  {
   "cell_type": "code",
   "execution_count": 12,
   "id": "7f32248f",
   "metadata": {},
   "outputs": [
    {
     "data": {
      "text/plain": [
       "DecisionTreeClassifier()"
      ]
     },
     "execution_count": 12,
     "metadata": {},
     "output_type": "execute_result"
    },
    {
     "data": {
      "text/plain": [
       "0.7628153335128827"
      ]
     },
     "execution_count": 12,
     "metadata": {},
     "output_type": "execute_result"
    },
    {
     "name": "stdout",
     "output_type": "stream",
     "text": [
      "confusion_matrix : \n",
      " [[5690 1337]\n",
      " [1305 2807]]\n"
     ]
    },
    {
     "data": {
      "text/plain": [
       "<AxesSubplot:title={'center':'Confusion Matrix'}, xlabel='Predicted label', ylabel='True label'>"
      ]
     },
     "execution_count": 12,
     "metadata": {},
     "output_type": "execute_result"
    },
    {
     "data": {
      "image/png": "[encoded data removed]",
      "text/plain": [
       "<Figure size 576x432 with 2 Axes>"
      ]
     },
     "metadata": {
      "needs_background": "light"
     },
     "output_type": "display_data"
    },
    {
     "name": "stdout",
     "output_type": "stream",
     "text": [
      "리포트:\n",
      "               precision    recall  f1-score   support\n",
      "\n",
      "         0.0       0.81      0.81      0.81      7027\n",
      "         1.0       0.68      0.68      0.68      4112\n",
      "\n",
      "    accuracy                           0.76     11139\n",
      "   macro avg       0.75      0.75      0.75     11139\n",
      "weighted avg       0.76      0.76      0.76     11139\n",
      "\n"
     ]
    }
   ],
   "source": [
    "#스케일링 안했을 때\n",
    "\n",
    "from sklearn.tree import DecisionTreeClassifier\n",
    "from sklearn.metrics import accuracy_score\n",
    "\n",
    "model = DecisionTreeClassifier()\n",
    "model.fit(X_train,y_train)\n",
    "\n",
    "pred = model.predict(X_test)\n",
    "acc = accuracy_score(y_test,pred)\n",
    "acc\n",
    "\n",
    "from sklearn.metrics import confusion_matrix\n",
    "import scikitplot as skplt\n",
    "\n",
    "pred = model.predict(X_test)\n",
    "# 실제 , 예측\n",
    "cm = confusion_matrix(y_test, pred)\n",
    "print('confusion_matrix : \\n', cm)\n",
    "\n",
    "skplt.metrics.plot_confusion_matrix(y_test,pred,figsize=(8,6))\n",
    "plt.show()\n",
    "\n",
    "cl_report = metrics.classification_report(y_test,pred)\n",
    "print('리포트:\\n',cl_report)"
   ]
  },
  {
   "cell_type": "code",
   "execution_count": 9,
   "id": "15bec77b",
   "metadata": {},
   "outputs": [
    {
     "data": {
      "text/plain": [
       "DecisionTreeClassifier()"
      ]
     },
     "execution_count": 9,
     "metadata": {},
     "output_type": "execute_result"
    },
    {
     "data": {
      "text/plain": [
       "0.7653290241493851"
      ]
     },
     "execution_count": 9,
     "metadata": {},
     "output_type": "execute_result"
    },
    {
     "name": "stdout",
     "output_type": "stream",
     "text": [
      "confusion_matrix : \n",
      " [[5682 1345]\n",
      " [1269 2843]]\n"
     ]
    },
    {
     "data": {
      "text/plain": [
       "<AxesSubplot:title={'center':'Confusion Matrix'}, xlabel='Predicted label', ylabel='True label'>"
      ]
     },
     "execution_count": 9,
     "metadata": {},
     "output_type": "execute_result"
    },
    {
     "data": {
      "image/png": "[encoded data removed]",
      "text/plain": [
       "<Figure size 576x432 with 2 Axes>"
      ]
     },
     "metadata": {
      "needs_background": "light"
     },
     "output_type": "display_data"
    },
    {
     "name": "stdout",
     "output_type": "stream",
     "text": [
      "리포트:\n",
      "               precision    recall  f1-score   support\n",
      "\n",
      "         0.0       0.82      0.81      0.81      7027\n",
      "         1.0       0.68      0.69      0.69      4112\n",
      "\n",
      "    accuracy                           0.77     11139\n",
      "   macro avg       0.75      0.75      0.75     11139\n",
      "weighted avg       0.77      0.77      0.77     11139\n",
      "\n"
     ]
    }
   ],
   "source": [
    "#StandardScaler : 정확도 가장 높음\n",
    "\n",
    "from sklearn.tree import DecisionTreeClassifier\n",
    "from sklearn.metrics import accuracy_score\n",
    "\n",
    "model = DecisionTreeClassifier()\n",
    "model.fit(x_train_std,y_train)\n",
    "\n",
    "pred = model.predict(x_test_std)\n",
    "acc = accuracy_score(y_test,pred)\n",
    "acc\n",
    "\n",
    "from sklearn.metrics import confusion_matrix\n",
    "import scikitplot as skplt\n",
    "\n",
    "pred = model.predict(x_test_std)\n",
    "# 실제 , 예측\n",
    "cm = confusion_matrix(y_test, pred)\n",
    "print('confusion_matrix : \\n', cm)\n",
    "\n",
    "skplt.metrics.plot_confusion_matrix(y_test,pred,figsize=(8,6))\n",
    "plt.show()\n",
    "\n",
    "cl_report = metrics.classification_report(y_test,pred)\n",
    "print('리포트:\\n',cl_report)"
   ]
  },
  {
   "cell_type": "code",
   "execution_count": 11,
   "id": "fff62508",
   "metadata": {},
   "outputs": [
    {
     "data": {
      "text/plain": [
       "DecisionTreeClassifier()"
      ]
     },
     "execution_count": 11,
     "metadata": {},
     "output_type": "execute_result"
    },
    {
     "data": {
      "text/plain": [
       "0.7629948828440614"
      ]
     },
     "execution_count": 11,
     "metadata": {},
     "output_type": "execute_result"
    },
    {
     "name": "stdout",
     "output_type": "stream",
     "text": [
      "confusion_matrix : \n",
      " [[5681 1346]\n",
      " [1294 2818]]\n"
     ]
    },
    {
     "data": {
      "text/plain": [
       "<AxesSubplot:title={'center':'Confusion Matrix'}, xlabel='Predicted label', ylabel='True label'>"
      ]
     },
     "execution_count": 11,
     "metadata": {},
     "output_type": "execute_result"
    },
    {
     "data": {
      "image/png": "[encoded data removed]",
      "text/plain": [
       "<Figure size 576x432 with 2 Axes>"
      ]
     },
     "metadata": {
      "needs_background": "light"
     },
     "output_type": "display_data"
    },
    {
     "name": "stdout",
     "output_type": "stream",
     "text": [
      "리포트:\n",
      "               precision    recall  f1-score   support\n",
      "\n",
      "         0.0       0.81      0.81      0.81      7027\n",
      "         1.0       0.68      0.69      0.68      4112\n",
      "\n",
      "    accuracy                           0.76     11139\n",
      "   macro avg       0.75      0.75      0.75     11139\n",
      "weighted avg       0.76      0.76      0.76     11139\n",
      "\n"
     ]
    }
   ],
   "source": [
    "#MinMaxScaler(큰 차이 없음)\n",
    "\n",
    "from sklearn.tree import DecisionTreeClassifier\n",
    "from sklearn.metrics import accuracy_score\n",
    "\n",
    "model = DecisionTreeClassifier()\n",
    "model.fit(x_train_t,y_train)\n",
    "\n",
    "pred = model.predict(x_test_t)\n",
    "acc = accuracy_score(y_test,pred)\n",
    "acc\n",
    "\n",
    "from sklearn.metrics import confusion_matrix\n",
    "import scikitplot as skplt\n",
    "\n",
    "pred = model.predict(x_test_t)\n",
    "# 실제 , 예측\n",
    "cm = confusion_matrix(y_test, pred)\n",
    "print('confusion_matrix : \\n', cm)\n",
    "\n",
    "skplt.metrics.plot_confusion_matrix(y_test,pred,figsize=(8,6))\n",
    "plt.show()\n",
    "\n",
    "cl_report = metrics.classification_report(y_test,pred)\n",
    "print('리포트:\\n',cl_report)"
   ]
  },
  {
   "cell_type": "code",
   "execution_count": 16,
   "id": "a62ad678",
   "metadata": {},
   "outputs": [
    {
     "data": {
      "text/plain": [
       "DecisionTreeClassifier()"
      ]
     },
     "execution_count": 16,
     "metadata": {},
     "output_type": "execute_result"
    },
    {
     "data": {
      "text/plain": [
       "0.7624562348505252"
      ]
     },
     "execution_count": 16,
     "metadata": {},
     "output_type": "execute_result"
    },
    {
     "name": "stdout",
     "output_type": "stream",
     "text": [
      "confusion_matrix : \n",
      " [[5674 1353]\n",
      " [1293 2819]]\n"
     ]
    },
    {
     "data": {
      "text/plain": [
       "<AxesSubplot:title={'center':'Confusion Matrix'}, xlabel='Predicted label', ylabel='True label'>"
      ]
     },
     "execution_count": 16,
     "metadata": {},
     "output_type": "execute_result"
    },
    {
     "data": {
      "image/png": "[encoded data removed]",
      "text/plain": [
       "<Figure size 576x432 with 2 Axes>"
      ]
     },
     "metadata": {
      "needs_background": "light"
     },
     "output_type": "display_data"
    },
    {
     "name": "stdout",
     "output_type": "stream",
     "text": [
      "리포트:\n",
      "               precision    recall  f1-score   support\n",
      "\n",
      "         0.0       0.81      0.81      0.81      7027\n",
      "         1.0       0.68      0.69      0.68      4112\n",
      "\n",
      "    accuracy                           0.76     11139\n",
      "   macro avg       0.75      0.75      0.75     11139\n",
      "weighted avg       0.76      0.76      0.76     11139\n",
      "\n"
     ]
    }
   ],
   "source": [
    "#Robust Scaler\n",
    "\n",
    "from sklearn.tree import DecisionTreeClassifier\n",
    "from sklearn.metrics import accuracy_score\n",
    "\n",
    "model = DecisionTreeClassifier()\n",
    "model.fit(x_train_r,y_train)\n",
    "\n",
    "pred = model.predict(x_test_r)\n",
    "acc = accuracy_score(y_test,pred)\n",
    "acc\n",
    "\n",
    "from sklearn.metrics import confusion_matrix\n",
    "import scikitplot as skplt\n",
    "\n",
    "pred = model.predict(x_test_r)\n",
    "# 실제 , 예측\n",
    "cm = confusion_matrix(y_test, pred)\n",
    "print('confusion_matrix : \\n', cm)\n",
    "\n",
    "skplt.metrics.plot_confusion_matrix(y_test,pred,figsize=(8,6))\n",
    "plt.show()\n",
    "\n",
    "cl_report = metrics.classification_report(y_test,pred)\n",
    "print('리포트:\\n',cl_report)"
   ]
  },
  {
   "cell_type": "markdown",
   "id": "462073ec",
   "metadata": {},
   "source": [
    "#### RandomForestClassifier"
   ]
  },
  {
   "cell_type": "code",
   "execution_count": 21,
   "id": "8076c95e",
   "metadata": {},
   "outputs": [
    {
     "data": {
      "text/plain": [
       "RandomForestClassifier()"
      ]
     },
     "execution_count": 21,
     "metadata": {},
     "output_type": "execute_result"
    },
    {
     "data": {
      "text/plain": [
       "0.8023161863722058"
      ]
     },
     "execution_count": 21,
     "metadata": {},
     "output_type": "execute_result"
    },
    {
     "name": "stdout",
     "output_type": "stream",
     "text": [
      "confusion_matrix : \n",
      " [[6045  982]\n",
      " [1220 2892]]\n"
     ]
    },
    {
     "data": {
      "text/plain": [
       "<AxesSubplot:title={'center':'Confusion Matrix'}, xlabel='Predicted label', ylabel='True label'>"
      ]
     },
     "execution_count": 21,
     "metadata": {},
     "output_type": "execute_result"
    },
    {
     "data": {
      "image/png": "[encoded data removed]",
      "text/plain": [
       "<Figure size 576x432 with 2 Axes>"
      ]
     },
     "metadata": {
      "needs_background": "light"
     },
     "output_type": "display_data"
    },
    {
     "name": "stdout",
     "output_type": "stream",
     "text": [
      "리포트:\n",
      "               precision    recall  f1-score   support\n",
      "\n",
      "         0.0       0.83      0.86      0.85      7027\n",
      "         1.0       0.75      0.70      0.72      4112\n",
      "\n",
      "    accuracy                           0.80     11139\n",
      "   macro avg       0.79      0.78      0.79     11139\n",
      "weighted avg       0.80      0.80      0.80     11139\n",
      "\n"
     ]
    }
   ],
   "source": [
    "# 스케일링 안했을 때\n",
    "\n",
    "from sklearn.ensemble import RandomForestClassifier\n",
    "from sklearn.metrics import accuracy_score\n",
    "\n",
    "model = RandomForestClassifier()\n",
    "model.fit(X_train,y_train)\n",
    "\n",
    "pred = model.predict(X_test)\n",
    "acc = accuracy_score(y_test,pred)\n",
    "acc\n",
    "\n",
    "from sklearn.metrics import confusion_matrix\n",
    "import scikitplot as skplt\n",
    "\n",
    "pred = model.predict(X_test)\n",
    "# 실제 , 예측\n",
    "cm = confusion_matrix(y_test, pred)\n",
    "print('confusion_matrix : \\n', cm)\n",
    "\n",
    "skplt.metrics.plot_confusion_matrix(y_test,pred,figsize=(8,6))\n",
    "plt.show()\n",
    "\n",
    "cl_report = metrics.classification_report(y_test,pred)\n",
    "print('리포트:\\n',cl_report)"
   ]
  },
  {
   "cell_type": "code",
   "execution_count": 17,
   "id": "607a8652",
   "metadata": {},
   "outputs": [
    {
     "data": {
      "text/plain": [
       "RandomForestClassifier()"
      ]
     },
     "execution_count": 17,
     "metadata": {},
     "output_type": "execute_result"
    },
    {
     "data": {
      "text/plain": [
       "0.8043810036807613"
      ]
     },
     "execution_count": 17,
     "metadata": {},
     "output_type": "execute_result"
    },
    {
     "name": "stdout",
     "output_type": "stream",
     "text": [
      "confusion_matrix : \n",
      " [[6046  981]\n",
      " [1198 2914]]\n"
     ]
    },
    {
     "data": {
      "text/plain": [
       "<AxesSubplot:title={'center':'Confusion Matrix'}, xlabel='Predicted label', ylabel='True label'>"
      ]
     },
     "execution_count": 17,
     "metadata": {},
     "output_type": "execute_result"
    },
    {
     "data": {
      "image/png": "[encoded data removed]",
      "text/plain": [
       "<Figure size 576x432 with 2 Axes>"
      ]
     },
     "metadata": {
      "needs_background": "light"
     },
     "output_type": "display_data"
    },
    {
     "name": "stdout",
     "output_type": "stream",
     "text": [
      "리포트:\n",
      "               precision    recall  f1-score   support\n",
      "\n",
      "         0.0       0.83      0.86      0.85      7027\n",
      "         1.0       0.75      0.71      0.73      4112\n",
      "\n",
      "    accuracy                           0.80     11139\n",
      "   macro avg       0.79      0.78      0.79     11139\n",
      "weighted avg       0.80      0.80      0.80     11139\n",
      "\n"
     ]
    }
   ],
   "source": [
    "# StandardScaler \n",
    "\n",
    "from sklearn.ensemble import RandomForestClassifier\n",
    "from sklearn.metrics import accuracy_score\n",
    "\n",
    "model = RandomForestClassifier()\n",
    "model.fit(x_train_std,y_train)\n",
    "\n",
    "pred = model.predict(x_test_std)\n",
    "acc = accuracy_score(y_test,pred)\n",
    "acc\n",
    "\n",
    "from sklearn.metrics import confusion_matrix\n",
    "import scikitplot as skplt\n",
    "\n",
    "pred = model.predict(x_test_std)\n",
    "# 실제 , 예측\n",
    "cm = confusion_matrix(y_test, pred)\n",
    "print('confusion_matrix : \\n', cm)\n",
    "\n",
    "skplt.metrics.plot_confusion_matrix(y_test,pred,figsize=(8,6))\n",
    "plt.show()\n",
    "\n",
    "cl_report = metrics.classification_report(y_test,pred)\n",
    "print('리포트:\\n',cl_report)"
   ]
  },
  {
   "cell_type": "code",
   "execution_count": 18,
   "id": "03842c72",
   "metadata": {},
   "outputs": [
    {
     "data": {
      "text/plain": [
       "RandomForestClassifier()"
      ]
     },
     "execution_count": 18,
     "metadata": {},
     "output_type": "execute_result"
    },
    {
     "data": {
      "text/plain": [
       "0.8045605530119401"
      ]
     },
     "execution_count": 18,
     "metadata": {},
     "output_type": "execute_result"
    },
    {
     "name": "stdout",
     "output_type": "stream",
     "text": [
      "confusion_matrix : \n",
      " [[6062  965]\n",
      " [1212 2900]]\n"
     ]
    },
    {
     "data": {
      "text/plain": [
       "<AxesSubplot:title={'center':'Confusion Matrix'}, xlabel='Predicted label', ylabel='True label'>"
      ]
     },
     "execution_count": 18,
     "metadata": {},
     "output_type": "execute_result"
    },
    {
     "data": {
      "image/png": "[encoded data removed]",
      "text/plain": [
       "<Figure size 576x432 with 2 Axes>"
      ]
     },
     "metadata": {
      "needs_background": "light"
     },
     "output_type": "display_data"
    },
    {
     "name": "stdout",
     "output_type": "stream",
     "text": [
      "리포트:\n",
      "               precision    recall  f1-score   support\n",
      "\n",
      "         0.0       0.83      0.86      0.85      7027\n",
      "         1.0       0.75      0.71      0.73      4112\n",
      "\n",
      "    accuracy                           0.80     11139\n",
      "   macro avg       0.79      0.78      0.79     11139\n",
      "weighted avg       0.80      0.80      0.80     11139\n",
      "\n"
     ]
    }
   ],
   "source": [
    "# MinMaxScaler \n",
    "\n",
    "from sklearn.ensemble import RandomForestClassifier\n",
    "from sklearn.metrics import accuracy_score\n",
    "\n",
    "model = RandomForestClassifier()\n",
    "model.fit(x_train_t,y_train)\n",
    "\n",
    "pred = model.predict(x_test_t)\n",
    "acc = accuracy_score(y_test,pred)\n",
    "acc\n",
    "\n",
    "from sklearn.metrics import confusion_matrix\n",
    "import scikitplot as skplt\n",
    "\n",
    "pred = model.predict(x_test_t)\n",
    "# 실제 , 예측\n",
    "cm = confusion_matrix(y_test, pred)\n",
    "print('confusion_matrix : \\n', cm)\n",
    "\n",
    "skplt.metrics.plot_confusion_matrix(y_test,pred,figsize=(8,6))\n",
    "plt.show()\n",
    "\n",
    "cl_report = metrics.classification_report(y_test,pred)\n",
    "print('리포트:\\n',cl_report)"
   ]
  },
  {
   "cell_type": "code",
   "execution_count": 19,
   "id": "c03e6a8b",
   "metadata": {},
   "outputs": [
    {
     "data": {
      "text/plain": [
       "RandomForestClassifier()"
      ]
     },
     "execution_count": 19,
     "metadata": {},
     "output_type": "execute_result"
    },
    {
     "data": {
      "text/plain": [
       "0.8071640183140317"
      ]
     },
     "execution_count": 19,
     "metadata": {},
     "output_type": "execute_result"
    },
    {
     "name": "stdout",
     "output_type": "stream",
     "text": [
      "confusion_matrix : \n",
      " [[6084  943]\n",
      " [1205 2907]]\n"
     ]
    },
    {
     "data": {
      "text/plain": [
       "<AxesSubplot:title={'center':'Confusion Matrix'}, xlabel='Predicted label', ylabel='True label'>"
      ]
     },
     "execution_count": 19,
     "metadata": {},
     "output_type": "execute_result"
    },
    {
     "data": {
      "image/png": "[encoded data removed]",
      "text/plain": [
       "<Figure size 576x432 with 2 Axes>"
      ]
     },
     "metadata": {
      "needs_background": "light"
     },
     "output_type": "display_data"
    },
    {
     "name": "stdout",
     "output_type": "stream",
     "text": [
      "리포트:\n",
      "               precision    recall  f1-score   support\n",
      "\n",
      "         0.0       0.83      0.87      0.85      7027\n",
      "         1.0       0.76      0.71      0.73      4112\n",
      "\n",
      "    accuracy                           0.81     11139\n",
      "   macro avg       0.79      0.79      0.79     11139\n",
      "weighted avg       0.81      0.81      0.81     11139\n",
      "\n"
     ]
    }
   ],
   "source": [
    "#Robust Scaler : 정확도 가장 높음\n",
    "\n",
    "from sklearn.ensemble import RandomForestClassifier\n",
    "from sklearn.metrics import accuracy_score\n",
    "\n",
    "model = RandomForestClassifier()\n",
    "model.fit(x_train_r,y_train)\n",
    "\n",
    "pred = model.predict(x_test_r)\n",
    "acc = accuracy_score(y_test,pred)\n",
    "acc\n",
    "\n",
    "from sklearn.metrics import confusion_matrix\n",
    "import scikitplot as skplt\n",
    "\n",
    "pred = model.predict(x_test_r)\n",
    "# 실제 , 예측\n",
    "cm = confusion_matrix(y_test, pred)\n",
    "print('confusion_matrix : \\n', cm)\n",
    "\n",
    "skplt.metrics.plot_confusion_matrix(y_test,pred,figsize=(8,6))\n",
    "plt.show()\n",
    "\n",
    "cl_report = metrics.classification_report(y_test,pred)\n",
    "print('리포트:\\n',cl_report)"
   ]
  },
  {
   "cell_type": "markdown",
   "id": "e2a703d5",
   "metadata": {},
   "source": [
    "### XGBoost"
   ]
  },
  {
   "cell_type": "code",
   "execution_count": 22,
   "id": "b0927eb3",
   "metadata": {},
   "outputs": [
    {
     "name": "stdout",
     "output_type": "stream",
     "text": [
      "[0]\tvalidation_0-logloss:0.62106\n",
      "[1]\tvalidation_0-logloss:0.58149\n",
      "[2]\tvalidation_0-logloss:0.55816\n",
      "[3]\tvalidation_0-logloss:0.54366\n",
      "[4]\tvalidation_0-logloss:0.53467\n",
      "[5]\tvalidation_0-logloss:0.52842\n",
      "[6]\tvalidation_0-logloss:0.52410\n",
      "[7]\tvalidation_0-logloss:0.52137\n",
      "[8]\tvalidation_0-logloss:0.51928\n",
      "[9]\tvalidation_0-logloss:0.51768\n",
      "[10]\tvalidation_0-logloss:0.51671\n",
      "[11]\tvalidation_0-logloss:0.51613\n",
      "[12]\tvalidation_0-logloss:0.51547\n",
      "[13]\tvalidation_0-logloss:0.51476\n",
      "[14]\tvalidation_0-logloss:0.51476\n",
      "[15]\tvalidation_0-logloss:0.51457\n",
      "[16]\tvalidation_0-logloss:0.51379\n",
      "[17]\tvalidation_0-logloss:0.51322\n",
      "[18]\tvalidation_0-logloss:0.51321\n",
      "[19]\tvalidation_0-logloss:0.51305\n",
      "[20]\tvalidation_0-logloss:0.51332\n",
      "[21]\tvalidation_0-logloss:0.51326\n",
      "[22]\tvalidation_0-logloss:0.51348\n",
      "[23]\tvalidation_0-logloss:0.51339\n",
      "[24]\tvalidation_0-logloss:0.51333\n",
      "[25]\tvalidation_0-logloss:0.51313\n",
      "[26]\tvalidation_0-logloss:0.51318\n",
      "[27]\tvalidation_0-logloss:0.51328\n",
      "[28]\tvalidation_0-logloss:0.51304\n",
      "[29]\tvalidation_0-logloss:0.51289\n",
      "[30]\tvalidation_0-logloss:0.51280\n",
      "[31]\tvalidation_0-logloss:0.51244\n",
      "[32]\tvalidation_0-logloss:0.51223\n",
      "[33]\tvalidation_0-logloss:0.51195\n",
      "[34]\tvalidation_0-logloss:0.51180\n",
      "[35]\tvalidation_0-logloss:0.51179\n",
      "[36]\tvalidation_0-logloss:0.51177\n",
      "[37]\tvalidation_0-logloss:0.51165\n",
      "[38]\tvalidation_0-logloss:0.51149\n",
      "[39]\tvalidation_0-logloss:0.51105\n",
      "[40]\tvalidation_0-logloss:0.51099\n",
      "[41]\tvalidation_0-logloss:0.51094\n",
      "[42]\tvalidation_0-logloss:0.51097\n",
      "[43]\tvalidation_0-logloss:0.51095\n",
      "[44]\tvalidation_0-logloss:0.51103\n",
      "[45]\tvalidation_0-logloss:0.51103\n",
      "[46]\tvalidation_0-logloss:0.51083\n",
      "[47]\tvalidation_0-logloss:0.51038\n",
      "[48]\tvalidation_0-logloss:0.51014\n",
      "[49]\tvalidation_0-logloss:0.51002\n",
      "[50]\tvalidation_0-logloss:0.50997\n",
      "[51]\tvalidation_0-logloss:0.50983\n",
      "[52]\tvalidation_0-logloss:0.50985\n",
      "[53]\tvalidation_0-logloss:0.50969\n",
      "[54]\tvalidation_0-logloss:0.50945\n",
      "[55]\tvalidation_0-logloss:0.50942\n",
      "[56]\tvalidation_0-logloss:0.50942\n",
      "[57]\tvalidation_0-logloss:0.50908\n",
      "[58]\tvalidation_0-logloss:0.50908\n",
      "[59]\tvalidation_0-logloss:0.50886\n",
      "[60]\tvalidation_0-logloss:0.50893\n",
      "[61]\tvalidation_0-logloss:0.50911\n",
      "[62]\tvalidation_0-logloss:0.50865\n",
      "[63]\tvalidation_0-logloss:0.50827\n",
      "[64]\tvalidation_0-logloss:0.50815\n",
      "[65]\tvalidation_0-logloss:0.50741\n",
      "[66]\tvalidation_0-logloss:0.50755\n",
      "[67]\tvalidation_0-logloss:0.50746\n",
      "[68]\tvalidation_0-logloss:0.50685\n",
      "[69]\tvalidation_0-logloss:0.50666\n",
      "[70]\tvalidation_0-logloss:0.50638\n",
      "[71]\tvalidation_0-logloss:0.50585\n",
      "[72]\tvalidation_0-logloss:0.50602\n",
      "[73]\tvalidation_0-logloss:0.50594\n",
      "[74]\tvalidation_0-logloss:0.50601\n",
      "[75]\tvalidation_0-logloss:0.50623\n",
      "[76]\tvalidation_0-logloss:0.50620\n",
      "[77]\tvalidation_0-logloss:0.50618\n",
      "[78]\tvalidation_0-logloss:0.50594\n",
      "[79]\tvalidation_0-logloss:0.50562\n",
      "[80]\tvalidation_0-logloss:0.50540\n",
      "[81]\tvalidation_0-logloss:0.50539\n",
      "[82]\tvalidation_0-logloss:0.50507\n",
      "[83]\tvalidation_0-logloss:0.50479\n",
      "[84]\tvalidation_0-logloss:0.50454\n",
      "[85]\tvalidation_0-logloss:0.50438\n",
      "[86]\tvalidation_0-logloss:0.50406\n",
      "[87]\tvalidation_0-logloss:0.50366\n",
      "[88]\tvalidation_0-logloss:0.50371\n",
      "[89]\tvalidation_0-logloss:0.50340\n",
      "[90]\tvalidation_0-logloss:0.50339\n",
      "[91]\tvalidation_0-logloss:0.50306\n",
      "[92]\tvalidation_0-logloss:0.50296\n",
      "[93]\tvalidation_0-logloss:0.50292\n",
      "[94]\tvalidation_0-logloss:0.50298\n",
      "[95]\tvalidation_0-logloss:0.50299\n",
      "[96]\tvalidation_0-logloss:0.50285\n",
      "[97]\tvalidation_0-logloss:0.50287\n",
      "[98]\tvalidation_0-logloss:0.50298\n",
      "[99]\tvalidation_0-logloss:0.50297\n"
     ]
    },
    {
     "data": {
      "text/plain": [
       "XGBClassifier(base_score=0.5, booster='gbtree', callbacks=None,\n",
       "              colsample_bylevel=1, colsample_bynode=1, colsample_bytree=1,\n",
       "              early_stopping_rounds=10, enable_categorical=False,\n",
       "              eval_metric=None, feature_types=None, gamma=0, gpu_id=-1,\n",
       "              grow_policy='depthwise', importance_type=None,\n",
       "              interaction_constraints='', learning_rate=0.300000012,\n",
       "              max_bin=256, max_cat_threshold=64, max_cat_to_onehot=4,\n",
       "              max_delta_step=0, max_depth=6, max_leaves=0, min_child_weight=1,\n",
       "              missing=nan, monotone_constraints='()', n_estimators=100,\n",
       "              n_jobs=0, num_parallel_tree=1, predictor='auto', random_state=0, ...)"
      ]
     },
     "execution_count": 22,
     "metadata": {},
     "output_type": "execute_result"
    },
    {
     "data": {
      "text/plain": [
       "0.73893527246611"
      ]
     },
     "execution_count": 22,
     "metadata": {},
     "output_type": "execute_result"
    },
    {
     "name": "stdout",
     "output_type": "stream",
     "text": [
      "confusion_matrix : \n",
      " [[5690 1337]\n",
      " [1571 2541]]\n"
     ]
    },
    {
     "data": {
      "text/plain": [
       "<AxesSubplot:title={'center':'Confusion Matrix'}, xlabel='Predicted label', ylabel='True label'>"
      ]
     },
     "execution_count": 22,
     "metadata": {},
     "output_type": "execute_result"
    },
    {
     "data": {
      "image/png": "[encoded data removed]",
      "text/plain": [
       "<Figure size 576x432 with 2 Axes>"
      ]
     },
     "metadata": {
      "needs_background": "light"
     },
     "output_type": "display_data"
    },
    {
     "name": "stdout",
     "output_type": "stream",
     "text": [
      "리포트:\n",
      "               precision    recall  f1-score   support\n",
      "\n",
      "         0.0       0.78      0.81      0.80      7027\n",
      "         1.0       0.66      0.62      0.64      4112\n",
      "\n",
      "    accuracy                           0.74     11139\n",
      "   macro avg       0.72      0.71      0.72     11139\n",
      "weighted avg       0.74      0.74      0.74     11139\n",
      "\n"
     ]
    }
   ],
   "source": [
    "# 스케일링 안했을 때\n",
    "\n",
    "import xgboost as xgb\n",
    "import pandas as pd\n",
    "import seaborn as sns\n",
    "from xgboost import XGBClassifier\n",
    "from sklearn.metrics import accuracy_score\n",
    "\n",
    "model = xgb.XGBClassifier(early_stopping_rounds=10)\n",
    "eval_set = [(X_test, y_test)]\n",
    "model.fit(X_train, y_train, eval_set=eval_set)#, verbose=True\n",
    "\n",
    "pred = model.predict(X_test)\n",
    "acc = accuracy_score(y_test,pred)\n",
    "acc\n",
    "\n",
    "from sklearn.metrics import confusion_matrix\n",
    "import scikitplot as skplt\n",
    "\n",
    "pred = model.predict(X_test)\n",
    "# 실제 , 예측\n",
    "cm = confusion_matrix(y_test, pred)\n",
    "print('confusion_matrix : \\n', cm)\n",
    "\n",
    "skplt.metrics.plot_confusion_matrix(y_test,pred,figsize=(8,6))\n",
    "plt.show()\n",
    "\n",
    "cl_report = metrics.classification_report(y_test,pred)\n",
    "print('리포트:\\n',cl_report)"
   ]
  },
  {
   "cell_type": "code",
   "execution_count": 24,
   "id": "8f775d99",
   "metadata": {},
   "outputs": [
    {
     "name": "stdout",
     "output_type": "stream",
     "text": [
      "[0]\tvalidation_0-logloss:0.62106\n",
      "[1]\tvalidation_0-logloss:0.58147\n",
      "[2]\tvalidation_0-logloss:0.55814\n",
      "[3]\tvalidation_0-logloss:0.54364\n",
      "[4]\tvalidation_0-logloss:0.53465\n",
      "[5]\tvalidation_0-logloss:0.52841\n",
      "[6]\tvalidation_0-logloss:0.52408\n",
      "[7]\tvalidation_0-logloss:0.52136\n",
      "[8]\tvalidation_0-logloss:0.51926\n",
      "[9]\tvalidation_0-logloss:0.51765\n",
      "[10]\tvalidation_0-logloss:0.51669\n",
      "[11]\tvalidation_0-logloss:0.51611\n",
      "[12]\tvalidation_0-logloss:0.51545\n",
      "[13]\tvalidation_0-logloss:0.51474\n",
      "[14]\tvalidation_0-logloss:0.51474\n",
      "[15]\tvalidation_0-logloss:0.51455\n",
      "[16]\tvalidation_0-logloss:0.51377\n",
      "[17]\tvalidation_0-logloss:0.51320\n",
      "[18]\tvalidation_0-logloss:0.51319\n",
      "[19]\tvalidation_0-logloss:0.51303\n",
      "[20]\tvalidation_0-logloss:0.51330\n",
      "[21]\tvalidation_0-logloss:0.51324\n",
      "[22]\tvalidation_0-logloss:0.51346\n",
      "[23]\tvalidation_0-logloss:0.51337\n",
      "[24]\tvalidation_0-logloss:0.51331\n",
      "[25]\tvalidation_0-logloss:0.51311\n",
      "[26]\tvalidation_0-logloss:0.51316\n",
      "[27]\tvalidation_0-logloss:0.51325\n",
      "[28]\tvalidation_0-logloss:0.51302\n",
      "[29]\tvalidation_0-logloss:0.51287\n",
      "[30]\tvalidation_0-logloss:0.51278\n",
      "[31]\tvalidation_0-logloss:0.51242\n",
      "[32]\tvalidation_0-logloss:0.51221\n",
      "[33]\tvalidation_0-logloss:0.51193\n",
      "[34]\tvalidation_0-logloss:0.51178\n",
      "[35]\tvalidation_0-logloss:0.51177\n",
      "[36]\tvalidation_0-logloss:0.51174\n",
      "[37]\tvalidation_0-logloss:0.51163\n",
      "[38]\tvalidation_0-logloss:0.51147\n",
      "[39]\tvalidation_0-logloss:0.51103\n",
      "[40]\tvalidation_0-logloss:0.51097\n",
      "[41]\tvalidation_0-logloss:0.51092\n",
      "[42]\tvalidation_0-logloss:0.51095\n",
      "[43]\tvalidation_0-logloss:0.51093\n",
      "[44]\tvalidation_0-logloss:0.51100\n",
      "[45]\tvalidation_0-logloss:0.51101\n",
      "[46]\tvalidation_0-logloss:0.51081\n",
      "[47]\tvalidation_0-logloss:0.51036\n",
      "[48]\tvalidation_0-logloss:0.51012\n",
      "[49]\tvalidation_0-logloss:0.51000\n",
      "[50]\tvalidation_0-logloss:0.50994\n",
      "[51]\tvalidation_0-logloss:0.50981\n",
      "[52]\tvalidation_0-logloss:0.50983\n",
      "[53]\tvalidation_0-logloss:0.50967\n",
      "[54]\tvalidation_0-logloss:0.50942\n",
      "[55]\tvalidation_0-logloss:0.50940\n",
      "[56]\tvalidation_0-logloss:0.50940\n",
      "[57]\tvalidation_0-logloss:0.50906\n",
      "[58]\tvalidation_0-logloss:0.50906\n",
      "[59]\tvalidation_0-logloss:0.50884\n",
      "[60]\tvalidation_0-logloss:0.50891\n",
      "[61]\tvalidation_0-logloss:0.50908\n",
      "[62]\tvalidation_0-logloss:0.50862\n",
      "[63]\tvalidation_0-logloss:0.50825\n",
      "[64]\tvalidation_0-logloss:0.50813\n",
      "[65]\tvalidation_0-logloss:0.50738\n",
      "[66]\tvalidation_0-logloss:0.50752\n",
      "[67]\tvalidation_0-logloss:0.50745\n",
      "[68]\tvalidation_0-logloss:0.50684\n",
      "[69]\tvalidation_0-logloss:0.50665\n",
      "[70]\tvalidation_0-logloss:0.50637\n",
      "[71]\tvalidation_0-logloss:0.50584\n",
      "[72]\tvalidation_0-logloss:0.50601\n",
      "[73]\tvalidation_0-logloss:0.50593\n",
      "[74]\tvalidation_0-logloss:0.50600\n",
      "[75]\tvalidation_0-logloss:0.50622\n",
      "[76]\tvalidation_0-logloss:0.50618\n",
      "[77]\tvalidation_0-logloss:0.50617\n",
      "[78]\tvalidation_0-logloss:0.50592\n",
      "[79]\tvalidation_0-logloss:0.50560\n",
      "[80]\tvalidation_0-logloss:0.50542\n",
      "[81]\tvalidation_0-logloss:0.50540\n",
      "[82]\tvalidation_0-logloss:0.50508\n",
      "[83]\tvalidation_0-logloss:0.50480\n",
      "[84]\tvalidation_0-logloss:0.50455\n",
      "[85]\tvalidation_0-logloss:0.50439\n",
      "[86]\tvalidation_0-logloss:0.50407\n",
      "[87]\tvalidation_0-logloss:0.50367\n",
      "[88]\tvalidation_0-logloss:0.50371\n",
      "[89]\tvalidation_0-logloss:0.50340\n",
      "[90]\tvalidation_0-logloss:0.50339\n",
      "[91]\tvalidation_0-logloss:0.50307\n",
      "[92]\tvalidation_0-logloss:0.50293\n",
      "[93]\tvalidation_0-logloss:0.50290\n",
      "[94]\tvalidation_0-logloss:0.50296\n",
      "[95]\tvalidation_0-logloss:0.50297\n",
      "[96]\tvalidation_0-logloss:0.50283\n",
      "[97]\tvalidation_0-logloss:0.50285\n",
      "[98]\tvalidation_0-logloss:0.50296\n",
      "[99]\tvalidation_0-logloss:0.50295\n"
     ]
    },
    {
     "data": {
      "text/plain": [
       "XGBClassifier(base_score=0.5, booster='gbtree', callbacks=None,\n",
       "              colsample_bylevel=1, colsample_bynode=1, colsample_bytree=1,\n",
       "              early_stopping_rounds=10, enable_categorical=False,\n",
       "              eval_metric=None, feature_types=None, gamma=0, gpu_id=-1,\n",
       "              grow_policy='depthwise', importance_type=None,\n",
       "              interaction_constraints='', learning_rate=0.300000012,\n",
       "              max_bin=256, max_cat_threshold=64, max_cat_to_onehot=4,\n",
       "              max_delta_step=0, max_depth=6, max_leaves=0, min_child_weight=1,\n",
       "              missing=nan, monotone_constraints='()', n_estimators=100,\n",
       "              n_jobs=0, num_parallel_tree=1, predictor='auto', random_state=0, ...)"
      ]
     },
     "execution_count": 24,
     "metadata": {},
     "output_type": "execute_result"
    },
    {
     "data": {
      "text/plain": [
       "0.73893527246611"
      ]
     },
     "execution_count": 24,
     "metadata": {},
     "output_type": "execute_result"
    },
    {
     "name": "stdout",
     "output_type": "stream",
     "text": [
      "confusion_matrix : \n",
      " [[5690 1337]\n",
      " [1571 2541]]\n"
     ]
    },
    {
     "data": {
      "text/plain": [
       "<AxesSubplot:title={'center':'Confusion Matrix'}, xlabel='Predicted label', ylabel='True label'>"
      ]
     },
     "execution_count": 24,
     "metadata": {},
     "output_type": "execute_result"
    },
    {
     "data": {
      "image/png": "[encoded data removed]",
      "text/plain": [
       "<Figure size 576x432 with 2 Axes>"
      ]
     },
     "metadata": {
      "needs_background": "light"
     },
     "output_type": "display_data"
    },
    {
     "name": "stdout",
     "output_type": "stream",
     "text": [
      "리포트:\n",
      "               precision    recall  f1-score   support\n",
      "\n",
      "         0.0       0.78      0.81      0.80      7027\n",
      "         1.0       0.66      0.62      0.64      4112\n",
      "\n",
      "    accuracy                           0.74     11139\n",
      "   macro avg       0.72      0.71      0.72     11139\n",
      "weighted avg       0.74      0.74      0.74     11139\n",
      "\n"
     ]
    }
   ],
   "source": [
    "# StandardScaler : 차이 없음\n",
    "\n",
    "model = xgb.XGBClassifier(early_stopping_rounds=10)\n",
    "eval_set = [(x_test_std, y_test)]\n",
    "model.fit(x_train_std, y_train, eval_set=eval_set)#, verbose=True\n",
    "\n",
    "pred = model.predict(x_test_std)\n",
    "acc = accuracy_score(y_test,pred)\n",
    "acc\n",
    "\n",
    "from sklearn.metrics import confusion_matrix\n",
    "import scikitplot as skplt\n",
    "\n",
    "pred = model.predict(x_test_std)\n",
    "# 실제 , 예측\n",
    "cm = confusion_matrix(y_test, pred)\n",
    "print('confusion_matrix : \\n', cm)\n",
    "\n",
    "skplt.metrics.plot_confusion_matrix(y_test,pred,figsize=(8,6))\n",
    "plt.show()\n",
    "\n",
    "cl_report = metrics.classification_report(y_test,pred)\n",
    "print('리포트:\\n',cl_report)"
   ]
  },
  {
   "cell_type": "code",
   "execution_count": 27,
   "id": "48974acc",
   "metadata": {},
   "outputs": [
    {
     "name": "stdout",
     "output_type": "stream",
     "text": [
      "[0]\tvalidation_0-logloss:0.62106\n",
      "[1]\tvalidation_0-logloss:0.58149\n",
      "[2]\tvalidation_0-logloss:0.55816\n",
      "[3]\tvalidation_0-logloss:0.54366\n",
      "[4]\tvalidation_0-logloss:0.53467\n",
      "[5]\tvalidation_0-logloss:0.52842\n",
      "[6]\tvalidation_0-logloss:0.52410\n",
      "[7]\tvalidation_0-logloss:0.52137\n",
      "[8]\tvalidation_0-logloss:0.51928\n",
      "[9]\tvalidation_0-logloss:0.51768\n",
      "[10]\tvalidation_0-logloss:0.51671\n",
      "[11]\tvalidation_0-logloss:0.51613\n",
      "[12]\tvalidation_0-logloss:0.51547\n",
      "[13]\tvalidation_0-logloss:0.51476\n",
      "[14]\tvalidation_0-logloss:0.51476\n",
      "[15]\tvalidation_0-logloss:0.51457\n",
      "[16]\tvalidation_0-logloss:0.51379\n",
      "[17]\tvalidation_0-logloss:0.51322\n",
      "[18]\tvalidation_0-logloss:0.51321\n",
      "[19]\tvalidation_0-logloss:0.51305\n",
      "[20]\tvalidation_0-logloss:0.51332\n",
      "[21]\tvalidation_0-logloss:0.51326\n",
      "[22]\tvalidation_0-logloss:0.51348\n",
      "[23]\tvalidation_0-logloss:0.51339\n",
      "[24]\tvalidation_0-logloss:0.51333\n",
      "[25]\tvalidation_0-logloss:0.51313\n",
      "[26]\tvalidation_0-logloss:0.51318\n",
      "[27]\tvalidation_0-logloss:0.51328\n",
      "[28]\tvalidation_0-logloss:0.51304\n",
      "[29]\tvalidation_0-logloss:0.51289\n",
      "[30]\tvalidation_0-logloss:0.51280\n",
      "[31]\tvalidation_0-logloss:0.51244\n",
      "[32]\tvalidation_0-logloss:0.51223\n",
      "[33]\tvalidation_0-logloss:0.51195\n",
      "[34]\tvalidation_0-logloss:0.51180\n",
      "[35]\tvalidation_0-logloss:0.51179\n",
      "[36]\tvalidation_0-logloss:0.51177\n",
      "[37]\tvalidation_0-logloss:0.51165\n",
      "[38]\tvalidation_0-logloss:0.51149\n",
      "[39]\tvalidation_0-logloss:0.51105\n",
      "[40]\tvalidation_0-logloss:0.51099\n",
      "[41]\tvalidation_0-logloss:0.51094\n",
      "[42]\tvalidation_0-logloss:0.51097\n",
      "[43]\tvalidation_0-logloss:0.51095\n",
      "[44]\tvalidation_0-logloss:0.51103\n",
      "[45]\tvalidation_0-logloss:0.51103\n",
      "[46]\tvalidation_0-logloss:0.51083\n",
      "[47]\tvalidation_0-logloss:0.51037\n",
      "[48]\tvalidation_0-logloss:0.51013\n",
      "[49]\tvalidation_0-logloss:0.51001\n",
      "[50]\tvalidation_0-logloss:0.50996\n",
      "[51]\tvalidation_0-logloss:0.50979\n",
      "[52]\tvalidation_0-logloss:0.50982\n",
      "[53]\tvalidation_0-logloss:0.50966\n",
      "[54]\tvalidation_0-logloss:0.50941\n",
      "[55]\tvalidation_0-logloss:0.50939\n",
      "[56]\tvalidation_0-logloss:0.50939\n",
      "[57]\tvalidation_0-logloss:0.50904\n",
      "[58]\tvalidation_0-logloss:0.50905\n",
      "[59]\tvalidation_0-logloss:0.50883\n",
      "[60]\tvalidation_0-logloss:0.50889\n",
      "[61]\tvalidation_0-logloss:0.50907\n",
      "[62]\tvalidation_0-logloss:0.50861\n",
      "[63]\tvalidation_0-logloss:0.50823\n",
      "[64]\tvalidation_0-logloss:0.50811\n",
      "[65]\tvalidation_0-logloss:0.50737\n",
      "[66]\tvalidation_0-logloss:0.50751\n",
      "[67]\tvalidation_0-logloss:0.50742\n",
      "[68]\tvalidation_0-logloss:0.50681\n",
      "[69]\tvalidation_0-logloss:0.50661\n",
      "[70]\tvalidation_0-logloss:0.50634\n",
      "[71]\tvalidation_0-logloss:0.50580\n",
      "[72]\tvalidation_0-logloss:0.50598\n",
      "[73]\tvalidation_0-logloss:0.50590\n",
      "[74]\tvalidation_0-logloss:0.50597\n",
      "[75]\tvalidation_0-logloss:0.50619\n",
      "[76]\tvalidation_0-logloss:0.50615\n",
      "[77]\tvalidation_0-logloss:0.50614\n",
      "[78]\tvalidation_0-logloss:0.50589\n",
      "[79]\tvalidation_0-logloss:0.50557\n",
      "[80]\tvalidation_0-logloss:0.50536\n",
      "[81]\tvalidation_0-logloss:0.50534\n",
      "[82]\tvalidation_0-logloss:0.50502\n",
      "[83]\tvalidation_0-logloss:0.50474\n",
      "[84]\tvalidation_0-logloss:0.50449\n",
      "[85]\tvalidation_0-logloss:0.50433\n",
      "[86]\tvalidation_0-logloss:0.50401\n",
      "[87]\tvalidation_0-logloss:0.50361\n",
      "[88]\tvalidation_0-logloss:0.50366\n",
      "[89]\tvalidation_0-logloss:0.50333\n",
      "[90]\tvalidation_0-logloss:0.50332\n",
      "[91]\tvalidation_0-logloss:0.50300\n",
      "[92]\tvalidation_0-logloss:0.50289\n",
      "[93]\tvalidation_0-logloss:0.50286\n",
      "[94]\tvalidation_0-logloss:0.50292\n",
      "[95]\tvalidation_0-logloss:0.50292\n",
      "[96]\tvalidation_0-logloss:0.50279\n",
      "[97]\tvalidation_0-logloss:0.50281\n",
      "[98]\tvalidation_0-logloss:0.50293\n",
      "[99]\tvalidation_0-logloss:0.50291\n"
     ]
    },
    {
     "data": {
      "text/plain": [
       "XGBClassifier(base_score=0.5, booster='gbtree', callbacks=None,\n",
       "              colsample_bylevel=1, colsample_bynode=1, colsample_bytree=1,\n",
       "              early_stopping_rounds=10, enable_categorical=False,\n",
       "              eval_metric=None, feature_types=None, gamma=0, gpu_id=-1,\n",
       "              grow_policy='depthwise', importance_type=None,\n",
       "              interaction_constraints='', learning_rate=0.300000012,\n",
       "              max_bin=256, max_cat_threshold=64, max_cat_to_onehot=4,\n",
       "              max_delta_step=0, max_depth=6, max_leaves=0, min_child_weight=1,\n",
       "              missing=nan, monotone_constraints='()', n_estimators=100,\n",
       "              n_jobs=0, num_parallel_tree=1, predictor='auto', random_state=0, ...)"
      ]
     },
     "execution_count": 27,
     "metadata": {},
     "output_type": "execute_result"
    },
    {
     "data": {
      "text/plain": [
       "0.7388454978005207"
      ]
     },
     "execution_count": 27,
     "metadata": {},
     "output_type": "execute_result"
    },
    {
     "name": "stdout",
     "output_type": "stream",
     "text": [
      "confusion_matrix : \n",
      " [[5689 1338]\n",
      " [1571 2541]]\n"
     ]
    },
    {
     "data": {
      "text/plain": [
       "<AxesSubplot:title={'center':'Confusion Matrix'}, xlabel='Predicted label', ylabel='True label'>"
      ]
     },
     "execution_count": 27,
     "metadata": {},
     "output_type": "execute_result"
    },
    {
     "data": {
      "image/png": "[encoded data removed]",
      "text/plain": [
       "<Figure size 576x432 with 2 Axes>"
      ]
     },
     "metadata": {
      "needs_background": "light"
     },
     "output_type": "display_data"
    },
    {
     "name": "stdout",
     "output_type": "stream",
     "text": [
      "리포트:\n",
      "               precision    recall  f1-score   support\n",
      "\n",
      "         0.0       0.78      0.81      0.80      7027\n",
      "         1.0       0.66      0.62      0.64      4112\n",
      "\n",
      "    accuracy                           0.74     11139\n",
      "   macro avg       0.72      0.71      0.72     11139\n",
      "weighted avg       0.74      0.74      0.74     11139\n",
      "\n"
     ]
    }
   ],
   "source": [
    "# MinMaxScaler : 오히려 떨어짐\n",
    "\n",
    "model = xgb.XGBClassifier(early_stopping_rounds=10)\n",
    "eval_set = [(x_test_t, y_test)]\n",
    "model.fit(x_train_t, y_train, eval_set=eval_set)#, verbose=True\n",
    "\n",
    "pred = model.predict(x_test_t)\n",
    "acc = accuracy_score(y_test,pred)\n",
    "acc\n",
    "\n",
    "from sklearn.metrics import confusion_matrix\n",
    "import scikitplot as skplt\n",
    "\n",
    "pred = model.predict(x_test_t)\n",
    "# 실제 , 예측\n",
    "cm = confusion_matrix(y_test, pred)\n",
    "print('confusion_matrix : \\n', cm)\n",
    "\n",
    "skplt.metrics.plot_confusion_matrix(y_test,pred,figsize=(8,6))\n",
    "plt.show()\n",
    "\n",
    "cl_report = metrics.classification_report(y_test,pred)\n",
    "print('리포트:\\n',cl_report)"
   ]
  },
  {
   "cell_type": "code",
   "execution_count": 26,
   "id": "82fd6151",
   "metadata": {},
   "outputs": [
    {
     "name": "stdout",
     "output_type": "stream",
     "text": [
      "[0]\tvalidation_0-logloss:0.62106\n",
      "[1]\tvalidation_0-logloss:0.58147\n",
      "[2]\tvalidation_0-logloss:0.55814\n",
      "[3]\tvalidation_0-logloss:0.54364\n",
      "[4]\tvalidation_0-logloss:0.53465\n",
      "[5]\tvalidation_0-logloss:0.52838\n",
      "[6]\tvalidation_0-logloss:0.52405\n",
      "[7]\tvalidation_0-logloss:0.52133\n",
      "[8]\tvalidation_0-logloss:0.51923\n",
      "[9]\tvalidation_0-logloss:0.51763\n",
      "[10]\tvalidation_0-logloss:0.51667\n",
      "[11]\tvalidation_0-logloss:0.51608\n",
      "[12]\tvalidation_0-logloss:0.51543\n",
      "[13]\tvalidation_0-logloss:0.51471\n",
      "[14]\tvalidation_0-logloss:0.51471\n",
      "[15]\tvalidation_0-logloss:0.51452\n",
      "[16]\tvalidation_0-logloss:0.51374\n",
      "[17]\tvalidation_0-logloss:0.51317\n",
      "[18]\tvalidation_0-logloss:0.51316\n",
      "[19]\tvalidation_0-logloss:0.51300\n",
      "[20]\tvalidation_0-logloss:0.51327\n",
      "[21]\tvalidation_0-logloss:0.51321\n",
      "[22]\tvalidation_0-logloss:0.51343\n",
      "[23]\tvalidation_0-logloss:0.51334\n",
      "[24]\tvalidation_0-logloss:0.51328\n",
      "[25]\tvalidation_0-logloss:0.51309\n",
      "[26]\tvalidation_0-logloss:0.51314\n",
      "[27]\tvalidation_0-logloss:0.51323\n",
      "[28]\tvalidation_0-logloss:0.51299\n",
      "[29]\tvalidation_0-logloss:0.51284\n",
      "[30]\tvalidation_0-logloss:0.51275\n",
      "[31]\tvalidation_0-logloss:0.51239\n",
      "[32]\tvalidation_0-logloss:0.51218\n",
      "[33]\tvalidation_0-logloss:0.51190\n",
      "[34]\tvalidation_0-logloss:0.51175\n",
      "[35]\tvalidation_0-logloss:0.51174\n",
      "[36]\tvalidation_0-logloss:0.51172\n",
      "[37]\tvalidation_0-logloss:0.51161\n",
      "[38]\tvalidation_0-logloss:0.51145\n",
      "[39]\tvalidation_0-logloss:0.51100\n",
      "[40]\tvalidation_0-logloss:0.51094\n",
      "[41]\tvalidation_0-logloss:0.51090\n",
      "[42]\tvalidation_0-logloss:0.51092\n",
      "[43]\tvalidation_0-logloss:0.51090\n",
      "[44]\tvalidation_0-logloss:0.51098\n",
      "[45]\tvalidation_0-logloss:0.51098\n",
      "[46]\tvalidation_0-logloss:0.51078\n",
      "[47]\tvalidation_0-logloss:0.51033\n",
      "[48]\tvalidation_0-logloss:0.51009\n",
      "[49]\tvalidation_0-logloss:0.50997\n",
      "[50]\tvalidation_0-logloss:0.50991\n",
      "[51]\tvalidation_0-logloss:0.50978\n",
      "[52]\tvalidation_0-logloss:0.50981\n",
      "[53]\tvalidation_0-logloss:0.50963\n",
      "[54]\tvalidation_0-logloss:0.50939\n",
      "[55]\tvalidation_0-logloss:0.50936\n",
      "[56]\tvalidation_0-logloss:0.50936\n",
      "[57]\tvalidation_0-logloss:0.50901\n",
      "[58]\tvalidation_0-logloss:0.50903\n",
      "[59]\tvalidation_0-logloss:0.50880\n",
      "[60]\tvalidation_0-logloss:0.50887\n",
      "[61]\tvalidation_0-logloss:0.50905\n",
      "[62]\tvalidation_0-logloss:0.50859\n",
      "[63]\tvalidation_0-logloss:0.50821\n",
      "[64]\tvalidation_0-logloss:0.50809\n",
      "[65]\tvalidation_0-logloss:0.50734\n",
      "[66]\tvalidation_0-logloss:0.50749\n",
      "[67]\tvalidation_0-logloss:0.50737\n",
      "[68]\tvalidation_0-logloss:0.50677\n",
      "[69]\tvalidation_0-logloss:0.50657\n",
      "[70]\tvalidation_0-logloss:0.50631\n",
      "[71]\tvalidation_0-logloss:0.50577\n",
      "[72]\tvalidation_0-logloss:0.50591\n",
      "[73]\tvalidation_0-logloss:0.50583\n",
      "[74]\tvalidation_0-logloss:0.50590\n",
      "[75]\tvalidation_0-logloss:0.50612\n",
      "[76]\tvalidation_0-logloss:0.50608\n",
      "[77]\tvalidation_0-logloss:0.50607\n",
      "[78]\tvalidation_0-logloss:0.50582\n",
      "[79]\tvalidation_0-logloss:0.50550\n",
      "[80]\tvalidation_0-logloss:0.50529\n",
      "[81]\tvalidation_0-logloss:0.50528\n",
      "[82]\tvalidation_0-logloss:0.50495\n",
      "[83]\tvalidation_0-logloss:0.50468\n",
      "[84]\tvalidation_0-logloss:0.50443\n",
      "[85]\tvalidation_0-logloss:0.50427\n",
      "[86]\tvalidation_0-logloss:0.50395\n",
      "[87]\tvalidation_0-logloss:0.50355\n",
      "[88]\tvalidation_0-logloss:0.50360\n",
      "[89]\tvalidation_0-logloss:0.50329\n",
      "[90]\tvalidation_0-logloss:0.50328\n",
      "[91]\tvalidation_0-logloss:0.50296\n",
      "[92]\tvalidation_0-logloss:0.50283\n",
      "[93]\tvalidation_0-logloss:0.50279\n",
      "[94]\tvalidation_0-logloss:0.50285\n",
      "[95]\tvalidation_0-logloss:0.50286\n",
      "[96]\tvalidation_0-logloss:0.50272\n",
      "[97]\tvalidation_0-logloss:0.50274\n",
      "[98]\tvalidation_0-logloss:0.50286\n",
      "[99]\tvalidation_0-logloss:0.50285\n"
     ]
    },
    {
     "data": {
      "text/plain": [
       "XGBClassifier(base_score=0.5, booster='gbtree', callbacks=None,\n",
       "              colsample_bylevel=1, colsample_bynode=1, colsample_bytree=1,\n",
       "              early_stopping_rounds=10, enable_categorical=False,\n",
       "              eval_metric=None, feature_types=None, gamma=0, gpu_id=-1,\n",
       "              grow_policy='depthwise', importance_type=None,\n",
       "              interaction_constraints='', learning_rate=0.300000012,\n",
       "              max_bin=256, max_cat_threshold=64, max_cat_to_onehot=4,\n",
       "              max_delta_step=0, max_depth=6, max_leaves=0, min_child_weight=1,\n",
       "              missing=nan, monotone_constraints='()', n_estimators=100,\n",
       "              n_jobs=0, num_parallel_tree=1, predictor='auto', random_state=0, ...)"
      ]
     },
     "execution_count": 26,
     "metadata": {},
     "output_type": "execute_result"
    },
    {
     "data": {
      "text/plain": [
       "0.7388454978005207"
      ]
     },
     "execution_count": 26,
     "metadata": {},
     "output_type": "execute_result"
    },
    {
     "name": "stdout",
     "output_type": "stream",
     "text": [
      "confusion_matrix : \n",
      " [[5689 1338]\n",
      " [1571 2541]]\n"
     ]
    },
    {
     "data": {
      "text/plain": [
       "<AxesSubplot:title={'center':'Confusion Matrix'}, xlabel='Predicted label', ylabel='True label'>"
      ]
     },
     "execution_count": 26,
     "metadata": {},
     "output_type": "execute_result"
    },
    {
     "data": {
      "image/png": "[encoded data removed]",
      "text/plain": [
       "<Figure size 576x432 with 2 Axes>"
      ]
     },
     "metadata": {
      "needs_background": "light"
     },
     "output_type": "display_data"
    },
    {
     "name": "stdout",
     "output_type": "stream",
     "text": [
      "리포트:\n",
      "               precision    recall  f1-score   support\n",
      "\n",
      "         0.0       0.78      0.81      0.80      7027\n",
      "         1.0       0.66      0.62      0.64      4112\n",
      "\n",
      "    accuracy                           0.74     11139\n",
      "   macro avg       0.72      0.71      0.72     11139\n",
      "weighted avg       0.74      0.74      0.74     11139\n",
      "\n"
     ]
    }
   ],
   "source": [
    "# RobustScaler : minmax와 동일\n",
    "\n",
    "model = xgb.XGBClassifier(early_stopping_rounds=10)\n",
    "eval_set = [(x_test_r, y_test)]\n",
    "model.fit(x_train_r, y_train, eval_set=eval_set)#, verbose=True\n",
    "\n",
    "pred = model.predict(x_test_r)\n",
    "acc = accuracy_score(y_test,pred)\n",
    "acc\n",
    "\n",
    "from sklearn.metrics import confusion_matrix\n",
    "import scikitplot as skplt\n",
    "\n",
    "pred = model.predict(x_test_r)\n",
    "# 실제 , 예측\n",
    "cm = confusion_matrix(y_test, pred)\n",
    "print('confusion_matrix : \\n', cm)\n",
    "\n",
    "skplt.metrics.plot_confusion_matrix(y_test,pred,figsize=(8,6))\n",
    "plt.show()\n",
    "\n",
    "cl_report = metrics.classification_report(y_test,pred)\n",
    "print('리포트:\\n',cl_report)"
   ]
  },
  {
   "cell_type": "code",
   "execution_count": 31,
   "id": "a88397be",
   "metadata": {},
   "outputs": [
    {
     "name": "stdout",
     "output_type": "stream",
     "text": [
      "96\n",
      "0.5027907353989626\n"
     ]
    },
    {
     "data": {
      "text/plain": [
       "0.7391003636402997"
      ]
     },
     "execution_count": 31,
     "metadata": {},
     "output_type": "execute_result"
    },
    {
     "data": {
      "text/plain": [
       "array([0.04835065, 0.04338222, 0.03857255, 0.05113811, 0.05825044,\n",
       "       0.04877001, 0.04987183, 0.40950012, 0.05510067, 0.04940157,\n",
       "       0.1476618 ], dtype=float32)"
      ]
     },
     "execution_count": 31,
     "metadata": {},
     "output_type": "execute_result"
    },
    {
     "data": {
      "text/plain": [
       "<BarContainer object of 11 artists>"
      ]
     },
     "execution_count": 31,
     "metadata": {},
     "output_type": "execute_result"
    },
    {
     "data": {
      "image/png": "[encoded data removed]",
      "text/plain": [
       "<Figure size 432x288 with 1 Axes>"
      ]
     },
     "metadata": {
      "needs_background": "light"
     },
     "output_type": "display_data"
    }
   ],
   "source": [
    "# best_iteration\n",
    "print(model.best_iteration)\n",
    "print(model.best_score)\n",
    "\n",
    "from sklearn import metrics\n",
    "y_pred = model.predict_proba(X_test)\n",
    "metrics.log_loss(y_test, y_pred)\n",
    "\n",
    "# feature_importances_\n",
    "import matplotlib.pyplot as plt \n",
    "model.feature_importances_\n",
    "plt.barh(liver_blood.iloc[:,:-1].columns, model.feature_importances_)"
   ]
  },
  {
   "cell_type": "code",
   "execution_count": 32,
   "id": "285a0b38",
   "metadata": {},
   "outputs": [
    {
     "name": "stdout",
     "output_type": "stream",
     "text": [
      "96\n",
      "0.5027907353989626\n"
     ]
    },
    {
     "data": {
      "text/plain": [
       "0.8044771135035459"
      ]
     },
     "execution_count": 32,
     "metadata": {},
     "output_type": "execute_result"
    },
    {
     "data": {
      "text/plain": [
       "array([0.04835065, 0.04338222, 0.03857255, 0.05113811, 0.05825044,\n",
       "       0.04877001, 0.04987183, 0.40950012, 0.05510067, 0.04940157,\n",
       "       0.1476618 ], dtype=float32)"
      ]
     },
     "execution_count": 32,
     "metadata": {},
     "output_type": "execute_result"
    },
    {
     "data": {
      "text/plain": [
       "<BarContainer object of 11 artists>"
      ]
     },
     "execution_count": 32,
     "metadata": {},
     "output_type": "execute_result"
    },
    {
     "data": {
      "image/png": "[encoded data removed]",
      "text/plain": [
       "<Figure size 432x288 with 1 Axes>"
      ]
     },
     "metadata": {
      "needs_background": "light"
     },
     "output_type": "display_data"
    }
   ],
   "source": [
    "#StandardScaler()\n",
    "# best_iteration\n",
    "print(model.best_iteration)\n",
    "print(model.best_score)\n",
    "\n",
    "from sklearn import metrics\n",
    "y_pred = model.predict_proba(x_test_std)\n",
    "metrics.log_loss(y_test, y_pred)\n",
    "\n",
    "# feature_importances_\n",
    "import matplotlib.pyplot as plt \n",
    "model.feature_importances_\n",
    "plt.barh(liver_blood.iloc[:,:-1].columns, model.feature_importances_)"
   ]
  },
  {
   "cell_type": "code",
   "execution_count": 33,
   "id": "b2960acc",
   "metadata": {},
   "outputs": [
    {
     "name": "stdout",
     "output_type": "stream",
     "text": [
      "96\n",
      "0.5027907353989626\n"
     ]
    },
    {
     "data": {
      "text/plain": [
       "0.5027907371259884"
      ]
     },
     "execution_count": 33,
     "metadata": {},
     "output_type": "execute_result"
    },
    {
     "data": {
      "text/plain": [
       "array([0.04835065, 0.04338222, 0.03857255, 0.05113811, 0.05825044,\n",
       "       0.04877001, 0.04987183, 0.40950012, 0.05510067, 0.04940157,\n",
       "       0.1476618 ], dtype=float32)"
      ]
     },
     "execution_count": 33,
     "metadata": {},
     "output_type": "execute_result"
    },
    {
     "data": {
      "text/plain": [
       "<BarContainer object of 11 artists>"
      ]
     },
     "execution_count": 33,
     "metadata": {},
     "output_type": "execute_result"
    },
    {
     "data": {
      "image/png": "[encoded data removed]",
      "text/plain": [
       "<Figure size 432x288 with 1 Axes>"
      ]
     },
     "metadata": {
      "needs_background": "light"
     },
     "output_type": "display_data"
    }
   ],
   "source": [
    "#MinMaxScaler()\n",
    "# best_iteration\n",
    "print(model.best_iteration)\n",
    "print(model.best_score)\n",
    "\n",
    "from sklearn import metrics\n",
    "y_pred = model.predict_proba(x_test_t)\n",
    "metrics.log_loss(y_test, y_pred)\n",
    "\n",
    "# feature_importances_\n",
    "import matplotlib.pyplot as plt \n",
    "model.feature_importances_\n",
    "plt.barh(liver_blood.iloc[:,:-1].columns, model.feature_importances_)"
   ]
  },
  {
   "cell_type": "code",
   "execution_count": 34,
   "id": "735d9205",
   "metadata": {},
   "outputs": [
    {
     "name": "stdout",
     "output_type": "stream",
     "text": [
      "96\n",
      "0.5027907353989626\n"
     ]
    },
    {
     "data": {
      "text/plain": [
       "0.8354167763414231"
      ]
     },
     "execution_count": 34,
     "metadata": {},
     "output_type": "execute_result"
    },
    {
     "data": {
      "text/plain": [
       "array([0.04835065, 0.04338222, 0.03857255, 0.05113811, 0.05825044,\n",
       "       0.04877001, 0.04987183, 0.40950012, 0.05510067, 0.04940157,\n",
       "       0.1476618 ], dtype=float32)"
      ]
     },
     "execution_count": 34,
     "metadata": {},
     "output_type": "execute_result"
    },
    {
     "data": {
      "text/plain": [
       "<BarContainer object of 11 artists>"
      ]
     },
     "execution_count": 34,
     "metadata": {},
     "output_type": "execute_result"
    },
    {
     "data": {
      "image/png": "[encoded data removed]",
      "text/plain": [
       "<Figure size 432x288 with 1 Axes>"
      ]
     },
     "metadata": {
      "needs_background": "light"
     },
     "output_type": "display_data"
    }
   ],
   "source": [
    "#RobustScaler()\n",
    "# best_iteration\n",
    "print(model.best_iteration)\n",
    "print(model.best_score)\n",
    "\n",
    "from sklearn import metrics\n",
    "y_pred = model.predict_proba(x_test_r)\n",
    "metrics.log_loss(y_test, y_pred)\n",
    "\n",
    "# feature_importances_\n",
    "import matplotlib.pyplot as plt \n",
    "model.feature_importances_\n",
    "plt.barh(liver_blood.iloc[:,:-1].columns, model.feature_importances_)"
   ]
  },
  {
   "cell_type": "markdown",
   "id": "7d6268f4",
   "metadata": {},
   "source": [
    "### LGBMClassifier"
   ]
  },
  {
   "cell_type": "code",
   "execution_count": 37,
   "id": "e834087a",
   "metadata": {},
   "outputs": [
    {
     "name": "stdout",
     "output_type": "stream",
     "text": [
      "[1]\tvalid_0's binary_logloss: 0.637095\n",
      "Training until validation scores don't improve for 10 rounds\n",
      "[2]\tvalid_0's binary_logloss: 0.619578\n",
      "[3]\tvalid_0's binary_logloss: 0.60506\n",
      "[4]\tvalid_0's binary_logloss: 0.592741\n",
      "[5]\tvalid_0's binary_logloss: 0.582408\n",
      "[6]\tvalid_0's binary_logloss: 0.573445\n",
      "[7]\tvalid_0's binary_logloss: 0.566007\n",
      "[8]\tvalid_0's binary_logloss: 0.559685\n",
      "[9]\tvalid_0's binary_logloss: 0.55412\n",
      "[10]\tvalid_0's binary_logloss: 0.549349\n",
      "[11]\tvalid_0's binary_logloss: 0.545372\n",
      "[12]\tvalid_0's binary_logloss: 0.541445\n",
      "[13]\tvalid_0's binary_logloss: 0.538351\n",
      "[14]\tvalid_0's binary_logloss: 0.535543\n",
      "[15]\tvalid_0's binary_logloss: 0.533266\n",
      "[16]\tvalid_0's binary_logloss: 0.530972\n",
      "[17]\tvalid_0's binary_logloss: 0.529179\n",
      "[18]\tvalid_0's binary_logloss: 0.527432\n",
      "[19]\tvalid_0's binary_logloss: 0.526081\n",
      "[20]\tvalid_0's binary_logloss: 0.524685\n",
      "[21]\tvalid_0's binary_logloss: 0.523541\n",
      "[22]\tvalid_0's binary_logloss: 0.522486\n",
      "[23]\tvalid_0's binary_logloss: 0.521609\n",
      "[24]\tvalid_0's binary_logloss: 0.5207\n",
      "[25]\tvalid_0's binary_logloss: 0.519959\n",
      "[26]\tvalid_0's binary_logloss: 0.51946\n",
      "[27]\tvalid_0's binary_logloss: 0.518816\n",
      "[28]\tvalid_0's binary_logloss: 0.518405\n",
      "[29]\tvalid_0's binary_logloss: 0.518002\n",
      "[30]\tvalid_0's binary_logloss: 0.517828\n",
      "[31]\tvalid_0's binary_logloss: 0.517754\n",
      "[32]\tvalid_0's binary_logloss: 0.517298\n",
      "[33]\tvalid_0's binary_logloss: 0.516758\n",
      "[34]\tvalid_0's binary_logloss: 0.516653\n",
      "[35]\tvalid_0's binary_logloss: 0.516564\n",
      "[36]\tvalid_0's binary_logloss: 0.516353\n",
      "[37]\tvalid_0's binary_logloss: 0.516297\n",
      "[38]\tvalid_0's binary_logloss: 0.516098\n",
      "[39]\tvalid_0's binary_logloss: 0.515954\n",
      "[40]\tvalid_0's binary_logloss: 0.515692\n",
      "[41]\tvalid_0's binary_logloss: 0.515612\n",
      "[42]\tvalid_0's binary_logloss: 0.515558\n",
      "[43]\tvalid_0's binary_logloss: 0.515365\n",
      "[44]\tvalid_0's binary_logloss: 0.515283\n",
      "[45]\tvalid_0's binary_logloss: 0.515267\n",
      "[46]\tvalid_0's binary_logloss: 0.515032\n",
      "[47]\tvalid_0's binary_logloss: 0.514812\n",
      "[48]\tvalid_0's binary_logloss: 0.514496\n",
      "[49]\tvalid_0's binary_logloss: 0.514335\n",
      "[50]\tvalid_0's binary_logloss: 0.51441\n",
      "[51]\tvalid_0's binary_logloss: 0.514422\n",
      "[52]\tvalid_0's binary_logloss: 0.514312\n",
      "[53]\tvalid_0's binary_logloss: 0.514323\n",
      "[54]\tvalid_0's binary_logloss: 0.514177\n",
      "[55]\tvalid_0's binary_logloss: 0.514268\n",
      "[56]\tvalid_0's binary_logloss: 0.514126\n",
      "[57]\tvalid_0's binary_logloss: 0.514209\n",
      "[58]\tvalid_0's binary_logloss: 0.514473\n",
      "[59]\tvalid_0's binary_logloss: 0.514352\n",
      "[60]\tvalid_0's binary_logloss: 0.514262\n",
      "[61]\tvalid_0's binary_logloss: 0.514261\n",
      "[62]\tvalid_0's binary_logloss: 0.514121\n",
      "[63]\tvalid_0's binary_logloss: 0.51405\n",
      "[64]\tvalid_0's binary_logloss: 0.513931\n",
      "[65]\tvalid_0's binary_logloss: 0.513847\n",
      "[66]\tvalid_0's binary_logloss: 0.513791\n",
      "[67]\tvalid_0's binary_logloss: 0.513832\n",
      "[68]\tvalid_0's binary_logloss: 0.51383\n",
      "[69]\tvalid_0's binary_logloss: 0.513819\n",
      "[70]\tvalid_0's binary_logloss: 0.513833\n",
      "[71]\tvalid_0's binary_logloss: 0.513901\n",
      "[72]\tvalid_0's binary_logloss: 0.513934\n",
      "[73]\tvalid_0's binary_logloss: 0.513937\n",
      "[74]\tvalid_0's binary_logloss: 0.513859\n",
      "[75]\tvalid_0's binary_logloss: 0.513879\n",
      "[76]\tvalid_0's binary_logloss: 0.513795\n",
      "Early stopping, best iteration is:\n",
      "[66]\tvalid_0's binary_logloss: 0.513791\n"
     ]
    },
    {
     "data": {
      "text/plain": [
       "LGBMClassifier(boosting_type='goss', max_depth=5, random_state=0)"
      ]
     },
     "execution_count": 37,
     "metadata": {},
     "output_type": "execute_result"
    },
    {
     "data": {
      "text/plain": [
       "0.7263668192835981"
      ]
     },
     "execution_count": 37,
     "metadata": {},
     "output_type": "execute_result"
    },
    {
     "name": "stdout",
     "output_type": "stream",
     "text": [
      "confusion_matrix : \n",
      " [[5615 1412]\n",
      " [1636 2476]]\n"
     ]
    },
    {
     "data": {
      "text/plain": [
       "<AxesSubplot:title={'center':'Confusion Matrix'}, xlabel='Predicted label', ylabel='True label'>"
      ]
     },
     "execution_count": 37,
     "metadata": {},
     "output_type": "execute_result"
    },
    {
     "data": {
      "image/png": "[encoded data removed]",
      "text/plain": [
       "<Figure size 576x432 with 2 Axes>"
      ]
     },
     "metadata": {
      "needs_background": "light"
     },
     "output_type": "display_data"
    }
   ],
   "source": [
    "#스케일링 안했을 때\n",
    "\n",
    "import lightgbm as lgb # 분류 회귀 다 됨\n",
    "model = lgb.LGBMClassifier(boosting_type='goss',max_depth=5, random_state=0)\n",
    "eval_set = [(X_test, y_test)]\n",
    "callbacks = []  # 리스트 객체 사용자함수를 담을 곳\n",
    "callbacks.append(lgb.early_stopping(stopping_rounds=10)) # 부스팅 반복 횟수 제어\n",
    "callbacks.append(lgb.log_evaluation())\n",
    "model.fit(X_train, y_train, eval_set=eval_set, callbacks=callbacks)\n",
    "\n",
    "pred = model.predict(X_test)\n",
    "acc = accuracy_score(y_test,pred)\n",
    "acc\n",
    "\n",
    "from sklearn.metrics import confusion_matrix\n",
    "import scikitplot as skplt\n",
    "\n",
    "pred = model.predict(X_test)\n",
    "# 실제 , 예측\n",
    "cm = confusion_matrix(y_test, pred)\n",
    "print('confusion_matrix : \\n', cm)\n",
    "\n",
    "skplt.metrics.plot_confusion_matrix(y_test,pred,figsize=(8,6))\n",
    "plt.show()\n",
    "\n",
    "cl_report = metrics.classification_report(y_test,pred)\n",
    "print('리포트:\\n',cl_report)"
   ]
  },
  {
   "cell_type": "code",
   "execution_count": 36,
   "id": "f5a2e9c8",
   "metadata": {},
   "outputs": [
    {
     "name": "stdout",
     "output_type": "stream",
     "text": [
      "[1]\tvalid_0's binary_logloss: 0.637095\n",
      "Training until validation scores don't improve for 10 rounds\n",
      "[2]\tvalid_0's binary_logloss: 0.619578\n",
      "[3]\tvalid_0's binary_logloss: 0.60506\n",
      "[4]\tvalid_0's binary_logloss: 0.592741\n",
      "[5]\tvalid_0's binary_logloss: 0.582408\n",
      "[6]\tvalid_0's binary_logloss: 0.573445\n",
      "[7]\tvalid_0's binary_logloss: 0.566007\n",
      "[8]\tvalid_0's binary_logloss: 0.559685\n",
      "[9]\tvalid_0's binary_logloss: 0.55412\n",
      "[10]\tvalid_0's binary_logloss: 0.549359\n",
      "[11]\tvalid_0's binary_logloss: 0.545162\n",
      "[12]\tvalid_0's binary_logloss: 0.541631\n",
      "[13]\tvalid_0's binary_logloss: 0.538549\n",
      "[14]\tvalid_0's binary_logloss: 0.53596\n",
      "[15]\tvalid_0's binary_logloss: 0.533843\n",
      "[16]\tvalid_0's binary_logloss: 0.53172\n",
      "[17]\tvalid_0's binary_logloss: 0.529999\n",
      "[18]\tvalid_0's binary_logloss: 0.528452\n",
      "[19]\tvalid_0's binary_logloss: 0.52698\n",
      "[20]\tvalid_0's binary_logloss: 0.525733\n",
      "[21]\tvalid_0's binary_logloss: 0.524642\n",
      "[22]\tvalid_0's binary_logloss: 0.523893\n",
      "[23]\tvalid_0's binary_logloss: 0.522702\n",
      "[24]\tvalid_0's binary_logloss: 0.521974\n",
      "[25]\tvalid_0's binary_logloss: 0.520976\n",
      "[26]\tvalid_0's binary_logloss: 0.520473\n",
      "[27]\tvalid_0's binary_logloss: 0.519957\n",
      "[28]\tvalid_0's binary_logloss: 0.519308\n",
      "[29]\tvalid_0's binary_logloss: 0.518837\n",
      "[30]\tvalid_0's binary_logloss: 0.51841\n",
      "[31]\tvalid_0's binary_logloss: 0.518175\n",
      "[32]\tvalid_0's binary_logloss: 0.517917\n",
      "[33]\tvalid_0's binary_logloss: 0.517529\n",
      "[34]\tvalid_0's binary_logloss: 0.517361\n",
      "[35]\tvalid_0's binary_logloss: 0.517136\n",
      "[36]\tvalid_0's binary_logloss: 0.517182\n",
      "[37]\tvalid_0's binary_logloss: 0.516893\n",
      "[38]\tvalid_0's binary_logloss: 0.516828\n",
      "[39]\tvalid_0's binary_logloss: 0.51662\n",
      "[40]\tvalid_0's binary_logloss: 0.516353\n",
      "[41]\tvalid_0's binary_logloss: 0.516149\n",
      "[42]\tvalid_0's binary_logloss: 0.516091\n",
      "[43]\tvalid_0's binary_logloss: 0.515869\n",
      "[44]\tvalid_0's binary_logloss: 0.515949\n",
      "[45]\tvalid_0's binary_logloss: 0.515862\n",
      "[46]\tvalid_0's binary_logloss: 0.515788\n",
      "[47]\tvalid_0's binary_logloss: 0.515524\n",
      "[48]\tvalid_0's binary_logloss: 0.515483\n",
      "[49]\tvalid_0's binary_logloss: 0.515577\n",
      "[50]\tvalid_0's binary_logloss: 0.515257\n",
      "[51]\tvalid_0's binary_logloss: 0.515171\n",
      "[52]\tvalid_0's binary_logloss: 0.514974\n",
      "[53]\tvalid_0's binary_logloss: 0.515036\n",
      "[54]\tvalid_0's binary_logloss: 0.515217\n",
      "[55]\tvalid_0's binary_logloss: 0.515061\n",
      "[56]\tvalid_0's binary_logloss: 0.515074\n",
      "[57]\tvalid_0's binary_logloss: 0.514979\n",
      "[58]\tvalid_0's binary_logloss: 0.515056\n",
      "[59]\tvalid_0's binary_logloss: 0.515026\n",
      "[60]\tvalid_0's binary_logloss: 0.515046\n",
      "[61]\tvalid_0's binary_logloss: 0.515073\n",
      "[62]\tvalid_0's binary_logloss: 0.515127\n",
      "Early stopping, best iteration is:\n",
      "[52]\tvalid_0's binary_logloss: 0.514974\n"
     ]
    },
    {
     "data": {
      "text/plain": [
       "LGBMClassifier(boosting_type='goss', max_depth=5, random_state=0)"
      ]
     },
     "execution_count": 36,
     "metadata": {},
     "output_type": "execute_result"
    },
    {
     "data": {
      "text/plain": [
       "0.7237633539815064"
      ]
     },
     "execution_count": 36,
     "metadata": {},
     "output_type": "execute_result"
    },
    {
     "name": "stdout",
     "output_type": "stream",
     "text": [
      "confusion_matrix : \n",
      " [[5610 1417]\n",
      " [1660 2452]]\n"
     ]
    },
    {
     "data": {
      "text/plain": [
       "<AxesSubplot:title={'center':'Confusion Matrix'}, xlabel='Predicted label', ylabel='True label'>"
      ]
     },
     "execution_count": 36,
     "metadata": {},
     "output_type": "execute_result"
    },
    {
     "data": {
      "image/png": "[encoded data removed]",
      "text/plain": [
       "<Figure size 576x432 with 2 Axes>"
      ]
     },
     "metadata": {
      "needs_background": "light"
     },
     "output_type": "display_data"
    },
    {
     "name": "stdout",
     "output_type": "stream",
     "text": [
      "리포트:\n",
      "               precision    recall  f1-score   support\n",
      "\n",
      "         0.0       0.77      0.80      0.78      7027\n",
      "         1.0       0.63      0.60      0.61      4112\n",
      "\n",
      "    accuracy                           0.72     11139\n",
      "   macro avg       0.70      0.70      0.70     11139\n",
      "weighted avg       0.72      0.72      0.72     11139\n",
      "\n"
     ]
    }
   ],
   "source": [
    "#StandardScaler() : 오히려 낮음\n",
    "import lightgbm as lgb\n",
    "model = lgb.LGBMClassifier(boosting_type='goss',max_depth=5, random_state=0)\n",
    "eval_set = [(x_test_std, y_test)]\n",
    "callbacks = []  # 리스트 객체 사용자함수를 담을 곳\n",
    "callbacks.append(lgb.early_stopping(stopping_rounds=10)) # 부스팅 반복 횟수 제어\n",
    "callbacks.append(lgb.log_evaluation())\n",
    "model.fit(x_train_std, y_train, eval_set=eval_set, callbacks=callbacks)\n",
    "\n",
    "pred = model.predict(x_test_std)\n",
    "acc = accuracy_score(y_test,pred)\n",
    "acc\n",
    "\n",
    "pred = model.predict(x_test_std)\n",
    "# 실제 , 예측\n",
    "cm = confusion_matrix(y_test, pred)\n",
    "print('confusion_matrix : \\n', cm)\n",
    "\n",
    "skplt.metrics.plot_confusion_matrix(y_test,pred,figsize=(8,6))\n",
    "plt.show()\n",
    "\n",
    "cl_report = metrics.classification_report(y_test,pred)\n",
    "print('리포트:\\n',cl_report)"
   ]
  },
  {
   "cell_type": "code",
   "execution_count": 37,
   "id": "291ab536",
   "metadata": {},
   "outputs": [
    {
     "name": "stdout",
     "output_type": "stream",
     "text": [
      "[1]\tvalid_0's binary_logloss: 0.637095\n",
      "Training until validation scores don't improve for 10 rounds\n",
      "[2]\tvalid_0's binary_logloss: 0.619578\n",
      "[3]\tvalid_0's binary_logloss: 0.60506\n",
      "[4]\tvalid_0's binary_logloss: 0.592741\n",
      "[5]\tvalid_0's binary_logloss: 0.582408\n",
      "[6]\tvalid_0's binary_logloss: 0.573445\n",
      "[7]\tvalid_0's binary_logloss: 0.566007\n",
      "[8]\tvalid_0's binary_logloss: 0.559685\n",
      "[9]\tvalid_0's binary_logloss: 0.55412\n",
      "[10]\tvalid_0's binary_logloss: 0.549349\n",
      "[11]\tvalid_0's binary_logloss: 0.545372\n",
      "[12]\tvalid_0's binary_logloss: 0.541445\n",
      "[13]\tvalid_0's binary_logloss: 0.538351\n",
      "[14]\tvalid_0's binary_logloss: 0.535543\n",
      "[15]\tvalid_0's binary_logloss: 0.533266\n",
      "[16]\tvalid_0's binary_logloss: 0.530972\n",
      "[17]\tvalid_0's binary_logloss: 0.529179\n",
      "[18]\tvalid_0's binary_logloss: 0.527432\n",
      "[19]\tvalid_0's binary_logloss: 0.526081\n",
      "[20]\tvalid_0's binary_logloss: 0.524685\n",
      "[21]\tvalid_0's binary_logloss: 0.523541\n",
      "[22]\tvalid_0's binary_logloss: 0.522486\n",
      "[23]\tvalid_0's binary_logloss: 0.521609\n",
      "[24]\tvalid_0's binary_logloss: 0.5207\n",
      "[25]\tvalid_0's binary_logloss: 0.519959\n",
      "[26]\tvalid_0's binary_logloss: 0.51946\n",
      "[27]\tvalid_0's binary_logloss: 0.518816\n",
      "[28]\tvalid_0's binary_logloss: 0.518405\n",
      "[29]\tvalid_0's binary_logloss: 0.518002\n",
      "[30]\tvalid_0's binary_logloss: 0.517828\n",
      "[31]\tvalid_0's binary_logloss: 0.517754\n",
      "[32]\tvalid_0's binary_logloss: 0.517298\n",
      "[33]\tvalid_0's binary_logloss: 0.516758\n",
      "[34]\tvalid_0's binary_logloss: 0.516653\n",
      "[35]\tvalid_0's binary_logloss: 0.516564\n",
      "[36]\tvalid_0's binary_logloss: 0.516353\n",
      "[37]\tvalid_0's binary_logloss: 0.516297\n",
      "[38]\tvalid_0's binary_logloss: 0.516098\n",
      "[39]\tvalid_0's binary_logloss: 0.515954\n",
      "[40]\tvalid_0's binary_logloss: 0.515692\n",
      "[41]\tvalid_0's binary_logloss: 0.515612\n",
      "[42]\tvalid_0's binary_logloss: 0.515558\n",
      "[43]\tvalid_0's binary_logloss: 0.515365\n",
      "[44]\tvalid_0's binary_logloss: 0.515283\n",
      "[45]\tvalid_0's binary_logloss: 0.515267\n",
      "[46]\tvalid_0's binary_logloss: 0.515032\n",
      "[47]\tvalid_0's binary_logloss: 0.514812\n",
      "[48]\tvalid_0's binary_logloss: 0.514496\n",
      "[49]\tvalid_0's binary_logloss: 0.514335\n",
      "[50]\tvalid_0's binary_logloss: 0.51441\n",
      "[51]\tvalid_0's binary_logloss: 0.514422\n",
      "[52]\tvalid_0's binary_logloss: 0.514312\n",
      "[53]\tvalid_0's binary_logloss: 0.514323\n",
      "[54]\tvalid_0's binary_logloss: 0.514177\n",
      "[55]\tvalid_0's binary_logloss: 0.514268\n",
      "[56]\tvalid_0's binary_logloss: 0.514126\n",
      "[57]\tvalid_0's binary_logloss: 0.514209\n",
      "[58]\tvalid_0's binary_logloss: 0.514473\n",
      "[59]\tvalid_0's binary_logloss: 0.514352\n",
      "[60]\tvalid_0's binary_logloss: 0.514262\n",
      "[61]\tvalid_0's binary_logloss: 0.514261\n",
      "[62]\tvalid_0's binary_logloss: 0.514121\n",
      "[63]\tvalid_0's binary_logloss: 0.51405\n",
      "[64]\tvalid_0's binary_logloss: 0.513931\n",
      "[65]\tvalid_0's binary_logloss: 0.513847\n",
      "[66]\tvalid_0's binary_logloss: 0.513791\n",
      "[67]\tvalid_0's binary_logloss: 0.513832\n",
      "[68]\tvalid_0's binary_logloss: 0.51383\n",
      "[69]\tvalid_0's binary_logloss: 0.513819\n",
      "[70]\tvalid_0's binary_logloss: 0.513833\n",
      "[71]\tvalid_0's binary_logloss: 0.513901\n",
      "[72]\tvalid_0's binary_logloss: 0.513934\n",
      "[73]\tvalid_0's binary_logloss: 0.513937\n",
      "[74]\tvalid_0's binary_logloss: 0.513859\n",
      "[75]\tvalid_0's binary_logloss: 0.513879\n",
      "[76]\tvalid_0's binary_logloss: 0.513795\n",
      "Early stopping, best iteration is:\n",
      "[66]\tvalid_0's binary_logloss: 0.513791\n"
     ]
    },
    {
     "data": {
      "text/plain": [
       "LGBMClassifier(boosting_type='goss', max_depth=5, random_state=0)"
      ]
     },
     "execution_count": 37,
     "metadata": {},
     "output_type": "execute_result"
    },
    {
     "data": {
      "text/plain": [
       "0.7263668192835981"
      ]
     },
     "execution_count": 37,
     "metadata": {},
     "output_type": "execute_result"
    },
    {
     "name": "stdout",
     "output_type": "stream",
     "text": [
      "confusion_matrix : \n",
      " [[5615 1412]\n",
      " [1636 2476]]\n"
     ]
    },
    {
     "data": {
      "text/plain": [
       "<AxesSubplot:title={'center':'Confusion Matrix'}, xlabel='Predicted label', ylabel='True label'>"
      ]
     },
     "execution_count": 37,
     "metadata": {},
     "output_type": "execute_result"
    },
    {
     "data": {
      "image/png": "[encoded data removed]",
      "text/plain": [
       "<Figure size 576x432 with 2 Axes>"
      ]
     },
     "metadata": {
      "needs_background": "light"
     },
     "output_type": "display_data"
    },
    {
     "name": "stdout",
     "output_type": "stream",
     "text": [
      "리포트:\n",
      "               precision    recall  f1-score   support\n",
      "\n",
      "         0.0       0.77      0.80      0.79      7027\n",
      "         1.0       0.64      0.60      0.62      4112\n",
      "\n",
      "    accuracy                           0.73     11139\n",
      "   macro avg       0.71      0.70      0.70     11139\n",
      "weighted avg       0.72      0.73      0.72     11139\n",
      "\n"
     ]
    }
   ],
   "source": [
    "# MinMaxScaler() : 큰 차이 없음\n",
    "import lightgbm as lgb\n",
    "model = lgb.LGBMClassifier(boosting_type='goss',max_depth=5, random_state=0)\n",
    "eval_set = [(x_test_t, y_test)]\n",
    "callbacks = []  # 리스트 객체 사용자함수를 담을 곳\n",
    "callbacks.append(lgb.early_stopping(stopping_rounds=10)) # 부스팅 반복 횟수 제어\n",
    "callbacks.append(lgb.log_evaluation())\n",
    "model.fit(x_train_t, y_train, eval_set=eval_set, callbacks=callbacks)\n",
    "\n",
    "pred = model.predict(x_test_t)\n",
    "acc = accuracy_score(y_test,pred)\n",
    "acc\n",
    "\n",
    "pred = model.predict(x_test_t)\n",
    "# 실제 , 예측\n",
    "cm = confusion_matrix(y_test, pred)\n",
    "print('confusion_matrix : \\n', cm)\n",
    "\n",
    "skplt.metrics.plot_confusion_matrix(y_test,pred,figsize=(8,6))\n",
    "plt.show()\n",
    "\n",
    "cl_report = metrics.classification_report(y_test,pred)\n",
    "print('리포트:\\n',cl_report)"
   ]
  },
  {
   "cell_type": "code",
   "execution_count": 38,
   "id": "c64f4015",
   "metadata": {},
   "outputs": [
    {
     "name": "stdout",
     "output_type": "stream",
     "text": [
      "[1]\tvalid_0's binary_logloss: 0.637095\n",
      "Training until validation scores don't improve for 10 rounds\n",
      "[2]\tvalid_0's binary_logloss: 0.619578\n",
      "[3]\tvalid_0's binary_logloss: 0.60506\n",
      "[4]\tvalid_0's binary_logloss: 0.592741\n",
      "[5]\tvalid_0's binary_logloss: 0.582408\n",
      "[6]\tvalid_0's binary_logloss: 0.573445\n",
      "[7]\tvalid_0's binary_logloss: 0.566007\n",
      "[8]\tvalid_0's binary_logloss: 0.559685\n",
      "[9]\tvalid_0's binary_logloss: 0.55412\n",
      "[10]\tvalid_0's binary_logloss: 0.549359\n",
      "[11]\tvalid_0's binary_logloss: 0.545162\n",
      "[12]\tvalid_0's binary_logloss: 0.541631\n",
      "[13]\tvalid_0's binary_logloss: 0.538549\n",
      "[14]\tvalid_0's binary_logloss: 0.53596\n",
      "[15]\tvalid_0's binary_logloss: 0.533843\n",
      "[16]\tvalid_0's binary_logloss: 0.53172\n",
      "[17]\tvalid_0's binary_logloss: 0.529999\n",
      "[18]\tvalid_0's binary_logloss: 0.528452\n",
      "[19]\tvalid_0's binary_logloss: 0.52698\n",
      "[20]\tvalid_0's binary_logloss: 0.525733\n",
      "[21]\tvalid_0's binary_logloss: 0.524642\n",
      "[22]\tvalid_0's binary_logloss: 0.523893\n",
      "[23]\tvalid_0's binary_logloss: 0.522702\n",
      "[24]\tvalid_0's binary_logloss: 0.521974\n",
      "[25]\tvalid_0's binary_logloss: 0.520976\n",
      "[26]\tvalid_0's binary_logloss: 0.520473\n",
      "[27]\tvalid_0's binary_logloss: 0.519859\n",
      "[28]\tvalid_0's binary_logloss: 0.519078\n",
      "[29]\tvalid_0's binary_logloss: 0.518459\n",
      "[30]\tvalid_0's binary_logloss: 0.517757\n",
      "[31]\tvalid_0's binary_logloss: 0.517614\n",
      "[32]\tvalid_0's binary_logloss: 0.517318\n",
      "[33]\tvalid_0's binary_logloss: 0.517015\n",
      "[34]\tvalid_0's binary_logloss: 0.516736\n",
      "[35]\tvalid_0's binary_logloss: 0.516388\n",
      "[36]\tvalid_0's binary_logloss: 0.515977\n",
      "[37]\tvalid_0's binary_logloss: 0.51585\n",
      "[38]\tvalid_0's binary_logloss: 0.51571\n",
      "[39]\tvalid_0's binary_logloss: 0.515393\n",
      "[40]\tvalid_0's binary_logloss: 0.515058\n",
      "[41]\tvalid_0's binary_logloss: 0.514791\n",
      "[42]\tvalid_0's binary_logloss: 0.514767\n",
      "[43]\tvalid_0's binary_logloss: 0.5146\n",
      "[44]\tvalid_0's binary_logloss: 0.514622\n",
      "[45]\tvalid_0's binary_logloss: 0.514606\n",
      "[46]\tvalid_0's binary_logloss: 0.514374\n",
      "[47]\tvalid_0's binary_logloss: 0.514314\n",
      "[48]\tvalid_0's binary_logloss: 0.514153\n",
      "[49]\tvalid_0's binary_logloss: 0.514337\n",
      "[50]\tvalid_0's binary_logloss: 0.514262\n",
      "[51]\tvalid_0's binary_logloss: 0.514147\n",
      "[52]\tvalid_0's binary_logloss: 0.514142\n",
      "[53]\tvalid_0's binary_logloss: 0.514171\n",
      "[54]\tvalid_0's binary_logloss: 0.514242\n",
      "[55]\tvalid_0's binary_logloss: 0.514306\n",
      "[56]\tvalid_0's binary_logloss: 0.514143\n",
      "[57]\tvalid_0's binary_logloss: 0.514356\n",
      "[58]\tvalid_0's binary_logloss: 0.514297\n",
      "[59]\tvalid_0's binary_logloss: 0.514083\n",
      "[60]\tvalid_0's binary_logloss: 0.514088\n",
      "[61]\tvalid_0's binary_logloss: 0.514044\n",
      "[62]\tvalid_0's binary_logloss: 0.513862\n",
      "[63]\tvalid_0's binary_logloss: 0.514265\n",
      "[64]\tvalid_0's binary_logloss: 0.514265\n",
      "[65]\tvalid_0's binary_logloss: 0.514194\n",
      "[66]\tvalid_0's binary_logloss: 0.514247\n",
      "[67]\tvalid_0's binary_logloss: 0.514194\n",
      "[68]\tvalid_0's binary_logloss: 0.514079\n",
      "[69]\tvalid_0's binary_logloss: 0.513828\n",
      "[70]\tvalid_0's binary_logloss: 0.513866\n",
      "[71]\tvalid_0's binary_logloss: 0.513711\n",
      "[72]\tvalid_0's binary_logloss: 0.513747\n",
      "[73]\tvalid_0's binary_logloss: 0.513614\n",
      "[74]\tvalid_0's binary_logloss: 0.51347\n",
      "[75]\tvalid_0's binary_logloss: 0.513489\n",
      "[76]\tvalid_0's binary_logloss: 0.513319\n",
      "[77]\tvalid_0's binary_logloss: 0.513302\n",
      "[78]\tvalid_0's binary_logloss: 0.513265\n",
      "[79]\tvalid_0's binary_logloss: 0.513238\n",
      "[80]\tvalid_0's binary_logloss: 0.513229\n",
      "[81]\tvalid_0's binary_logloss: 0.513021\n",
      "[82]\tvalid_0's binary_logloss: 0.512827\n",
      "[83]\tvalid_0's binary_logloss: 0.512925\n",
      "[84]\tvalid_0's binary_logloss: 0.512914\n",
      "[85]\tvalid_0's binary_logloss: 0.512808\n",
      "[86]\tvalid_0's binary_logloss: 0.512784\n",
      "[87]\tvalid_0's binary_logloss: 0.512774\n",
      "[88]\tvalid_0's binary_logloss: 0.512722\n",
      "[89]\tvalid_0's binary_logloss: 0.512897\n",
      "[90]\tvalid_0's binary_logloss: 0.512844\n",
      "[91]\tvalid_0's binary_logloss: 0.513096\n",
      "[92]\tvalid_0's binary_logloss: 0.513013\n",
      "[93]\tvalid_0's binary_logloss: 0.513038\n",
      "[94]\tvalid_0's binary_logloss: 0.513049\n",
      "[95]\tvalid_0's binary_logloss: 0.513094\n",
      "[96]\tvalid_0's binary_logloss: 0.513032\n",
      "[97]\tvalid_0's binary_logloss: 0.513087\n",
      "[98]\tvalid_0's binary_logloss: 0.513064\n",
      "Early stopping, best iteration is:\n",
      "[88]\tvalid_0's binary_logloss: 0.512722\n"
     ]
    },
    {
     "data": {
      "text/plain": [
       "LGBMClassifier(boosting_type='goss', max_depth=5, random_state=0)"
      ]
     },
     "execution_count": 38,
     "metadata": {},
     "output_type": "execute_result"
    },
    {
     "data": {
      "text/plain": [
       "0.7291498339168686"
      ]
     },
     "execution_count": 38,
     "metadata": {},
     "output_type": "execute_result"
    },
    {
     "name": "stdout",
     "output_type": "stream",
     "text": [
      "confusion_matrix : \n",
      " [[5645 1382]\n",
      " [1635 2477]]\n"
     ]
    },
    {
     "data": {
      "text/plain": [
       "<AxesSubplot:title={'center':'Confusion Matrix'}, xlabel='Predicted label', ylabel='True label'>"
      ]
     },
     "execution_count": 38,
     "metadata": {},
     "output_type": "execute_result"
    },
    {
     "data": {
      "image/png": "[encoded data removed]",
      "text/plain": [
       "<Figure size 576x432 with 2 Axes>"
      ]
     },
     "metadata": {
      "needs_background": "light"
     },
     "output_type": "display_data"
    },
    {
     "name": "stdout",
     "output_type": "stream",
     "text": [
      "리포트:\n",
      "               precision    recall  f1-score   support\n",
      "\n",
      "         0.0       0.78      0.80      0.79      7027\n",
      "         1.0       0.64      0.60      0.62      4112\n",
      "\n",
      "    accuracy                           0.73     11139\n",
      "   macro avg       0.71      0.70      0.71     11139\n",
      "weighted avg       0.73      0.73      0.73     11139\n",
      "\n"
     ]
    }
   ],
   "source": [
    "#RobustScaler()\n",
    "model = lgb.LGBMClassifier(boosting_type='goss',max_depth=5, random_state=0)\n",
    "eval_set = [(x_test_r, y_test)]\n",
    "callbacks = []  # 리스트 객체 사용자함수를 담을 곳\n",
    "callbacks.append(lgb.early_stopping(stopping_rounds=10)) # 부스팅 반복 횟수 제어\n",
    "callbacks.append(lgb.log_evaluation())\n",
    "model.fit(x_train_r, y_train, eval_set=eval_set, callbacks=callbacks)\n",
    "\n",
    "pred = model.predict(x_test_r)\n",
    "acc = accuracy_score(y_test,pred)\n",
    "acc\n",
    "\n",
    "pred = model.predict(x_test_r)\n",
    "# 실제 , 예측\n",
    "cm = confusion_matrix(y_test, pred)\n",
    "print('confusion_matrix : \\n', cm)\n",
    "\n",
    "skplt.metrics.plot_confusion_matrix(y_test,pred,figsize=(8,6))\n",
    "plt.show()\n",
    "\n",
    "cl_report = metrics.classification_report(y_test,pred)\n",
    "print('리포트:\\n',cl_report)"
   ]
  },
  {
   "cell_type": "code",
   "execution_count": 38,
   "id": "29caa8e5",
   "metadata": {},
   "outputs": [
    {
     "name": "stdout",
     "output_type": "stream",
     "text": [
      "66\n",
      "defaultdict(<class 'collections.OrderedDict'>, {'valid_0': OrderedDict([('binary_logloss', 0.5137911514141607)])})\n"
     ]
    }
   ],
   "source": [
    "print(model.best_iteration_)\n",
    "print(model.best_score_)"
   ]
  },
  {
   "cell_type": "code",
   "execution_count": 39,
   "id": "8e66feb6",
   "metadata": {},
   "outputs": [
    {
     "data": {
      "text/plain": [
       "0.5137911514141609"
      ]
     },
     "execution_count": 39,
     "metadata": {},
     "output_type": "execute_result"
    }
   ],
   "source": [
    "from sklearn import metrics\n",
    "y_pred = model.predict_proba(X_test)\n",
    "metrics.log_loss(y_test, y_pred)"
   ]
  },
  {
   "cell_type": "code",
   "execution_count": 40,
   "id": "d75338bd",
   "metadata": {},
   "outputs": [
    {
     "data": {
      "text/plain": [
       "<AxesSubplot:title={'center':'Metric during training'}, xlabel='Iterations', ylabel='binary_logloss'>"
      ]
     },
     "execution_count": 40,
     "metadata": {},
     "output_type": "execute_result"
    },
    {
     "data": {
      "image/png": "[encoded data removed]",
      "text/plain": [
       "<Figure size 432x288 with 1 Axes>"
      ]
     },
     "metadata": {
      "needs_background": "light"
     },
     "output_type": "display_data"
    }
   ],
   "source": [
    "lgb.plot_metric(model)"
   ]
  },
  {
   "cell_type": "code",
   "execution_count": 41,
   "id": "a9c8f9ad",
   "metadata": {},
   "outputs": [
    {
     "data": {
      "text/plain": [
       "<AxesSubplot:title={'center':'Feature importance'}, xlabel='Feature importance', ylabel='Features'>"
      ]
     },
     "execution_count": 41,
     "metadata": {},
     "output_type": "execute_result"
    },
    {
     "data": {
      "image/png": "[encoded data removed]",
      "text/plain": [
       "<Figure size 432x288 with 1 Axes>"
      ]
     },
     "metadata": {
      "needs_background": "light"
     },
     "output_type": "display_data"
    }
   ],
   "source": [
    "lgb.plot_importance(model)"
   ]
  },
  {
   "cell_type": "markdown",
   "id": "bb8db083",
   "metadata": {},
   "source": [
    "### Logistic Regression"
   ]
  },
  {
   "cell_type": "code",
   "execution_count": 42,
   "id": "d2481f6d",
   "metadata": {},
   "outputs": [
    {
     "data": {
      "text/plain": [
       "LogisticRegression(max_iter=10000)"
      ]
     },
     "execution_count": 42,
     "metadata": {},
     "output_type": "execute_result"
    },
    {
     "data": {
      "text/plain": [
       "['MINIproject']"
      ]
     },
     "execution_count": 42,
     "metadata": {},
     "output_type": "execute_result"
    },
    {
     "data": {
      "text/plain": [
       "0.7052697728700961"
      ]
     },
     "execution_count": 42,
     "metadata": {},
     "output_type": "execute_result"
    },
    {
     "data": {
      "text/plain": [
       "0.7052697728700961"
      ]
     },
     "execution_count": 42,
     "metadata": {},
     "output_type": "execute_result"
    },
    {
     "name": "stdout",
     "output_type": "stream",
     "text": [
      "confusion_matrix : \n",
      " [[5615 1412]\n",
      " [1636 2476]]\n"
     ]
    },
    {
     "data": {
      "text/plain": [
       "<AxesSubplot:title={'center':'Confusion Matrix'}, xlabel='Predicted label', ylabel='True label'>"
      ]
     },
     "execution_count": 42,
     "metadata": {},
     "output_type": "execute_result"
    },
    {
     "data": {
      "image/png": "[encoded data removed]",
      "text/plain": [
       "<Figure size 576x432 with 2 Axes>"
      ]
     },
     "metadata": {
      "needs_background": "light"
     },
     "output_type": "display_data"
    }
   ],
   "source": [
    "#Logistic Regression\n",
    "from sklearn.linear_model import LogisticRegression\n",
    "model2 = LogisticRegression(max_iter = 10000)\n",
    "\n",
    "model2.fit(X_train,y_train)\n",
    "\n",
    "import joblib\n",
    "joblib.dump(model2, 'MINIproject')\n",
    "\n",
    "model2.score(X_test,y_test)\n",
    "pred_2 = model2.predict(X_test)\n",
    "acc2 = accuracy_score(y_test,pred_2)\n",
    "acc2\n",
    "\n",
    "# 실제 , 예측\n",
    "cm_2 = confusion_matrix(y_test, pred)\n",
    "print('confusion_matrix : \\n', cm_2)\n",
    "\n",
    "skplt.metrics.plot_confusion_matrix(y_test,pred_2,figsize=(8,6))\n",
    "plt.show()\n",
    "\n",
    "cl_report = metrics.classification_report(y_test,pred)\n",
    "print('리포트:\\n',cl_report)"
   ]
  },
  {
   "cell_type": "code",
   "execution_count": 40,
   "id": "9361250b",
   "metadata": {},
   "outputs": [
    {
     "data": {
      "text/plain": [
       "LogisticRegression(max_iter=10000)"
      ]
     },
     "execution_count": 40,
     "metadata": {},
     "output_type": "execute_result"
    },
    {
     "data": {
      "text/plain": [
       "0.7056288715324536"
      ]
     },
     "execution_count": 40,
     "metadata": {},
     "output_type": "execute_result"
    },
    {
     "data": {
      "text/plain": [
       "0.7056288715324536"
      ]
     },
     "execution_count": 40,
     "metadata": {},
     "output_type": "execute_result"
    },
    {
     "name": "stdout",
     "output_type": "stream",
     "text": [
      "confusion_matrix : \n",
      " [[5794 1233]\n",
      " [2046 2066]]\n"
     ]
    },
    {
     "data": {
      "text/plain": [
       "<AxesSubplot:title={'center':'Confusion Matrix'}, xlabel='Predicted label', ylabel='True label'>"
      ]
     },
     "execution_count": 40,
     "metadata": {},
     "output_type": "execute_result"
    },
    {
     "data": {
      "image/png": "[encoded data removed]",
      "text/plain": [
       "<Figure size 576x432 with 2 Axes>"
      ]
     },
     "metadata": {
      "needs_background": "light"
     },
     "output_type": "display_data"
    },
    {
     "name": "stdout",
     "output_type": "stream",
     "text": [
      "리포트:\n",
      "               precision    recall  f1-score   support\n",
      "\n",
      "         0.0       0.74      0.82      0.78      7027\n",
      "         1.0       0.63      0.50      0.56      4112\n",
      "\n",
      "    accuracy                           0.71     11139\n",
      "   macro avg       0.68      0.66      0.67     11139\n",
      "weighted avg       0.70      0.71      0.70     11139\n",
      "\n"
     ]
    }
   ],
   "source": [
    "#StandardScaler\n",
    "from sklearn.linear_model import LogisticRegression\n",
    "model = LogisticRegression(max_iter = 10000)\n",
    "\n",
    "model.fit(x_train_std,y_train)\n",
    "\n",
    "model.score(x_test_std,y_test)\n",
    "pred = model.predict(x_test_std)\n",
    "acc = accuracy_score(y_test,pred)\n",
    "acc\n",
    "\n",
    "# 실제 , 예측\n",
    "cm = confusion_matrix(y_test, pred)\n",
    "print('confusion_matrix : \\n', cm)\n",
    "\n",
    "skplt.metrics.plot_confusion_matrix(y_test,pred,figsize=(8,6))\n",
    "plt.show()\n",
    "\n",
    "cl_report = metrics.classification_report(y_test,pred)\n",
    "print('리포트:\\n',cl_report)"
   ]
  },
  {
   "cell_type": "code",
   "execution_count": 41,
   "id": "88c939f1",
   "metadata": {},
   "outputs": [
    {
     "data": {
      "text/plain": [
       "LogisticRegression(max_iter=10000)"
      ]
     },
     "execution_count": 41,
     "metadata": {},
     "output_type": "execute_result"
    },
    {
     "data": {
      "text/plain": [
       "0.7031151808959512"
      ]
     },
     "execution_count": 41,
     "metadata": {},
     "output_type": "execute_result"
    },
    {
     "data": {
      "text/plain": [
       "0.7031151808959512"
      ]
     },
     "execution_count": 41,
     "metadata": {},
     "output_type": "execute_result"
    },
    {
     "name": "stdout",
     "output_type": "stream",
     "text": [
      "confusion_matrix : \n",
      " [[5785 1242]\n",
      " [2065 2047]]\n"
     ]
    },
    {
     "data": {
      "text/plain": [
       "<AxesSubplot:title={'center':'Confusion Matrix'}, xlabel='Predicted label', ylabel='True label'>"
      ]
     },
     "execution_count": 41,
     "metadata": {},
     "output_type": "execute_result"
    },
    {
     "data": {
      "image/png": "[encoded data removed]",
      "text/plain": [
       "<Figure size 576x432 with 2 Axes>"
      ]
     },
     "metadata": {
      "needs_background": "light"
     },
     "output_type": "display_data"
    },
    {
     "name": "stdout",
     "output_type": "stream",
     "text": [
      "리포트:\n",
      "               precision    recall  f1-score   support\n",
      "\n",
      "         0.0       0.74      0.82      0.78      7027\n",
      "         1.0       0.62      0.50      0.55      4112\n",
      "\n",
      "    accuracy                           0.70     11139\n",
      "   macro avg       0.68      0.66      0.67     11139\n",
      "weighted avg       0.69      0.70      0.69     11139\n",
      "\n"
     ]
    }
   ],
   "source": [
    "#MinMaxScaler\n",
    "from sklearn.linear_model import LogisticRegression\n",
    "model = LogisticRegression(max_iter = 10000)\n",
    "\n",
    "model.fit(x_train_t,y_train)\n",
    "\n",
    "model.score(x_test_t,y_test)\n",
    "pred = model.predict(x_test_t)\n",
    "acc = accuracy_score(y_test,pred)\n",
    "acc\n",
    "\n",
    "# 실제 , 예측\n",
    "cm = confusion_matrix(y_test, pred)\n",
    "print('confusion_matrix : \\n', cm)\n",
    "\n",
    "skplt.metrics.plot_confusion_matrix(y_test,pred,figsize=(8,6))\n",
    "plt.show()\n",
    "\n",
    "cl_report = metrics.classification_report(y_test,pred)\n",
    "print('리포트:\\n',cl_report)"
   ]
  },
  {
   "cell_type": "code",
   "execution_count": 42,
   "id": "f3803ba4",
   "metadata": {},
   "outputs": [
    {
     "data": {
      "text/plain": [
       "LogisticRegression(max_iter=10000)"
      ]
     },
     "execution_count": 42,
     "metadata": {},
     "output_type": "execute_result"
    },
    {
     "data": {
      "text/plain": [
       "0.7056288715324536"
      ]
     },
     "execution_count": 42,
     "metadata": {},
     "output_type": "execute_result"
    },
    {
     "data": {
      "text/plain": [
       "0.7056288715324536"
      ]
     },
     "execution_count": 42,
     "metadata": {},
     "output_type": "execute_result"
    },
    {
     "name": "stdout",
     "output_type": "stream",
     "text": [
      "confusion_matrix : \n",
      " [[5794 1233]\n",
      " [2046 2066]]\n"
     ]
    },
    {
     "data": {
      "text/plain": [
       "<AxesSubplot:title={'center':'Confusion Matrix'}, xlabel='Predicted label', ylabel='True label'>"
      ]
     },
     "execution_count": 42,
     "metadata": {},
     "output_type": "execute_result"
    },
    {
     "data": {
      "image/png": "[encoded data removed]",
      "text/plain": [
       "<Figure size 576x432 with 2 Axes>"
      ]
     },
     "metadata": {
      "needs_background": "light"
     },
     "output_type": "display_data"
    },
    {
     "name": "stdout",
     "output_type": "stream",
     "text": [
      "리포트:\n",
      "               precision    recall  f1-score   support\n",
      "\n",
      "         0.0       0.74      0.82      0.78      7027\n",
      "         1.0       0.63      0.50      0.56      4112\n",
      "\n",
      "    accuracy                           0.71     11139\n",
      "   macro avg       0.68      0.66      0.67     11139\n",
      "weighted avg       0.70      0.71      0.70     11139\n",
      "\n"
     ]
    }
   ],
   "source": [
    "#Robust Scaler\n",
    "model = LogisticRegression(max_iter = 10000)\n",
    "\n",
    "model.fit(x_train_r,y_train)\n",
    "\n",
    "model.score(x_test_r,y_test)\n",
    "pred = model.predict(x_test_r)\n",
    "acc = accuracy_score(y_test,pred)\n",
    "acc\n",
    "\n",
    "# 실제 , 예측\n",
    "cm = confusion_matrix(y_test, pred)\n",
    "print('confusion_matrix : \\n', cm)\n",
    "\n",
    "skplt.metrics.plot_confusion_matrix(y_test,pred,figsize=(8,6))\n",
    "plt.show()\n",
    "\n",
    "cl_report = metrics.classification_report(y_test,pred)\n",
    "print('리포트:\\n',cl_report)"
   ]
  },
  {
   "cell_type": "markdown",
   "id": "80cb08d4",
   "metadata": {},
   "source": [
    "### Support Vector Machine"
   ]
  },
  {
   "cell_type": "code",
   "execution_count": 43,
   "id": "079802af",
   "metadata": {},
   "outputs": [
    {
     "data": {
      "text/plain": [
       "SVC()"
      ]
     },
     "execution_count": 43,
     "metadata": {},
     "output_type": "execute_result"
    },
    {
     "data": {
      "text/plain": [
       "0.7014992369153424"
      ]
     },
     "execution_count": 43,
     "metadata": {},
     "output_type": "execute_result"
    },
    {
     "name": "stdout",
     "output_type": "stream",
     "text": [
      "confusion_matrix : \n",
      " [[6105  922]\n",
      " [2403 1709]]\n"
     ]
    },
    {
     "data": {
      "text/plain": [
       "<AxesSubplot:title={'center':'Confusion Matrix'}, xlabel='Predicted label', ylabel='True label'>"
      ]
     },
     "execution_count": 43,
     "metadata": {},
     "output_type": "execute_result"
    },
    {
     "data": {
      "image/png": "[encoded data removed]",
      "text/plain": [
       "<Figure size 576x432 with 2 Axes>"
      ]
     },
     "metadata": {
      "needs_background": "light"
     },
     "output_type": "display_data"
    }
   ],
   "source": [
    "### 모델 - svm ###\n",
    "\n",
    "from sklearn import svm\n",
    "from sklearn.metrics import accuracy_score\n",
    "\n",
    "\n",
    "model = svm.SVC()\n",
    "model.fit(X_train, y_train)\n",
    "pred = model.predict(X_test)\n",
    "acc = accuracy_score(y_test, pred) \n",
    "acc \n",
    "\n",
    "from sklearn.metrics import confusion_matrix \n",
    "import scikitplot as skplt \n",
    "pred = model.predict(X_test) # 실제 , 예측 \n",
    "cm = confusion_matrix(y_test, pred) \n",
    "print('confusion_matrix : \\n', cm) \n",
    "skplt.metrics.plot_confusion_matrix(y_test,pred,figsize=(8,6)) \n",
    "plt.show()\n",
    "\n",
    "cl_report = metrics.classification_report(y_test,pred)\n",
    "print('리포트:\\n',cl_report)"
   ]
  },
  {
   "cell_type": "code",
   "execution_count": 44,
   "id": "c5820b15",
   "metadata": {},
   "outputs": [
    {
     "data": {
      "text/plain": [
       "SVC()"
      ]
     },
     "execution_count": 44,
     "metadata": {},
     "output_type": "execute_result"
    },
    {
     "data": {
      "text/plain": [
       "0.7197234940299847"
      ]
     },
     "execution_count": 44,
     "metadata": {},
     "output_type": "execute_result"
    },
    {
     "name": "stdout",
     "output_type": "stream",
     "text": [
      "confusion_matrix : \n",
      " [[5831 1196]\n",
      " [1926 2186]]\n"
     ]
    },
    {
     "data": {
      "text/plain": [
       "<AxesSubplot:title={'center':'Confusion Matrix'}, xlabel='Predicted label', ylabel='True label'>"
      ]
     },
     "execution_count": 44,
     "metadata": {},
     "output_type": "execute_result"
    },
    {
     "data": {
      "image/png": "[encoded data removed]",
      "text/plain": [
       "<Figure size 576x432 with 2 Axes>"
      ]
     },
     "metadata": {
      "needs_background": "light"
     },
     "output_type": "display_data"
    },
    {
     "name": "stdout",
     "output_type": "stream",
     "text": [
      "리포트:\n",
      "               precision    recall  f1-score   support\n",
      "\n",
      "         0.0       0.75      0.83      0.79      7027\n",
      "         1.0       0.65      0.53      0.58      4112\n",
      "\n",
      "    accuracy                           0.72     11139\n",
      "   macro avg       0.70      0.68      0.69     11139\n",
      "weighted avg       0.71      0.72      0.71     11139\n",
      "\n"
     ]
    }
   ],
   "source": [
    "#StandardScaler\n",
    "from sklearn import svm\n",
    "from sklearn.metrics import accuracy_score\n",
    "\n",
    "\n",
    "model = svm.SVC()\n",
    "model.fit(x_train_std, y_train)\n",
    "pred = model.predict(x_test_std)\n",
    "acc = accuracy_score(y_test, pred) \n",
    "acc \n",
    "\n",
    "from sklearn.metrics import confusion_matrix \n",
    "import scikitplot as skplt \n",
    "pred = model.predict(x_test_std) # 실제 , 예측 \n",
    "cm = confusion_matrix(y_test, pred) \n",
    "print('confusion_matrix : \\n', cm) \n",
    "skplt.metrics.plot_confusion_matrix(y_test,pred,figsize=(8,6)) \n",
    "plt.show()\n",
    "\n",
    "cl_report = metrics.classification_report(y_test,pred)\n",
    "print('리포트:\\n',cl_report)"
   ]
  },
  {
   "cell_type": "code",
   "execution_count": 45,
   "id": "a1f3b10f",
   "metadata": {},
   "outputs": [
    {
     "data": {
      "text/plain": [
       "SVC()"
      ]
     },
     "execution_count": 45,
     "metadata": {},
     "output_type": "execute_result"
    },
    {
     "data": {
      "text/plain": [
       "0.7087709848280815"
      ]
     },
     "execution_count": 45,
     "metadata": {},
     "output_type": "execute_result"
    },
    {
     "name": "stdout",
     "output_type": "stream",
     "text": [
      "confusion_matrix : \n",
      " [[5960 1067]\n",
      " [2177 1935]]\n"
     ]
    },
    {
     "data": {
      "text/plain": [
       "<AxesSubplot:title={'center':'Confusion Matrix'}, xlabel='Predicted label', ylabel='True label'>"
      ]
     },
     "execution_count": 45,
     "metadata": {},
     "output_type": "execute_result"
    },
    {
     "data": {
      "image/png": "[encoded data removed]",
      "text/plain": [
       "<Figure size 576x432 with 2 Axes>"
      ]
     },
     "metadata": {
      "needs_background": "light"
     },
     "output_type": "display_data"
    },
    {
     "name": "stdout",
     "output_type": "stream",
     "text": [
      "리포트:\n",
      "               precision    recall  f1-score   support\n",
      "\n",
      "         0.0       0.73      0.85      0.79      7027\n",
      "         1.0       0.64      0.47      0.54      4112\n",
      "\n",
      "    accuracy                           0.71     11139\n",
      "   macro avg       0.69      0.66      0.67     11139\n",
      "weighted avg       0.70      0.71      0.70     11139\n",
      "\n"
     ]
    }
   ],
   "source": [
    "#MinMaxScaler\n",
    "model = svm.SVC()\n",
    "model.fit(x_train_t, y_train)\n",
    "pred = model.predict(x_test_t)\n",
    "acc = accuracy_score(y_test, pred) \n",
    "acc \n",
    "\n",
    "from sklearn.metrics import confusion_matrix \n",
    "import scikitplot as skplt \n",
    "pred = model.predict(x_test_t) # 실제 , 예측 \n",
    "cm = confusion_matrix(y_test, pred) \n",
    "print('confusion_matrix : \\n', cm) \n",
    "skplt.metrics.plot_confusion_matrix(y_test,pred,figsize=(8,6)) \n",
    "plt.show()\n",
    "\n",
    "cl_report = metrics.classification_report(y_test,pred)\n",
    "print('리포트:\\n',cl_report)"
   ]
  },
  {
   "cell_type": "code",
   "execution_count": 46,
   "id": "a65b7500",
   "metadata": {},
   "outputs": [
    {
     "data": {
      "text/plain": [
       "SVC()"
      ]
     },
     "execution_count": 46,
     "metadata": {},
     "output_type": "execute_result"
    },
    {
     "data": {
      "text/plain": [
       "0.7189155220396805"
      ]
     },
     "execution_count": 46,
     "metadata": {},
     "output_type": "execute_result"
    },
    {
     "name": "stdout",
     "output_type": "stream",
     "text": [
      "confusion_matrix : \n",
      " [[5885 1142]\n",
      " [1989 2123]]\n"
     ]
    },
    {
     "data": {
      "text/plain": [
       "<AxesSubplot:title={'center':'Confusion Matrix'}, xlabel='Predicted label', ylabel='True label'>"
      ]
     },
     "execution_count": 46,
     "metadata": {},
     "output_type": "execute_result"
    },
    {
     "data": {
      "image/png": "[encoded data removed]",
      "text/plain": [
       "<Figure size 576x432 with 2 Axes>"
      ]
     },
     "metadata": {
      "needs_background": "light"
     },
     "output_type": "display_data"
    },
    {
     "name": "stdout",
     "output_type": "stream",
     "text": [
      "리포트:\n",
      "               precision    recall  f1-score   support\n",
      "\n",
      "         0.0       0.75      0.84      0.79      7027\n",
      "         1.0       0.65      0.52      0.58      4112\n",
      "\n",
      "    accuracy                           0.72     11139\n",
      "   macro avg       0.70      0.68      0.68     11139\n",
      "weighted avg       0.71      0.72      0.71     11139\n",
      "\n"
     ]
    }
   ],
   "source": [
    "#Robust Scaler\n",
    "model = svm.SVC()\n",
    "model.fit(x_train_r, y_train)\n",
    "pred = model.predict(x_test_r)\n",
    "acc = accuracy_score(y_test, pred) \n",
    "acc \n",
    "\n",
    "from sklearn.metrics import confusion_matrix \n",
    "import scikitplot as skplt \n",
    "pred = model.predict(x_test_r) # 실제 , 예측 \n",
    "cm = confusion_matrix(y_test, pred) \n",
    "print('confusion_matrix : \\n', cm) \n",
    "skplt.metrics.plot_confusion_matrix(y_test,pred,figsize=(8,6)) \n",
    "plt.show()\n",
    "\n",
    "cl_report = metrics.classification_report(y_test,pred)\n",
    "print('리포트:\\n',cl_report)"
   ]
  },
  {
   "cell_type": "code",
   "execution_count": null,
   "id": "4f1507e3",
   "metadata": {},
   "outputs": [],
   "source": []
  }
 ],
 "metadata": {
  "kernelspec": {
   "display_name": "Python 3 (ipykernel)",
   "language": "python",
   "name": "python3"
  },
  "language_info": {
   "codemirror_mode": {
    "name": "ipython",
    "version": 3
   },
   "file_extension": ".py",
   "mimetype": "text/x-python",
   "name": "python",
   "nbconvert_exporter": "python",
   "pygments_lexer": "ipython3",
   "version": "3.9.12"
  }
 },
 "nbformat": 4,
 "nbformat_minor": 5
}

{
 "cells": [
  {
   "cell_type": "code",
   "execution_count": 1,
   "id": "fd4ffb4a",
   "metadata": {},
   "outputs": [],
   "source": [
    "from IPython.core.interactiveshell import InteractiveShell\n",
    "InteractiveShell.ast_node_interactivity=\"all\""
   ]
  },
  {
   "cell_type": "code",
   "execution_count": 2,
   "id": "2fe54622",
   "metadata": {},
   "outputs": [],
   "source": [
    "import numpy as np\n",
    "import pandas as pd\n",
    "\n",
    "df = pd.read_csv('C:/ds_work/source_code/Project_DS/data/train_update.csv')"
   ]
  },
  {
   "cell_type": "code",
   "execution_count": 3,
   "id": "a640bc55",
   "metadata": {},
   "outputs": [
    {
     "data": {
      "text/plain": [
       "{'whiskers': [<matplotlib.lines.Line2D at 0x208f3d76790>,\n",
       "  <matplotlib.lines.Line2D at 0x208f3d76a60>],\n",
       " 'caps': [<matplotlib.lines.Line2D at 0x208f3d76df0>,\n",
       "  <matplotlib.lines.Line2D at 0x208f4433040>],\n",
       " 'boxes': [<matplotlib.lines.Line2D at 0x208f3d764c0>],\n",
       " 'medians': [<matplotlib.lines.Line2D at 0x208f4433310>],\n",
       " 'fliers': [<matplotlib.lines.Line2D at 0x208f44335e0>],\n",
       " 'means': []}"
      ]
     },
     "execution_count": 3,
     "metadata": {},
     "output_type": "execute_result"
    },
    {
     "data": {
      "text/plain": [
       "Text(0.5, 1.0, 'HomePlanet')"
      ]
     },
     "execution_count": 3,
     "metadata": {},
     "output_type": "execute_result"
    },
    {
     "data": {
      "text/plain": [
       "{'whiskers': [<matplotlib.lines.Line2D at 0x208f44813a0>,\n",
       "  <matplotlib.lines.Line2D at 0x208f4481670>],\n",
       " 'caps': [<matplotlib.lines.Line2D at 0x208f4481940>,\n",
       "  <matplotlib.lines.Line2D at 0x208f4481c10>],\n",
       " 'boxes': [<matplotlib.lines.Line2D at 0x208f44810d0>],\n",
       " 'medians': [<matplotlib.lines.Line2D at 0x208f4481ee0>],\n",
       " 'fliers': [<matplotlib.lines.Line2D at 0x208f44901f0>],\n",
       " 'means': []}"
      ]
     },
     "execution_count": 3,
     "metadata": {},
     "output_type": "execute_result"
    },
    {
     "data": {
      "text/plain": [
       "Text(0.5, 1.0, 'CryoSleep')"
      ]
     },
     "execution_count": 3,
     "metadata": {},
     "output_type": "execute_result"
    },
    {
     "data": {
      "text/plain": [
       "{'whiskers': [<matplotlib.lines.Line2D at 0x208f44b4850>,\n",
       "  <matplotlib.lines.Line2D at 0x208f44c3fa0>],\n",
       " 'caps': [<matplotlib.lines.Line2D at 0x208f44d22b0>,\n",
       "  <matplotlib.lines.Line2D at 0x208f44d2580>],\n",
       " 'boxes': [<matplotlib.lines.Line2D at 0x208f44c3b20>],\n",
       " 'medians': [<matplotlib.lines.Line2D at 0x208f44d2850>],\n",
       " 'fliers': [<matplotlib.lines.Line2D at 0x208f44d2b20>],\n",
       " 'means': []}"
      ]
     },
     "execution_count": 3,
     "metadata": {},
     "output_type": "execute_result"
    },
    {
     "data": {
      "text/plain": [
       "Text(0.5, 1.0, 'Cabin')"
      ]
     },
     "execution_count": 3,
     "metadata": {},
     "output_type": "execute_result"
    },
    {
     "data": {
      "text/plain": [
       "{'whiskers': [<matplotlib.lines.Line2D at 0x208f45109a0>,\n",
       "  <matplotlib.lines.Line2D at 0x208f4510c70>],\n",
       " 'caps': [<matplotlib.lines.Line2D at 0x208f4510e20>,\n",
       "  <matplotlib.lines.Line2D at 0x208f451e130>],\n",
       " 'boxes': [<matplotlib.lines.Line2D at 0x208f45106d0>],\n",
       " 'medians': [<matplotlib.lines.Line2D at 0x208f451e400>],\n",
       " 'fliers': [<matplotlib.lines.Line2D at 0x208f451e6d0>],\n",
       " 'means': []}"
      ]
     },
     "execution_count": 3,
     "metadata": {},
     "output_type": "execute_result"
    },
    {
     "data": {
      "text/plain": [
       "Text(0.5, 1.0, 'Cabin_num')"
      ]
     },
     "execution_count": 3,
     "metadata": {},
     "output_type": "execute_result"
    },
    {
     "data": {
      "text/plain": [
       "{'whiskers': [<matplotlib.lines.Line2D at 0x208f455f580>,\n",
       "  <matplotlib.lines.Line2D at 0x208f455f850>],\n",
       " 'caps': [<matplotlib.lines.Line2D at 0x208f455fa00>,\n",
       "  <matplotlib.lines.Line2D at 0x208f455fcd0>],\n",
       " 'boxes': [<matplotlib.lines.Line2D at 0x208f455f2b0>],\n",
       " 'medians': [<matplotlib.lines.Line2D at 0x208f455ffa0>],\n",
       " 'fliers': [<matplotlib.lines.Line2D at 0x208f456a2b0>],\n",
       " 'means': []}"
      ]
     },
     "execution_count": 3,
     "metadata": {},
     "output_type": "execute_result"
    },
    {
     "data": {
      "text/plain": [
       "Text(0.5, 1.0, 'Cabin_port')"
      ]
     },
     "execution_count": 3,
     "metadata": {},
     "output_type": "execute_result"
    },
    {
     "data": {
      "image/png": "[encoded data removed]",
      "text/plain": [
       "<Figure size 1440x720 with 5 Axes>"
      ]
     },
     "metadata": {
      "needs_background": "light"
     },
     "output_type": "display_data"
    }
   ],
   "source": [
    "import matplotlib.pyplot as plt\n",
    "import numpy as np\n",
    "\n",
    "HomePlanet = df['HomePlanet']\n",
    "CryoSleep = df['CryoSleep']\n",
    "Cabin = df['Cabin']\n",
    "Cabin_num = df['Cabin_num']\n",
    "Cabin_port = df['Cabin_port']\n",
    "\n",
    "fig = plt.figure(figsize=(20, 10))\n",
    "ax01 = fig.add_subplot(2, 5, 1)\n",
    "\n",
    "ax01.boxplot(HomePlanet)\n",
    "plt.title(\"HomePlanet\", fontsize = 15)\n",
    "\n",
    "ax02 = fig.add_subplot(2, 5, 2)\n",
    "\n",
    "ax02.boxplot(CryoSleep)\n",
    "plt.title(\"CryoSleep\", fontsize = 15)\n",
    "\n",
    "ax03 = fig.add_subplot(2, 5, 3)\n",
    "\n",
    "ax03.boxplot(Cabin)\n",
    "plt.title(\"Cabin\", fontsize = 15)\n",
    "\n",
    "ax04 = fig.add_subplot(2, 5, 4)\n",
    "\n",
    "ax04.boxplot(Cabin_num)\n",
    "plt.title(\"Cabin_num\", fontsize = 15)\n",
    "\n",
    "ax05 = fig.add_subplot(2, 5, 5)\n",
    "\n",
    "ax05.boxplot(Cabin_port)\n",
    "plt.title(\"Cabin_port\", fontsize = 15)"
   ]
  },
  {
   "cell_type": "code",
   "execution_count": 4,
   "id": "c437aa1a",
   "metadata": {},
   "outputs": [
    {
     "data": {
      "text/plain": [
       "{'whiskers': [<matplotlib.lines.Line2D at 0x208f45f3100>,\n",
       "  <matplotlib.lines.Line2D at 0x208f45f33d0>],\n",
       " 'caps': [<matplotlib.lines.Line2D at 0x208f45f36a0>,\n",
       "  <matplotlib.lines.Line2D at 0x208f45f3910>],\n",
       " 'boxes': [<matplotlib.lines.Line2D at 0x208f5d36df0>],\n",
       " 'medians': [<matplotlib.lines.Line2D at 0x208f45f3be0>],\n",
       " 'fliers': [<matplotlib.lines.Line2D at 0x208f45f3eb0>],\n",
       " 'means': []}"
      ]
     },
     "execution_count": 4,
     "metadata": {},
     "output_type": "execute_result"
    },
    {
     "data": {
      "text/plain": [
       "Text(0.5, 1.0, 'Destination')"
      ]
     },
     "execution_count": 4,
     "metadata": {},
     "output_type": "execute_result"
    },
    {
     "data": {
      "text/plain": [
       "{'whiskers': [<matplotlib.lines.Line2D at 0x208f4633c10>,\n",
       "  <matplotlib.lines.Line2D at 0x208f4633ee0>],\n",
       " 'caps': [<matplotlib.lines.Line2D at 0x208f46421f0>,\n",
       "  <matplotlib.lines.Line2D at 0x208f46424c0>],\n",
       " 'boxes': [<matplotlib.lines.Line2D at 0x208f4633940>],\n",
       " 'medians': [<matplotlib.lines.Line2D at 0x208f4642790>],\n",
       " 'fliers': [<matplotlib.lines.Line2D at 0x208f4642a60>],\n",
       " 'means': []}"
      ]
     },
     "execution_count": 4,
     "metadata": {},
     "output_type": "execute_result"
    },
    {
     "data": {
      "text/plain": [
       "Text(0.5, 1.0, 'Age')"
      ]
     },
     "execution_count": 4,
     "metadata": {},
     "output_type": "execute_result"
    },
    {
     "data": {
      "text/plain": [
       "{'whiskers': [<matplotlib.lines.Line2D at 0x208f4680a60>,\n",
       "  <matplotlib.lines.Line2D at 0x208f4680c10>],\n",
       " 'caps': [<matplotlib.lines.Line2D at 0x208f4680ee0>,\n",
       "  <matplotlib.lines.Line2D at 0x208f468c1f0>],\n",
       " 'boxes': [<matplotlib.lines.Line2D at 0x208f4680790>],\n",
       " 'medians': [<matplotlib.lines.Line2D at 0x208f468c4c0>],\n",
       " 'fliers': [<matplotlib.lines.Line2D at 0x208f468c790>],\n",
       " 'means': []}"
      ]
     },
     "execution_count": 4,
     "metadata": {},
     "output_type": "execute_result"
    },
    {
     "data": {
      "text/plain": [
       "Text(0.5, 1.0, 'VIP')"
      ]
     },
     "execution_count": 4,
     "metadata": {},
     "output_type": "execute_result"
    },
    {
     "data": {
      "text/plain": [
       "{'whiskers': [<matplotlib.lines.Line2D at 0x208f46c7280>,\n",
       "  <matplotlib.lines.Line2D at 0x208f46c7550>],\n",
       " 'caps': [<matplotlib.lines.Line2D at 0x208f46c7820>,\n",
       "  <matplotlib.lines.Line2D at 0x208f46c7af0>],\n",
       " 'boxes': [<matplotlib.lines.Line2D at 0x208f46baf70>],\n",
       " 'medians': [<matplotlib.lines.Line2D at 0x208f46c7dc0>],\n",
       " 'fliers': [<matplotlib.lines.Line2D at 0x208f46d60d0>],\n",
       " 'means': []}"
      ]
     },
     "execution_count": 4,
     "metadata": {},
     "output_type": "execute_result"
    },
    {
     "data": {
      "text/plain": [
       "Text(0.5, 1.0, 'RoomService')"
      ]
     },
     "execution_count": 4,
     "metadata": {},
     "output_type": "execute_result"
    },
    {
     "data": {
      "text/plain": [
       "{'whiskers': [<matplotlib.lines.Line2D at 0x208f4717100>,\n",
       "  <matplotlib.lines.Line2D at 0x208f47173d0>],\n",
       " 'caps': [<matplotlib.lines.Line2D at 0x208f47176a0>,\n",
       "  <matplotlib.lines.Line2D at 0x208f4717970>],\n",
       " 'boxes': [<matplotlib.lines.Line2D at 0x208f470adf0>],\n",
       " 'medians': [<matplotlib.lines.Line2D at 0x208f4717c40>],\n",
       " 'fliers': [<matplotlib.lines.Line2D at 0x208f4717f10>],\n",
       " 'means': []}"
      ]
     },
     "execution_count": 4,
     "metadata": {},
     "output_type": "execute_result"
    },
    {
     "data": {
      "text/plain": [
       "Text(0.5, 1.0, 'FoodCourt')"
      ]
     },
     "execution_count": 4,
     "metadata": {},
     "output_type": "execute_result"
    },
    {
     "data": {
      "image/png": "[encoded data removed]",
      "text/plain": [
       "<Figure size 1440x720 with 5 Axes>"
      ]
     },
     "metadata": {
      "needs_background": "light"
     },
     "output_type": "display_data"
    }
   ],
   "source": [
    "Destination = df['Destination']\n",
    "Age = df['Age']\n",
    "VIP = df['VIP']\n",
    "RoomService = df['RoomService']\n",
    "FoodCourt = df['FoodCourt']\n",
    "\n",
    "fig = plt.figure(figsize=(20, 10))\n",
    "ax01 = fig.add_subplot(2, 5, 1)\n",
    "\n",
    "ax01.boxplot(Destination)\n",
    "plt.title(\"Destination\", fontsize = 15)\n",
    "\n",
    "ax02 = fig.add_subplot(2, 5, 2)\n",
    "\n",
    "ax02.boxplot(Age)\n",
    "plt.title(\"Age\", fontsize = 15)\n",
    "\n",
    "ax03 = fig.add_subplot(2, 5, 3)\n",
    "\n",
    "ax03.boxplot(VIP)\n",
    "plt.title(\"VIP\", fontsize = 15)\n",
    "\n",
    "ax04 = fig.add_subplot(2, 5, 4)\n",
    "\n",
    "ax04.boxplot(RoomService)\n",
    "plt.title(\"RoomService\", fontsize = 15)\n",
    "\n",
    "ax05 = fig.add_subplot(2, 5, 5)\n",
    "\n",
    "ax05.boxplot(FoodCourt)\n",
    "plt.title(\"FoodCourt\", fontsize = 15)"
   ]
  },
  {
   "cell_type": "code",
   "execution_count": 5,
   "id": "f1305eb4",
   "metadata": {},
   "outputs": [
    {
     "data": {
      "text/plain": [
       "{'whiskers': [<matplotlib.lines.Line2D at 0x208f47e6730>,\n",
       "  <matplotlib.lines.Line2D at 0x208f47e6a00>],\n",
       " 'caps': [<matplotlib.lines.Line2D at 0x208f47e6cd0>,\n",
       "  <matplotlib.lines.Line2D at 0x208f47e6fa0>],\n",
       " 'boxes': [<matplotlib.lines.Line2D at 0x208f47e6460>],\n",
       " 'medians': [<matplotlib.lines.Line2D at 0x208f49522b0>],\n",
       " 'fliers': [<matplotlib.lines.Line2D at 0x208f4952580>],\n",
       " 'means': []}"
      ]
     },
     "execution_count": 5,
     "metadata": {},
     "output_type": "execute_result"
    },
    {
     "data": {
      "text/plain": [
       "Text(0.5, 1.0, 'ShoppingMall')"
      ]
     },
     "execution_count": 5,
     "metadata": {},
     "output_type": "execute_result"
    },
    {
     "data": {
      "text/plain": [
       "{'whiskers': [<matplotlib.lines.Line2D at 0x208f4990400>,\n",
       "  <matplotlib.lines.Line2D at 0x208f49906d0>],\n",
       " 'caps': [<matplotlib.lines.Line2D at 0x208f4990880>,\n",
       "  <matplotlib.lines.Line2D at 0x208f4990b50>],\n",
       " 'boxes': [<matplotlib.lines.Line2D at 0x208f4990130>],\n",
       " 'medians': [<matplotlib.lines.Line2D at 0x208f4990e20>],\n",
       " 'fliers': [<matplotlib.lines.Line2D at 0x208f49a0130>],\n",
       " 'means': []}"
      ]
     },
     "execution_count": 5,
     "metadata": {},
     "output_type": "execute_result"
    },
    {
     "data": {
      "text/plain": [
       "Text(0.5, 1.0, 'Spa')"
      ]
     },
     "execution_count": 5,
     "metadata": {},
     "output_type": "execute_result"
    },
    {
     "data": {
      "text/plain": [
       "{'whiskers': [<matplotlib.lines.Line2D at 0x208f5b690a0>,\n",
       "  <matplotlib.lines.Line2D at 0x208f5b69370>],\n",
       " 'caps': [<matplotlib.lines.Line2D at 0x208f5b69640>,\n",
       "  <matplotlib.lines.Line2D at 0x208f5b69910>],\n",
       " 'boxes': [<matplotlib.lines.Line2D at 0x208f49cad90>],\n",
       " 'medians': [<matplotlib.lines.Line2D at 0x208f5b69be0>],\n",
       " 'fliers': [<matplotlib.lines.Line2D at 0x208f5b69eb0>],\n",
       " 'means': []}"
      ]
     },
     "execution_count": 5,
     "metadata": {},
     "output_type": "execute_result"
    },
    {
     "data": {
      "text/plain": [
       "Text(0.5, 1.0, 'VRDeck')"
      ]
     },
     "execution_count": 5,
     "metadata": {},
     "output_type": "execute_result"
    },
    {
     "data": {
      "image/png": "[encoded data removed]",
      "text/plain": [
       "<Figure size 1440x720 with 3 Axes>"
      ]
     },
     "metadata": {
      "needs_background": "light"
     },
     "output_type": "display_data"
    }
   ],
   "source": [
    "ShoppingMall = df['ShoppingMall']\n",
    "Spa = df['Spa']\n",
    "VRDeck = df['VRDeck']\n",
    "\n",
    "fig = plt.figure(figsize=(20, 10))\n",
    "ax01 = fig.add_subplot(2, 5, 1)\n",
    "\n",
    "ax01.boxplot(ShoppingMall)\n",
    "plt.title(\"ShoppingMall\", fontsize = 15)\n",
    "\n",
    "ax02 = fig.add_subplot(2, 5, 2)\n",
    "\n",
    "ax02.boxplot(Spa)\n",
    "plt.title(\"Spa\", fontsize = 15)\n",
    "\n",
    "ax03 = fig.add_subplot(2, 5, 3)\n",
    "\n",
    "ax03.boxplot(VRDeck)\n",
    "plt.title(\"VRDeck\", fontsize = 15)"
   ]
  },
  {
   "cell_type": "code",
   "execution_count": 11,
   "id": "5755c6df",
   "metadata": {},
   "outputs": [
    {
     "data": {
      "text/plain": [
       "<Figure size 792x792 with 0 Axes>"
      ]
     },
     "execution_count": 11,
     "metadata": {},
     "output_type": "execute_result"
    },
    {
     "data": {
      "text/plain": [
       "<AxesSubplot:>"
      ]
     },
     "execution_count": 11,
     "metadata": {},
     "output_type": "execute_result"
    },
    {
     "data": {
      "image/png": "[encoded data removed]",
      "text/plain": [
       "<Figure size 792x792 with 2 Axes>"
      ]
     },
     "metadata": {
      "needs_background": "light"
     },
     "output_type": "display_data"
    }
   ],
   "source": [
    "import seaborn as sns\n",
    "\n",
    "cmap = sns.diverging_palette(220,10,as_cmap=True)\n",
    "\n",
    "plt.figure(figsize =(11,11))\n",
    "sns.heatmap(corr, cmap = cmap, vmax=1.0, vmin = -1.0, center =0, square= True, linewidths=.5, cbar_kws={'shrink':.5})\n",
    "plt.show()"
   ]
  },
  {
   "cell_type": "code",
   "execution_count": 10,
   "id": "cfc98426",
   "metadata": {},
   "outputs": [
    {
     "data": {
      "text/html": [
       "<div>\n",
       "<style scoped>\n",
       "    .dataframe tbody tr th:only-of-type {\n",
       "        vertical-align: middle;\n",
       "    }\n",
       "\n",
       "    .dataframe tbody tr th {\n",
       "        vertical-align: top;\n",
       "    }\n",
       "\n",
       "    .dataframe thead th {\n",
       "        text-align: right;\n",
       "    }\n",
       "</style>\n",
       "<table border=\"1\" class=\"dataframe\">\n",
       "  <thead>\n",
       "    <tr style=\"text-align: right;\">\n",
       "      <th></th>\n",
       "      <th>HomePlanet</th>\n",
       "      <th>CryoSleep</th>\n",
       "      <th>Cabin</th>\n",
       "      <th>Cabin_num</th>\n",
       "      <th>Cabin_port</th>\n",
       "      <th>Destination</th>\n",
       "      <th>Age</th>\n",
       "      <th>VIP</th>\n",
       "      <th>RoomService</th>\n",
       "      <th>FoodCourt</th>\n",
       "      <th>ShoppingMall</th>\n",
       "      <th>Spa</th>\n",
       "      <th>VRDeck</th>\n",
       "      <th>Transported</th>\n",
       "    </tr>\n",
       "  </thead>\n",
       "  <tbody>\n",
       "    <tr>\n",
       "      <th>HomePlanet</th>\n",
       "      <td>1.000000</td>\n",
       "      <td>0.091590</td>\n",
       "      <td>-0.415646</td>\n",
       "      <td>-0.197399</td>\n",
       "      <td>0.000889</td>\n",
       "      <td>0.035507</td>\n",
       "      <td>0.134921</td>\n",
       "      <td>0.127729</td>\n",
       "      <td>0.200695</td>\n",
       "      <td>0.068574</td>\n",
       "      <td>0.102658</td>\n",
       "      <td>0.050476</td>\n",
       "      <td>0.034693</td>\n",
       "      <td>0.120585</td>\n",
       "    </tr>\n",
       "    <tr>\n",
       "      <th>CryoSleep</th>\n",
       "      <td>0.091590</td>\n",
       "      <td>1.000000</td>\n",
       "      <td>0.017328</td>\n",
       "      <td>-0.036424</td>\n",
       "      <td>0.014294</td>\n",
       "      <td>-0.097102</td>\n",
       "      <td>-0.073034</td>\n",
       "      <td>-0.081008</td>\n",
       "      <td>-0.258021</td>\n",
       "      <td>-0.211683</td>\n",
       "      <td>-0.219420</td>\n",
       "      <td>-0.192221</td>\n",
       "      <td>-0.207048</td>\n",
       "      <td>0.468532</td>\n",
       "    </tr>\n",
       "    <tr>\n",
       "      <th>Cabin</th>\n",
       "      <td>-0.415646</td>\n",
       "      <td>0.017328</td>\n",
       "      <td>1.000000</td>\n",
       "      <td>0.528905</td>\n",
       "      <td>-0.031960</td>\n",
       "      <td>0.191056</td>\n",
       "      <td>-0.241982</td>\n",
       "      <td>-0.179120</td>\n",
       "      <td>-0.022808</td>\n",
       "      <td>-0.318726</td>\n",
       "      <td>-0.030124</td>\n",
       "      <td>-0.212198</td>\n",
       "      <td>-0.246485</td>\n",
       "      <td>-0.115285</td>\n",
       "    </tr>\n",
       "    <tr>\n",
       "      <th>Cabin_num</th>\n",
       "      <td>-0.197399</td>\n",
       "      <td>-0.036424</td>\n",
       "      <td>0.528905</td>\n",
       "      <td>1.000000</td>\n",
       "      <td>-0.020718</td>\n",
       "      <td>0.106849</td>\n",
       "      <td>-0.128227</td>\n",
       "      <td>-0.097618</td>\n",
       "      <td>-0.011576</td>\n",
       "      <td>-0.180146</td>\n",
       "      <td>0.004001</td>\n",
       "      <td>-0.121948</td>\n",
       "      <td>-0.133936</td>\n",
       "      <td>-0.042323</td>\n",
       "    </tr>\n",
       "    <tr>\n",
       "      <th>Cabin_port</th>\n",
       "      <td>0.000889</td>\n",
       "      <td>0.014294</td>\n",
       "      <td>-0.031960</td>\n",
       "      <td>-0.020718</td>\n",
       "      <td>1.000000</td>\n",
       "      <td>-0.006975</td>\n",
       "      <td>0.009431</td>\n",
       "      <td>-0.011087</td>\n",
       "      <td>-0.019242</td>\n",
       "      <td>0.019088</td>\n",
       "      <td>-0.019425</td>\n",
       "      <td>-0.001342</td>\n",
       "      <td>-0.008178</td>\n",
       "      <td>0.100991</td>\n",
       "    </tr>\n",
       "    <tr>\n",
       "      <th>Destination</th>\n",
       "      <td>0.035507</td>\n",
       "      <td>-0.097102</td>\n",
       "      <td>0.191056</td>\n",
       "      <td>0.106849</td>\n",
       "      <td>-0.006975</td>\n",
       "      <td>1.000000</td>\n",
       "      <td>-0.011265</td>\n",
       "      <td>-0.047712</td>\n",
       "      <td>0.051236</td>\n",
       "      <td>-0.112509</td>\n",
       "      <td>0.026427</td>\n",
       "      <td>-0.055834</td>\n",
       "      <td>-0.073019</td>\n",
       "      <td>-0.108128</td>\n",
       "    </tr>\n",
       "    <tr>\n",
       "      <th>Age</th>\n",
       "      <td>0.134921</td>\n",
       "      <td>-0.073034</td>\n",
       "      <td>-0.241982</td>\n",
       "      <td>-0.128227</td>\n",
       "      <td>0.009431</td>\n",
       "      <td>-0.011265</td>\n",
       "      <td>1.000000</td>\n",
       "      <td>0.092976</td>\n",
       "      <td>0.068006</td>\n",
       "      <td>0.126550</td>\n",
       "      <td>0.031875</td>\n",
       "      <td>0.115098</td>\n",
       "      <td>0.099591</td>\n",
       "      <td>-0.071658</td>\n",
       "    </tr>\n",
       "    <tr>\n",
       "      <th>VIP</th>\n",
       "      <td>0.127729</td>\n",
       "      <td>-0.081008</td>\n",
       "      <td>-0.179120</td>\n",
       "      <td>-0.097618</td>\n",
       "      <td>-0.011087</td>\n",
       "      <td>-0.047712</td>\n",
       "      <td>0.092976</td>\n",
       "      <td>1.000000</td>\n",
       "      <td>0.055194</td>\n",
       "      <td>0.126860</td>\n",
       "      <td>0.019788</td>\n",
       "      <td>0.054353</td>\n",
       "      <td>0.120782</td>\n",
       "      <td>-0.037261</td>\n",
       "    </tr>\n",
       "    <tr>\n",
       "      <th>RoomService</th>\n",
       "      <td>0.200695</td>\n",
       "      <td>-0.258021</td>\n",
       "      <td>-0.022808</td>\n",
       "      <td>-0.011576</td>\n",
       "      <td>-0.019242</td>\n",
       "      <td>0.051236</td>\n",
       "      <td>0.068006</td>\n",
       "      <td>0.055194</td>\n",
       "      <td>1.000000</td>\n",
       "      <td>-0.008978</td>\n",
       "      <td>0.058307</td>\n",
       "      <td>0.024133</td>\n",
       "      <td>-0.007945</td>\n",
       "      <td>-0.246546</td>\n",
       "    </tr>\n",
       "    <tr>\n",
       "      <th>FoodCourt</th>\n",
       "      <td>0.068574</td>\n",
       "      <td>-0.211683</td>\n",
       "      <td>-0.318726</td>\n",
       "      <td>-0.180146</td>\n",
       "      <td>0.019088</td>\n",
       "      <td>-0.112509</td>\n",
       "      <td>0.126550</td>\n",
       "      <td>0.126860</td>\n",
       "      <td>-0.008978</td>\n",
       "      <td>1.000000</td>\n",
       "      <td>-0.011982</td>\n",
       "      <td>0.204144</td>\n",
       "      <td>0.221379</td>\n",
       "      <td>0.047036</td>\n",
       "    </tr>\n",
       "    <tr>\n",
       "      <th>ShoppingMall</th>\n",
       "      <td>0.102658</td>\n",
       "      <td>-0.219420</td>\n",
       "      <td>-0.030124</td>\n",
       "      <td>0.004001</td>\n",
       "      <td>-0.019425</td>\n",
       "      <td>0.026427</td>\n",
       "      <td>0.031875</td>\n",
       "      <td>0.019788</td>\n",
       "      <td>0.058307</td>\n",
       "      <td>-0.011982</td>\n",
       "      <td>1.000000</td>\n",
       "      <td>0.014538</td>\n",
       "      <td>-0.004248</td>\n",
       "      <td>0.005304</td>\n",
       "    </tr>\n",
       "    <tr>\n",
       "      <th>Spa</th>\n",
       "      <td>0.050476</td>\n",
       "      <td>-0.192221</td>\n",
       "      <td>-0.212198</td>\n",
       "      <td>-0.121948</td>\n",
       "      <td>-0.001342</td>\n",
       "      <td>-0.055834</td>\n",
       "      <td>0.115098</td>\n",
       "      <td>0.054353</td>\n",
       "      <td>0.024133</td>\n",
       "      <td>0.204144</td>\n",
       "      <td>0.014538</td>\n",
       "      <td>1.000000</td>\n",
       "      <td>0.140745</td>\n",
       "      <td>-0.210963</td>\n",
       "    </tr>\n",
       "    <tr>\n",
       "      <th>VRDeck</th>\n",
       "      <td>0.034693</td>\n",
       "      <td>-0.207048</td>\n",
       "      <td>-0.246485</td>\n",
       "      <td>-0.133936</td>\n",
       "      <td>-0.008178</td>\n",
       "      <td>-0.073019</td>\n",
       "      <td>0.099591</td>\n",
       "      <td>0.120782</td>\n",
       "      <td>-0.007945</td>\n",
       "      <td>0.221379</td>\n",
       "      <td>-0.004248</td>\n",
       "      <td>0.140745</td>\n",
       "      <td>1.000000</td>\n",
       "      <td>-0.210309</td>\n",
       "    </tr>\n",
       "    <tr>\n",
       "      <th>Transported</th>\n",
       "      <td>0.120585</td>\n",
       "      <td>0.468532</td>\n",
       "      <td>-0.115285</td>\n",
       "      <td>-0.042323</td>\n",
       "      <td>0.100991</td>\n",
       "      <td>-0.108128</td>\n",
       "      <td>-0.071658</td>\n",
       "      <td>-0.037261</td>\n",
       "      <td>-0.246546</td>\n",
       "      <td>0.047036</td>\n",
       "      <td>0.005304</td>\n",
       "      <td>-0.210963</td>\n",
       "      <td>-0.210309</td>\n",
       "      <td>1.000000</td>\n",
       "    </tr>\n",
       "  </tbody>\n",
       "</table>\n",
       "</div>"
      ],
      "text/plain": [
       "              HomePlanet  CryoSleep     Cabin  Cabin_num  Cabin_port  \\\n",
       "HomePlanet      1.000000   0.091590 -0.415646  -0.197399    0.000889   \n",
       "CryoSleep       0.091590   1.000000  0.017328  -0.036424    0.014294   \n",
       "Cabin          -0.415646   0.017328  1.000000   0.528905   -0.031960   \n",
       "Cabin_num      -0.197399  -0.036424  0.528905   1.000000   -0.020718   \n",
       "Cabin_port      0.000889   0.014294 -0.031960  -0.020718    1.000000   \n",
       "Destination     0.035507  -0.097102  0.191056   0.106849   -0.006975   \n",
       "Age             0.134921  -0.073034 -0.241982  -0.128227    0.009431   \n",
       "VIP             0.127729  -0.081008 -0.179120  -0.097618   -0.011087   \n",
       "RoomService     0.200695  -0.258021 -0.022808  -0.011576   -0.019242   \n",
       "FoodCourt       0.068574  -0.211683 -0.318726  -0.180146    0.019088   \n",
       "ShoppingMall    0.102658  -0.219420 -0.030124   0.004001   -0.019425   \n",
       "Spa             0.050476  -0.192221 -0.212198  -0.121948   -0.001342   \n",
       "VRDeck          0.034693  -0.207048 -0.246485  -0.133936   -0.008178   \n",
       "Transported     0.120585   0.468532 -0.115285  -0.042323    0.100991   \n",
       "\n",
       "              Destination       Age       VIP  RoomService  FoodCourt  \\\n",
       "HomePlanet       0.035507  0.134921  0.127729     0.200695   0.068574   \n",
       "CryoSleep       -0.097102 -0.073034 -0.081008    -0.258021  -0.211683   \n",
       "Cabin            0.191056 -0.241982 -0.179120    -0.022808  -0.318726   \n",
       "Cabin_num        0.106849 -0.128227 -0.097618    -0.011576  -0.180146   \n",
       "Cabin_port      -0.006975  0.009431 -0.011087    -0.019242   0.019088   \n",
       "Destination      1.000000 -0.011265 -0.047712     0.051236  -0.112509   \n",
       "Age             -0.011265  1.000000  0.092976     0.068006   0.126550   \n",
       "VIP             -0.047712  0.092976  1.000000     0.055194   0.126860   \n",
       "RoomService      0.051236  0.068006  0.055194     1.000000  -0.008978   \n",
       "FoodCourt       -0.112509  0.126550  0.126860    -0.008978   1.000000   \n",
       "ShoppingMall     0.026427  0.031875  0.019788     0.058307  -0.011982   \n",
       "Spa             -0.055834  0.115098  0.054353     0.024133   0.204144   \n",
       "VRDeck          -0.073019  0.099591  0.120782    -0.007945   0.221379   \n",
       "Transported     -0.108128 -0.071658 -0.037261    -0.246546   0.047036   \n",
       "\n",
       "              ShoppingMall       Spa    VRDeck  Transported  \n",
       "HomePlanet        0.102658  0.050476  0.034693     0.120585  \n",
       "CryoSleep        -0.219420 -0.192221 -0.207048     0.468532  \n",
       "Cabin            -0.030124 -0.212198 -0.246485    -0.115285  \n",
       "Cabin_num         0.004001 -0.121948 -0.133936    -0.042323  \n",
       "Cabin_port       -0.019425 -0.001342 -0.008178     0.100991  \n",
       "Destination       0.026427 -0.055834 -0.073019    -0.108128  \n",
       "Age               0.031875  0.115098  0.099591    -0.071658  \n",
       "VIP               0.019788  0.054353  0.120782    -0.037261  \n",
       "RoomService       0.058307  0.024133 -0.007945    -0.246546  \n",
       "FoodCourt        -0.011982  0.204144  0.221379     0.047036  \n",
       "ShoppingMall      1.000000  0.014538 -0.004248     0.005304  \n",
       "Spa               0.014538  1.000000  0.140745    -0.210963  \n",
       "VRDeck           -0.004248  0.140745  1.000000    -0.210309  \n",
       "Transported       0.005304 -0.210963 -0.210309     1.000000  "
      ]
     },
     "execution_count": 10,
     "metadata": {},
     "output_type": "execute_result"
    }
   ],
   "source": [
    "corr=df.corr(method='pearson')\n",
    "corr"
   ]
  },
  {
   "cell_type": "code",
   "execution_count": null,
   "id": "2582eec3",
   "metadata": {},
   "outputs": [],
   "source": []
  }
 ],
 "metadata": {
  "kernelspec": {
   "display_name": "Python 3 (ipykernel)",
   "language": "python",
   "name": "python3"
  },
  "language_info": {
   "codemirror_mode": {
    "name": "ipython",
    "version": 3
   },
   "file_extension": ".py",
   "mimetype": "text/x-python",
   "name": "python",
   "nbconvert_exporter": "python",
   "pygments_lexer": "ipython3",
   "version": "3.9.12"
  }
 },
 "nbformat": 4,
 "nbformat_minor": 5
}

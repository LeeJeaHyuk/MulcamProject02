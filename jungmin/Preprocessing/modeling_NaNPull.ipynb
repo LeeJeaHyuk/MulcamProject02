{
 "cells": [
  {
   "cell_type": "markdown",
   "id": "f40d8bc4",
   "metadata": {},
   "source": [
    "# NaN값 채운 후 모델링"
   ]
  },
  {
   "cell_type": "code",
   "execution_count": 1,
   "id": "d313a286",
   "metadata": {},
   "outputs": [],
   "source": [
    "from IPython.core.interactiveshell import InteractiveShell\n",
    "InteractiveShell.ast_node_interactivity=\"all\""
   ]
  },
  {
   "cell_type": "code",
   "execution_count": 2,
   "id": "b04a6bc0",
   "metadata": {},
   "outputs": [],
   "source": [
    "import numpy as np\n",
    "import pandas as pd\n",
    "\n",
    "df = pd.read_csv('C:/ds_work/source_code/Project_DS/data/train_update.csv')"
   ]
  },
  {
   "cell_type": "code",
   "execution_count": 3,
   "id": "d56fd743",
   "metadata": {},
   "outputs": [
    {
     "data": {
      "text/html": [
       "<div>\n",
       "<style scoped>\n",
       "    .dataframe tbody tr th:only-of-type {\n",
       "        vertical-align: middle;\n",
       "    }\n",
       "\n",
       "    .dataframe tbody tr th {\n",
       "        vertical-align: top;\n",
       "    }\n",
       "\n",
       "    .dataframe thead th {\n",
       "        text-align: right;\n",
       "    }\n",
       "</style>\n",
       "<table border=\"1\" class=\"dataframe\">\n",
       "  <thead>\n",
       "    <tr style=\"text-align: right;\">\n",
       "      <th></th>\n",
       "      <th>PassengerId</th>\n",
       "      <th>HomePlanet</th>\n",
       "      <th>CryoSleep</th>\n",
       "      <th>Cabin</th>\n",
       "      <th>Cabin_num</th>\n",
       "      <th>Cabin_port</th>\n",
       "      <th>Age</th>\n",
       "      <th>VIP</th>\n",
       "      <th>RoomService</th>\n",
       "      <th>FoodCourt</th>\n",
       "      <th>ShoppingMall</th>\n",
       "      <th>Spa</th>\n",
       "      <th>VRDeck</th>\n",
       "      <th>Name</th>\n",
       "      <th>Transported</th>\n",
       "    </tr>\n",
       "    <tr>\n",
       "      <th>Destination</th>\n",
       "      <th></th>\n",
       "      <th></th>\n",
       "      <th></th>\n",
       "      <th></th>\n",
       "      <th></th>\n",
       "      <th></th>\n",
       "      <th></th>\n",
       "      <th></th>\n",
       "      <th></th>\n",
       "      <th></th>\n",
       "      <th></th>\n",
       "      <th></th>\n",
       "      <th></th>\n",
       "      <th></th>\n",
       "      <th></th>\n",
       "    </tr>\n",
       "  </thead>\n",
       "  <tbody>\n",
       "    <tr>\n",
       "      <th>0</th>\n",
       "      <td>1815</td>\n",
       "      <td>1815</td>\n",
       "      <td>1815</td>\n",
       "      <td>1815</td>\n",
       "      <td>1815</td>\n",
       "      <td>1815</td>\n",
       "      <td>1815</td>\n",
       "      <td>1815</td>\n",
       "      <td>1815</td>\n",
       "      <td>1815</td>\n",
       "      <td>1815</td>\n",
       "      <td>1815</td>\n",
       "      <td>1815</td>\n",
       "      <td>1772</td>\n",
       "      <td>1815</td>\n",
       "    </tr>\n",
       "    <tr>\n",
       "      <th>1</th>\n",
       "      <td>796</td>\n",
       "      <td>796</td>\n",
       "      <td>796</td>\n",
       "      <td>796</td>\n",
       "      <td>796</td>\n",
       "      <td>796</td>\n",
       "      <td>796</td>\n",
       "      <td>796</td>\n",
       "      <td>796</td>\n",
       "      <td>796</td>\n",
       "      <td>796</td>\n",
       "      <td>796</td>\n",
       "      <td>796</td>\n",
       "      <td>779</td>\n",
       "      <td>796</td>\n",
       "    </tr>\n",
       "    <tr>\n",
       "      <th>2</th>\n",
       "      <td>6082</td>\n",
       "      <td>6082</td>\n",
       "      <td>6082</td>\n",
       "      <td>6082</td>\n",
       "      <td>6082</td>\n",
       "      <td>6082</td>\n",
       "      <td>6082</td>\n",
       "      <td>6082</td>\n",
       "      <td>6082</td>\n",
       "      <td>6082</td>\n",
       "      <td>6082</td>\n",
       "      <td>6082</td>\n",
       "      <td>6082</td>\n",
       "      <td>5942</td>\n",
       "      <td>6082</td>\n",
       "    </tr>\n",
       "  </tbody>\n",
       "</table>\n",
       "</div>"
      ],
      "text/plain": [
       "             PassengerId  HomePlanet  CryoSleep  Cabin  Cabin_num  Cabin_port  \\\n",
       "Destination                                                                     \n",
       "0                   1815        1815       1815   1815       1815        1815   \n",
       "1                    796         796        796    796        796         796   \n",
       "2                   6082        6082       6082   6082       6082        6082   \n",
       "\n",
       "              Age   VIP  RoomService  FoodCourt  ShoppingMall   Spa  VRDeck  \\\n",
       "Destination                                                                   \n",
       "0            1815  1815         1815       1815          1815  1815    1815   \n",
       "1             796   796          796        796           796   796     796   \n",
       "2            6082  6082         6082       6082          6082  6082    6082   \n",
       "\n",
       "             Name  Transported  \n",
       "Destination                     \n",
       "0            1772         1815  \n",
       "1             779          796  \n",
       "2            5942         6082  "
      ]
     },
     "execution_count": 3,
     "metadata": {},
     "output_type": "execute_result"
    },
    {
     "data": {
      "text/html": [
       "<div>\n",
       "<style scoped>\n",
       "    .dataframe tbody tr th:only-of-type {\n",
       "        vertical-align: middle;\n",
       "    }\n",
       "\n",
       "    .dataframe tbody tr th {\n",
       "        vertical-align: top;\n",
       "    }\n",
       "\n",
       "    .dataframe thead th {\n",
       "        text-align: right;\n",
       "    }\n",
       "</style>\n",
       "<table border=\"1\" class=\"dataframe\">\n",
       "  <thead>\n",
       "    <tr style=\"text-align: right;\">\n",
       "      <th></th>\n",
       "      <th>PassengerId</th>\n",
       "      <th>CryoSleep</th>\n",
       "      <th>Cabin</th>\n",
       "      <th>Cabin_num</th>\n",
       "      <th>Cabin_port</th>\n",
       "      <th>Destination</th>\n",
       "      <th>Age</th>\n",
       "      <th>VIP</th>\n",
       "      <th>RoomService</th>\n",
       "      <th>FoodCourt</th>\n",
       "      <th>ShoppingMall</th>\n",
       "      <th>Spa</th>\n",
       "      <th>VRDeck</th>\n",
       "      <th>Name</th>\n",
       "      <th>Transported</th>\n",
       "    </tr>\n",
       "    <tr>\n",
       "      <th>HomePlanet</th>\n",
       "      <th></th>\n",
       "      <th></th>\n",
       "      <th></th>\n",
       "      <th></th>\n",
       "      <th></th>\n",
       "      <th></th>\n",
       "      <th></th>\n",
       "      <th></th>\n",
       "      <th></th>\n",
       "      <th></th>\n",
       "      <th></th>\n",
       "      <th></th>\n",
       "      <th></th>\n",
       "      <th></th>\n",
       "      <th></th>\n",
       "    </tr>\n",
       "  </thead>\n",
       "  <tbody>\n",
       "    <tr>\n",
       "      <th>0</th>\n",
       "      <td>4714</td>\n",
       "      <td>4714</td>\n",
       "      <td>4714</td>\n",
       "      <td>4714</td>\n",
       "      <td>4714</td>\n",
       "      <td>4714</td>\n",
       "      <td>4714</td>\n",
       "      <td>4714</td>\n",
       "      <td>4714</td>\n",
       "      <td>4714</td>\n",
       "      <td>4714</td>\n",
       "      <td>4714</td>\n",
       "      <td>4714</td>\n",
       "      <td>4604</td>\n",
       "      <td>4714</td>\n",
       "    </tr>\n",
       "    <tr>\n",
       "      <th>1</th>\n",
       "      <td>2175</td>\n",
       "      <td>2175</td>\n",
       "      <td>2175</td>\n",
       "      <td>2175</td>\n",
       "      <td>2175</td>\n",
       "      <td>2175</td>\n",
       "      <td>2175</td>\n",
       "      <td>2175</td>\n",
       "      <td>2175</td>\n",
       "      <td>2175</td>\n",
       "      <td>2175</td>\n",
       "      <td>2175</td>\n",
       "      <td>2175</td>\n",
       "      <td>2128</td>\n",
       "      <td>2175</td>\n",
       "    </tr>\n",
       "    <tr>\n",
       "      <th>2</th>\n",
       "      <td>1804</td>\n",
       "      <td>1804</td>\n",
       "      <td>1804</td>\n",
       "      <td>1804</td>\n",
       "      <td>1804</td>\n",
       "      <td>1804</td>\n",
       "      <td>1804</td>\n",
       "      <td>1804</td>\n",
       "      <td>1804</td>\n",
       "      <td>1804</td>\n",
       "      <td>1804</td>\n",
       "      <td>1804</td>\n",
       "      <td>1804</td>\n",
       "      <td>1761</td>\n",
       "      <td>1804</td>\n",
       "    </tr>\n",
       "  </tbody>\n",
       "</table>\n",
       "</div>"
      ],
      "text/plain": [
       "            PassengerId  CryoSleep  Cabin  Cabin_num  Cabin_port  Destination  \\\n",
       "HomePlanet                                                                      \n",
       "0                  4714       4714   4714       4714        4714         4714   \n",
       "1                  2175       2175   2175       2175        2175         2175   \n",
       "2                  1804       1804   1804       1804        1804         1804   \n",
       "\n",
       "             Age   VIP  RoomService  FoodCourt  ShoppingMall   Spa  VRDeck  \\\n",
       "HomePlanet                                                                   \n",
       "0           4714  4714         4714       4714          4714  4714    4714   \n",
       "1           2175  2175         2175       2175          2175  2175    2175   \n",
       "2           1804  1804         1804       1804          1804  1804    1804   \n",
       "\n",
       "            Name  Transported  \n",
       "HomePlanet                     \n",
       "0           4604         4714  \n",
       "1           2128         2175  \n",
       "2           1761         1804  "
      ]
     },
     "execution_count": 3,
     "metadata": {},
     "output_type": "execute_result"
    },
    {
     "name": "stdout",
     "output_type": "stream",
     "text": [
      "Cabin의 개수 8\n"
     ]
    }
   ],
   "source": [
    "df.groupby('Destination').count()\n",
    "df.groupby('HomePlanet').count()\n",
    "print('Cabin의 개수',len(df.groupby('Cabin').count()))"
   ]
  },
  {
   "cell_type": "markdown",
   "id": "4040fa48",
   "metadata": {},
   "source": [
    "# 범주형 데이터 변환\n",
    "df = pd.read_csv('C:/ds_work/source_code/Project_DS/data/train_update.csv')\n",
    "\n",
    "def df_replace(dataframe):\n",
    "    \n",
    "    global df_train,df\n",
    "    df_temp = df\n",
    "    df = dataframe\n",
    "    df = df.replace({'55 Cancri e':0,'PSO J318.5-22':1,'TRAPPIST-1e':2})\n",
    "    df = df.replace({'Earth':0,'Europa':1,'Mars':2})\n",
    "    df = df.replace({False:0,True:1})\n",
    "\n",
    "    # Cabin : 번호  \n",
    "    df['Cabin'] = df['Cabin'].str[0]\n",
    "    df.insert(4, 'Cabin_num', df_temp['Cabin'].str[2:-2])\n",
    "    df.insert(5, 'Cabin_port', df_temp['Cabin'].str[-1])\n",
    "    df = df.replace({'A':0,'B':1,'C':2,'D':3,'E':4,'F':5,'G':6,'T':7})\n",
    "    df = df.replace({'P':0,'S':1})\n",
    "\n",
    "\n",
    "    ## 범주형 데이터 확인할 수 있게 dict로 만들어 놓은 것\n",
    "    Cabin = {'A':0,'B':1,'C':2,'D':3,'E':4,'F':5,'G':6,'T':7}\n",
    "    Cabin_port = {'P':0, 'S':1} #P : 배의 좌현(port side) S: 배의 우현(starboard side) \n",
    "    Destination = {'55 Cancri e': 0, 'PSO J318.5-22': 1,'TRAPPIST-1e':2}\n",
    "    HomePlanet = {'Earth':0,'Europa':1,'Mars':2}\n",
    "    CryoSleep = {'False':0,'True':1}\n",
    "    VIP = {'False':0,'True':1}\n",
    "    Transported = {'False':0,'True':1}\n",
    "\n",
    "\n",
    "    df = df.astype({'HomePlanet':'float','CryoSleep':'float','Cabin':'float','Cabin_num':'float','Destination':'float'\n",
    "    ,'Age':'float','VIP':'float','RoomService':'float','FoodCourt':'float','Cabin_port':'float'\n",
    "    ,'ShoppingMall':'float','Spa':'float','VRDeck':'float','Transported':'float'})\n",
    "    \n",
    "df_replace(df)\n",
    "df_train = df"
   ]
  },
  {
   "cell_type": "code",
   "execution_count": 5,
   "id": "4b82fadd",
   "metadata": {},
   "outputs": [],
   "source": [
    "df = df.drop(['PassengerId','Name'],axis=1)"
   ]
  },
  {
   "cell_type": "code",
   "execution_count": 6,
   "id": "95469f48",
   "metadata": {},
   "outputs": [
    {
     "data": {
      "text/html": [
       "<div>\n",
       "<style scoped>\n",
       "    .dataframe tbody tr th:only-of-type {\n",
       "        vertical-align: middle;\n",
       "    }\n",
       "\n",
       "    .dataframe tbody tr th {\n",
       "        vertical-align: top;\n",
       "    }\n",
       "\n",
       "    .dataframe thead th {\n",
       "        text-align: right;\n",
       "    }\n",
       "</style>\n",
       "<table border=\"1\" class=\"dataframe\">\n",
       "  <thead>\n",
       "    <tr style=\"text-align: right;\">\n",
       "      <th></th>\n",
       "      <th>HomePlanet</th>\n",
       "      <th>CryoSleep</th>\n",
       "      <th>Cabin</th>\n",
       "      <th>Cabin_num</th>\n",
       "      <th>Cabin_port</th>\n",
       "      <th>Destination</th>\n",
       "      <th>Age</th>\n",
       "      <th>VIP</th>\n",
       "      <th>RoomService</th>\n",
       "      <th>FoodCourt</th>\n",
       "      <th>ShoppingMall</th>\n",
       "      <th>Spa</th>\n",
       "      <th>VRDeck</th>\n",
       "      <th>Transported</th>\n",
       "    </tr>\n",
       "  </thead>\n",
       "  <tbody>\n",
       "    <tr>\n",
       "      <th>0</th>\n",
       "      <td>1</td>\n",
       "      <td>0</td>\n",
       "      <td>1</td>\n",
       "      <td>0</td>\n",
       "      <td>0</td>\n",
       "      <td>2</td>\n",
       "      <td>39</td>\n",
       "      <td>0</td>\n",
       "      <td>0</td>\n",
       "      <td>0</td>\n",
       "      <td>0</td>\n",
       "      <td>0</td>\n",
       "      <td>0</td>\n",
       "      <td>0</td>\n",
       "    </tr>\n",
       "    <tr>\n",
       "      <th>1</th>\n",
       "      <td>0</td>\n",
       "      <td>0</td>\n",
       "      <td>5</td>\n",
       "      <td>0</td>\n",
       "      <td>1</td>\n",
       "      <td>2</td>\n",
       "      <td>24</td>\n",
       "      <td>0</td>\n",
       "      <td>109</td>\n",
       "      <td>9</td>\n",
       "      <td>25</td>\n",
       "      <td>549</td>\n",
       "      <td>44</td>\n",
       "      <td>1</td>\n",
       "    </tr>\n",
       "    <tr>\n",
       "      <th>2</th>\n",
       "      <td>1</td>\n",
       "      <td>0</td>\n",
       "      <td>0</td>\n",
       "      <td>0</td>\n",
       "      <td>1</td>\n",
       "      <td>2</td>\n",
       "      <td>58</td>\n",
       "      <td>1</td>\n",
       "      <td>43</td>\n",
       "      <td>3576</td>\n",
       "      <td>0</td>\n",
       "      <td>6715</td>\n",
       "      <td>49</td>\n",
       "      <td>0</td>\n",
       "    </tr>\n",
       "    <tr>\n",
       "      <th>3</th>\n",
       "      <td>1</td>\n",
       "      <td>0</td>\n",
       "      <td>0</td>\n",
       "      <td>0</td>\n",
       "      <td>1</td>\n",
       "      <td>2</td>\n",
       "      <td>33</td>\n",
       "      <td>0</td>\n",
       "      <td>0</td>\n",
       "      <td>1283</td>\n",
       "      <td>371</td>\n",
       "      <td>3329</td>\n",
       "      <td>193</td>\n",
       "      <td>0</td>\n",
       "    </tr>\n",
       "    <tr>\n",
       "      <th>4</th>\n",
       "      <td>0</td>\n",
       "      <td>0</td>\n",
       "      <td>5</td>\n",
       "      <td>1</td>\n",
       "      <td>1</td>\n",
       "      <td>2</td>\n",
       "      <td>16</td>\n",
       "      <td>0</td>\n",
       "      <td>303</td>\n",
       "      <td>70</td>\n",
       "      <td>151</td>\n",
       "      <td>565</td>\n",
       "      <td>2</td>\n",
       "      <td>1</td>\n",
       "    </tr>\n",
       "    <tr>\n",
       "      <th>...</th>\n",
       "      <td>...</td>\n",
       "      <td>...</td>\n",
       "      <td>...</td>\n",
       "      <td>...</td>\n",
       "      <td>...</td>\n",
       "      <td>...</td>\n",
       "      <td>...</td>\n",
       "      <td>...</td>\n",
       "      <td>...</td>\n",
       "      <td>...</td>\n",
       "      <td>...</td>\n",
       "      <td>...</td>\n",
       "      <td>...</td>\n",
       "      <td>...</td>\n",
       "    </tr>\n",
       "    <tr>\n",
       "      <th>8688</th>\n",
       "      <td>1</td>\n",
       "      <td>0</td>\n",
       "      <td>3</td>\n",
       "      <td>90</td>\n",
       "      <td>0</td>\n",
       "      <td>0</td>\n",
       "      <td>53</td>\n",
       "      <td>0</td>\n",
       "      <td>0</td>\n",
       "      <td>1127</td>\n",
       "      <td>0</td>\n",
       "      <td>3939</td>\n",
       "      <td>400</td>\n",
       "      <td>0</td>\n",
       "    </tr>\n",
       "    <tr>\n",
       "      <th>8689</th>\n",
       "      <td>0</td>\n",
       "      <td>0</td>\n",
       "      <td>4</td>\n",
       "      <td>309</td>\n",
       "      <td>0</td>\n",
       "      <td>1</td>\n",
       "      <td>35</td>\n",
       "      <td>0</td>\n",
       "      <td>0</td>\n",
       "      <td>2</td>\n",
       "      <td>0</td>\n",
       "      <td>0</td>\n",
       "      <td>867</td>\n",
       "      <td>0</td>\n",
       "    </tr>\n",
       "    <tr>\n",
       "      <th>8690</th>\n",
       "      <td>1</td>\n",
       "      <td>1</td>\n",
       "      <td>4</td>\n",
       "      <td>289</td>\n",
       "      <td>0</td>\n",
       "      <td>0</td>\n",
       "      <td>35</td>\n",
       "      <td>0</td>\n",
       "      <td>0</td>\n",
       "      <td>0</td>\n",
       "      <td>0</td>\n",
       "      <td>0</td>\n",
       "      <td>0</td>\n",
       "      <td>1</td>\n",
       "    </tr>\n",
       "    <tr>\n",
       "      <th>8691</th>\n",
       "      <td>0</td>\n",
       "      <td>0</td>\n",
       "      <td>4</td>\n",
       "      <td>309</td>\n",
       "      <td>0</td>\n",
       "      <td>1</td>\n",
       "      <td>33</td>\n",
       "      <td>0</td>\n",
       "      <td>0</td>\n",
       "      <td>440</td>\n",
       "      <td>0</td>\n",
       "      <td>0</td>\n",
       "      <td>334</td>\n",
       "      <td>0</td>\n",
       "    </tr>\n",
       "    <tr>\n",
       "      <th>8692</th>\n",
       "      <td>0</td>\n",
       "      <td>0</td>\n",
       "      <td>5</td>\n",
       "      <td>42</td>\n",
       "      <td>0</td>\n",
       "      <td>2</td>\n",
       "      <td>27</td>\n",
       "      <td>0</td>\n",
       "      <td>740</td>\n",
       "      <td>82</td>\n",
       "      <td>6</td>\n",
       "      <td>628</td>\n",
       "      <td>1</td>\n",
       "      <td>0</td>\n",
       "    </tr>\n",
       "  </tbody>\n",
       "</table>\n",
       "<p>8693 rows × 14 columns</p>\n",
       "</div>"
      ],
      "text/plain": [
       "      HomePlanet  CryoSleep  Cabin  Cabin_num  Cabin_port  Destination  Age  \\\n",
       "0              1          0      1          0           0            2   39   \n",
       "1              0          0      5          0           1            2   24   \n",
       "2              1          0      0          0           1            2   58   \n",
       "3              1          0      0          0           1            2   33   \n",
       "4              0          0      5          1           1            2   16   \n",
       "...          ...        ...    ...        ...         ...          ...  ...   \n",
       "8688           1          0      3         90           0            0   53   \n",
       "8689           0          0      4        309           0            1   35   \n",
       "8690           1          1      4        289           0            0   35   \n",
       "8691           0          0      4        309           0            1   33   \n",
       "8692           0          0      5         42           0            2   27   \n",
       "\n",
       "      VIP  RoomService  FoodCourt  ShoppingMall   Spa  VRDeck  Transported  \n",
       "0       0            0          0             0     0       0            0  \n",
       "1       0          109          9            25   549      44            1  \n",
       "2       1           43       3576             0  6715      49            0  \n",
       "3       0            0       1283           371  3329     193            0  \n",
       "4       0          303         70           151   565       2            1  \n",
       "...   ...          ...        ...           ...   ...     ...          ...  \n",
       "8688    0            0       1127             0  3939     400            0  \n",
       "8689    0            0          2             0     0     867            0  \n",
       "8690    0            0          0             0     0       0            1  \n",
       "8691    0            0        440             0     0     334            0  \n",
       "8692    0          740         82             6   628       1            0  \n",
       "\n",
       "[8693 rows x 14 columns]"
      ]
     },
     "execution_count": 6,
     "metadata": {},
     "output_type": "execute_result"
    }
   ],
   "source": [
    "df"
   ]
  },
  {
   "cell_type": "code",
   "execution_count": 7,
   "id": "3c788da1",
   "metadata": {},
   "outputs": [
    {
     "data": {
      "text/plain": [
       "HomePlanet      0\n",
       "CryoSleep       0\n",
       "Cabin           0\n",
       "Cabin_num       0\n",
       "Cabin_port      0\n",
       "Destination     0\n",
       "Age             0\n",
       "VIP             0\n",
       "RoomService     0\n",
       "FoodCourt       0\n",
       "ShoppingMall    0\n",
       "Spa             0\n",
       "VRDeck          0\n",
       "Transported     0\n",
       "dtype: int64"
      ]
     },
     "execution_count": 7,
     "metadata": {},
     "output_type": "execute_result"
    }
   ],
   "source": [
    "df.isnull().sum()"
   ]
  },
  {
   "cell_type": "code",
   "execution_count": 20,
   "id": "21ae26e5",
   "metadata": {},
   "outputs": [
    {
     "data": {
      "text/html": [
       "<div>\n",
       "<style scoped>\n",
       "    .dataframe tbody tr th:only-of-type {\n",
       "        vertical-align: middle;\n",
       "    }\n",
       "\n",
       "    .dataframe tbody tr th {\n",
       "        vertical-align: top;\n",
       "    }\n",
       "\n",
       "    .dataframe thead th {\n",
       "        text-align: right;\n",
       "    }\n",
       "</style>\n",
       "<table border=\"1\" class=\"dataframe\">\n",
       "  <thead>\n",
       "    <tr style=\"text-align: right;\">\n",
       "      <th></th>\n",
       "      <th>PassengerId</th>\n",
       "      <th>HomePlanet</th>\n",
       "      <th>CryoSleep</th>\n",
       "      <th>Cabin</th>\n",
       "      <th>Cabin_num</th>\n",
       "      <th>Cabin_port</th>\n",
       "      <th>Destination</th>\n",
       "      <th>Age</th>\n",
       "      <th>VIP</th>\n",
       "      <th>RoomService</th>\n",
       "      <th>FoodCourt</th>\n",
       "      <th>ShoppingMall</th>\n",
       "      <th>Spa</th>\n",
       "      <th>VRDeck</th>\n",
       "      <th>Name</th>\n",
       "      <th>Transported</th>\n",
       "    </tr>\n",
       "  </thead>\n",
       "  <tbody>\n",
       "    <tr>\n",
       "      <th>0</th>\n",
       "      <td>0001_01</td>\n",
       "      <td>1.0</td>\n",
       "      <td>0.0</td>\n",
       "      <td>1.0</td>\n",
       "      <td>0.0</td>\n",
       "      <td>0.0</td>\n",
       "      <td>2.0</td>\n",
       "      <td>39.0</td>\n",
       "      <td>0.0</td>\n",
       "      <td>0.0</td>\n",
       "      <td>0.0</td>\n",
       "      <td>0.0</td>\n",
       "      <td>0.0</td>\n",
       "      <td>0.0</td>\n",
       "      <td>Maham Ofracculy</td>\n",
       "      <td>0.0</td>\n",
       "    </tr>\n",
       "    <tr>\n",
       "      <th>1</th>\n",
       "      <td>0002_01</td>\n",
       "      <td>0.0</td>\n",
       "      <td>0.0</td>\n",
       "      <td>5.0</td>\n",
       "      <td>0.0</td>\n",
       "      <td>1.0</td>\n",
       "      <td>2.0</td>\n",
       "      <td>24.0</td>\n",
       "      <td>0.0</td>\n",
       "      <td>109.0</td>\n",
       "      <td>9.0</td>\n",
       "      <td>25.0</td>\n",
       "      <td>549.0</td>\n",
       "      <td>44.0</td>\n",
       "      <td>Juanna Vines</td>\n",
       "      <td>1.0</td>\n",
       "    </tr>\n",
       "    <tr>\n",
       "      <th>2</th>\n",
       "      <td>0003_01</td>\n",
       "      <td>1.0</td>\n",
       "      <td>0.0</td>\n",
       "      <td>0.0</td>\n",
       "      <td>0.0</td>\n",
       "      <td>1.0</td>\n",
       "      <td>2.0</td>\n",
       "      <td>58.0</td>\n",
       "      <td>1.0</td>\n",
       "      <td>43.0</td>\n",
       "      <td>3576.0</td>\n",
       "      <td>0.0</td>\n",
       "      <td>6715.0</td>\n",
       "      <td>49.0</td>\n",
       "      <td>Altark Susent</td>\n",
       "      <td>0.0</td>\n",
       "    </tr>\n",
       "    <tr>\n",
       "      <th>3</th>\n",
       "      <td>0003_02</td>\n",
       "      <td>1.0</td>\n",
       "      <td>0.0</td>\n",
       "      <td>0.0</td>\n",
       "      <td>0.0</td>\n",
       "      <td>1.0</td>\n",
       "      <td>2.0</td>\n",
       "      <td>33.0</td>\n",
       "      <td>0.0</td>\n",
       "      <td>0.0</td>\n",
       "      <td>1283.0</td>\n",
       "      <td>371.0</td>\n",
       "      <td>3329.0</td>\n",
       "      <td>193.0</td>\n",
       "      <td>Solam Susent</td>\n",
       "      <td>0.0</td>\n",
       "    </tr>\n",
       "    <tr>\n",
       "      <th>4</th>\n",
       "      <td>0004_01</td>\n",
       "      <td>0.0</td>\n",
       "      <td>0.0</td>\n",
       "      <td>5.0</td>\n",
       "      <td>1.0</td>\n",
       "      <td>1.0</td>\n",
       "      <td>2.0</td>\n",
       "      <td>16.0</td>\n",
       "      <td>0.0</td>\n",
       "      <td>303.0</td>\n",
       "      <td>70.0</td>\n",
       "      <td>151.0</td>\n",
       "      <td>565.0</td>\n",
       "      <td>2.0</td>\n",
       "      <td>Willy Santantines</td>\n",
       "      <td>1.0</td>\n",
       "    </tr>\n",
       "    <tr>\n",
       "      <th>...</th>\n",
       "      <td>...</td>\n",
       "      <td>...</td>\n",
       "      <td>...</td>\n",
       "      <td>...</td>\n",
       "      <td>...</td>\n",
       "      <td>...</td>\n",
       "      <td>...</td>\n",
       "      <td>...</td>\n",
       "      <td>...</td>\n",
       "      <td>...</td>\n",
       "      <td>...</td>\n",
       "      <td>...</td>\n",
       "      <td>...</td>\n",
       "      <td>...</td>\n",
       "      <td>...</td>\n",
       "      <td>...</td>\n",
       "    </tr>\n",
       "    <tr>\n",
       "      <th>8688</th>\n",
       "      <td>9276_01</td>\n",
       "      <td>1.0</td>\n",
       "      <td>0.0</td>\n",
       "      <td>0.0</td>\n",
       "      <td>98.0</td>\n",
       "      <td>0.0</td>\n",
       "      <td>0.0</td>\n",
       "      <td>41.0</td>\n",
       "      <td>1.0</td>\n",
       "      <td>0.0</td>\n",
       "      <td>6819.0</td>\n",
       "      <td>0.0</td>\n",
       "      <td>1643.0</td>\n",
       "      <td>74.0</td>\n",
       "      <td>Gravior Noxnuther</td>\n",
       "      <td>0.0</td>\n",
       "    </tr>\n",
       "    <tr>\n",
       "      <th>8689</th>\n",
       "      <td>9278_01</td>\n",
       "      <td>0.0</td>\n",
       "      <td>1.0</td>\n",
       "      <td>6.0</td>\n",
       "      <td>1499.0</td>\n",
       "      <td>1.0</td>\n",
       "      <td>1.0</td>\n",
       "      <td>18.0</td>\n",
       "      <td>0.0</td>\n",
       "      <td>0.0</td>\n",
       "      <td>0.0</td>\n",
       "      <td>0.0</td>\n",
       "      <td>0.0</td>\n",
       "      <td>0.0</td>\n",
       "      <td>Kurta Mondalley</td>\n",
       "      <td>0.0</td>\n",
       "    </tr>\n",
       "    <tr>\n",
       "      <th>8690</th>\n",
       "      <td>9279_01</td>\n",
       "      <td>0.0</td>\n",
       "      <td>0.0</td>\n",
       "      <td>6.0</td>\n",
       "      <td>1500.0</td>\n",
       "      <td>1.0</td>\n",
       "      <td>2.0</td>\n",
       "      <td>26.0</td>\n",
       "      <td>0.0</td>\n",
       "      <td>0.0</td>\n",
       "      <td>0.0</td>\n",
       "      <td>1872.0</td>\n",
       "      <td>1.0</td>\n",
       "      <td>0.0</td>\n",
       "      <td>Fayey Connon</td>\n",
       "      <td>1.0</td>\n",
       "    </tr>\n",
       "    <tr>\n",
       "      <th>8691</th>\n",
       "      <td>9280_01</td>\n",
       "      <td>1.0</td>\n",
       "      <td>0.0</td>\n",
       "      <td>4.0</td>\n",
       "      <td>608.0</td>\n",
       "      <td>1.0</td>\n",
       "      <td>0.0</td>\n",
       "      <td>32.0</td>\n",
       "      <td>0.0</td>\n",
       "      <td>0.0</td>\n",
       "      <td>1049.0</td>\n",
       "      <td>0.0</td>\n",
       "      <td>353.0</td>\n",
       "      <td>3235.0</td>\n",
       "      <td>Celeon Hontichre</td>\n",
       "      <td>0.0</td>\n",
       "    </tr>\n",
       "    <tr>\n",
       "      <th>8692</th>\n",
       "      <td>9280_02</td>\n",
       "      <td>1.0</td>\n",
       "      <td>0.0</td>\n",
       "      <td>4.0</td>\n",
       "      <td>608.0</td>\n",
       "      <td>1.0</td>\n",
       "      <td>2.0</td>\n",
       "      <td>44.0</td>\n",
       "      <td>0.0</td>\n",
       "      <td>126.0</td>\n",
       "      <td>4688.0</td>\n",
       "      <td>0.0</td>\n",
       "      <td>0.0</td>\n",
       "      <td>12.0</td>\n",
       "      <td>Propsh Hontichre</td>\n",
       "      <td>1.0</td>\n",
       "    </tr>\n",
       "  </tbody>\n",
       "</table>\n",
       "<p>6764 rows × 16 columns</p>\n",
       "</div>"
      ],
      "text/plain": [
       "     PassengerId  HomePlanet  CryoSleep  Cabin  Cabin_num  Cabin_port  \\\n",
       "0        0001_01         1.0        0.0    1.0        0.0         0.0   \n",
       "1        0002_01         0.0        0.0    5.0        0.0         1.0   \n",
       "2        0003_01         1.0        0.0    0.0        0.0         1.0   \n",
       "3        0003_02         1.0        0.0    0.0        0.0         1.0   \n",
       "4        0004_01         0.0        0.0    5.0        1.0         1.0   \n",
       "...          ...         ...        ...    ...        ...         ...   \n",
       "8688     9276_01         1.0        0.0    0.0       98.0         0.0   \n",
       "8689     9278_01         0.0        1.0    6.0     1499.0         1.0   \n",
       "8690     9279_01         0.0        0.0    6.0     1500.0         1.0   \n",
       "8691     9280_01         1.0        0.0    4.0      608.0         1.0   \n",
       "8692     9280_02         1.0        0.0    4.0      608.0         1.0   \n",
       "\n",
       "      Destination   Age  VIP  RoomService  FoodCourt  ShoppingMall     Spa  \\\n",
       "0             2.0  39.0  0.0          0.0        0.0           0.0     0.0   \n",
       "1             2.0  24.0  0.0        109.0        9.0          25.0   549.0   \n",
       "2             2.0  58.0  1.0         43.0     3576.0           0.0  6715.0   \n",
       "3             2.0  33.0  0.0          0.0     1283.0         371.0  3329.0   \n",
       "4             2.0  16.0  0.0        303.0       70.0         151.0   565.0   \n",
       "...           ...   ...  ...          ...        ...           ...     ...   \n",
       "8688          0.0  41.0  1.0          0.0     6819.0           0.0  1643.0   \n",
       "8689          1.0  18.0  0.0          0.0        0.0           0.0     0.0   \n",
       "8690          2.0  26.0  0.0          0.0        0.0        1872.0     1.0   \n",
       "8691          0.0  32.0  0.0          0.0     1049.0           0.0   353.0   \n",
       "8692          2.0  44.0  0.0        126.0     4688.0           0.0     0.0   \n",
       "\n",
       "      VRDeck               Name  Transported  \n",
       "0        0.0    Maham Ofracculy          0.0  \n",
       "1       44.0       Juanna Vines          1.0  \n",
       "2       49.0      Altark Susent          0.0  \n",
       "3      193.0       Solam Susent          0.0  \n",
       "4        2.0  Willy Santantines          1.0  \n",
       "...      ...                ...          ...  \n",
       "8688    74.0  Gravior Noxnuther          0.0  \n",
       "8689     0.0    Kurta Mondalley          0.0  \n",
       "8690     0.0       Fayey Connon          1.0  \n",
       "8691  3235.0   Celeon Hontichre          0.0  \n",
       "8692    12.0   Propsh Hontichre          1.0  \n",
       "\n",
       "[6764 rows x 16 columns]"
      ]
     },
     "execution_count": 20,
     "metadata": {},
     "output_type": "execute_result"
    }
   ],
   "source": [
    "# df_homeplanet =  df_train중에서 HomePlanet의 null값이 존재하는 열만 추출 \n",
    "# -> 훈련된 모델의 값으로 다시 채울 예정\n",
    "df_homeplanet = df_train[df_train['HomePlanet'].isnull()]\n",
    "#df_homeplanet\n",
    "#df_train 중에서 HomePlanet의 null값이 존재하는 열만 추출 -> 추후 훈련할 데이터프레임\n",
    "df_train01 = df_train.dropna(subset=['HomePlanet'])\n",
    "df = df_train01.dropna(subset=['CryoSleep'])\n",
    "df = df.dropna(subset=['Cabin','Cabin_num','Cabin_port','Destination','Age','VIP','RoomService','FoodCourt','ShoppingMall','Spa','VRDeck'])\n",
    "df"
   ]
  },
  {
   "cell_type": "code",
   "execution_count": 8,
   "id": "e81af2c5",
   "metadata": {},
   "outputs": [
    {
     "data": {
      "text/plain": [
       "0       0\n",
       "1       1\n",
       "2       0\n",
       "3       0\n",
       "4       1\n",
       "       ..\n",
       "8688    0\n",
       "8689    0\n",
       "8690    1\n",
       "8691    0\n",
       "8692    0\n",
       "Name: Transported, Length: 8693, dtype: int64"
      ]
     },
     "execution_count": 8,
     "metadata": {},
     "output_type": "execute_result"
    }
   ],
   "source": [
    "target = df.loc[:, 'Transported']\n",
    "target"
   ]
  },
  {
   "cell_type": "code",
   "execution_count": 9,
   "id": "7541bddb",
   "metadata": {},
   "outputs": [
    {
     "data": {
      "text/html": [
       "<div>\n",
       "<style scoped>\n",
       "    .dataframe tbody tr th:only-of-type {\n",
       "        vertical-align: middle;\n",
       "    }\n",
       "\n",
       "    .dataframe tbody tr th {\n",
       "        vertical-align: top;\n",
       "    }\n",
       "\n",
       "    .dataframe thead th {\n",
       "        text-align: right;\n",
       "    }\n",
       "</style>\n",
       "<table border=\"1\" class=\"dataframe\">\n",
       "  <thead>\n",
       "    <tr style=\"text-align: right;\">\n",
       "      <th></th>\n",
       "      <th>HomePlanet</th>\n",
       "      <th>CryoSleep</th>\n",
       "      <th>Cabin</th>\n",
       "      <th>Cabin_num</th>\n",
       "      <th>Cabin_port</th>\n",
       "      <th>Destination</th>\n",
       "      <th>Age</th>\n",
       "      <th>VIP</th>\n",
       "      <th>RoomService</th>\n",
       "      <th>FoodCourt</th>\n",
       "      <th>ShoppingMall</th>\n",
       "      <th>Spa</th>\n",
       "      <th>VRDeck</th>\n",
       "    </tr>\n",
       "  </thead>\n",
       "  <tbody>\n",
       "    <tr>\n",
       "      <th>0</th>\n",
       "      <td>1</td>\n",
       "      <td>0</td>\n",
       "      <td>1</td>\n",
       "      <td>0</td>\n",
       "      <td>0</td>\n",
       "      <td>2</td>\n",
       "      <td>39</td>\n",
       "      <td>0</td>\n",
       "      <td>0</td>\n",
       "      <td>0</td>\n",
       "      <td>0</td>\n",
       "      <td>0</td>\n",
       "      <td>0</td>\n",
       "    </tr>\n",
       "    <tr>\n",
       "      <th>1</th>\n",
       "      <td>0</td>\n",
       "      <td>0</td>\n",
       "      <td>5</td>\n",
       "      <td>0</td>\n",
       "      <td>1</td>\n",
       "      <td>2</td>\n",
       "      <td>24</td>\n",
       "      <td>0</td>\n",
       "      <td>109</td>\n",
       "      <td>9</td>\n",
       "      <td>25</td>\n",
       "      <td>549</td>\n",
       "      <td>44</td>\n",
       "    </tr>\n",
       "    <tr>\n",
       "      <th>2</th>\n",
       "      <td>1</td>\n",
       "      <td>0</td>\n",
       "      <td>0</td>\n",
       "      <td>0</td>\n",
       "      <td>1</td>\n",
       "      <td>2</td>\n",
       "      <td>58</td>\n",
       "      <td>1</td>\n",
       "      <td>43</td>\n",
       "      <td>3576</td>\n",
       "      <td>0</td>\n",
       "      <td>6715</td>\n",
       "      <td>49</td>\n",
       "    </tr>\n",
       "    <tr>\n",
       "      <th>3</th>\n",
       "      <td>1</td>\n",
       "      <td>0</td>\n",
       "      <td>0</td>\n",
       "      <td>0</td>\n",
       "      <td>1</td>\n",
       "      <td>2</td>\n",
       "      <td>33</td>\n",
       "      <td>0</td>\n",
       "      <td>0</td>\n",
       "      <td>1283</td>\n",
       "      <td>371</td>\n",
       "      <td>3329</td>\n",
       "      <td>193</td>\n",
       "    </tr>\n",
       "    <tr>\n",
       "      <th>4</th>\n",
       "      <td>0</td>\n",
       "      <td>0</td>\n",
       "      <td>5</td>\n",
       "      <td>1</td>\n",
       "      <td>1</td>\n",
       "      <td>2</td>\n",
       "      <td>16</td>\n",
       "      <td>0</td>\n",
       "      <td>303</td>\n",
       "      <td>70</td>\n",
       "      <td>151</td>\n",
       "      <td>565</td>\n",
       "      <td>2</td>\n",
       "    </tr>\n",
       "    <tr>\n",
       "      <th>...</th>\n",
       "      <td>...</td>\n",
       "      <td>...</td>\n",
       "      <td>...</td>\n",
       "      <td>...</td>\n",
       "      <td>...</td>\n",
       "      <td>...</td>\n",
       "      <td>...</td>\n",
       "      <td>...</td>\n",
       "      <td>...</td>\n",
       "      <td>...</td>\n",
       "      <td>...</td>\n",
       "      <td>...</td>\n",
       "      <td>...</td>\n",
       "    </tr>\n",
       "    <tr>\n",
       "      <th>8688</th>\n",
       "      <td>1</td>\n",
       "      <td>0</td>\n",
       "      <td>3</td>\n",
       "      <td>90</td>\n",
       "      <td>0</td>\n",
       "      <td>0</td>\n",
       "      <td>53</td>\n",
       "      <td>0</td>\n",
       "      <td>0</td>\n",
       "      <td>1127</td>\n",
       "      <td>0</td>\n",
       "      <td>3939</td>\n",
       "      <td>400</td>\n",
       "    </tr>\n",
       "    <tr>\n",
       "      <th>8689</th>\n",
       "      <td>0</td>\n",
       "      <td>0</td>\n",
       "      <td>4</td>\n",
       "      <td>309</td>\n",
       "      <td>0</td>\n",
       "      <td>1</td>\n",
       "      <td>35</td>\n",
       "      <td>0</td>\n",
       "      <td>0</td>\n",
       "      <td>2</td>\n",
       "      <td>0</td>\n",
       "      <td>0</td>\n",
       "      <td>867</td>\n",
       "    </tr>\n",
       "    <tr>\n",
       "      <th>8690</th>\n",
       "      <td>1</td>\n",
       "      <td>1</td>\n",
       "      <td>4</td>\n",
       "      <td>289</td>\n",
       "      <td>0</td>\n",
       "      <td>0</td>\n",
       "      <td>35</td>\n",
       "      <td>0</td>\n",
       "      <td>0</td>\n",
       "      <td>0</td>\n",
       "      <td>0</td>\n",
       "      <td>0</td>\n",
       "      <td>0</td>\n",
       "    </tr>\n",
       "    <tr>\n",
       "      <th>8691</th>\n",
       "      <td>0</td>\n",
       "      <td>0</td>\n",
       "      <td>4</td>\n",
       "      <td>309</td>\n",
       "      <td>0</td>\n",
       "      <td>1</td>\n",
       "      <td>33</td>\n",
       "      <td>0</td>\n",
       "      <td>0</td>\n",
       "      <td>440</td>\n",
       "      <td>0</td>\n",
       "      <td>0</td>\n",
       "      <td>334</td>\n",
       "    </tr>\n",
       "    <tr>\n",
       "      <th>8692</th>\n",
       "      <td>0</td>\n",
       "      <td>0</td>\n",
       "      <td>5</td>\n",
       "      <td>42</td>\n",
       "      <td>0</td>\n",
       "      <td>2</td>\n",
       "      <td>27</td>\n",
       "      <td>0</td>\n",
       "      <td>740</td>\n",
       "      <td>82</td>\n",
       "      <td>6</td>\n",
       "      <td>628</td>\n",
       "      <td>1</td>\n",
       "    </tr>\n",
       "  </tbody>\n",
       "</table>\n",
       "<p>8693 rows × 13 columns</p>\n",
       "</div>"
      ],
      "text/plain": [
       "      HomePlanet  CryoSleep  Cabin  Cabin_num  Cabin_port  Destination  Age  \\\n",
       "0              1          0      1          0           0            2   39   \n",
       "1              0          0      5          0           1            2   24   \n",
       "2              1          0      0          0           1            2   58   \n",
       "3              1          0      0          0           1            2   33   \n",
       "4              0          0      5          1           1            2   16   \n",
       "...          ...        ...    ...        ...         ...          ...  ...   \n",
       "8688           1          0      3         90           0            0   53   \n",
       "8689           0          0      4        309           0            1   35   \n",
       "8690           1          1      4        289           0            0   35   \n",
       "8691           0          0      4        309           0            1   33   \n",
       "8692           0          0      5         42           0            2   27   \n",
       "\n",
       "      VIP  RoomService  FoodCourt  ShoppingMall   Spa  VRDeck  \n",
       "0       0            0          0             0     0       0  \n",
       "1       0          109          9            25   549      44  \n",
       "2       1           43       3576             0  6715      49  \n",
       "3       0            0       1283           371  3329     193  \n",
       "4       0          303         70           151   565       2  \n",
       "...   ...          ...        ...           ...   ...     ...  \n",
       "8688    0            0       1127             0  3939     400  \n",
       "8689    0            0          2             0     0     867  \n",
       "8690    0            0          0             0     0       0  \n",
       "8691    0            0        440             0     0     334  \n",
       "8692    0          740         82             6   628       1  \n",
       "\n",
       "[8693 rows x 13 columns]"
      ]
     },
     "execution_count": 9,
     "metadata": {},
     "output_type": "execute_result"
    }
   ],
   "source": [
    "df.iloc[:,:-1]"
   ]
  },
  {
   "cell_type": "code",
   "execution_count": 10,
   "id": "58f7e40d",
   "metadata": {},
   "outputs": [],
   "source": [
    "#데이터 분리\n",
    "from sklearn.model_selection import train_test_split\n",
    "X_train, X_test, y_train, y_test = train_test_split(df.iloc[:,:-1],df.iloc[:,-1], test_size=0.2, random_state=42)"
   ]
  },
  {
   "cell_type": "markdown",
   "id": "649734e3",
   "metadata": {},
   "source": [
    "## DecisionTree"
   ]
  },
  {
   "cell_type": "code",
   "execution_count": 11,
   "id": "7a4c58b1",
   "metadata": {},
   "outputs": [
    {
     "data": {
      "text/plain": [
       "DecisionTreeClassifier()"
      ]
     },
     "execution_count": 11,
     "metadata": {},
     "output_type": "execute_result"
    },
    {
     "data": {
      "text/plain": [
       "0.7251293847038528"
      ]
     },
     "execution_count": 11,
     "metadata": {},
     "output_type": "execute_result"
    },
    {
     "name": "stdout",
     "output_type": "stream",
     "text": [
      "confusion_matrix : \n",
      " [[632 243]\n",
      " [235 629]]\n"
     ]
    },
    {
     "data": {
      "text/plain": [
       "<AxesSubplot:title={'center':'Confusion Matrix'}, xlabel='Predicted label', ylabel='True label'>"
      ]
     },
     "execution_count": 11,
     "metadata": {},
     "output_type": "execute_result"
    },
    {
     "data": {
      "image/png": "[encoded data removed]",
      "text/plain": [
       "<Figure size 576x432 with 2 Axes>"
      ]
     },
     "metadata": {
      "needs_background": "light"
     },
     "output_type": "display_data"
    }
   ],
   "source": [
    "from sklearn.tree import DecisionTreeClassifier\n",
    "from sklearn.metrics import accuracy_score\n",
    "import matplotlib.pyplot as plt\n",
    "\n",
    "model = DecisionTreeClassifier()\n",
    "model.fit(X_train,y_train)\n",
    "\n",
    "pred = model.predict(X_test)\n",
    "acc = accuracy_score(y_test,pred)\n",
    "acc\n",
    "\n",
    "from sklearn.metrics import confusion_matrix\n",
    "import scikitplot as skplt\n",
    "\n",
    "pred = model.predict(X_test)\n",
    "# 실제 , 예측\n",
    "cm = confusion_matrix(y_test, pred)\n",
    "print('confusion_matrix : \\n', cm)\n",
    "\n",
    "skplt.metrics.plot_confusion_matrix(y_test,pred,figsize=(8,6))\n",
    "plt.show()"
   ]
  },
  {
   "cell_type": "markdown",
   "id": "27b8a564",
   "metadata": {},
   "source": [
    "## RandomForestClassifier"
   ]
  },
  {
   "cell_type": "code",
   "execution_count": 12,
   "id": "56969f27",
   "metadata": {},
   "outputs": [
    {
     "data": {
      "text/plain": [
       "RandomForestClassifier()"
      ]
     },
     "execution_count": 12,
     "metadata": {},
     "output_type": "execute_result"
    },
    {
     "data": {
      "text/plain": [
       "0.79700977573318"
      ]
     },
     "execution_count": 12,
     "metadata": {},
     "output_type": "execute_result"
    },
    {
     "name": "stdout",
     "output_type": "stream",
     "text": [
      "confusion_matrix : \n",
      " [[738 137]\n",
      " [216 648]]\n"
     ]
    },
    {
     "data": {
      "text/plain": [
       "<AxesSubplot:title={'center':'Confusion Matrix'}, xlabel='Predicted label', ylabel='True label'>"
      ]
     },
     "execution_count": 12,
     "metadata": {},
     "output_type": "execute_result"
    },
    {
     "data": {
      "image/png": "[encoded data removed]",
      "text/plain": [
       "<Figure size 576x432 with 2 Axes>"
      ]
     },
     "metadata": {
      "needs_background": "light"
     },
     "output_type": "display_data"
    }
   ],
   "source": [
    "from sklearn.ensemble import RandomForestClassifier\n",
    "from sklearn.metrics import accuracy_score\n",
    "\n",
    "model = RandomForestClassifier()\n",
    "model.fit(X_train,y_train)\n",
    "\n",
    "pred = model.predict(X_test)\n",
    "acc = accuracy_score(y_test,pred)\n",
    "acc\n",
    "\n",
    "from sklearn.metrics import confusion_matrix\n",
    "import scikitplot as skplt\n",
    "\n",
    "pred = model.predict(X_test)\n",
    "# 실제 , 예측\n",
    "cm = confusion_matrix(y_test, pred)\n",
    "print('confusion_matrix : \\n', cm)\n",
    "\n",
    "skplt.metrics.plot_confusion_matrix(y_test,pred,figsize=(8,6))\n",
    "plt.show()"
   ]
  },
  {
   "cell_type": "markdown",
   "id": "8531b192",
   "metadata": {},
   "source": [
    "## XGBoost"
   ]
  },
  {
   "cell_type": "code",
   "execution_count": 13,
   "id": "9cf9d931",
   "metadata": {},
   "outputs": [
    {
     "name": "stdout",
     "output_type": "stream",
     "text": [
      "[0]\tvalidation_0-logloss:0.58837\n",
      "[1]\tvalidation_0-logloss:0.52935\n",
      "[2]\tvalidation_0-logloss:0.49342\n",
      "[3]\tvalidation_0-logloss:0.47038\n",
      "[4]\tvalidation_0-logloss:0.45401\n",
      "[5]\tvalidation_0-logloss:0.44346\n",
      "[6]\tvalidation_0-logloss:0.43239\n",
      "[7]\tvalidation_0-logloss:0.42642\n",
      "[8]\tvalidation_0-logloss:0.42061\n",
      "[9]\tvalidation_0-logloss:0.41633\n",
      "[10]\tvalidation_0-logloss:0.41429\n",
      "[11]\tvalidation_0-logloss:0.41042\n",
      "[12]\tvalidation_0-logloss:0.40885\n",
      "[13]\tvalidation_0-logloss:0.40900\n",
      "[14]\tvalidation_0-logloss:0.40744\n",
      "[15]\tvalidation_0-logloss:0.40555\n",
      "[16]\tvalidation_0-logloss:0.40610\n",
      "[17]\tvalidation_0-logloss:0.40506\n",
      "[18]\tvalidation_0-logloss:0.40342\n",
      "[19]\tvalidation_0-logloss:0.40166\n",
      "[20]\tvalidation_0-logloss:0.40071\n",
      "[21]\tvalidation_0-logloss:0.40096\n",
      "[22]\tvalidation_0-logloss:0.40026\n",
      "[23]\tvalidation_0-logloss:0.40072\n",
      "[24]\tvalidation_0-logloss:0.40024\n",
      "[25]\tvalidation_0-logloss:0.39969\n",
      "[26]\tvalidation_0-logloss:0.40066\n",
      "[27]\tvalidation_0-logloss:0.40104\n",
      "[28]\tvalidation_0-logloss:0.40077\n",
      "[29]\tvalidation_0-logloss:0.40102\n",
      "[30]\tvalidation_0-logloss:0.40010\n",
      "[31]\tvalidation_0-logloss:0.39996\n",
      "[32]\tvalidation_0-logloss:0.39874\n",
      "[33]\tvalidation_0-logloss:0.40026\n",
      "[34]\tvalidation_0-logloss:0.40011\n",
      "[35]\tvalidation_0-logloss:0.40052\n",
      "[36]\tvalidation_0-logloss:0.40073\n",
      "[37]\tvalidation_0-logloss:0.40106\n",
      "[38]\tvalidation_0-logloss:0.40155\n",
      "[39]\tvalidation_0-logloss:0.40178\n",
      "[40]\tvalidation_0-logloss:0.40168\n",
      "[41]\tvalidation_0-logloss:0.40136\n"
     ]
    },
    {
     "data": {
      "text/plain": [
       "XGBClassifier(base_score=0.5, booster='gbtree', callbacks=None,\n",
       "              colsample_bylevel=1, colsample_bynode=1, colsample_bytree=1,\n",
       "              early_stopping_rounds=10, enable_categorical=False,\n",
       "              eval_metric=None, feature_types=None, gamma=0, gpu_id=-1,\n",
       "              grow_policy='depthwise', importance_type=None,\n",
       "              interaction_constraints='', learning_rate=0.300000012,\n",
       "              max_bin=256, max_cat_threshold=64, max_cat_to_onehot=4,\n",
       "              max_delta_step=0, max_depth=6, max_leaves=0, min_child_weight=1,\n",
       "              missing=nan, monotone_constraints='()', n_estimators=100,\n",
       "              n_jobs=0, num_parallel_tree=1, predictor='auto', random_state=0, ...)"
      ]
     },
     "execution_count": 13,
     "metadata": {},
     "output_type": "execute_result"
    },
    {
     "data": {
      "text/plain": [
       "0.8079355951696378"
      ]
     },
     "execution_count": 13,
     "metadata": {},
     "output_type": "execute_result"
    },
    {
     "name": "stdout",
     "output_type": "stream",
     "text": [
      "confusion_matrix : \n",
      " [[710 165]\n",
      " [169 695]]\n"
     ]
    },
    {
     "data": {
      "text/plain": [
       "<AxesSubplot:title={'center':'Confusion Matrix'}, xlabel='Predicted label', ylabel='True label'>"
      ]
     },
     "execution_count": 13,
     "metadata": {},
     "output_type": "execute_result"
    },
    {
     "data": {
      "image/png": "[encoded data removed]",
      "text/plain": [
       "<Figure size 576x432 with 2 Axes>"
      ]
     },
     "metadata": {
      "needs_background": "light"
     },
     "output_type": "display_data"
    }
   ],
   "source": [
    "import xgboost as xgb\n",
    "import pandas as pd\n",
    "import seaborn as sns\n",
    "from xgboost import XGBClassifier\n",
    "from sklearn.metrics import accuracy_score\n",
    "\n",
    "model = xgb.XGBClassifier(early_stopping_rounds=10)\n",
    "eval_set = [(X_test, y_test)]\n",
    "model.fit(X_train, y_train, eval_set=eval_set)#, verbose=True\n",
    "\n",
    "pred = model.predict(X_test)\n",
    "acc = accuracy_score(y_test,pred)\n",
    "acc\n",
    "\n",
    "from sklearn.metrics import confusion_matrix\n",
    "import scikitplot as skplt\n",
    "\n",
    "pred = model.predict(X_test)\n",
    "# 실제 , 예측\n",
    "cm = confusion_matrix(y_test, pred)\n",
    "print('confusion_matrix : \\n', cm)\n",
    "\n",
    "skplt.metrics.plot_confusion_matrix(y_test,pred,figsize=(8,6))\n",
    "plt.show()"
   ]
  },
  {
   "cell_type": "code",
   "execution_count": 14,
   "id": "3ee99684",
   "metadata": {},
   "outputs": [
    {
     "name": "stdout",
     "output_type": "stream",
     "text": [
      "32\n",
      "0.398738012776513\n"
     ]
    },
    {
     "data": {
      "text/plain": [
       "0.39873801491985367"
      ]
     },
     "execution_count": 14,
     "metadata": {},
     "output_type": "execute_result"
    },
    {
     "data": {
      "text/plain": [
       "array([0.08073428, 0.6904238 , 0.02360703, 0.01445117, 0.02723503,\n",
       "       0.01192245, 0.01357391, 0.00289952, 0.02793172, 0.02725716,\n",
       "       0.01750437, 0.03026843, 0.03219123], dtype=float32)"
      ]
     },
     "execution_count": 14,
     "metadata": {},
     "output_type": "execute_result"
    },
    {
     "data": {
      "text/plain": [
       "<BarContainer object of 13 artists>"
      ]
     },
     "execution_count": 14,
     "metadata": {},
     "output_type": "execute_result"
    },
    {
     "data": {
      "image/png": "[encoded data removed]",
      "text/plain": [
       "<Figure size 432x288 with 1 Axes>"
      ]
     },
     "metadata": {
      "needs_background": "light"
     },
     "output_type": "display_data"
    }
   ],
   "source": [
    "# best_iteration\n",
    "print(model.best_iteration)\n",
    "print(model.best_score)\n",
    "\n",
    "from sklearn import metrics\n",
    "y_pred = model.predict_proba(X_test)\n",
    "metrics.log_loss(y_test, y_pred)\n",
    "\n",
    "# feature_importances_\n",
    "import matplotlib.pyplot as plt \n",
    "model.feature_importances_\n",
    "plt.barh(df.iloc[:,:-1].columns, model.feature_importances_)"
   ]
  },
  {
   "cell_type": "markdown",
   "id": "794ce44d",
   "metadata": {},
   "source": [
    "## LGBMClassifier"
   ]
  },
  {
   "cell_type": "code",
   "execution_count": 15,
   "id": "0480615d",
   "metadata": {},
   "outputs": [
    {
     "name": "stdout",
     "output_type": "stream",
     "text": [
      "[1]\tvalid_0's binary_logloss: 0.654365\n",
      "Training until validation scores don't improve for 10 rounds\n",
      "[2]\tvalid_0's binary_logloss: 0.622746\n",
      "[3]\tvalid_0's binary_logloss: 0.595727\n",
      "[4]\tvalid_0's binary_logloss: 0.572923\n",
      "[5]\tvalid_0's binary_logloss: 0.554691\n",
      "[6]\tvalid_0's binary_logloss: 0.538204\n",
      "[7]\tvalid_0's binary_logloss: 0.523876\n",
      "[8]\tvalid_0's binary_logloss: 0.511524\n",
      "[9]\tvalid_0's binary_logloss: 0.501682\n",
      "[10]\tvalid_0's binary_logloss: 0.49188\n",
      "[11]\tvalid_0's binary_logloss: 0.484219\n",
      "[12]\tvalid_0's binary_logloss: 0.477592\n",
      "[13]\tvalid_0's binary_logloss: 0.47145\n",
      "[14]\tvalid_0's binary_logloss: 0.465004\n",
      "[15]\tvalid_0's binary_logloss: 0.459558\n",
      "[16]\tvalid_0's binary_logloss: 0.455018\n",
      "[17]\tvalid_0's binary_logloss: 0.452153\n",
      "[18]\tvalid_0's binary_logloss: 0.448352\n",
      "[19]\tvalid_0's binary_logloss: 0.445192\n",
      "[20]\tvalid_0's binary_logloss: 0.44162\n",
      "[21]\tvalid_0's binary_logloss: 0.438976\n",
      "[22]\tvalid_0's binary_logloss: 0.436849\n",
      "[23]\tvalid_0's binary_logloss: 0.434813\n",
      "[24]\tvalid_0's binary_logloss: 0.432885\n",
      "[25]\tvalid_0's binary_logloss: 0.431117\n",
      "[26]\tvalid_0's binary_logloss: 0.429695\n",
      "[27]\tvalid_0's binary_logloss: 0.429524\n",
      "[28]\tvalid_0's binary_logloss: 0.42864\n",
      "[29]\tvalid_0's binary_logloss: 0.427285\n",
      "[30]\tvalid_0's binary_logloss: 0.425255\n",
      "[31]\tvalid_0's binary_logloss: 0.422488\n",
      "[32]\tvalid_0's binary_logloss: 0.421319\n",
      "[33]\tvalid_0's binary_logloss: 0.420033\n",
      "[34]\tvalid_0's binary_logloss: 0.418355\n",
      "[35]\tvalid_0's binary_logloss: 0.417916\n",
      "[36]\tvalid_0's binary_logloss: 0.417178\n",
      "[37]\tvalid_0's binary_logloss: 0.415724\n",
      "[38]\tvalid_0's binary_logloss: 0.415498\n",
      "[39]\tvalid_0's binary_logloss: 0.41499\n",
      "[40]\tvalid_0's binary_logloss: 0.41404\n",
      "[41]\tvalid_0's binary_logloss: 0.414036\n",
      "[42]\tvalid_0's binary_logloss: 0.412331\n",
      "[43]\tvalid_0's binary_logloss: 0.411202\n",
      "[44]\tvalid_0's binary_logloss: 0.410995\n",
      "[45]\tvalid_0's binary_logloss: 0.411\n",
      "[46]\tvalid_0's binary_logloss: 0.41224\n",
      "[47]\tvalid_0's binary_logloss: 0.411993\n",
      "[48]\tvalid_0's binary_logloss: 0.411627\n",
      "[49]\tvalid_0's binary_logloss: 0.410669\n",
      "[50]\tvalid_0's binary_logloss: 0.410057\n",
      "[51]\tvalid_0's binary_logloss: 0.410309\n",
      "[52]\tvalid_0's binary_logloss: 0.410017\n",
      "[53]\tvalid_0's binary_logloss: 0.410013\n",
      "[54]\tvalid_0's binary_logloss: 0.409566\n",
      "[55]\tvalid_0's binary_logloss: 0.409206\n",
      "[56]\tvalid_0's binary_logloss: 0.40925\n",
      "[57]\tvalid_0's binary_logloss: 0.409144\n",
      "[58]\tvalid_0's binary_logloss: 0.408588\n",
      "[59]\tvalid_0's binary_logloss: 0.40874\n",
      "[60]\tvalid_0's binary_logloss: 0.409395\n",
      "[61]\tvalid_0's binary_logloss: 0.409348\n",
      "[62]\tvalid_0's binary_logloss: 0.409522\n",
      "[63]\tvalid_0's binary_logloss: 0.409186\n",
      "[64]\tvalid_0's binary_logloss: 0.408456\n",
      "[65]\tvalid_0's binary_logloss: 0.408868\n",
      "[66]\tvalid_0's binary_logloss: 0.409028\n",
      "[67]\tvalid_0's binary_logloss: 0.409601\n",
      "[68]\tvalid_0's binary_logloss: 0.408604\n",
      "[69]\tvalid_0's binary_logloss: 0.408505\n",
      "[70]\tvalid_0's binary_logloss: 0.40752\n",
      "[71]\tvalid_0's binary_logloss: 0.407156\n",
      "[72]\tvalid_0's binary_logloss: 0.406799\n",
      "[73]\tvalid_0's binary_logloss: 0.406642\n",
      "[74]\tvalid_0's binary_logloss: 0.40682\n",
      "[75]\tvalid_0's binary_logloss: 0.406625\n",
      "[76]\tvalid_0's binary_logloss: 0.407019\n",
      "[77]\tvalid_0's binary_logloss: 0.407402\n",
      "[78]\tvalid_0's binary_logloss: 0.406476\n",
      "[79]\tvalid_0's binary_logloss: 0.406543\n",
      "[80]\tvalid_0's binary_logloss: 0.406771\n",
      "[81]\tvalid_0's binary_logloss: 0.406643\n",
      "[82]\tvalid_0's binary_logloss: 0.40631\n",
      "[83]\tvalid_0's binary_logloss: 0.406295\n",
      "[84]\tvalid_0's binary_logloss: 0.406772\n",
      "[85]\tvalid_0's binary_logloss: 0.40673\n",
      "[86]\tvalid_0's binary_logloss: 0.406883\n",
      "[87]\tvalid_0's binary_logloss: 0.407212\n",
      "[88]\tvalid_0's binary_logloss: 0.407131\n",
      "[89]\tvalid_0's binary_logloss: 0.407884\n",
      "[90]\tvalid_0's binary_logloss: 0.407712\n",
      "[91]\tvalid_0's binary_logloss: 0.407993\n",
      "[92]\tvalid_0's binary_logloss: 0.40866\n",
      "[93]\tvalid_0's binary_logloss: 0.408912\n",
      "Early stopping, best iteration is:\n",
      "[83]\tvalid_0's binary_logloss: 0.406295\n"
     ]
    },
    {
     "data": {
      "text/plain": [
       "LGBMClassifier(boosting_type='goss', max_depth=5, random_state=0)"
      ]
     },
     "execution_count": 15,
     "metadata": {},
     "output_type": "execute_result"
    },
    {
     "data": {
      "text/plain": [
       "0.8004600345025877"
      ]
     },
     "execution_count": 15,
     "metadata": {},
     "output_type": "execute_result"
    },
    {
     "name": "stdout",
     "output_type": "stream",
     "text": [
      "confusion_matrix : \n",
      " [[705 170]\n",
      " [177 687]]\n"
     ]
    },
    {
     "data": {
      "text/plain": [
       "<AxesSubplot:title={'center':'Confusion Matrix'}, xlabel='Predicted label', ylabel='True label'>"
      ]
     },
     "execution_count": 15,
     "metadata": {},
     "output_type": "execute_result"
    },
    {
     "data": {
      "image/png": "[encoded data removed]",
      "text/plain": [
       "<Figure size 576x432 with 2 Axes>"
      ]
     },
     "metadata": {
      "needs_background": "light"
     },
     "output_type": "display_data"
    }
   ],
   "source": [
    "import lightgbm as lgb # 분류 회귀 다 됨\n",
    "model = lgb.LGBMClassifier(boosting_type='goss',max_depth=5, random_state=0)\n",
    "eval_set = [(X_test, y_test)]\n",
    "callbacks = []  # 리스트 객체 사용자함수를 담을 곳\n",
    "callbacks.append(lgb.early_stopping(stopping_rounds=10)) # 부스팅 반복 횟수 제어\n",
    "callbacks.append(lgb.log_evaluation())\n",
    "model.fit(X_train, y_train, eval_set=eval_set, callbacks=callbacks)\n",
    "\n",
    "pred = model.predict(X_test)\n",
    "acc = accuracy_score(y_test,pred)\n",
    "acc\n",
    "\n",
    "from sklearn.metrics import confusion_matrix\n",
    "import scikitplot as skplt\n",
    "\n",
    "pred = model.predict(X_test)\n",
    "# 실제 , 예측\n",
    "cm = confusion_matrix(y_test, pred)\n",
    "print('confusion_matrix : \\n', cm)\n",
    "\n",
    "skplt.metrics.plot_confusion_matrix(y_test,pred,figsize=(8,6))\n",
    "plt.show()"
   ]
  },
  {
   "cell_type": "code",
   "execution_count": 16,
   "id": "8f1d4405",
   "metadata": {},
   "outputs": [
    {
     "name": "stdout",
     "output_type": "stream",
     "text": [
      "83\n",
      "defaultdict(<class 'collections.OrderedDict'>, {'valid_0': OrderedDict([('binary_logloss', 0.406294937728183)])})\n"
     ]
    }
   ],
   "source": [
    "print(model.best_iteration_)\n",
    "print(model.best_score_)"
   ]
  },
  {
   "cell_type": "code",
   "execution_count": 17,
   "id": "5f083631",
   "metadata": {},
   "outputs": [
    {
     "data": {
      "text/plain": [
       "0.406294937728183"
      ]
     },
     "execution_count": 17,
     "metadata": {},
     "output_type": "execute_result"
    }
   ],
   "source": [
    "from sklearn import metrics\n",
    "y_pred = model.predict_proba(X_test)\n",
    "metrics.log_loss(y_test, y_pred)"
   ]
  },
  {
   "cell_type": "code",
   "execution_count": 18,
   "id": "f2f62aa4",
   "metadata": {},
   "outputs": [
    {
     "data": {
      "text/plain": [
       "<AxesSubplot:title={'center':'Metric during training'}, xlabel='Iterations', ylabel='binary_logloss'>"
      ]
     },
     "execution_count": 18,
     "metadata": {},
     "output_type": "execute_result"
    },
    {
     "data": {
      "image/png": "[encoded data removed]",
      "text/plain": [
       "<Figure size 432x288 with 1 Axes>"
      ]
     },
     "metadata": {
      "needs_background": "light"
     },
     "output_type": "display_data"
    }
   ],
   "source": [
    "lgb.plot_metric(model)"
   ]
  },
  {
   "cell_type": "code",
   "execution_count": 19,
   "id": "d8de900b",
   "metadata": {},
   "outputs": [
    {
     "data": {
      "text/plain": [
       "<AxesSubplot:title={'center':'Feature importance'}, xlabel='Feature importance', ylabel='Features'>"
      ]
     },
     "execution_count": 19,
     "metadata": {},
     "output_type": "execute_result"
    },
    {
     "data": {
      "image/png": "[encoded data removed]",
      "text/plain": [
       "<Figure size 432x288 with 1 Axes>"
      ]
     },
     "metadata": {
      "needs_background": "light"
     },
     "output_type": "display_data"
    }
   ],
   "source": [
    "lgb.plot_importance(model)"
   ]
  },
  {
   "cell_type": "markdown",
   "id": "d5403541",
   "metadata": {},
   "source": [
    "## Logistic Regression"
   ]
  },
  {
   "cell_type": "code",
   "execution_count": 20,
   "id": "8ba83ee8",
   "metadata": {},
   "outputs": [
    {
     "data": {
      "text/plain": [
       "LogisticRegression(max_iter=10000)"
      ]
     },
     "execution_count": 20,
     "metadata": {},
     "output_type": "execute_result"
    },
    {
     "data": {
      "text/plain": [
       "0.777458309373203"
      ]
     },
     "execution_count": 20,
     "metadata": {},
     "output_type": "execute_result"
    },
    {
     "data": {
      "text/plain": [
       "0.777458309373203"
      ]
     },
     "execution_count": 20,
     "metadata": {},
     "output_type": "execute_result"
    },
    {
     "name": "stdout",
     "output_type": "stream",
     "text": [
      "confusion_matrix : \n",
      " [[705 170]\n",
      " [177 687]]\n"
     ]
    },
    {
     "data": {
      "text/plain": [
       "<AxesSubplot:title={'center':'Confusion Matrix'}, xlabel='Predicted label', ylabel='True label'>"
      ]
     },
     "execution_count": 20,
     "metadata": {},
     "output_type": "execute_result"
    },
    {
     "data": {
      "image/png": "[encoded data removed]",
      "text/plain": [
       "<Figure size 576x432 with 2 Axes>"
      ]
     },
     "metadata": {
      "needs_background": "light"
     },
     "output_type": "display_data"
    }
   ],
   "source": [
    "#Logistic Regression\n",
    "from sklearn.linear_model import LogisticRegression\n",
    "model2 = LogisticRegression(max_iter = 10000)\n",
    "\n",
    "model2.fit(X_train,y_train)\n",
    "\n",
    "model2.score(X_test,y_test)\n",
    "pred_2 = model2.predict(X_test)\n",
    "acc2 = accuracy_score(y_test,pred_2)\n",
    "acc2\n",
    "\n",
    "# 실제 , 예측\n",
    "cm_2 = confusion_matrix(y_test, pred)\n",
    "print('confusion_matrix : \\n', cm_2)\n",
    "\n",
    "skplt.metrics.plot_confusion_matrix(y_test,pred_2,figsize=(8,6))\n",
    "plt.show()"
   ]
  },
  {
   "cell_type": "markdown",
   "id": "240342a2",
   "metadata": {},
   "source": [
    "## Support Vector Machine"
   ]
  },
  {
   "cell_type": "code",
   "execution_count": 21,
   "id": "45dac909",
   "metadata": {},
   "outputs": [
    {
     "data": {
      "text/plain": [
       "SVC()"
      ]
     },
     "execution_count": 21,
     "metadata": {},
     "output_type": "execute_result"
    },
    {
     "data": {
      "text/plain": [
       "0.7699827487061529"
      ]
     },
     "execution_count": 21,
     "metadata": {},
     "output_type": "execute_result"
    },
    {
     "name": "stdout",
     "output_type": "stream",
     "text": [
      "confusion_matrix : \n",
      " [[620 255]\n",
      " [145 719]]\n"
     ]
    },
    {
     "data": {
      "text/plain": [
       "<AxesSubplot:title={'center':'Confusion Matrix'}, xlabel='Predicted label', ylabel='True label'>"
      ]
     },
     "execution_count": 21,
     "metadata": {},
     "output_type": "execute_result"
    },
    {
     "data": {
      "image/png": "[encoded data removed]",
      "text/plain": [
       "<Figure size 576x432 with 2 Axes>"
      ]
     },
     "metadata": {
      "needs_background": "light"
     },
     "output_type": "display_data"
    }
   ],
   "source": [
    "### 모델 - svm ###\n",
    "\n",
    "from sklearn import svm\n",
    "from sklearn.metrics import accuracy_score\n",
    "\n",
    "\n",
    "model = svm.SVC()\n",
    "model.fit(X_train, y_train)\n",
    "pred = model.predict(X_test)\n",
    "acc = accuracy_score(y_test, pred) \n",
    "acc \n",
    "\n",
    "from sklearn.metrics import confusion_matrix \n",
    "import scikitplot as skplt \n",
    "pred = model.predict(X_test) # 실제 , 예측 \n",
    "cm = confusion_matrix(y_test, pred) \n",
    "print('confusion_matrix : \\n', cm) \n",
    "skplt.metrics.plot_confusion_matrix(y_test,pred,figsize=(8,6)) \n",
    "plt.show()"
   ]
  },
  {
   "cell_type": "code",
   "execution_count": null,
   "id": "2f78bc44",
   "metadata": {},
   "outputs": [],
   "source": []
  }
 ],
 "metadata": {
  "kernelspec": {
   "display_name": "Python 3 (ipykernel)",
   "language": "python",
   "name": "python3"
  },
  "language_info": {
   "codemirror_mode": {
    "name": "ipython",
    "version": 3
   },
   "file_extension": ".py",
   "mimetype": "text/x-python",
   "name": "python",
   "nbconvert_exporter": "python",
   "pygments_lexer": "ipython3",
   "version": "3.9.12"
  }
 },
 "nbformat": 4,
 "nbformat_minor": 5
}

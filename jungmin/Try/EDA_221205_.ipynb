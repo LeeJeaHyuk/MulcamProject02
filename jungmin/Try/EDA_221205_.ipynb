{
 "cells": [
  {
   "cell_type": "markdown",
   "id": "4f41c4e9",
   "metadata": {},
   "source": [
    "    Cabin = {'A':0,'B':1,'C':2,'D':3,'E':4,'F':5,'G':6,'T':7}\n",
    "    Destination = {'55 Cancri e': 0, 'PSO J318.5-22': 1,'TRAPPIST-1e':2}\n",
    "    HomePlanet = {'Earth':0,'Europa':1,'Mars':2}\n",
    "    CryoSleep = {'False':0,'True':1}\n",
    "    VIP = {'False':0,'True':1}\n",
    "    Transported = {'False':0,'True':1}"
   ]
  },
  {
   "cell_type": "code",
   "execution_count": 1,
   "id": "0ea8cd55",
   "metadata": {},
   "outputs": [],
   "source": [
    "import pandas as pd\n",
    "import matplotlib.pyplot as plt\n",
    "import seaborn as sbn\n",
    "import numpy as np\n",
    "\n",
    "from IPython.core.interactiveshell import InteractiveShell\n",
    "InteractiveShell.ast_node_interactivity=\"all\""
   ]
  },
  {
   "cell_type": "code",
   "execution_count": 3,
   "id": "23ee6a8d",
   "metadata": {},
   "outputs": [
    {
     "data": {
      "text/html": [
       "<div>\n",
       "<style scoped>\n",
       "    .dataframe tbody tr th:only-of-type {\n",
       "        vertical-align: middle;\n",
       "    }\n",
       "\n",
       "    .dataframe tbody tr th {\n",
       "        vertical-align: top;\n",
       "    }\n",
       "\n",
       "    .dataframe thead th {\n",
       "        text-align: right;\n",
       "    }\n",
       "</style>\n",
       "<table border=\"1\" class=\"dataframe\">\n",
       "  <thead>\n",
       "    <tr style=\"text-align: right;\">\n",
       "      <th></th>\n",
       "      <th>Unnamed: 0</th>\n",
       "      <th>PassengerId</th>\n",
       "      <th>HomePlanet</th>\n",
       "      <th>CryoSleep</th>\n",
       "      <th>Cabin</th>\n",
       "      <th>Cabin_num</th>\n",
       "      <th>Cabin_port</th>\n",
       "      <th>Destination</th>\n",
       "      <th>Age</th>\n",
       "      <th>VIP</th>\n",
       "      <th>RoomService</th>\n",
       "      <th>FoodCourt</th>\n",
       "      <th>ShoppingMall</th>\n",
       "      <th>Spa</th>\n",
       "      <th>VRDeck</th>\n",
       "      <th>Name</th>\n",
       "      <th>Transported</th>\n",
       "      <th>TotalExpense</th>\n",
       "    </tr>\n",
       "  </thead>\n",
       "  <tbody>\n",
       "    <tr>\n",
       "      <th>0</th>\n",
       "      <td>0</td>\n",
       "      <td>0001_01</td>\n",
       "      <td>1</td>\n",
       "      <td>0</td>\n",
       "      <td>1</td>\n",
       "      <td>0</td>\n",
       "      <td>0</td>\n",
       "      <td>2</td>\n",
       "      <td>39</td>\n",
       "      <td>0</td>\n",
       "      <td>0</td>\n",
       "      <td>0</td>\n",
       "      <td>0</td>\n",
       "      <td>0</td>\n",
       "      <td>0</td>\n",
       "      <td>Maham Ofracculy</td>\n",
       "      <td>0</td>\n",
       "      <td>0</td>\n",
       "    </tr>\n",
       "    <tr>\n",
       "      <th>1</th>\n",
       "      <td>1</td>\n",
       "      <td>0002_01</td>\n",
       "      <td>0</td>\n",
       "      <td>0</td>\n",
       "      <td>5</td>\n",
       "      <td>0</td>\n",
       "      <td>1</td>\n",
       "      <td>2</td>\n",
       "      <td>24</td>\n",
       "      <td>0</td>\n",
       "      <td>109</td>\n",
       "      <td>9</td>\n",
       "      <td>25</td>\n",
       "      <td>549</td>\n",
       "      <td>44</td>\n",
       "      <td>Juanna Vines</td>\n",
       "      <td>1</td>\n",
       "      <td>736</td>\n",
       "    </tr>\n",
       "    <tr>\n",
       "      <th>2</th>\n",
       "      <td>2</td>\n",
       "      <td>0003_01</td>\n",
       "      <td>1</td>\n",
       "      <td>0</td>\n",
       "      <td>0</td>\n",
       "      <td>0</td>\n",
       "      <td>1</td>\n",
       "      <td>2</td>\n",
       "      <td>58</td>\n",
       "      <td>1</td>\n",
       "      <td>43</td>\n",
       "      <td>3576</td>\n",
       "      <td>0</td>\n",
       "      <td>6715</td>\n",
       "      <td>49</td>\n",
       "      <td>Altark Susent</td>\n",
       "      <td>0</td>\n",
       "      <td>10383</td>\n",
       "    </tr>\n",
       "    <tr>\n",
       "      <th>3</th>\n",
       "      <td>3</td>\n",
       "      <td>0003_02</td>\n",
       "      <td>1</td>\n",
       "      <td>0</td>\n",
       "      <td>0</td>\n",
       "      <td>0</td>\n",
       "      <td>1</td>\n",
       "      <td>2</td>\n",
       "      <td>33</td>\n",
       "      <td>0</td>\n",
       "      <td>0</td>\n",
       "      <td>1283</td>\n",
       "      <td>371</td>\n",
       "      <td>3329</td>\n",
       "      <td>193</td>\n",
       "      <td>Solam Susent</td>\n",
       "      <td>0</td>\n",
       "      <td>5176</td>\n",
       "    </tr>\n",
       "    <tr>\n",
       "      <th>4</th>\n",
       "      <td>4</td>\n",
       "      <td>0004_01</td>\n",
       "      <td>0</td>\n",
       "      <td>0</td>\n",
       "      <td>5</td>\n",
       "      <td>1</td>\n",
       "      <td>1</td>\n",
       "      <td>2</td>\n",
       "      <td>16</td>\n",
       "      <td>0</td>\n",
       "      <td>303</td>\n",
       "      <td>70</td>\n",
       "      <td>151</td>\n",
       "      <td>565</td>\n",
       "      <td>2</td>\n",
       "      <td>Willy Santantines</td>\n",
       "      <td>1</td>\n",
       "      <td>1091</td>\n",
       "    </tr>\n",
       "    <tr>\n",
       "      <th>...</th>\n",
       "      <td>...</td>\n",
       "      <td>...</td>\n",
       "      <td>...</td>\n",
       "      <td>...</td>\n",
       "      <td>...</td>\n",
       "      <td>...</td>\n",
       "      <td>...</td>\n",
       "      <td>...</td>\n",
       "      <td>...</td>\n",
       "      <td>...</td>\n",
       "      <td>...</td>\n",
       "      <td>...</td>\n",
       "      <td>...</td>\n",
       "      <td>...</td>\n",
       "      <td>...</td>\n",
       "      <td>...</td>\n",
       "      <td>...</td>\n",
       "      <td>...</td>\n",
       "    </tr>\n",
       "    <tr>\n",
       "      <th>8688</th>\n",
       "      <td>8688</td>\n",
       "      <td>8772_02</td>\n",
       "      <td>1</td>\n",
       "      <td>0</td>\n",
       "      <td>3</td>\n",
       "      <td>90</td>\n",
       "      <td>0</td>\n",
       "      <td>0</td>\n",
       "      <td>53</td>\n",
       "      <td>0</td>\n",
       "      <td>0</td>\n",
       "      <td>1127</td>\n",
       "      <td>0</td>\n",
       "      <td>3939</td>\n",
       "      <td>400</td>\n",
       "      <td>Naosura Motled</td>\n",
       "      <td>0</td>\n",
       "      <td>5466</td>\n",
       "    </tr>\n",
       "    <tr>\n",
       "      <th>8689</th>\n",
       "      <td>8689</td>\n",
       "      <td>3821_01</td>\n",
       "      <td>0</td>\n",
       "      <td>0</td>\n",
       "      <td>4</td>\n",
       "      <td>309</td>\n",
       "      <td>0</td>\n",
       "      <td>1</td>\n",
       "      <td>35</td>\n",
       "      <td>0</td>\n",
       "      <td>0</td>\n",
       "      <td>2</td>\n",
       "      <td>0</td>\n",
       "      <td>0</td>\n",
       "      <td>867</td>\n",
       "      <td>Violan Mcphernard</td>\n",
       "      <td>0</td>\n",
       "      <td>869</td>\n",
       "    </tr>\n",
       "    <tr>\n",
       "      <th>8690</th>\n",
       "      <td>8690</td>\n",
       "      <td>7746_01</td>\n",
       "      <td>1</td>\n",
       "      <td>1</td>\n",
       "      <td>4</td>\n",
       "      <td>289</td>\n",
       "      <td>0</td>\n",
       "      <td>0</td>\n",
       "      <td>35</td>\n",
       "      <td>0</td>\n",
       "      <td>0</td>\n",
       "      <td>0</td>\n",
       "      <td>0</td>\n",
       "      <td>0</td>\n",
       "      <td>0</td>\n",
       "      <td>Antinon Patoetic</td>\n",
       "      <td>1</td>\n",
       "      <td>0</td>\n",
       "    </tr>\n",
       "    <tr>\n",
       "      <th>8691</th>\n",
       "      <td>8691</td>\n",
       "      <td>4167_01</td>\n",
       "      <td>0</td>\n",
       "      <td>0</td>\n",
       "      <td>4</td>\n",
       "      <td>309</td>\n",
       "      <td>0</td>\n",
       "      <td>1</td>\n",
       "      <td>33</td>\n",
       "      <td>0</td>\n",
       "      <td>0</td>\n",
       "      <td>440</td>\n",
       "      <td>0</td>\n",
       "      <td>0</td>\n",
       "      <td>334</td>\n",
       "      <td>Ninaha Deckerson</td>\n",
       "      <td>0</td>\n",
       "      <td>774</td>\n",
       "    </tr>\n",
       "    <tr>\n",
       "      <th>8692</th>\n",
       "      <td>8692</td>\n",
       "      <td>2970_01</td>\n",
       "      <td>0</td>\n",
       "      <td>0</td>\n",
       "      <td>5</td>\n",
       "      <td>42</td>\n",
       "      <td>0</td>\n",
       "      <td>2</td>\n",
       "      <td>27</td>\n",
       "      <td>0</td>\n",
       "      <td>740</td>\n",
       "      <td>82</td>\n",
       "      <td>6</td>\n",
       "      <td>628</td>\n",
       "      <td>1</td>\n",
       "      <td>Dwin Adkinson</td>\n",
       "      <td>0</td>\n",
       "      <td>1457</td>\n",
       "    </tr>\n",
       "  </tbody>\n",
       "</table>\n",
       "<p>8693 rows × 18 columns</p>\n",
       "</div>"
      ],
      "text/plain": [
       "      Unnamed: 0 PassengerId  HomePlanet  CryoSleep  Cabin  Cabin_num  \\\n",
       "0              0     0001_01           1          0      1          0   \n",
       "1              1     0002_01           0          0      5          0   \n",
       "2              2     0003_01           1          0      0          0   \n",
       "3              3     0003_02           1          0      0          0   \n",
       "4              4     0004_01           0          0      5          1   \n",
       "...          ...         ...         ...        ...    ...        ...   \n",
       "8688        8688     8772_02           1          0      3         90   \n",
       "8689        8689     3821_01           0          0      4        309   \n",
       "8690        8690     7746_01           1          1      4        289   \n",
       "8691        8691     4167_01           0          0      4        309   \n",
       "8692        8692     2970_01           0          0      5         42   \n",
       "\n",
       "      Cabin_port  Destination  Age  VIP  RoomService  FoodCourt  ShoppingMall  \\\n",
       "0              0            2   39    0            0          0             0   \n",
       "1              1            2   24    0          109          9            25   \n",
       "2              1            2   58    1           43       3576             0   \n",
       "3              1            2   33    0            0       1283           371   \n",
       "4              1            2   16    0          303         70           151   \n",
       "...          ...          ...  ...  ...          ...        ...           ...   \n",
       "8688           0            0   53    0            0       1127             0   \n",
       "8689           0            1   35    0            0          2             0   \n",
       "8690           0            0   35    0            0          0             0   \n",
       "8691           0            1   33    0            0        440             0   \n",
       "8692           0            2   27    0          740         82             6   \n",
       "\n",
       "       Spa  VRDeck               Name  Transported  TotalExpense  \n",
       "0        0       0    Maham Ofracculy            0             0  \n",
       "1      549      44       Juanna Vines            1           736  \n",
       "2     6715      49      Altark Susent            0         10383  \n",
       "3     3329     193       Solam Susent            0          5176  \n",
       "4      565       2  Willy Santantines            1          1091  \n",
       "...    ...     ...                ...          ...           ...  \n",
       "8688  3939     400     Naosura Motled            0          5466  \n",
       "8689     0     867  Violan Mcphernard            0           869  \n",
       "8690     0       0   Antinon Patoetic            1             0  \n",
       "8691     0     334   Ninaha Deckerson            0           774  \n",
       "8692   628       1      Dwin Adkinson            0          1457  \n",
       "\n",
       "[8693 rows x 18 columns]"
      ]
     },
     "execution_count": 3,
     "metadata": {},
     "output_type": "execute_result"
    }
   ],
   "source": [
    "df = pd.read_csv('C:/ds_work/source_code/Project_DS/data/train_update2.csv')\n",
    "df01 = pd.read_csv('C:/ds_work/source_code/Project_DS/data/train.csv')\n",
    "df"
   ]
  },
  {
   "cell_type": "code",
   "execution_count": 4,
   "id": "0a07d31a",
   "metadata": {},
   "outputs": [
    {
     "name": "stdout",
     "output_type": "stream",
     "text": [
      "<class 'pandas.core.frame.DataFrame'>\n",
      "RangeIndex: 8693 entries, 0 to 8692\n",
      "Data columns (total 18 columns):\n",
      " #   Column        Non-Null Count  Dtype \n",
      "---  ------        --------------  ----- \n",
      " 0   Unnamed: 0    8693 non-null   int64 \n",
      " 1   PassengerId   8693 non-null   object\n",
      " 2   HomePlanet    8693 non-null   int64 \n",
      " 3   CryoSleep     8693 non-null   int64 \n",
      " 4   Cabin         8693 non-null   int64 \n",
      " 5   Cabin_num     8693 non-null   int64 \n",
      " 6   Cabin_port    8693 non-null   int64 \n",
      " 7   Destination   8693 non-null   int64 \n",
      " 8   Age           8693 non-null   int64 \n",
      " 9   VIP           8693 non-null   int64 \n",
      " 10  RoomService   8693 non-null   int64 \n",
      " 11  FoodCourt     8693 non-null   int64 \n",
      " 12  ShoppingMall  8693 non-null   int64 \n",
      " 13  Spa           8693 non-null   int64 \n",
      " 14  VRDeck        8693 non-null   int64 \n",
      " 15  Name          8493 non-null   object\n",
      " 16  Transported   8693 non-null   int64 \n",
      " 17  TotalExpense  8693 non-null   int64 \n",
      "dtypes: int64(16), object(2)\n",
      "memory usage: 1.2+ MB\n"
     ]
    }
   ],
   "source": [
    "df.info()"
   ]
  },
  {
   "cell_type": "code",
   "execution_count": 5,
   "id": "0934b06d",
   "metadata": {},
   "outputs": [
    {
     "data": {
      "text/html": [
       "<div>\n",
       "<style scoped>\n",
       "    .dataframe tbody tr th:only-of-type {\n",
       "        vertical-align: middle;\n",
       "    }\n",
       "\n",
       "    .dataframe tbody tr th {\n",
       "        vertical-align: top;\n",
       "    }\n",
       "\n",
       "    .dataframe thead th {\n",
       "        text-align: right;\n",
       "    }\n",
       "</style>\n",
       "<table border=\"1\" class=\"dataframe\">\n",
       "  <thead>\n",
       "    <tr style=\"text-align: right;\">\n",
       "      <th></th>\n",
       "      <th>Unnamed: 0</th>\n",
       "      <th>HomePlanet</th>\n",
       "      <th>CryoSleep</th>\n",
       "      <th>Cabin</th>\n",
       "      <th>Cabin_num</th>\n",
       "      <th>Cabin_port</th>\n",
       "      <th>Destination</th>\n",
       "      <th>Age</th>\n",
       "      <th>VIP</th>\n",
       "      <th>RoomService</th>\n",
       "      <th>FoodCourt</th>\n",
       "      <th>ShoppingMall</th>\n",
       "      <th>Spa</th>\n",
       "      <th>VRDeck</th>\n",
       "      <th>Transported</th>\n",
       "      <th>TotalExpense</th>\n",
       "    </tr>\n",
       "  </thead>\n",
       "  <tbody>\n",
       "    <tr>\n",
       "      <th>count</th>\n",
       "      <td>8693.000000</td>\n",
       "      <td>8693.000000</td>\n",
       "      <td>8693.000000</td>\n",
       "      <td>8693.000000</td>\n",
       "      <td>8693.000000</td>\n",
       "      <td>8693.000000</td>\n",
       "      <td>8693.000000</td>\n",
       "      <td>8693.000000</td>\n",
       "      <td>8693.000000</td>\n",
       "      <td>8693.000000</td>\n",
       "      <td>8693.000000</td>\n",
       "      <td>8693.000000</td>\n",
       "      <td>8693.000000</td>\n",
       "      <td>8693.000000</td>\n",
       "      <td>8693.000000</td>\n",
       "      <td>8693.000000</td>\n",
       "    </tr>\n",
       "    <tr>\n",
       "      <th>mean</th>\n",
       "      <td>4346.000000</td>\n",
       "      <td>0.665248</td>\n",
       "      <td>0.359485</td>\n",
       "      <td>4.301047</td>\n",
       "      <td>591.529046</td>\n",
       "      <td>0.493501</td>\n",
       "      <td>1.490855</td>\n",
       "      <td>28.589210</td>\n",
       "      <td>0.022662</td>\n",
       "      <td>240.104222</td>\n",
       "      <td>454.942943</td>\n",
       "      <td>173.556310</td>\n",
       "      <td>335.761647</td>\n",
       "      <td>318.312780</td>\n",
       "      <td>0.503624</td>\n",
       "      <td>1532.295640</td>\n",
       "    </tr>\n",
       "    <tr>\n",
       "      <th>std</th>\n",
       "      <td>2509.597278</td>\n",
       "      <td>0.798632</td>\n",
       "      <td>0.479877</td>\n",
       "      <td>1.760288</td>\n",
       "      <td>509.499781</td>\n",
       "      <td>0.499987</td>\n",
       "      <td>0.817050</td>\n",
       "      <td>14.451078</td>\n",
       "      <td>0.148832</td>\n",
       "      <td>682.559288</td>\n",
       "      <td>1595.608156</td>\n",
       "      <td>598.169173</td>\n",
       "      <td>1157.893846</td>\n",
       "      <td>1149.211684</td>\n",
       "      <td>0.500016</td>\n",
       "      <td>2848.836678</td>\n",
       "    </tr>\n",
       "    <tr>\n",
       "      <th>min</th>\n",
       "      <td>0.000000</td>\n",
       "      <td>0.000000</td>\n",
       "      <td>0.000000</td>\n",
       "      <td>0.000000</td>\n",
       "      <td>0.000000</td>\n",
       "      <td>0.000000</td>\n",
       "      <td>0.000000</td>\n",
       "      <td>0.000000</td>\n",
       "      <td>0.000000</td>\n",
       "      <td>0.000000</td>\n",
       "      <td>0.000000</td>\n",
       "      <td>0.000000</td>\n",
       "      <td>0.000000</td>\n",
       "      <td>0.000000</td>\n",
       "      <td>0.000000</td>\n",
       "      <td>0.000000</td>\n",
       "    </tr>\n",
       "    <tr>\n",
       "      <th>25%</th>\n",
       "      <td>2173.000000</td>\n",
       "      <td>0.000000</td>\n",
       "      <td>0.000000</td>\n",
       "      <td>3.000000</td>\n",
       "      <td>166.000000</td>\n",
       "      <td>0.000000</td>\n",
       "      <td>1.000000</td>\n",
       "      <td>19.000000</td>\n",
       "      <td>0.000000</td>\n",
       "      <td>0.000000</td>\n",
       "      <td>0.000000</td>\n",
       "      <td>0.000000</td>\n",
       "      <td>0.000000</td>\n",
       "      <td>0.000000</td>\n",
       "      <td>0.000000</td>\n",
       "      <td>0.000000</td>\n",
       "    </tr>\n",
       "    <tr>\n",
       "      <th>50%</th>\n",
       "      <td>4346.000000</td>\n",
       "      <td>0.000000</td>\n",
       "      <td>0.000000</td>\n",
       "      <td>5.000000</td>\n",
       "      <td>407.000000</td>\n",
       "      <td>0.000000</td>\n",
       "      <td>2.000000</td>\n",
       "      <td>27.000000</td>\n",
       "      <td>0.000000</td>\n",
       "      <td>0.000000</td>\n",
       "      <td>0.000000</td>\n",
       "      <td>0.000000</td>\n",
       "      <td>0.000000</td>\n",
       "      <td>0.000000</td>\n",
       "      <td>1.000000</td>\n",
       "      <td>747.000000</td>\n",
       "    </tr>\n",
       "    <tr>\n",
       "      <th>75%</th>\n",
       "      <td>6519.000000</td>\n",
       "      <td>1.000000</td>\n",
       "      <td>1.000000</td>\n",
       "      <td>6.000000</td>\n",
       "      <td>983.000000</td>\n",
       "      <td>1.000000</td>\n",
       "      <td>2.000000</td>\n",
       "      <td>37.000000</td>\n",
       "      <td>0.000000</td>\n",
       "      <td>56.000000</td>\n",
       "      <td>87.000000</td>\n",
       "      <td>30.000000</td>\n",
       "      <td>71.000000</td>\n",
       "      <td>54.000000</td>\n",
       "      <td>1.000000</td>\n",
       "      <td>1670.000000</td>\n",
       "    </tr>\n",
       "    <tr>\n",
       "      <th>max</th>\n",
       "      <td>8692.000000</td>\n",
       "      <td>2.000000</td>\n",
       "      <td>1.000000</td>\n",
       "      <td>7.000000</td>\n",
       "      <td>1894.000000</td>\n",
       "      <td>1.000000</td>\n",
       "      <td>2.000000</td>\n",
       "      <td>79.000000</td>\n",
       "      <td>1.000000</td>\n",
       "      <td>14327.000000</td>\n",
       "      <td>29813.000000</td>\n",
       "      <td>23492.000000</td>\n",
       "      <td>22408.000000</td>\n",
       "      <td>24133.000000</td>\n",
       "      <td>1.000000</td>\n",
       "      <td>35987.000000</td>\n",
       "    </tr>\n",
       "  </tbody>\n",
       "</table>\n",
       "</div>"
      ],
      "text/plain": [
       "        Unnamed: 0   HomePlanet    CryoSleep        Cabin    Cabin_num  \\\n",
       "count  8693.000000  8693.000000  8693.000000  8693.000000  8693.000000   \n",
       "mean   4346.000000     0.665248     0.359485     4.301047   591.529046   \n",
       "std    2509.597278     0.798632     0.479877     1.760288   509.499781   \n",
       "min       0.000000     0.000000     0.000000     0.000000     0.000000   \n",
       "25%    2173.000000     0.000000     0.000000     3.000000   166.000000   \n",
       "50%    4346.000000     0.000000     0.000000     5.000000   407.000000   \n",
       "75%    6519.000000     1.000000     1.000000     6.000000   983.000000   \n",
       "max    8692.000000     2.000000     1.000000     7.000000  1894.000000   \n",
       "\n",
       "        Cabin_port  Destination          Age          VIP   RoomService  \\\n",
       "count  8693.000000  8693.000000  8693.000000  8693.000000   8693.000000   \n",
       "mean      0.493501     1.490855    28.589210     0.022662    240.104222   \n",
       "std       0.499987     0.817050    14.451078     0.148832    682.559288   \n",
       "min       0.000000     0.000000     0.000000     0.000000      0.000000   \n",
       "25%       0.000000     1.000000    19.000000     0.000000      0.000000   \n",
       "50%       0.000000     2.000000    27.000000     0.000000      0.000000   \n",
       "75%       1.000000     2.000000    37.000000     0.000000     56.000000   \n",
       "max       1.000000     2.000000    79.000000     1.000000  14327.000000   \n",
       "\n",
       "          FoodCourt  ShoppingMall           Spa        VRDeck  Transported  \\\n",
       "count   8693.000000   8693.000000   8693.000000   8693.000000  8693.000000   \n",
       "mean     454.942943    173.556310    335.761647    318.312780     0.503624   \n",
       "std     1595.608156    598.169173   1157.893846   1149.211684     0.500016   \n",
       "min        0.000000      0.000000      0.000000      0.000000     0.000000   \n",
       "25%        0.000000      0.000000      0.000000      0.000000     0.000000   \n",
       "50%        0.000000      0.000000      0.000000      0.000000     1.000000   \n",
       "75%       87.000000     30.000000     71.000000     54.000000     1.000000   \n",
       "max    29813.000000  23492.000000  22408.000000  24133.000000     1.000000   \n",
       "\n",
       "       TotalExpense  \n",
       "count   8693.000000  \n",
       "mean    1532.295640  \n",
       "std     2848.836678  \n",
       "min        0.000000  \n",
       "25%        0.000000  \n",
       "50%      747.000000  \n",
       "75%     1670.000000  \n",
       "max    35987.000000  "
      ]
     },
     "execution_count": 5,
     "metadata": {},
     "output_type": "execute_result"
    }
   ],
   "source": [
    "df.describe()"
   ]
  },
  {
   "cell_type": "code",
   "execution_count": 9,
   "id": "6b7128c1",
   "metadata": {},
   "outputs": [],
   "source": [
    "df = df.drop(['Unnamed: 0','Name'],axis=1)\n",
    "df = df.astype(float)"
   ]
  },
  {
   "cell_type": "markdown",
   "id": "20c09d37",
   "metadata": {},
   "source": [
    "## Transported \n",
    "#### False(0) : 4378(50.36%) / True(1) : 4315(49.64%)"
   ]
  },
  {
   "cell_type": "code",
   "execution_count": 13,
   "id": "6ab3404c",
   "metadata": {},
   "outputs": [
    {
     "data": {
      "text/plain": [
       "<Figure size 936x288 with 0 Axes>"
      ]
     },
     "execution_count": 13,
     "metadata": {},
     "output_type": "execute_result"
    },
    {
     "data": {
      "text/plain": [
       "<AxesSubplot:>"
      ]
     },
     "execution_count": 13,
     "metadata": {},
     "output_type": "execute_result"
    },
    {
     "data": {
      "text/plain": [
       "<AxesSubplot:ylabel='Transported'>"
      ]
     },
     "execution_count": 13,
     "metadata": {},
     "output_type": "execute_result"
    },
    {
     "data": {
      "text/plain": [
       "Text(0.5, 1.0, 'Transported passangers in counts')"
      ]
     },
     "execution_count": 13,
     "metadata": {},
     "output_type": "execute_result"
    },
    {
     "data": {
      "text/plain": [
       "Text(0.0, 4378, '4378')"
      ]
     },
     "execution_count": 13,
     "metadata": {},
     "output_type": "execute_result"
    },
    {
     "data": {
      "text/plain": [
       "Text(1.0, 4315, '4315')"
      ]
     },
     "execution_count": 13,
     "metadata": {},
     "output_type": "execute_result"
    },
    {
     "data": {
      "text/plain": [
       "<AxesSubplot:>"
      ]
     },
     "execution_count": 13,
     "metadata": {},
     "output_type": "execute_result"
    },
    {
     "data": {
      "text/plain": [
       "([<matplotlib.patches.Wedge at 0x1b4b3f32fa0>,\n",
       "  <matplotlib.patches.Wedge at 0x1b4b3f41790>],\n",
       " [Text(-0.012522008688130765, 1.0999287246446539, '0.0'),\n",
       "  Text(0.01252200868813063, -1.0999287246446539, '1.0')],\n",
       " [Text(-0.006830186557162235, 0.5999611225334475, '50.36%'),\n",
       "  Text(0.006830186557162161, -0.5999611225334475, '49.64%')])"
      ]
     },
     "execution_count": 13,
     "metadata": {},
     "output_type": "execute_result"
    },
    {
     "data": {
      "text/plain": [
       "Text(0.5, 1.0, 'Transported passangers in %')"
      ]
     },
     "execution_count": 13,
     "metadata": {},
     "output_type": "execute_result"
    },
    {
     "data": {
      "image/png": "[encoded data removed]",
      "text/plain": [
       "<Figure size 936x288 with 2 Axes>"
      ]
     },
     "metadata": {
      "needs_background": "light"
     },
     "output_type": "display_data"
    }
   ],
   "source": [
    "#Transported passangers in %\n",
    "#Predictions: True for Transported, False for Lost) \n",
    "plt.figure(figsize=(13,4))\n",
    "plt.subplot(121)\n",
    "sbn.barplot(x=df.Transported.unique(), y=df.Transported.value_counts())\n",
    "plt.title(\"Transported passangers in counts\")\n",
    "for i, j in zip(df.Transported.unique(), df.Transported.value_counts()):\n",
    "    plt.annotate(str(j), xytext=(i, j), xy=(i, j))\n",
    "plt.subplot(122)\n",
    "plt.pie(df.Transported.value_counts(), labels=df.Transported.unique(), autopct='%.2f%%')\n",
    "plt.title(\"Transported passangers in %\")\n",
    "plt.show()"
   ]
  },
  {
   "cell_type": "markdown",
   "id": "10916b2f",
   "metadata": {},
   "source": [
    "## HomePlanet to Destination\n",
    "#### Earth(0)/Europa(1)/Mars(2) \n",
    "#### TRAPPIST-1e(2)/PSO J318.5-22(1)/55 Cancri e(0) \n",
    "##### ==> 지구에서 출발해서 TRAPPIST-1e에 도착한 사람이 제일 많음\n",
    "##### ==> Europa에서 출발한 사람이 가장 도착한 수가 적음"
   ]
  },
  {
   "cell_type": "code",
   "execution_count": 15,
   "id": "6c8e7c8f",
   "metadata": {},
   "outputs": [
    {
     "data": {
      "text/plain": [
       "<Figure size 936x216 with 0 Axes>"
      ]
     },
     "execution_count": 15,
     "metadata": {},
     "output_type": "execute_result"
    },
    {
     "data": {
      "text/plain": [
       "<AxesSubplot:xlabel='HomePlanet', ylabel='count'>"
      ]
     },
     "execution_count": 15,
     "metadata": {},
     "output_type": "execute_result"
    },
    {
     "data": {
      "text/plain": [
       "Text(0.5, 1.0, 'Number of people travelled from HomePlanet to destination')"
      ]
     },
     "execution_count": 15,
     "metadata": {},
     "output_type": "execute_result"
    },
    {
     "data": {
      "image/png": "[encoded data removed]",
      "text/plain": [
       "<Figure size 936x216 with 1 Axes>"
      ]
     },
     "metadata": {
      "needs_background": "light"
     },
     "output_type": "display_data"
    }
   ],
   "source": [
    "#Number of people travelled from HomePlanet to destination\n",
    "plt.figure(figsize=(13,3))\n",
    "sbn.countplot(data=df, x='HomePlanet', hue='Destination')\n",
    "plt.title(\"Number of people travelled from HomePlanet to destination\")\n",
    "plt.show()"
   ]
  },
  {
   "cell_type": "markdown",
   "id": "36c40270",
   "metadata": {},
   "source": [
    "## 나이와 홈플래닛"
   ]
  },
  {
   "cell_type": "code",
   "execution_count": 20,
   "id": "8c79d7e7",
   "metadata": {},
   "outputs": [
    {
     "data": {
      "text/plain": [
       "<Figure size 2160x720 with 0 Axes>"
      ]
     },
     "execution_count": 20,
     "metadata": {},
     "output_type": "execute_result"
    },
    {
     "data": {
      "text/plain": [
       "[Text(0, 0, '0'),\n",
       " Text(1, 0, '1'),\n",
       " Text(2, 0, '2'),\n",
       " Text(3, 0, '3'),\n",
       " Text(4, 0, '4'),\n",
       " Text(5, 0, '5'),\n",
       " Text(6, 0, '6'),\n",
       " Text(7, 0, '7'),\n",
       " Text(8, 0, '8'),\n",
       " Text(9, 0, '9'),\n",
       " Text(10, 0, '10'),\n",
       " Text(11, 0, '11'),\n",
       " Text(12, 0, '12'),\n",
       " Text(13, 0, '13'),\n",
       " Text(14, 0, '14'),\n",
       " Text(15, 0, '15'),\n",
       " Text(16, 0, '16'),\n",
       " Text(17, 0, '17'),\n",
       " Text(18, 0, '18'),\n",
       " Text(19, 0, '19'),\n",
       " Text(20, 0, '20'),\n",
       " Text(21, 0, '21'),\n",
       " Text(22, 0, '22'),\n",
       " Text(23, 0, '23'),\n",
       " Text(24, 0, '24'),\n",
       " Text(25, 0, '25'),\n",
       " Text(26, 0, '26'),\n",
       " Text(27, 0, '27'),\n",
       " Text(28, 0, '28'),\n",
       " Text(29, 0, '29'),\n",
       " Text(30, 0, '30'),\n",
       " Text(31, 0, '31'),\n",
       " Text(32, 0, '32'),\n",
       " Text(33, 0, '33'),\n",
       " Text(34, 0, '34'),\n",
       " Text(35, 0, '35'),\n",
       " Text(36, 0, '36'),\n",
       " Text(37, 0, '37'),\n",
       " Text(38, 0, '38'),\n",
       " Text(39, 0, '39'),\n",
       " Text(40, 0, '40'),\n",
       " Text(41, 0, '41'),\n",
       " Text(42, 0, '42'),\n",
       " Text(43, 0, '43'),\n",
       " Text(44, 0, '44'),\n",
       " Text(45, 0, '45'),\n",
       " Text(46, 0, '46'),\n",
       " Text(47, 0, '47'),\n",
       " Text(48, 0, '48'),\n",
       " Text(49, 0, '49'),\n",
       " Text(50, 0, '50'),\n",
       " Text(51, 0, '51'),\n",
       " Text(52, 0, '52'),\n",
       " Text(53, 0, '53'),\n",
       " Text(54, 0, '54'),\n",
       " Text(55, 0, '55'),\n",
       " Text(56, 0, '56'),\n",
       " Text(57, 0, '57'),\n",
       " Text(58, 0, '58'),\n",
       " Text(59, 0, '59'),\n",
       " Text(60, 0, '60'),\n",
       " Text(61, 0, '61'),\n",
       " Text(62, 0, '62'),\n",
       " Text(63, 0, '63'),\n",
       " Text(64, 0, '64'),\n",
       " Text(65, 0, '65'),\n",
       " Text(66, 0, '66'),\n",
       " Text(67, 0, '67'),\n",
       " Text(68, 0, '68'),\n",
       " Text(69, 0, '69'),\n",
       " Text(70, 0, '70'),\n",
       " Text(71, 0, '71'),\n",
       " Text(72, 0, '72'),\n",
       " Text(73, 0, '73'),\n",
       " Text(74, 0, '74'),\n",
       " Text(75, 0, '75'),\n",
       " Text(76, 0, '76'),\n",
       " Text(77, 0, '77'),\n",
       " Text(78, 0, '78'),\n",
       " Text(79, 0, '79')]"
      ]
     },
     "execution_count": 20,
     "metadata": {},
     "output_type": "execute_result"
    },
    {
     "data": {
      "text/plain": [
       "Text(0.5, 1.0, 'Visualizing people of different ages travelled from HomePlanet')"
      ]
     },
     "execution_count": 20,
     "metadata": {},
     "output_type": "execute_result"
    },
    {
     "data": {
      "image/png": "[encoded data removed]",
      "text/plain": [
       "<Figure size 2160x720 with 1 Axes>"
      ]
     },
     "metadata": {
      "needs_background": "light"
     },
     "output_type": "display_data"
    }
   ],
   "source": [
    "#Visualizing people of different ages travelled from HomePlanet\n",
    "import warnings\n",
    "plt.figure(figsize=(30,10))\n",
    "warnings.filterwarnings('ignore')\n",
    "Age_nomiss=df[~(df.Age.isna())]\n",
    "Age_nomiss['Age']=Age_nomiss.Age.astype('int')\n",
    "g=sbn.countplot(data=Age_nomiss, x='Age', hue='HomePlanet')\n",
    "g.set_xticklabels(g.get_xticklabels(), rotation=90)\n",
    "plt.title(\"Visualizing people of different ages travelled from HomePlanet\")\n",
    "plt.show()"
   ]
  },
  {
   "cell_type": "markdown",
   "id": "e6deca90",
   "metadata": {},
   "source": [
    "## 나이와 도착지"
   ]
  },
  {
   "cell_type": "code",
   "execution_count": 22,
   "id": "611d9d1d",
   "metadata": {},
   "outputs": [
    {
     "data": {
      "text/plain": [
       "<Figure size 2160x720 with 0 Axes>"
      ]
     },
     "execution_count": 22,
     "metadata": {},
     "output_type": "execute_result"
    },
    {
     "data": {
      "text/plain": [
       "[Text(0, 0, '0'),\n",
       " Text(1, 0, '1'),\n",
       " Text(2, 0, '2'),\n",
       " Text(3, 0, '3'),\n",
       " Text(4, 0, '4'),\n",
       " Text(5, 0, '5'),\n",
       " Text(6, 0, '6'),\n",
       " Text(7, 0, '7'),\n",
       " Text(8, 0, '8'),\n",
       " Text(9, 0, '9'),\n",
       " Text(10, 0, '10'),\n",
       " Text(11, 0, '11'),\n",
       " Text(12, 0, '12'),\n",
       " Text(13, 0, '13'),\n",
       " Text(14, 0, '14'),\n",
       " Text(15, 0, '15'),\n",
       " Text(16, 0, '16'),\n",
       " Text(17, 0, '17'),\n",
       " Text(18, 0, '18'),\n",
       " Text(19, 0, '19'),\n",
       " Text(20, 0, '20'),\n",
       " Text(21, 0, '21'),\n",
       " Text(22, 0, '22'),\n",
       " Text(23, 0, '23'),\n",
       " Text(24, 0, '24'),\n",
       " Text(25, 0, '25'),\n",
       " Text(26, 0, '26'),\n",
       " Text(27, 0, '27'),\n",
       " Text(28, 0, '28'),\n",
       " Text(29, 0, '29'),\n",
       " Text(30, 0, '30'),\n",
       " Text(31, 0, '31'),\n",
       " Text(32, 0, '32'),\n",
       " Text(33, 0, '33'),\n",
       " Text(34, 0, '34'),\n",
       " Text(35, 0, '35'),\n",
       " Text(36, 0, '36'),\n",
       " Text(37, 0, '37'),\n",
       " Text(38, 0, '38'),\n",
       " Text(39, 0, '39'),\n",
       " Text(40, 0, '40'),\n",
       " Text(41, 0, '41'),\n",
       " Text(42, 0, '42'),\n",
       " Text(43, 0, '43'),\n",
       " Text(44, 0, '44'),\n",
       " Text(45, 0, '45'),\n",
       " Text(46, 0, '46'),\n",
       " Text(47, 0, '47'),\n",
       " Text(48, 0, '48'),\n",
       " Text(49, 0, '49'),\n",
       " Text(50, 0, '50'),\n",
       " Text(51, 0, '51'),\n",
       " Text(52, 0, '52'),\n",
       " Text(53, 0, '53'),\n",
       " Text(54, 0, '54'),\n",
       " Text(55, 0, '55'),\n",
       " Text(56, 0, '56'),\n",
       " Text(57, 0, '57'),\n",
       " Text(58, 0, '58'),\n",
       " Text(59, 0, '59'),\n",
       " Text(60, 0, '60'),\n",
       " Text(61, 0, '61'),\n",
       " Text(62, 0, '62'),\n",
       " Text(63, 0, '63'),\n",
       " Text(64, 0, '64'),\n",
       " Text(65, 0, '65'),\n",
       " Text(66, 0, '66'),\n",
       " Text(67, 0, '67'),\n",
       " Text(68, 0, '68'),\n",
       " Text(69, 0, '69'),\n",
       " Text(70, 0, '70'),\n",
       " Text(71, 0, '71'),\n",
       " Text(72, 0, '72'),\n",
       " Text(73, 0, '73'),\n",
       " Text(74, 0, '74'),\n",
       " Text(75, 0, '75'),\n",
       " Text(76, 0, '76'),\n",
       " Text(77, 0, '77'),\n",
       " Text(78, 0, '78'),\n",
       " Text(79, 0, '79')]"
      ]
     },
     "execution_count": 22,
     "metadata": {},
     "output_type": "execute_result"
    },
    {
     "data": {
      "text/plain": [
       "Text(0.5, 1.0, 'Visualizing people of different ages travelled to Destination')"
      ]
     },
     "execution_count": 22,
     "metadata": {},
     "output_type": "execute_result"
    },
    {
     "data": {
      "image/png": "[encoded data removed]",
      "text/plain": [
       "<Figure size 2160x720 with 1 Axes>"
      ]
     },
     "metadata": {
      "needs_background": "light"
     },
     "output_type": "display_data"
    }
   ],
   "source": [
    "#Visualizing people of different ages travelled to Destination\n",
    "plt.figure(figsize=(30,10))\n",
    "warnings.filterwarnings('ignore')\n",
    "Age_nomiss=df[~(df.Age.isna())]\n",
    "Age_nomiss['Age']=Age_nomiss.Age.astype('int')\n",
    "g=sbn.countplot(data=Age_nomiss, x='Age', hue='Destination')\n",
    "g.set_xticklabels(g.get_xticklabels(), rotation=90)\n",
    "plt.title(\"Visualizing people of different ages travelled to Destination\")\n",
    "plt.show()"
   ]
  },
  {
   "cell_type": "code",
   "execution_count": null,
   "id": "5c342bd0",
   "metadata": {},
   "outputs": [],
   "source": []
  }
 ],
 "metadata": {
  "kernelspec": {
   "display_name": "Python 3 (ipykernel)",
   "language": "python",
   "name": "python3"
  },
  "language_info": {
   "codemirror_mode": {
    "name": "ipython",
    "version": 3
   },
   "file_extension": ".py",
   "mimetype": "text/x-python",
   "name": "python",
   "nbconvert_exporter": "python",
   "pygments_lexer": "ipython3",
   "version": "3.9.12"
  }
 },
 "nbformat": 4,
 "nbformat_minor": 5
}

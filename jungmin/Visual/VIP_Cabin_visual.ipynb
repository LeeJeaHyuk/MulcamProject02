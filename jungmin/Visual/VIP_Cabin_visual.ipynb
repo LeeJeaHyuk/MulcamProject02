{
 "cells": [
  {
   "cell_type": "code",
   "execution_count": 2,
   "id": "78198596",
   "metadata": {},
   "outputs": [],
   "source": [
    "from IPython.core.interactiveshell import InteractiveShell\n",
    "InteractiveShell.ast_node_interactivity=\"all\""
   ]
  },
  {
   "cell_type": "code",
   "execution_count": 3,
   "id": "68779e41",
   "metadata": {},
   "outputs": [],
   "source": [
    "#Importing Libraries\n",
    "import pandas as pd\n",
    "import matplotlib.pyplot as plt\n",
    "import seaborn as sbn\n",
    "import numpy as np\n",
    "import warnings\n",
    "from sklearn.impute import KNNImputer\n",
    "from sklearn.preprocessing import LabelEncoder, MinMaxScaler\n",
    "from sklearn.tree import DecisionTreeClassifier\n",
    "from sklearn.ensemble import RandomForestClassifier, BaggingClassifier, VotingClassifier, GradientBoostingClassifier, StackingClassifier\n",
    "from sklearn.metrics import accuracy_score\n",
    "from sklearn.model_selection import cross_val_score, GridSearchCV, KFold\n",
    "from xgboost import XGBClassifier\n",
    "from sklearn.neighbors import KNeighborsClassifier\n",
    "from sklearn.ensemble import AdaBoostClassifier\n",
    "from sklearn.feature_selection import RFECV\n",
    "import seaborn as sns\n",
    "plt.style.use('seaborn-bright')\n",
    "\n",
    "df = pd.read_csv('C:/ds_work/source_code/Project_DS/data/train_update.csv')"
   ]
  },
  {
   "cell_type": "code",
   "execution_count": 4,
   "id": "d96b2cc5",
   "metadata": {},
   "outputs": [],
   "source": [
    "df_CabinA = df[df['Cabin_A']==1]\n",
    "#df_CabinA\n",
    "\n",
    "df_CabinB = df[df['Cabin_B']==1]\n",
    "#df_CabinB\n",
    "\n",
    "df_CabinC = df[df['Cabin_C']==1]\n",
    "#df_CabinC\n",
    "\n",
    "df_CabinD = df[df['Cabin_D']==1]\n",
    "#df_CabinD\n",
    "\n",
    "df_CabinE = df[df['Cabin_E']==1]\n",
    "#df_CabinE\n",
    "\n",
    "df_CabinF = df[df['Cabin_F']==1]\n",
    "#df_CabinF\n",
    "\n",
    "df_CabinG = df[df['Cabin_G']==1]\n",
    "#df_CabinG\n",
    "\n",
    "df_CabinT = df[df['Cabin_T']==1]\n",
    "#df_CabinT"
   ]
  },
  {
   "cell_type": "markdown",
   "id": "47f3ed54",
   "metadata": {},
   "source": [
    "## Cabin_A의 VIP : 221명(86.33%) / 35명(13.67%)\n",
    "## Cabin_B의 VIP : 42명(5.39%) / 737명(94.61%)\n",
    "## Cabin_C의 VIP : 41명(5.49%) / 706명(94.51%)\n",
    "## Cabin_D의 VIP : 31명(6.49%) / 447명(93.51%)\n",
    "## Cabin_E의 VIP : 15명(1.71%) / 861명(98.29%)\n",
    "## Cabin_F의 VIP : 29명(1.04%) / 2765명(98.96%)\n",
    "## Cabin_G의 VIP : 0명(0%) / 2559명(100%)\n",
    "## Cabin_T의 VIP : 0명(0%) / 5명(100%)"
   ]
  },
  {
   "cell_type": "code",
   "execution_count": 11,
   "id": "9b3b10da",
   "metadata": {},
   "outputs": [
    {
     "data": {
      "text/plain": [
       "<Figure size 936x288 with 0 Axes>"
      ]
     },
     "execution_count": 11,
     "metadata": {},
     "output_type": "execute_result"
    },
    {
     "data": {
      "text/plain": [
       "<AxesSubplot:>"
      ]
     },
     "execution_count": 11,
     "metadata": {},
     "output_type": "execute_result"
    },
    {
     "data": {
      "text/plain": [
       "<AxesSubplot:ylabel='VIP'>"
      ]
     },
     "execution_count": 11,
     "metadata": {},
     "output_type": "execute_result"
    },
    {
     "data": {
      "text/plain": [
       "Text(0.5, 1.0, 'Cabin_A of VIP in counts')"
      ]
     },
     "execution_count": 11,
     "metadata": {},
     "output_type": "execute_result"
    },
    {
     "data": {
      "text/plain": [
       "Text(1.0, 221, '221')"
      ]
     },
     "execution_count": 11,
     "metadata": {},
     "output_type": "execute_result"
    },
    {
     "data": {
      "text/plain": [
       "Text(0.0, 35, '35')"
      ]
     },
     "execution_count": 11,
     "metadata": {},
     "output_type": "execute_result"
    },
    {
     "data": {
      "text/plain": [
       "<AxesSubplot:>"
      ]
     },
     "execution_count": 11,
     "metadata": {},
     "output_type": "execute_result"
    },
    {
     "data": {
      "text/plain": [
       "([<matplotlib.patches.Wedge at 0x20f9b16a070>,\n",
       "  <matplotlib.patches.Wedge at 0x20f9b16a880>],\n",
       " [Text(-1.0000847813995748, 0.4580725161074009, '1.0'),\n",
       "  Text(1.0000847813995748, -0.458072516107401, '0.0')],\n",
       " [Text(-0.5455007898543134, 0.24985773605858227, '86.33%'),\n",
       "  Text(0.5455007898543134, -0.24985773605858236, '13.67%')])"
      ]
     },
     "execution_count": 11,
     "metadata": {},
     "output_type": "execute_result"
    },
    {
     "data": {
      "text/plain": [
       "Text(0.5, 1.0, 'Cabin_A of VIP in %')"
      ]
     },
     "execution_count": 11,
     "metadata": {},
     "output_type": "execute_result"
    },
    {
     "data": {
      "image/png": "[encoded data removed]",
      "text/plain": [
       "<Figure size 936x288 with 2 Axes>"
      ]
     },
     "metadata": {
      "needs_background": "light"
     },
     "output_type": "display_data"
    }
   ],
   "source": [
    "#### Cabin A\n",
    "plt.figure(figsize=(13,4))\n",
    "plt.subplot(121)\n",
    "sbn.barplot(x=df_CabinA.VIP.unique(), y=df_CabinA.VIP.value_counts())\n",
    "plt.title(\"Cabin_A of VIP in counts\")\n",
    "for i, j in zip(df_CabinA.VIP.unique(), df_CabinA.VIP.value_counts()):\n",
    "    plt.annotate(str(j), xytext=(i, j), xy=(i, j))\n",
    "plt.subplot(122)\n",
    "plt.pie(df_CabinA.VIP.value_counts(), labels=df_CabinA.VIP.unique(), autopct='%.2f%%')\n",
    "plt.title(\"Cabin_A of VIP in %\")\n",
    "plt.show()"
   ]
  },
  {
   "cell_type": "code",
   "execution_count": 13,
   "id": "d95dd19f",
   "metadata": {},
   "outputs": [
    {
     "data": {
      "text/plain": [
       "<Figure size 936x288 with 0 Axes>"
      ]
     },
     "execution_count": 13,
     "metadata": {},
     "output_type": "execute_result"
    },
    {
     "data": {
      "text/plain": [
       "<AxesSubplot:>"
      ]
     },
     "execution_count": 13,
     "metadata": {},
     "output_type": "execute_result"
    },
    {
     "data": {
      "text/plain": [
       "<AxesSubplot:ylabel='VIP'>"
      ]
     },
     "execution_count": 13,
     "metadata": {},
     "output_type": "execute_result"
    },
    {
     "data": {
      "text/plain": [
       "Text(0.5, 1.0, 'Cabin_B of VIP in counts')"
      ]
     },
     "execution_count": 13,
     "metadata": {},
     "output_type": "execute_result"
    },
    {
     "data": {
      "text/plain": [
       "Text(0.0, 737, '737')"
      ]
     },
     "execution_count": 13,
     "metadata": {},
     "output_type": "execute_result"
    },
    {
     "data": {
      "text/plain": [
       "Text(1.0, 42, '42')"
      ]
     },
     "execution_count": 13,
     "metadata": {},
     "output_type": "execute_result"
    },
    {
     "data": {
      "text/plain": [
       "<AxesSubplot:>"
      ]
     },
     "execution_count": 13,
     "metadata": {},
     "output_type": "execute_result"
    },
    {
     "data": {
      "text/plain": [
       "([<matplotlib.patches.Wedge at 0x20f9b20f070>,\n",
       "  <matplotlib.patches.Wedge at 0x20f9b20f730>],\n",
       " [Text(-1.0842584562049915, 0.18542815360124962, '0.0'),\n",
       "  Text(1.0842584648855087, -0.18542810284344804, '1.0')],\n",
       " [Text(-0.5914137033845408, 0.10114262923704523, '94.61%'),\n",
       "  Text(0.5914137081193683, -0.10114260155097164, '5.39%')])"
      ]
     },
     "execution_count": 13,
     "metadata": {},
     "output_type": "execute_result"
    },
    {
     "data": {
      "text/plain": [
       "Text(0.5, 1.0, 'Cabin_B of VIP in %')"
      ]
     },
     "execution_count": 13,
     "metadata": {},
     "output_type": "execute_result"
    },
    {
     "data": {
      "image/png": "[encoded data removed]",
      "text/plain": [
       "<Figure size 936x288 with 2 Axes>"
      ]
     },
     "metadata": {
      "needs_background": "light"
     },
     "output_type": "display_data"
    }
   ],
   "source": [
    "#### Cabin B\n",
    "plt.figure(figsize=(13,4))\n",
    "plt.subplot(121)\n",
    "sbn.barplot(x=df_CabinB.VIP.unique(), y=df_CabinB.VIP.value_counts())\n",
    "plt.title(\"Cabin_B of VIP in counts\")\n",
    "for i, j in zip(df_CabinB.VIP.unique(), df_CabinB.VIP.value_counts()):\n",
    "    plt.annotate(str(j), xytext=(i, j), xy=(i, j))\n",
    "plt.subplot(122)\n",
    "plt.pie(df_CabinB.VIP.value_counts(), labels=df_CabinB.VIP.unique(), autopct='%.2f%%')\n",
    "plt.title(\"Cabin_B of VIP in %\")\n",
    "plt.show()"
   ]
  },
  {
   "cell_type": "code",
   "execution_count": 14,
   "id": "2311bec6",
   "metadata": {},
   "outputs": [
    {
     "data": {
      "text/plain": [
       "<Figure size 936x288 with 0 Axes>"
      ]
     },
     "execution_count": 14,
     "metadata": {},
     "output_type": "execute_result"
    },
    {
     "data": {
      "text/plain": [
       "<AxesSubplot:>"
      ]
     },
     "execution_count": 14,
     "metadata": {},
     "output_type": "execute_result"
    },
    {
     "data": {
      "text/plain": [
       "<AxesSubplot:ylabel='VIP'>"
      ]
     },
     "execution_count": 14,
     "metadata": {},
     "output_type": "execute_result"
    },
    {
     "data": {
      "text/plain": [
       "Text(0.5, 1.0, 'Cabin_C of VIP in counts')"
      ]
     },
     "execution_count": 14,
     "metadata": {},
     "output_type": "execute_result"
    },
    {
     "data": {
      "text/plain": [
       "Text(0.0, 706, '706')"
      ]
     },
     "execution_count": 14,
     "metadata": {},
     "output_type": "execute_result"
    },
    {
     "data": {
      "text/plain": [
       "Text(1.0, 41, '41')"
      ]
     },
     "execution_count": 14,
     "metadata": {},
     "output_type": "execute_result"
    },
    {
     "data": {
      "text/plain": [
       "<AxesSubplot:>"
      ]
     },
     "execution_count": 14,
     "metadata": {},
     "output_type": "execute_result"
    },
    {
     "data": {
      "text/plain": [
       "([<matplotlib.patches.Wedge at 0x20f9b308760>,\n",
       "  <matplotlib.patches.Wedge at 0x20f9b308460>],\n",
       " [Text(-1.0836877901637547, 0.1887346641451913, '0.0'),\n",
       "  Text(1.0836877835372734, -0.1887347021935069, '1.0')],\n",
       " [Text(-0.5911024309984116, 0.1029461804428316, '94.51%'),\n",
       "  Text(0.5911024273839672, -0.1029462011964583, '5.49%')])"
      ]
     },
     "execution_count": 14,
     "metadata": {},
     "output_type": "execute_result"
    },
    {
     "data": {
      "text/plain": [
       "Text(0.5, 1.0, 'Cabin_C of VIP in %')"
      ]
     },
     "execution_count": 14,
     "metadata": {},
     "output_type": "execute_result"
    },
    {
     "data": {
      "image/png": "[encoded data removed]",
      "text/plain": [
       "<Figure size 936x288 with 2 Axes>"
      ]
     },
     "metadata": {
      "needs_background": "light"
     },
     "output_type": "display_data"
    }
   ],
   "source": [
    "#### Cabin C\n",
    "plt.figure(figsize=(13,4))\n",
    "plt.subplot(121)\n",
    "sbn.barplot(x=df_CabinC.VIP.unique(), y=df_CabinC.VIP.value_counts())\n",
    "plt.title(\"Cabin_C of VIP in counts\")\n",
    "for i, j in zip(df_CabinC.VIP.unique(), df_CabinC.VIP.value_counts()):\n",
    "    plt.annotate(str(j), xytext=(i, j), xy=(i, j))\n",
    "plt.subplot(122)\n",
    "plt.pie(df_CabinC.VIP.value_counts(), labels=df_CabinC.VIP.unique(), autopct='%.2f%%')\n",
    "plt.title(\"Cabin_C of VIP in %\")\n",
    "plt.show()"
   ]
  },
  {
   "cell_type": "code",
   "execution_count": 19,
   "id": "329d368d",
   "metadata": {},
   "outputs": [
    {
     "data": {
      "text/plain": [
       "<Figure size 936x288 with 0 Axes>"
      ]
     },
     "execution_count": 19,
     "metadata": {},
     "output_type": "execute_result"
    },
    {
     "data": {
      "text/plain": [
       "<AxesSubplot:>"
      ]
     },
     "execution_count": 19,
     "metadata": {},
     "output_type": "execute_result"
    },
    {
     "data": {
      "text/plain": [
       "<AxesSubplot:ylabel='VIP'>"
      ]
     },
     "execution_count": 19,
     "metadata": {},
     "output_type": "execute_result"
    },
    {
     "data": {
      "text/plain": [
       "Text(0.5, 1.0, 'Cabin_D of VIP in counts')"
      ]
     },
     "execution_count": 19,
     "metadata": {},
     "output_type": "execute_result"
    },
    {
     "data": {
      "text/plain": [
       "Text(0.0, 447, '447')"
      ]
     },
     "execution_count": 19,
     "metadata": {},
     "output_type": "execute_result"
    },
    {
     "data": {
      "text/plain": [
       "Text(1.0, 31, '31')"
      ]
     },
     "execution_count": 19,
     "metadata": {},
     "output_type": "execute_result"
    },
    {
     "data": {
      "text/plain": [
       "<AxesSubplot:>"
      ]
     },
     "execution_count": 19,
     "metadata": {},
     "output_type": "execute_result"
    },
    {
     "data": {
      "text/plain": [
       "([<matplotlib.patches.Wedge at 0x20f9b557190>,\n",
       "  <matplotlib.patches.Wedge at 0x20f9b563940>],\n",
       " [Text(-1.0772476079819266, 0.22257041828872304, '0.0'),\n",
       "  Text(1.0772476131915631, -0.22257039307392285, '1.0')],\n",
       " [Text(-0.5875896043537782, 0.12140204633930346, '93.51%'),\n",
       "  Text(0.587589607195398, -0.12140203258577609, '6.49%')])"
      ]
     },
     "execution_count": 19,
     "metadata": {},
     "output_type": "execute_result"
    },
    {
     "data": {
      "text/plain": [
       "Text(0.5, 1.0, 'Cabin_D of VIP in %')"
      ]
     },
     "execution_count": 19,
     "metadata": {},
     "output_type": "execute_result"
    },
    {
     "data": {
      "image/png": "[encoded data removed]",
      "text/plain": [
       "<Figure size 936x288 with 2 Axes>"
      ]
     },
     "metadata": {
      "needs_background": "light"
     },
     "output_type": "display_data"
    }
   ],
   "source": [
    "#### Cabin D\n",
    "plt.figure(figsize=(13,4))\n",
    "plt.subplot(121)\n",
    "sbn.barplot(x=df_CabinD.VIP.unique(), y=df_CabinD.VIP.value_counts())\n",
    "plt.title(\"Cabin_D of VIP in counts\")\n",
    "for i, j in zip(df_CabinD.VIP.unique(), df_CabinD.VIP.value_counts()):\n",
    "    plt.annotate(str(j), xytext=(i, j), xy=(i, j))\n",
    "plt.subplot(122)\n",
    "plt.pie(df_CabinD.VIP.value_counts(), labels=df_CabinD.VIP.unique(), autopct='%.2f%%')\n",
    "plt.title(\"Cabin_D of VIP in %\")\n",
    "plt.show()"
   ]
  },
  {
   "cell_type": "code",
   "execution_count": 20,
   "id": "55d3cc60",
   "metadata": {},
   "outputs": [
    {
     "data": {
      "text/plain": [
       "<Figure size 936x288 with 0 Axes>"
      ]
     },
     "execution_count": 20,
     "metadata": {},
     "output_type": "execute_result"
    },
    {
     "data": {
      "text/plain": [
       "<AxesSubplot:>"
      ]
     },
     "execution_count": 20,
     "metadata": {},
     "output_type": "execute_result"
    },
    {
     "data": {
      "text/plain": [
       "<AxesSubplot:ylabel='VIP'>"
      ]
     },
     "execution_count": 20,
     "metadata": {},
     "output_type": "execute_result"
    },
    {
     "data": {
      "text/plain": [
       "Text(0.5, 1.0, 'Cabin_E of VIP in counts')"
      ]
     },
     "execution_count": 20,
     "metadata": {},
     "output_type": "execute_result"
    },
    {
     "data": {
      "text/plain": [
       "Text(0.0, 861, '861')"
      ]
     },
     "execution_count": 20,
     "metadata": {},
     "output_type": "execute_result"
    },
    {
     "data": {
      "text/plain": [
       "Text(1.0, 15, '15')"
      ]
     },
     "execution_count": 20,
     "metadata": {},
     "output_type": "execute_result"
    },
    {
     "data": {
      "text/plain": [
       "<AxesSubplot:>"
      ]
     },
     "execution_count": 20,
     "metadata": {},
     "output_type": "execute_result"
    },
    {
     "data": {
      "text/plain": [
       "([<matplotlib.patches.Wedge at 0x20f9b64f730>,\n",
       "  <matplotlib.patches.Wedge at 0x20f9b64fd90>],\n",
       " [Text(-1.098408774547921, 0.059145278730720494, '0.0'),\n",
       "  Text(1.0984087755862173, -0.05914525944813542, '1.0')],\n",
       " [Text(-0.5991320588443205, 0.032261061125847534, '98.29%'),\n",
       "  Text(0.5991320594106638, -0.03226105060807386, '1.71%')])"
      ]
     },
     "execution_count": 20,
     "metadata": {},
     "output_type": "execute_result"
    },
    {
     "data": {
      "text/plain": [
       "Text(0.5, 1.0, 'Cabin_E of VIP in %')"
      ]
     },
     "execution_count": 20,
     "metadata": {},
     "output_type": "execute_result"
    },
    {
     "data": {
      "image/png": "[encoded data removed]",
      "text/plain": [
       "<Figure size 936x288 with 2 Axes>"
      ]
     },
     "metadata": {
      "needs_background": "light"
     },
     "output_type": "display_data"
    }
   ],
   "source": [
    "#### Cabin E\n",
    "plt.figure(figsize=(13,4))\n",
    "plt.subplot(121)\n",
    "sbn.barplot(x=df_CabinE.VIP.unique(), y=df_CabinE.VIP.value_counts())\n",
    "plt.title(\"Cabin_E of VIP in counts\")\n",
    "for i, j in zip(df_CabinE.VIP.unique(), df_CabinE.VIP.value_counts()):\n",
    "    plt.annotate(str(j), xytext=(i, j), xy=(i, j))\n",
    "plt.subplot(122)\n",
    "plt.pie(df_CabinE.VIP.value_counts(), labels=df_CabinE.VIP.unique(), autopct='%.2f%%')\n",
    "plt.title(\"Cabin_E of VIP in %\")\n",
    "plt.show()"
   ]
  },
  {
   "cell_type": "code",
   "execution_count": 21,
   "id": "05d2f00a",
   "metadata": {},
   "outputs": [
    {
     "data": {
      "text/plain": [
       "<Figure size 936x288 with 0 Axes>"
      ]
     },
     "execution_count": 21,
     "metadata": {},
     "output_type": "execute_result"
    },
    {
     "data": {
      "text/plain": [
       "<AxesSubplot:>"
      ]
     },
     "execution_count": 21,
     "metadata": {},
     "output_type": "execute_result"
    },
    {
     "data": {
      "text/plain": [
       "<AxesSubplot:ylabel='VIP'>"
      ]
     },
     "execution_count": 21,
     "metadata": {},
     "output_type": "execute_result"
    },
    {
     "data": {
      "text/plain": [
       "Text(0.5, 1.0, 'Cabin_F of VIP in counts')"
      ]
     },
     "execution_count": 21,
     "metadata": {},
     "output_type": "execute_result"
    },
    {
     "data": {
      "text/plain": [
       "Text(0.0, 2765, '2765')"
      ]
     },
     "execution_count": 21,
     "metadata": {},
     "output_type": "execute_result"
    },
    {
     "data": {
      "text/plain": [
       "Text(1.0, 29, '29')"
      ]
     },
     "execution_count": 21,
     "metadata": {},
     "output_type": "execute_result"
    },
    {
     "data": {
      "text/plain": [
       "<AxesSubplot:>"
      ]
     },
     "execution_count": 21,
     "metadata": {},
     "output_type": "execute_result"
    },
    {
     "data": {
      "text/plain": [
       "([<matplotlib.patches.Wedge at 0x20f9b6ea970>,\n",
       "  <matplotlib.patches.Wedge at 0x20f9b6fb370>],\n",
       " [Text(-1.0994152553213858, 0.03586218574783464, '0.0'),\n",
       "  Text(1.099415256475581, -0.03586215036403652, '1.0')],\n",
       " [Text(-0.5996810483571194, 0.01956119222609162, '98.96%'),\n",
       "  Text(0.5996810489866805, -0.0195611729258381, '1.04%')])"
      ]
     },
     "execution_count": 21,
     "metadata": {},
     "output_type": "execute_result"
    },
    {
     "data": {
      "text/plain": [
       "Text(0.5, 1.0, 'Cabin_F of VIP in %')"
      ]
     },
     "execution_count": 21,
     "metadata": {},
     "output_type": "execute_result"
    },
    {
     "data": {
      "image/png": "[encoded data removed]",
      "text/plain": [
       "<Figure size 936x288 with 2 Axes>"
      ]
     },
     "metadata": {
      "needs_background": "light"
     },
     "output_type": "display_data"
    }
   ],
   "source": [
    "#### Cabin F\n",
    "plt.figure(figsize=(13,4))\n",
    "plt.subplot(121)\n",
    "sbn.barplot(x=df_CabinF.VIP.unique(), y=df_CabinF.VIP.value_counts())\n",
    "plt.title(\"Cabin_F of VIP in counts\")\n",
    "for i, j in zip(df_CabinF.VIP.unique(), df_CabinF.VIP.value_counts()):\n",
    "    plt.annotate(str(j), xytext=(i, j), xy=(i, j))\n",
    "plt.subplot(122)\n",
    "plt.pie(df_CabinF.VIP.value_counts(), labels=df_CabinF.VIP.unique(), autopct='%.2f%%')\n",
    "plt.title(\"Cabin_F of VIP in %\")\n",
    "plt.show()"
   ]
  },
  {
   "cell_type": "code",
   "execution_count": 22,
   "id": "eb913908",
   "metadata": {},
   "outputs": [
    {
     "data": {
      "text/plain": [
       "<Figure size 936x288 with 0 Axes>"
      ]
     },
     "execution_count": 22,
     "metadata": {},
     "output_type": "execute_result"
    },
    {
     "data": {
      "text/plain": [
       "<AxesSubplot:>"
      ]
     },
     "execution_count": 22,
     "metadata": {},
     "output_type": "execute_result"
    },
    {
     "data": {
      "text/plain": [
       "<AxesSubplot:ylabel='VIP'>"
      ]
     },
     "execution_count": 22,
     "metadata": {},
     "output_type": "execute_result"
    },
    {
     "data": {
      "text/plain": [
       "Text(0.5, 1.0, 'Cabin_G of VIP in counts')"
      ]
     },
     "execution_count": 22,
     "metadata": {},
     "output_type": "execute_result"
    },
    {
     "data": {
      "text/plain": [
       "Text(0.0, 2559, '2559')"
      ]
     },
     "execution_count": 22,
     "metadata": {},
     "output_type": "execute_result"
    },
    {
     "data": {
      "text/plain": [
       "<AxesSubplot:>"
      ]
     },
     "execution_count": 22,
     "metadata": {},
     "output_type": "execute_result"
    },
    {
     "data": {
      "text/plain": [
       "([<matplotlib.patches.Wedge at 0x20f9b787dc0>],\n",
       " [Text(-1.1, 1.3471114790620887e-16, '0.0')],\n",
       " [Text(-0.6, 7.347880794884119e-17, '100.00%')])"
      ]
     },
     "execution_count": 22,
     "metadata": {},
     "output_type": "execute_result"
    },
    {
     "data": {
      "text/plain": [
       "Text(0.5, 1.0, 'Cabin_G of VIP in %')"
      ]
     },
     "execution_count": 22,
     "metadata": {},
     "output_type": "execute_result"
    },
    {
     "data": {
      "image/png": "[encoded data removed]",
      "text/plain": [
       "<Figure size 936x288 with 2 Axes>"
      ]
     },
     "metadata": {
      "needs_background": "light"
     },
     "output_type": "display_data"
    }
   ],
   "source": [
    "#### Cabin G\n",
    "plt.figure(figsize=(13,4))\n",
    "plt.subplot(121)\n",
    "sbn.barplot(x=df_CabinG.VIP.unique(), y=df_CabinG.VIP.value_counts())\n",
    "plt.title(\"Cabin_G of VIP in counts\")\n",
    "for i, j in zip(df_CabinG.VIP.unique(), df_CabinG.VIP.value_counts()):\n",
    "    plt.annotate(str(j), xytext=(i, j), xy=(i, j))\n",
    "plt.subplot(122)\n",
    "plt.pie(df_CabinG.VIP.value_counts(), labels=df_CabinG.VIP.unique(), autopct='%.2f%%')\n",
    "plt.title(\"Cabin_G of VIP in %\")\n",
    "plt.show()"
   ]
  },
  {
   "cell_type": "code",
   "execution_count": 23,
   "id": "0fff2031",
   "metadata": {},
   "outputs": [
    {
     "data": {
      "text/plain": [
       "<Figure size 936x288 with 0 Axes>"
      ]
     },
     "execution_count": 23,
     "metadata": {},
     "output_type": "execute_result"
    },
    {
     "data": {
      "text/plain": [
       "<AxesSubplot:>"
      ]
     },
     "execution_count": 23,
     "metadata": {},
     "output_type": "execute_result"
    },
    {
     "data": {
      "text/plain": [
       "<AxesSubplot:ylabel='VIP'>"
      ]
     },
     "execution_count": 23,
     "metadata": {},
     "output_type": "execute_result"
    },
    {
     "data": {
      "text/plain": [
       "Text(0.5, 1.0, 'Cabin_T of VIP in counts')"
      ]
     },
     "execution_count": 23,
     "metadata": {},
     "output_type": "execute_result"
    },
    {
     "data": {
      "text/plain": [
       "Text(0.0, 5, '5')"
      ]
     },
     "execution_count": 23,
     "metadata": {},
     "output_type": "execute_result"
    },
    {
     "data": {
      "text/plain": [
       "<AxesSubplot:>"
      ]
     },
     "execution_count": 23,
     "metadata": {},
     "output_type": "execute_result"
    },
    {
     "data": {
      "text/plain": [
       "([<matplotlib.patches.Wedge at 0x20f9b7c53a0>],\n",
       " [Text(-1.1, 1.3471114790620887e-16, '0.0')],\n",
       " [Text(-0.6, 7.347880794884119e-17, '100.00%')])"
      ]
     },
     "execution_count": 23,
     "metadata": {},
     "output_type": "execute_result"
    },
    {
     "data": {
      "text/plain": [
       "Text(0.5, 1.0, 'Cabin_T of VIP in %')"
      ]
     },
     "execution_count": 23,
     "metadata": {},
     "output_type": "execute_result"
    },
    {
     "data": {
      "image/png": "[encoded data removed]",
      "text/plain": [
       "<Figure size 936x288 with 2 Axes>"
      ]
     },
     "metadata": {
      "needs_background": "light"
     },
     "output_type": "display_data"
    }
   ],
   "source": [
    "#### Cabin T\n",
    "plt.figure(figsize=(13,4))\n",
    "plt.subplot(121)\n",
    "sbn.barplot(x=df_CabinT.VIP.unique(), y=df_CabinT.VIP.value_counts())\n",
    "plt.title(\"Cabin_T of VIP in counts\")\n",
    "for i, j in zip(df_CabinT.VIP.unique(), df_CabinT.VIP.value_counts()):\n",
    "    plt.annotate(str(j), xytext=(i, j), xy=(i, j))\n",
    "plt.subplot(122)\n",
    "plt.pie(df_CabinT.VIP.value_counts(), labels=df_CabinT.VIP.unique(), autopct='%.2f%%')\n",
    "plt.title(\"Cabin_T of VIP in %\")\n",
    "plt.show()"
   ]
  },
  {
   "cell_type": "markdown",
   "id": "668abdb9",
   "metadata": {},
   "source": [
    "## Cabin_A의 생존률 : 127명(49.61%) / 129명(50.39%)\n",
    "## Cabin_B의 생존률 : 207명(26.57%) / 572명(73.43%)\n",
    "## Cabin_C의 생존률 : 239명(31.99%) / 508명(68.01%)\n",
    "## Cabin_D의 생존률 : 207명(43.31%) / 271명(56.69%)\n",
    "## Cabin_E의 생존률 : 313명(35.73%) / 563명(64.27%)\n",
    "## Cabin_F의 생존률 : 1565명(56.01%) / 1229명(43.99%)\n",
    "## Cabin_G의 생존률 : 1238명(48.38%) / 1321명(51.62%)\n",
    "## Cabin_T의 생존률 : 1명(20%) / 4명(80%)"
   ]
  },
  {
   "cell_type": "code",
   "execution_count": 24,
   "id": "24552dfe",
   "metadata": {},
   "outputs": [
    {
     "data": {
      "text/plain": [
       "<Figure size 936x288 with 0 Axes>"
      ]
     },
     "execution_count": 24,
     "metadata": {},
     "output_type": "execute_result"
    },
    {
     "data": {
      "text/plain": [
       "<AxesSubplot:>"
      ]
     },
     "execution_count": 24,
     "metadata": {},
     "output_type": "execute_result"
    },
    {
     "data": {
      "text/plain": [
       "<AxesSubplot:ylabel='Transported'>"
      ]
     },
     "execution_count": 24,
     "metadata": {},
     "output_type": "execute_result"
    },
    {
     "data": {
      "text/plain": [
       "Text(0.5, 1.0, 'Transported Cabin_A in counts')"
      ]
     },
     "execution_count": 24,
     "metadata": {},
     "output_type": "execute_result"
    },
    {
     "data": {
      "text/plain": [
       "Text(0.0, 129, '129')"
      ]
     },
     "execution_count": 24,
     "metadata": {},
     "output_type": "execute_result"
    },
    {
     "data": {
      "text/plain": [
       "Text(1.0, 127, '127')"
      ]
     },
     "execution_count": 24,
     "metadata": {},
     "output_type": "execute_result"
    },
    {
     "data": {
      "text/plain": [
       "<AxesSubplot:>"
      ]
     },
     "execution_count": 24,
     "metadata": {},
     "output_type": "execute_result"
    },
    {
     "data": {
      "text/plain": [
       "([<matplotlib.patches.Wedge at 0x20f9b82c490>,\n",
       "  <matplotlib.patches.Wedge at 0x20f9b82cd60>],\n",
       " [Text(-0.013498692114291807, 1.099917172023059, '0.0'),\n",
       "  Text(0.013498692114292159, -1.099917172023059, '1.0')],\n",
       " [Text(-0.007362922971431893, 0.5999548211034866, '50.39%'),\n",
       "  Text(0.007362922971432086, -0.5999548211034866, '49.61%')])"
      ]
     },
     "execution_count": 24,
     "metadata": {},
     "output_type": "execute_result"
    },
    {
     "data": {
      "text/plain": [
       "Text(0.5, 1.0, 'Transported Cabin_A in %')"
      ]
     },
     "execution_count": 24,
     "metadata": {},
     "output_type": "execute_result"
    },
    {
     "data": {
      "image/png": "[encoded data removed]",
      "text/plain": [
       "<Figure size 936x288 with 2 Axes>"
      ]
     },
     "metadata": {
      "needs_background": "light"
     },
     "output_type": "display_data"
    }
   ],
   "source": [
    "### Cabin_A의 생존률 \n",
    "plt.figure(figsize=(13,4))\n",
    "plt.subplot(121)\n",
    "sbn.barplot(x=df_CabinA.Transported.unique(), y=df_CabinA.Transported.value_counts())\n",
    "plt.title(\"Transported Cabin_A in counts\")\n",
    "for i, j in zip(df_CabinA.Transported.unique(), df_CabinA.Transported.value_counts()):\n",
    "    plt.annotate(str(j), xytext=(i, j), xy=(i, j))\n",
    "plt.subplot(122)\n",
    "plt.pie(df_CabinA.Transported.value_counts(), labels=df_CabinA.Transported.unique(), autopct='%.2f%%')\n",
    "plt.title(\"Transported Cabin_A in %\")\n",
    "plt.show()"
   ]
  },
  {
   "cell_type": "code",
   "execution_count": 26,
   "id": "81469239",
   "metadata": {},
   "outputs": [
    {
     "data": {
      "text/plain": [
       "<Figure size 936x288 with 0 Axes>"
      ]
     },
     "execution_count": 26,
     "metadata": {},
     "output_type": "execute_result"
    },
    {
     "data": {
      "text/plain": [
       "<AxesSubplot:>"
      ]
     },
     "execution_count": 26,
     "metadata": {},
     "output_type": "execute_result"
    },
    {
     "data": {
      "text/plain": [
       "<AxesSubplot:ylabel='Transported'>"
      ]
     },
     "execution_count": 26,
     "metadata": {},
     "output_type": "execute_result"
    },
    {
     "data": {
      "text/plain": [
       "Text(0.5, 1.0, 'Transported Cabin_B in counts')"
      ]
     },
     "execution_count": 26,
     "metadata": {},
     "output_type": "execute_result"
    },
    {
     "data": {
      "text/plain": [
       "Text(0.0, 572, '572')"
      ]
     },
     "execution_count": 26,
     "metadata": {},
     "output_type": "execute_result"
    },
    {
     "data": {
      "text/plain": [
       "Text(1.0, 207, '207')"
      ]
     },
     "execution_count": 26,
     "metadata": {},
     "output_type": "execute_result"
    },
    {
     "data": {
      "text/plain": [
       "<AxesSubplot:>"
      ]
     },
     "execution_count": 26,
     "metadata": {},
     "output_type": "execute_result"
    },
    {
     "data": {
      "text/plain": [
       "([<matplotlib.patches.Wedge at 0x20f9c94b0a0>,\n",
       "  <matplotlib.patches.Wedge at 0x20f9c959880>],\n",
       " [Text(-0.7384579537339386, 0.8152790016718721, '0.0'),\n",
       "  Text(0.7384578774020066, -0.8152790708112916, '1.0')],\n",
       " [Text(-0.4027952474912392, 0.44469763727556655, '73.43%'),\n",
       "  Text(0.40279520585563994, -0.4446976749879772, '26.57%')])"
      ]
     },
     "execution_count": 26,
     "metadata": {},
     "output_type": "execute_result"
    },
    {
     "data": {
      "text/plain": [
       "Text(0.5, 1.0, 'Transported Cabin_B in %')"
      ]
     },
     "execution_count": 26,
     "metadata": {},
     "output_type": "execute_result"
    },
    {
     "data": {
      "image/png": "[encoded data removed]",
      "text/plain": [
       "<Figure size 936x288 with 2 Axes>"
      ]
     },
     "metadata": {
      "needs_background": "light"
     },
     "output_type": "display_data"
    }
   ],
   "source": [
    "### Cabin_B의 생존률\n",
    "plt.figure(figsize=(13,4))\n",
    "plt.subplot(121)\n",
    "sbn.barplot(x=df_CabinB.Transported.unique(), y=df_CabinB.Transported.value_counts())\n",
    "plt.title(\"Transported Cabin_B in counts\")\n",
    "for i, j in zip(df_CabinB.Transported.unique(), df_CabinB.Transported.value_counts()):\n",
    "    plt.annotate(str(j), xytext=(i, j), xy=(i, j))\n",
    "plt.subplot(122)\n",
    "plt.pie(df_CabinB.Transported.value_counts(), labels=df_CabinB.Transported.unique(), autopct='%.2f%%')\n",
    "plt.title(\"Transported Cabin_B in %\")\n",
    "plt.show()"
   ]
  },
  {
   "cell_type": "code",
   "execution_count": 27,
   "id": "da276eab",
   "metadata": {},
   "outputs": [
    {
     "data": {
      "text/plain": [
       "<Figure size 936x288 with 0 Axes>"
      ]
     },
     "execution_count": 27,
     "metadata": {},
     "output_type": "execute_result"
    },
    {
     "data": {
      "text/plain": [
       "<AxesSubplot:>"
      ]
     },
     "execution_count": 27,
     "metadata": {},
     "output_type": "execute_result"
    },
    {
     "data": {
      "text/plain": [
       "<AxesSubplot:ylabel='Transported'>"
      ]
     },
     "execution_count": 27,
     "metadata": {},
     "output_type": "execute_result"
    },
    {
     "data": {
      "text/plain": [
       "Text(0.5, 1.0, 'Transported Cabin_C in counts')"
      ]
     },
     "execution_count": 27,
     "metadata": {},
     "output_type": "execute_result"
    },
    {
     "data": {
      "text/plain": [
       "Text(0.0, 508, '508')"
      ]
     },
     "execution_count": 27,
     "metadata": {},
     "output_type": "execute_result"
    },
    {
     "data": {
      "text/plain": [
       "Text(1.0, 239, '239')"
      ]
     },
     "execution_count": 27,
     "metadata": {},
     "output_type": "execute_result"
    },
    {
     "data": {
      "text/plain": [
       "<AxesSubplot:>"
      ]
     },
     "execution_count": 27,
     "metadata": {},
     "output_type": "execute_result"
    },
    {
     "data": {
      "text/plain": [
       "([<matplotlib.patches.Wedge at 0x20f9c9ef0a0>,\n",
       "  <matplotlib.patches.Wedge at 0x20f9c9fc940>],\n",
       " [Text(-0.5895656615206233, 0.9286615803163981, '0.0'),\n",
       "  Text(0.5895655745730485, -0.9286616355155151, '1.0')],\n",
       " [Text(-0.32158126992034, 0.5065426801725808, '68.01%'),\n",
       "  Text(0.3215812224943901, -0.5065427102811899, '31.99%')])"
      ]
     },
     "execution_count": 27,
     "metadata": {},
     "output_type": "execute_result"
    },
    {
     "data": {
      "text/plain": [
       "Text(0.5, 1.0, 'Transported Cabin_C in %')"
      ]
     },
     "execution_count": 27,
     "metadata": {},
     "output_type": "execute_result"
    },
    {
     "data": {
      "image/png": "[encoded data removed]",
      "text/plain": [
       "<Figure size 936x288 with 2 Axes>"
      ]
     },
     "metadata": {
      "needs_background": "light"
     },
     "output_type": "display_data"
    }
   ],
   "source": [
    "#### Cabin_C의 생존률\n",
    "plt.figure(figsize=(13,4))\n",
    "plt.subplot(121)\n",
    "sbn.barplot(x=df_CabinC.Transported.unique(), y=df_CabinC.Transported.value_counts())\n",
    "plt.title(\"Transported Cabin_C in counts\")\n",
    "for i, j in zip(df_CabinC.Transported.unique(), df_CabinC.Transported.value_counts()):\n",
    "    plt.annotate(str(j), xytext=(i, j), xy=(i, j))\n",
    "plt.subplot(122)\n",
    "plt.pie(df_CabinC.Transported.value_counts(), labels=df_CabinC.Transported.unique(), autopct='%.2f%%')\n",
    "plt.title(\"Transported Cabin_C in %\")\n",
    "plt.show()"
   ]
  },
  {
   "cell_type": "code",
   "execution_count": 28,
   "id": "75391711",
   "metadata": {},
   "outputs": [
    {
     "data": {
      "text/plain": [
       "<Figure size 936x288 with 0 Axes>"
      ]
     },
     "execution_count": 28,
     "metadata": {},
     "output_type": "execute_result"
    },
    {
     "data": {
      "text/plain": [
       "<AxesSubplot:>"
      ]
     },
     "execution_count": 28,
     "metadata": {},
     "output_type": "execute_result"
    },
    {
     "data": {
      "text/plain": [
       "<AxesSubplot:ylabel='Transported'>"
      ]
     },
     "execution_count": 28,
     "metadata": {},
     "output_type": "execute_result"
    },
    {
     "data": {
      "text/plain": [
       "Text(0.5, 1.0, 'Transported Cabin_D in counts')"
      ]
     },
     "execution_count": 28,
     "metadata": {},
     "output_type": "execute_result"
    },
    {
     "data": {
      "text/plain": [
       "Text(0.0, 271, '271')"
      ]
     },
     "execution_count": 28,
     "metadata": {},
     "output_type": "execute_result"
    },
    {
     "data": {
      "text/plain": [
       "Text(1.0, 207, '207')"
      ]
     },
     "execution_count": 28,
     "metadata": {},
     "output_type": "execute_result"
    },
    {
     "data": {
      "text/plain": [
       "<AxesSubplot:>"
      ]
     },
     "execution_count": 28,
     "metadata": {},
     "output_type": "execute_result"
    },
    {
     "data": {
      "text/plain": [
       "([<matplotlib.patches.Wedge at 0x20f9ca88c70>,\n",
       "  <matplotlib.patches.Wedge at 0x20f9caa3400>],\n",
       " [Text(-0.22964567432068647, 1.0757615276007026, '0.0'),\n",
       "  Text(0.2296456743206861, -1.0757615276007029, '1.0')],\n",
       " [Text(-0.1252612769021926, 0.5867790150549287, '56.69%'),\n",
       "  Text(0.1252612769021924, -0.5867790150549287, '43.31%')])"
      ]
     },
     "execution_count": 28,
     "metadata": {},
     "output_type": "execute_result"
    },
    {
     "data": {
      "text/plain": [
       "Text(0.5, 1.0, 'Transported Cabin_D in %')"
      ]
     },
     "execution_count": 28,
     "metadata": {},
     "output_type": "execute_result"
    },
    {
     "data": {
      "image/png": "[encoded data removed]",
      "text/plain": [
       "<Figure size 936x288 with 2 Axes>"
      ]
     },
     "metadata": {
      "needs_background": "light"
     },
     "output_type": "display_data"
    }
   ],
   "source": [
    "### Cabin_D의 생존률 \n",
    "plt.figure(figsize=(13,4))\n",
    "plt.subplot(121)\n",
    "sbn.barplot(x=df_CabinD.Transported.unique(), y=df_CabinD.Transported.value_counts())\n",
    "plt.title(\"Transported Cabin_D in counts\")\n",
    "for i, j in zip(df_CabinD.Transported.unique(), df_CabinD.Transported.value_counts()):\n",
    "    plt.annotate(str(j), xytext=(i, j), xy=(i, j))\n",
    "plt.subplot(122)\n",
    "plt.pie(df_CabinD.Transported.value_counts(), labels=df_CabinD.Transported.unique(), autopct='%.2f%%')\n",
    "plt.title(\"Transported Cabin_D in %\")\n",
    "plt.show()"
   ]
  },
  {
   "cell_type": "code",
   "execution_count": 29,
   "id": "43b6fa42",
   "metadata": {},
   "outputs": [
    {
     "data": {
      "text/plain": [
       "<Figure size 936x288 with 0 Axes>"
      ]
     },
     "execution_count": 29,
     "metadata": {},
     "output_type": "execute_result"
    },
    {
     "data": {
      "text/plain": [
       "<AxesSubplot:>"
      ]
     },
     "execution_count": 29,
     "metadata": {},
     "output_type": "execute_result"
    },
    {
     "data": {
      "text/plain": [
       "<AxesSubplot:ylabel='Transported'>"
      ]
     },
     "execution_count": 29,
     "metadata": {},
     "output_type": "execute_result"
    },
    {
     "data": {
      "text/plain": [
       "Text(0.5, 1.0, 'Transported Cabin_E in counts')"
      ]
     },
     "execution_count": 29,
     "metadata": {},
     "output_type": "execute_result"
    },
    {
     "data": {
      "text/plain": [
       "Text(0.0, 563, '563')"
      ]
     },
     "execution_count": 29,
     "metadata": {},
     "output_type": "execute_result"
    },
    {
     "data": {
      "text/plain": [
       "Text(1.0, 313, '313')"
      ]
     },
     "execution_count": 29,
     "metadata": {},
     "output_type": "execute_result"
    },
    {
     "data": {
      "text/plain": [
       "<AxesSubplot:>"
      ]
     },
     "execution_count": 29,
     "metadata": {},
     "output_type": "execute_result"
    },
    {
     "data": {
      "text/plain": [
       "([<matplotlib.patches.Wedge at 0x20f9cb3c6d0>,\n",
       "  <matplotlib.patches.Wedge at 0x20f9cb3cf70>],\n",
       " [Text(-0.47676427552489425, 0.9913101560980917, '0.0'),\n",
       "  Text(0.47676427552489414, -0.9913101560980917, '1.0')],\n",
       " [Text(-0.26005324119539686, 0.5407146305989591, '64.27%'),\n",
       "  Text(0.26005324119539674, -0.5407146305989591, '35.73%')])"
      ]
     },
     "execution_count": 29,
     "metadata": {},
     "output_type": "execute_result"
    },
    {
     "data": {
      "text/plain": [
       "Text(0.5, 1.0, 'Transported Cabin_E in %')"
      ]
     },
     "execution_count": 29,
     "metadata": {},
     "output_type": "execute_result"
    },
    {
     "data": {
      "image/png": "[encoded data removed]",
      "text/plain": [
       "<Figure size 936x288 with 2 Axes>"
      ]
     },
     "metadata": {
      "needs_background": "light"
     },
     "output_type": "display_data"
    }
   ],
   "source": [
    "### Cabin_E의 생존률 \n",
    "plt.figure(figsize=(13,4))\n",
    "plt.subplot(121)\n",
    "sbn.barplot(x=df_CabinE.Transported.unique(), y=df_CabinE.Transported.value_counts())\n",
    "plt.title(\"Transported Cabin_E in counts\")\n",
    "for i, j in zip(df_CabinE.Transported.unique(), df_CabinE.Transported.value_counts()):\n",
    "    plt.annotate(str(j), xytext=(i, j), xy=(i, j))\n",
    "plt.subplot(122)\n",
    "plt.pie(df_CabinE.Transported.value_counts(), labels=df_CabinE.Transported.unique(), autopct='%.2f%%')\n",
    "plt.title(\"Transported Cabin_E in %\")\n",
    "plt.show()"
   ]
  },
  {
   "cell_type": "code",
   "execution_count": 33,
   "id": "d24b72c2",
   "metadata": {},
   "outputs": [
    {
     "data": {
      "text/html": [
       "<div>\n",
       "<style scoped>\n",
       "    .dataframe tbody tr th:only-of-type {\n",
       "        vertical-align: middle;\n",
       "    }\n",
       "\n",
       "    .dataframe tbody tr th {\n",
       "        vertical-align: top;\n",
       "    }\n",
       "\n",
       "    .dataframe thead th {\n",
       "        text-align: right;\n",
       "    }\n",
       "</style>\n",
       "<table border=\"1\" class=\"dataframe\">\n",
       "  <thead>\n",
       "    <tr style=\"text-align: right;\">\n",
       "      <th></th>\n",
       "      <th>PassengerId</th>\n",
       "      <th>HomePlanet</th>\n",
       "      <th>CryoSleep</th>\n",
       "      <th>Cabin_A</th>\n",
       "      <th>Cabin_B</th>\n",
       "      <th>Cabin_C</th>\n",
       "      <th>Cabin_D</th>\n",
       "      <th>Cabin_E</th>\n",
       "      <th>Cabin_F</th>\n",
       "      <th>Cabin_G</th>\n",
       "      <th>...</th>\n",
       "      <th>Destination</th>\n",
       "      <th>Age</th>\n",
       "      <th>VIP</th>\n",
       "      <th>RoomService</th>\n",
       "      <th>FoodCourt</th>\n",
       "      <th>ShoppingMall</th>\n",
       "      <th>Spa</th>\n",
       "      <th>VRDeck</th>\n",
       "      <th>Name</th>\n",
       "      <th>Transported</th>\n",
       "    </tr>\n",
       "  </thead>\n",
       "  <tbody>\n",
       "    <tr>\n",
       "      <th>1</th>\n",
       "      <td>0002_01</td>\n",
       "      <td>0.0</td>\n",
       "      <td>0.0</td>\n",
       "      <td>0.0</td>\n",
       "      <td>0.0</td>\n",
       "      <td>0.0</td>\n",
       "      <td>0.0</td>\n",
       "      <td>0.0</td>\n",
       "      <td>1.0</td>\n",
       "      <td>0.0</td>\n",
       "      <td>...</td>\n",
       "      <td>2.0</td>\n",
       "      <td>24.0</td>\n",
       "      <td>0.0</td>\n",
       "      <td>109.0</td>\n",
       "      <td>9.0</td>\n",
       "      <td>25.0</td>\n",
       "      <td>549.0</td>\n",
       "      <td>44.0</td>\n",
       "      <td>Juanna Vines</td>\n",
       "      <td>1.0</td>\n",
       "    </tr>\n",
       "    <tr>\n",
       "      <th>4</th>\n",
       "      <td>0004_01</td>\n",
       "      <td>0.0</td>\n",
       "      <td>0.0</td>\n",
       "      <td>0.0</td>\n",
       "      <td>0.0</td>\n",
       "      <td>0.0</td>\n",
       "      <td>0.0</td>\n",
       "      <td>0.0</td>\n",
       "      <td>1.0</td>\n",
       "      <td>0.0</td>\n",
       "      <td>...</td>\n",
       "      <td>2.0</td>\n",
       "      <td>16.0</td>\n",
       "      <td>0.0</td>\n",
       "      <td>303.0</td>\n",
       "      <td>70.0</td>\n",
       "      <td>151.0</td>\n",
       "      <td>565.0</td>\n",
       "      <td>2.0</td>\n",
       "      <td>Willy Santantines</td>\n",
       "      <td>1.0</td>\n",
       "    </tr>\n",
       "    <tr>\n",
       "      <th>5</th>\n",
       "      <td>0005_01</td>\n",
       "      <td>0.0</td>\n",
       "      <td>0.0</td>\n",
       "      <td>0.0</td>\n",
       "      <td>0.0</td>\n",
       "      <td>0.0</td>\n",
       "      <td>0.0</td>\n",
       "      <td>0.0</td>\n",
       "      <td>1.0</td>\n",
       "      <td>0.0</td>\n",
       "      <td>...</td>\n",
       "      <td>1.0</td>\n",
       "      <td>44.0</td>\n",
       "      <td>0.0</td>\n",
       "      <td>0.0</td>\n",
       "      <td>483.0</td>\n",
       "      <td>0.0</td>\n",
       "      <td>291.0</td>\n",
       "      <td>0.0</td>\n",
       "      <td>Sandie Hinetthews</td>\n",
       "      <td>1.0</td>\n",
       "    </tr>\n",
       "    <tr>\n",
       "      <th>6</th>\n",
       "      <td>0006_01</td>\n",
       "      <td>0.0</td>\n",
       "      <td>0.0</td>\n",
       "      <td>0.0</td>\n",
       "      <td>0.0</td>\n",
       "      <td>0.0</td>\n",
       "      <td>0.0</td>\n",
       "      <td>0.0</td>\n",
       "      <td>1.0</td>\n",
       "      <td>0.0</td>\n",
       "      <td>...</td>\n",
       "      <td>2.0</td>\n",
       "      <td>26.0</td>\n",
       "      <td>0.0</td>\n",
       "      <td>42.0</td>\n",
       "      <td>1539.0</td>\n",
       "      <td>3.0</td>\n",
       "      <td>0.0</td>\n",
       "      <td>0.0</td>\n",
       "      <td>Billex Jacostaffey</td>\n",
       "      <td>1.0</td>\n",
       "    </tr>\n",
       "    <tr>\n",
       "      <th>7</th>\n",
       "      <td>0007_01</td>\n",
       "      <td>0.0</td>\n",
       "      <td>0.0</td>\n",
       "      <td>0.0</td>\n",
       "      <td>0.0</td>\n",
       "      <td>0.0</td>\n",
       "      <td>0.0</td>\n",
       "      <td>0.0</td>\n",
       "      <td>1.0</td>\n",
       "      <td>0.0</td>\n",
       "      <td>...</td>\n",
       "      <td>2.0</td>\n",
       "      <td>35.0</td>\n",
       "      <td>0.0</td>\n",
       "      <td>0.0</td>\n",
       "      <td>785.0</td>\n",
       "      <td>17.0</td>\n",
       "      <td>216.0</td>\n",
       "      <td>0.0</td>\n",
       "      <td>Andona Beston</td>\n",
       "      <td>1.0</td>\n",
       "    </tr>\n",
       "    <tr>\n",
       "      <th>...</th>\n",
       "      <td>...</td>\n",
       "      <td>...</td>\n",
       "      <td>...</td>\n",
       "      <td>...</td>\n",
       "      <td>...</td>\n",
       "      <td>...</td>\n",
       "      <td>...</td>\n",
       "      <td>...</td>\n",
       "      <td>...</td>\n",
       "      <td>...</td>\n",
       "      <td>...</td>\n",
       "      <td>...</td>\n",
       "      <td>...</td>\n",
       "      <td>...</td>\n",
       "      <td>...</td>\n",
       "      <td>...</td>\n",
       "      <td>...</td>\n",
       "      <td>...</td>\n",
       "      <td>...</td>\n",
       "      <td>...</td>\n",
       "      <td>...</td>\n",
       "    </tr>\n",
       "    <tr>\n",
       "      <th>8483</th>\n",
       "      <td>5322_01</td>\n",
       "      <td>2.0</td>\n",
       "      <td>1.0</td>\n",
       "      <td>0.0</td>\n",
       "      <td>0.0</td>\n",
       "      <td>0.0</td>\n",
       "      <td>0.0</td>\n",
       "      <td>0.0</td>\n",
       "      <td>1.0</td>\n",
       "      <td>0.0</td>\n",
       "      <td>...</td>\n",
       "      <td>2.0</td>\n",
       "      <td>22.0</td>\n",
       "      <td>0.0</td>\n",
       "      <td>0.0</td>\n",
       "      <td>0.0</td>\n",
       "      <td>0.0</td>\n",
       "      <td>1032.0</td>\n",
       "      <td>54.0</td>\n",
       "      <td>Allift Parté</td>\n",
       "      <td>1.0</td>\n",
       "    </tr>\n",
       "    <tr>\n",
       "      <th>8486</th>\n",
       "      <td>8272_03</td>\n",
       "      <td>2.0</td>\n",
       "      <td>1.0</td>\n",
       "      <td>0.0</td>\n",
       "      <td>0.0</td>\n",
       "      <td>0.0</td>\n",
       "      <td>0.0</td>\n",
       "      <td>0.0</td>\n",
       "      <td>1.0</td>\n",
       "      <td>0.0</td>\n",
       "      <td>...</td>\n",
       "      <td>2.0</td>\n",
       "      <td>29.0</td>\n",
       "      <td>0.0</td>\n",
       "      <td>0.0</td>\n",
       "      <td>244.0</td>\n",
       "      <td>0.0</td>\n",
       "      <td>317.0</td>\n",
       "      <td>0.0</td>\n",
       "      <td>Plat Fache</td>\n",
       "      <td>1.0</td>\n",
       "    </tr>\n",
       "    <tr>\n",
       "      <th>8489</th>\n",
       "      <td>8906_01</td>\n",
       "      <td>0.0</td>\n",
       "      <td>0.0</td>\n",
       "      <td>0.0</td>\n",
       "      <td>0.0</td>\n",
       "      <td>0.0</td>\n",
       "      <td>0.0</td>\n",
       "      <td>0.0</td>\n",
       "      <td>1.0</td>\n",
       "      <td>0.0</td>\n",
       "      <td>...</td>\n",
       "      <td>0.0</td>\n",
       "      <td>19.0</td>\n",
       "      <td>0.0</td>\n",
       "      <td>720.0</td>\n",
       "      <td>2.0</td>\n",
       "      <td>76.0</td>\n",
       "      <td>11403.0</td>\n",
       "      <td>0.0</td>\n",
       "      <td>Rena Gainney</td>\n",
       "      <td>0.0</td>\n",
       "    </tr>\n",
       "    <tr>\n",
       "      <th>8491</th>\n",
       "      <td>2901_02</td>\n",
       "      <td>0.0</td>\n",
       "      <td>0.0</td>\n",
       "      <td>0.0</td>\n",
       "      <td>0.0</td>\n",
       "      <td>0.0</td>\n",
       "      <td>0.0</td>\n",
       "      <td>0.0</td>\n",
       "      <td>1.0</td>\n",
       "      <td>0.0</td>\n",
       "      <td>...</td>\n",
       "      <td>1.0</td>\n",
       "      <td>24.0</td>\n",
       "      <td>0.0</td>\n",
       "      <td>1886.0</td>\n",
       "      <td>2.0</td>\n",
       "      <td>25.0</td>\n",
       "      <td>8427.0</td>\n",
       "      <td>707.0</td>\n",
       "      <td>Loisey Vandez</td>\n",
       "      <td>1.0</td>\n",
       "    </tr>\n",
       "    <tr>\n",
       "      <th>8493</th>\n",
       "      <td>7137_01</td>\n",
       "      <td>0.0</td>\n",
       "      <td>0.0</td>\n",
       "      <td>0.0</td>\n",
       "      <td>0.0</td>\n",
       "      <td>0.0</td>\n",
       "      <td>0.0</td>\n",
       "      <td>0.0</td>\n",
       "      <td>1.0</td>\n",
       "      <td>0.0</td>\n",
       "      <td>...</td>\n",
       "      <td>2.0</td>\n",
       "      <td>23.0</td>\n",
       "      <td>0.0</td>\n",
       "      <td>1886.0</td>\n",
       "      <td>134.0</td>\n",
       "      <td>482.0</td>\n",
       "      <td>9872.0</td>\n",
       "      <td>27.0</td>\n",
       "      <td>Gabrin Duffmaney</td>\n",
       "      <td>0.0</td>\n",
       "    </tr>\n",
       "  </tbody>\n",
       "</table>\n",
       "<p>2794 rows × 23 columns</p>\n",
       "</div>"
      ],
      "text/plain": [
       "     PassengerId  HomePlanet  CryoSleep  Cabin_A  Cabin_B  Cabin_C  Cabin_D  \\\n",
       "1        0002_01         0.0        0.0      0.0      0.0      0.0      0.0   \n",
       "4        0004_01         0.0        0.0      0.0      0.0      0.0      0.0   \n",
       "5        0005_01         0.0        0.0      0.0      0.0      0.0      0.0   \n",
       "6        0006_01         0.0        0.0      0.0      0.0      0.0      0.0   \n",
       "7        0007_01         0.0        0.0      0.0      0.0      0.0      0.0   \n",
       "...          ...         ...        ...      ...      ...      ...      ...   \n",
       "8483     5322_01         2.0        1.0      0.0      0.0      0.0      0.0   \n",
       "8486     8272_03         2.0        1.0      0.0      0.0      0.0      0.0   \n",
       "8489     8906_01         0.0        0.0      0.0      0.0      0.0      0.0   \n",
       "8491     2901_02         0.0        0.0      0.0      0.0      0.0      0.0   \n",
       "8493     7137_01         0.0        0.0      0.0      0.0      0.0      0.0   \n",
       "\n",
       "      Cabin_E  Cabin_F  Cabin_G  ...  Destination   Age  VIP  RoomService  \\\n",
       "1         0.0      1.0      0.0  ...          2.0  24.0  0.0        109.0   \n",
       "4         0.0      1.0      0.0  ...          2.0  16.0  0.0        303.0   \n",
       "5         0.0      1.0      0.0  ...          1.0  44.0  0.0          0.0   \n",
       "6         0.0      1.0      0.0  ...          2.0  26.0  0.0         42.0   \n",
       "7         0.0      1.0      0.0  ...          2.0  35.0  0.0          0.0   \n",
       "...       ...      ...      ...  ...          ...   ...  ...          ...   \n",
       "8483      0.0      1.0      0.0  ...          2.0  22.0  0.0          0.0   \n",
       "8486      0.0      1.0      0.0  ...          2.0  29.0  0.0          0.0   \n",
       "8489      0.0      1.0      0.0  ...          0.0  19.0  0.0        720.0   \n",
       "8491      0.0      1.0      0.0  ...          1.0  24.0  0.0       1886.0   \n",
       "8493      0.0      1.0      0.0  ...          2.0  23.0  0.0       1886.0   \n",
       "\n",
       "      FoodCourt  ShoppingMall      Spa  VRDeck                Name  \\\n",
       "1           9.0          25.0    549.0    44.0        Juanna Vines   \n",
       "4          70.0         151.0    565.0     2.0   Willy Santantines   \n",
       "5         483.0           0.0    291.0     0.0   Sandie Hinetthews   \n",
       "6        1539.0           3.0      0.0     0.0  Billex Jacostaffey   \n",
       "7         785.0          17.0    216.0     0.0       Andona Beston   \n",
       "...         ...           ...      ...     ...                 ...   \n",
       "8483        0.0           0.0   1032.0    54.0        Allift Parté   \n",
       "8486      244.0           0.0    317.0     0.0          Plat Fache   \n",
       "8489        2.0          76.0  11403.0     0.0        Rena Gainney   \n",
       "8491        2.0          25.0   8427.0   707.0       Loisey Vandez   \n",
       "8493      134.0         482.0   9872.0    27.0    Gabrin Duffmaney   \n",
       "\n",
       "      Transported  \n",
       "1             1.0  \n",
       "4             1.0  \n",
       "5             1.0  \n",
       "6             1.0  \n",
       "7             1.0  \n",
       "...           ...  \n",
       "8483          1.0  \n",
       "8486          1.0  \n",
       "8489          0.0  \n",
       "8491          1.0  \n",
       "8493          0.0  \n",
       "\n",
       "[2794 rows x 23 columns]"
      ]
     },
     "execution_count": 33,
     "metadata": {},
     "output_type": "execute_result"
    }
   ],
   "source": [
    "df_CabinF"
   ]
  },
  {
   "cell_type": "code",
   "execution_count": 30,
   "id": "656564a0",
   "metadata": {},
   "outputs": [
    {
     "data": {
      "text/plain": [
       "<Figure size 936x288 with 0 Axes>"
      ]
     },
     "execution_count": 30,
     "metadata": {},
     "output_type": "execute_result"
    },
    {
     "data": {
      "text/plain": [
       "<AxesSubplot:>"
      ]
     },
     "execution_count": 30,
     "metadata": {},
     "output_type": "execute_result"
    },
    {
     "data": {
      "text/plain": [
       "<AxesSubplot:ylabel='Transported'>"
      ]
     },
     "execution_count": 30,
     "metadata": {},
     "output_type": "execute_result"
    },
    {
     "data": {
      "text/plain": [
       "Text(0.5, 1.0, 'Transported Cabin_F in counts')"
      ]
     },
     "execution_count": 30,
     "metadata": {},
     "output_type": "execute_result"
    },
    {
     "data": {
      "text/plain": [
       "Text(1.0, 1565, '1565')"
      ]
     },
     "execution_count": 30,
     "metadata": {},
     "output_type": "execute_result"
    },
    {
     "data": {
      "text/plain": [
       "Text(0.0, 1229, '1229')"
      ]
     },
     "execution_count": 30,
     "metadata": {},
     "output_type": "execute_result"
    },
    {
     "data": {
      "text/plain": [
       "<AxesSubplot:>"
      ]
     },
     "execution_count": 30,
     "metadata": {},
     "output_type": "execute_result"
    },
    {
     "data": {
      "text/plain": [
       "([<matplotlib.patches.Wedge at 0x20f9cba3160>,\n",
       "  <matplotlib.patches.Wedge at 0x20f9cba3a00>],\n",
       " [Text(-0.20655687558786348, 1.0804324398810785, '1.0'),\n",
       "  Text(0.2065569767452482, -1.0804324205418232, '0.0')],\n",
       " [Text(-0.11266738668428916, 0.5893267853896791, '56.01%'),\n",
       "  Text(0.11266744186104447, -0.5893267748409944, '43.99%')])"
      ]
     },
     "execution_count": 30,
     "metadata": {},
     "output_type": "execute_result"
    },
    {
     "data": {
      "text/plain": [
       "Text(0.5, 1.0, 'Transported Cabin_F in %')"
      ]
     },
     "execution_count": 30,
     "metadata": {},
     "output_type": "execute_result"
    },
    {
     "data": {
      "image/png": "[encoded data removed]",
      "text/plain": [
       "<Figure size 936x288 with 2 Axes>"
      ]
     },
     "metadata": {
      "needs_background": "light"
     },
     "output_type": "display_data"
    }
   ],
   "source": [
    "### Cabin_F의 생존률 \n",
    "plt.figure(figsize=(13,4))\n",
    "plt.subplot(121)\n",
    "sbn.barplot(x=df_CabinF.Transported.unique(), y=df_CabinF.Transported.value_counts())\n",
    "plt.title(\"Transported Cabin_F in counts\")\n",
    "for i, j in zip(df_CabinF.Transported.unique(), df_CabinF.Transported.value_counts()):\n",
    "    plt.annotate(str(j), xytext=(i, j), xy=(i, j))\n",
    "plt.subplot(122)\n",
    "plt.pie(df_CabinF.Transported.value_counts(), labels=df_CabinF.Transported.unique(), autopct='%.2f%%')\n",
    "plt.title(\"Transported Cabin_F in %\")\n",
    "plt.show()"
   ]
  },
  {
   "cell_type": "code",
   "execution_count": 31,
   "id": "9c8eb419",
   "metadata": {},
   "outputs": [
    {
     "data": {
      "text/plain": [
       "<Figure size 936x288 with 0 Axes>"
      ]
     },
     "execution_count": 31,
     "metadata": {},
     "output_type": "execute_result"
    },
    {
     "data": {
      "text/plain": [
       "<AxesSubplot:>"
      ]
     },
     "execution_count": 31,
     "metadata": {},
     "output_type": "execute_result"
    },
    {
     "data": {
      "text/plain": [
       "<AxesSubplot:ylabel='Transported'>"
      ]
     },
     "execution_count": 31,
     "metadata": {},
     "output_type": "execute_result"
    },
    {
     "data": {
      "text/plain": [
       "Text(0.5, 1.0, 'Transported Cabin_G in counts')"
      ]
     },
     "execution_count": 31,
     "metadata": {},
     "output_type": "execute_result"
    },
    {
     "data": {
      "text/plain": [
       "Text(0.0, 1321, '1321')"
      ]
     },
     "execution_count": 31,
     "metadata": {},
     "output_type": "execute_result"
    },
    {
     "data": {
      "text/plain": [
       "Text(1.0, 1238, '1238')"
      ]
     },
     "execution_count": 31,
     "metadata": {},
     "output_type": "execute_result"
    },
    {
     "data": {
      "text/plain": [
       "<AxesSubplot:>"
      ]
     },
     "execution_count": 31,
     "metadata": {},
     "output_type": "execute_result"
    },
    {
     "data": {
      "text/plain": [
       "([<matplotlib.patches.Wedge at 0x20f9cc43d60>,\n",
       "  <matplotlib.patches.Wedge at 0x20f9cc51640>],\n",
       " [Text(-0.05601869365376963, 1.0985726675834082, '0.0'),\n",
       "  Text(0.05601879650956522, -1.0985726623385548, '1.0')],\n",
       " [Text(-0.03055565108387434, 0.5992214550454953, '51.62%'),\n",
       "  Text(0.03055570718703557, -0.5992214521846662, '48.38%')])"
      ]
     },
     "execution_count": 31,
     "metadata": {},
     "output_type": "execute_result"
    },
    {
     "data": {
      "text/plain": [
       "Text(0.5, 1.0, 'Transported Cabin_G in %')"
      ]
     },
     "execution_count": 31,
     "metadata": {},
     "output_type": "execute_result"
    },
    {
     "data": {
      "image/png": "[encoded data removed]",
      "text/plain": [
       "<Figure size 936x288 with 2 Axes>"
      ]
     },
     "metadata": {
      "needs_background": "light"
     },
     "output_type": "display_data"
    }
   ],
   "source": [
    "### Cabin_G의 생존률 \n",
    "plt.figure(figsize=(13,4))\n",
    "plt.subplot(121)\n",
    "sbn.barplot(x=df_CabinG.Transported.unique(), y=df_CabinG.Transported.value_counts())\n",
    "plt.title(\"Transported Cabin_G in counts\")\n",
    "for i, j in zip(df_CabinG.Transported.unique(), df_CabinG.Transported.value_counts()):\n",
    "    plt.annotate(str(j), xytext=(i, j), xy=(i, j))\n",
    "plt.subplot(122)\n",
    "plt.pie(df_CabinG.Transported.value_counts(), labels=df_CabinG.Transported.unique(), autopct='%.2f%%')\n",
    "plt.title(\"Transported Cabin_G in %\")\n",
    "plt.show()"
   ]
  },
  {
   "cell_type": "code",
   "execution_count": 32,
   "id": "3b8ace1b",
   "metadata": {},
   "outputs": [
    {
     "data": {
      "text/plain": [
       "<Figure size 936x288 with 0 Axes>"
      ]
     },
     "execution_count": 32,
     "metadata": {},
     "output_type": "execute_result"
    },
    {
     "data": {
      "text/plain": [
       "<AxesSubplot:>"
      ]
     },
     "execution_count": 32,
     "metadata": {},
     "output_type": "execute_result"
    },
    {
     "data": {
      "text/plain": [
       "<AxesSubplot:ylabel='Transported'>"
      ]
     },
     "execution_count": 32,
     "metadata": {},
     "output_type": "execute_result"
    },
    {
     "data": {
      "text/plain": [
       "Text(0.5, 1.0, 'Transported Cabin_T in counts')"
      ]
     },
     "execution_count": 32,
     "metadata": {},
     "output_type": "execute_result"
    },
    {
     "data": {
      "text/plain": [
       "Text(0.0, 4, '4')"
      ]
     },
     "execution_count": 32,
     "metadata": {},
     "output_type": "execute_result"
    },
    {
     "data": {
      "text/plain": [
       "Text(1.0, 1, '1')"
      ]
     },
     "execution_count": 32,
     "metadata": {},
     "output_type": "execute_result"
    },
    {
     "data": {
      "text/plain": [
       "<AxesSubplot:>"
      ]
     },
     "execution_count": 32,
     "metadata": {},
     "output_type": "execute_result"
    },
    {
     "data": {
      "text/plain": [
       "([<matplotlib.patches.Wedge at 0x20f9cd39e50>,\n",
       "  <matplotlib.patches.Wedge at 0x20f9cd2ce80>],\n",
       " [Text(-0.8899187180267095, 0.6465637441936395, '0.0'),\n",
       "  Text(0.8899187482945414, -0.6465637025335375, '1.0')],\n",
       " [Text(-0.48541020983275057, 0.3526711331965306, '80.00%'),\n",
       "  Text(0.4854102263424771, -0.3526711104728386, '20.00%')])"
      ]
     },
     "execution_count": 32,
     "metadata": {},
     "output_type": "execute_result"
    },
    {
     "data": {
      "text/plain": [
       "Text(0.5, 1.0, 'Transported Cabin_T in %')"
      ]
     },
     "execution_count": 32,
     "metadata": {},
     "output_type": "execute_result"
    },
    {
     "data": {
      "image/png": "[encoded data removed]",
      "text/plain": [
       "<Figure size 936x288 with 2 Axes>"
      ]
     },
     "metadata": {
      "needs_background": "light"
     },
     "output_type": "display_data"
    }
   ],
   "source": [
    "### Cabin_T의 생존률 \n",
    "plt.figure(figsize=(13,4))\n",
    "plt.subplot(121)\n",
    "sbn.barplot(x=df_CabinT.Transported.unique(), y=df_CabinT.Transported.value_counts())\n",
    "plt.title(\"Transported Cabin_T in counts\")\n",
    "for i, j in zip(df_CabinT.Transported.unique(), df_CabinT.Transported.value_counts()):\n",
    "    plt.annotate(str(j), xytext=(i, j), xy=(i, j))\n",
    "plt.subplot(122)\n",
    "plt.pie(df_CabinT.Transported.value_counts(), labels=df_CabinT.Transported.unique(), autopct='%.2f%%')\n",
    "plt.title(\"Transported Cabin_T in %\")\n",
    "plt.show()"
   ]
  },
  {
   "cell_type": "markdown",
   "id": "a8b39a8f",
   "metadata": {},
   "source": [
    "## Cabin_A의 VIP중 생존률 : 12명(34.29%) / 23명(65.71%)\n",
    "## Cabin_B의 VIP중 생존률 : 22명(52.38%) / 20명(47.62%)\n",
    "## Cabin_C의 VIP중 생존률 : 26명(63.41%) / 15명(36.59%)\n",
    "## Cabin_D의 VIP중 생존률 : 6명(19.35%) / 25명(80.65%)\n",
    "## Cabin_E의 VIP중 생존률 : 4명(26.67%) / 11명(73.33%)\n",
    "## Cabin_F의 VIP중 생존률 : 5명(17.24%) / 24명(82.76%)\n",
    "## Cabin_G의 VIP중 생존률 : 0명\n",
    "## Cabin_T의 VIP중 생존률 : 0명"
   ]
  },
  {
   "cell_type": "code",
   "execution_count": 7,
   "id": "eabac090",
   "metadata": {},
   "outputs": [],
   "source": [
    "CabinAVIP = df_CabinA[df_CabinA['VIP']==1]\n",
    "CabinBVIP = df_CabinB[df_CabinB['VIP']==1]\n",
    "CabinCVIP = df_CabinC[df_CabinC['VIP']==1]\n",
    "CabinDVIP = df_CabinD[df_CabinD['VIP']==1]\n",
    "CabinEVIP = df_CabinE[df_CabinE['VIP']==1]\n",
    "CabinFVIP = df_CabinF[df_CabinF['VIP']==1]\n",
    "CabinGVIP = df_CabinG[df_CabinG['VIP']==1]\n",
    "CabinTVIP = df_CabinT[df_CabinT['VIP']==1]"
   ]
  },
  {
   "cell_type": "code",
   "execution_count": 8,
   "id": "d9b5d910",
   "metadata": {},
   "outputs": [
    {
     "data": {
      "text/plain": [
       "<Figure size 936x288 with 0 Axes>"
      ]
     },
     "execution_count": 8,
     "metadata": {},
     "output_type": "execute_result"
    },
    {
     "data": {
      "text/plain": [
       "<AxesSubplot:>"
      ]
     },
     "execution_count": 8,
     "metadata": {},
     "output_type": "execute_result"
    },
    {
     "data": {
      "text/plain": [
       "<AxesSubplot:ylabel='Transported'>"
      ]
     },
     "execution_count": 8,
     "metadata": {},
     "output_type": "execute_result"
    },
    {
     "data": {
      "text/plain": [
       "Text(0.5, 1.0, 'Transported Cabin_A_VIP in counts')"
      ]
     },
     "execution_count": 8,
     "metadata": {},
     "output_type": "execute_result"
    },
    {
     "data": {
      "text/plain": [
       "Text(0.0, 23, '23')"
      ]
     },
     "execution_count": 8,
     "metadata": {},
     "output_type": "execute_result"
    },
    {
     "data": {
      "text/plain": [
       "Text(1.0, 12, '12')"
      ]
     },
     "execution_count": 8,
     "metadata": {},
     "output_type": "execute_result"
    },
    {
     "data": {
      "text/plain": [
       "<AxesSubplot:>"
      ]
     },
     "execution_count": 8,
     "metadata": {},
     "output_type": "execute_result"
    },
    {
     "data": {
      "text/plain": [
       "([<matplotlib.patches.Wedge at 0x1f0d6689700>,\n",
       "  <matplotlib.patches.Wedge at 0x1f0d669c250>],\n",
       " [Text(-0.5212555909091209, 0.968655051577177, '0.0'),\n",
       "  Text(0.5212556816011501, -0.968655002773702, '1.0')],\n",
       " [Text(-0.284321231404975, 0.5283573008602783, '65.71%'),\n",
       "  Text(0.28432128087335456, -0.528357274240201, '34.29%')])"
      ]
     },
     "execution_count": 8,
     "metadata": {},
     "output_type": "execute_result"
    },
    {
     "data": {
      "text/plain": [
       "Text(0.5, 1.0, 'Transported Cabin_A_VIP in %')"
      ]
     },
     "execution_count": 8,
     "metadata": {},
     "output_type": "execute_result"
    },
    {
     "data": {
      "image/png": "[encoded data removed]",
      "text/plain": [
       "<Figure size 936x288 with 2 Axes>"
      ]
     },
     "metadata": {
      "needs_background": "light"
     },
     "output_type": "display_data"
    }
   ],
   "source": [
    "### Cabin_A의 VIP중 생존률 \n",
    "plt.figure(figsize=(13,4))\n",
    "plt.subplot(121)\n",
    "sbn.barplot(x=CabinAVIP.Transported.unique(), y=CabinAVIP.Transported.value_counts())\n",
    "plt.title(\"Transported Cabin_A_VIP in counts\")\n",
    "for i, j in zip(CabinAVIP.Transported.unique(), CabinAVIP.Transported.value_counts()):\n",
    "    plt.annotate(str(j), xytext=(i, j), xy=(i, j))\n",
    "plt.subplot(122)\n",
    "plt.pie(CabinAVIP.Transported.value_counts(), labels=CabinAVIP.Transported.unique(), autopct='%.2f%%')\n",
    "plt.title(\"Transported Cabin_A_VIP in %\")\n",
    "plt.show()"
   ]
  },
  {
   "cell_type": "code",
   "execution_count": 11,
   "id": "d15c0db8",
   "metadata": {},
   "outputs": [
    {
     "data": {
      "text/plain": [
       "<Figure size 936x288 with 0 Axes>"
      ]
     },
     "execution_count": 11,
     "metadata": {},
     "output_type": "execute_result"
    },
    {
     "data": {
      "text/plain": [
       "<AxesSubplot:>"
      ]
     },
     "execution_count": 11,
     "metadata": {},
     "output_type": "execute_result"
    },
    {
     "data": {
      "text/plain": [
       "<AxesSubplot:ylabel='Transported'>"
      ]
     },
     "execution_count": 11,
     "metadata": {},
     "output_type": "execute_result"
    },
    {
     "data": {
      "text/plain": [
       "Text(0.5, 1.0, 'Transported Cabin_B_VIP in counts')"
      ]
     },
     "execution_count": 11,
     "metadata": {},
     "output_type": "execute_result"
    },
    {
     "data": {
      "text/plain": [
       "Text(1.0, 22, '22')"
      ]
     },
     "execution_count": 11,
     "metadata": {},
     "output_type": "execute_result"
    },
    {
     "data": {
      "text/plain": [
       "Text(0.0, 20, '20')"
      ]
     },
     "execution_count": 11,
     "metadata": {},
     "output_type": "execute_result"
    },
    {
     "data": {
      "text/plain": [
       "<AxesSubplot:>"
      ]
     },
     "execution_count": 11,
     "metadata": {},
     "output_type": "execute_result"
    },
    {
     "data": {
      "text/plain": [
       "([<matplotlib.patches.Wedge at 0x1f0d691eac0>,\n",
       "  <matplotlib.patches.Wedge at 0x1f0d6930310>],\n",
       " [Text(-0.08220320075597437, 1.0969241695693797, '1.0'),\n",
       "  Text(0.08220330345742706, -1.0969241618729557, '0.0')],\n",
       " [Text(-0.04483810950325875, 0.5983222743105706, '52.38%'),\n",
       "  Text(0.04483816552223294, -0.5983222701125213, '47.62%')])"
      ]
     },
     "execution_count": 11,
     "metadata": {},
     "output_type": "execute_result"
    },
    {
     "data": {
      "text/plain": [
       "Text(0.5, 1.0, 'Transported Cabin_B_VIP in %')"
      ]
     },
     "execution_count": 11,
     "metadata": {},
     "output_type": "execute_result"
    },
    {
     "data": {
      "image/png": "[encoded data removed]",
      "text/plain": [
       "<Figure size 936x288 with 2 Axes>"
      ]
     },
     "metadata": {
      "needs_background": "light"
     },
     "output_type": "display_data"
    }
   ],
   "source": [
    "### Cabin_B의 VIP중 생존률 \n",
    "plt.figure(figsize=(13,4))\n",
    "plt.subplot(121)\n",
    "sbn.barplot(x=CabinBVIP.Transported.unique(), y=CabinBVIP.Transported.value_counts())\n",
    "plt.title(\"Transported Cabin_B_VIP in counts\")\n",
    "for i, j in zip(CabinBVIP.Transported.unique(), CabinBVIP.Transported.value_counts()):\n",
    "    plt.annotate(str(j), xytext=(i, j), xy=(i, j))\n",
    "plt.subplot(122)\n",
    "plt.pie(CabinBVIP.Transported.value_counts(), labels=CabinBVIP.Transported.unique(), autopct='%.2f%%')\n",
    "plt.title(\"Transported Cabin_B_VIP in %\")\n",
    "plt.show()"
   ]
  },
  {
   "cell_type": "code",
   "execution_count": 10,
   "id": "5d4cb8ed",
   "metadata": {},
   "outputs": [
    {
     "data": {
      "text/plain": [
       "<Figure size 936x288 with 0 Axes>"
      ]
     },
     "execution_count": 10,
     "metadata": {},
     "output_type": "execute_result"
    },
    {
     "data": {
      "text/plain": [
       "<AxesSubplot:>"
      ]
     },
     "execution_count": 10,
     "metadata": {},
     "output_type": "execute_result"
    },
    {
     "data": {
      "text/plain": [
       "<AxesSubplot:ylabel='Transported'>"
      ]
     },
     "execution_count": 10,
     "metadata": {},
     "output_type": "execute_result"
    },
    {
     "data": {
      "text/plain": [
       "Text(0.5, 1.0, 'Transported Cabin_C_VIP in counts')"
      ]
     },
     "execution_count": 10,
     "metadata": {},
     "output_type": "execute_result"
    },
    {
     "data": {
      "text/plain": [
       "Text(1.0, 26, '26')"
      ]
     },
     "execution_count": 10,
     "metadata": {},
     "output_type": "execute_result"
    },
    {
     "data": {
      "text/plain": [
       "Text(0.0, 15, '15')"
      ]
     },
     "execution_count": 10,
     "metadata": {},
     "output_type": "execute_result"
    },
    {
     "data": {
      "text/plain": [
       "<AxesSubplot:>"
      ]
     },
     "execution_count": 10,
     "metadata": {},
     "output_type": "execute_result"
    },
    {
     "data": {
      "text/plain": [
       "([<matplotlib.patches.Wedge at 0x1f0d67e02e0>,\n",
       "  <matplotlib.patches.Wedge at 0x1f0d67e0be0>],\n",
       " [Text(-0.44997547338265015, 1.0037539904548625, '1.0'),\n",
       "  Text(0.44997547338264987, -1.0037539904548625, '0.0')],\n",
       " [Text(-0.24544116729962734, 0.547502176611743, '63.41%'),\n",
       "  Text(0.24544116729962717, -0.5475021766117432, '36.59%')])"
      ]
     },
     "execution_count": 10,
     "metadata": {},
     "output_type": "execute_result"
    },
    {
     "data": {
      "text/plain": [
       "Text(0.5, 1.0, 'Transported Cabin_C_VIP in %')"
      ]
     },
     "execution_count": 10,
     "metadata": {},
     "output_type": "execute_result"
    },
    {
     "data": {
      "image/png": "[encoded data removed]",
      "text/plain": [
       "<Figure size 936x288 with 2 Axes>"
      ]
     },
     "metadata": {
      "needs_background": "light"
     },
     "output_type": "display_data"
    }
   ],
   "source": [
    "### Cabin_C의 VIP중 생존률 \n",
    "plt.figure(figsize=(13,4))\n",
    "plt.subplot(121)\n",
    "sbn.barplot(x=CabinCVIP.Transported.unique(), y=CabinCVIP.Transported.value_counts())\n",
    "plt.title(\"Transported Cabin_C_VIP in counts\")\n",
    "for i, j in zip(CabinCVIP.Transported.unique(), CabinCVIP.Transported.value_counts()):\n",
    "    plt.annotate(str(j), xytext=(i, j), xy=(i, j))\n",
    "plt.subplot(122)\n",
    "plt.pie(CabinCVIP.Transported.value_counts(), labels=CabinCVIP.Transported.unique(), autopct='%.2f%%')\n",
    "plt.title(\"Transported Cabin_C_VIP in %\")\n",
    "plt.show()"
   ]
  },
  {
   "cell_type": "code",
   "execution_count": 12,
   "id": "f0549f46",
   "metadata": {},
   "outputs": [
    {
     "data": {
      "text/plain": [
       "<Figure size 936x288 with 0 Axes>"
      ]
     },
     "execution_count": 12,
     "metadata": {},
     "output_type": "execute_result"
    },
    {
     "data": {
      "text/plain": [
       "<AxesSubplot:>"
      ]
     },
     "execution_count": 12,
     "metadata": {},
     "output_type": "execute_result"
    },
    {
     "data": {
      "text/plain": [
       "<AxesSubplot:ylabel='Transported'>"
      ]
     },
     "execution_count": 12,
     "metadata": {},
     "output_type": "execute_result"
    },
    {
     "data": {
      "text/plain": [
       "Text(0.5, 1.0, 'Transported Cabin_D_VIP in counts')"
      ]
     },
     "execution_count": 12,
     "metadata": {},
     "output_type": "execute_result"
    },
    {
     "data": {
      "text/plain": [
       "Text(0.0, 25, '25')"
      ]
     },
     "execution_count": 12,
     "metadata": {},
     "output_type": "execute_result"
    },
    {
     "data": {
      "text/plain": [
       "Text(1.0, 6, '6')"
      ]
     },
     "execution_count": 12,
     "metadata": {},
     "output_type": "execute_result"
    },
    {
     "data": {
      "text/plain": [
       "<AxesSubplot:>"
      ]
     },
     "execution_count": 12,
     "metadata": {},
     "output_type": "execute_result"
    },
    {
     "data": {
      "text/plain": [
       "([<matplotlib.patches.Wedge at 0x1f0d696c040>,\n",
       "  <matplotlib.patches.Wedge at 0x1f0d69879d0>],\n",
       " [Text(-0.9028397967153436, 0.628395020243634, '0.0'),\n",
       "  Text(0.9028397967153439, -0.6283950202436337, '1.0')],\n",
       " [Text(-0.4924580709356419, 0.3427609201328912, '80.65%'),\n",
       "  Text(0.49245807093564203, -0.3427609201328911, '19.35%')])"
      ]
     },
     "execution_count": 12,
     "metadata": {},
     "output_type": "execute_result"
    },
    {
     "data": {
      "text/plain": [
       "Text(0.5, 1.0, 'Transported Cabin_D_VIP in %')"
      ]
     },
     "execution_count": 12,
     "metadata": {},
     "output_type": "execute_result"
    },
    {
     "data": {
      "image/png": "[encoded data removed]",
      "text/plain": [
       "<Figure size 936x288 with 2 Axes>"
      ]
     },
     "metadata": {
      "needs_background": "light"
     },
     "output_type": "display_data"
    }
   ],
   "source": [
    "### Cabin_D의 VIP중 생존률 \n",
    "plt.figure(figsize=(13,4))\n",
    "plt.subplot(121)\n",
    "sbn.barplot(x=CabinDVIP.Transported.unique(), y=CabinDVIP.Transported.value_counts())\n",
    "plt.title(\"Transported Cabin_D_VIP in counts\")\n",
    "for i, j in zip(CabinDVIP.Transported.unique(), CabinDVIP.Transported.value_counts()):\n",
    "    plt.annotate(str(j), xytext=(i, j), xy=(i, j))\n",
    "plt.subplot(122)\n",
    "plt.pie(CabinDVIP.Transported.value_counts(), labels=CabinDVIP.Transported.unique(), autopct='%.2f%%')\n",
    "plt.title(\"Transported Cabin_D_VIP in %\")\n",
    "plt.show()"
   ]
  },
  {
   "cell_type": "code",
   "execution_count": 13,
   "id": "b3c780c0",
   "metadata": {},
   "outputs": [
    {
     "data": {
      "text/plain": [
       "<Figure size 936x288 with 0 Axes>"
      ]
     },
     "execution_count": 13,
     "metadata": {},
     "output_type": "execute_result"
    },
    {
     "data": {
      "text/plain": [
       "<AxesSubplot:>"
      ]
     },
     "execution_count": 13,
     "metadata": {},
     "output_type": "execute_result"
    },
    {
     "data": {
      "text/plain": [
       "<AxesSubplot:ylabel='Transported'>"
      ]
     },
     "execution_count": 13,
     "metadata": {},
     "output_type": "execute_result"
    },
    {
     "data": {
      "text/plain": [
       "Text(0.5, 1.0, 'Transported Cabin_E_VIP in counts')"
      ]
     },
     "execution_count": 13,
     "metadata": {},
     "output_type": "execute_result"
    },
    {
     "data": {
      "text/plain": [
       "Text(0.0, 11, '11')"
      ]
     },
     "execution_count": 13,
     "metadata": {},
     "output_type": "execute_result"
    },
    {
     "data": {
      "text/plain": [
       "Text(1.0, 4, '4')"
      ]
     },
     "execution_count": 13,
     "metadata": {},
     "output_type": "execute_result"
    },
    {
     "data": {
      "text/plain": [
       "<AxesSubplot:>"
      ]
     },
     "execution_count": 13,
     "metadata": {},
     "output_type": "execute_result"
    },
    {
     "data": {
      "text/plain": [
       "([<matplotlib.patches.Wedge at 0x1f0d6a1fc10>,\n",
       "  <matplotlib.patches.Wedge at 0x1f0d6a11ca0>],\n",
       " [Text(-0.7360437078139774, 0.817459271271329, '0.0'),\n",
       "  Text(0.7360437843500347, -0.8174592023579401, '1.0')],\n",
       " [Text(-0.4014783860803513, 0.4458868752389067, '73.33%'),\n",
       "  Text(0.4014784278272916, -0.4458868376497855, '26.67%')])"
      ]
     },
     "execution_count": 13,
     "metadata": {},
     "output_type": "execute_result"
    },
    {
     "data": {
      "text/plain": [
       "Text(0.5, 1.0, 'Transported Cabin_E_VIP in %')"
      ]
     },
     "execution_count": 13,
     "metadata": {},
     "output_type": "execute_result"
    },
    {
     "data": {
      "image/png": "[encoded data removed]",
      "text/plain": [
       "<Figure size 936x288 with 2 Axes>"
      ]
     },
     "metadata": {
      "needs_background": "light"
     },
     "output_type": "display_data"
    }
   ],
   "source": [
    "### Cabin_E의 VIP중 생존률 \n",
    "plt.figure(figsize=(13,4))\n",
    "plt.subplot(121)\n",
    "sbn.barplot(x=CabinEVIP.Transported.unique(), y=CabinEVIP.Transported.value_counts())\n",
    "plt.title(\"Transported Cabin_E_VIP in counts\")\n",
    "for i, j in zip(CabinEVIP.Transported.unique(), CabinEVIP.Transported.value_counts()):\n",
    "    plt.annotate(str(j), xytext=(i, j), xy=(i, j))\n",
    "plt.subplot(122)\n",
    "plt.pie(CabinEVIP.Transported.value_counts(), labels=CabinEVIP.Transported.unique(), autopct='%.2f%%')\n",
    "plt.title(\"Transported Cabin_E_VIP in %\")\n",
    "plt.show()"
   ]
  },
  {
   "cell_type": "code",
   "execution_count": 14,
   "id": "aa8a0947",
   "metadata": {},
   "outputs": [
    {
     "data": {
      "text/plain": [
       "<Figure size 936x288 with 0 Axes>"
      ]
     },
     "execution_count": 14,
     "metadata": {},
     "output_type": "execute_result"
    },
    {
     "data": {
      "text/plain": [
       "<AxesSubplot:>"
      ]
     },
     "execution_count": 14,
     "metadata": {},
     "output_type": "execute_result"
    },
    {
     "data": {
      "text/plain": [
       "<AxesSubplot:ylabel='Transported'>"
      ]
     },
     "execution_count": 14,
     "metadata": {},
     "output_type": "execute_result"
    },
    {
     "data": {
      "text/plain": [
       "Text(0.5, 1.0, 'Transported Cabin_F_VIP in counts')"
      ]
     },
     "execution_count": 14,
     "metadata": {},
     "output_type": "execute_result"
    },
    {
     "data": {
      "text/plain": [
       "Text(0.0, 24, '24')"
      ]
     },
     "execution_count": 14,
     "metadata": {},
     "output_type": "execute_result"
    },
    {
     "data": {
      "text/plain": [
       "Text(1.0, 5, '5')"
      ]
     },
     "execution_count": 14,
     "metadata": {},
     "output_type": "execute_result"
    },
    {
     "data": {
      "text/plain": [
       "<AxesSubplot:>"
      ]
     },
     "execution_count": 14,
     "metadata": {},
     "output_type": "execute_result"
    },
    {
     "data": {
      "text/plain": [
       "([<matplotlib.patches.Wedge at 0x1f0d6ad6610>,\n",
       "  <matplotlib.patches.Wedge at 0x1f0d6ac7640>],\n",
       " [Text(-0.9425429413881926, 0.5671091637765117, '0.0'),\n",
       "  Text(0.94254299448478, -0.5671090755292707, '1.0')],\n",
       " [Text(-0.5141143316662868, 0.3093322711508245, '82.76%'),\n",
       "  Text(0.5141143606280617, -0.3093322230159658, '17.24%')])"
      ]
     },
     "execution_count": 14,
     "metadata": {},
     "output_type": "execute_result"
    },
    {
     "data": {
      "text/plain": [
       "Text(0.5, 1.0, 'Transported Cabin_F_VIP in %')"
      ]
     },
     "execution_count": 14,
     "metadata": {},
     "output_type": "execute_result"
    },
    {
     "data": {
      "image/png": "[encoded data removed]",
      "text/plain": [
       "<Figure size 936x288 with 2 Axes>"
      ]
     },
     "metadata": {
      "needs_background": "light"
     },
     "output_type": "display_data"
    }
   ],
   "source": [
    "### Cabin_F의 VIP중 생존률 \n",
    "plt.figure(figsize=(13,4))\n",
    "plt.subplot(121)\n",
    "sbn.barplot(x=CabinFVIP.Transported.unique(), y=CabinFVIP.Transported.value_counts())\n",
    "plt.title(\"Transported Cabin_F_VIP in counts\")\n",
    "for i, j in zip(CabinFVIP.Transported.unique(), CabinFVIP.Transported.value_counts()):\n",
    "    plt.annotate(str(j), xytext=(i, j), xy=(i, j))\n",
    "plt.subplot(122)\n",
    "plt.pie(CabinFVIP.Transported.value_counts(), labels=CabinFVIP.Transported.unique(), autopct='%.2f%%')\n",
    "plt.title(\"Transported Cabin_F_VIP in %\")\n",
    "plt.show()"
   ]
  },
  {
   "cell_type": "code",
   "execution_count": 16,
   "id": "7949d4a0",
   "metadata": {},
   "outputs": [
    {
     "data": {
      "text/plain": [
       "<Figure size 936x288 with 0 Axes>"
      ]
     },
     "execution_count": 16,
     "metadata": {},
     "output_type": "execute_result"
    },
    {
     "data": {
      "text/plain": [
       "<AxesSubplot:>"
      ]
     },
     "execution_count": 16,
     "metadata": {},
     "output_type": "execute_result"
    },
    {
     "ename": "ValueError",
     "evalue": "min() arg is an empty sequence",
     "output_type": "error",
     "traceback": [
      "\u001b[1;31m---------------------------------------------------------------------------\u001b[0m",
      "\u001b[1;31mValueError\u001b[0m                                Traceback (most recent call last)",
      "Input \u001b[1;32mIn [16]\u001b[0m, in \u001b[0;36m<cell line: 4>\u001b[1;34m()\u001b[0m\n\u001b[0;32m      2\u001b[0m plt\u001b[38;5;241m.\u001b[39mfigure(figsize\u001b[38;5;241m=\u001b[39m(\u001b[38;5;241m13\u001b[39m,\u001b[38;5;241m4\u001b[39m))\n\u001b[0;32m      3\u001b[0m plt\u001b[38;5;241m.\u001b[39msubplot(\u001b[38;5;241m121\u001b[39m)\n\u001b[1;32m----> 4\u001b[0m \u001b[43msbn\u001b[49m\u001b[38;5;241;43m.\u001b[39;49m\u001b[43mbarplot\u001b[49m\u001b[43m(\u001b[49m\u001b[43mx\u001b[49m\u001b[38;5;241;43m=\u001b[39;49m\u001b[43mCabinTVIP\u001b[49m\u001b[38;5;241;43m.\u001b[39;49m\u001b[43mTransported\u001b[49m\u001b[38;5;241;43m.\u001b[39;49m\u001b[43munique\u001b[49m\u001b[43m(\u001b[49m\u001b[43m)\u001b[49m\u001b[43m,\u001b[49m\u001b[43m \u001b[49m\u001b[43my\u001b[49m\u001b[38;5;241;43m=\u001b[39;49m\u001b[43mCabinTVIP\u001b[49m\u001b[38;5;241;43m.\u001b[39;49m\u001b[43mTransported\u001b[49m\u001b[38;5;241;43m.\u001b[39;49m\u001b[43mvalue_counts\u001b[49m\u001b[43m(\u001b[49m\u001b[43m)\u001b[49m\u001b[43m)\u001b[49m\n\u001b[0;32m      5\u001b[0m plt\u001b[38;5;241m.\u001b[39mtitle(\u001b[38;5;124m\"\u001b[39m\u001b[38;5;124mTransported Cabin_G_VIP in counts\u001b[39m\u001b[38;5;124m\"\u001b[39m)\n\u001b[0;32m      6\u001b[0m \u001b[38;5;28;01mfor\u001b[39;00m i, j \u001b[38;5;129;01min\u001b[39;00m \u001b[38;5;28mzip\u001b[39m(CabinTVIP\u001b[38;5;241m.\u001b[39mTransported\u001b[38;5;241m.\u001b[39munique(), CabinTVIP\u001b[38;5;241m.\u001b[39mTransported\u001b[38;5;241m.\u001b[39mvalue_counts()):\n",
      "File \u001b[1;32mC:\\Anaconda3\\lib\\site-packages\\seaborn\\_decorators.py:46\u001b[0m, in \u001b[0;36m_deprecate_positional_args.<locals>.inner_f\u001b[1;34m(*args, **kwargs)\u001b[0m\n\u001b[0;32m     36\u001b[0m     warnings\u001b[38;5;241m.\u001b[39mwarn(\n\u001b[0;32m     37\u001b[0m         \u001b[38;5;124m\"\u001b[39m\u001b[38;5;124mPass the following variable\u001b[39m\u001b[38;5;132;01m{}\u001b[39;00m\u001b[38;5;124m as \u001b[39m\u001b[38;5;132;01m{}\u001b[39;00m\u001b[38;5;124mkeyword arg\u001b[39m\u001b[38;5;132;01m{}\u001b[39;00m\u001b[38;5;124m: \u001b[39m\u001b[38;5;132;01m{}\u001b[39;00m\u001b[38;5;124m. \u001b[39m\u001b[38;5;124m\"\u001b[39m\n\u001b[0;32m     38\u001b[0m         \u001b[38;5;124m\"\u001b[39m\u001b[38;5;124mFrom version 0.12, the only valid positional argument \u001b[39m\u001b[38;5;124m\"\u001b[39m\n\u001b[1;32m   (...)\u001b[0m\n\u001b[0;32m     43\u001b[0m         \u001b[38;5;167;01mFutureWarning\u001b[39;00m\n\u001b[0;32m     44\u001b[0m     )\n\u001b[0;32m     45\u001b[0m kwargs\u001b[38;5;241m.\u001b[39mupdate({k: arg \u001b[38;5;28;01mfor\u001b[39;00m k, arg \u001b[38;5;129;01min\u001b[39;00m \u001b[38;5;28mzip\u001b[39m(sig\u001b[38;5;241m.\u001b[39mparameters, args)})\n\u001b[1;32m---> 46\u001b[0m \u001b[38;5;28;01mreturn\u001b[39;00m f(\u001b[38;5;241m*\u001b[39m\u001b[38;5;241m*\u001b[39mkwargs)\n",
      "File \u001b[1;32mC:\\Anaconda3\\lib\\site-packages\\seaborn\\categorical.py:3182\u001b[0m, in \u001b[0;36mbarplot\u001b[1;34m(x, y, hue, data, order, hue_order, estimator, ci, n_boot, units, seed, orient, color, palette, saturation, errcolor, errwidth, capsize, dodge, ax, **kwargs)\u001b[0m\n\u001b[0;32m   3169\u001b[0m \u001b[38;5;129m@_deprecate_positional_args\u001b[39m\n\u001b[0;32m   3170\u001b[0m \u001b[38;5;28;01mdef\u001b[39;00m \u001b[38;5;21mbarplot\u001b[39m(\n\u001b[0;32m   3171\u001b[0m     \u001b[38;5;241m*\u001b[39m,\n\u001b[1;32m   (...)\u001b[0m\n\u001b[0;32m   3179\u001b[0m     \u001b[38;5;241m*\u001b[39m\u001b[38;5;241m*\u001b[39mkwargs,\n\u001b[0;32m   3180\u001b[0m ):\n\u001b[1;32m-> 3182\u001b[0m     plotter \u001b[38;5;241m=\u001b[39m \u001b[43m_BarPlotter\u001b[49m\u001b[43m(\u001b[49m\u001b[43mx\u001b[49m\u001b[43m,\u001b[49m\u001b[43m \u001b[49m\u001b[43my\u001b[49m\u001b[43m,\u001b[49m\u001b[43m \u001b[49m\u001b[43mhue\u001b[49m\u001b[43m,\u001b[49m\u001b[43m \u001b[49m\u001b[43mdata\u001b[49m\u001b[43m,\u001b[49m\u001b[43m \u001b[49m\u001b[43morder\u001b[49m\u001b[43m,\u001b[49m\u001b[43m \u001b[49m\u001b[43mhue_order\u001b[49m\u001b[43m,\u001b[49m\n\u001b[0;32m   3183\u001b[0m \u001b[43m                          \u001b[49m\u001b[43mestimator\u001b[49m\u001b[43m,\u001b[49m\u001b[43m \u001b[49m\u001b[43mci\u001b[49m\u001b[43m,\u001b[49m\u001b[43m \u001b[49m\u001b[43mn_boot\u001b[49m\u001b[43m,\u001b[49m\u001b[43m \u001b[49m\u001b[43munits\u001b[49m\u001b[43m,\u001b[49m\u001b[43m \u001b[49m\u001b[43mseed\u001b[49m\u001b[43m,\u001b[49m\n\u001b[0;32m   3184\u001b[0m \u001b[43m                          \u001b[49m\u001b[43morient\u001b[49m\u001b[43m,\u001b[49m\u001b[43m \u001b[49m\u001b[43mcolor\u001b[49m\u001b[43m,\u001b[49m\u001b[43m \u001b[49m\u001b[43mpalette\u001b[49m\u001b[43m,\u001b[49m\u001b[43m \u001b[49m\u001b[43msaturation\u001b[49m\u001b[43m,\u001b[49m\n\u001b[0;32m   3185\u001b[0m \u001b[43m                          \u001b[49m\u001b[43merrcolor\u001b[49m\u001b[43m,\u001b[49m\u001b[43m \u001b[49m\u001b[43merrwidth\u001b[49m\u001b[43m,\u001b[49m\u001b[43m \u001b[49m\u001b[43mcapsize\u001b[49m\u001b[43m,\u001b[49m\u001b[43m \u001b[49m\u001b[43mdodge\u001b[49m\u001b[43m)\u001b[49m\n\u001b[0;32m   3187\u001b[0m     \u001b[38;5;28;01mif\u001b[39;00m ax \u001b[38;5;129;01mis\u001b[39;00m \u001b[38;5;28;01mNone\u001b[39;00m:\n\u001b[0;32m   3188\u001b[0m         ax \u001b[38;5;241m=\u001b[39m plt\u001b[38;5;241m.\u001b[39mgca()\n",
      "File \u001b[1;32mC:\\Anaconda3\\lib\\site-packages\\seaborn\\categorical.py:1586\u001b[0m, in \u001b[0;36m_BarPlotter.__init__\u001b[1;34m(self, x, y, hue, data, order, hue_order, estimator, ci, n_boot, units, seed, orient, color, palette, saturation, errcolor, errwidth, capsize, dodge)\u001b[0m\n\u001b[0;32m   1583\u001b[0m \u001b[38;5;124;03m\"\"\"Initialize the plotter.\"\"\"\u001b[39;00m\n\u001b[0;32m   1584\u001b[0m \u001b[38;5;28mself\u001b[39m\u001b[38;5;241m.\u001b[39mestablish_variables(x, y, hue, data, orient,\n\u001b[0;32m   1585\u001b[0m                          order, hue_order, units)\n\u001b[1;32m-> 1586\u001b[0m \u001b[38;5;28;43mself\u001b[39;49m\u001b[38;5;241;43m.\u001b[39;49m\u001b[43mestablish_colors\u001b[49m\u001b[43m(\u001b[49m\u001b[43mcolor\u001b[49m\u001b[43m,\u001b[49m\u001b[43m \u001b[49m\u001b[43mpalette\u001b[49m\u001b[43m,\u001b[49m\u001b[43m \u001b[49m\u001b[43msaturation\u001b[49m\u001b[43m)\u001b[49m\n\u001b[0;32m   1587\u001b[0m \u001b[38;5;28mself\u001b[39m\u001b[38;5;241m.\u001b[39mestimate_statistic(estimator, ci, n_boot, seed)\n\u001b[0;32m   1589\u001b[0m \u001b[38;5;28mself\u001b[39m\u001b[38;5;241m.\u001b[39mdodge \u001b[38;5;241m=\u001b[39m dodge\n",
      "File \u001b[1;32mC:\\Anaconda3\\lib\\site-packages\\seaborn\\categorical.py:319\u001b[0m, in \u001b[0;36m_CategoricalPlotter.establish_colors\u001b[1;34m(self, color, palette, saturation)\u001b[0m\n\u001b[0;32m    317\u001b[0m \u001b[38;5;66;03m# Determine the gray color to use for the lines framing the plot\u001b[39;00m\n\u001b[0;32m    318\u001b[0m light_vals \u001b[38;5;241m=\u001b[39m [colorsys\u001b[38;5;241m.\u001b[39mrgb_to_hls(\u001b[38;5;241m*\u001b[39mc)[\u001b[38;5;241m1\u001b[39m] \u001b[38;5;28;01mfor\u001b[39;00m c \u001b[38;5;129;01min\u001b[39;00m rgb_colors]\n\u001b[1;32m--> 319\u001b[0m lum \u001b[38;5;241m=\u001b[39m \u001b[38;5;28;43mmin\u001b[39;49m\u001b[43m(\u001b[49m\u001b[43mlight_vals\u001b[49m\u001b[43m)\u001b[49m \u001b[38;5;241m*\u001b[39m \u001b[38;5;241m.6\u001b[39m\n\u001b[0;32m    320\u001b[0m gray \u001b[38;5;241m=\u001b[39m mpl\u001b[38;5;241m.\u001b[39mcolors\u001b[38;5;241m.\u001b[39mrgb2hex((lum, lum, lum))\n\u001b[0;32m    322\u001b[0m \u001b[38;5;66;03m# Assign object attributes\u001b[39;00m\n",
      "\u001b[1;31mValueError\u001b[0m: min() arg is an empty sequence"
     ]
    },
    {
     "data": {
      "image/png": "[encoded data removed]",
      "text/plain": [
       "<Figure size 936x288 with 1 Axes>"
      ]
     },
     "metadata": {
      "needs_background": "light"
     },
     "output_type": "display_data"
    }
   ],
   "source": [
    "### Cabin_T의 VIP중 생존률 \n",
    "plt.figure(figsize=(13,4))\n",
    "plt.subplot(121)\n",
    "sbn.barplot(x=CabinTVIP.Transported.unique(), y=CabinTVIP.Transported.value_counts())\n",
    "plt.title(\"Transported Cabin_G_VIP in counts\")\n",
    "for i, j in zip(CabinTVIP.Transported.unique(), CabinTVIP.Transported.value_counts()):\n",
    "    plt.annotate(str(j), xytext=(i, j), xy=(i, j))\n",
    "plt.subplot(122)\n",
    "plt.pie(CabinTVIP.Transported.value_counts(), labels=CabinTVIP.Transported.unique(), autopct='%.2f%%')\n",
    "plt.title(\"Transported Cabin_G_VIP in %\")\n",
    "plt.show()"
   ]
  },
  {
   "cell_type": "code",
   "execution_count": null,
   "id": "7d12e1a8",
   "metadata": {},
   "outputs": [],
   "source": []
  }
 ],
 "metadata": {
  "kernelspec": {
   "display_name": "Python 3 (ipykernel)",
   "language": "python",
   "name": "python3"
  },
  "language_info": {
   "codemirror_mode": {
    "name": "ipython",
    "version": 3
   },
   "file_extension": ".py",
   "mimetype": "text/x-python",
   "name": "python",
   "nbconvert_exporter": "python",
   "pygments_lexer": "ipython3",
   "version": "3.9.12"
  }
 },
 "nbformat": 4,
 "nbformat_minor": 5
}
